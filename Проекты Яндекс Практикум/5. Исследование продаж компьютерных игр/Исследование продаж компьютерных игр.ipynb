{
 "cells": [
  {
   "cell_type": "markdown",
   "metadata": {},
   "source": [
    "# Исследование продаж компьютерных игр\n",
    "\n",
    "**Описание проекта:**\n",
    "\n",
    "Мы работаем в интернет-магазине «Стримчик», который продаёт по всему миру компьютерные игры. Из открытых источников доступны исторические данные о продажах игр, оценки пользователей и экспертов, жанры и платформы (например, Xbox или PlayStation). Нам нужно выявить определяющие успешность игры закономерности. Это позволит сделать ставку на потенциально популярный продукт и спланировать рекламные кампании. Перед нами данные до 2016 года. Представим, что сейчас декабрь 2016 г., и мы планируете кампанию на 2017-й. Нужно отработать принцип работы с данными. Не важно, прогнозируем ли мы продажи на 2017 год по данным 2016-го или же 2027-й — по данным 2026 года.\n",
    "\n",
    "**Описание данных \"games.csv\":**\n",
    "\n",
    "* Name — название игры\n",
    "* Platform — платформа\n",
    "* Year_of_Release — год выпуска\n",
    "* Genre — жанр игры\n",
    "* NA_sales — продажи в Северной Америке (миллионы проданных копий)\n",
    "* EU_sales — продажи в Европе (миллионы проданных копий)\n",
    "* JP_sales — продажи в Японии (миллионы проданных копий)\n",
    "* Other_sales — продажи в других странах (миллионы проданных копий)\n",
    "* Critic_Score — оценка критиков (максимум 100)\n",
    "* User_Score — оценка пользователей (максимум 10)\n",
    "* Rating — рейтинг от организации ESRB (англ. Entertainment Software Rating Board). Эта ассоциация определяет рейтинг компьютерных игр и присваивает им подходящую возрастную категорию.\n",
    "\n",
    "Данные за 2016 год могут быть неполными."
   ]
  },
  {
   "cell_type": "markdown",
   "metadata": {},
   "source": [
    "## Изучение данных\n",
    "\n",
    "Сначала импортируем необходимые библиотеки:"
   ]
  },
  {
   "cell_type": "code",
   "execution_count": 1,
   "metadata": {},
   "outputs": [],
   "source": [
    "import pandas as pd\n",
    "import numpy as np\n",
    "from scipy import stats as st\n",
    "import seaborn as sns\n",
    "from matplotlib import pyplot as plt"
   ]
  },
  {
   "cell_type": "markdown",
   "metadata": {},
   "source": [
    "Загрузим датасет:"
   ]
  },
  {
   "cell_type": "code",
   "execution_count": 2,
   "metadata": {},
   "outputs": [],
   "source": [
    "games = pd.read_csv('games.csv')"
   ]
  },
  {
   "cell_type": "markdown",
   "metadata": {},
   "source": [
    "Осмотрим датасет и информацию о нем:"
   ]
  },
  {
   "cell_type": "code",
   "execution_count": 3,
   "metadata": {},
   "outputs": [
    {
     "data": {
      "text/html": [
       "<div>\n",
       "<style scoped>\n",
       "    .dataframe tbody tr th:only-of-type {\n",
       "        vertical-align: middle;\n",
       "    }\n",
       "\n",
       "    .dataframe tbody tr th {\n",
       "        vertical-align: top;\n",
       "    }\n",
       "\n",
       "    .dataframe thead th {\n",
       "        text-align: right;\n",
       "    }\n",
       "</style>\n",
       "<table border=\"1\" class=\"dataframe\">\n",
       "  <thead>\n",
       "    <tr style=\"text-align: right;\">\n",
       "      <th></th>\n",
       "      <th>Name</th>\n",
       "      <th>Platform</th>\n",
       "      <th>Year_of_Release</th>\n",
       "      <th>Genre</th>\n",
       "      <th>NA_sales</th>\n",
       "      <th>EU_sales</th>\n",
       "      <th>JP_sales</th>\n",
       "      <th>Other_sales</th>\n",
       "      <th>Critic_Score</th>\n",
       "      <th>User_Score</th>\n",
       "      <th>Rating</th>\n",
       "    </tr>\n",
       "  </thead>\n",
       "  <tbody>\n",
       "    <tr>\n",
       "      <th>0</th>\n",
       "      <td>Wii Sports</td>\n",
       "      <td>Wii</td>\n",
       "      <td>2006.0</td>\n",
       "      <td>Sports</td>\n",
       "      <td>41.36</td>\n",
       "      <td>28.96</td>\n",
       "      <td>3.77</td>\n",
       "      <td>8.45</td>\n",
       "      <td>76.0</td>\n",
       "      <td>8</td>\n",
       "      <td>E</td>\n",
       "    </tr>\n",
       "    <tr>\n",
       "      <th>1</th>\n",
       "      <td>Super Mario Bros.</td>\n",
       "      <td>NES</td>\n",
       "      <td>1985.0</td>\n",
       "      <td>Platform</td>\n",
       "      <td>29.08</td>\n",
       "      <td>3.58</td>\n",
       "      <td>6.81</td>\n",
       "      <td>0.77</td>\n",
       "      <td>NaN</td>\n",
       "      <td>NaN</td>\n",
       "      <td>NaN</td>\n",
       "    </tr>\n",
       "    <tr>\n",
       "      <th>2</th>\n",
       "      <td>Mario Kart Wii</td>\n",
       "      <td>Wii</td>\n",
       "      <td>2008.0</td>\n",
       "      <td>Racing</td>\n",
       "      <td>15.68</td>\n",
       "      <td>12.76</td>\n",
       "      <td>3.79</td>\n",
       "      <td>3.29</td>\n",
       "      <td>82.0</td>\n",
       "      <td>8.3</td>\n",
       "      <td>E</td>\n",
       "    </tr>\n",
       "    <tr>\n",
       "      <th>3</th>\n",
       "      <td>Wii Sports Resort</td>\n",
       "      <td>Wii</td>\n",
       "      <td>2009.0</td>\n",
       "      <td>Sports</td>\n",
       "      <td>15.61</td>\n",
       "      <td>10.93</td>\n",
       "      <td>3.28</td>\n",
       "      <td>2.95</td>\n",
       "      <td>80.0</td>\n",
       "      <td>8</td>\n",
       "      <td>E</td>\n",
       "    </tr>\n",
       "    <tr>\n",
       "      <th>4</th>\n",
       "      <td>Pokemon Red/Pokemon Blue</td>\n",
       "      <td>GB</td>\n",
       "      <td>1996.0</td>\n",
       "      <td>Role-Playing</td>\n",
       "      <td>11.27</td>\n",
       "      <td>8.89</td>\n",
       "      <td>10.22</td>\n",
       "      <td>1.00</td>\n",
       "      <td>NaN</td>\n",
       "      <td>NaN</td>\n",
       "      <td>NaN</td>\n",
       "    </tr>\n",
       "    <tr>\n",
       "      <th>5</th>\n",
       "      <td>Tetris</td>\n",
       "      <td>GB</td>\n",
       "      <td>1989.0</td>\n",
       "      <td>Puzzle</td>\n",
       "      <td>23.20</td>\n",
       "      <td>2.26</td>\n",
       "      <td>4.22</td>\n",
       "      <td>0.58</td>\n",
       "      <td>NaN</td>\n",
       "      <td>NaN</td>\n",
       "      <td>NaN</td>\n",
       "    </tr>\n",
       "    <tr>\n",
       "      <th>6</th>\n",
       "      <td>New Super Mario Bros.</td>\n",
       "      <td>DS</td>\n",
       "      <td>2006.0</td>\n",
       "      <td>Platform</td>\n",
       "      <td>11.28</td>\n",
       "      <td>9.14</td>\n",
       "      <td>6.50</td>\n",
       "      <td>2.88</td>\n",
       "      <td>89.0</td>\n",
       "      <td>8.5</td>\n",
       "      <td>E</td>\n",
       "    </tr>\n",
       "    <tr>\n",
       "      <th>7</th>\n",
       "      <td>Wii Play</td>\n",
       "      <td>Wii</td>\n",
       "      <td>2006.0</td>\n",
       "      <td>Misc</td>\n",
       "      <td>13.96</td>\n",
       "      <td>9.18</td>\n",
       "      <td>2.93</td>\n",
       "      <td>2.84</td>\n",
       "      <td>58.0</td>\n",
       "      <td>6.6</td>\n",
       "      <td>E</td>\n",
       "    </tr>\n",
       "    <tr>\n",
       "      <th>8</th>\n",
       "      <td>New Super Mario Bros. Wii</td>\n",
       "      <td>Wii</td>\n",
       "      <td>2009.0</td>\n",
       "      <td>Platform</td>\n",
       "      <td>14.44</td>\n",
       "      <td>6.94</td>\n",
       "      <td>4.70</td>\n",
       "      <td>2.24</td>\n",
       "      <td>87.0</td>\n",
       "      <td>8.4</td>\n",
       "      <td>E</td>\n",
       "    </tr>\n",
       "    <tr>\n",
       "      <th>9</th>\n",
       "      <td>Duck Hunt</td>\n",
       "      <td>NES</td>\n",
       "      <td>1984.0</td>\n",
       "      <td>Shooter</td>\n",
       "      <td>26.93</td>\n",
       "      <td>0.63</td>\n",
       "      <td>0.28</td>\n",
       "      <td>0.47</td>\n",
       "      <td>NaN</td>\n",
       "      <td>NaN</td>\n",
       "      <td>NaN</td>\n",
       "    </tr>\n",
       "  </tbody>\n",
       "</table>\n",
       "</div>"
      ],
      "text/plain": [
       "                        Name Platform  Year_of_Release         Genre  \\\n",
       "0                 Wii Sports      Wii           2006.0        Sports   \n",
       "1          Super Mario Bros.      NES           1985.0      Platform   \n",
       "2             Mario Kart Wii      Wii           2008.0        Racing   \n",
       "3          Wii Sports Resort      Wii           2009.0        Sports   \n",
       "4   Pokemon Red/Pokemon Blue       GB           1996.0  Role-Playing   \n",
       "5                     Tetris       GB           1989.0        Puzzle   \n",
       "6      New Super Mario Bros.       DS           2006.0      Platform   \n",
       "7                   Wii Play      Wii           2006.0          Misc   \n",
       "8  New Super Mario Bros. Wii      Wii           2009.0      Platform   \n",
       "9                  Duck Hunt      NES           1984.0       Shooter   \n",
       "\n",
       "   NA_sales  EU_sales  JP_sales  Other_sales  Critic_Score User_Score Rating  \n",
       "0     41.36     28.96      3.77         8.45          76.0          8      E  \n",
       "1     29.08      3.58      6.81         0.77           NaN        NaN    NaN  \n",
       "2     15.68     12.76      3.79         3.29          82.0        8.3      E  \n",
       "3     15.61     10.93      3.28         2.95          80.0          8      E  \n",
       "4     11.27      8.89     10.22         1.00           NaN        NaN    NaN  \n",
       "5     23.20      2.26      4.22         0.58           NaN        NaN    NaN  \n",
       "6     11.28      9.14      6.50         2.88          89.0        8.5      E  \n",
       "7     13.96      9.18      2.93         2.84          58.0        6.6      E  \n",
       "8     14.44      6.94      4.70         2.24          87.0        8.4      E  \n",
       "9     26.93      0.63      0.28         0.47           NaN        NaN    NaN  "
      ]
     },
     "execution_count": 3,
     "metadata": {},
     "output_type": "execute_result"
    }
   ],
   "source": [
    "games.head(10)"
   ]
  },
  {
   "cell_type": "code",
   "execution_count": 4,
   "metadata": {},
   "outputs": [
    {
     "name": "stdout",
     "output_type": "stream",
     "text": [
      "<class 'pandas.core.frame.DataFrame'>\n",
      "RangeIndex: 16715 entries, 0 to 16714\n",
      "Data columns (total 11 columns):\n",
      " #   Column           Non-Null Count  Dtype  \n",
      "---  ------           --------------  -----  \n",
      " 0   Name             16713 non-null  object \n",
      " 1   Platform         16715 non-null  object \n",
      " 2   Year_of_Release  16446 non-null  float64\n",
      " 3   Genre            16713 non-null  object \n",
      " 4   NA_sales         16715 non-null  float64\n",
      " 5   EU_sales         16715 non-null  float64\n",
      " 6   JP_sales         16715 non-null  float64\n",
      " 7   Other_sales      16715 non-null  float64\n",
      " 8   Critic_Score     8137 non-null   float64\n",
      " 9   User_Score       10014 non-null  object \n",
      " 10  Rating           9949 non-null   object \n",
      "dtypes: float64(6), object(5)\n",
      "memory usage: 1.4+ MB\n"
     ]
    }
   ],
   "source": [
    "games.info()"
   ]
  },
  {
   "cell_type": "markdown",
   "metadata": {},
   "source": [
    "**Выводы:**\n",
    "\n",
    "Мы изучили данные и нашли следующие ошибки и аномалии:\n",
    "\n",
    "1. Названия столбцов написаны в разных регистрах.\n",
    "2. Столбец Year_of_Release - требуется поменять тип данных на int.\n",
    "3. Столбец User_Score - требуется поменять тип данных на вещественный.\n",
    "4. Обнаружены пропуски в столбцах: Name, Year_of_Release, Genre, Critic_Score, User_Score и Rating."
   ]
  },
  {
   "cell_type": "markdown",
   "metadata": {},
   "source": [
    "## Предобработка данных\n",
    "\n",
    "Приступим к подготовке данных для дальнейшего анализа.\n",
    "\n",
    "Начнем с того, что приведем названия столбцов к нижнему регистру."
   ]
  },
  {
   "cell_type": "code",
   "execution_count": 5,
   "metadata": {},
   "outputs": [],
   "source": [
    "games.columns = games.columns.str.lower()"
   ]
  },
  {
   "cell_type": "markdown",
   "metadata": {},
   "source": [
    "Поменяем тип данных в столбце year_of_release:"
   ]
  },
  {
   "cell_type": "code",
   "execution_count": 6,
   "metadata": {},
   "outputs": [],
   "source": [
    "games['year_of_release'] = games['year_of_release'].astype('Int64')"
   ]
  },
  {
   "cell_type": "markdown",
   "metadata": {},
   "source": [
    "Повнимательнее посмотрим, какие значения есть в столбце user_score:"
   ]
  },
  {
   "cell_type": "code",
   "execution_count": 7,
   "metadata": {
    "scrolled": true
   },
   "outputs": [
    {
     "data": {
      "text/plain": [
       "NaN    6701\n",
       "tbd    2424\n",
       "7.8     324\n",
       "8       290\n",
       "8.2     282\n",
       "       ... \n",
       "1.1       2\n",
       "1.9       2\n",
       "9.6       2\n",
       "0         1\n",
       "9.7       1\n",
       "Name: user_score, Length: 97, dtype: int64"
      ]
     },
     "execution_count": 7,
     "metadata": {},
     "output_type": "execute_result"
    }
   ],
   "source": [
    "games['user_score'].value_counts(dropna=False)"
   ]
  },
  {
   "cell_type": "markdown",
   "metadata": {},
   "source": [
    "Мы наблюдаем здесь странное значение tbd. В геймдеве это обозначает \"To Be Determined\" - \"Еще Не Определено\". Эта абревиатура равноценна пустому значению, потому мы можем спокойно заменить ее на NaN."
   ]
  },
  {
   "cell_type": "code",
   "execution_count": 8,
   "metadata": {},
   "outputs": [],
   "source": [
    "games['user_score'] = games['user_score'].replace('tbd', np.nan, regex=True)"
   ]
  },
  {
   "cell_type": "markdown",
   "metadata": {},
   "source": [
    "Теперь нам ничего не мешает поменять тип данных в столбце user_score на вещественный:"
   ]
  },
  {
   "cell_type": "code",
   "execution_count": 9,
   "metadata": {},
   "outputs": [],
   "source": [
    "games['user_score'] = games['user_score'].astype('float64')"
   ]
  },
  {
   "cell_type": "markdown",
   "metadata": {},
   "source": [
    "Теперь обработаем пропуски.\n",
    "\n",
    "Сначала столбец year_of_release.\n",
    "\n",
    "Посмотрим, сколько здесь пропусков."
   ]
  },
  {
   "cell_type": "code",
   "execution_count": 10,
   "metadata": {},
   "outputs": [
    {
     "data": {
      "text/plain": [
       "269"
      ]
     },
     "execution_count": 10,
     "metadata": {},
     "output_type": "execute_result"
    }
   ],
   "source": [
    "games['year_of_release'].isnull().sum()"
   ]
  },
  {
   "cell_type": "markdown",
   "metadata": {},
   "source": [
    "Причина присутствия пропусков в столбце о дате выхода игры не совсем понятна. В виду их маленького количества, их можно свести к человеческому фактору. Может быть просто забыли внести.  \n",
    "\n",
    "Можно предположить, что некоторые игры с неуказанным годом выпускались и на других платформах, где год выпуска указан. Стоит проверить. \n",
    "\n",
    "Посмотрим список игр с пустыми значениями года выпуска:"
   ]
  },
  {
   "cell_type": "code",
   "execution_count": 11,
   "metadata": {},
   "outputs": [
    {
     "data": {
      "text/html": [
       "<div>\n",
       "<style scoped>\n",
       "    .dataframe tbody tr th:only-of-type {\n",
       "        vertical-align: middle;\n",
       "    }\n",
       "\n",
       "    .dataframe tbody tr th {\n",
       "        vertical-align: top;\n",
       "    }\n",
       "\n",
       "    .dataframe thead th {\n",
       "        text-align: right;\n",
       "    }\n",
       "</style>\n",
       "<table border=\"1\" class=\"dataframe\">\n",
       "  <thead>\n",
       "    <tr style=\"text-align: right;\">\n",
       "      <th></th>\n",
       "      <th>name</th>\n",
       "      <th>platform</th>\n",
       "      <th>year_of_release</th>\n",
       "      <th>genre</th>\n",
       "      <th>na_sales</th>\n",
       "      <th>eu_sales</th>\n",
       "      <th>jp_sales</th>\n",
       "      <th>other_sales</th>\n",
       "      <th>critic_score</th>\n",
       "      <th>user_score</th>\n",
       "      <th>rating</th>\n",
       "    </tr>\n",
       "  </thead>\n",
       "  <tbody>\n",
       "    <tr>\n",
       "      <th>183</th>\n",
       "      <td>Madden NFL 2004</td>\n",
       "      <td>PS2</td>\n",
       "      <td>&lt;NA&gt;</td>\n",
       "      <td>Sports</td>\n",
       "      <td>4.26</td>\n",
       "      <td>0.26</td>\n",
       "      <td>0.01</td>\n",
       "      <td>0.71</td>\n",
       "      <td>94.0</td>\n",
       "      <td>8.5</td>\n",
       "      <td>E</td>\n",
       "    </tr>\n",
       "    <tr>\n",
       "      <th>377</th>\n",
       "      <td>FIFA Soccer 2004</td>\n",
       "      <td>PS2</td>\n",
       "      <td>&lt;NA&gt;</td>\n",
       "      <td>Sports</td>\n",
       "      <td>0.59</td>\n",
       "      <td>2.36</td>\n",
       "      <td>0.04</td>\n",
       "      <td>0.51</td>\n",
       "      <td>84.0</td>\n",
       "      <td>6.4</td>\n",
       "      <td>E</td>\n",
       "    </tr>\n",
       "    <tr>\n",
       "      <th>456</th>\n",
       "      <td>LEGO Batman: The Videogame</td>\n",
       "      <td>Wii</td>\n",
       "      <td>&lt;NA&gt;</td>\n",
       "      <td>Action</td>\n",
       "      <td>1.80</td>\n",
       "      <td>0.97</td>\n",
       "      <td>0.00</td>\n",
       "      <td>0.29</td>\n",
       "      <td>74.0</td>\n",
       "      <td>7.9</td>\n",
       "      <td>E10+</td>\n",
       "    </tr>\n",
       "    <tr>\n",
       "      <th>475</th>\n",
       "      <td>wwe Smackdown vs. Raw 2006</td>\n",
       "      <td>PS2</td>\n",
       "      <td>&lt;NA&gt;</td>\n",
       "      <td>Fighting</td>\n",
       "      <td>1.57</td>\n",
       "      <td>1.02</td>\n",
       "      <td>0.00</td>\n",
       "      <td>0.41</td>\n",
       "      <td>NaN</td>\n",
       "      <td>NaN</td>\n",
       "      <td>NaN</td>\n",
       "    </tr>\n",
       "    <tr>\n",
       "      <th>609</th>\n",
       "      <td>Space Invaders</td>\n",
       "      <td>2600</td>\n",
       "      <td>&lt;NA&gt;</td>\n",
       "      <td>Shooter</td>\n",
       "      <td>2.36</td>\n",
       "      <td>0.14</td>\n",
       "      <td>0.00</td>\n",
       "      <td>0.03</td>\n",
       "      <td>NaN</td>\n",
       "      <td>NaN</td>\n",
       "      <td>NaN</td>\n",
       "    </tr>\n",
       "  </tbody>\n",
       "</table>\n",
       "</div>"
      ],
      "text/plain": [
       "                           name platform  year_of_release     genre  na_sales  \\\n",
       "183             Madden NFL 2004      PS2             <NA>    Sports      4.26   \n",
       "377            FIFA Soccer 2004      PS2             <NA>    Sports      0.59   \n",
       "456  LEGO Batman: The Videogame      Wii             <NA>    Action      1.80   \n",
       "475  wwe Smackdown vs. Raw 2006      PS2             <NA>  Fighting      1.57   \n",
       "609              Space Invaders     2600             <NA>   Shooter      2.36   \n",
       "\n",
       "     eu_sales  jp_sales  other_sales  critic_score  user_score rating  \n",
       "183      0.26      0.01         0.71          94.0         8.5      E  \n",
       "377      2.36      0.04         0.51          84.0         6.4      E  \n",
       "456      0.97      0.00         0.29          74.0         7.9   E10+  \n",
       "475      1.02      0.00         0.41           NaN         NaN    NaN  \n",
       "609      0.14      0.00         0.03           NaN         NaN    NaN  "
      ]
     },
     "execution_count": 11,
     "metadata": {},
     "output_type": "execute_result"
    }
   ],
   "source": [
    "games[games['year_of_release'].isnull()].head(5)"
   ]
  },
  {
   "cell_type": "markdown",
   "metadata": {},
   "source": [
    "Возьмем первую игру в списке, и проверим наше предположение:"
   ]
  },
  {
   "cell_type": "code",
   "execution_count": 12,
   "metadata": {},
   "outputs": [
    {
     "data": {
      "text/html": [
       "<div>\n",
       "<style scoped>\n",
       "    .dataframe tbody tr th:only-of-type {\n",
       "        vertical-align: middle;\n",
       "    }\n",
       "\n",
       "    .dataframe tbody tr th {\n",
       "        vertical-align: top;\n",
       "    }\n",
       "\n",
       "    .dataframe thead th {\n",
       "        text-align: right;\n",
       "    }\n",
       "</style>\n",
       "<table border=\"1\" class=\"dataframe\">\n",
       "  <thead>\n",
       "    <tr style=\"text-align: right;\">\n",
       "      <th></th>\n",
       "      <th>name</th>\n",
       "      <th>platform</th>\n",
       "      <th>year_of_release</th>\n",
       "      <th>genre</th>\n",
       "      <th>na_sales</th>\n",
       "      <th>eu_sales</th>\n",
       "      <th>jp_sales</th>\n",
       "      <th>other_sales</th>\n",
       "      <th>critic_score</th>\n",
       "      <th>user_score</th>\n",
       "      <th>rating</th>\n",
       "    </tr>\n",
       "  </thead>\n",
       "  <tbody>\n",
       "    <tr>\n",
       "      <th>183</th>\n",
       "      <td>Madden NFL 2004</td>\n",
       "      <td>PS2</td>\n",
       "      <td>&lt;NA&gt;</td>\n",
       "      <td>Sports</td>\n",
       "      <td>4.26</td>\n",
       "      <td>0.26</td>\n",
       "      <td>0.01</td>\n",
       "      <td>0.71</td>\n",
       "      <td>94.0</td>\n",
       "      <td>8.5</td>\n",
       "      <td>E</td>\n",
       "    </tr>\n",
       "    <tr>\n",
       "      <th>1881</th>\n",
       "      <td>Madden NFL 2004</td>\n",
       "      <td>XB</td>\n",
       "      <td>2003</td>\n",
       "      <td>Sports</td>\n",
       "      <td>1.02</td>\n",
       "      <td>0.02</td>\n",
       "      <td>0.00</td>\n",
       "      <td>0.05</td>\n",
       "      <td>92.0</td>\n",
       "      <td>8.3</td>\n",
       "      <td>E</td>\n",
       "    </tr>\n",
       "    <tr>\n",
       "      <th>3889</th>\n",
       "      <td>Madden NFL 2004</td>\n",
       "      <td>GC</td>\n",
       "      <td>2003</td>\n",
       "      <td>Sports</td>\n",
       "      <td>0.40</td>\n",
       "      <td>0.10</td>\n",
       "      <td>0.00</td>\n",
       "      <td>0.01</td>\n",
       "      <td>94.0</td>\n",
       "      <td>7.7</td>\n",
       "      <td>E</td>\n",
       "    </tr>\n",
       "    <tr>\n",
       "      <th>5708</th>\n",
       "      <td>Madden NFL 2004</td>\n",
       "      <td>GBA</td>\n",
       "      <td>2003</td>\n",
       "      <td>Sports</td>\n",
       "      <td>0.22</td>\n",
       "      <td>0.08</td>\n",
       "      <td>0.00</td>\n",
       "      <td>0.01</td>\n",
       "      <td>70.0</td>\n",
       "      <td>6.6</td>\n",
       "      <td>E</td>\n",
       "    </tr>\n",
       "  </tbody>\n",
       "</table>\n",
       "</div>"
      ],
      "text/plain": [
       "                 name platform  year_of_release   genre  na_sales  eu_sales  \\\n",
       "183   Madden NFL 2004      PS2             <NA>  Sports      4.26      0.26   \n",
       "1881  Madden NFL 2004       XB             2003  Sports      1.02      0.02   \n",
       "3889  Madden NFL 2004       GC             2003  Sports      0.40      0.10   \n",
       "5708  Madden NFL 2004      GBA             2003  Sports      0.22      0.08   \n",
       "\n",
       "      jp_sales  other_sales  critic_score  user_score rating  \n",
       "183       0.01         0.71          94.0         8.5      E  \n",
       "1881      0.00         0.05          92.0         8.3      E  \n",
       "3889      0.00         0.01          94.0         7.7      E  \n",
       "5708      0.00         0.01          70.0         6.6      E  "
      ]
     },
     "execution_count": 12,
     "metadata": {},
     "output_type": "execute_result"
    }
   ],
   "source": [
    "games.query('name == \"Madden NFL 2004\"')"
   ]
  },
  {
   "cell_type": "markdown",
   "metadata": {},
   "source": [
    "Предположение подтвердилось. С помощью цикла подставим год выпуска для других подобных игр:"
   ]
  },
  {
   "cell_type": "code",
   "execution_count": 13,
   "metadata": {},
   "outputs": [],
   "source": [
    "for i in games[games['year_of_release'].isnull() == True].index:  \n",
    "    games['year_of_release'][i] = games.loc[games['name'] == games['name'][i], 'year_of_release'].max()"
   ]
  },
  {
   "cell_type": "markdown",
   "metadata": {},
   "source": [
    "Посмотрим, сколько пустых значений осталось после цикла:"
   ]
  },
  {
   "cell_type": "code",
   "execution_count": 14,
   "metadata": {
    "scrolled": true
   },
   "outputs": [
    {
     "data": {
      "text/plain": [
       "146"
      ]
     },
     "execution_count": 14,
     "metadata": {},
     "output_type": "execute_result"
    }
   ],
   "source": [
    "games['year_of_release'].isnull().sum()"
   ]
  },
  {
   "cell_type": "markdown",
   "metadata": {},
   "source": [
    "Все пропуски таким образом заполнить не удалось. В виду их маленького числа, мы можем оставшиеся строки просто удалить из таблицы:"
   ]
  },
  {
   "cell_type": "code",
   "execution_count": 15,
   "metadata": {},
   "outputs": [],
   "source": [
    "games = games.dropna(subset=['year_of_release']).reset_index(drop=True)"
   ]
  },
  {
   "cell_type": "markdown",
   "metadata": {},
   "source": [
    "Теперь осмотрим столбцы critic_score и user_score."
   ]
  },
  {
   "cell_type": "code",
   "execution_count": 16,
   "metadata": {},
   "outputs": [
    {
     "data": {
      "text/plain": [
       "count    8075.000000\n",
       "mean       68.991950\n",
       "std        13.923383\n",
       "min        13.000000\n",
       "25%        60.000000\n",
       "50%        71.000000\n",
       "75%        79.000000\n",
       "max        98.000000\n",
       "Name: critic_score, dtype: float64"
      ]
     },
     "execution_count": 16,
     "metadata": {},
     "output_type": "execute_result"
    }
   ],
   "source": [
    "games['critic_score'].describe()"
   ]
  },
  {
   "cell_type": "code",
   "execution_count": 17,
   "metadata": {
    "scrolled": false
   },
   "outputs": [
    {
     "data": {
      "text/plain": [
       "count    7540.000000\n",
       "mean        7.125027\n",
       "std         1.498254\n",
       "min         0.000000\n",
       "25%         6.400000\n",
       "50%         7.500000\n",
       "75%         8.200000\n",
       "max         9.700000\n",
       "Name: user_score, dtype: float64"
      ]
     },
     "execution_count": 17,
     "metadata": {},
     "output_type": "execute_result"
    }
   ],
   "source": [
    "games['user_score'].describe()"
   ]
  },
  {
   "cell_type": "markdown",
   "metadata": {},
   "source": [
    "Посчитаем количество пропущенных значений:"
   ]
  },
  {
   "cell_type": "code",
   "execution_count": 18,
   "metadata": {},
   "outputs": [
    {
     "data": {
      "text/plain": [
       "8494"
      ]
     },
     "execution_count": 18,
     "metadata": {},
     "output_type": "execute_result"
    }
   ],
   "source": [
    "games['critic_score'].isnull().sum()"
   ]
  },
  {
   "cell_type": "code",
   "execution_count": 19,
   "metadata": {},
   "outputs": [
    {
     "data": {
      "text/plain": [
       "9029"
      ]
     },
     "execution_count": 19,
     "metadata": {},
     "output_type": "execute_result"
    }
   ],
   "source": [
    "games['user_score'].isnull().sum()"
   ]
  },
  {
   "cell_type": "markdown",
   "metadata": {},
   "source": [
    "Очень много пропусков. Это можно объяснить тремя причинами:\n",
    "\n",
    "1. Ставить оценки по десятибальной (или пятибальной) шкале вошло в моду только во второй половине девяностых. Слишком старые игры попросту не имеют зафиксированной оценки.\n",
    "2. Игры со слишком маленьким числом продаж могли пройти совершенно незаметно для критиков и общей публики, таким образом не получив общепринятой оценки.\n",
    "3. Игры, которые вышли к концу временного периода данных из таблицы (в конце 2016-го года) могли просто не успеть получить должную оценку. \n",
    "\n",
    "В любом случае, число пропусков слишком велико, чтобы их просто удалить. Мы видим, что минимальное значение в этих столбцах равно 0. Потому замена пропусков на 0 будет не корректным исправлением. Поскольку оценки критиков и пользователей - сугубо субьективная оценка, заполнить пропуски медианой или средним значением тоже невозможно. Потому пропуски в этих столбцах решено было оставить, как есть."
   ]
  },
  {
   "cell_type": "markdown",
   "metadata": {},
   "source": [
    "Осмотрим столбец rating:"
   ]
  },
  {
   "cell_type": "code",
   "execution_count": 20,
   "metadata": {
    "scrolled": false
   },
   "outputs": [
    {
     "data": {
      "text/plain": [
       "NaN     6701\n",
       "E       3958\n",
       "T       2930\n",
       "M       1554\n",
       "E10+    1412\n",
       "EC         8\n",
       "K-A        3\n",
       "RP         2\n",
       "AO         1\n",
       "Name: rating, dtype: int64"
      ]
     },
     "execution_count": 20,
     "metadata": {},
     "output_type": "execute_result"
    }
   ],
   "source": [
    "games['rating'].value_counts(dropna=False)"
   ]
  },
  {
   "cell_type": "markdown",
   "metadata": {},
   "source": [
    "Количество пропусков здесь практически такое же большое, как и в столбцах critic_score и user_score. Это можно объяснить тем, что рейтинг ESRB - американская система оценки игр, и потому те игры, которые не выпускались на американском рынке попросту не прошли оценку.\n",
    "\n",
    "Удалять эти пропуски будет не верным решением. Но поскольку эти пустые значения потребуется учесть в дальнейшем исследовании, заполним пропуски в этом столбце абревиатурой NR (No Rating), обозначив таким образом, что игра не прошла оценку ESRB."
   ]
  },
  {
   "cell_type": "code",
   "execution_count": 21,
   "metadata": {},
   "outputs": [],
   "source": [
    "games['rating'] = games['rating'].fillna('NR')"
   ]
  },
  {
   "cell_type": "markdown",
   "metadata": {},
   "source": [
    "Напоследок обработаем пропуски в столбцах name и genre. Объяснить пропуски в этих местах можно только человеческим фактором. Поскольку их очень небольшое количество, мы можем попросту удалить эти строки без вреда для будущего анализа:"
   ]
  },
  {
   "cell_type": "code",
   "execution_count": 22,
   "metadata": {},
   "outputs": [],
   "source": [
    "games = games.dropna(subset=['name', 'genre']).reset_index(drop=True)"
   ]
  },
  {
   "cell_type": "markdown",
   "metadata": {},
   "source": [
    "Теперь, проверим столбцы на присутствие дубликатов.\n",
    "\n",
    "Конкретнее, нас интересуют столбцы name и platform."
   ]
  },
  {
   "cell_type": "code",
   "execution_count": 23,
   "metadata": {
    "scrolled": true
   },
   "outputs": [
    {
     "data": {
      "text/html": [
       "<div>\n",
       "<style scoped>\n",
       "    .dataframe tbody tr th:only-of-type {\n",
       "        vertical-align: middle;\n",
       "    }\n",
       "\n",
       "    .dataframe tbody tr th {\n",
       "        vertical-align: top;\n",
       "    }\n",
       "\n",
       "    .dataframe thead th {\n",
       "        text-align: right;\n",
       "    }\n",
       "</style>\n",
       "<table border=\"1\" class=\"dataframe\">\n",
       "  <thead>\n",
       "    <tr style=\"text-align: right;\">\n",
       "      <th></th>\n",
       "      <th>name</th>\n",
       "      <th>platform</th>\n",
       "      <th>year_of_release</th>\n",
       "      <th>genre</th>\n",
       "      <th>na_sales</th>\n",
       "      <th>eu_sales</th>\n",
       "      <th>jp_sales</th>\n",
       "      <th>other_sales</th>\n",
       "      <th>critic_score</th>\n",
       "      <th>user_score</th>\n",
       "      <th>rating</th>\n",
       "    </tr>\n",
       "  </thead>\n",
       "  <tbody>\n",
       "    <tr>\n",
       "      <th>603</th>\n",
       "      <td>Madden NFL 13</td>\n",
       "      <td>PS3</td>\n",
       "      <td>2012</td>\n",
       "      <td>Sports</td>\n",
       "      <td>2.11</td>\n",
       "      <td>0.22</td>\n",
       "      <td>0.00</td>\n",
       "      <td>0.23</td>\n",
       "      <td>83.0</td>\n",
       "      <td>5.5</td>\n",
       "      <td>E</td>\n",
       "    </tr>\n",
       "    <tr>\n",
       "      <th>1184</th>\n",
       "      <td>Need for Speed: Most Wanted</td>\n",
       "      <td>X360</td>\n",
       "      <td>2012</td>\n",
       "      <td>Racing</td>\n",
       "      <td>0.62</td>\n",
       "      <td>0.78</td>\n",
       "      <td>0.01</td>\n",
       "      <td>0.15</td>\n",
       "      <td>83.0</td>\n",
       "      <td>8.5</td>\n",
       "      <td>T</td>\n",
       "    </tr>\n",
       "    <tr>\n",
       "      <th>1582</th>\n",
       "      <td>Need for Speed: Most Wanted</td>\n",
       "      <td>X360</td>\n",
       "      <td>2005</td>\n",
       "      <td>Racing</td>\n",
       "      <td>1.00</td>\n",
       "      <td>0.13</td>\n",
       "      <td>0.02</td>\n",
       "      <td>0.10</td>\n",
       "      <td>83.0</td>\n",
       "      <td>8.5</td>\n",
       "      <td>T</td>\n",
       "    </tr>\n",
       "    <tr>\n",
       "      <th>1736</th>\n",
       "      <td>Sonic the Hedgehog</td>\n",
       "      <td>PS3</td>\n",
       "      <td>2006</td>\n",
       "      <td>Platform</td>\n",
       "      <td>0.41</td>\n",
       "      <td>0.06</td>\n",
       "      <td>0.04</td>\n",
       "      <td>0.66</td>\n",
       "      <td>43.0</td>\n",
       "      <td>4.1</td>\n",
       "      <td>E10+</td>\n",
       "    </tr>\n",
       "    <tr>\n",
       "      <th>4106</th>\n",
       "      <td>Sonic the Hedgehog</td>\n",
       "      <td>PS3</td>\n",
       "      <td>2006</td>\n",
       "      <td>Platform</td>\n",
       "      <td>0.00</td>\n",
       "      <td>0.48</td>\n",
       "      <td>0.00</td>\n",
       "      <td>0.00</td>\n",
       "      <td>43.0</td>\n",
       "      <td>4.1</td>\n",
       "      <td>E10+</td>\n",
       "    </tr>\n",
       "    <tr>\n",
       "      <th>5931</th>\n",
       "      <td>Need for Speed: Most Wanted</td>\n",
       "      <td>PC</td>\n",
       "      <td>2005</td>\n",
       "      <td>Racing</td>\n",
       "      <td>0.02</td>\n",
       "      <td>0.23</td>\n",
       "      <td>0.00</td>\n",
       "      <td>0.04</td>\n",
       "      <td>82.0</td>\n",
       "      <td>8.5</td>\n",
       "      <td>T</td>\n",
       "    </tr>\n",
       "    <tr>\n",
       "      <th>11624</th>\n",
       "      <td>Need for Speed: Most Wanted</td>\n",
       "      <td>PC</td>\n",
       "      <td>2012</td>\n",
       "      <td>Racing</td>\n",
       "      <td>0.00</td>\n",
       "      <td>0.06</td>\n",
       "      <td>0.00</td>\n",
       "      <td>0.02</td>\n",
       "      <td>82.0</td>\n",
       "      <td>8.5</td>\n",
       "      <td>T</td>\n",
       "    </tr>\n",
       "    <tr>\n",
       "      <th>16087</th>\n",
       "      <td>Madden NFL 13</td>\n",
       "      <td>PS3</td>\n",
       "      <td>2012</td>\n",
       "      <td>Sports</td>\n",
       "      <td>0.00</td>\n",
       "      <td>0.01</td>\n",
       "      <td>0.00</td>\n",
       "      <td>0.00</td>\n",
       "      <td>83.0</td>\n",
       "      <td>5.5</td>\n",
       "      <td>E</td>\n",
       "    </tr>\n",
       "  </tbody>\n",
       "</table>\n",
       "</div>"
      ],
      "text/plain": [
       "                              name platform  year_of_release     genre  \\\n",
       "603                  Madden NFL 13      PS3             2012    Sports   \n",
       "1184   Need for Speed: Most Wanted     X360             2012    Racing   \n",
       "1582   Need for Speed: Most Wanted     X360             2005    Racing   \n",
       "1736            Sonic the Hedgehog      PS3             2006  Platform   \n",
       "4106            Sonic the Hedgehog      PS3             2006  Platform   \n",
       "5931   Need for Speed: Most Wanted       PC             2005    Racing   \n",
       "11624  Need for Speed: Most Wanted       PC             2012    Racing   \n",
       "16087                Madden NFL 13      PS3             2012    Sports   \n",
       "\n",
       "       na_sales  eu_sales  jp_sales  other_sales  critic_score  user_score  \\\n",
       "603        2.11      0.22      0.00         0.23          83.0         5.5   \n",
       "1184       0.62      0.78      0.01         0.15          83.0         8.5   \n",
       "1582       1.00      0.13      0.02         0.10          83.0         8.5   \n",
       "1736       0.41      0.06      0.04         0.66          43.0         4.1   \n",
       "4106       0.00      0.48      0.00         0.00          43.0         4.1   \n",
       "5931       0.02      0.23      0.00         0.04          82.0         8.5   \n",
       "11624      0.00      0.06      0.00         0.02          82.0         8.5   \n",
       "16087      0.00      0.01      0.00         0.00          83.0         5.5   \n",
       "\n",
       "      rating  \n",
       "603        E  \n",
       "1184       T  \n",
       "1582       T  \n",
       "1736    E10+  \n",
       "4106    E10+  \n",
       "5931       T  \n",
       "11624      T  \n",
       "16087      E  "
      ]
     },
     "execution_count": 23,
     "metadata": {},
     "output_type": "execute_result"
    }
   ],
   "source": [
    "games[games.duplicated(subset=['name', 'platform'], keep=False)]"
   ]
  },
  {
   "cell_type": "markdown",
   "metadata": {},
   "source": [
    "Мы видим, что некоторые игры повторяются в списке для одних и тех же платформ. Почему?\n",
    "\n",
    "Поискав информацию в интернете, можно обнаружить, что Need for Speed: Most Wanted перезапускалась повторно другой студией в 2012 году. Технически, эти дубликаты можно считать двумя отдельными играми, и потому убирать их не стоит.\n",
    "\n",
    "Что касается Madden MFL 13 и Sonic the Hedgehog, здесь сказать трудно. Мы видим, что продажи у дубликатов зафиксированы только в районе EU, и в весьма маленьких количествах. Это может быть как технической ошибкой, так и человеческим фактором. Поскольку это весьма крохотный объем данных, я думаю, мы можем просто удалить строчки с этими дубликатами без вреда для будущего исследования.\n",
    "\n",
    "Удалим строчки с теми дубликатами, где меньше продаж, а именно строки с индексами 4106 и 16087:"
   ]
  },
  {
   "cell_type": "code",
   "execution_count": 24,
   "metadata": {},
   "outputs": [],
   "source": [
    "games = games.drop([4106, 16087]).reset_index(drop=True)"
   ]
  },
  {
   "cell_type": "markdown",
   "metadata": {},
   "source": [
    "Наконец добавим новый столбец с общими продажами:"
   ]
  },
  {
   "cell_type": "code",
   "execution_count": 25,
   "metadata": {},
   "outputs": [],
   "source": [
    "games['total_sales'] = games['na_sales'] + games['eu_sales'] + games['jp_sales'] + games['other_sales']"
   ]
  },
  {
   "cell_type": "markdown",
   "metadata": {},
   "source": [
    "Просмотрим датасет со внесенными изменениями:"
   ]
  },
  {
   "cell_type": "code",
   "execution_count": 26,
   "metadata": {},
   "outputs": [
    {
     "data": {
      "text/html": [
       "<div>\n",
       "<style scoped>\n",
       "    .dataframe tbody tr th:only-of-type {\n",
       "        vertical-align: middle;\n",
       "    }\n",
       "\n",
       "    .dataframe tbody tr th {\n",
       "        vertical-align: top;\n",
       "    }\n",
       "\n",
       "    .dataframe thead th {\n",
       "        text-align: right;\n",
       "    }\n",
       "</style>\n",
       "<table border=\"1\" class=\"dataframe\">\n",
       "  <thead>\n",
       "    <tr style=\"text-align: right;\">\n",
       "      <th></th>\n",
       "      <th>name</th>\n",
       "      <th>platform</th>\n",
       "      <th>year_of_release</th>\n",
       "      <th>genre</th>\n",
       "      <th>na_sales</th>\n",
       "      <th>eu_sales</th>\n",
       "      <th>jp_sales</th>\n",
       "      <th>other_sales</th>\n",
       "      <th>critic_score</th>\n",
       "      <th>user_score</th>\n",
       "      <th>rating</th>\n",
       "      <th>total_sales</th>\n",
       "    </tr>\n",
       "  </thead>\n",
       "  <tbody>\n",
       "    <tr>\n",
       "      <th>0</th>\n",
       "      <td>Wii Sports</td>\n",
       "      <td>Wii</td>\n",
       "      <td>2006</td>\n",
       "      <td>Sports</td>\n",
       "      <td>41.36</td>\n",
       "      <td>28.96</td>\n",
       "      <td>3.77</td>\n",
       "      <td>8.45</td>\n",
       "      <td>76.0</td>\n",
       "      <td>8.0</td>\n",
       "      <td>E</td>\n",
       "      <td>82.54</td>\n",
       "    </tr>\n",
       "    <tr>\n",
       "      <th>1</th>\n",
       "      <td>Super Mario Bros.</td>\n",
       "      <td>NES</td>\n",
       "      <td>1985</td>\n",
       "      <td>Platform</td>\n",
       "      <td>29.08</td>\n",
       "      <td>3.58</td>\n",
       "      <td>6.81</td>\n",
       "      <td>0.77</td>\n",
       "      <td>NaN</td>\n",
       "      <td>NaN</td>\n",
       "      <td>NR</td>\n",
       "      <td>40.24</td>\n",
       "    </tr>\n",
       "    <tr>\n",
       "      <th>2</th>\n",
       "      <td>Mario Kart Wii</td>\n",
       "      <td>Wii</td>\n",
       "      <td>2008</td>\n",
       "      <td>Racing</td>\n",
       "      <td>15.68</td>\n",
       "      <td>12.76</td>\n",
       "      <td>3.79</td>\n",
       "      <td>3.29</td>\n",
       "      <td>82.0</td>\n",
       "      <td>8.3</td>\n",
       "      <td>E</td>\n",
       "      <td>35.52</td>\n",
       "    </tr>\n",
       "    <tr>\n",
       "      <th>3</th>\n",
       "      <td>Wii Sports Resort</td>\n",
       "      <td>Wii</td>\n",
       "      <td>2009</td>\n",
       "      <td>Sports</td>\n",
       "      <td>15.61</td>\n",
       "      <td>10.93</td>\n",
       "      <td>3.28</td>\n",
       "      <td>2.95</td>\n",
       "      <td>80.0</td>\n",
       "      <td>8.0</td>\n",
       "      <td>E</td>\n",
       "      <td>32.77</td>\n",
       "    </tr>\n",
       "    <tr>\n",
       "      <th>4</th>\n",
       "      <td>Pokemon Red/Pokemon Blue</td>\n",
       "      <td>GB</td>\n",
       "      <td>1996</td>\n",
       "      <td>Role-Playing</td>\n",
       "      <td>11.27</td>\n",
       "      <td>8.89</td>\n",
       "      <td>10.22</td>\n",
       "      <td>1.00</td>\n",
       "      <td>NaN</td>\n",
       "      <td>NaN</td>\n",
       "      <td>NR</td>\n",
       "      <td>31.38</td>\n",
       "    </tr>\n",
       "    <tr>\n",
       "      <th>5</th>\n",
       "      <td>Tetris</td>\n",
       "      <td>GB</td>\n",
       "      <td>1989</td>\n",
       "      <td>Puzzle</td>\n",
       "      <td>23.20</td>\n",
       "      <td>2.26</td>\n",
       "      <td>4.22</td>\n",
       "      <td>0.58</td>\n",
       "      <td>NaN</td>\n",
       "      <td>NaN</td>\n",
       "      <td>NR</td>\n",
       "      <td>30.26</td>\n",
       "    </tr>\n",
       "    <tr>\n",
       "      <th>6</th>\n",
       "      <td>New Super Mario Bros.</td>\n",
       "      <td>DS</td>\n",
       "      <td>2006</td>\n",
       "      <td>Platform</td>\n",
       "      <td>11.28</td>\n",
       "      <td>9.14</td>\n",
       "      <td>6.50</td>\n",
       "      <td>2.88</td>\n",
       "      <td>89.0</td>\n",
       "      <td>8.5</td>\n",
       "      <td>E</td>\n",
       "      <td>29.80</td>\n",
       "    </tr>\n",
       "    <tr>\n",
       "      <th>7</th>\n",
       "      <td>Wii Play</td>\n",
       "      <td>Wii</td>\n",
       "      <td>2006</td>\n",
       "      <td>Misc</td>\n",
       "      <td>13.96</td>\n",
       "      <td>9.18</td>\n",
       "      <td>2.93</td>\n",
       "      <td>2.84</td>\n",
       "      <td>58.0</td>\n",
       "      <td>6.6</td>\n",
       "      <td>E</td>\n",
       "      <td>28.91</td>\n",
       "    </tr>\n",
       "    <tr>\n",
       "      <th>8</th>\n",
       "      <td>New Super Mario Bros. Wii</td>\n",
       "      <td>Wii</td>\n",
       "      <td>2009</td>\n",
       "      <td>Platform</td>\n",
       "      <td>14.44</td>\n",
       "      <td>6.94</td>\n",
       "      <td>4.70</td>\n",
       "      <td>2.24</td>\n",
       "      <td>87.0</td>\n",
       "      <td>8.4</td>\n",
       "      <td>E</td>\n",
       "      <td>28.32</td>\n",
       "    </tr>\n",
       "    <tr>\n",
       "      <th>9</th>\n",
       "      <td>Duck Hunt</td>\n",
       "      <td>NES</td>\n",
       "      <td>1984</td>\n",
       "      <td>Shooter</td>\n",
       "      <td>26.93</td>\n",
       "      <td>0.63</td>\n",
       "      <td>0.28</td>\n",
       "      <td>0.47</td>\n",
       "      <td>NaN</td>\n",
       "      <td>NaN</td>\n",
       "      <td>NR</td>\n",
       "      <td>28.31</td>\n",
       "    </tr>\n",
       "  </tbody>\n",
       "</table>\n",
       "</div>"
      ],
      "text/plain": [
       "                        name platform  year_of_release         genre  \\\n",
       "0                 Wii Sports      Wii             2006        Sports   \n",
       "1          Super Mario Bros.      NES             1985      Platform   \n",
       "2             Mario Kart Wii      Wii             2008        Racing   \n",
       "3          Wii Sports Resort      Wii             2009        Sports   \n",
       "4   Pokemon Red/Pokemon Blue       GB             1996  Role-Playing   \n",
       "5                     Tetris       GB             1989        Puzzle   \n",
       "6      New Super Mario Bros.       DS             2006      Platform   \n",
       "7                   Wii Play      Wii             2006          Misc   \n",
       "8  New Super Mario Bros. Wii      Wii             2009      Platform   \n",
       "9                  Duck Hunt      NES             1984       Shooter   \n",
       "\n",
       "   na_sales  eu_sales  jp_sales  other_sales  critic_score  user_score rating  \\\n",
       "0     41.36     28.96      3.77         8.45          76.0         8.0      E   \n",
       "1     29.08      3.58      6.81         0.77           NaN         NaN     NR   \n",
       "2     15.68     12.76      3.79         3.29          82.0         8.3      E   \n",
       "3     15.61     10.93      3.28         2.95          80.0         8.0      E   \n",
       "4     11.27      8.89     10.22         1.00           NaN         NaN     NR   \n",
       "5     23.20      2.26      4.22         0.58           NaN         NaN     NR   \n",
       "6     11.28      9.14      6.50         2.88          89.0         8.5      E   \n",
       "7     13.96      9.18      2.93         2.84          58.0         6.6      E   \n",
       "8     14.44      6.94      4.70         2.24          87.0         8.4      E   \n",
       "9     26.93      0.63      0.28         0.47           NaN         NaN     NR   \n",
       "\n",
       "   total_sales  \n",
       "0        82.54  \n",
       "1        40.24  \n",
       "2        35.52  \n",
       "3        32.77  \n",
       "4        31.38  \n",
       "5        30.26  \n",
       "6        29.80  \n",
       "7        28.91  \n",
       "8        28.32  \n",
       "9        28.31  "
      ]
     },
     "execution_count": 26,
     "metadata": {},
     "output_type": "execute_result"
    }
   ],
   "source": [
    "games.head(10)"
   ]
  },
  {
   "cell_type": "code",
   "execution_count": 27,
   "metadata": {},
   "outputs": [
    {
     "name": "stdout",
     "output_type": "stream",
     "text": [
      "<class 'pandas.core.frame.DataFrame'>\n",
      "RangeIndex: 16565 entries, 0 to 16564\n",
      "Data columns (total 12 columns):\n",
      " #   Column           Non-Null Count  Dtype  \n",
      "---  ------           --------------  -----  \n",
      " 0   name             16565 non-null  object \n",
      " 1   platform         16565 non-null  object \n",
      " 2   year_of_release  16565 non-null  Int64  \n",
      " 3   genre            16565 non-null  object \n",
      " 4   na_sales         16565 non-null  float64\n",
      " 5   eu_sales         16565 non-null  float64\n",
      " 6   jp_sales         16565 non-null  float64\n",
      " 7   other_sales      16565 non-null  float64\n",
      " 8   critic_score     8073 non-null   float64\n",
      " 9   user_score       7538 non-null   float64\n",
      " 10  rating           16565 non-null  object \n",
      " 11  total_sales      16565 non-null  float64\n",
      "dtypes: Int64(1), float64(7), object(4)\n",
      "memory usage: 1.5+ MB\n"
     ]
    }
   ],
   "source": [
    "games.info()"
   ]
  },
  {
   "cell_type": "markdown",
   "metadata": {},
   "source": [
    "**Выводы:**\n",
    "\n",
    "В процессе предобработки данных, мы внесли в таблицу следующие изменения:\n",
    "\n",
    "1. year_of_release - тип данных поменяли на int.\n",
    "2. user_score - заменили tbd на NaN, и тип данных поменяли на float.\n",
    "3. Удалили пропущенные значения в столбцах name, genre, year_of_release.\n",
    "4. Удалили неявные дубликаты в 4106 и 16087 строках. \n",
    "4. Добавили столбец total_sales с суммарными продажами во всех регионах."
   ]
  },
  {
   "cell_type": "markdown",
   "metadata": {},
   "source": [
    "## Исследовательский анализ данных\n",
    "\n",
    "### Число выпускаемых игр в разные годы"
   ]
  },
  {
   "cell_type": "code",
   "execution_count": 28,
   "metadata": {},
   "outputs": [
    {
     "name": "stderr",
     "output_type": "stream",
     "text": [
      "C:\\Users\\Taras\\anaconda3\\lib\\site-packages\\seaborn\\_decorators.py:36: FutureWarning: Pass the following variable as a keyword arg: x. From version 0.12, the only valid positional argument will be `data`, and passing other arguments without an explicit keyword will result in an error or misinterpretation.\n",
      "  warnings.warn(\n"
     ]
    },
    {
     "data": {
      "text/plain": [
       "Text(0, 0.5, 'Количество выпущенных игр')"
      ]
     },
     "execution_count": 28,
     "metadata": {},
     "output_type": "execute_result"
    },
    {
     "data": {
      "image/png": "[encoded data removed]",
      "text/plain": [
       "<Figure size 1440x360 with 1 Axes>"
      ]
     },
     "metadata": {
      "needs_background": "light"
     },
     "output_type": "display_data"
    }
   ],
   "source": [
    "plt.figure(figsize=(20, 5))\n",
    "sns.countplot(games.year_of_release, color='green')\n",
    "plt.title(\"Количество выпущенных игр по годам\")\n",
    "plt.xlabel(\"Год выпуска\")\n",
    "plt.ylabel(\"Количество выпущенных игр\")"
   ]
  },
  {
   "cell_type": "markdown",
   "metadata": {},
   "source": [
    "Согласно наблюдаемому распределению, мы видим, что число продаваемых игр начало расти в 1993-м году, и достигло пика в 2008 г. После чего начался спад продаж, скорее всего из-за резкого развития и роста популярности мобильных игр. \n",
    "\n",
    "Можно сделать вывод, что данные по всем периодам нас не интересуют.\n",
    "\n",
    "В период с 2013 по 2016 число продаж более-менее стабилизируется. Именно его мы и будем использовать для дальнейших исследований."
   ]
  },
  {
   "cell_type": "markdown",
   "metadata": {},
   "source": [
    "### Изменение продаж по платформам\n",
    "\n",
    "Сначала составим сводную таблицу по платформам и их продажами."
   ]
  },
  {
   "cell_type": "code",
   "execution_count": 29,
   "metadata": {},
   "outputs": [],
   "source": [
    "sales_on_platform = games.pivot_table(index='platform', values='total_sales', aggfunc='sum') \\\n",
    "                    .sort_values(by='total_sales', ascending=False).reset_index()"
   ]
  },
  {
   "cell_type": "markdown",
   "metadata": {},
   "source": [
    "Теперь составим по ней диаграмму:"
   ]
  },
  {
   "cell_type": "code",
   "execution_count": 30,
   "metadata": {},
   "outputs": [
    {
     "data": {
      "text/plain": [
       "Text(0.5, 1.0, 'Продажи по платформам за весь период')"
      ]
     },
     "execution_count": 30,
     "metadata": {},
     "output_type": "execute_result"
    },
    {
     "data": {
      "image/png": "[encoded data removed]",
      "text/plain": [
       "<Figure size 1440x360 with 1 Axes>"
      ]
     },
     "metadata": {
      "needs_background": "light"
     },
     "output_type": "display_data"
    }
   ],
   "source": [
    "plt.figure(figsize=(20, 5))\n",
    "sns.barplot(x=sales_on_platform.platform, y=sales_on_platform.total_sales, color = 'green')\n",
    "plt.xlabel(\"Платформа\")\n",
    "plt.ylabel(\"Число продаж\")\n",
    "plt.title(\"Продажи по платформам за весь период\")"
   ]
  },
  {
   "cell_type": "markdown",
   "metadata": {},
   "source": [
    "Из диаграммы сверху видно, что самым большим числом продаж обладают платформы PS2, X360, PS3, Wii, DS и PS. \n",
    "\n",
    "Для дальнейших действий запишем их в отдельный список:"
   ]
  },
  {
   "cell_type": "code",
   "execution_count": 31,
   "metadata": {},
   "outputs": [],
   "source": [
    "top_platforms_list = ['PS2', 'X360', 'PS3', 'Wii', 'DS', 'PS']"
   ]
  },
  {
   "cell_type": "markdown",
   "metadata": {},
   "source": [
    "Построим распределение по годам для этих платформ. "
   ]
  },
  {
   "cell_type": "code",
   "execution_count": 32,
   "metadata": {
    "scrolled": false
   },
   "outputs": [
    {
     "data": {
      "image/png": "[encoded data removed]",
      "text/plain": [
       "<Figure size 1440x360 with 1 Axes>"
      ]
     },
     "metadata": {
      "needs_background": "light"
     },
     "output_type": "display_data"
    },
    {
     "data": {
      "image/png": "[encoded data removed]",
      "text/plain": [
       "<Figure size 1440x360 with 1 Axes>"
      ]
     },
     "metadata": {
      "needs_background": "light"
     },
     "output_type": "display_data"
    },
    {
     "data": {
      "image/png": "[encoded data removed]",
      "text/plain": [
       "<Figure size 1440x360 with 1 Axes>"
      ]
     },
     "metadata": {
      "needs_background": "light"
     },
     "output_type": "display_data"
    },
    {
     "data": {
      "image/png": "[encoded data removed]",
      "text/plain": [
       "<Figure size 1440x360 with 1 Axes>"
      ]
     },
     "metadata": {
      "needs_background": "light"
     },
     "output_type": "display_data"
    },
    {
     "data": {
      "image/png": "[encoded data removed]",
      "text/plain": [
       "<Figure size 1440x360 with 1 Axes>"
      ]
     },
     "metadata": {
      "needs_background": "light"
     },
     "output_type": "display_data"
    },
    {
     "data": {
      "image/png": "[encoded data removed]",
      "text/plain": [
       "<Figure size 1440x360 with 1 Axes>"
      ]
     },
     "metadata": {
      "needs_background": "light"
     },
     "output_type": "display_data"
    }
   ],
   "source": [
    "for platform in top_platforms_list:\n",
    "    games[games['platform'] == platform].pivot_table(index='year_of_release', values='total_sales', aggfunc='sum').plot(\n",
    "        kind='bar', figsize=(20,5), color='green')\n",
    "    plt.title(platform)\n",
    "    plt.xlabel('Год')\n",
    "    plt.ylabel('Число продаж')"
   ]
  },
  {
   "cell_type": "markdown",
   "metadata": {},
   "source": [
    "Посмотрим, сколько в среднем живут платформы.\n",
    "\n",
    "Сначала составим таблицу с лидирующими платформами, затем вычтем самый ранний год выпуска из самого позднего для каждой из них, таким образом получив срок жизни каждой платформы:"
   ]
  },
  {
   "cell_type": "code",
   "execution_count": 33,
   "metadata": {},
   "outputs": [
    {
     "data": {
      "text/html": [
       "<div>\n",
       "<style scoped>\n",
       "    .dataframe tbody tr th:only-of-type {\n",
       "        vertical-align: middle;\n",
       "    }\n",
       "\n",
       "    .dataframe tbody tr th {\n",
       "        vertical-align: top;\n",
       "    }\n",
       "\n",
       "    .dataframe thead th {\n",
       "        text-align: right;\n",
       "    }\n",
       "</style>\n",
       "<table border=\"1\" class=\"dataframe\">\n",
       "  <thead>\n",
       "    <tr style=\"text-align: right;\">\n",
       "      <th></th>\n",
       "      <th>year_of_release</th>\n",
       "    </tr>\n",
       "    <tr>\n",
       "      <th>platform</th>\n",
       "      <th></th>\n",
       "    </tr>\n",
       "  </thead>\n",
       "  <tbody>\n",
       "    <tr>\n",
       "      <th>DS</th>\n",
       "      <td>28</td>\n",
       "    </tr>\n",
       "    <tr>\n",
       "      <th>PS</th>\n",
       "      <td>9</td>\n",
       "    </tr>\n",
       "    <tr>\n",
       "      <th>PS2</th>\n",
       "      <td>11</td>\n",
       "    </tr>\n",
       "    <tr>\n",
       "      <th>PS3</th>\n",
       "      <td>11</td>\n",
       "    </tr>\n",
       "    <tr>\n",
       "      <th>Wii</th>\n",
       "      <td>10</td>\n",
       "    </tr>\n",
       "    <tr>\n",
       "      <th>X360</th>\n",
       "      <td>11</td>\n",
       "    </tr>\n",
       "  </tbody>\n",
       "</table>\n",
       "</div>"
      ],
      "text/plain": [
       "          year_of_release\n",
       "platform                 \n",
       "DS                     28\n",
       "PS                      9\n",
       "PS2                    11\n",
       "PS3                    11\n",
       "Wii                    10\n",
       "X360                   11"
      ]
     },
     "metadata": {},
     "output_type": "display_data"
    }
   ],
   "source": [
    "top_platforms = games.query('platform in @top_platforms_list').reset_index()\n",
    "platforms_lifespan = top_platforms.groupby('platform').agg({'year_of_release' : 'max'}) - top_platforms.groupby('platform').agg({'year_of_release' : 'min'}) \n",
    "display(platforms_lifespan)"
   ]
  },
  {
   "cell_type": "markdown",
   "metadata": {},
   "source": [
    "Теперь посмотрим медиану этих значений. Среднее значение мы использовать не станем в виду присутствия очевидного выброса в виде платформы DS:"
   ]
  },
  {
   "cell_type": "code",
   "execution_count": 34,
   "metadata": {},
   "outputs": [
    {
     "data": {
      "text/plain": [
       "year_of_release    11.0\n",
       "dtype: float64"
      ]
     },
     "execution_count": 34,
     "metadata": {},
     "output_type": "execute_result"
    }
   ],
   "source": [
    "platforms_lifespan.median()"
   ]
  },
  {
   "cell_type": "markdown",
   "metadata": {},
   "source": [
    "Итого выходит, что обычно платформы живут по 11 лет."
   ]
  },
  {
   "cell_type": "markdown",
   "metadata": {},
   "source": [
    "### Исследование данных с 2013 по 2016 год\n",
    "\n",
    "Для дальнейших исследований требуется определить актуальный временной период. Исходя из диаграмм и исследований, проведенных в предыдущих пунктах, в качестве актуального было решено определить период с 2013 по 2016 год.\n",
    "\n",
    "Составим новый датасет, который будет включать данные только за этот период:"
   ]
  },
  {
   "cell_type": "code",
   "execution_count": 35,
   "metadata": {
    "scrolled": false
   },
   "outputs": [
    {
     "name": "stderr",
     "output_type": "stream",
     "text": [
      "C:\\Users\\Taras\\AppData\\Local\\Temp/ipykernel_15944/1090257303.py:2: FutureWarning: In a future version of pandas all arguments of DataFrame.drop except for the argument 'labels' will be keyword-only\n",
      "  games_actual = games_actual.drop('index', 1)\n"
     ]
    },
    {
     "data": {
      "text/html": [
       "<div>\n",
       "<style scoped>\n",
       "    .dataframe tbody tr th:only-of-type {\n",
       "        vertical-align: middle;\n",
       "    }\n",
       "\n",
       "    .dataframe tbody tr th {\n",
       "        vertical-align: top;\n",
       "    }\n",
       "\n",
       "    .dataframe thead th {\n",
       "        text-align: right;\n",
       "    }\n",
       "</style>\n",
       "<table border=\"1\" class=\"dataframe\">\n",
       "  <thead>\n",
       "    <tr style=\"text-align: right;\">\n",
       "      <th></th>\n",
       "      <th>name</th>\n",
       "      <th>platform</th>\n",
       "      <th>year_of_release</th>\n",
       "      <th>genre</th>\n",
       "      <th>na_sales</th>\n",
       "      <th>eu_sales</th>\n",
       "      <th>jp_sales</th>\n",
       "      <th>other_sales</th>\n",
       "      <th>critic_score</th>\n",
       "      <th>user_score</th>\n",
       "      <th>rating</th>\n",
       "      <th>total_sales</th>\n",
       "    </tr>\n",
       "  </thead>\n",
       "  <tbody>\n",
       "    <tr>\n",
       "      <th>0</th>\n",
       "      <td>Grand Theft Auto V</td>\n",
       "      <td>PS3</td>\n",
       "      <td>2013</td>\n",
       "      <td>Action</td>\n",
       "      <td>7.02</td>\n",
       "      <td>9.09</td>\n",
       "      <td>0.98</td>\n",
       "      <td>3.96</td>\n",
       "      <td>97.0</td>\n",
       "      <td>8.2</td>\n",
       "      <td>M</td>\n",
       "      <td>21.05</td>\n",
       "    </tr>\n",
       "    <tr>\n",
       "      <th>1</th>\n",
       "      <td>Grand Theft Auto V</td>\n",
       "      <td>X360</td>\n",
       "      <td>2013</td>\n",
       "      <td>Action</td>\n",
       "      <td>9.66</td>\n",
       "      <td>5.14</td>\n",
       "      <td>0.06</td>\n",
       "      <td>1.41</td>\n",
       "      <td>97.0</td>\n",
       "      <td>8.1</td>\n",
       "      <td>M</td>\n",
       "      <td>16.27</td>\n",
       "    </tr>\n",
       "    <tr>\n",
       "      <th>2</th>\n",
       "      <td>Call of Duty: Black Ops 3</td>\n",
       "      <td>PS4</td>\n",
       "      <td>2015</td>\n",
       "      <td>Shooter</td>\n",
       "      <td>6.03</td>\n",
       "      <td>5.86</td>\n",
       "      <td>0.36</td>\n",
       "      <td>2.38</td>\n",
       "      <td>NaN</td>\n",
       "      <td>NaN</td>\n",
       "      <td>NR</td>\n",
       "      <td>14.63</td>\n",
       "    </tr>\n",
       "    <tr>\n",
       "      <th>3</th>\n",
       "      <td>Pokemon X/Pokemon Y</td>\n",
       "      <td>3DS</td>\n",
       "      <td>2013</td>\n",
       "      <td>Role-Playing</td>\n",
       "      <td>5.28</td>\n",
       "      <td>4.19</td>\n",
       "      <td>4.35</td>\n",
       "      <td>0.78</td>\n",
       "      <td>NaN</td>\n",
       "      <td>NaN</td>\n",
       "      <td>NR</td>\n",
       "      <td>14.60</td>\n",
       "    </tr>\n",
       "    <tr>\n",
       "      <th>4</th>\n",
       "      <td>Grand Theft Auto V</td>\n",
       "      <td>PS4</td>\n",
       "      <td>2014</td>\n",
       "      <td>Action</td>\n",
       "      <td>3.96</td>\n",
       "      <td>6.31</td>\n",
       "      <td>0.38</td>\n",
       "      <td>1.97</td>\n",
       "      <td>97.0</td>\n",
       "      <td>8.3</td>\n",
       "      <td>M</td>\n",
       "      <td>12.62</td>\n",
       "    </tr>\n",
       "    <tr>\n",
       "      <th>...</th>\n",
       "      <td>...</td>\n",
       "      <td>...</td>\n",
       "      <td>...</td>\n",
       "      <td>...</td>\n",
       "      <td>...</td>\n",
       "      <td>...</td>\n",
       "      <td>...</td>\n",
       "      <td>...</td>\n",
       "      <td>...</td>\n",
       "      <td>...</td>\n",
       "      <td>...</td>\n",
       "      <td>...</td>\n",
       "    </tr>\n",
       "    <tr>\n",
       "      <th>2232</th>\n",
       "      <td>Strawberry Nauts</td>\n",
       "      <td>PSV</td>\n",
       "      <td>2016</td>\n",
       "      <td>Adventure</td>\n",
       "      <td>0.00</td>\n",
       "      <td>0.00</td>\n",
       "      <td>0.01</td>\n",
       "      <td>0.00</td>\n",
       "      <td>NaN</td>\n",
       "      <td>NaN</td>\n",
       "      <td>NR</td>\n",
       "      <td>0.01</td>\n",
       "    </tr>\n",
       "    <tr>\n",
       "      <th>2233</th>\n",
       "      <td>Aiyoku no Eustia</td>\n",
       "      <td>PSV</td>\n",
       "      <td>2014</td>\n",
       "      <td>Misc</td>\n",
       "      <td>0.00</td>\n",
       "      <td>0.00</td>\n",
       "      <td>0.01</td>\n",
       "      <td>0.00</td>\n",
       "      <td>NaN</td>\n",
       "      <td>NaN</td>\n",
       "      <td>NR</td>\n",
       "      <td>0.01</td>\n",
       "    </tr>\n",
       "    <tr>\n",
       "      <th>2234</th>\n",
       "      <td>Samurai Warriors: Sanada Maru</td>\n",
       "      <td>PS3</td>\n",
       "      <td>2016</td>\n",
       "      <td>Action</td>\n",
       "      <td>0.00</td>\n",
       "      <td>0.00</td>\n",
       "      <td>0.01</td>\n",
       "      <td>0.00</td>\n",
       "      <td>NaN</td>\n",
       "      <td>NaN</td>\n",
       "      <td>NR</td>\n",
       "      <td>0.01</td>\n",
       "    </tr>\n",
       "    <tr>\n",
       "      <th>2235</th>\n",
       "      <td>Haitaka no Psychedelica</td>\n",
       "      <td>PSV</td>\n",
       "      <td>2016</td>\n",
       "      <td>Adventure</td>\n",
       "      <td>0.00</td>\n",
       "      <td>0.00</td>\n",
       "      <td>0.01</td>\n",
       "      <td>0.00</td>\n",
       "      <td>NaN</td>\n",
       "      <td>NaN</td>\n",
       "      <td>NR</td>\n",
       "      <td>0.01</td>\n",
       "    </tr>\n",
       "    <tr>\n",
       "      <th>2236</th>\n",
       "      <td>Winning Post 8 2016</td>\n",
       "      <td>PSV</td>\n",
       "      <td>2016</td>\n",
       "      <td>Simulation</td>\n",
       "      <td>0.00</td>\n",
       "      <td>0.00</td>\n",
       "      <td>0.01</td>\n",
       "      <td>0.00</td>\n",
       "      <td>NaN</td>\n",
       "      <td>NaN</td>\n",
       "      <td>NR</td>\n",
       "      <td>0.01</td>\n",
       "    </tr>\n",
       "  </tbody>\n",
       "</table>\n",
       "<p>2237 rows × 12 columns</p>\n",
       "</div>"
      ],
      "text/plain": [
       "                               name platform  year_of_release         genre  \\\n",
       "0                Grand Theft Auto V      PS3             2013        Action   \n",
       "1                Grand Theft Auto V     X360             2013        Action   \n",
       "2         Call of Duty: Black Ops 3      PS4             2015       Shooter   \n",
       "3               Pokemon X/Pokemon Y      3DS             2013  Role-Playing   \n",
       "4                Grand Theft Auto V      PS4             2014        Action   \n",
       "...                             ...      ...              ...           ...   \n",
       "2232               Strawberry Nauts      PSV             2016     Adventure   \n",
       "2233               Aiyoku no Eustia      PSV             2014          Misc   \n",
       "2234  Samurai Warriors: Sanada Maru      PS3             2016        Action   \n",
       "2235        Haitaka no Psychedelica      PSV             2016     Adventure   \n",
       "2236            Winning Post 8 2016      PSV             2016    Simulation   \n",
       "\n",
       "      na_sales  eu_sales  jp_sales  other_sales  critic_score  user_score  \\\n",
       "0         7.02      9.09      0.98         3.96          97.0         8.2   \n",
       "1         9.66      5.14      0.06         1.41          97.0         8.1   \n",
       "2         6.03      5.86      0.36         2.38           NaN         NaN   \n",
       "3         5.28      4.19      4.35         0.78           NaN         NaN   \n",
       "4         3.96      6.31      0.38         1.97          97.0         8.3   \n",
       "...        ...       ...       ...          ...           ...         ...   \n",
       "2232      0.00      0.00      0.01         0.00           NaN         NaN   \n",
       "2233      0.00      0.00      0.01         0.00           NaN         NaN   \n",
       "2234      0.00      0.00      0.01         0.00           NaN         NaN   \n",
       "2235      0.00      0.00      0.01         0.00           NaN         NaN   \n",
       "2236      0.00      0.00      0.01         0.00           NaN         NaN   \n",
       "\n",
       "     rating  total_sales  \n",
       "0         M        21.05  \n",
       "1         M        16.27  \n",
       "2        NR        14.63  \n",
       "3        NR        14.60  \n",
       "4         M        12.62  \n",
       "...     ...          ...  \n",
       "2232     NR         0.01  \n",
       "2233     NR         0.01  \n",
       "2234     NR         0.01  \n",
       "2235     NR         0.01  \n",
       "2236     NR         0.01  \n",
       "\n",
       "[2237 rows x 12 columns]"
      ]
     },
     "metadata": {},
     "output_type": "display_data"
    }
   ],
   "source": [
    "games_actual = games[games['year_of_release'] >= 2013].reset_index()\n",
    "games_actual = games_actual.drop('index', 1)\n",
    "display(games_actual)"
   ]
  },
  {
   "cell_type": "markdown",
   "metadata": {},
   "source": [
    "<div class=\"alert alert-success\">\n",
    "<b>ОТЛИЧНО! 👍</b>\n",
    "\n",
    "Очень хорошо, что результат запроса/’среза’ ты присваиваешь новому датафрейму. Таким образом оригинальный датафрейм ты оставляешь нетронутым, не перезаписываешь (вдруг нам опять понадобятся данные из него чуть ниже). Это верное решение. Best practice. Молодец!</div>\n"
   ]
  },
  {
   "cell_type": "markdown",
   "metadata": {},
   "source": [
    "Выведем общий доход по платформам за весь исследуемый период:"
   ]
  },
  {
   "cell_type": "code",
   "execution_count": 36,
   "metadata": {},
   "outputs": [
    {
     "data": {
      "text/html": [
       "<div>\n",
       "<style scoped>\n",
       "    .dataframe tbody tr th:only-of-type {\n",
       "        vertical-align: middle;\n",
       "    }\n",
       "\n",
       "    .dataframe tbody tr th {\n",
       "        vertical-align: top;\n",
       "    }\n",
       "\n",
       "    .dataframe thead th {\n",
       "        text-align: right;\n",
       "    }\n",
       "</style>\n",
       "<table border=\"1\" class=\"dataframe\">\n",
       "  <thead>\n",
       "    <tr style=\"text-align: right;\">\n",
       "      <th></th>\n",
       "      <th>platform</th>\n",
       "      <th>total_sales</th>\n",
       "    </tr>\n",
       "  </thead>\n",
       "  <tbody>\n",
       "    <tr>\n",
       "      <th>0</th>\n",
       "      <td>PS4</td>\n",
       "      <td>314.14</td>\n",
       "    </tr>\n",
       "    <tr>\n",
       "      <th>1</th>\n",
       "      <td>PS3</td>\n",
       "      <td>181.43</td>\n",
       "    </tr>\n",
       "    <tr>\n",
       "      <th>2</th>\n",
       "      <td>XOne</td>\n",
       "      <td>159.32</td>\n",
       "    </tr>\n",
       "    <tr>\n",
       "      <th>3</th>\n",
       "      <td>3DS</td>\n",
       "      <td>143.25</td>\n",
       "    </tr>\n",
       "    <tr>\n",
       "      <th>4</th>\n",
       "      <td>X360</td>\n",
       "      <td>136.80</td>\n",
       "    </tr>\n",
       "    <tr>\n",
       "      <th>5</th>\n",
       "      <td>WiiU</td>\n",
       "      <td>64.63</td>\n",
       "    </tr>\n",
       "    <tr>\n",
       "      <th>6</th>\n",
       "      <td>PC</td>\n",
       "      <td>40.06</td>\n",
       "    </tr>\n",
       "    <tr>\n",
       "      <th>7</th>\n",
       "      <td>PSV</td>\n",
       "      <td>32.99</td>\n",
       "    </tr>\n",
       "    <tr>\n",
       "      <th>8</th>\n",
       "      <td>Wii</td>\n",
       "      <td>13.66</td>\n",
       "    </tr>\n",
       "    <tr>\n",
       "      <th>9</th>\n",
       "      <td>PSP</td>\n",
       "      <td>3.74</td>\n",
       "    </tr>\n",
       "    <tr>\n",
       "      <th>10</th>\n",
       "      <td>DS</td>\n",
       "      <td>1.54</td>\n",
       "    </tr>\n",
       "  </tbody>\n",
       "</table>\n",
       "</div>"
      ],
      "text/plain": [
       "   platform  total_sales\n",
       "0       PS4       314.14\n",
       "1       PS3       181.43\n",
       "2      XOne       159.32\n",
       "3       3DS       143.25\n",
       "4      X360       136.80\n",
       "5      WiiU        64.63\n",
       "6        PC        40.06\n",
       "7       PSV        32.99\n",
       "8       Wii        13.66\n",
       "9       PSP         3.74\n",
       "10       DS         1.54"
      ]
     },
     "metadata": {},
     "output_type": "display_data"
    }
   ],
   "source": [
    "platform_total = games_actual.groupby('platform').agg({'total_sales': 'sum'}).sort_values(by = 'total_sales', ascending = False).reset_index()\n",
    "\n",
    "display(platform_total)"
   ]
  },
  {
   "cell_type": "markdown",
   "metadata": {},
   "source": [
    "Лидерами продаж являются PS4, PS3, XOne, 3DS и X360.\n",
    "\n",
    "Чтобы подробнее исследовать прибыльность платформ, составим сводную таблицу для них по годам:"
   ]
  },
  {
   "cell_type": "code",
   "execution_count": 37,
   "metadata": {
    "scrolled": false
   },
   "outputs": [
    {
     "data": {
      "text/html": [
       "<div>\n",
       "<style scoped>\n",
       "    .dataframe tbody tr th:only-of-type {\n",
       "        vertical-align: middle;\n",
       "    }\n",
       "\n",
       "    .dataframe tbody tr th {\n",
       "        vertical-align: top;\n",
       "    }\n",
       "\n",
       "    .dataframe thead th {\n",
       "        text-align: right;\n",
       "    }\n",
       "</style>\n",
       "<table border=\"1\" class=\"dataframe\">\n",
       "  <thead>\n",
       "    <tr style=\"text-align: right;\">\n",
       "      <th></th>\n",
       "      <th></th>\n",
       "      <th>total_sales</th>\n",
       "    </tr>\n",
       "    <tr>\n",
       "      <th>platform</th>\n",
       "      <th>year_of_release</th>\n",
       "      <th></th>\n",
       "    </tr>\n",
       "  </thead>\n",
       "  <tbody>\n",
       "    <tr>\n",
       "      <th rowspan=\"4\" valign=\"top\">3DS</th>\n",
       "      <th>2013</th>\n",
       "      <td>56.57</td>\n",
       "    </tr>\n",
       "    <tr>\n",
       "      <th>2014</th>\n",
       "      <td>43.76</td>\n",
       "    </tr>\n",
       "    <tr>\n",
       "      <th>2015</th>\n",
       "      <td>27.78</td>\n",
       "    </tr>\n",
       "    <tr>\n",
       "      <th>2016</th>\n",
       "      <td>15.14</td>\n",
       "    </tr>\n",
       "    <tr>\n",
       "      <th>DS</th>\n",
       "      <th>2013</th>\n",
       "      <td>1.54</td>\n",
       "    </tr>\n",
       "    <tr>\n",
       "      <th rowspan=\"4\" valign=\"top\">PC</th>\n",
       "      <th>2013</th>\n",
       "      <td>12.66</td>\n",
       "    </tr>\n",
       "    <tr>\n",
       "      <th>2014</th>\n",
       "      <td>13.63</td>\n",
       "    </tr>\n",
       "    <tr>\n",
       "      <th>2015</th>\n",
       "      <td>8.52</td>\n",
       "    </tr>\n",
       "    <tr>\n",
       "      <th>2016</th>\n",
       "      <td>5.25</td>\n",
       "    </tr>\n",
       "    <tr>\n",
       "      <th rowspan=\"4\" valign=\"top\">PS3</th>\n",
       "      <th>2013</th>\n",
       "      <td>113.25</td>\n",
       "    </tr>\n",
       "    <tr>\n",
       "      <th>2014</th>\n",
       "      <td>47.76</td>\n",
       "    </tr>\n",
       "    <tr>\n",
       "      <th>2015</th>\n",
       "      <td>16.82</td>\n",
       "    </tr>\n",
       "    <tr>\n",
       "      <th>2016</th>\n",
       "      <td>3.60</td>\n",
       "    </tr>\n",
       "    <tr>\n",
       "      <th rowspan=\"4\" valign=\"top\">PS4</th>\n",
       "      <th>2013</th>\n",
       "      <td>25.99</td>\n",
       "    </tr>\n",
       "    <tr>\n",
       "      <th>2014</th>\n",
       "      <td>100.00</td>\n",
       "    </tr>\n",
       "    <tr>\n",
       "      <th>2015</th>\n",
       "      <td>118.90</td>\n",
       "    </tr>\n",
       "    <tr>\n",
       "      <th>2016</th>\n",
       "      <td>69.25</td>\n",
       "    </tr>\n",
       "    <tr>\n",
       "      <th rowspan=\"3\" valign=\"top\">PSP</th>\n",
       "      <th>2013</th>\n",
       "      <td>3.38</td>\n",
       "    </tr>\n",
       "    <tr>\n",
       "      <th>2014</th>\n",
       "      <td>0.24</td>\n",
       "    </tr>\n",
       "    <tr>\n",
       "      <th>2015</th>\n",
       "      <td>0.12</td>\n",
       "    </tr>\n",
       "    <tr>\n",
       "      <th rowspan=\"4\" valign=\"top\">PSV</th>\n",
       "      <th>2013</th>\n",
       "      <td>10.59</td>\n",
       "    </tr>\n",
       "    <tr>\n",
       "      <th>2014</th>\n",
       "      <td>11.90</td>\n",
       "    </tr>\n",
       "    <tr>\n",
       "      <th>2015</th>\n",
       "      <td>6.25</td>\n",
       "    </tr>\n",
       "    <tr>\n",
       "      <th>2016</th>\n",
       "      <td>4.25</td>\n",
       "    </tr>\n",
       "    <tr>\n",
       "      <th rowspan=\"4\" valign=\"top\">Wii</th>\n",
       "      <th>2013</th>\n",
       "      <td>8.59</td>\n",
       "    </tr>\n",
       "    <tr>\n",
       "      <th>2014</th>\n",
       "      <td>3.75</td>\n",
       "    </tr>\n",
       "    <tr>\n",
       "      <th>2015</th>\n",
       "      <td>1.14</td>\n",
       "    </tr>\n",
       "    <tr>\n",
       "      <th>2016</th>\n",
       "      <td>0.18</td>\n",
       "    </tr>\n",
       "    <tr>\n",
       "      <th rowspan=\"4\" valign=\"top\">WiiU</th>\n",
       "      <th>2013</th>\n",
       "      <td>21.65</td>\n",
       "    </tr>\n",
       "    <tr>\n",
       "      <th>2014</th>\n",
       "      <td>22.03</td>\n",
       "    </tr>\n",
       "    <tr>\n",
       "      <th>2015</th>\n",
       "      <td>16.35</td>\n",
       "    </tr>\n",
       "    <tr>\n",
       "      <th>2016</th>\n",
       "      <td>4.60</td>\n",
       "    </tr>\n",
       "    <tr>\n",
       "      <th rowspan=\"4\" valign=\"top\">X360</th>\n",
       "      <th>2013</th>\n",
       "      <td>88.58</td>\n",
       "    </tr>\n",
       "    <tr>\n",
       "      <th>2014</th>\n",
       "      <td>34.74</td>\n",
       "    </tr>\n",
       "    <tr>\n",
       "      <th>2015</th>\n",
       "      <td>11.96</td>\n",
       "    </tr>\n",
       "    <tr>\n",
       "      <th>2016</th>\n",
       "      <td>1.52</td>\n",
       "    </tr>\n",
       "    <tr>\n",
       "      <th rowspan=\"4\" valign=\"top\">XOne</th>\n",
       "      <th>2013</th>\n",
       "      <td>18.96</td>\n",
       "    </tr>\n",
       "    <tr>\n",
       "      <th>2014</th>\n",
       "      <td>54.07</td>\n",
       "    </tr>\n",
       "    <tr>\n",
       "      <th>2015</th>\n",
       "      <td>60.14</td>\n",
       "    </tr>\n",
       "    <tr>\n",
       "      <th>2016</th>\n",
       "      <td>26.15</td>\n",
       "    </tr>\n",
       "  </tbody>\n",
       "</table>\n",
       "</div>"
      ],
      "text/plain": [
       "                          total_sales\n",
       "platform year_of_release             \n",
       "3DS      2013                   56.57\n",
       "         2014                   43.76\n",
       "         2015                   27.78\n",
       "         2016                   15.14\n",
       "DS       2013                    1.54\n",
       "PC       2013                   12.66\n",
       "         2014                   13.63\n",
       "         2015                    8.52\n",
       "         2016                    5.25\n",
       "PS3      2013                  113.25\n",
       "         2014                   47.76\n",
       "         2015                   16.82\n",
       "         2016                    3.60\n",
       "PS4      2013                   25.99\n",
       "         2014                  100.00\n",
       "         2015                  118.90\n",
       "         2016                   69.25\n",
       "PSP      2013                    3.38\n",
       "         2014                    0.24\n",
       "         2015                    0.12\n",
       "PSV      2013                   10.59\n",
       "         2014                   11.90\n",
       "         2015                    6.25\n",
       "         2016                    4.25\n",
       "Wii      2013                    8.59\n",
       "         2014                    3.75\n",
       "         2015                    1.14\n",
       "         2016                    0.18\n",
       "WiiU     2013                   21.65\n",
       "         2014                   22.03\n",
       "         2015                   16.35\n",
       "         2016                    4.60\n",
       "X360     2013                   88.58\n",
       "         2014                   34.74\n",
       "         2015                   11.96\n",
       "         2016                    1.52\n",
       "XOne     2013                   18.96\n",
       "         2014                   54.07\n",
       "         2015                   60.14\n",
       "         2016                   26.15"
      ]
     },
     "metadata": {},
     "output_type": "display_data"
    }
   ],
   "source": [
    "platform_per_year = games_actual.pivot_table(index=['platform','year_of_release'], values='total_sales', aggfunc='sum')\n",
    "\n",
    "display(platform_per_year)"
   ]
  },
  {
   "cell_type": "markdown",
   "metadata": {},
   "source": [
    "Теперь мы видим, что скачки роста продаж есть только у PC, PS4, XOne, 3DS, WiiU и PSV. Именно они и являются самыми прибыльными на данный период. PS3, X360, Wii и PSP наоборот теряют в продажах. \n",
    "\n",
    "Игры на DS же вообще перестали выпускаться после 2013 года.\n",
    "\n",
    "Это можно объяснить тем, что более новые версии платформ заменяют своих предшественников, предлагая игрокам более приятный опыт.\n",
    "\n",
    "Для удобства внесем самые многообещающие платформы в отдельный список:"
   ]
  },
  {
   "cell_type": "code",
   "execution_count": 38,
   "metadata": {},
   "outputs": [],
   "source": [
    "top_platforms_actual = ['PC', 'PS4', 'XOne', '3DS', 'WiiU', 'PSV']"
   ]
  },
  {
   "cell_type": "markdown",
   "metadata": {},
   "source": [
    "Теперь составим \"ящики с усами\" для каждой из выбранных платформ.\n",
    "\n",
    "Для этого создадим новый датафрейм, который будет включать в себя только данные по интересующим нас платформам:"
   ]
  },
  {
   "cell_type": "code",
   "execution_count": 39,
   "metadata": {
    "scrolled": true
   },
   "outputs": [
    {
     "data": {
      "text/html": [
       "<div>\n",
       "<style scoped>\n",
       "    .dataframe tbody tr th:only-of-type {\n",
       "        vertical-align: middle;\n",
       "    }\n",
       "\n",
       "    .dataframe tbody tr th {\n",
       "        vertical-align: top;\n",
       "    }\n",
       "\n",
       "    .dataframe thead th {\n",
       "        text-align: right;\n",
       "    }\n",
       "</style>\n",
       "<table border=\"1\" class=\"dataframe\">\n",
       "  <thead>\n",
       "    <tr style=\"text-align: right;\">\n",
       "      <th></th>\n",
       "      <th>name</th>\n",
       "      <th>platform</th>\n",
       "      <th>year_of_release</th>\n",
       "      <th>genre</th>\n",
       "      <th>na_sales</th>\n",
       "      <th>eu_sales</th>\n",
       "      <th>jp_sales</th>\n",
       "      <th>other_sales</th>\n",
       "      <th>critic_score</th>\n",
       "      <th>user_score</th>\n",
       "      <th>rating</th>\n",
       "      <th>total_sales</th>\n",
       "    </tr>\n",
       "  </thead>\n",
       "  <tbody>\n",
       "    <tr>\n",
       "      <th>2</th>\n",
       "      <td>Call of Duty: Black Ops 3</td>\n",
       "      <td>PS4</td>\n",
       "      <td>2015</td>\n",
       "      <td>Shooter</td>\n",
       "      <td>6.03</td>\n",
       "      <td>5.86</td>\n",
       "      <td>0.36</td>\n",
       "      <td>2.38</td>\n",
       "      <td>NaN</td>\n",
       "      <td>NaN</td>\n",
       "      <td>NR</td>\n",
       "      <td>14.63</td>\n",
       "    </tr>\n",
       "    <tr>\n",
       "      <th>3</th>\n",
       "      <td>Pokemon X/Pokemon Y</td>\n",
       "      <td>3DS</td>\n",
       "      <td>2013</td>\n",
       "      <td>Role-Playing</td>\n",
       "      <td>5.28</td>\n",
       "      <td>4.19</td>\n",
       "      <td>4.35</td>\n",
       "      <td>0.78</td>\n",
       "      <td>NaN</td>\n",
       "      <td>NaN</td>\n",
       "      <td>NR</td>\n",
       "      <td>14.60</td>\n",
       "    </tr>\n",
       "    <tr>\n",
       "      <th>4</th>\n",
       "      <td>Grand Theft Auto V</td>\n",
       "      <td>PS4</td>\n",
       "      <td>2014</td>\n",
       "      <td>Action</td>\n",
       "      <td>3.96</td>\n",
       "      <td>6.31</td>\n",
       "      <td>0.38</td>\n",
       "      <td>1.97</td>\n",
       "      <td>97.0</td>\n",
       "      <td>8.3</td>\n",
       "      <td>M</td>\n",
       "      <td>12.62</td>\n",
       "    </tr>\n",
       "    <tr>\n",
       "      <th>5</th>\n",
       "      <td>Pokemon Omega Ruby/Pokemon Alpha Sapphire</td>\n",
       "      <td>3DS</td>\n",
       "      <td>2014</td>\n",
       "      <td>Role-Playing</td>\n",
       "      <td>4.35</td>\n",
       "      <td>3.49</td>\n",
       "      <td>3.10</td>\n",
       "      <td>0.74</td>\n",
       "      <td>NaN</td>\n",
       "      <td>NaN</td>\n",
       "      <td>NR</td>\n",
       "      <td>11.68</td>\n",
       "    </tr>\n",
       "    <tr>\n",
       "      <th>9</th>\n",
       "      <td>FIFA 16</td>\n",
       "      <td>PS4</td>\n",
       "      <td>2015</td>\n",
       "      <td>Sports</td>\n",
       "      <td>1.12</td>\n",
       "      <td>6.12</td>\n",
       "      <td>0.06</td>\n",
       "      <td>1.28</td>\n",
       "      <td>82.0</td>\n",
       "      <td>4.3</td>\n",
       "      <td>E</td>\n",
       "      <td>8.58</td>\n",
       "    </tr>\n",
       "  </tbody>\n",
       "</table>\n",
       "</div>"
      ],
      "text/plain": [
       "                                        name platform  year_of_release  \\\n",
       "2                  Call of Duty: Black Ops 3      PS4             2015   \n",
       "3                        Pokemon X/Pokemon Y      3DS             2013   \n",
       "4                         Grand Theft Auto V      PS4             2014   \n",
       "5  Pokemon Omega Ruby/Pokemon Alpha Sapphire      3DS             2014   \n",
       "9                                    FIFA 16      PS4             2015   \n",
       "\n",
       "          genre  na_sales  eu_sales  jp_sales  other_sales  critic_score  \\\n",
       "2       Shooter      6.03      5.86      0.36         2.38           NaN   \n",
       "3  Role-Playing      5.28      4.19      4.35         0.78           NaN   \n",
       "4        Action      3.96      6.31      0.38         1.97          97.0   \n",
       "5  Role-Playing      4.35      3.49      3.10         0.74           NaN   \n",
       "9        Sports      1.12      6.12      0.06         1.28          82.0   \n",
       "\n",
       "   user_score rating  total_sales  \n",
       "2         NaN     NR        14.63  \n",
       "3         NaN     NR        14.60  \n",
       "4         8.3      M        12.62  \n",
       "5         NaN     NR        11.68  \n",
       "9         4.3      E         8.58  "
      ]
     },
     "metadata": {},
     "output_type": "display_data"
    }
   ],
   "source": [
    "top_platforms_data = games_actual[games_actual['platform'].isin(top_platforms_actual)]\n",
    "\n",
    "display(top_platforms_data.head(5))"
   ]
  },
  {
   "cell_type": "markdown",
   "metadata": {},
   "source": [
    "Теперь нарисуем ящики, используя данные из датафрейма:"
   ]
  },
  {
   "cell_type": "code",
   "execution_count": 40,
   "metadata": {},
   "outputs": [
    {
     "data": {
      "text/plain": [
       "Text(0, 0.5, 'Число продаж')"
      ]
     },
     "execution_count": 40,
     "metadata": {},
     "output_type": "execute_result"
    },
    {
     "data": {
      "image/png": "[encoded data removed]",
      "text/plain": [
       "<Figure size 1080x720 with 1 Axes>"
      ]
     },
     "metadata": {
      "needs_background": "light"
     },
     "output_type": "display_data"
    }
   ],
   "source": [
    "plt.figure(figsize=(15,10))\n",
    "sns.boxplot(data=top_platforms_data, x='platform', y='total_sales')\n",
    "plt.title('Ящики с усами')\n",
    "plt.xlabel('Платформа')\n",
    "plt.ylabel('Число продаж')"
   ]
  },
  {
   "cell_type": "markdown",
   "metadata": {},
   "source": [
    "Сделаем вторую версию графика, обрезав выбросы, чтобы рассмотреть ящики детальнее:"
   ]
  },
  {
   "cell_type": "code",
   "execution_count": 41,
   "metadata": {},
   "outputs": [
    {
     "data": {
      "text/plain": [
       "Text(0, 0.5, 'Число продаж')"
      ]
     },
     "execution_count": 41,
     "metadata": {},
     "output_type": "execute_result"
    },
    {
     "data": {
      "image/png": "[encoded data removed]",
      "text/plain": [
       "<Figure size 1080x720 with 1 Axes>"
      ]
     },
     "metadata": {
      "needs_background": "light"
     },
     "output_type": "display_data"
    }
   ],
   "source": [
    "plt.figure(figsize=(15,10))\n",
    "sns.boxplot(data=top_platforms_data, x='platform', y='total_sales')\n",
    "plt.ylim(0, 2)\n",
    "plt.title('Ящики с усами')\n",
    "plt.xlabel('Платформа')\n",
    "plt.ylabel('Число продаж')"
   ]
  },
  {
   "cell_type": "markdown",
   "metadata": {},
   "source": [
    "Изучим все эти платформы повнимательнее:"
   ]
  },
  {
   "cell_type": "code",
   "execution_count": 42,
   "metadata": {
    "scrolled": false
   },
   "outputs": [
    {
     "name": "stdout",
     "output_type": "stream",
     "text": [
      "Платформа PC\n",
      "count    192.000000\n",
      "mean       0.208646\n",
      "std        0.349801\n",
      "min        0.010000\n",
      "25%        0.030000\n",
      "50%        0.080000\n",
      "75%        0.230000\n",
      "max        3.050000\n",
      "Name: total_sales, dtype: float64\n",
      "\n",
      "Платформа PS4\n",
      "count    392.000000\n",
      "mean       0.801378\n",
      "std        1.609456\n",
      "min        0.010000\n",
      "25%        0.060000\n",
      "50%        0.200000\n",
      "75%        0.730000\n",
      "max       14.630000\n",
      "Name: total_sales, dtype: float64\n",
      "\n",
      "Платформа XOne\n",
      "count    247.000000\n",
      "mean       0.645020\n",
      "std        1.036139\n",
      "min        0.010000\n",
      "25%        0.060000\n",
      "50%        0.220000\n",
      "75%        0.685000\n",
      "max        7.390000\n",
      "Name: total_sales, dtype: float64\n",
      "\n",
      "Платформа 3DS\n",
      "count    303.000000\n",
      "mean       0.472772\n",
      "std        1.381347\n",
      "min        0.010000\n",
      "25%        0.040000\n",
      "50%        0.090000\n",
      "75%        0.280000\n",
      "max       14.600000\n",
      "Name: total_sales, dtype: float64\n",
      "\n",
      "Платформа WiiU\n",
      "count    115.000000\n",
      "mean       0.562000\n",
      "std        1.038778\n",
      "min        0.010000\n",
      "25%        0.060000\n",
      "50%        0.200000\n",
      "75%        0.595000\n",
      "max        7.090000\n",
      "Name: total_sales, dtype: float64\n",
      "\n",
      "Платформа PSV\n",
      "count    358.000000\n",
      "mean       0.092151\n",
      "std        0.153816\n",
      "min        0.010000\n",
      "25%        0.020000\n",
      "50%        0.040000\n",
      "75%        0.110000\n",
      "max        1.960000\n",
      "Name: total_sales, dtype: float64\n",
      "\n"
     ]
    }
   ],
   "source": [
    "for plat in top_platforms_actual:\n",
    "    platform_description = games_actual[games_actual['platform']==plat]\n",
    "    print('Платформа', plat)\n",
    "    print(platform_description['total_sales'].describe())\n",
    "    print('')"
   ]
  },
  {
   "cell_type": "markdown",
   "metadata": {},
   "source": [
    "**Выводы:**\n",
    "\n",
    "1. Среднее число продаж на PC на одну игру составляет 208 тыс. копий. Максимальное число продаж: 3.1 млн. копий.\n",
    "2. Среднее число продаж на PS4 на одну игру составляет 801 тыс. копий. Максимальное число продаж: 14.6 млн. копий.\n",
    "3. Среднее число продаж на XOne на одну игру составляет 645 тыс. копий. Максимальное число продаж: 7.4 млн. копий.\n",
    "4. Среднее число продаж на 3DS на одну игру составляет 472 тыс. копий. Максимальное число продаж: 14.6 млн. копий.\n",
    "5. Среднее число продаж на WiiU на одну игру составляет 562 тыс. копий. Максимальное число продаж: 7.1 млн. копий.\n",
    "6. Среднее число продаж на PSV на одну игру составляет 92 тыс. копий. Максимальное число продаж: 2 млн. копий."
   ]
  },
  {
   "cell_type": "markdown",
   "metadata": {},
   "source": [
    "### Влияние отзывов пользователей и критиков на продажи\n",
    "\n",
    "Для того, чтобы исследовать, влияют ли отзывы пользователей и критиков на число продаж, выберем самую популярную платформу. Исходя из приведенных ранее выводов, этой платформой является PS4.\n",
    "\n",
    "Для начала выведем из исследуемой таблицы данные по интересующей нас платформе, и сохраним их в отдельный датафрейм:"
   ]
  },
  {
   "cell_type": "code",
   "execution_count": 43,
   "metadata": {},
   "outputs": [
    {
     "name": "stderr",
     "output_type": "stream",
     "text": [
      "C:\\Users\\Taras\\AppData\\Local\\Temp/ipykernel_15944/2922114790.py:2: FutureWarning: In a future version of pandas all arguments of DataFrame.drop except for the argument 'labels' will be keyword-only\n",
      "  ps4_actual = ps4_actual.drop('index', 1)\n"
     ]
    },
    {
     "data": {
      "text/html": [
       "<div>\n",
       "<style scoped>\n",
       "    .dataframe tbody tr th:only-of-type {\n",
       "        vertical-align: middle;\n",
       "    }\n",
       "\n",
       "    .dataframe tbody tr th {\n",
       "        vertical-align: top;\n",
       "    }\n",
       "\n",
       "    .dataframe thead th {\n",
       "        text-align: right;\n",
       "    }\n",
       "</style>\n",
       "<table border=\"1\" class=\"dataframe\">\n",
       "  <thead>\n",
       "    <tr style=\"text-align: right;\">\n",
       "      <th></th>\n",
       "      <th>name</th>\n",
       "      <th>platform</th>\n",
       "      <th>year_of_release</th>\n",
       "      <th>genre</th>\n",
       "      <th>na_sales</th>\n",
       "      <th>eu_sales</th>\n",
       "      <th>jp_sales</th>\n",
       "      <th>other_sales</th>\n",
       "      <th>critic_score</th>\n",
       "      <th>user_score</th>\n",
       "      <th>rating</th>\n",
       "      <th>total_sales</th>\n",
       "    </tr>\n",
       "  </thead>\n",
       "  <tbody>\n",
       "    <tr>\n",
       "      <th>0</th>\n",
       "      <td>Call of Duty: Black Ops 3</td>\n",
       "      <td>PS4</td>\n",
       "      <td>2015</td>\n",
       "      <td>Shooter</td>\n",
       "      <td>6.03</td>\n",
       "      <td>5.86</td>\n",
       "      <td>0.36</td>\n",
       "      <td>2.38</td>\n",
       "      <td>NaN</td>\n",
       "      <td>NaN</td>\n",
       "      <td>NR</td>\n",
       "      <td>14.63</td>\n",
       "    </tr>\n",
       "    <tr>\n",
       "      <th>1</th>\n",
       "      <td>Grand Theft Auto V</td>\n",
       "      <td>PS4</td>\n",
       "      <td>2014</td>\n",
       "      <td>Action</td>\n",
       "      <td>3.96</td>\n",
       "      <td>6.31</td>\n",
       "      <td>0.38</td>\n",
       "      <td>1.97</td>\n",
       "      <td>97.0</td>\n",
       "      <td>8.3</td>\n",
       "      <td>M</td>\n",
       "      <td>12.62</td>\n",
       "    </tr>\n",
       "    <tr>\n",
       "      <th>2</th>\n",
       "      <td>FIFA 16</td>\n",
       "      <td>PS4</td>\n",
       "      <td>2015</td>\n",
       "      <td>Sports</td>\n",
       "      <td>1.12</td>\n",
       "      <td>6.12</td>\n",
       "      <td>0.06</td>\n",
       "      <td>1.28</td>\n",
       "      <td>82.0</td>\n",
       "      <td>4.3</td>\n",
       "      <td>E</td>\n",
       "      <td>8.58</td>\n",
       "    </tr>\n",
       "    <tr>\n",
       "      <th>3</th>\n",
       "      <td>Star Wars Battlefront (2015)</td>\n",
       "      <td>PS4</td>\n",
       "      <td>2015</td>\n",
       "      <td>Shooter</td>\n",
       "      <td>2.99</td>\n",
       "      <td>3.49</td>\n",
       "      <td>0.22</td>\n",
       "      <td>1.28</td>\n",
       "      <td>NaN</td>\n",
       "      <td>NaN</td>\n",
       "      <td>NR</td>\n",
       "      <td>7.98</td>\n",
       "    </tr>\n",
       "    <tr>\n",
       "      <th>4</th>\n",
       "      <td>Call of Duty: Advanced Warfare</td>\n",
       "      <td>PS4</td>\n",
       "      <td>2014</td>\n",
       "      <td>Shooter</td>\n",
       "      <td>2.81</td>\n",
       "      <td>3.48</td>\n",
       "      <td>0.14</td>\n",
       "      <td>1.23</td>\n",
       "      <td>83.0</td>\n",
       "      <td>5.7</td>\n",
       "      <td>M</td>\n",
       "      <td>7.66</td>\n",
       "    </tr>\n",
       "    <tr>\n",
       "      <th>5</th>\n",
       "      <td>FIFA 17</td>\n",
       "      <td>PS4</td>\n",
       "      <td>2016</td>\n",
       "      <td>Sports</td>\n",
       "      <td>0.66</td>\n",
       "      <td>5.75</td>\n",
       "      <td>0.08</td>\n",
       "      <td>1.11</td>\n",
       "      <td>85.0</td>\n",
       "      <td>5.0</td>\n",
       "      <td>E</td>\n",
       "      <td>7.60</td>\n",
       "    </tr>\n",
       "    <tr>\n",
       "      <th>6</th>\n",
       "      <td>Fallout 4</td>\n",
       "      <td>PS4</td>\n",
       "      <td>2015</td>\n",
       "      <td>Role-Playing</td>\n",
       "      <td>2.53</td>\n",
       "      <td>3.27</td>\n",
       "      <td>0.24</td>\n",
       "      <td>1.13</td>\n",
       "      <td>87.0</td>\n",
       "      <td>6.5</td>\n",
       "      <td>M</td>\n",
       "      <td>7.17</td>\n",
       "    </tr>\n",
       "    <tr>\n",
       "      <th>7</th>\n",
       "      <td>FIFA 15</td>\n",
       "      <td>PS4</td>\n",
       "      <td>2014</td>\n",
       "      <td>Sports</td>\n",
       "      <td>0.80</td>\n",
       "      <td>4.33</td>\n",
       "      <td>0.05</td>\n",
       "      <td>0.90</td>\n",
       "      <td>82.0</td>\n",
       "      <td>5.7</td>\n",
       "      <td>E</td>\n",
       "      <td>6.08</td>\n",
       "    </tr>\n",
       "    <tr>\n",
       "      <th>8</th>\n",
       "      <td>Destiny</td>\n",
       "      <td>PS4</td>\n",
       "      <td>2014</td>\n",
       "      <td>Shooter</td>\n",
       "      <td>2.49</td>\n",
       "      <td>2.07</td>\n",
       "      <td>0.16</td>\n",
       "      <td>0.92</td>\n",
       "      <td>76.0</td>\n",
       "      <td>6.1</td>\n",
       "      <td>T</td>\n",
       "      <td>5.64</td>\n",
       "    </tr>\n",
       "    <tr>\n",
       "      <th>9</th>\n",
       "      <td>Uncharted 4: A Thief's End</td>\n",
       "      <td>PS4</td>\n",
       "      <td>2016</td>\n",
       "      <td>Shooter</td>\n",
       "      <td>1.85</td>\n",
       "      <td>2.50</td>\n",
       "      <td>0.19</td>\n",
       "      <td>0.85</td>\n",
       "      <td>93.0</td>\n",
       "      <td>7.9</td>\n",
       "      <td>T</td>\n",
       "      <td>5.39</td>\n",
       "    </tr>\n",
       "  </tbody>\n",
       "</table>\n",
       "</div>"
      ],
      "text/plain": [
       "                             name platform  year_of_release         genre  \\\n",
       "0       Call of Duty: Black Ops 3      PS4             2015       Shooter   \n",
       "1              Grand Theft Auto V      PS4             2014        Action   \n",
       "2                         FIFA 16      PS4             2015        Sports   \n",
       "3    Star Wars Battlefront (2015)      PS4             2015       Shooter   \n",
       "4  Call of Duty: Advanced Warfare      PS4             2014       Shooter   \n",
       "5                         FIFA 17      PS4             2016        Sports   \n",
       "6                       Fallout 4      PS4             2015  Role-Playing   \n",
       "7                         FIFA 15      PS4             2014        Sports   \n",
       "8                         Destiny      PS4             2014       Shooter   \n",
       "9      Uncharted 4: A Thief's End      PS4             2016       Shooter   \n",
       "\n",
       "   na_sales  eu_sales  jp_sales  other_sales  critic_score  user_score rating  \\\n",
       "0      6.03      5.86      0.36         2.38           NaN         NaN     NR   \n",
       "1      3.96      6.31      0.38         1.97          97.0         8.3      M   \n",
       "2      1.12      6.12      0.06         1.28          82.0         4.3      E   \n",
       "3      2.99      3.49      0.22         1.28           NaN         NaN     NR   \n",
       "4      2.81      3.48      0.14         1.23          83.0         5.7      M   \n",
       "5      0.66      5.75      0.08         1.11          85.0         5.0      E   \n",
       "6      2.53      3.27      0.24         1.13          87.0         6.5      M   \n",
       "7      0.80      4.33      0.05         0.90          82.0         5.7      E   \n",
       "8      2.49      2.07      0.16         0.92          76.0         6.1      T   \n",
       "9      1.85      2.50      0.19         0.85          93.0         7.9      T   \n",
       "\n",
       "   total_sales  \n",
       "0        14.63  \n",
       "1        12.62  \n",
       "2         8.58  \n",
       "3         7.98  \n",
       "4         7.66  \n",
       "5         7.60  \n",
       "6         7.17  \n",
       "7         6.08  \n",
       "8         5.64  \n",
       "9         5.39  "
      ]
     },
     "execution_count": 43,
     "metadata": {},
     "output_type": "execute_result"
    }
   ],
   "source": [
    "ps4_actual = games_actual.query('platform == \"PS4\"').reset_index()\n",
    "ps4_actual = ps4_actual.drop('index', 1)\n",
    "ps4_actual.head(10)"
   ]
  },
  {
   "cell_type": "markdown",
   "metadata": {},
   "source": [
    "Cоставим диаграмму рассеивания для зависимости числа продаж от отзывов пользователей:"
   ]
  },
  {
   "cell_type": "code",
   "execution_count": 44,
   "metadata": {},
   "outputs": [
    {
     "data": {
      "text/plain": [
       "Text(0, 0.5, 'Число продаж')"
      ]
     },
     "execution_count": 44,
     "metadata": {},
     "output_type": "execute_result"
    },
    {
     "data": {
      "image/png": "[encoded data removed]",
      "text/plain": [
       "<Figure size 1080x360 with 1 Axes>"
      ]
     },
     "metadata": {
      "needs_background": "light"
     },
     "output_type": "display_data"
    }
   ],
   "source": [
    "plt.figure(figsize=(15,5))\n",
    "sns.scatterplot(x='user_score', y='total_sales', data=ps4_actual)\n",
    "plt.title('PS4')\n",
    "plt.xlabel('Оценка пользователей')\n",
    "plt.ylabel('Число продаж')"
   ]
  },
  {
   "cell_type": "markdown",
   "metadata": {},
   "source": [
    "Рассчитаем корреляцию:"
   ]
  },
  {
   "cell_type": "code",
   "execution_count": 45,
   "metadata": {},
   "outputs": [
    {
     "name": "stdout",
     "output_type": "stream",
     "text": [
      "-0.031957110204556376\n"
     ]
    }
   ],
   "source": [
    "print(ps4_actual['user_score'].corr(ps4_actual['total_sales']))"
   ]
  },
  {
   "cell_type": "markdown",
   "metadata": {},
   "source": [
    "Теперь же составим диаграмму рассеивания для зависимости числа продаж от отзывов критиков:"
   ]
  },
  {
   "cell_type": "code",
   "execution_count": 46,
   "metadata": {},
   "outputs": [
    {
     "data": {
      "text/plain": [
       "Text(0, 0.5, 'Число продаж')"
      ]
     },
     "execution_count": 46,
     "metadata": {},
     "output_type": "execute_result"
    },
    {
     "data": {
      "image/png": "[encoded data removed]",
      "text/plain": [
       "<Figure size 1080x360 with 1 Axes>"
      ]
     },
     "metadata": {
      "needs_background": "light"
     },
     "output_type": "display_data"
    }
   ],
   "source": [
    "plt.figure(figsize=(15,5))\n",
    "sns.scatterplot(x='critic_score', y='total_sales', data=ps4_actual)\n",
    "plt.title('PS4')\n",
    "plt.xlabel('Оценка критиков')\n",
    "plt.ylabel('Число продаж')"
   ]
  },
  {
   "cell_type": "markdown",
   "metadata": {},
   "source": [
    "Рассчитаем корреляцию:"
   ]
  },
  {
   "cell_type": "code",
   "execution_count": 47,
   "metadata": {},
   "outputs": [
    {
     "name": "stdout",
     "output_type": "stream",
     "text": [
      "0.40656790206178095\n"
     ]
    }
   ],
   "source": [
    "print(ps4_actual['critic_score'].corr(ps4_actual['total_sales']))"
   ]
  },
  {
   "cell_type": "markdown",
   "metadata": {},
   "source": [
    "В итоге мы видим, что для платформы PS4 есть прямая корреляция между числом продаж и отзывами критиков, но корреляция между продажами и отзывами пользователей выражена очень слабо.\n",
    "\n",
    "Соотнесем эти выводы с результатами для других успешных платформ. \n",
    "\n",
    "Составим диаграммы рассеивания для зависимости числа продаж от отзывов пользователей и рассчитаем корреляцию для каждой из них:"
   ]
  },
  {
   "cell_type": "code",
   "execution_count": 48,
   "metadata": {
    "scrolled": false
   },
   "outputs": [
    {
     "data": {
      "image/png": "[encoded data removed]",
      "text/plain": [
       "<Figure size 1080x360 with 1 Axes>"
      ]
     },
     "metadata": {
      "needs_background": "light"
     },
     "output_type": "display_data"
    },
    {
     "name": "stdout",
     "output_type": "stream",
     "text": [
      "Коэффициент корреляции: -0.0899977567844875\n"
     ]
    },
    {
     "data": {
      "image/png": "[encoded data removed]",
      "text/plain": [
       "<Figure size 1080x360 with 1 Axes>"
      ]
     },
     "metadata": {
      "needs_background": "light"
     },
     "output_type": "display_data"
    },
    {
     "name": "stdout",
     "output_type": "stream",
     "text": [
      "Коэффициент корреляции: -0.031957110204556376\n"
     ]
    },
    {
     "data": {
      "image/png": "[encoded data removed]",
      "text/plain": [
       "<Figure size 1080x360 with 1 Axes>"
      ]
     },
     "metadata": {
      "needs_background": "light"
     },
     "output_type": "display_data"
    },
    {
     "name": "stdout",
     "output_type": "stream",
     "text": [
      "Коэффициент корреляции: -0.06892505328279414\n"
     ]
    },
    {
     "data": {
      "image/png": "[encoded data removed]",
      "text/plain": [
       "<Figure size 1080x360 with 1 Axes>"
      ]
     },
     "metadata": {
      "needs_background": "light"
     },
     "output_type": "display_data"
    },
    {
     "name": "stdout",
     "output_type": "stream",
     "text": [
      "Коэффициент корреляции: 0.24150411773563016\n"
     ]
    },
    {
     "data": {
      "image/png": "[encoded data removed]",
      "text/plain": [
       "<Figure size 1080x360 with 1 Axes>"
      ]
     },
     "metadata": {
      "needs_background": "light"
     },
     "output_type": "display_data"
    },
    {
     "name": "stdout",
     "output_type": "stream",
     "text": [
      "Коэффициент корреляции: 0.4193304819266187\n"
     ]
    },
    {
     "data": {
      "image/png": "[encoded data removed]",
      "text/plain": [
       "<Figure size 1080x360 with 1 Axes>"
      ]
     },
     "metadata": {
      "needs_background": "light"
     },
     "output_type": "display_data"
    },
    {
     "name": "stdout",
     "output_type": "stream",
     "text": [
      "Коэффициент корреляции: 0.0009424723319108626\n"
     ]
    }
   ],
   "source": [
    "for plat in top_platforms_actual:\n",
    "    platform = games_actual[games_actual['platform']==plat]\n",
    "    plt.figure(figsize=(15,5))\n",
    "    sns.scatterplot(x='user_score', y='total_sales', data=platform)\n",
    "    plt.title(plat)\n",
    "    plt.xlabel('Оценка пользователей')\n",
    "    plt.ylabel('Число продаж')\n",
    "    plt.show()\n",
    "    print('Коэффициент корреляции:', platform['user_score'].corr(platform['total_sales']))"
   ]
  },
  {
   "cell_type": "markdown",
   "metadata": {},
   "source": [
    "Сделаем все то-же самое, но теперь для зависимости числа продаж от отзывов критиков:"
   ]
  },
  {
   "cell_type": "code",
   "execution_count": 49,
   "metadata": {
    "scrolled": false
   },
   "outputs": [
    {
     "data": {
      "image/png": "[encoded data removed]",
      "text/plain": [
       "<Figure size 1080x360 with 1 Axes>"
      ]
     },
     "metadata": {
      "needs_background": "light"
     },
     "output_type": "display_data"
    },
    {
     "name": "stdout",
     "output_type": "stream",
     "text": [
      "Коэффициент корреляции: 0.19965984836380182\n"
     ]
    },
    {
     "data": {
      "image/png": "[encoded data removed]",
      "text/plain": [
       "<Figure size 1080x360 with 1 Axes>"
      ]
     },
     "metadata": {
      "needs_background": "light"
     },
     "output_type": "display_data"
    },
    {
     "name": "stdout",
     "output_type": "stream",
     "text": [
      "Коэффициент корреляции: 0.40656790206178095\n"
     ]
    },
    {
     "data": {
      "image/png": "[encoded data removed]",
      "text/plain": [
       "<Figure size 1080x360 with 1 Axes>"
      ]
     },
     "metadata": {
      "needs_background": "light"
     },
     "output_type": "display_data"
    },
    {
     "name": "stdout",
     "output_type": "stream",
     "text": [
      "Коэффициент корреляции: 0.4169983280084017\n"
     ]
    },
    {
     "data": {
      "image/png": "[encoded data removed]",
      "text/plain": [
       "<Figure size 1080x360 with 1 Axes>"
      ]
     },
     "metadata": {
      "needs_background": "light"
     },
     "output_type": "display_data"
    },
    {
     "name": "stdout",
     "output_type": "stream",
     "text": [
      "Коэффициент корреляции: 0.3570566142288103\n"
     ]
    },
    {
     "data": {
      "image/png": "[encoded data removed]",
      "text/plain": [
       "<Figure size 1080x360 with 1 Axes>"
      ]
     },
     "metadata": {
      "needs_background": "light"
     },
     "output_type": "display_data"
    },
    {
     "name": "stdout",
     "output_type": "stream",
     "text": [
      "Коэффициент корреляции: 0.3764149065423912\n"
     ]
    },
    {
     "data": {
      "image/png": "[encoded data removed]",
      "text/plain": [
       "<Figure size 1080x360 with 1 Axes>"
      ]
     },
     "metadata": {
      "needs_background": "light"
     },
     "output_type": "display_data"
    },
    {
     "name": "stdout",
     "output_type": "stream",
     "text": [
      "Коэффициент корреляции: 0.2547423503068656\n"
     ]
    }
   ],
   "source": [
    "for plat in top_platforms_actual:\n",
    "    platform = games_actual[games_actual['platform']==plat]\n",
    "    plt.figure(figsize=(15,5))\n",
    "    sns.scatterplot(x='critic_score', y='total_sales', data=platform)\n",
    "    plt.title(plat)\n",
    "    plt.xlabel('Оценка критиков')\n",
    "    plt.ylabel('Число продаж')\n",
    "    plt.show()\n",
    "    print('Коэффициент корреляции:', platform['critic_score'].corr(platform['total_sales']))"
   ]
  },
  {
   "cell_type": "markdown",
   "metadata": {},
   "source": [
    "**Выводы:**\n",
    "\n",
    "1. Для PC:\n",
    "    * Корреляция между отзывами критиков и числом продаж слабая прямая.\n",
    "    * Корреляция между отзывами пользователей и числом продаж отсутствует.\n",
    "2. Для PS4:\n",
    "    * Корреляция между отзывами критиков и числом продаж средняя прямая.\n",
    "    * Корреляция между отзывами пользователей и числом продаж отсутствует.\n",
    "3. Для XOne:\n",
    "    * Корреляция между отзывами критиков и числом продаж средняя прямая.\n",
    "    * Корреляция между отзывами пользователей и числом продаж отсутствует.\n",
    "4. Для 3DS:\n",
    "    * Корреляция между отзывами критиков и числом продаж средняя прямая.\n",
    "    * Корреляция между отзывами пользователей и числом продаж слабая прямая.\n",
    "5. Для WiiU:\n",
    "    * Корреляция между отзывами критиков и числом продаж средняя прямая.\n",
    "    * Корреляция между отзывами пользователей и числом продаж средняя прямая.\n",
    "6. Для PSV:\n",
    "    * Корреляция между отзывами критиков и числом продаж слабая прямая.\n",
    "    * Корреляция между отзывами пользователей и числом продаж отсутствует.\n",
    "    \n",
    "Мы видим, что PS4 имеет схожие корреляции с PC, XOne и PSV."
   ]
  },
  {
   "cell_type": "markdown",
   "metadata": {},
   "source": [
    "### Влияние жанра на число продаж\n",
    "\n"
   ]
  },
  {
   "cell_type": "markdown",
   "metadata": {},
   "source": [
    "Посмотрим на распределение игр по жанрам.\n",
    "\n",
    "Для этого составим сводную таблицу c медианным значением числа продаж и отфильтруем ее:"
   ]
  },
  {
   "cell_type": "code",
   "execution_count": 50,
   "metadata": {},
   "outputs": [
    {
     "data": {
      "text/html": [
       "<div>\n",
       "<style scoped>\n",
       "    .dataframe tbody tr th:only-of-type {\n",
       "        vertical-align: middle;\n",
       "    }\n",
       "\n",
       "    .dataframe tbody tr th {\n",
       "        vertical-align: top;\n",
       "    }\n",
       "\n",
       "    .dataframe thead th {\n",
       "        text-align: right;\n",
       "    }\n",
       "</style>\n",
       "<table border=\"1\" class=\"dataframe\">\n",
       "  <thead>\n",
       "    <tr style=\"text-align: right;\">\n",
       "      <th></th>\n",
       "      <th>genre</th>\n",
       "      <th>total_sales</th>\n",
       "    </tr>\n",
       "  </thead>\n",
       "  <tbody>\n",
       "    <tr>\n",
       "      <th>0</th>\n",
       "      <td>Shooter</td>\n",
       "      <td>0.450</td>\n",
       "    </tr>\n",
       "    <tr>\n",
       "      <th>1</th>\n",
       "      <td>Sports</td>\n",
       "      <td>0.240</td>\n",
       "    </tr>\n",
       "    <tr>\n",
       "      <th>2</th>\n",
       "      <td>Platform</td>\n",
       "      <td>0.225</td>\n",
       "    </tr>\n",
       "    <tr>\n",
       "      <th>3</th>\n",
       "      <td>Role-Playing</td>\n",
       "      <td>0.125</td>\n",
       "    </tr>\n",
       "    <tr>\n",
       "      <th>4</th>\n",
       "      <td>Fighting</td>\n",
       "      <td>0.125</td>\n",
       "    </tr>\n",
       "    <tr>\n",
       "      <th>5</th>\n",
       "      <td>Racing</td>\n",
       "      <td>0.120</td>\n",
       "    </tr>\n",
       "    <tr>\n",
       "      <th>6</th>\n",
       "      <td>Action</td>\n",
       "      <td>0.110</td>\n",
       "    </tr>\n",
       "    <tr>\n",
       "      <th>7</th>\n",
       "      <td>Misc</td>\n",
       "      <td>0.105</td>\n",
       "    </tr>\n",
       "    <tr>\n",
       "      <th>8</th>\n",
       "      <td>Simulation</td>\n",
       "      <td>0.100</td>\n",
       "    </tr>\n",
       "    <tr>\n",
       "      <th>9</th>\n",
       "      <td>Strategy</td>\n",
       "      <td>0.080</td>\n",
       "    </tr>\n",
       "    <tr>\n",
       "      <th>10</th>\n",
       "      <td>Puzzle</td>\n",
       "      <td>0.060</td>\n",
       "    </tr>\n",
       "    <tr>\n",
       "      <th>11</th>\n",
       "      <td>Adventure</td>\n",
       "      <td>0.030</td>\n",
       "    </tr>\n",
       "  </tbody>\n",
       "</table>\n",
       "</div>"
      ],
      "text/plain": [
       "           genre  total_sales\n",
       "0        Shooter        0.450\n",
       "1         Sports        0.240\n",
       "2       Platform        0.225\n",
       "3   Role-Playing        0.125\n",
       "4       Fighting        0.125\n",
       "5         Racing        0.120\n",
       "6         Action        0.110\n",
       "7           Misc        0.105\n",
       "8     Simulation        0.100\n",
       "9       Strategy        0.080\n",
       "10        Puzzle        0.060\n",
       "11     Adventure        0.030"
      ]
     },
     "metadata": {},
     "output_type": "display_data"
    }
   ],
   "source": [
    "games_by_genre = games_actual.pivot_table(index='genre', values='total_sales', aggfunc='median').sort_values(\n",
    "by='total_sales', ascending=False).reset_index()\n",
    "\n",
    "display(games_by_genre)"
   ]
  },
  {
   "cell_type": "markdown",
   "metadata": {},
   "source": [
    "Чтобы данные было проще анализировать, составим по ним диаграмму:"
   ]
  },
  {
   "cell_type": "code",
   "execution_count": 51,
   "metadata": {},
   "outputs": [
    {
     "data": {
      "text/plain": [
       "Text(0, 0.5, 'Число продаж')"
      ]
     },
     "execution_count": 51,
     "metadata": {},
     "output_type": "execute_result"
    },
    {
     "data": {
      "image/png": "[encoded data removed]",
      "text/plain": [
       "<Figure size 1080x360 with 1 Axes>"
      ]
     },
     "metadata": {
      "needs_background": "light"
     },
     "output_type": "display_data"
    }
   ],
   "source": [
    "plt.figure(figsize=(15,5))\n",
    "sns.barplot(data=games_by_genre, x='genre', y='total_sales')\n",
    "plt.title('Распределение игр по жанрам')\n",
    "plt.xlabel('Жанры')\n",
    "plt.ylabel('Число продаж')"
   ]
  },
  {
   "cell_type": "markdown",
   "metadata": {},
   "source": [
    "**Вывод:**\n",
    "\n",
    "1. Самые популярными жанрами являются Shooter, Sports и Platform. Жанры Shooter и Platform обязаны своей популярностью своей же простоте в освоении. Жанр Sports же всегда является выбором фанатов реального спорта, которых тоже довольно много.\n",
    "2. Самыми непопулярными жанрами являются Strategy, Puzzle и Adventure. Судя по всему, большей части игроков не хочется много думать, предпочитая более расслабляющее времяпровождение."
   ]
  },
  {
   "cell_type": "markdown",
   "metadata": {},
   "source": [
    "## Портрет пользователей NA, EU, JP\n",
    "\n",
    "Определим для каждого региона следующее:\n",
    "\n",
    "* Самые популярные платформы (топ-5).\n",
    "* Самые популярные жанры (топ-5).\n",
    "* Влияет ли рейтинг ESRB на продажи в отдельном регионе.\n",
    "\n",
    "Для начала выделим из таблицы актуального временного периода данные о продажах каждого региона и сохраним их в отдельные датасеты:"
   ]
  },
  {
   "cell_type": "code",
   "execution_count": 52,
   "metadata": {},
   "outputs": [],
   "source": [
    "na_sales = games_actual.query('na_sales > 0')\n",
    "\n",
    "eu_sales = games_actual.query('eu_sales > 0')\n",
    "\n",
    "jp_sales = games_actual.query('jp_sales > 0')"
   ]
  },
  {
   "cell_type": "markdown",
   "metadata": {},
   "source": [
    "Теперь мы можем приступить к дальнейшему анализу."
   ]
  },
  {
   "cell_type": "markdown",
   "metadata": {},
   "source": [
    "### Самые популярные платформы по регионам\n",
    "\n",
    "Начнем с того, что составим список самых популярных платформ для пользователей Северной Америки:"
   ]
  },
  {
   "cell_type": "code",
   "execution_count": 53,
   "metadata": {},
   "outputs": [
    {
     "data": {
      "text/html": [
       "<div>\n",
       "<style scoped>\n",
       "    .dataframe tbody tr th:only-of-type {\n",
       "        vertical-align: middle;\n",
       "    }\n",
       "\n",
       "    .dataframe tbody tr th {\n",
       "        vertical-align: top;\n",
       "    }\n",
       "\n",
       "    .dataframe thead th {\n",
       "        text-align: right;\n",
       "    }\n",
       "</style>\n",
       "<table border=\"1\" class=\"dataframe\">\n",
       "  <thead>\n",
       "    <tr style=\"text-align: right;\">\n",
       "      <th></th>\n",
       "      <th>platform</th>\n",
       "      <th>na_sales</th>\n",
       "    </tr>\n",
       "  </thead>\n",
       "  <tbody>\n",
       "    <tr>\n",
       "      <th>0</th>\n",
       "      <td>PS4</td>\n",
       "      <td>108.74</td>\n",
       "    </tr>\n",
       "    <tr>\n",
       "      <th>1</th>\n",
       "      <td>XOne</td>\n",
       "      <td>93.12</td>\n",
       "    </tr>\n",
       "    <tr>\n",
       "      <th>2</th>\n",
       "      <td>X360</td>\n",
       "      <td>81.66</td>\n",
       "    </tr>\n",
       "    <tr>\n",
       "      <th>3</th>\n",
       "      <td>PS3</td>\n",
       "      <td>63.50</td>\n",
       "    </tr>\n",
       "    <tr>\n",
       "      <th>4</th>\n",
       "      <td>3DS</td>\n",
       "      <td>38.20</td>\n",
       "    </tr>\n",
       "    <tr>\n",
       "      <th>5</th>\n",
       "      <td>WiiU</td>\n",
       "      <td>29.21</td>\n",
       "    </tr>\n",
       "    <tr>\n",
       "      <th>6</th>\n",
       "      <td>PC</td>\n",
       "      <td>11.19</td>\n",
       "    </tr>\n",
       "    <tr>\n",
       "      <th>7</th>\n",
       "      <td>Wii</td>\n",
       "      <td>6.56</td>\n",
       "    </tr>\n",
       "    <tr>\n",
       "      <th>8</th>\n",
       "      <td>PSV</td>\n",
       "      <td>5.04</td>\n",
       "    </tr>\n",
       "    <tr>\n",
       "      <th>9</th>\n",
       "      <td>DS</td>\n",
       "      <td>0.57</td>\n",
       "    </tr>\n",
       "  </tbody>\n",
       "</table>\n",
       "</div>"
      ],
      "text/plain": [
       "  platform  na_sales\n",
       "0      PS4    108.74\n",
       "1     XOne     93.12\n",
       "2     X360     81.66\n",
       "3      PS3     63.50\n",
       "4      3DS     38.20\n",
       "5     WiiU     29.21\n",
       "6       PC     11.19\n",
       "7      Wii      6.56\n",
       "8      PSV      5.04\n",
       "9       DS      0.57"
      ]
     },
     "metadata": {},
     "output_type": "display_data"
    }
   ],
   "source": [
    "na_platform_table = na_sales.pivot_table(index='platform', values='na_sales', aggfunc='sum') \\\n",
    "                    .sort_values('na_sales', ascending=False).reset_index()\n",
    "\n",
    "display(na_platform_table)"
   ]
  },
  {
   "cell_type": "markdown",
   "metadata": {},
   "source": [
    "Для удобства визуализируем на диаграмме:"
   ]
  },
  {
   "cell_type": "code",
   "execution_count": 54,
   "metadata": {},
   "outputs": [
    {
     "data": {
      "image/png": "[encoded data removed]",
      "text/plain": [
       "<Figure size 1080x360 with 1 Axes>"
      ]
     },
     "metadata": {
      "needs_background": "light"
     },
     "output_type": "display_data"
    }
   ],
   "source": [
    "na_platform_table.plot(x='platform', y='na_sales', kind='bar', figsize=(15, 5))\n",
    "plt.title('Продажи по платформам в Северной Америке')\n",
    "plt.xlabel('Платформы')\n",
    "plt.ylabel('Число продаж')\n",
    "plt.show()"
   ]
  },
  {
   "cell_type": "markdown",
   "metadata": {},
   "source": [
    "Теперь составим список самых популярных платформ для Европы:"
   ]
  },
  {
   "cell_type": "code",
   "execution_count": 55,
   "metadata": {
    "scrolled": true
   },
   "outputs": [
    {
     "data": {
      "text/html": [
       "<div>\n",
       "<style scoped>\n",
       "    .dataframe tbody tr th:only-of-type {\n",
       "        vertical-align: middle;\n",
       "    }\n",
       "\n",
       "    .dataframe tbody tr th {\n",
       "        vertical-align: top;\n",
       "    }\n",
       "\n",
       "    .dataframe thead th {\n",
       "        text-align: right;\n",
       "    }\n",
       "</style>\n",
       "<table border=\"1\" class=\"dataframe\">\n",
       "  <thead>\n",
       "    <tr style=\"text-align: right;\">\n",
       "      <th></th>\n",
       "      <th>platform</th>\n",
       "      <th>eu_sales</th>\n",
       "    </tr>\n",
       "  </thead>\n",
       "  <tbody>\n",
       "    <tr>\n",
       "      <th>0</th>\n",
       "      <td>PS4</td>\n",
       "      <td>141.09</td>\n",
       "    </tr>\n",
       "    <tr>\n",
       "      <th>1</th>\n",
       "      <td>PS3</td>\n",
       "      <td>67.81</td>\n",
       "    </tr>\n",
       "    <tr>\n",
       "      <th>2</th>\n",
       "      <td>XOne</td>\n",
       "      <td>51.59</td>\n",
       "    </tr>\n",
       "    <tr>\n",
       "      <th>3</th>\n",
       "      <td>X360</td>\n",
       "      <td>42.52</td>\n",
       "    </tr>\n",
       "    <tr>\n",
       "      <th>4</th>\n",
       "      <td>3DS</td>\n",
       "      <td>30.96</td>\n",
       "    </tr>\n",
       "    <tr>\n",
       "      <th>5</th>\n",
       "      <td>PC</td>\n",
       "      <td>25.84</td>\n",
       "    </tr>\n",
       "    <tr>\n",
       "      <th>6</th>\n",
       "      <td>WiiU</td>\n",
       "      <td>19.85</td>\n",
       "    </tr>\n",
       "    <tr>\n",
       "      <th>7</th>\n",
       "      <td>PSV</td>\n",
       "      <td>6.10</td>\n",
       "    </tr>\n",
       "    <tr>\n",
       "      <th>8</th>\n",
       "      <td>Wii</td>\n",
       "      <td>5.93</td>\n",
       "    </tr>\n",
       "    <tr>\n",
       "      <th>9</th>\n",
       "      <td>DS</td>\n",
       "      <td>0.85</td>\n",
       "    </tr>\n",
       "    <tr>\n",
       "      <th>10</th>\n",
       "      <td>PSP</td>\n",
       "      <td>0.17</td>\n",
       "    </tr>\n",
       "  </tbody>\n",
       "</table>\n",
       "</div>"
      ],
      "text/plain": [
       "   platform  eu_sales\n",
       "0       PS4    141.09\n",
       "1       PS3     67.81\n",
       "2      XOne     51.59\n",
       "3      X360     42.52\n",
       "4       3DS     30.96\n",
       "5        PC     25.84\n",
       "6      WiiU     19.85\n",
       "7       PSV      6.10\n",
       "8       Wii      5.93\n",
       "9        DS      0.85\n",
       "10      PSP      0.17"
      ]
     },
     "metadata": {},
     "output_type": "display_data"
    }
   ],
   "source": [
    "eu_platform_table = eu_sales.pivot_table(index='platform', values='eu_sales', aggfunc='sum').sort_values('eu_sales', ascending=False).reset_index()\n",
    "\n",
    "display(eu_platform_table)"
   ]
  },
  {
   "cell_type": "markdown",
   "metadata": {},
   "source": [
    "Визуализируем:"
   ]
  },
  {
   "cell_type": "code",
   "execution_count": 56,
   "metadata": {},
   "outputs": [
    {
     "data": {
      "image/png": "[encoded data removed]",
      "text/plain": [
       "<Figure size 1080x360 with 1 Axes>"
      ]
     },
     "metadata": {
      "needs_background": "light"
     },
     "output_type": "display_data"
    }
   ],
   "source": [
    "eu_platform_table.plot(x='platform', y='eu_sales', kind='bar', figsize=(15, 5))\n",
    "plt.title('Продажи по платформам в Европе')\n",
    "plt.xlabel('Платформы')\n",
    "plt.ylabel('Число продаж')\n",
    "plt.show()"
   ]
  },
  {
   "cell_type": "markdown",
   "metadata": {},
   "source": [
    "Наконец, составим список самых популярных платформ для Японии:"
   ]
  },
  {
   "cell_type": "code",
   "execution_count": 57,
   "metadata": {
    "scrolled": true
   },
   "outputs": [
    {
     "data": {
      "text/html": [
       "<div>\n",
       "<style scoped>\n",
       "    .dataframe tbody tr th:only-of-type {\n",
       "        vertical-align: middle;\n",
       "    }\n",
       "\n",
       "    .dataframe tbody tr th {\n",
       "        vertical-align: top;\n",
       "    }\n",
       "\n",
       "    .dataframe thead th {\n",
       "        text-align: right;\n",
       "    }\n",
       "</style>\n",
       "<table border=\"1\" class=\"dataframe\">\n",
       "  <thead>\n",
       "    <tr style=\"text-align: right;\">\n",
       "      <th></th>\n",
       "      <th>platform</th>\n",
       "      <th>jp_sales</th>\n",
       "    </tr>\n",
       "  </thead>\n",
       "  <tbody>\n",
       "    <tr>\n",
       "      <th>0</th>\n",
       "      <td>3DS</td>\n",
       "      <td>67.81</td>\n",
       "    </tr>\n",
       "    <tr>\n",
       "      <th>1</th>\n",
       "      <td>PS3</td>\n",
       "      <td>23.35</td>\n",
       "    </tr>\n",
       "    <tr>\n",
       "      <th>2</th>\n",
       "      <td>PSV</td>\n",
       "      <td>18.59</td>\n",
       "    </tr>\n",
       "    <tr>\n",
       "      <th>3</th>\n",
       "      <td>PS4</td>\n",
       "      <td>15.96</td>\n",
       "    </tr>\n",
       "    <tr>\n",
       "      <th>4</th>\n",
       "      <td>WiiU</td>\n",
       "      <td>10.88</td>\n",
       "    </tr>\n",
       "    <tr>\n",
       "      <th>5</th>\n",
       "      <td>PSP</td>\n",
       "      <td>3.53</td>\n",
       "    </tr>\n",
       "    <tr>\n",
       "      <th>6</th>\n",
       "      <td>X360</td>\n",
       "      <td>0.51</td>\n",
       "    </tr>\n",
       "    <tr>\n",
       "      <th>7</th>\n",
       "      <td>XOne</td>\n",
       "      <td>0.34</td>\n",
       "    </tr>\n",
       "    <tr>\n",
       "      <th>8</th>\n",
       "      <td>Wii</td>\n",
       "      <td>0.05</td>\n",
       "    </tr>\n",
       "  </tbody>\n",
       "</table>\n",
       "</div>"
      ],
      "text/plain": [
       "  platform  jp_sales\n",
       "0      3DS     67.81\n",
       "1      PS3     23.35\n",
       "2      PSV     18.59\n",
       "3      PS4     15.96\n",
       "4     WiiU     10.88\n",
       "5      PSP      3.53\n",
       "6     X360      0.51\n",
       "7     XOne      0.34\n",
       "8      Wii      0.05"
      ]
     },
     "metadata": {},
     "output_type": "display_data"
    }
   ],
   "source": [
    "jp_platform_table = jp_sales.pivot_table(index='platform', values='jp_sales', aggfunc='sum').sort_values('jp_sales', ascending=False).reset_index()\n",
    "\n",
    "display(jp_platform_table)"
   ]
  },
  {
   "cell_type": "markdown",
   "metadata": {},
   "source": [
    "Визуализируем:"
   ]
  },
  {
   "cell_type": "code",
   "execution_count": 58,
   "metadata": {},
   "outputs": [
    {
     "data": {
      "image/png": "[encoded data removed]",
      "text/plain": [
       "<Figure size 1080x360 with 1 Axes>"
      ]
     },
     "metadata": {
      "needs_background": "light"
     },
     "output_type": "display_data"
    }
   ],
   "source": [
    "jp_platform_table.plot(x='platform', y='jp_sales', kind='bar', figsize=(15, 5))\n",
    "plt.title('Продажи по платформам в Японии')\n",
    "plt.xlabel('Платформы')\n",
    "plt.ylabel('Число продаж')\n",
    "plt.show()"
   ]
  },
  {
   "cell_type": "markdown",
   "metadata": {},
   "source": [
    "**Выводы:**\n",
    "\n",
    "1. Пятерка самых популярных платформ по региону:\n",
    "* В Северной Америке: PS4, XOne, X360, PS3, 3DS.\n",
    "* В Европе: PS4, PS3, XOne, X360, 3DS.\n",
    "* В Японии: 3DS, PS3, PSV, PS4, WiiU.\n",
    "    \n",
    "2. Мы видим, что на рынке Северной Америки идет плавный спад популярности для каждой последующей в списке платформы. Для двух других регионов картина не такая гладкая.\n",
    "\n",
    "3. В Европе PS4 занимает лидирующее положение среди всех платформ, превысив своего предшественника PS3 в популярности на 75 млн проданных копий, а своего ближайшего конкурента XOne на 95 млн. \n",
    "\n",
    "4. На рынке Японии же полностью доминирует платформа 3DS, обойдя ближайшего соперника почти на 50 млн копий в продажах. Это объясняется фаворитизмом Японии к своему домашнему производителю Nintendo. "
   ]
  },
  {
   "cell_type": "markdown",
   "metadata": {},
   "source": [
    "### Самые популярные жанры по регионам\n",
    "\n",
    "Как и в предыдущем пункте, составим списки самых популярных жанров для каждого из исследуемых регионов, и визуализируем их на диаграмме для удобства.\n",
    "\n",
    "Начнем с Северной Америки:"
   ]
  },
  {
   "cell_type": "code",
   "execution_count": 59,
   "metadata": {},
   "outputs": [
    {
     "data": {
      "text/html": [
       "<div>\n",
       "<style scoped>\n",
       "    .dataframe tbody tr th:only-of-type {\n",
       "        vertical-align: middle;\n",
       "    }\n",
       "\n",
       "    .dataframe tbody tr th {\n",
       "        vertical-align: top;\n",
       "    }\n",
       "\n",
       "    .dataframe thead th {\n",
       "        text-align: right;\n",
       "    }\n",
       "</style>\n",
       "<table border=\"1\" class=\"dataframe\">\n",
       "  <thead>\n",
       "    <tr style=\"text-align: right;\">\n",
       "      <th></th>\n",
       "      <th>genre</th>\n",
       "      <th>na_sales</th>\n",
       "    </tr>\n",
       "  </thead>\n",
       "  <tbody>\n",
       "    <tr>\n",
       "      <th>0</th>\n",
       "      <td>Sports</td>\n",
       "      <td>0.270</td>\n",
       "    </tr>\n",
       "    <tr>\n",
       "      <th>1</th>\n",
       "      <td>Shooter</td>\n",
       "      <td>0.220</td>\n",
       "    </tr>\n",
       "    <tr>\n",
       "      <th>2</th>\n",
       "      <td>Misc</td>\n",
       "      <td>0.130</td>\n",
       "    </tr>\n",
       "    <tr>\n",
       "      <th>3</th>\n",
       "      <td>Platform</td>\n",
       "      <td>0.110</td>\n",
       "    </tr>\n",
       "    <tr>\n",
       "      <th>4</th>\n",
       "      <td>Action</td>\n",
       "      <td>0.100</td>\n",
       "    </tr>\n",
       "    <tr>\n",
       "      <th>5</th>\n",
       "      <td>Strategy</td>\n",
       "      <td>0.100</td>\n",
       "    </tr>\n",
       "    <tr>\n",
       "      <th>6</th>\n",
       "      <td>Fighting</td>\n",
       "      <td>0.095</td>\n",
       "    </tr>\n",
       "    <tr>\n",
       "      <th>7</th>\n",
       "      <td>Puzzle</td>\n",
       "      <td>0.090</td>\n",
       "    </tr>\n",
       "    <tr>\n",
       "      <th>8</th>\n",
       "      <td>Role-Playing</td>\n",
       "      <td>0.090</td>\n",
       "    </tr>\n",
       "    <tr>\n",
       "      <th>9</th>\n",
       "      <td>Simulation</td>\n",
       "      <td>0.075</td>\n",
       "    </tr>\n",
       "    <tr>\n",
       "      <th>10</th>\n",
       "      <td>Racing</td>\n",
       "      <td>0.070</td>\n",
       "    </tr>\n",
       "    <tr>\n",
       "      <th>11</th>\n",
       "      <td>Adventure</td>\n",
       "      <td>0.040</td>\n",
       "    </tr>\n",
       "  </tbody>\n",
       "</table>\n",
       "</div>"
      ],
      "text/plain": [
       "           genre  na_sales\n",
       "0         Sports     0.270\n",
       "1        Shooter     0.220\n",
       "2           Misc     0.130\n",
       "3       Platform     0.110\n",
       "4         Action     0.100\n",
       "5       Strategy     0.100\n",
       "6       Fighting     0.095\n",
       "7         Puzzle     0.090\n",
       "8   Role-Playing     0.090\n",
       "9     Simulation     0.075\n",
       "10        Racing     0.070\n",
       "11     Adventure     0.040"
      ]
     },
     "metadata": {},
     "output_type": "display_data"
    }
   ],
   "source": [
    "na_genre_table = na_sales.pivot_table(index='genre', values='na_sales', aggfunc='median').sort_values('na_sales', ascending=False).reset_index()\n",
    "\n",
    "display(na_genre_table)"
   ]
  },
  {
   "cell_type": "code",
   "execution_count": 60,
   "metadata": {},
   "outputs": [
    {
     "data": {
      "image/png": "[encoded data removed]",
      "text/plain": [
       "<Figure size 1080x360 with 1 Axes>"
      ]
     },
     "metadata": {
      "needs_background": "light"
     },
     "output_type": "display_data"
    }
   ],
   "source": [
    "na_genre_table.plot(x='genre', y='na_sales', kind='bar', figsize=(15, 5))\n",
    "plt.title('Продажи по жанрам в Северной Америке')\n",
    "plt.xlabel('Жанры')\n",
    "plt.ylabel('Число продаж')\n",
    "plt.show()"
   ]
  },
  {
   "cell_type": "markdown",
   "metadata": {},
   "source": [
    "Теперь рассмотрим данные по Европе:"
   ]
  },
  {
   "cell_type": "code",
   "execution_count": 61,
   "metadata": {},
   "outputs": [
    {
     "data": {
      "text/html": [
       "<div>\n",
       "<style scoped>\n",
       "    .dataframe tbody tr th:only-of-type {\n",
       "        vertical-align: middle;\n",
       "    }\n",
       "\n",
       "    .dataframe tbody tr th {\n",
       "        vertical-align: top;\n",
       "    }\n",
       "\n",
       "    .dataframe thead th {\n",
       "        text-align: right;\n",
       "    }\n",
       "</style>\n",
       "<table border=\"1\" class=\"dataframe\">\n",
       "  <thead>\n",
       "    <tr style=\"text-align: right;\">\n",
       "      <th></th>\n",
       "      <th>genre</th>\n",
       "      <th>eu_sales</th>\n",
       "    </tr>\n",
       "  </thead>\n",
       "  <tbody>\n",
       "    <tr>\n",
       "      <th>0</th>\n",
       "      <td>Shooter</td>\n",
       "      <td>0.230</td>\n",
       "    </tr>\n",
       "    <tr>\n",
       "      <th>1</th>\n",
       "      <td>Platform</td>\n",
       "      <td>0.120</td>\n",
       "    </tr>\n",
       "    <tr>\n",
       "      <th>2</th>\n",
       "      <td>Racing</td>\n",
       "      <td>0.090</td>\n",
       "    </tr>\n",
       "    <tr>\n",
       "      <th>3</th>\n",
       "      <td>Sports</td>\n",
       "      <td>0.090</td>\n",
       "    </tr>\n",
       "    <tr>\n",
       "      <th>4</th>\n",
       "      <td>Misc</td>\n",
       "      <td>0.085</td>\n",
       "    </tr>\n",
       "    <tr>\n",
       "      <th>5</th>\n",
       "      <td>Action</td>\n",
       "      <td>0.080</td>\n",
       "    </tr>\n",
       "    <tr>\n",
       "      <th>6</th>\n",
       "      <td>Simulation</td>\n",
       "      <td>0.080</td>\n",
       "    </tr>\n",
       "    <tr>\n",
       "      <th>7</th>\n",
       "      <td>Strategy</td>\n",
       "      <td>0.080</td>\n",
       "    </tr>\n",
       "    <tr>\n",
       "      <th>8</th>\n",
       "      <td>Fighting</td>\n",
       "      <td>0.070</td>\n",
       "    </tr>\n",
       "    <tr>\n",
       "      <th>9</th>\n",
       "      <td>Role-Playing</td>\n",
       "      <td>0.070</td>\n",
       "    </tr>\n",
       "    <tr>\n",
       "      <th>10</th>\n",
       "      <td>Adventure</td>\n",
       "      <td>0.050</td>\n",
       "    </tr>\n",
       "    <tr>\n",
       "      <th>11</th>\n",
       "      <td>Puzzle</td>\n",
       "      <td>0.030</td>\n",
       "    </tr>\n",
       "  </tbody>\n",
       "</table>\n",
       "</div>"
      ],
      "text/plain": [
       "           genre  eu_sales\n",
       "0        Shooter     0.230\n",
       "1       Platform     0.120\n",
       "2         Racing     0.090\n",
       "3         Sports     0.090\n",
       "4           Misc     0.085\n",
       "5         Action     0.080\n",
       "6     Simulation     0.080\n",
       "7       Strategy     0.080\n",
       "8       Fighting     0.070\n",
       "9   Role-Playing     0.070\n",
       "10     Adventure     0.050\n",
       "11        Puzzle     0.030"
      ]
     },
     "metadata": {},
     "output_type": "display_data"
    }
   ],
   "source": [
    "eu_genre_table = eu_sales.pivot_table(index='genre', values='eu_sales', aggfunc='median').sort_values('eu_sales', ascending=False).reset_index()\n",
    "\n",
    "display(eu_genre_table)"
   ]
  },
  {
   "cell_type": "code",
   "execution_count": 62,
   "metadata": {},
   "outputs": [
    {
     "data": {
      "image/png": "[encoded data removed]",
      "text/plain": [
       "<Figure size 1080x360 with 1 Axes>"
      ]
     },
     "metadata": {
      "needs_background": "light"
     },
     "output_type": "display_data"
    }
   ],
   "source": [
    "eu_genre_table.plot(x='genre', y='eu_sales', kind='bar', figsize=(15, 5))\n",
    "plt.title('Продажи по жанрам в Европе')\n",
    "plt.xlabel('Жанры')\n",
    "plt.ylabel('Число продаж')\n",
    "plt.show()"
   ]
  },
  {
   "cell_type": "markdown",
   "metadata": {},
   "source": [
    "Наконец, сделаем то-же самое для Японии:"
   ]
  },
  {
   "cell_type": "code",
   "execution_count": 63,
   "metadata": {},
   "outputs": [
    {
     "data": {
      "text/html": [
       "<div>\n",
       "<style scoped>\n",
       "    .dataframe tbody tr th:only-of-type {\n",
       "        vertical-align: middle;\n",
       "    }\n",
       "\n",
       "    .dataframe tbody tr th {\n",
       "        vertical-align: top;\n",
       "    }\n",
       "\n",
       "    .dataframe thead th {\n",
       "        text-align: right;\n",
       "    }\n",
       "</style>\n",
       "<table border=\"1\" class=\"dataframe\">\n",
       "  <thead>\n",
       "    <tr style=\"text-align: right;\">\n",
       "      <th></th>\n",
       "      <th>genre</th>\n",
       "      <th>jp_sales</th>\n",
       "    </tr>\n",
       "  </thead>\n",
       "  <tbody>\n",
       "    <tr>\n",
       "      <th>0</th>\n",
       "      <td>Puzzle</td>\n",
       "      <td>0.085</td>\n",
       "    </tr>\n",
       "    <tr>\n",
       "      <th>1</th>\n",
       "      <td>Role-Playing</td>\n",
       "      <td>0.070</td>\n",
       "    </tr>\n",
       "    <tr>\n",
       "      <th>2</th>\n",
       "      <td>Sports</td>\n",
       "      <td>0.070</td>\n",
       "    </tr>\n",
       "    <tr>\n",
       "      <th>3</th>\n",
       "      <td>Misc</td>\n",
       "      <td>0.060</td>\n",
       "    </tr>\n",
       "    <tr>\n",
       "      <th>4</th>\n",
       "      <td>Strategy</td>\n",
       "      <td>0.060</td>\n",
       "    </tr>\n",
       "    <tr>\n",
       "      <th>5</th>\n",
       "      <td>Platform</td>\n",
       "      <td>0.055</td>\n",
       "    </tr>\n",
       "    <tr>\n",
       "      <th>6</th>\n",
       "      <td>Fighting</td>\n",
       "      <td>0.050</td>\n",
       "    </tr>\n",
       "    <tr>\n",
       "      <th>7</th>\n",
       "      <td>Action</td>\n",
       "      <td>0.040</td>\n",
       "    </tr>\n",
       "    <tr>\n",
       "      <th>8</th>\n",
       "      <td>Shooter</td>\n",
       "      <td>0.040</td>\n",
       "    </tr>\n",
       "    <tr>\n",
       "      <th>9</th>\n",
       "      <td>Simulation</td>\n",
       "      <td>0.040</td>\n",
       "    </tr>\n",
       "    <tr>\n",
       "      <th>10</th>\n",
       "      <td>Racing</td>\n",
       "      <td>0.030</td>\n",
       "    </tr>\n",
       "    <tr>\n",
       "      <th>11</th>\n",
       "      <td>Adventure</td>\n",
       "      <td>0.020</td>\n",
       "    </tr>\n",
       "  </tbody>\n",
       "</table>\n",
       "</div>"
      ],
      "text/plain": [
       "           genre  jp_sales\n",
       "0         Puzzle     0.085\n",
       "1   Role-Playing     0.070\n",
       "2         Sports     0.070\n",
       "3           Misc     0.060\n",
       "4       Strategy     0.060\n",
       "5       Platform     0.055\n",
       "6       Fighting     0.050\n",
       "7         Action     0.040\n",
       "8        Shooter     0.040\n",
       "9     Simulation     0.040\n",
       "10        Racing     0.030\n",
       "11     Adventure     0.020"
      ]
     },
     "metadata": {},
     "output_type": "display_data"
    }
   ],
   "source": [
    "jp_genre_table = jp_sales.pivot_table(index='genre', values='jp_sales', aggfunc='median').sort_values('jp_sales', ascending=False).reset_index()\n",
    "\n",
    "display(jp_genre_table)"
   ]
  },
  {
   "cell_type": "code",
   "execution_count": 64,
   "metadata": {},
   "outputs": [
    {
     "data": {
      "image/png": "[encoded data removed]",
      "text/plain": [
       "<Figure size 1080x360 with 1 Axes>"
      ]
     },
     "metadata": {
      "needs_background": "light"
     },
     "output_type": "display_data"
    }
   ],
   "source": [
    "jp_genre_table.plot(x='genre', y='jp_sales', kind='bar', figsize=(15, 5))\n",
    "plt.title('Продажи по жанрам в Японии')\n",
    "plt.xlabel('Жанры')\n",
    "plt.ylabel('Число продаж')\n",
    "plt.show()"
   ]
  },
  {
   "cell_type": "markdown",
   "metadata": {},
   "source": [
    "**Выводы:**\n",
    "\n",
    "1. Пятерка самых популярных жанров:\n",
    "* В Северной Америке: Sports, Shooter, Misc, Platform, Action.\n",
    "* В Европе: Shooter, Platform, Racing, Sports, Misc.\n",
    "* В Японии: Puzzle, Role-Playing, Sports, Misc, Strategy.\n",
    "\n",
    "2. Мы видим, что двумя самыми популярными жанрами в Северной Америке с большим отрывом являются Sports и Shooter. Судя по всему, Европа полна спортивных фанатов, а стрелялки всегда помогут спустить пар от проигрыша любимой команды.\n",
    "3. Европа обладает почти такими же жанрами в лидирующих позициях, за исключением жанра Racing. Европейцы явно любят красивые машины.\n",
    "4. В Японии же помимо Sports предпочтение также отдается жанрам, требующих более осмысленного геймплея и/или критического мышления. \n",
    "5. Жанр Misc остается популярным вне зависимости от региона, поскольку включает в себя большое множество более мелких под-жанров."
   ]
  },
  {
   "cell_type": "markdown",
   "metadata": {},
   "source": [
    "### Влияние рейтинга ESRB на продажи по регионам\n",
    "\n",
    "Чтобы последующие данные было проще понять, расшифруем, какую возрастную категорию обозначает каждая абревиатура рейтинга ESRB:\n",
    "\n",
    "* **E** (Everyone) - Для всех возрастов.\n",
    "* **E10+** (Everyone 10+) - От 10 лет и выше.\n",
    "* **T** (Teen) - От 13 лет и выше.\n",
    "* **M** (Mature) - От 17 лет и выше.\n",
    "\n",
    "Составим таблицу с суммой продаж по рейтингу ESRB для региона Северной Америки:"
   ]
  },
  {
   "cell_type": "code",
   "execution_count": 65,
   "metadata": {},
   "outputs": [
    {
     "data": {
      "text/html": [
       "<div>\n",
       "<style scoped>\n",
       "    .dataframe tbody tr th:only-of-type {\n",
       "        vertical-align: middle;\n",
       "    }\n",
       "\n",
       "    .dataframe tbody tr th {\n",
       "        vertical-align: top;\n",
       "    }\n",
       "\n",
       "    .dataframe thead th {\n",
       "        text-align: right;\n",
       "    }\n",
       "</style>\n",
       "<table border=\"1\" class=\"dataframe\">\n",
       "  <thead>\n",
       "    <tr style=\"text-align: right;\">\n",
       "      <th></th>\n",
       "      <th>rating</th>\n",
       "      <th>na_sales</th>\n",
       "    </tr>\n",
       "  </thead>\n",
       "  <tbody>\n",
       "    <tr>\n",
       "      <th>0</th>\n",
       "      <td>M</td>\n",
       "      <td>165.29</td>\n",
       "    </tr>\n",
       "    <tr>\n",
       "      <th>1</th>\n",
       "      <td>NR</td>\n",
       "      <td>89.42</td>\n",
       "    </tr>\n",
       "    <tr>\n",
       "      <th>2</th>\n",
       "      <td>E</td>\n",
       "      <td>79.05</td>\n",
       "    </tr>\n",
       "    <tr>\n",
       "      <th>3</th>\n",
       "      <td>E10+</td>\n",
       "      <td>54.24</td>\n",
       "    </tr>\n",
       "    <tr>\n",
       "      <th>4</th>\n",
       "      <td>T</td>\n",
       "      <td>49.79</td>\n",
       "    </tr>\n",
       "  </tbody>\n",
       "</table>\n",
       "</div>"
      ],
      "text/plain": [
       "  rating  na_sales\n",
       "0      M    165.29\n",
       "1     NR     89.42\n",
       "2      E     79.05\n",
       "3   E10+     54.24\n",
       "4      T     49.79"
      ]
     },
     "metadata": {},
     "output_type": "display_data"
    }
   ],
   "source": [
    "na_rating_table = na_sales.pivot_table(index='rating', values='na_sales', aggfunc='sum').sort_values('na_sales', ascending=False).reset_index()\n",
    "\n",
    "display(na_rating_table)"
   ]
  },
  {
   "cell_type": "markdown",
   "metadata": {},
   "source": [
    "Визуализируем для удобства:"
   ]
  },
  {
   "cell_type": "code",
   "execution_count": 66,
   "metadata": {},
   "outputs": [
    {
     "data": {
      "image/png": "[encoded data removed]",
      "text/plain": [
       "<Figure size 1080x360 with 1 Axes>"
      ]
     },
     "metadata": {
      "needs_background": "light"
     },
     "output_type": "display_data"
    }
   ],
   "source": [
    "na_rating_table.plot(x='rating', y='na_sales', kind='bar', figsize=(15, 5))\n",
    "plt.title('Продажи по рейтингам в Северной Америке')\n",
    "plt.xlabel('Рейтинг')\n",
    "plt.ylabel('Число продаж')\n",
    "plt.show()"
   ]
  },
  {
   "cell_type": "markdown",
   "metadata": {},
   "source": [
    "Повторим для Европы:"
   ]
  },
  {
   "cell_type": "code",
   "execution_count": 67,
   "metadata": {},
   "outputs": [
    {
     "data": {
      "text/html": [
       "<div>\n",
       "<style scoped>\n",
       "    .dataframe tbody tr th:only-of-type {\n",
       "        vertical-align: middle;\n",
       "    }\n",
       "\n",
       "    .dataframe tbody tr th {\n",
       "        vertical-align: top;\n",
       "    }\n",
       "\n",
       "    .dataframe thead th {\n",
       "        text-align: right;\n",
       "    }\n",
       "</style>\n",
       "<table border=\"1\" class=\"dataframe\">\n",
       "  <thead>\n",
       "    <tr style=\"text-align: right;\">\n",
       "      <th></th>\n",
       "      <th>rating</th>\n",
       "      <th>eu_sales</th>\n",
       "    </tr>\n",
       "  </thead>\n",
       "  <tbody>\n",
       "    <tr>\n",
       "      <th>0</th>\n",
       "      <td>M</td>\n",
       "      <td>145.80</td>\n",
       "    </tr>\n",
       "    <tr>\n",
       "      <th>1</th>\n",
       "      <td>E</td>\n",
       "      <td>83.36</td>\n",
       "    </tr>\n",
       "    <tr>\n",
       "      <th>2</th>\n",
       "      <td>NR</td>\n",
       "      <td>78.91</td>\n",
       "    </tr>\n",
       "    <tr>\n",
       "      <th>3</th>\n",
       "      <td>E10+</td>\n",
       "      <td>42.69</td>\n",
       "    </tr>\n",
       "    <tr>\n",
       "      <th>4</th>\n",
       "      <td>T</td>\n",
       "      <td>41.95</td>\n",
       "    </tr>\n",
       "  </tbody>\n",
       "</table>\n",
       "</div>"
      ],
      "text/plain": [
       "  rating  eu_sales\n",
       "0      M    145.80\n",
       "1      E     83.36\n",
       "2     NR     78.91\n",
       "3   E10+     42.69\n",
       "4      T     41.95"
      ]
     },
     "metadata": {},
     "output_type": "display_data"
    }
   ],
   "source": [
    "eu_rating_table = eu_sales.pivot_table(index='rating', values='eu_sales', aggfunc='sum').sort_values('eu_sales', ascending=False).reset_index()\n",
    "\n",
    "display(eu_rating_table)"
   ]
  },
  {
   "cell_type": "code",
   "execution_count": 68,
   "metadata": {},
   "outputs": [
    {
     "data": {
      "image/png": "[encoded data removed]",
      "text/plain": [
       "<Figure size 1080x360 with 1 Axes>"
      ]
     },
     "metadata": {
      "needs_background": "light"
     },
     "output_type": "display_data"
    }
   ],
   "source": [
    "eu_rating_table.plot(x='rating', y='eu_sales', kind='bar', figsize=(15, 5))\n",
    "plt.title('Продажи по рейтингам в Европе')\n",
    "plt.xlabel('Рейтинг')\n",
    "plt.ylabel('Число продаж')\n",
    "plt.show()"
   ]
  },
  {
   "cell_type": "markdown",
   "metadata": {},
   "source": [
    "Наконец, для Японии:"
   ]
  },
  {
   "cell_type": "code",
   "execution_count": 69,
   "metadata": {},
   "outputs": [
    {
     "data": {
      "text/html": [
       "<div>\n",
       "<style scoped>\n",
       "    .dataframe tbody tr th:only-of-type {\n",
       "        vertical-align: middle;\n",
       "    }\n",
       "\n",
       "    .dataframe tbody tr th {\n",
       "        vertical-align: top;\n",
       "    }\n",
       "\n",
       "    .dataframe thead th {\n",
       "        text-align: right;\n",
       "    }\n",
       "</style>\n",
       "<table border=\"1\" class=\"dataframe\">\n",
       "  <thead>\n",
       "    <tr style=\"text-align: right;\">\n",
       "      <th></th>\n",
       "      <th>rating</th>\n",
       "      <th>jp_sales</th>\n",
       "    </tr>\n",
       "  </thead>\n",
       "  <tbody>\n",
       "    <tr>\n",
       "      <th>0</th>\n",
       "      <td>NR</td>\n",
       "      <td>85.29</td>\n",
       "    </tr>\n",
       "    <tr>\n",
       "      <th>1</th>\n",
       "      <td>T</td>\n",
       "      <td>20.59</td>\n",
       "    </tr>\n",
       "    <tr>\n",
       "      <th>2</th>\n",
       "      <td>E</td>\n",
       "      <td>15.14</td>\n",
       "    </tr>\n",
       "    <tr>\n",
       "      <th>3</th>\n",
       "      <td>M</td>\n",
       "      <td>14.11</td>\n",
       "    </tr>\n",
       "    <tr>\n",
       "      <th>4</th>\n",
       "      <td>E10+</td>\n",
       "      <td>5.89</td>\n",
       "    </tr>\n",
       "  </tbody>\n",
       "</table>\n",
       "</div>"
      ],
      "text/plain": [
       "  rating  jp_sales\n",
       "0     NR     85.29\n",
       "1      T     20.59\n",
       "2      E     15.14\n",
       "3      M     14.11\n",
       "4   E10+      5.89"
      ]
     },
     "metadata": {},
     "output_type": "display_data"
    }
   ],
   "source": [
    "jp_rating_table = jp_sales.pivot_table(index='rating', values='jp_sales', aggfunc='sum').sort_values('jp_sales', ascending=False).reset_index()\n",
    "\n",
    "display(jp_rating_table)"
   ]
  },
  {
   "cell_type": "code",
   "execution_count": 70,
   "metadata": {},
   "outputs": [
    {
     "data": {
      "image/png": "[encoded data removed]",
      "text/plain": [
       "<Figure size 1080x360 with 1 Axes>"
      ]
     },
     "metadata": {
      "needs_background": "light"
     },
     "output_type": "display_data"
    }
   ],
   "source": [
    "jp_rating_table.plot(x='rating', y='jp_sales', kind='bar', figsize=(15, 5))\n",
    "plt.title('Продажи по рейтингам в Японии')\n",
    "plt.xlabel('Рейтинг')\n",
    "plt.ylabel('Число продаж')\n",
    "plt.show()"
   ]
  },
  {
   "cell_type": "markdown",
   "metadata": {},
   "source": [
    "**Вывод:**\n",
    "\n",
    "1. Мы видим, что популярность игр с определенным рейтингом в Америке и Европе почти одинаковая: лидируют игры с рейтингом 17+. \n",
    "2. В Японии же самыми распространенными играми являются игры без рейтинга. Скорее всего потому что подавляющее большинство игр, популярных в Японии - локального производства, которые никогда не выпускались и не локализировались в иностранных рынках.\n",
    "3. Рейтинг ESRB имеет влияние на продажи в отдельных регионах."
   ]
  },
  {
   "cell_type": "markdown",
   "metadata": {},
   "source": [
    "## Проверка гипотез\n",
    "\n",
    "От нас требуется проверить следующие гипотезы:\n",
    "\n",
    "1. Средние пользовательские рейтинги платформ Xbox One и PC одинаковые.\n",
    "2. Средние пользовательские рейтинги жанров Action (англ. «действие», экшен-игры) и Sports (англ. «спортивные соревнования») разные.\n",
    "\n",
    "Мы достаточно детально проанализировалли все предоставленные данные, и можем теперь приступить к проверке поставленных гипотез."
   ]
  },
  {
   "cell_type": "markdown",
   "metadata": {},
   "source": [
    "### Средние пользовательские рейтинги платформ Xbox One и PC\n",
    "\n",
    "Определим нулевую и альтернативную гипотезы:\n",
    "* H0: Cредние пользовательские рейтинги платформ X360 и PС одинаковые.\n",
    "* H1: Cредние пользовательские рейтинги платформ X360 и PС различаются.\n",
    "\n",
    "Поскольку генеральных совокупностей у нас две, для проверки нулевой гипотезы мы будем использовать метод ttest_ind().\n",
    "\n",
    "Сохраним интересующие нас данные из актуального временного периода в отдельные переменные:"
   ]
  },
  {
   "cell_type": "code",
   "execution_count": 71,
   "metadata": {},
   "outputs": [],
   "source": [
    "user_rating_xone = games_actual.query('platform == \"XOne\"')['user_score'].dropna()\n",
    "\n",
    "user_rating_pc = games_actual.query('platform == \"PC\"')['user_score'].dropna()"
   ]
  },
  {
   "cell_type": "markdown",
   "metadata": {},
   "source": [
    "Посмотрим средние значения для каждой выборки:"
   ]
  },
  {
   "cell_type": "code",
   "execution_count": 72,
   "metadata": {},
   "outputs": [
    {
     "name": "stdout",
     "output_type": "stream",
     "text": [
      "Среднее значение Xone: 6.52142857142857\n",
      "Среднее значение PC: 6.2803797468354405\n"
     ]
    }
   ],
   "source": [
    "print('Среднее значение Xone:', user_rating_xone.mean())\n",
    "print('Среднее значение PC:', user_rating_pc.mean())"
   ]
  },
  {
   "cell_type": "markdown",
   "metadata": {},
   "source": [
    "Произведем проверку дисперсии выборок:"
   ]
  },
  {
   "cell_type": "code",
   "execution_count": 73,
   "metadata": {},
   "outputs": [
    {
     "name": "stdout",
     "output_type": "stream",
     "text": [
      "Дисперсия для XOne: 1.8965188383045533\n",
      "Дисперсия для PC: 2.9913239064252517\n"
     ]
    }
   ],
   "source": [
    "print('Дисперсия для XOne:', np.var(user_rating_xone))\n",
    "print('Дисперсия для PC:', np.var(user_rating_pc))"
   ]
  },
  {
   "cell_type": "markdown",
   "metadata": {},
   "source": [
    "Хоть средние значения и почти одинаковы, дисперсия явно различается. \n",
    "\n",
    "Параметр equal_var зададим как False. \n",
    "\n",
    "Пороговое значение alpha зададим, как равное 1%."
   ]
  },
  {
   "cell_type": "code",
   "execution_count": 74,
   "metadata": {},
   "outputs": [
    {
     "name": "stdout",
     "output_type": "stream",
     "text": [
      "P-значение: 0.16174359801784308\n",
      "Не получилось отвергнуть нулевую гипотезу.\n"
     ]
    }
   ],
   "source": [
    "alpha = 0.01\n",
    "\n",
    "results = st.ttest_ind(user_rating_xone, user_rating_pc, equal_var=False)\n",
    "\n",
    "print('P-значение:', results.pvalue)\n",
    "\n",
    "if (results.pvalue < alpha):\n",
    "    print(\"Отвергаем нулевую гипотезу.\")\n",
    "else:\n",
    "    print(\"Не получилось отвергнуть нулевую гипотезу.\")"
   ]
  },
  {
   "cell_type": "markdown",
   "metadata": {},
   "source": [
    "**Вывод:**\n",
    "\n",
    "Поскольку нулевую гипотезу отвергнуть не удалось, у нас нет оснований утверждать, что средние пользовательские рейтинги платформ Xbox One и PC значимо различаются."
   ]
  },
  {
   "cell_type": "markdown",
   "metadata": {},
   "source": [
    "### Средние пользовательские рейтинги жанров Action и Sports\n",
    "\n",
    "Определим нулевую и альтернативные гипотезы:\n",
    "* H0: Средние пользовательские рейтинги жанров Action и Sports одинаковые.\n",
    "* H1: Средние пользовательские рейтинги жанров Action и Sports различаются.\n",
    "\n",
    "Поскольку генеральных совокупностей у нас две, для проверки нулевой гипотезы мы будем использовать метод ttest_ind().\n",
    "\n",
    "Сохраним интересующие нас данные из актуального временного периода в отдельные переменные:"
   ]
  },
  {
   "cell_type": "code",
   "execution_count": 75,
   "metadata": {},
   "outputs": [],
   "source": [
    "user_rating_action = games_actual.query('genre == \"Action\"')['user_score'].dropna()\n",
    "\n",
    "user_rating_sports = games_actual.query('genre == \"Sports\"')['user_score'].dropna()"
   ]
  },
  {
   "cell_type": "markdown",
   "metadata": {},
   "source": [
    "Просмотрим средние значения для каждой выборки:"
   ]
  },
  {
   "cell_type": "code",
   "execution_count": 76,
   "metadata": {},
   "outputs": [
    {
     "name": "stdout",
     "output_type": "stream",
     "text": [
      "Среднее значение Action: 6.837500000000005\n",
      "Среднее значение Sports: 5.238124999999999\n"
     ]
    }
   ],
   "source": [
    "print('Среднее значение Action:', user_rating_action.mean())\n",
    "print('Среднее значение Sports:', user_rating_sports.mean())"
   ]
  },
  {
   "cell_type": "markdown",
   "metadata": {},
   "source": [
    "Произведем проверку дисперсии выборок:"
   ]
  },
  {
   "cell_type": "code",
   "execution_count": 77,
   "metadata": {},
   "outputs": [
    {
     "name": "stdout",
     "output_type": "stream",
     "text": [
      "Дисперсия для Action: 1.761935586734693\n",
      "Дисперсия для Sports: 3.1607339843749975\n"
     ]
    }
   ],
   "source": [
    "print('Дисперсия для Action:', np.var(user_rating_action))\n",
    "print('Дисперсия для Sports:', np.var(user_rating_sports))"
   ]
  },
  {
   "cell_type": "markdown",
   "metadata": {},
   "source": [
    "По статистическим данным здесь отличается все. \n",
    "\n",
    "Параметр equal_var зададим как False.\n",
    "\n",
    "Пороговое значение alpha зададим, как равное 1%."
   ]
  },
  {
   "cell_type": "code",
   "execution_count": 78,
   "metadata": {},
   "outputs": [
    {
     "name": "stdout",
     "output_type": "stream",
     "text": [
      "P-значение: 1.3883444596405356e-20\n",
      "Отвергаем нулевую гипотезу.\n"
     ]
    }
   ],
   "source": [
    "alpha = 0.01\n",
    "\n",
    "results = st.ttest_ind(user_rating_action, user_rating_sports, equal_var=False)\n",
    "\n",
    "print('P-значение:', results.pvalue)\n",
    "\n",
    "if (results.pvalue < alpha):\n",
    "    print(\"Отвергаем нулевую гипотезу.\")\n",
    "else:\n",
    "    print(\"Не получилось отвергнуть нулевую гипотезу.\")"
   ]
  },
  {
   "cell_type": "markdown",
   "metadata": {},
   "source": [
    "**Вывод:**\n",
    "\n",
    "Поскольку мы отвергли нулевую гипотезу, у нас есть достаточно оснований утверждать, что средние пользовательские рейтинги жанров Action и Sports значимо различаются."
   ]
  },
  {
   "cell_type": "markdown",
   "metadata": {},
   "source": [
    "## Общий вывод\n",
    "\n",
    "1. В процессе изучения и предобработки данных, мы внесли в таблицу следующие изменения:\n",
    "* year_of_release - тип данных поменяли на int.\n",
    "* user_score - заменили tbd на NaN, и тип данных поменяли на float.\n",
    "* Удалили пропущенные значения в столбцах name, genre, year_of_release.\n",
    "* Удалили неявные дубликаты в 4106 и 16087 строках.\n",
    "* Добавили столбец total_sales с суммарными продажами во всех регионах.\n",
    "\n",
    "2. Во время исследовательского анализа данных, мы пришли к следующим заключениям:\n",
    "    1. Мы изучили распределение выпуска игр в разные годы, и пришли к выводу, что продажи за весь период нас не интересуют.\n",
    "    2. Мы обнаружили, что платформы с самыми большими суммарными продажами за весь период являются: PS2, X360, PS3, Wii, DS и PS. Мы построили распределение по продажам по годам для каждой из них. В результате было выявлено, что средний срок жизни платформы составляет 11 лет. \n",
    "    3. Актуальный период для дальнейших исследований на основе предыдущих наблюдений было решено постановить с 2013 по 2016 год. Данные за предыдущие годы далее учитываться не будут.\n",
    "    4. Исследовав данные за актуальный период, было постановленно, что самыми многообещающими платформами являются PC, PS4, XOne, 3DS, WiiU и PSV. Для каждой из них был составлен \"ящик с усами\" по глобальным продажам. Результат следующий:\n",
    "        * Среднее число продаж на PC на одну игру составляет 208 тыс. копий. Максимальное число продаж: 3.1 млн. копий.\n",
    "        * Среднее число продаж на PS4 на одну игру составляет 801 тыс. копий. Максимальное число продаж: 14.6 млн. копий.\n",
    "        * Среднее число продаж на XOne на одну игру составляет 645 тыс. копий. Максимальное число продаж: 7.4 млн. копий.\n",
    "        * Среднее число продаж на 3DS на одну игру составляет 472 тыс. копий. Максимальное число продаж: 14.6 млн. копий.\n",
    "        * Среднее число продаж на WiiU на одну игру составляет 562 тыс. копий. Максимальное число продаж: 7.1 млн. копий.\n",
    "        * Среднее число продаж на PSV на одну игру составляет 92 тыс. копий. Максимальное число продаж: 2 млн. копий.\n",
    "    \n",
    "    5. Мы изучили влияние отзывов пользователей и критиков на число продаж для платформ, построили диаграмму рассеяния и посчитали корреляцию между отзывами и продажами для них. Результат следующий:\n",
    "        * Для PC:\n",
    "            - Корреляция между отзывами критиков и числом продаж слабая прямая.\n",
    "            - Корреляция между отзывами пользователей и числом продаж отсутствует.\n",
    "        * Для PS4:\n",
    "            - Корреляция между отзывами критиков и числом продаж средняя прямая.\n",
    "            - Корреляция между отзывами пользователей и числом продаж отсутствует.\n",
    "        * Для XOne:\n",
    "            - Корреляция между отзывами критиков и числом продаж средняя прямая.\n",
    "            - Корреляция между отзывами пользователей и числом продаж отсутствует.\n",
    "        * Для 3DS:\n",
    "            - Корреляция между отзывами критиков и числом продаж средняя прямая.\n",
    "            - Корреляция между отзывами пользователей и числом продаж слабая прямая.\n",
    "        * Для WiiU:\n",
    "            - Корреляция между отзывами критиков и числом продаж средняя прямая.\n",
    "            - Корреляция между отзывами пользователей и числом продаж средняя прямая.\n",
    "        * Для PSV:\n",
    "            - Корреляция между отзывами критиков и числом продаж слабая прямая.\n",
    "            - Корреляция между отзывами пользователей и числом продаж отсутствует.    \n",
    "        \n",
    "    6. Мы изучили влияние жанра на число продаж для платформ, составили диаграмму распределения. Выводы следующие:\n",
    "        * Самые популярными жанрами являются Shooter, Sports и Platform. \n",
    "        * Самыми непопулярными жанрами являются Strategy, Puzzle и Adventure.\n",
    "3. Мы составили портрет для пользователей трех регионов: NA, EU и JP. Итоги следующие:\n",
    "    * Пятерка самых популярных платформ по региону:\n",
    "        * В Северной Америке: PS4, XOne, X360, PS3, 3DS.\n",
    "        * В Европе: PS4, PS3, XOne, X360, 3DS.\n",
    "        * В Японии: 3DS, PS3, PSV, PS4, WiiU.\n",
    "    * Пятерка самых популярных жанров:\n",
    "        * В Северной Америке: Sports, Shooter, Misc, Platform, Action.\n",
    "        * В Европе: Shooter, Platform, Racing, Sports, Misc.\n",
    "        * В Японии: Puzzle, Role-Playing, Sports, Misc, Strategy.\n",
    "    * Популярность игр с определенным рейтингом в Америке и Европе почти одинаковая: лидируют игры с рейтингом 17+. В Японии же самыми распространенными играми являются игры без рейтинга, поскольку большинство игр там не локализируются на американский рынок.\n",
    "    \n",
    "4. Мы проверили две поставленные гипотезы, и пришли к следующим заключениям:\n",
    "    * Средние пользовательские рейтинги платформ Xbox One и PC одинаковые.\n",
    "    * Средние пользовательские рейтинги жанров Action и Sports разные."
   ]
  }
 ],
 "metadata": {
  "ExecuteTimeLog": [
   {
    "duration": 1381,
    "start_time": "2022-07-07T12:34:38.439Z"
   },
   {
    "duration": 102,
    "start_time": "2022-07-07T12:35:34.107Z"
   },
   {
    "duration": 78,
    "start_time": "2022-07-07T12:35:54.968Z"
   },
   {
    "duration": 21,
    "start_time": "2022-07-07T12:36:34.970Z"
   },
   {
    "duration": 19,
    "start_time": "2022-07-07T12:36:45.929Z"
   },
   {
    "duration": 11,
    "start_time": "2022-07-07T12:38:48.786Z"
   },
   {
    "duration": 1191,
    "start_time": "2022-07-07T12:42:06.618Z"
   },
   {
    "duration": 1021,
    "start_time": "2022-07-07T12:42:44.817Z"
   },
   {
    "duration": 4,
    "start_time": "2022-07-07T12:42:56.586Z"
   },
   {
    "duration": 5,
    "start_time": "2022-07-07T12:43:09.185Z"
   },
   {
    "duration": 49,
    "start_time": "2022-07-07T12:43:57.978Z"
   },
   {
    "duration": 52,
    "start_time": "2022-07-07T12:44:02.162Z"
   },
   {
    "duration": 4,
    "start_time": "2022-07-07T12:44:05.730Z"
   },
   {
    "duration": 51,
    "start_time": "2022-07-07T12:44:37.881Z"
   },
   {
    "duration": 3,
    "start_time": "2022-07-07T12:44:43.594Z"
   },
   {
    "duration": 7,
    "start_time": "2022-07-07T12:48:25.462Z"
   },
   {
    "duration": 13,
    "start_time": "2022-07-07T12:50:46.169Z"
   },
   {
    "duration": 9,
    "start_time": "2022-07-07T12:50:56.711Z"
   },
   {
    "duration": 6,
    "start_time": "2022-07-07T13:01:34.166Z"
   },
   {
    "duration": 6,
    "start_time": "2022-07-07T13:01:38.435Z"
   },
   {
    "duration": 5,
    "start_time": "2022-07-07T13:01:40.999Z"
   },
   {
    "duration": 5,
    "start_time": "2022-07-07T13:04:22.215Z"
   },
   {
    "duration": 26,
    "start_time": "2022-07-07T13:05:31.311Z"
   },
   {
    "duration": 10,
    "start_time": "2022-07-07T13:14:48.153Z"
   },
   {
    "duration": 13,
    "start_time": "2022-07-07T13:14:58.043Z"
   },
   {
    "duration": 10,
    "start_time": "2022-07-07T13:16:58.948Z"
   },
   {
    "duration": 6,
    "start_time": "2022-07-07T13:17:06.944Z"
   },
   {
    "duration": 8,
    "start_time": "2022-07-07T13:17:26.849Z"
   },
   {
    "duration": 7,
    "start_time": "2022-07-07T13:19:17.504Z"
   },
   {
    "duration": 60,
    "start_time": "2022-07-07T13:19:17.512Z"
   },
   {
    "duration": 16,
    "start_time": "2022-07-07T13:19:17.574Z"
   },
   {
    "duration": 30,
    "start_time": "2022-07-07T13:19:17.591Z"
   },
   {
    "duration": 4,
    "start_time": "2022-07-07T13:19:17.623Z"
   },
   {
    "duration": 18,
    "start_time": "2022-07-07T13:19:17.628Z"
   },
   {
    "duration": 27,
    "start_time": "2022-07-07T13:19:17.648Z"
   },
   {
    "duration": 16,
    "start_time": "2022-07-07T13:19:17.677Z"
   },
   {
    "duration": 23,
    "start_time": "2022-07-07T13:19:17.695Z"
   },
   {
    "duration": 8,
    "start_time": "2022-07-07T13:20:43.159Z"
   },
   {
    "duration": 8,
    "start_time": "2022-07-07T13:21:08.213Z"
   },
   {
    "duration": 7,
    "start_time": "2022-07-07T13:21:19.574Z"
   },
   {
    "duration": 806,
    "start_time": "2022-07-07T13:22:31.877Z"
   },
   {
    "duration": 23,
    "start_time": "2022-07-07T13:22:40.765Z"
   },
   {
    "duration": 13,
    "start_time": "2022-07-07T13:25:49.572Z"
   },
   {
    "duration": 16,
    "start_time": "2022-07-07T13:26:02.081Z"
   },
   {
    "duration": 445,
    "start_time": "2022-07-07T13:29:44.371Z"
   },
   {
    "duration": 6,
    "start_time": "2022-07-07T13:30:08.162Z"
   },
   {
    "duration": 19,
    "start_time": "2022-07-07T13:32:33.593Z"
   },
   {
    "duration": 6,
    "start_time": "2022-07-07T13:34:02.838Z"
   },
   {
    "duration": 11,
    "start_time": "2022-07-07T13:34:36.616Z"
   },
   {
    "duration": 8,
    "start_time": "2022-07-07T13:34:39.951Z"
   },
   {
    "duration": 6,
    "start_time": "2022-07-07T13:41:18.748Z"
   },
   {
    "duration": 20,
    "start_time": "2022-07-07T13:41:41.988Z"
   },
   {
    "duration": 17,
    "start_time": "2022-07-07T13:49:59.075Z"
   },
   {
    "duration": 17,
    "start_time": "2022-07-07T13:50:35.622Z"
   },
   {
    "duration": 24,
    "start_time": "2022-07-07T13:50:51.838Z"
   },
   {
    "duration": 25,
    "start_time": "2022-07-07T13:51:02.884Z"
   },
   {
    "duration": 213,
    "start_time": "2022-07-07T13:52:46.779Z"
   },
   {
    "duration": 339,
    "start_time": "2022-07-07T13:53:07.248Z"
   },
   {
    "duration": 234,
    "start_time": "2022-07-07T13:53:31.714Z"
   },
   {
    "duration": 352,
    "start_time": "2022-07-07T13:58:12.487Z"
   },
   {
    "duration": 6,
    "start_time": "2022-07-07T13:59:30.567Z"
   },
   {
    "duration": 5,
    "start_time": "2022-07-07T14:00:08.836Z"
   },
   {
    "duration": 6113,
    "start_time": "2022-07-07T14:00:46.881Z"
   },
   {
    "duration": 5,
    "start_time": "2022-07-07T14:01:36.656Z"
   },
   {
    "duration": 5,
    "start_time": "2022-07-07T14:01:43.044Z"
   },
   {
    "duration": 47,
    "start_time": "2022-07-07T14:01:43.052Z"
   },
   {
    "duration": 16,
    "start_time": "2022-07-07T14:01:43.101Z"
   },
   {
    "duration": 17,
    "start_time": "2022-07-07T14:01:43.119Z"
   },
   {
    "duration": 3,
    "start_time": "2022-07-07T14:01:43.139Z"
   },
   {
    "duration": 7,
    "start_time": "2022-07-07T14:01:43.144Z"
   },
   {
    "duration": 14,
    "start_time": "2022-07-07T14:01:43.153Z"
   },
   {
    "duration": 23,
    "start_time": "2022-07-07T14:01:43.169Z"
   },
   {
    "duration": 10,
    "start_time": "2022-07-07T14:01:43.194Z"
   },
   {
    "duration": 17,
    "start_time": "2022-07-07T14:01:43.206Z"
   },
   {
    "duration": 8,
    "start_time": "2022-07-07T14:01:43.226Z"
   },
   {
    "duration": 40,
    "start_time": "2022-07-07T14:01:43.236Z"
   },
   {
    "duration": 18,
    "start_time": "2022-07-07T14:01:43.278Z"
   },
   {
    "duration": 357,
    "start_time": "2022-07-07T14:01:43.299Z"
   },
   {
    "duration": 4,
    "start_time": "2022-07-07T14:01:43.658Z"
   },
   {
    "duration": 20,
    "start_time": "2022-07-07T14:01:43.663Z"
   },
   {
    "duration": 252,
    "start_time": "2022-07-07T14:01:43.685Z"
   },
   {
    "duration": 651,
    "start_time": "2022-07-07T14:01:43.939Z"
   },
   {
    "duration": 6,
    "start_time": "2022-07-07T14:01:44.591Z"
   },
   {
    "duration": 6072,
    "start_time": "2022-07-07T14:01:47.069Z"
   },
   {
    "duration": 13,
    "start_time": "2022-07-07T14:11:59.420Z"
   },
   {
    "duration": 4,
    "start_time": "2022-07-07T14:12:09.642Z"
   },
   {
    "duration": 5,
    "start_time": "2022-07-07T14:13:22.116Z"
   },
   {
    "duration": 1299,
    "start_time": "2022-07-07T14:13:32.116Z"
   },
   {
    "duration": 21,
    "start_time": "2022-07-07T14:21:42.212Z"
   },
   {
    "duration": 22,
    "start_time": "2022-07-07T14:21:45.261Z"
   },
   {
    "duration": 24,
    "start_time": "2022-07-07T14:21:47.549Z"
   },
   {
    "duration": 6,
    "start_time": "2022-07-07T14:24:20.221Z"
   },
   {
    "duration": 9,
    "start_time": "2022-07-07T14:25:20.184Z"
   },
   {
    "duration": 22,
    "start_time": "2022-07-07T14:25:55.917Z"
   },
   {
    "duration": 5,
    "start_time": "2022-07-07T14:25:58.422Z"
   },
   {
    "duration": 7,
    "start_time": "2022-07-07T14:26:00.061Z"
   },
   {
    "duration": 6,
    "start_time": "2022-07-07T14:27:46.486Z"
   },
   {
    "duration": 9,
    "start_time": "2022-07-07T14:27:48.164Z"
   },
   {
    "duration": 7,
    "start_time": "2022-07-07T14:28:02.397Z"
   },
   {
    "duration": 9,
    "start_time": "2022-07-07T14:28:04.813Z"
   },
   {
    "duration": 6,
    "start_time": "2022-07-07T14:28:11.758Z"
   },
   {
    "duration": 8,
    "start_time": "2022-07-07T14:28:15.814Z"
   },
   {
    "duration": 1172,
    "start_time": "2022-07-07T14:29:47.455Z"
   },
   {
    "duration": 5,
    "start_time": "2022-07-07T14:29:54.999Z"
   },
   {
    "duration": 54,
    "start_time": "2022-07-07T14:29:55.006Z"
   },
   {
    "duration": 16,
    "start_time": "2022-07-07T14:29:55.061Z"
   },
   {
    "duration": 15,
    "start_time": "2022-07-07T14:29:55.078Z"
   },
   {
    "duration": 7,
    "start_time": "2022-07-07T14:29:57.360Z"
   },
   {
    "duration": 7,
    "start_time": "2022-07-07T14:30:21.190Z"
   },
   {
    "duration": 8,
    "start_time": "2022-07-07T14:31:14.078Z"
   },
   {
    "duration": 10,
    "start_time": "2022-07-07T14:31:15.981Z"
   },
   {
    "duration": 6,
    "start_time": "2022-07-07T14:31:35.548Z"
   },
   {
    "duration": 62,
    "start_time": "2022-07-07T14:31:35.556Z"
   },
   {
    "duration": 16,
    "start_time": "2022-07-07T14:31:35.620Z"
   },
   {
    "duration": 18,
    "start_time": "2022-07-07T14:31:35.637Z"
   },
   {
    "duration": 15,
    "start_time": "2022-07-07T14:31:35.657Z"
   },
   {
    "duration": 21,
    "start_time": "2022-07-07T14:31:35.674Z"
   },
   {
    "duration": 7,
    "start_time": "2022-07-07T14:31:35.696Z"
   },
   {
    "duration": 8,
    "start_time": "2022-07-07T14:31:35.704Z"
   },
   {
    "duration": 11,
    "start_time": "2022-07-07T14:31:35.713Z"
   },
   {
    "duration": 18,
    "start_time": "2022-07-07T14:31:35.726Z"
   },
   {
    "duration": 10,
    "start_time": "2022-07-07T14:31:35.745Z"
   },
   {
    "duration": 22,
    "start_time": "2022-07-07T14:31:35.756Z"
   },
   {
    "duration": 252,
    "start_time": "2022-07-07T14:31:35.779Z"
   },
   {
    "duration": 25,
    "start_time": "2022-07-07T14:31:36.035Z"
   },
   {
    "duration": 17,
    "start_time": "2022-07-07T14:31:36.061Z"
   },
   {
    "duration": 365,
    "start_time": "2022-07-07T14:31:36.080Z"
   },
   {
    "duration": 5,
    "start_time": "2022-07-07T14:31:36.447Z"
   },
   {
    "duration": 26,
    "start_time": "2022-07-07T14:31:36.454Z"
   },
   {
    "duration": 248,
    "start_time": "2022-07-07T14:31:36.482Z"
   },
   {
    "duration": 370,
    "start_time": "2022-07-07T14:31:36.732Z"
   },
   {
    "duration": 4,
    "start_time": "2022-07-07T14:31:37.104Z"
   },
   {
    "duration": 1263,
    "start_time": "2022-07-07T14:31:37.109Z"
   },
   {
    "duration": 22,
    "start_time": "2022-07-07T14:31:38.373Z"
   },
   {
    "duration": 6,
    "start_time": "2022-07-07T14:31:38.397Z"
   },
   {
    "duration": 9,
    "start_time": "2022-07-07T14:31:38.421Z"
   },
   {
    "duration": 27,
    "start_time": "2022-07-07T14:32:31.062Z"
   },
   {
    "duration": 242,
    "start_time": "2022-07-07T14:33:50.711Z"
   },
   {
    "duration": 8,
    "start_time": "2022-07-07T14:38:38.919Z"
   },
   {
    "duration": 9,
    "start_time": "2022-07-07T14:38:51.197Z"
   },
   {
    "duration": 9,
    "start_time": "2022-07-07T14:39:22.054Z"
   },
   {
    "duration": 10,
    "start_time": "2022-07-07T14:39:34.059Z"
   },
   {
    "duration": 195,
    "start_time": "2022-07-07T14:39:38.974Z"
   },
   {
    "duration": 8,
    "start_time": "2022-07-07T14:41:29.589Z"
   },
   {
    "duration": 198,
    "start_time": "2022-07-07T14:41:48.260Z"
   },
   {
    "duration": 11,
    "start_time": "2022-07-07T14:43:32.049Z"
   },
   {
    "duration": 2222,
    "start_time": "2022-07-07T14:43:53.406Z"
   },
   {
    "duration": 15,
    "start_time": "2022-07-07T14:47:02.295Z"
   },
   {
    "duration": 17,
    "start_time": "2022-07-07T14:47:41.358Z"
   },
   {
    "duration": 16,
    "start_time": "2022-07-07T14:47:45.744Z"
   },
   {
    "duration": 225,
    "start_time": "2022-07-07T14:49:01.990Z"
   },
   {
    "duration": 5,
    "start_time": "2022-07-07T17:29:44.288Z"
   },
   {
    "duration": 47,
    "start_time": "2022-07-07T17:29:44.295Z"
   },
   {
    "duration": 15,
    "start_time": "2022-07-07T17:29:44.344Z"
   },
   {
    "duration": 19,
    "start_time": "2022-07-07T17:29:44.361Z"
   },
   {
    "duration": 9,
    "start_time": "2022-07-07T17:29:44.382Z"
   },
   {
    "duration": 34,
    "start_time": "2022-07-07T17:29:44.393Z"
   },
   {
    "duration": 11,
    "start_time": "2022-07-07T17:29:44.429Z"
   },
   {
    "duration": 16,
    "start_time": "2022-07-07T17:29:44.442Z"
   },
   {
    "duration": 17,
    "start_time": "2022-07-07T17:29:44.460Z"
   },
   {
    "duration": 23,
    "start_time": "2022-07-07T17:29:44.479Z"
   },
   {
    "duration": 8,
    "start_time": "2022-07-07T17:29:44.504Z"
   },
   {
    "duration": 16,
    "start_time": "2022-07-07T17:29:44.515Z"
   },
   {
    "duration": 14,
    "start_time": "2022-07-07T17:29:44.533Z"
   },
   {
    "duration": 34,
    "start_time": "2022-07-07T17:29:44.551Z"
   },
   {
    "duration": 19,
    "start_time": "2022-07-07T17:29:44.587Z"
   },
   {
    "duration": 355,
    "start_time": "2022-07-07T17:29:44.623Z"
   },
   {
    "duration": 5,
    "start_time": "2022-07-07T17:29:44.979Z"
   },
   {
    "duration": 35,
    "start_time": "2022-07-07T17:29:44.985Z"
   },
   {
    "duration": 235,
    "start_time": "2022-07-07T17:29:45.022Z"
   },
   {
    "duration": 358,
    "start_time": "2022-07-07T17:29:45.258Z"
   },
   {
    "duration": 7,
    "start_time": "2022-07-07T17:29:45.617Z"
   },
   {
    "duration": 1229,
    "start_time": "2022-07-07T17:29:45.625Z"
   },
   {
    "duration": 25,
    "start_time": "2022-07-07T17:29:46.856Z"
   },
   {
    "duration": 7,
    "start_time": "2022-07-07T17:29:46.882Z"
   },
   {
    "duration": 11,
    "start_time": "2022-07-07T17:29:46.891Z"
   },
   {
    "duration": 28,
    "start_time": "2022-07-07T17:29:46.923Z"
   },
   {
    "duration": 435,
    "start_time": "2022-07-07T17:29:46.953Z"
   },
   {
    "duration": 8,
    "start_time": "2022-07-07T17:29:47.390Z"
   },
   {
    "duration": 222,
    "start_time": "2022-07-07T17:29:47.400Z"
   },
   {
    "duration": 8,
    "start_time": "2022-07-07T17:29:47.624Z"
   },
   {
    "duration": 220,
    "start_time": "2022-07-07T17:29:47.634Z"
   },
   {
    "duration": 11,
    "start_time": "2022-07-07T17:29:47.856Z"
   },
   {
    "duration": 2077,
    "start_time": "2022-07-07T17:29:47.869Z"
   },
   {
    "duration": 16,
    "start_time": "2022-07-07T17:29:49.948Z"
   },
   {
    "duration": 248,
    "start_time": "2022-07-07T17:29:49.966Z"
   },
   {
    "duration": 4,
    "start_time": "2022-07-07T17:33:59.278Z"
   },
   {
    "duration": 6,
    "start_time": "2022-07-07T17:34:20.462Z"
   },
   {
    "duration": 6,
    "start_time": "2022-07-07T17:35:08.925Z"
   },
   {
    "duration": 392,
    "start_time": "2022-07-07T17:36:58.858Z"
   },
   {
    "duration": 418,
    "start_time": "2022-07-07T17:37:52.861Z"
   },
   {
    "duration": 575,
    "start_time": "2022-07-07T17:40:45.204Z"
   },
   {
    "duration": 397,
    "start_time": "2022-07-07T17:41:14.662Z"
   },
   {
    "duration": 410,
    "start_time": "2022-07-07T17:43:31.545Z"
   },
   {
    "duration": 386,
    "start_time": "2022-07-07T17:43:55.280Z"
   },
   {
    "duration": 20,
    "start_time": "2022-07-07T17:51:04.911Z"
   },
   {
    "duration": 17,
    "start_time": "2022-07-07T17:51:26.199Z"
   },
   {
    "duration": 15,
    "start_time": "2022-07-07T17:52:09.443Z"
   },
   {
    "duration": 17,
    "start_time": "2022-07-07T17:53:32.423Z"
   },
   {
    "duration": 19,
    "start_time": "2022-07-07T17:53:48.359Z"
   },
   {
    "duration": 18,
    "start_time": "2022-07-07T17:54:04.463Z"
   },
   {
    "duration": 20,
    "start_time": "2022-07-07T17:55:05.926Z"
   },
   {
    "duration": 16,
    "start_time": "2022-07-07T17:55:18.142Z"
   },
   {
    "duration": 13,
    "start_time": "2022-07-07T17:55:33.638Z"
   },
   {
    "duration": 10,
    "start_time": "2022-07-07T18:18:59.516Z"
   },
   {
    "duration": 4,
    "start_time": "2022-07-07T18:19:24.956Z"
   },
   {
    "duration": 8,
    "start_time": "2022-07-07T18:19:41.549Z"
   },
   {
    "duration": 4,
    "start_time": "2022-07-07T18:19:43.379Z"
   },
   {
    "duration": 5,
    "start_time": "2022-07-07T18:20:20.675Z"
   },
   {
    "duration": 6,
    "start_time": "2022-07-07T18:20:38.412Z"
   },
   {
    "duration": 7,
    "start_time": "2022-07-07T18:20:45.177Z"
   },
   {
    "duration": 9,
    "start_time": "2022-07-07T18:20:58.603Z"
   },
   {
    "duration": 9,
    "start_time": "2022-07-07T18:24:42.285Z"
   },
   {
    "duration": 9,
    "start_time": "2022-07-07T18:25:35.836Z"
   },
   {
    "duration": 6,
    "start_time": "2022-07-07T18:26:03.845Z"
   },
   {
    "duration": 8,
    "start_time": "2022-07-07T18:28:27.942Z"
   },
   {
    "duration": 4,
    "start_time": "2022-07-07T18:28:44.848Z"
   },
   {
    "duration": 9,
    "start_time": "2022-07-07T18:28:58.398Z"
   },
   {
    "duration": 6,
    "start_time": "2022-07-07T18:29:00.341Z"
   },
   {
    "duration": 7,
    "start_time": "2022-07-07T18:29:21.110Z"
   },
   {
    "duration": 8,
    "start_time": "2022-07-07T18:29:26.006Z"
   },
   {
    "duration": 6,
    "start_time": "2022-07-07T18:29:58.438Z"
   },
   {
    "duration": 7,
    "start_time": "2022-07-07T18:30:01.790Z"
   },
   {
    "duration": 6,
    "start_time": "2022-07-07T18:31:40.326Z"
   },
   {
    "duration": 5,
    "start_time": "2022-07-07T18:32:09.049Z"
   },
   {
    "duration": 6,
    "start_time": "2022-07-07T18:32:44.036Z"
   },
   {
    "duration": 5,
    "start_time": "2022-07-07T18:48:05.017Z"
   },
   {
    "duration": 41,
    "start_time": "2022-07-07T18:48:05.025Z"
   },
   {
    "duration": 15,
    "start_time": "2022-07-07T18:48:05.068Z"
   },
   {
    "duration": 14,
    "start_time": "2022-07-07T18:48:05.085Z"
   },
   {
    "duration": 21,
    "start_time": "2022-07-07T18:48:05.102Z"
   },
   {
    "duration": 22,
    "start_time": "2022-07-07T18:48:05.125Z"
   },
   {
    "duration": 15,
    "start_time": "2022-07-07T18:48:05.149Z"
   },
   {
    "duration": 7,
    "start_time": "2022-07-07T18:48:05.166Z"
   },
   {
    "duration": 18,
    "start_time": "2022-07-07T18:48:05.174Z"
   },
   {
    "duration": 16,
    "start_time": "2022-07-07T18:48:05.193Z"
   },
   {
    "duration": 10,
    "start_time": "2022-07-07T18:48:05.211Z"
   },
   {
    "duration": 12,
    "start_time": "2022-07-07T18:48:05.222Z"
   },
   {
    "duration": 10,
    "start_time": "2022-07-07T18:48:05.236Z"
   },
   {
    "duration": 21,
    "start_time": "2022-07-07T18:48:05.249Z"
   },
   {
    "duration": 15,
    "start_time": "2022-07-07T18:48:05.271Z"
   },
   {
    "duration": 349,
    "start_time": "2022-07-07T18:48:05.288Z"
   },
   {
    "duration": 5,
    "start_time": "2022-07-07T18:48:05.638Z"
   },
   {
    "duration": 18,
    "start_time": "2022-07-07T18:48:05.644Z"
   },
   {
    "duration": 258,
    "start_time": "2022-07-07T18:48:05.664Z"
   },
   {
    "duration": 366,
    "start_time": "2022-07-07T18:48:05.924Z"
   },
   {
    "duration": 5,
    "start_time": "2022-07-07T18:48:06.291Z"
   },
   {
    "duration": 1477,
    "start_time": "2022-07-07T18:48:06.297Z"
   },
   {
    "duration": 26,
    "start_time": "2022-07-07T18:48:07.776Z"
   },
   {
    "duration": 18,
    "start_time": "2022-07-07T18:48:07.804Z"
   },
   {
    "duration": 12,
    "start_time": "2022-07-07T18:48:07.824Z"
   },
   {
    "duration": 33,
    "start_time": "2022-07-07T18:48:07.838Z"
   },
   {
    "duration": 281,
    "start_time": "2022-07-07T18:48:07.873Z"
   },
   {
    "duration": 10,
    "start_time": "2022-07-07T18:48:08.156Z"
   },
   {
    "duration": 233,
    "start_time": "2022-07-07T18:48:08.167Z"
   },
   {
    "duration": 8,
    "start_time": "2022-07-07T18:48:08.402Z"
   },
   {
    "duration": 227,
    "start_time": "2022-07-07T18:48:08.421Z"
   },
   {
    "duration": 11,
    "start_time": "2022-07-07T18:48:08.650Z"
   },
   {
    "duration": 2120,
    "start_time": "2022-07-07T18:48:08.663Z"
   },
   {
    "duration": 15,
    "start_time": "2022-07-07T18:48:10.785Z"
   },
   {
    "duration": 232,
    "start_time": "2022-07-07T18:48:10.801Z"
   },
   {
    "duration": 5,
    "start_time": "2022-07-07T18:48:11.036Z"
   },
   {
    "duration": 8,
    "start_time": "2022-07-07T18:48:11.043Z"
   },
   {
    "duration": 410,
    "start_time": "2022-07-07T18:48:11.053Z"
   },
   {
    "duration": 397,
    "start_time": "2022-07-07T18:48:11.465Z"
   },
   {
    "duration": 613,
    "start_time": "2022-07-07T18:48:11.864Z"
   },
   {
    "duration": 390,
    "start_time": "2022-07-07T18:48:12.480Z"
   },
   {
    "duration": 440,
    "start_time": "2022-07-07T18:48:12.872Z"
   },
   {
    "duration": 394,
    "start_time": "2022-07-07T18:48:13.314Z"
   },
   {
    "duration": 28,
    "start_time": "2022-07-07T18:48:13.710Z"
   },
   {
    "duration": 15,
    "start_time": "2022-07-07T18:48:13.740Z"
   },
   {
    "duration": 20,
    "start_time": "2022-07-07T18:48:13.756Z"
   },
   {
    "duration": 17,
    "start_time": "2022-07-07T18:48:13.778Z"
   },
   {
    "duration": 37,
    "start_time": "2022-07-07T18:48:13.797Z"
   },
   {
    "duration": 16,
    "start_time": "2022-07-07T18:48:13.836Z"
   },
   {
    "duration": 17,
    "start_time": "2022-07-07T18:48:13.853Z"
   },
   {
    "duration": 15,
    "start_time": "2022-07-07T18:48:13.871Z"
   },
   {
    "duration": 36,
    "start_time": "2022-07-07T18:48:13.888Z"
   },
   {
    "duration": 9,
    "start_time": "2022-07-07T18:48:13.925Z"
   },
   {
    "duration": 5,
    "start_time": "2022-07-07T18:48:13.935Z"
   },
   {
    "duration": 9,
    "start_time": "2022-07-07T18:48:13.942Z"
   },
   {
    "duration": 8,
    "start_time": "2022-07-07T18:48:13.953Z"
   },
   {
    "duration": 13,
    "start_time": "2022-07-07T18:48:13.963Z"
   },
   {
    "duration": 7,
    "start_time": "2022-07-07T18:48:13.978Z"
   },
   {
    "duration": 38,
    "start_time": "2022-07-07T18:48:13.986Z"
   },
   {
    "duration": 5,
    "start_time": "2022-07-07T18:48:14.025Z"
   },
   {
    "duration": 11,
    "start_time": "2022-07-07T18:48:14.032Z"
   },
   {
    "duration": 7,
    "start_time": "2022-07-07T18:48:14.045Z"
   },
   {
    "duration": 5,
    "start_time": "2022-07-07T18:48:14.054Z"
   },
   {
    "duration": 1846,
    "start_time": "2022-07-07T19:35:25.304Z"
   },
   {
    "duration": 131,
    "start_time": "2022-07-07T19:35:27.154Z"
   },
   {
    "duration": 31,
    "start_time": "2022-07-07T19:35:27.287Z"
   },
   {
    "duration": 25,
    "start_time": "2022-07-07T19:35:27.320Z"
   },
   {
    "duration": 13,
    "start_time": "2022-07-07T19:35:27.348Z"
   },
   {
    "duration": 47,
    "start_time": "2022-07-07T19:35:27.363Z"
   },
   {
    "duration": 15,
    "start_time": "2022-07-07T19:35:27.412Z"
   },
   {
    "duration": 8,
    "start_time": "2022-07-07T19:35:27.432Z"
   },
   {
    "duration": 17,
    "start_time": "2022-07-07T19:35:27.442Z"
   },
   {
    "duration": 57,
    "start_time": "2022-07-07T19:35:27.463Z"
   },
   {
    "duration": 9,
    "start_time": "2022-07-07T19:35:27.523Z"
   },
   {
    "duration": 20,
    "start_time": "2022-07-07T19:35:27.534Z"
   },
   {
    "duration": 26,
    "start_time": "2022-07-07T19:35:27.556Z"
   },
   {
    "duration": 45,
    "start_time": "2022-07-07T19:35:27.587Z"
   },
   {
    "duration": 32,
    "start_time": "2022-07-07T19:35:27.636Z"
   },
   {
    "duration": 564,
    "start_time": "2022-07-07T19:35:27.671Z"
   },
   {
    "duration": 5,
    "start_time": "2022-07-07T19:35:28.237Z"
   },
   {
    "duration": 63,
    "start_time": "2022-07-07T19:35:28.243Z"
   },
   {
    "duration": 277,
    "start_time": "2022-07-07T19:35:28.309Z"
   },
   {
    "duration": 577,
    "start_time": "2022-07-07T19:35:28.593Z"
   },
   {
    "duration": 7,
    "start_time": "2022-07-07T19:35:29.184Z"
   },
   {
    "duration": 2094,
    "start_time": "2022-07-07T19:35:29.194Z"
   },
   {
    "duration": 35,
    "start_time": "2022-07-07T19:35:31.291Z"
   },
   {
    "duration": 12,
    "start_time": "2022-07-07T19:35:31.329Z"
   },
   {
    "duration": 27,
    "start_time": "2022-07-07T19:35:31.343Z"
   },
   {
    "duration": 60,
    "start_time": "2022-07-07T19:35:31.372Z"
   },
   {
    "duration": 499,
    "start_time": "2022-07-07T19:35:31.434Z"
   },
   {
    "duration": 9,
    "start_time": "2022-07-07T19:35:31.935Z"
   },
   {
    "duration": 275,
    "start_time": "2022-07-07T19:35:31.946Z"
   },
   {
    "duration": 10,
    "start_time": "2022-07-07T19:35:32.223Z"
   },
   {
    "duration": 255,
    "start_time": "2022-07-07T19:35:32.235Z"
   },
   {
    "duration": 11,
    "start_time": "2022-07-07T19:35:32.492Z"
   },
   {
    "duration": 2618,
    "start_time": "2022-07-07T19:35:32.506Z"
   },
   {
    "duration": 16,
    "start_time": "2022-07-07T19:35:35.126Z"
   },
   {
    "duration": 356,
    "start_time": "2022-07-07T19:35:35.163Z"
   },
   {
    "duration": 8,
    "start_time": "2022-07-07T19:35:35.522Z"
   },
   {
    "duration": 8,
    "start_time": "2022-07-07T19:35:35.532Z"
   },
   {
    "duration": 908,
    "start_time": "2022-07-07T19:35:35.543Z"
   },
   {
    "duration": 670,
    "start_time": "2022-07-07T19:35:36.454Z"
   },
   {
    "duration": 561,
    "start_time": "2022-07-07T19:35:37.126Z"
   },
   {
    "duration": 498,
    "start_time": "2022-07-07T19:35:37.692Z"
   },
   {
    "duration": 556,
    "start_time": "2022-07-07T19:35:38.191Z"
   },
   {
    "duration": 634,
    "start_time": "2022-07-07T19:35:38.756Z"
   },
   {
    "duration": 21,
    "start_time": "2022-07-07T19:35:39.394Z"
   },
   {
    "duration": 21,
    "start_time": "2022-07-07T19:35:39.417Z"
   },
   {
    "duration": 52,
    "start_time": "2022-07-07T19:35:39.440Z"
   },
   {
    "duration": 21,
    "start_time": "2022-07-07T19:35:39.495Z"
   },
   {
    "duration": 18,
    "start_time": "2022-07-07T19:35:39.518Z"
   },
   {
    "duration": 53,
    "start_time": "2022-07-07T19:35:39.538Z"
   },
   {
    "duration": 22,
    "start_time": "2022-07-07T19:35:39.593Z"
   },
   {
    "duration": 18,
    "start_time": "2022-07-07T19:35:39.617Z"
   },
   {
    "duration": 15,
    "start_time": "2022-07-07T19:35:39.637Z"
   },
   {
    "duration": 40,
    "start_time": "2022-07-07T19:35:39.660Z"
   },
   {
    "duration": 5,
    "start_time": "2022-07-07T19:35:39.702Z"
   },
   {
    "duration": 12,
    "start_time": "2022-07-07T19:35:39.709Z"
   },
   {
    "duration": 18,
    "start_time": "2022-07-07T19:35:39.723Z"
   },
   {
    "duration": 57,
    "start_time": "2022-07-07T19:35:39.743Z"
   },
   {
    "duration": 15,
    "start_time": "2022-07-07T19:35:39.803Z"
   },
   {
    "duration": 20,
    "start_time": "2022-07-07T19:35:39.820Z"
   },
   {
    "duration": 13,
    "start_time": "2022-07-07T19:35:39.842Z"
   },
   {
    "duration": 45,
    "start_time": "2022-07-07T19:35:39.857Z"
   },
   {
    "duration": 20,
    "start_time": "2022-07-07T19:35:39.904Z"
   },
   {
    "duration": 13,
    "start_time": "2022-07-07T19:35:39.926Z"
   },
   {
    "duration": 1408,
    "start_time": "2022-07-08T10:06:13.188Z"
   },
   {
    "duration": 206,
    "start_time": "2022-07-08T10:06:14.598Z"
   },
   {
    "duration": 21,
    "start_time": "2022-07-08T10:06:14.806Z"
   },
   {
    "duration": 13,
    "start_time": "2022-07-08T10:06:14.829Z"
   },
   {
    "duration": 7,
    "start_time": "2022-07-08T10:06:14.843Z"
   },
   {
    "duration": 9,
    "start_time": "2022-07-08T10:06:14.851Z"
   },
   {
    "duration": 8,
    "start_time": "2022-07-08T10:06:14.862Z"
   },
   {
    "duration": 7,
    "start_time": "2022-07-08T10:06:14.871Z"
   },
   {
    "duration": 36,
    "start_time": "2022-07-08T10:06:14.879Z"
   },
   {
    "duration": 22,
    "start_time": "2022-07-08T10:06:14.919Z"
   },
   {
    "duration": 5,
    "start_time": "2022-07-08T10:06:14.943Z"
   },
   {
    "duration": 13,
    "start_time": "2022-07-08T10:06:14.949Z"
   },
   {
    "duration": 7,
    "start_time": "2022-07-08T10:06:14.963Z"
   },
   {
    "duration": 44,
    "start_time": "2022-07-08T10:06:14.972Z"
   },
   {
    "duration": 21,
    "start_time": "2022-07-08T10:06:15.017Z"
   },
   {
    "duration": 377,
    "start_time": "2022-07-08T10:06:15.040Z"
   },
   {
    "duration": 6,
    "start_time": "2022-07-08T10:06:15.419Z"
   },
   {
    "duration": 17,
    "start_time": "2022-07-08T10:06:15.427Z"
   },
   {
    "duration": 229,
    "start_time": "2022-07-08T10:06:15.445Z"
   },
   {
    "duration": 353,
    "start_time": "2022-07-08T10:06:15.676Z"
   },
   {
    "duration": 5,
    "start_time": "2022-07-08T10:06:16.031Z"
   },
   {
    "duration": 1320,
    "start_time": "2022-07-08T10:06:16.038Z"
   },
   {
    "duration": 22,
    "start_time": "2022-07-08T10:06:17.360Z"
   },
   {
    "duration": 22,
    "start_time": "2022-07-08T10:06:17.384Z"
   },
   {
    "duration": 8,
    "start_time": "2022-07-08T10:06:17.408Z"
   },
   {
    "duration": 26,
    "start_time": "2022-07-08T10:06:17.417Z"
   },
   {
    "duration": 319,
    "start_time": "2022-07-08T10:06:17.444Z"
   },
   {
    "duration": 38,
    "start_time": "2022-07-08T10:06:17.767Z"
   },
   {
    "duration": 346,
    "start_time": "2022-07-08T10:06:17.807Z"
   },
   {
    "duration": 7,
    "start_time": "2022-07-08T10:06:18.204Z"
   },
   {
    "duration": 402,
    "start_time": "2022-07-08T10:06:18.212Z"
   },
   {
    "duration": 10,
    "start_time": "2022-07-08T10:06:18.616Z"
   },
   {
    "duration": 2566,
    "start_time": "2022-07-08T10:06:18.628Z"
   },
   {
    "duration": 20,
    "start_time": "2022-07-08T10:06:21.196Z"
   },
   {
    "duration": 228,
    "start_time": "2022-07-08T10:06:21.218Z"
   },
   {
    "duration": 7,
    "start_time": "2022-07-08T10:06:21.447Z"
   },
   {
    "duration": 15,
    "start_time": "2022-07-08T10:06:21.455Z"
   },
   {
    "duration": 533,
    "start_time": "2022-07-08T10:06:21.472Z"
   },
   {
    "duration": 480,
    "start_time": "2022-07-08T10:06:22.007Z"
   },
   {
    "duration": 416,
    "start_time": "2022-07-08T10:06:22.488Z"
   },
   {
    "duration": 434,
    "start_time": "2022-07-08T10:06:22.905Z"
   },
   {
    "duration": 437,
    "start_time": "2022-07-08T10:06:23.341Z"
   },
   {
    "duration": 550,
    "start_time": "2022-07-08T10:06:23.780Z"
   },
   {
    "duration": 18,
    "start_time": "2022-07-08T10:06:24.332Z"
   },
   {
    "duration": 16,
    "start_time": "2022-07-08T10:06:24.351Z"
   },
   {
    "duration": 36,
    "start_time": "2022-07-08T10:06:24.369Z"
   },
   {
    "duration": 22,
    "start_time": "2022-07-08T10:06:24.407Z"
   },
   {
    "duration": 15,
    "start_time": "2022-07-08T10:06:24.431Z"
   },
   {
    "duration": 16,
    "start_time": "2022-07-08T10:06:24.448Z"
   },
   {
    "duration": 40,
    "start_time": "2022-07-08T10:06:24.465Z"
   },
   {
    "duration": 17,
    "start_time": "2022-07-08T10:06:24.507Z"
   },
   {
    "duration": 40,
    "start_time": "2022-07-08T10:06:24.526Z"
   },
   {
    "duration": 45,
    "start_time": "2022-07-08T10:06:24.567Z"
   },
   {
    "duration": 25,
    "start_time": "2022-07-08T10:06:24.614Z"
   },
   {
    "duration": 21,
    "start_time": "2022-07-08T10:06:24.640Z"
   },
   {
    "duration": 14,
    "start_time": "2022-07-08T10:06:24.663Z"
   },
   {
    "duration": 18,
    "start_time": "2022-07-08T10:06:24.679Z"
   },
   {
    "duration": 39,
    "start_time": "2022-07-08T10:06:24.698Z"
   },
   {
    "duration": 19,
    "start_time": "2022-07-08T10:06:24.738Z"
   },
   {
    "duration": 6,
    "start_time": "2022-07-08T10:06:24.759Z"
   },
   {
    "duration": 13,
    "start_time": "2022-07-08T10:06:24.767Z"
   },
   {
    "duration": 18,
    "start_time": "2022-07-08T10:06:24.782Z"
   },
   {
    "duration": 21,
    "start_time": "2022-07-08T10:06:24.801Z"
   },
   {
    "duration": 1306,
    "start_time": "2022-07-19T13:12:40.564Z"
   },
   {
    "duration": 93,
    "start_time": "2022-07-19T13:13:06.411Z"
   },
   {
    "duration": 22,
    "start_time": "2022-07-19T13:13:51.370Z"
   },
   {
    "duration": 14,
    "start_time": "2022-07-19T13:14:01.947Z"
   },
   {
    "duration": 4,
    "start_time": "2022-07-19T13:29:35.389Z"
   },
   {
    "duration": 14,
    "start_time": "2022-07-19T13:29:53.742Z"
   },
   {
    "duration": 6,
    "start_time": "2022-07-19T13:33:04.062Z"
   },
   {
    "duration": 120,
    "start_time": "2022-07-19T13:34:25.380Z"
   },
   {
    "duration": 9,
    "start_time": "2022-07-19T13:36:03.284Z"
   },
   {
    "duration": 12,
    "start_time": "2022-07-19T13:36:10.940Z"
   },
   {
    "duration": 11,
    "start_time": "2022-07-19T13:36:17.140Z"
   },
   {
    "duration": 7,
    "start_time": "2022-07-19T13:36:44.412Z"
   },
   {
    "duration": 16,
    "start_time": "2022-07-19T13:39:22.299Z"
   },
   {
    "duration": 5,
    "start_time": "2022-07-19T13:40:30.893Z"
   },
   {
    "duration": 4,
    "start_time": "2022-07-19T13:45:13.773Z"
   },
   {
    "duration": 4,
    "start_time": "2022-07-19T13:49:30.373Z"
   },
   {
    "duration": 7,
    "start_time": "2022-07-19T13:57:15.286Z"
   },
   {
    "duration": 4,
    "start_time": "2022-07-19T13:57:25.742Z"
   },
   {
    "duration": 30,
    "start_time": "2022-07-19T13:59:51.614Z"
   },
   {
    "duration": 26,
    "start_time": "2022-07-19T14:01:07.056Z"
   },
   {
    "duration": 27,
    "start_time": "2022-07-19T14:01:19.214Z"
   },
   {
    "duration": 9,
    "start_time": "2022-07-19T14:02:33.503Z"
   },
   {
    "duration": 28,
    "start_time": "2022-07-19T14:02:40.382Z"
   },
   {
    "duration": 16,
    "start_time": "2022-07-19T14:03:45.743Z"
   },
   {
    "duration": 333,
    "start_time": "2022-07-19T14:05:53.655Z"
   },
   {
    "duration": 5,
    "start_time": "2022-07-19T14:06:22.799Z"
   },
   {
    "duration": 8,
    "start_time": "2022-07-19T14:07:18.936Z"
   },
   {
    "duration": 8,
    "start_time": "2022-07-19T14:13:07.688Z"
   },
   {
    "duration": 13,
    "start_time": "2022-07-19T14:13:25.663Z"
   },
   {
    "duration": 12,
    "start_time": "2022-07-19T14:13:30.632Z"
   },
   {
    "duration": 17,
    "start_time": "2022-07-19T14:14:19.120Z"
   },
   {
    "duration": 11,
    "start_time": "2022-07-19T14:14:25.481Z"
   },
   {
    "duration": 4,
    "start_time": "2022-07-19T14:16:45.105Z"
   },
   {
    "duration": 11,
    "start_time": "2022-07-19T14:19:44.265Z"
   },
   {
    "duration": 6,
    "start_time": "2022-07-19T14:21:09.225Z"
   },
   {
    "duration": 24,
    "start_time": "2022-07-19T14:21:46.528Z"
   },
   {
    "duration": 10,
    "start_time": "2022-07-19T14:21:52.145Z"
   },
   {
    "duration": 15,
    "start_time": "2022-07-19T14:21:56.780Z"
   },
   {
    "duration": 1546,
    "start_time": "2022-07-20T14:37:14.692Z"
   },
   {
    "duration": 9,
    "start_time": "2022-07-20T14:37:27.087Z"
   },
   {
    "duration": 131,
    "start_time": "2022-07-20T14:37:27.102Z"
   },
   {
    "duration": 21,
    "start_time": "2022-07-20T14:37:27.235Z"
   },
   {
    "duration": 24,
    "start_time": "2022-07-20T14:37:27.258Z"
   },
   {
    "duration": 29,
    "start_time": "2022-07-20T14:37:27.290Z"
   },
   {
    "duration": 7,
    "start_time": "2022-07-20T14:37:27.321Z"
   },
   {
    "duration": 8,
    "start_time": "2022-07-20T14:37:27.329Z"
   },
   {
    "duration": 19,
    "start_time": "2022-07-20T14:37:27.339Z"
   },
   {
    "duration": 39,
    "start_time": "2022-07-20T14:37:27.360Z"
   },
   {
    "duration": 20,
    "start_time": "2022-07-20T14:37:27.401Z"
   },
   {
    "duration": 30,
    "start_time": "2022-07-20T14:37:27.423Z"
   },
   {
    "duration": 27,
    "start_time": "2022-07-20T14:37:27.455Z"
   },
   {
    "duration": 439,
    "start_time": "2022-07-20T14:37:27.486Z"
   },
   {
    "duration": 5,
    "start_time": "2022-07-20T14:37:27.927Z"
   },
   {
    "duration": 14,
    "start_time": "2022-07-20T14:37:27.934Z"
   },
   {
    "duration": 27,
    "start_time": "2022-07-20T14:37:27.949Z"
   },
   {
    "duration": 35,
    "start_time": "2022-07-20T14:37:27.980Z"
   },
   {
    "duration": 8,
    "start_time": "2022-07-20T14:37:28.017Z"
   },
   {
    "duration": 11,
    "start_time": "2022-07-20T14:37:28.027Z"
   },
   {
    "duration": 13,
    "start_time": "2022-07-20T14:37:28.040Z"
   },
   {
    "duration": 48,
    "start_time": "2022-07-20T14:37:28.055Z"
   },
   {
    "duration": 16,
    "start_time": "2022-07-20T14:37:28.105Z"
   },
   {
    "duration": 317,
    "start_time": "2022-07-20T14:40:41.289Z"
   },
   {
    "duration": 155,
    "start_time": "2022-07-20T14:45:44.705Z"
   },
   {
    "duration": 503,
    "start_time": "2022-07-20T14:46:18.987Z"
   },
   {
    "duration": 497,
    "start_time": "2022-07-20T14:47:04.319Z"
   },
   {
    "duration": 579,
    "start_time": "2022-07-20T14:47:22.725Z"
   },
   {
    "duration": 604,
    "start_time": "2022-07-20T14:47:28.979Z"
   },
   {
    "duration": 524,
    "start_time": "2022-07-20T14:47:37.619Z"
   },
   {
    "duration": 578,
    "start_time": "2022-07-20T14:49:28.398Z"
   },
   {
    "duration": 666,
    "start_time": "2022-07-20T14:49:39.554Z"
   },
   {
    "duration": 503,
    "start_time": "2022-07-20T14:52:33.504Z"
   },
   {
    "duration": 732,
    "start_time": "2022-07-20T14:57:41.203Z"
   },
   {
    "duration": 18,
    "start_time": "2022-07-20T14:57:47.629Z"
   },
   {
    "duration": 1715,
    "start_time": "2022-07-20T14:58:41.396Z"
   },
   {
    "duration": 1359,
    "start_time": "2022-07-20T14:59:01.290Z"
   },
   {
    "duration": 23,
    "start_time": "2022-07-20T15:01:05.857Z"
   },
   {
    "duration": 37,
    "start_time": "2022-07-20T15:01:54.307Z"
   },
   {
    "duration": 17,
    "start_time": "2022-07-20T15:02:25.350Z"
   },
   {
    "duration": 584,
    "start_time": "2022-07-20T15:02:29.429Z"
   },
   {
    "duration": 557,
    "start_time": "2022-07-20T15:02:54.959Z"
   },
   {
    "duration": 44,
    "start_time": "2022-07-20T15:20:38.998Z"
   },
   {
    "duration": 45,
    "start_time": "2022-07-20T15:21:20.759Z"
   },
   {
    "duration": 2046,
    "start_time": "2022-07-20T15:22:17.765Z"
   },
   {
    "duration": 1686,
    "start_time": "2022-07-20T15:22:49.406Z"
   },
   {
    "duration": 1837,
    "start_time": "2022-07-20T15:24:56.892Z"
   },
   {
    "duration": 2032,
    "start_time": "2022-07-20T15:25:26.021Z"
   },
   {
    "duration": 36,
    "start_time": "2022-07-20T15:28:02.557Z"
   },
   {
    "duration": 9,
    "start_time": "2022-07-20T15:29:08.296Z"
   },
   {
    "duration": 2075,
    "start_time": "2022-07-20T15:29:33.725Z"
   },
   {
    "duration": 1909,
    "start_time": "2022-07-20T15:32:09.380Z"
   },
   {
    "duration": 2323,
    "start_time": "2022-07-20T15:35:22.696Z"
   },
   {
    "duration": 84,
    "start_time": "2022-07-20T15:40:11.796Z"
   },
   {
    "duration": 8,
    "start_time": "2022-07-20T15:44:47.108Z"
   },
   {
    "duration": 37,
    "start_time": "2022-07-20T15:45:17.863Z"
   },
   {
    "duration": 140,
    "start_time": "2022-07-20T15:49:29.786Z"
   },
   {
    "duration": 115,
    "start_time": "2022-07-20T15:49:44.879Z"
   },
   {
    "duration": 96,
    "start_time": "2022-07-20T15:50:07.393Z"
   },
   {
    "duration": 76,
    "start_time": "2022-07-20T15:50:14.854Z"
   },
   {
    "duration": 98,
    "start_time": "2022-07-20T15:51:49.988Z"
   },
   {
    "duration": 83,
    "start_time": "2022-07-20T15:52:12.555Z"
   },
   {
    "duration": 66,
    "start_time": "2022-07-20T15:52:17.685Z"
   },
   {
    "duration": 170,
    "start_time": "2022-07-20T15:52:30.658Z"
   },
   {
    "duration": 103,
    "start_time": "2022-07-20T15:56:22.190Z"
   },
   {
    "duration": 143,
    "start_time": "2022-07-20T15:56:39.304Z"
   },
   {
    "duration": 122,
    "start_time": "2022-07-20T15:56:46.553Z"
   },
   {
    "duration": 96,
    "start_time": "2022-07-20T15:56:59.557Z"
   },
   {
    "duration": 152,
    "start_time": "2022-07-20T15:57:22.749Z"
   },
   {
    "duration": 27,
    "start_time": "2022-07-20T16:00:12.455Z"
   },
   {
    "duration": 20,
    "start_time": "2022-07-20T16:00:36.781Z"
   },
   {
    "duration": 27,
    "start_time": "2022-07-20T16:01:56.868Z"
   },
   {
    "duration": 49,
    "start_time": "2022-07-20T16:02:30.508Z"
   },
   {
    "duration": 16,
    "start_time": "2022-07-20T16:02:54.059Z"
   },
   {
    "duration": 20,
    "start_time": "2022-07-20T16:02:58.313Z"
   },
   {
    "duration": 38,
    "start_time": "2022-07-20T16:08:02.586Z"
   },
   {
    "duration": 33,
    "start_time": "2022-07-20T16:08:26.571Z"
   },
   {
    "duration": 30,
    "start_time": "2022-07-20T16:08:34.211Z"
   },
   {
    "duration": 42,
    "start_time": "2022-07-20T16:08:52.251Z"
   },
   {
    "duration": 34,
    "start_time": "2022-07-20T16:08:57.389Z"
   },
   {
    "duration": 40,
    "start_time": "2022-07-20T16:09:04.562Z"
   },
   {
    "duration": 41,
    "start_time": "2022-07-20T16:09:46.964Z"
   },
   {
    "duration": 25,
    "start_time": "2022-07-20T16:10:11.091Z"
   },
   {
    "duration": 36,
    "start_time": "2022-07-20T16:10:16.349Z"
   },
   {
    "duration": 19,
    "start_time": "2022-07-20T16:10:52.820Z"
   },
   {
    "duration": 41,
    "start_time": "2022-07-20T16:11:05.664Z"
   },
   {
    "duration": 64,
    "start_time": "2022-07-20T16:11:19.650Z"
   },
   {
    "duration": 31,
    "start_time": "2022-07-20T16:11:27.214Z"
   },
   {
    "duration": 14,
    "start_time": "2022-07-20T16:11:37.810Z"
   },
   {
    "duration": 14,
    "start_time": "2022-07-20T16:11:41.307Z"
   },
   {
    "duration": 25,
    "start_time": "2022-07-20T16:11:51.298Z"
   },
   {
    "duration": 29,
    "start_time": "2022-07-20T16:12:10.928Z"
   },
   {
    "duration": 25,
    "start_time": "2022-07-20T16:12:31.996Z"
   },
   {
    "duration": 31,
    "start_time": "2022-07-20T16:12:45.384Z"
   },
   {
    "duration": 14,
    "start_time": "2022-07-20T16:13:12.848Z"
   },
   {
    "duration": 20,
    "start_time": "2022-07-20T16:13:26.650Z"
   },
   {
    "duration": 18,
    "start_time": "2022-07-20T16:13:33.587Z"
   },
   {
    "duration": 33,
    "start_time": "2022-07-20T16:14:36.708Z"
   },
   {
    "duration": 35,
    "start_time": "2022-07-20T16:16:41.989Z"
   },
   {
    "duration": 7,
    "start_time": "2022-07-20T16:18:33.193Z"
   },
   {
    "duration": 24,
    "start_time": "2022-07-20T16:18:57.082Z"
   },
   {
    "duration": 29,
    "start_time": "2022-07-20T16:21:38.897Z"
   },
   {
    "duration": 31,
    "start_time": "2022-07-20T16:22:47.185Z"
   },
   {
    "duration": 15,
    "start_time": "2022-07-20T16:23:03.011Z"
   },
   {
    "duration": 3,
    "start_time": "2022-07-20T16:23:31.856Z"
   },
   {
    "duration": 82,
    "start_time": "2022-07-20T16:23:31.860Z"
   },
   {
    "duration": 15,
    "start_time": "2022-07-20T16:23:31.944Z"
   },
   {
    "duration": 42,
    "start_time": "2022-07-20T16:23:31.960Z"
   },
   {
    "duration": 6,
    "start_time": "2022-07-20T16:23:32.004Z"
   },
   {
    "duration": 9,
    "start_time": "2022-07-20T16:23:32.012Z"
   },
   {
    "duration": 8,
    "start_time": "2022-07-20T16:23:32.022Z"
   },
   {
    "duration": 17,
    "start_time": "2022-07-20T16:23:32.031Z"
   },
   {
    "duration": 7,
    "start_time": "2022-07-20T16:23:32.050Z"
   },
   {
    "duration": 16,
    "start_time": "2022-07-20T16:23:32.058Z"
   },
   {
    "duration": 48,
    "start_time": "2022-07-20T16:23:32.075Z"
   },
   {
    "duration": 15,
    "start_time": "2022-07-20T16:23:32.125Z"
   },
   {
    "duration": 414,
    "start_time": "2022-07-20T16:23:32.141Z"
   },
   {
    "duration": 8,
    "start_time": "2022-07-20T16:23:32.558Z"
   },
   {
    "duration": 42,
    "start_time": "2022-07-20T16:23:32.568Z"
   },
   {
    "duration": 34,
    "start_time": "2022-07-20T16:23:32.612Z"
   },
   {
    "duration": 12,
    "start_time": "2022-07-20T16:23:32.650Z"
   },
   {
    "duration": 36,
    "start_time": "2022-07-20T16:23:32.671Z"
   },
   {
    "duration": 22,
    "start_time": "2022-07-20T16:23:32.709Z"
   },
   {
    "duration": 31,
    "start_time": "2022-07-20T16:23:32.733Z"
   },
   {
    "duration": 57,
    "start_time": "2022-07-20T16:23:32.766Z"
   },
   {
    "duration": 25,
    "start_time": "2022-07-20T16:23:32.825Z"
   },
   {
    "duration": 463,
    "start_time": "2022-07-20T16:23:32.853Z"
   },
   {
    "duration": 11,
    "start_time": "2022-07-20T16:23:33.319Z"
   },
   {
    "duration": 436,
    "start_time": "2022-07-20T16:23:33.332Z"
   },
   {
    "duration": 1641,
    "start_time": "2022-07-20T16:23:33.774Z"
   },
   {
    "duration": 142,
    "start_time": "2022-07-20T16:23:35.417Z"
   },
   {
    "duration": 18,
    "start_time": "2022-07-20T16:23:46.155Z"
   },
   {
    "duration": 15,
    "start_time": "2022-07-20T16:24:14.195Z"
   },
   {
    "duration": 17,
    "start_time": "2022-07-20T16:24:34.483Z"
   },
   {
    "duration": 3,
    "start_time": "2022-07-20T16:24:46.092Z"
   },
   {
    "duration": 52,
    "start_time": "2022-07-20T16:24:46.097Z"
   },
   {
    "duration": 21,
    "start_time": "2022-07-20T16:24:46.150Z"
   },
   {
    "duration": 42,
    "start_time": "2022-07-20T16:24:46.172Z"
   },
   {
    "duration": 2,
    "start_time": "2022-07-20T16:24:46.217Z"
   },
   {
    "duration": 8,
    "start_time": "2022-07-20T16:24:46.221Z"
   },
   {
    "duration": 11,
    "start_time": "2022-07-20T16:24:46.230Z"
   },
   {
    "duration": 17,
    "start_time": "2022-07-20T16:24:46.243Z"
   },
   {
    "duration": 33,
    "start_time": "2022-07-20T16:24:46.262Z"
   },
   {
    "duration": 7,
    "start_time": "2022-07-20T16:24:46.297Z"
   },
   {
    "duration": 23,
    "start_time": "2022-07-20T16:24:46.306Z"
   },
   {
    "duration": 15,
    "start_time": "2022-07-20T16:24:46.332Z"
   },
   {
    "duration": 408,
    "start_time": "2022-07-20T16:24:46.350Z"
   },
   {
    "duration": 21,
    "start_time": "2022-07-20T16:24:46.760Z"
   },
   {
    "duration": 18,
    "start_time": "2022-07-20T16:24:46.789Z"
   },
   {
    "duration": 10,
    "start_time": "2022-07-20T16:24:46.808Z"
   },
   {
    "duration": 9,
    "start_time": "2022-07-20T16:24:46.820Z"
   },
   {
    "duration": 4,
    "start_time": "2022-07-20T16:24:46.832Z"
   },
   {
    "duration": 12,
    "start_time": "2022-07-20T16:24:46.838Z"
   },
   {
    "duration": 4,
    "start_time": "2022-07-20T16:24:46.852Z"
   },
   {
    "duration": 36,
    "start_time": "2022-07-20T16:24:46.858Z"
   },
   {
    "duration": 15,
    "start_time": "2022-07-20T16:24:46.899Z"
   },
   {
    "duration": 461,
    "start_time": "2022-07-20T16:24:46.916Z"
   },
   {
    "duration": 21,
    "start_time": "2022-07-20T16:24:47.379Z"
   },
   {
    "duration": 418,
    "start_time": "2022-07-20T16:24:47.402Z"
   },
   {
    "duration": 1489,
    "start_time": "2022-07-20T16:24:47.822Z"
   },
   {
    "duration": 35,
    "start_time": "2022-07-20T16:24:57.459Z"
   },
   {
    "duration": 13,
    "start_time": "2022-07-20T16:27:15.889Z"
   },
   {
    "duration": 4,
    "start_time": "2022-07-20T16:27:48.493Z"
   },
   {
    "duration": 75,
    "start_time": "2022-07-20T16:27:48.500Z"
   },
   {
    "duration": 20,
    "start_time": "2022-07-20T16:27:48.577Z"
   },
   {
    "duration": 27,
    "start_time": "2022-07-20T16:27:48.599Z"
   },
   {
    "duration": 4,
    "start_time": "2022-07-20T16:27:48.629Z"
   },
   {
    "duration": 9,
    "start_time": "2022-07-20T16:27:48.635Z"
   },
   {
    "duration": 9,
    "start_time": "2022-07-20T16:27:48.646Z"
   },
   {
    "duration": 34,
    "start_time": "2022-07-20T16:27:48.657Z"
   },
   {
    "duration": 15,
    "start_time": "2022-07-20T16:27:48.695Z"
   },
   {
    "duration": 10,
    "start_time": "2022-07-20T16:27:48.712Z"
   },
   {
    "duration": 23,
    "start_time": "2022-07-20T16:27:48.724Z"
   },
   {
    "duration": 25,
    "start_time": "2022-07-20T16:27:48.749Z"
   },
   {
    "duration": 437,
    "start_time": "2022-07-20T16:27:48.776Z"
   },
   {
    "duration": 5,
    "start_time": "2022-07-20T16:27:49.216Z"
   },
   {
    "duration": 9,
    "start_time": "2022-07-20T16:27:49.223Z"
   },
   {
    "duration": 10,
    "start_time": "2022-07-20T16:27:49.234Z"
   },
   {
    "duration": 31,
    "start_time": "2022-07-20T16:27:49.246Z"
   },
   {
    "duration": 24,
    "start_time": "2022-07-20T16:27:49.278Z"
   },
   {
    "duration": 15,
    "start_time": "2022-07-20T16:27:49.305Z"
   },
   {
    "duration": 6,
    "start_time": "2022-07-20T16:27:49.322Z"
   },
   {
    "duration": 25,
    "start_time": "2022-07-20T16:27:49.330Z"
   },
   {
    "duration": 32,
    "start_time": "2022-07-20T16:27:49.357Z"
   },
   {
    "duration": 503,
    "start_time": "2022-07-20T16:27:49.391Z"
   },
   {
    "duration": 19,
    "start_time": "2022-07-20T16:27:49.896Z"
   },
   {
    "duration": 453,
    "start_time": "2022-07-20T16:27:49.917Z"
   },
   {
    "duration": 1809,
    "start_time": "2022-07-20T16:27:50.377Z"
   },
   {
    "duration": 17,
    "start_time": "2022-07-20T16:27:52.188Z"
   },
   {
    "duration": 15,
    "start_time": "2022-07-20T16:28:05.593Z"
   },
   {
    "duration": 30,
    "start_time": "2022-07-20T16:28:31.651Z"
   },
   {
    "duration": 22,
    "start_time": "2022-07-20T16:29:18.418Z"
   },
   {
    "duration": 23,
    "start_time": "2022-07-20T16:29:32.705Z"
   },
   {
    "duration": 30,
    "start_time": "2022-07-20T16:29:57.652Z"
   },
   {
    "duration": 25,
    "start_time": "2022-07-20T16:30:05.913Z"
   },
   {
    "duration": 23,
    "start_time": "2022-07-20T16:30:28.420Z"
   },
   {
    "duration": 200,
    "start_time": "2022-07-20T16:30:39.602Z"
   },
   {
    "duration": 20,
    "start_time": "2022-07-20T16:32:26.835Z"
   },
   {
    "duration": 20,
    "start_time": "2022-07-20T16:32:41.697Z"
   },
   {
    "duration": 12,
    "start_time": "2022-07-20T16:33:53.220Z"
   },
   {
    "duration": 16,
    "start_time": "2022-07-20T16:34:06.079Z"
   },
   {
    "duration": 21,
    "start_time": "2022-07-20T16:35:33.893Z"
   },
   {
    "duration": 8,
    "start_time": "2022-07-20T16:35:48.749Z"
   },
   {
    "duration": 6,
    "start_time": "2022-07-20T16:36:51.789Z"
   },
   {
    "duration": 15,
    "start_time": "2022-07-20T16:36:58.363Z"
   },
   {
    "duration": 6,
    "start_time": "2022-07-20T16:37:54.548Z"
   },
   {
    "duration": 1523,
    "start_time": "2022-07-20T16:39:30.908Z"
   },
   {
    "duration": 1663,
    "start_time": "2022-07-22T10:05:28.409Z"
   },
   {
    "duration": 131,
    "start_time": "2022-07-22T10:05:30.074Z"
   },
   {
    "duration": 30,
    "start_time": "2022-07-22T10:05:30.207Z"
   },
   {
    "duration": 33,
    "start_time": "2022-07-22T10:05:30.241Z"
   },
   {
    "duration": 7,
    "start_time": "2022-07-22T10:05:30.277Z"
   },
   {
    "duration": 14,
    "start_time": "2022-07-22T10:05:30.286Z"
   },
   {
    "duration": 23,
    "start_time": "2022-07-22T10:05:30.302Z"
   },
   {
    "duration": 46,
    "start_time": "2022-07-22T10:05:30.328Z"
   },
   {
    "duration": 10,
    "start_time": "2022-07-22T10:05:30.377Z"
   },
   {
    "duration": 16,
    "start_time": "2022-07-22T10:05:30.389Z"
   },
   {
    "duration": 54,
    "start_time": "2022-07-22T10:05:30.406Z"
   },
   {
    "duration": 19,
    "start_time": "2022-07-22T10:05:30.462Z"
   },
   {
    "duration": 435,
    "start_time": "2022-07-22T10:05:30.483Z"
   },
   {
    "duration": 6,
    "start_time": "2022-07-22T10:05:30.930Z"
   },
   {
    "duration": 51,
    "start_time": "2022-07-22T10:05:30.939Z"
   },
   {
    "duration": 66,
    "start_time": "2022-07-22T10:05:30.992Z"
   },
   {
    "duration": 121,
    "start_time": "2022-07-22T10:05:31.061Z"
   },
   {
    "duration": 29,
    "start_time": "2022-07-22T10:05:31.184Z"
   },
   {
    "duration": 213,
    "start_time": "2022-07-22T10:05:31.215Z"
   },
   {
    "duration": 52,
    "start_time": "2022-07-22T10:05:31.431Z"
   },
   {
    "duration": 46,
    "start_time": "2022-07-22T10:05:31.486Z"
   },
   {
    "duration": 51,
    "start_time": "2022-07-22T10:05:31.534Z"
   },
   {
    "duration": 601,
    "start_time": "2022-07-22T10:05:31.588Z"
   },
   {
    "duration": 25,
    "start_time": "2022-07-22T10:05:32.191Z"
   },
   {
    "duration": 440,
    "start_time": "2022-07-22T10:05:32.218Z"
   },
   {
    "duration": 4,
    "start_time": "2022-07-22T10:05:32.660Z"
   },
   {
    "duration": 1611,
    "start_time": "2022-07-22T10:05:32.666Z"
   },
   {
    "duration": 195,
    "start_time": "2022-07-22T10:05:34.279Z"
   },
   {
    "duration": 0,
    "start_time": "2022-07-22T10:05:34.476Z"
   },
   {
    "duration": 54,
    "start_time": "2022-07-22T10:06:14.372Z"
   },
   {
    "duration": 28,
    "start_time": "2022-07-22T10:06:32.798Z"
   },
   {
    "duration": 18,
    "start_time": "2022-07-22T10:06:39.253Z"
   },
   {
    "duration": 8,
    "start_time": "2022-07-22T10:06:40.939Z"
   },
   {
    "duration": 35,
    "start_time": "2022-07-22T10:14:58.643Z"
   },
   {
    "duration": 32,
    "start_time": "2022-07-22T10:20:36.193Z"
   },
   {
    "duration": 34,
    "start_time": "2022-07-22T10:20:47.807Z"
   },
   {
    "duration": 51,
    "start_time": "2022-07-22T11:05:05.235Z"
   },
   {
    "duration": 1397,
    "start_time": "2022-07-22T11:05:15.458Z"
   },
   {
    "duration": 168,
    "start_time": "2022-07-22T11:05:16.857Z"
   },
   {
    "duration": 23,
    "start_time": "2022-07-22T11:05:17.026Z"
   },
   {
    "duration": 17,
    "start_time": "2022-07-22T11:05:17.050Z"
   },
   {
    "duration": 5,
    "start_time": "2022-07-22T11:05:17.070Z"
   },
   {
    "duration": 7,
    "start_time": "2022-07-22T11:05:17.077Z"
   },
   {
    "duration": 28,
    "start_time": "2022-07-22T11:05:17.085Z"
   },
   {
    "duration": 21,
    "start_time": "2022-07-22T11:05:17.114Z"
   },
   {
    "duration": 13,
    "start_time": "2022-07-22T11:05:17.136Z"
   },
   {
    "duration": 6,
    "start_time": "2022-07-22T11:05:17.150Z"
   },
   {
    "duration": 25,
    "start_time": "2022-07-22T11:05:17.157Z"
   },
   {
    "duration": 25,
    "start_time": "2022-07-22T11:05:17.203Z"
   },
   {
    "duration": 354,
    "start_time": "2022-07-22T11:05:17.230Z"
   },
   {
    "duration": 5,
    "start_time": "2022-07-22T11:05:17.586Z"
   },
   {
    "duration": 19,
    "start_time": "2022-07-22T11:05:17.592Z"
   },
   {
    "duration": 10,
    "start_time": "2022-07-22T11:05:17.613Z"
   },
   {
    "duration": 9,
    "start_time": "2022-07-22T11:05:17.624Z"
   },
   {
    "duration": 3,
    "start_time": "2022-07-22T11:05:17.635Z"
   },
   {
    "duration": 7,
    "start_time": "2022-07-22T11:05:17.640Z"
   },
   {
    "duration": 7,
    "start_time": "2022-07-22T11:05:17.649Z"
   },
   {
    "duration": 46,
    "start_time": "2022-07-22T11:05:17.658Z"
   },
   {
    "duration": 12,
    "start_time": "2022-07-22T11:05:17.706Z"
   },
   {
    "duration": 387,
    "start_time": "2022-07-22T11:05:17.719Z"
   },
   {
    "duration": 12,
    "start_time": "2022-07-22T11:05:18.107Z"
   },
   {
    "duration": 353,
    "start_time": "2022-07-22T11:05:18.120Z"
   },
   {
    "duration": 3,
    "start_time": "2022-07-22T11:05:18.475Z"
   },
   {
    "duration": 1319,
    "start_time": "2022-07-22T11:05:18.479Z"
   },
   {
    "duration": 18,
    "start_time": "2022-07-22T11:05:19.804Z"
   },
   {
    "duration": 6,
    "start_time": "2022-07-22T11:05:19.823Z"
   },
   {
    "duration": 27,
    "start_time": "2022-07-22T11:05:19.831Z"
   },
   {
    "duration": 12,
    "start_time": "2022-07-22T11:05:24.643Z"
   },
   {
    "duration": 80,
    "start_time": "2022-07-22T11:07:49.946Z"
   },
   {
    "duration": 165,
    "start_time": "2022-07-22T11:08:05.654Z"
   },
   {
    "duration": 191,
    "start_time": "2022-07-22T11:08:27.650Z"
   },
   {
    "duration": 92,
    "start_time": "2022-07-22T11:08:32.538Z"
   },
   {
    "duration": 117,
    "start_time": "2022-07-22T11:08:43.338Z"
   },
   {
    "duration": 13,
    "start_time": "2022-07-22T11:09:05.450Z"
   },
   {
    "duration": 27,
    "start_time": "2022-07-22T11:09:18.391Z"
   },
   {
    "duration": 18,
    "start_time": "2022-07-22T12:39:42.851Z"
   },
   {
    "duration": 347,
    "start_time": "2022-07-22T13:06:09.745Z"
   },
   {
    "duration": 279,
    "start_time": "2022-07-22T13:07:08.237Z"
   },
   {
    "duration": 312,
    "start_time": "2022-07-22T13:07:19.746Z"
   },
   {
    "duration": 370,
    "start_time": "2022-07-22T13:07:25.562Z"
   },
   {
    "duration": 333,
    "start_time": "2022-07-22T13:07:33.080Z"
   },
   {
    "duration": 328,
    "start_time": "2022-07-22T13:07:41.673Z"
   },
   {
    "duration": 352,
    "start_time": "2022-07-22T13:07:45.311Z"
   },
   {
    "duration": 272,
    "start_time": "2022-07-22T13:08:01.954Z"
   },
   {
    "duration": 142,
    "start_time": "2022-07-22T13:20:18.468Z"
   },
   {
    "duration": 1076,
    "start_time": "2022-07-22T13:21:03.360Z"
   },
   {
    "duration": 1143,
    "start_time": "2022-07-22T13:21:12.991Z"
   },
   {
    "duration": 1066,
    "start_time": "2022-07-22T13:21:28.960Z"
   },
   {
    "duration": 1210,
    "start_time": "2022-07-22T13:21:39.418Z"
   },
   {
    "duration": 825,
    "start_time": "2022-07-22T13:21:59.686Z"
   },
   {
    "duration": 861,
    "start_time": "2022-07-22T13:22:12.663Z"
   },
   {
    "duration": 1117,
    "start_time": "2022-07-22T13:23:15.489Z"
   },
   {
    "duration": 917,
    "start_time": "2022-07-22T13:23:31.554Z"
   },
   {
    "duration": 61,
    "start_time": "2022-07-22T13:25:34.864Z"
   },
   {
    "duration": 29,
    "start_time": "2022-07-22T13:32:55.814Z"
   },
   {
    "duration": 12,
    "start_time": "2022-07-22T13:33:02.008Z"
   },
   {
    "duration": 24,
    "start_time": "2022-07-22T13:33:10.295Z"
   },
   {
    "duration": 28,
    "start_time": "2022-07-22T13:33:18.065Z"
   },
   {
    "duration": 13,
    "start_time": "2022-07-22T13:33:20.257Z"
   },
   {
    "duration": 20,
    "start_time": "2022-07-22T13:33:22.600Z"
   },
   {
    "duration": 1032,
    "start_time": "2022-07-22T13:33:26.591Z"
   },
   {
    "duration": 799,
    "start_time": "2022-07-22T13:41:49.658Z"
   },
   {
    "duration": 889,
    "start_time": "2022-07-22T13:41:59.907Z"
   },
   {
    "duration": 1038,
    "start_time": "2022-07-22T13:42:11.162Z"
   },
   {
    "duration": 961,
    "start_time": "2022-07-22T13:42:16.217Z"
   },
   {
    "duration": 919,
    "start_time": "2022-07-22T13:42:22.363Z"
   },
   {
    "duration": 780,
    "start_time": "2022-07-22T13:42:29.566Z"
   },
   {
    "duration": 872,
    "start_time": "2022-07-22T13:42:41.669Z"
   },
   {
    "duration": 183,
    "start_time": "2022-07-22T13:43:32.972Z"
   },
   {
    "duration": 163,
    "start_time": "2022-07-22T13:43:49.097Z"
   },
   {
    "duration": 404,
    "start_time": "2022-07-22T13:43:53.759Z"
   },
   {
    "duration": 16,
    "start_time": "2022-07-22T13:50:44.054Z"
   },
   {
    "duration": 13,
    "start_time": "2022-07-22T13:51:20.043Z"
   },
   {
    "duration": 33,
    "start_time": "2022-07-22T13:52:27.783Z"
   },
   {
    "duration": 3,
    "start_time": "2022-07-22T13:53:18.056Z"
   },
   {
    "duration": 48,
    "start_time": "2022-07-22T13:53:18.067Z"
   },
   {
    "duration": 19,
    "start_time": "2022-07-22T13:53:18.117Z"
   },
   {
    "duration": 21,
    "start_time": "2022-07-22T13:53:18.138Z"
   },
   {
    "duration": 3,
    "start_time": "2022-07-22T13:53:18.161Z"
   },
   {
    "duration": 8,
    "start_time": "2022-07-22T13:53:18.167Z"
   },
   {
    "duration": 29,
    "start_time": "2022-07-22T13:53:18.177Z"
   },
   {
    "duration": 18,
    "start_time": "2022-07-22T13:53:18.208Z"
   },
   {
    "duration": 11,
    "start_time": "2022-07-22T13:53:18.228Z"
   },
   {
    "duration": 14,
    "start_time": "2022-07-22T13:53:18.241Z"
   },
   {
    "duration": 27,
    "start_time": "2022-07-22T13:53:18.257Z"
   },
   {
    "duration": 36,
    "start_time": "2022-07-22T13:53:18.286Z"
   },
   {
    "duration": 393,
    "start_time": "2022-07-22T13:53:18.324Z"
   },
   {
    "duration": 5,
    "start_time": "2022-07-22T13:53:18.720Z"
   },
   {
    "duration": 14,
    "start_time": "2022-07-22T13:53:18.728Z"
   },
   {
    "duration": 16,
    "start_time": "2022-07-22T13:53:18.744Z"
   },
   {
    "duration": 13,
    "start_time": "2022-07-22T13:53:18.773Z"
   },
   {
    "duration": 17,
    "start_time": "2022-07-22T13:53:18.789Z"
   },
   {
    "duration": 12,
    "start_time": "2022-07-22T13:53:18.808Z"
   },
   {
    "duration": 6,
    "start_time": "2022-07-22T13:53:18.822Z"
   },
   {
    "duration": 19,
    "start_time": "2022-07-22T13:53:18.830Z"
   },
   {
    "duration": 16,
    "start_time": "2022-07-22T13:53:18.851Z"
   },
   {
    "duration": 394,
    "start_time": "2022-07-22T13:53:18.869Z"
   },
   {
    "duration": 14,
    "start_time": "2022-07-22T13:53:19.265Z"
   },
   {
    "duration": 363,
    "start_time": "2022-07-22T13:53:19.281Z"
   },
   {
    "duration": 2,
    "start_time": "2022-07-22T13:53:19.646Z"
   },
   {
    "duration": 1344,
    "start_time": "2022-07-22T13:53:19.650Z"
   },
   {
    "duration": 27,
    "start_time": "2022-07-22T13:53:20.995Z"
   },
   {
    "duration": 13,
    "start_time": "2022-07-22T13:53:21.023Z"
   },
   {
    "duration": 36,
    "start_time": "2022-07-22T13:53:21.037Z"
   },
   {
    "duration": 31,
    "start_time": "2022-07-22T13:53:21.074Z"
   },
   {
    "duration": 19,
    "start_time": "2022-07-22T13:53:21.107Z"
   },
   {
    "duration": 33,
    "start_time": "2022-07-22T13:53:21.128Z"
   },
   {
    "duration": 294,
    "start_time": "2022-07-22T13:53:21.162Z"
   },
   {
    "duration": 17,
    "start_time": "2022-07-22T13:53:21.458Z"
   },
   {
    "duration": 12,
    "start_time": "2022-07-22T13:53:33.062Z"
   },
   {
    "duration": 20,
    "start_time": "2022-07-22T13:54:19.145Z"
   },
   {
    "duration": 14,
    "start_time": "2022-07-22T13:54:57.649Z"
   },
   {
    "duration": 263,
    "start_time": "2022-07-22T14:01:48.861Z"
   },
   {
    "duration": 1044,
    "start_time": "2022-07-22T14:01:53.887Z"
   },
   {
    "duration": 66,
    "start_time": "2022-07-22T14:01:59.355Z"
   },
   {
    "duration": 1423,
    "start_time": "2022-07-23T12:41:10.899Z"
   },
   {
    "duration": 98,
    "start_time": "2022-07-23T12:41:12.325Z"
   },
   {
    "duration": 25,
    "start_time": "2022-07-23T12:41:12.425Z"
   },
   {
    "duration": 15,
    "start_time": "2022-07-23T12:41:12.451Z"
   },
   {
    "duration": 4,
    "start_time": "2022-07-23T12:41:12.469Z"
   },
   {
    "duration": 7,
    "start_time": "2022-07-23T12:41:12.474Z"
   },
   {
    "duration": 12,
    "start_time": "2022-07-23T12:41:12.482Z"
   },
   {
    "duration": 48,
    "start_time": "2022-07-23T12:41:12.496Z"
   },
   {
    "duration": 6,
    "start_time": "2022-07-23T12:41:12.546Z"
   },
   {
    "duration": 15,
    "start_time": "2022-07-23T12:41:12.554Z"
   },
   {
    "duration": 23,
    "start_time": "2022-07-23T12:41:12.571Z"
   },
   {
    "duration": 34,
    "start_time": "2022-07-23T12:41:12.596Z"
   },
   {
    "duration": 355,
    "start_time": "2022-07-23T12:41:12.632Z"
   },
   {
    "duration": 3,
    "start_time": "2022-07-23T12:41:12.990Z"
   },
   {
    "duration": 10,
    "start_time": "2022-07-23T12:41:12.995Z"
   },
   {
    "duration": 24,
    "start_time": "2022-07-23T12:41:13.007Z"
   },
   {
    "duration": 24,
    "start_time": "2022-07-23T12:41:13.032Z"
   },
   {
    "duration": 17,
    "start_time": "2022-07-23T12:41:13.058Z"
   },
   {
    "duration": 16,
    "start_time": "2022-07-23T12:41:13.077Z"
   },
   {
    "duration": 10,
    "start_time": "2022-07-23T12:41:13.094Z"
   },
   {
    "duration": 25,
    "start_time": "2022-07-23T12:41:13.106Z"
   },
   {
    "duration": 25,
    "start_time": "2022-07-23T12:41:13.135Z"
   },
   {
    "duration": 377,
    "start_time": "2022-07-23T12:41:13.162Z"
   },
   {
    "duration": 17,
    "start_time": "2022-07-23T12:41:13.541Z"
   },
   {
    "duration": 351,
    "start_time": "2022-07-23T12:41:13.561Z"
   },
   {
    "duration": 10,
    "start_time": "2022-07-23T12:41:13.914Z"
   },
   {
    "duration": 1334,
    "start_time": "2022-07-23T12:41:13.926Z"
   },
   {
    "duration": 18,
    "start_time": "2022-07-23T12:41:15.262Z"
   },
   {
    "duration": 6,
    "start_time": "2022-07-23T12:41:15.282Z"
   },
   {
    "duration": 45,
    "start_time": "2022-07-23T12:41:15.290Z"
   },
   {
    "duration": 13,
    "start_time": "2022-07-23T12:41:15.337Z"
   },
   {
    "duration": 18,
    "start_time": "2022-07-23T12:41:15.352Z"
   },
   {
    "duration": 3,
    "start_time": "2022-07-23T12:41:15.372Z"
   },
   {
    "duration": 672,
    "start_time": "2022-07-23T12:41:15.377Z"
   },
   {
    "duration": 44,
    "start_time": "2022-07-23T12:41:16.051Z"
   },
   {
    "duration": 676,
    "start_time": "2022-07-23T12:42:28.749Z"
   },
   {
    "duration": 597,
    "start_time": "2022-07-23T12:42:36.480Z"
   },
   {
    "duration": 579,
    "start_time": "2022-07-23T12:42:41.373Z"
   },
   {
    "duration": 728,
    "start_time": "2022-07-23T12:42:45.044Z"
   },
   {
    "duration": 771,
    "start_time": "2022-07-23T12:43:08.752Z"
   },
   {
    "duration": 591,
    "start_time": "2022-07-23T12:43:12.888Z"
   },
   {
    "duration": 776,
    "start_time": "2022-07-23T12:43:20.940Z"
   },
   {
    "duration": 159,
    "start_time": "2022-07-23T13:06:58.642Z"
   },
   {
    "duration": 6,
    "start_time": "2022-07-23T13:07:14.700Z"
   },
   {
    "duration": 32,
    "start_time": "2022-07-23T13:07:26.465Z"
   },
   {
    "duration": 17,
    "start_time": "2022-07-23T13:07:40.200Z"
   },
   {
    "duration": 34,
    "start_time": "2022-07-23T13:08:04.716Z"
   },
   {
    "duration": 13,
    "start_time": "2022-07-23T13:09:03.513Z"
   },
   {
    "duration": 31,
    "start_time": "2022-07-23T13:09:10.888Z"
   },
   {
    "duration": 19,
    "start_time": "2022-07-23T13:09:49.657Z"
   },
   {
    "duration": 22,
    "start_time": "2022-07-23T13:11:05.937Z"
   },
   {
    "duration": 26,
    "start_time": "2022-07-23T13:11:34.450Z"
   },
   {
    "duration": 17,
    "start_time": "2022-07-23T13:14:27.087Z"
   },
   {
    "duration": 15,
    "start_time": "2022-07-23T13:14:36.079Z"
   },
   {
    "duration": 7,
    "start_time": "2022-07-23T13:17:20.719Z"
   },
   {
    "duration": 49,
    "start_time": "2022-07-23T13:20:51.199Z"
   },
   {
    "duration": 89,
    "start_time": "2022-07-23T13:21:03.985Z"
   },
   {
    "duration": 38,
    "start_time": "2022-07-23T13:21:17.840Z"
   },
   {
    "duration": 18,
    "start_time": "2022-07-23T13:22:13.057Z"
   },
   {
    "duration": 32,
    "start_time": "2022-07-23T13:22:28.064Z"
   },
   {
    "duration": 15,
    "start_time": "2022-07-23T13:22:39.371Z"
   },
   {
    "duration": 27,
    "start_time": "2022-07-23T13:22:50.235Z"
   },
   {
    "duration": 28,
    "start_time": "2022-07-23T13:22:59.193Z"
   },
   {
    "duration": 41,
    "start_time": "2022-07-23T13:23:54.898Z"
   },
   {
    "duration": 175,
    "start_time": "2022-07-23T13:25:24.065Z"
   },
   {
    "duration": 166,
    "start_time": "2022-07-23T13:25:31.546Z"
   },
   {
    "duration": 20,
    "start_time": "2022-07-23T13:26:27.385Z"
   },
   {
    "duration": 20,
    "start_time": "2022-07-23T13:26:35.042Z"
   },
   {
    "duration": 37,
    "start_time": "2022-07-23T13:26:37.704Z"
   },
   {
    "duration": 6,
    "start_time": "2022-07-23T13:27:26.915Z"
   },
   {
    "duration": 167,
    "start_time": "2022-07-23T13:28:57.888Z"
   },
   {
    "duration": 211,
    "start_time": "2022-07-23T13:30:46.016Z"
   },
   {
    "duration": 4,
    "start_time": "2022-07-23T13:31:30.971Z"
   },
   {
    "duration": 12,
    "start_time": "2022-07-23T13:48:53.265Z"
   },
   {
    "duration": 4,
    "start_time": "2022-07-23T13:49:23.379Z"
   },
   {
    "duration": 52,
    "start_time": "2022-07-23T13:49:23.385Z"
   },
   {
    "duration": 17,
    "start_time": "2022-07-23T13:49:23.439Z"
   },
   {
    "duration": 15,
    "start_time": "2022-07-23T13:49:23.458Z"
   },
   {
    "duration": 4,
    "start_time": "2022-07-23T13:49:23.475Z"
   },
   {
    "duration": 7,
    "start_time": "2022-07-23T13:49:23.480Z"
   },
   {
    "duration": 8,
    "start_time": "2022-07-23T13:49:23.488Z"
   },
   {
    "duration": 41,
    "start_time": "2022-07-23T13:49:23.498Z"
   },
   {
    "duration": 6,
    "start_time": "2022-07-23T13:49:23.541Z"
   },
   {
    "duration": 7,
    "start_time": "2022-07-23T13:49:23.549Z"
   },
   {
    "duration": 24,
    "start_time": "2022-07-23T13:49:23.557Z"
   },
   {
    "duration": 17,
    "start_time": "2022-07-23T13:49:23.582Z"
   },
   {
    "duration": 336,
    "start_time": "2022-07-23T13:49:23.624Z"
   },
   {
    "duration": 5,
    "start_time": "2022-07-23T13:49:23.963Z"
   },
   {
    "duration": 10,
    "start_time": "2022-07-23T13:49:23.970Z"
   },
   {
    "duration": 10,
    "start_time": "2022-07-23T13:49:23.982Z"
   },
   {
    "duration": 31,
    "start_time": "2022-07-23T13:49:23.993Z"
   },
   {
    "duration": 4,
    "start_time": "2022-07-23T13:49:24.026Z"
   },
   {
    "duration": 9,
    "start_time": "2022-07-23T13:49:24.032Z"
   },
   {
    "duration": 7,
    "start_time": "2022-07-23T13:49:24.043Z"
   },
   {
    "duration": 23,
    "start_time": "2022-07-23T13:49:24.052Z"
   },
   {
    "duration": 24,
    "start_time": "2022-07-23T13:49:24.077Z"
   },
   {
    "duration": 368,
    "start_time": "2022-07-23T13:49:24.103Z"
   },
   {
    "duration": 12,
    "start_time": "2022-07-23T13:49:24.473Z"
   },
   {
    "duration": 351,
    "start_time": "2022-07-23T13:49:24.486Z"
   },
   {
    "duration": 3,
    "start_time": "2022-07-23T13:49:24.839Z"
   },
   {
    "duration": 1355,
    "start_time": "2022-07-23T13:49:24.843Z"
   },
   {
    "duration": 28,
    "start_time": "2022-07-23T13:49:26.200Z"
   },
   {
    "duration": 6,
    "start_time": "2022-07-23T13:49:26.229Z"
   },
   {
    "duration": 34,
    "start_time": "2022-07-23T13:49:26.237Z"
   },
   {
    "duration": 13,
    "start_time": "2022-07-23T13:49:26.273Z"
   },
   {
    "duration": 38,
    "start_time": "2022-07-23T13:49:26.288Z"
   },
   {
    "duration": 3,
    "start_time": "2022-07-23T13:49:26.327Z"
   },
   {
    "duration": 622,
    "start_time": "2022-07-23T13:49:26.332Z"
   },
   {
    "duration": 35,
    "start_time": "2022-07-23T13:49:26.956Z"
   },
   {
    "duration": 38,
    "start_time": "2022-07-23T13:49:26.993Z"
   },
   {
    "duration": 171,
    "start_time": "2022-07-23T13:49:27.033Z"
   },
   {
    "duration": 5,
    "start_time": "2022-07-23T13:49:27.206Z"
   },
   {
    "duration": 178,
    "start_time": "2022-07-23T13:49:27.222Z"
   },
   {
    "duration": 4,
    "start_time": "2022-07-23T13:49:27.402Z"
   },
   {
    "duration": 5,
    "start_time": "2022-07-23T13:56:12.722Z"
   },
   {
    "duration": 6,
    "start_time": "2022-07-23T13:56:49.274Z"
   },
   {
    "duration": 3,
    "start_time": "2022-07-23T13:56:57.949Z"
   },
   {
    "duration": 53,
    "start_time": "2022-07-23T13:56:57.954Z"
   },
   {
    "duration": 16,
    "start_time": "2022-07-23T13:56:58.009Z"
   },
   {
    "duration": 14,
    "start_time": "2022-07-23T13:56:58.028Z"
   },
   {
    "duration": 3,
    "start_time": "2022-07-23T13:56:58.045Z"
   },
   {
    "duration": 6,
    "start_time": "2022-07-23T13:56:58.050Z"
   },
   {
    "duration": 8,
    "start_time": "2022-07-23T13:56:58.058Z"
   },
   {
    "duration": 17,
    "start_time": "2022-07-23T13:56:58.068Z"
   },
   {
    "duration": 5,
    "start_time": "2022-07-23T13:56:58.087Z"
   },
   {
    "duration": 37,
    "start_time": "2022-07-23T13:56:58.094Z"
   },
   {
    "duration": 23,
    "start_time": "2022-07-23T13:56:58.133Z"
   },
   {
    "duration": 17,
    "start_time": "2022-07-23T13:56:58.157Z"
   },
   {
    "duration": 396,
    "start_time": "2022-07-23T13:56:58.176Z"
   },
   {
    "duration": 4,
    "start_time": "2022-07-23T13:56:58.575Z"
   },
   {
    "duration": 12,
    "start_time": "2022-07-23T13:56:58.581Z"
   },
   {
    "duration": 12,
    "start_time": "2022-07-23T13:56:58.595Z"
   },
   {
    "duration": 21,
    "start_time": "2022-07-23T13:56:58.609Z"
   },
   {
    "duration": 4,
    "start_time": "2022-07-23T13:57:02.874Z"
   },
   {
    "duration": 1142,
    "start_time": "2022-07-23T13:57:31.096Z"
   },
   {
    "duration": 51,
    "start_time": "2022-07-23T13:57:32.240Z"
   },
   {
    "duration": 21,
    "start_time": "2022-07-23T13:57:32.293Z"
   },
   {
    "duration": 15,
    "start_time": "2022-07-23T13:57:32.316Z"
   },
   {
    "duration": 3,
    "start_time": "2022-07-23T13:57:32.334Z"
   },
   {
    "duration": 9,
    "start_time": "2022-07-23T13:57:32.338Z"
   },
   {
    "duration": 10,
    "start_time": "2022-07-23T13:57:32.349Z"
   },
   {
    "duration": 18,
    "start_time": "2022-07-23T13:57:32.361Z"
   },
   {
    "duration": 6,
    "start_time": "2022-07-23T13:57:32.381Z"
   },
   {
    "duration": 35,
    "start_time": "2022-07-23T13:57:32.389Z"
   },
   {
    "duration": 22,
    "start_time": "2022-07-23T13:57:32.426Z"
   },
   {
    "duration": 18,
    "start_time": "2022-07-23T13:57:32.450Z"
   },
   {
    "duration": 347,
    "start_time": "2022-07-23T13:57:32.469Z"
   },
   {
    "duration": 7,
    "start_time": "2022-07-23T13:57:32.819Z"
   },
   {
    "duration": 12,
    "start_time": "2022-07-23T13:57:32.827Z"
   },
   {
    "duration": 9,
    "start_time": "2022-07-23T13:57:32.840Z"
   },
   {
    "duration": 8,
    "start_time": "2022-07-23T13:57:32.851Z"
   },
   {
    "duration": 6,
    "start_time": "2022-07-23T13:57:38.567Z"
   },
   {
    "duration": 6,
    "start_time": "2022-07-23T13:58:08.139Z"
   },
   {
    "duration": 6,
    "start_time": "2022-07-23T13:58:15.199Z"
   },
   {
    "duration": 5,
    "start_time": "2022-07-23T13:58:45.375Z"
   },
   {
    "duration": 4,
    "start_time": "2022-07-23T14:07:37.341Z"
   },
   {
    "duration": 57,
    "start_time": "2022-07-23T14:07:37.346Z"
   },
   {
    "duration": 17,
    "start_time": "2022-07-23T14:07:37.405Z"
   },
   {
    "duration": 13,
    "start_time": "2022-07-23T14:07:37.424Z"
   },
   {
    "duration": 3,
    "start_time": "2022-07-23T14:07:37.440Z"
   },
   {
    "duration": 7,
    "start_time": "2022-07-23T14:07:37.445Z"
   },
   {
    "duration": 8,
    "start_time": "2022-07-23T14:07:37.454Z"
   },
   {
    "duration": 17,
    "start_time": "2022-07-23T14:07:37.463Z"
   },
   {
    "duration": 8,
    "start_time": "2022-07-23T14:07:37.481Z"
   },
   {
    "duration": 34,
    "start_time": "2022-07-23T14:07:37.490Z"
   },
   {
    "duration": 23,
    "start_time": "2022-07-23T14:07:37.526Z"
   },
   {
    "duration": 16,
    "start_time": "2022-07-23T14:07:37.550Z"
   },
   {
    "duration": 344,
    "start_time": "2022-07-23T14:07:37.568Z"
   },
   {
    "duration": 9,
    "start_time": "2022-07-23T14:07:37.914Z"
   },
   {
    "duration": 8,
    "start_time": "2022-07-23T14:07:37.925Z"
   },
   {
    "duration": 9,
    "start_time": "2022-07-23T14:07:37.935Z"
   },
   {
    "duration": 9,
    "start_time": "2022-07-23T14:07:37.946Z"
   },
   {
    "duration": 4,
    "start_time": "2022-07-23T14:07:37.957Z"
   },
   {
    "duration": 7,
    "start_time": "2022-07-23T14:07:37.962Z"
   },
   {
    "duration": 12,
    "start_time": "2022-07-23T14:07:37.971Z"
   },
   {
    "duration": 39,
    "start_time": "2022-07-23T14:07:37.984Z"
   },
   {
    "duration": 17,
    "start_time": "2022-07-23T14:07:38.025Z"
   },
   {
    "duration": 14,
    "start_time": "2022-07-23T14:07:38.044Z"
   },
   {
    "duration": 384,
    "start_time": "2022-07-23T14:07:38.060Z"
   },
   {
    "duration": 13,
    "start_time": "2022-07-23T14:07:38.446Z"
   },
   {
    "duration": 360,
    "start_time": "2022-07-23T14:07:38.461Z"
   },
   {
    "duration": 4,
    "start_time": "2022-07-23T14:07:38.823Z"
   },
   {
    "duration": 1372,
    "start_time": "2022-07-23T14:07:38.829Z"
   },
   {
    "duration": 24,
    "start_time": "2022-07-23T14:07:40.203Z"
   },
   {
    "duration": 6,
    "start_time": "2022-07-23T14:07:40.229Z"
   },
   {
    "duration": 27,
    "start_time": "2022-07-23T14:07:40.236Z"
   },
   {
    "duration": 12,
    "start_time": "2022-07-23T14:07:40.265Z"
   },
   {
    "duration": 45,
    "start_time": "2022-07-23T14:07:40.278Z"
   },
   {
    "duration": 3,
    "start_time": "2022-07-23T14:07:40.325Z"
   },
   {
    "duration": 680,
    "start_time": "2022-07-23T14:07:40.329Z"
   },
   {
    "duration": 40,
    "start_time": "2022-07-23T14:07:41.010Z"
   },
   {
    "duration": 21,
    "start_time": "2022-07-23T14:07:41.051Z"
   },
   {
    "duration": 181,
    "start_time": "2022-07-23T14:07:41.073Z"
   },
   {
    "duration": 4,
    "start_time": "2022-07-23T14:07:41.256Z"
   },
   {
    "duration": 180,
    "start_time": "2022-07-23T14:07:41.262Z"
   },
   {
    "duration": 5,
    "start_time": "2022-07-23T14:07:41.446Z"
   },
   {
    "duration": 415,
    "start_time": "2022-07-23T14:07:41.452Z"
   },
   {
    "duration": 99,
    "start_time": "2022-07-23T14:15:09.590Z"
   },
   {
    "duration": 12,
    "start_time": "2022-07-23T14:15:26.911Z"
   },
   {
    "duration": 17,
    "start_time": "2022-07-23T14:15:33.912Z"
   },
   {
    "duration": 280,
    "start_time": "2022-07-23T14:20:01.547Z"
   },
   {
    "duration": 1881,
    "start_time": "2022-07-23T14:20:27.192Z"
   },
   {
    "duration": 1735,
    "start_time": "2022-07-23T14:20:58.313Z"
   },
   {
    "duration": 223,
    "start_time": "2022-07-23T14:22:23.671Z"
   },
   {
    "duration": 1720,
    "start_time": "2022-07-23T14:22:44.713Z"
   },
   {
    "duration": 1605,
    "start_time": "2022-07-23T14:23:00.340Z"
   },
   {
    "duration": 260,
    "start_time": "2022-07-23T14:24:32.957Z"
   },
   {
    "duration": 138,
    "start_time": "2022-07-23T14:25:01.489Z"
   },
   {
    "duration": 156,
    "start_time": "2022-07-23T14:25:14.417Z"
   },
   {
    "duration": 1008,
    "start_time": "2022-07-23T14:25:27.638Z"
   },
   {
    "duration": 991,
    "start_time": "2022-07-23T14:25:52.346Z"
   },
   {
    "duration": 1091,
    "start_time": "2022-07-23T14:26:47.906Z"
   },
   {
    "duration": 19,
    "start_time": "2022-07-23T14:33:08.851Z"
   },
   {
    "duration": 20,
    "start_time": "2022-07-23T14:33:16.650Z"
   },
   {
    "duration": 1253,
    "start_time": "2022-07-23T14:33:47.970Z"
   },
   {
    "duration": 1282,
    "start_time": "2022-07-23T14:34:08.859Z"
   },
   {
    "duration": 987,
    "start_time": "2022-07-23T14:34:15.874Z"
   },
   {
    "duration": 226,
    "start_time": "2022-07-23T14:40:19.751Z"
   },
   {
    "duration": 168,
    "start_time": "2022-07-23T14:40:23.258Z"
   },
   {
    "duration": 41,
    "start_time": "2022-07-23T14:43:39.075Z"
   },
   {
    "duration": 1167,
    "start_time": "2022-07-23T14:43:50.499Z"
   },
   {
    "duration": 596,
    "start_time": "2022-07-23T14:57:31.580Z"
   },
   {
    "duration": 757,
    "start_time": "2022-07-23T14:58:53.372Z"
   },
   {
    "duration": 768,
    "start_time": "2022-07-23T14:59:11.362Z"
   },
   {
    "duration": 965,
    "start_time": "2022-07-23T14:59:30.379Z"
   },
   {
    "duration": 1002,
    "start_time": "2022-07-23T14:59:38.510Z"
   },
   {
    "duration": 714,
    "start_time": "2022-07-23T14:59:46.298Z"
   },
   {
    "duration": 815,
    "start_time": "2022-07-23T15:01:07.818Z"
   },
   {
    "duration": 33,
    "start_time": "2022-07-23T15:02:39.810Z"
   },
   {
    "duration": 43,
    "start_time": "2022-07-26T09:46:57.283Z"
   },
   {
    "duration": 1182,
    "start_time": "2022-07-26T09:47:05.319Z"
   },
   {
    "duration": 179,
    "start_time": "2022-07-26T09:47:06.503Z"
   },
   {
    "duration": 17,
    "start_time": "2022-07-26T09:47:06.684Z"
   },
   {
    "duration": 13,
    "start_time": "2022-07-26T09:47:06.702Z"
   },
   {
    "duration": 3,
    "start_time": "2022-07-26T09:47:06.716Z"
   },
   {
    "duration": 8,
    "start_time": "2022-07-26T09:47:06.721Z"
   },
   {
    "duration": 24,
    "start_time": "2022-07-26T09:47:06.730Z"
   },
   {
    "duration": 25,
    "start_time": "2022-07-26T09:47:06.756Z"
   },
   {
    "duration": 4,
    "start_time": "2022-07-26T09:47:06.783Z"
   },
   {
    "duration": 7,
    "start_time": "2022-07-26T09:47:06.788Z"
   },
   {
    "duration": 22,
    "start_time": "2022-07-26T09:47:06.796Z"
   },
   {
    "duration": 34,
    "start_time": "2022-07-26T09:47:06.819Z"
   },
   {
    "duration": 312,
    "start_time": "2022-07-26T09:47:06.855Z"
   },
   {
    "duration": 4,
    "start_time": "2022-07-26T09:47:07.170Z"
   },
   {
    "duration": 8,
    "start_time": "2022-07-26T09:47:07.176Z"
   },
   {
    "duration": 8,
    "start_time": "2022-07-26T09:47:07.186Z"
   },
   {
    "duration": 7,
    "start_time": "2022-07-26T09:47:07.195Z"
   },
   {
    "duration": 33,
    "start_time": "2022-07-26T09:47:07.204Z"
   },
   {
    "duration": 9,
    "start_time": "2022-07-26T09:47:07.245Z"
   },
   {
    "duration": 9,
    "start_time": "2022-07-26T09:47:07.255Z"
   },
   {
    "duration": 6,
    "start_time": "2022-07-26T09:47:07.266Z"
   },
   {
    "duration": 15,
    "start_time": "2022-07-26T09:47:07.273Z"
   },
   {
    "duration": 12,
    "start_time": "2022-07-26T09:47:07.289Z"
   },
   {
    "duration": 375,
    "start_time": "2022-07-26T09:47:07.303Z"
   },
   {
    "duration": 12,
    "start_time": "2022-07-26T09:47:07.682Z"
   },
   {
    "duration": 407,
    "start_time": "2022-07-26T09:47:07.696Z"
   },
   {
    "duration": 2,
    "start_time": "2022-07-26T09:47:08.105Z"
   },
   {
    "duration": 1188,
    "start_time": "2022-07-26T09:47:08.109Z"
   },
   {
    "duration": 17,
    "start_time": "2022-07-26T09:47:09.299Z"
   },
   {
    "duration": 23,
    "start_time": "2022-07-26T09:47:09.317Z"
   },
   {
    "duration": 32,
    "start_time": "2022-07-26T09:47:09.342Z"
   },
   {
    "duration": 12,
    "start_time": "2022-07-26T09:47:09.375Z"
   },
   {
    "duration": 18,
    "start_time": "2022-07-26T09:47:09.388Z"
   },
   {
    "duration": 2,
    "start_time": "2022-07-26T09:47:09.408Z"
   },
   {
    "duration": 749,
    "start_time": "2022-07-26T09:47:09.411Z"
   },
   {
    "duration": 24,
    "start_time": "2022-07-26T09:47:10.162Z"
   },
   {
    "duration": 18,
    "start_time": "2022-07-26T09:47:10.187Z"
   },
   {
    "duration": 169,
    "start_time": "2022-07-26T09:47:10.206Z"
   },
   {
    "duration": 4,
    "start_time": "2022-07-26T09:47:10.376Z"
   },
   {
    "duration": 165,
    "start_time": "2022-07-26T09:47:10.382Z"
   },
   {
    "duration": 3,
    "start_time": "2022-07-26T09:47:10.551Z"
   },
   {
    "duration": 879,
    "start_time": "2022-07-26T09:47:10.556Z"
   },
   {
    "duration": 968,
    "start_time": "2022-07-26T09:47:11.442Z"
   },
   {
    "duration": 34,
    "start_time": "2022-07-26T09:47:12.411Z"
   },
   {
    "duration": 181,
    "start_time": "2022-07-26T09:49:30.509Z"
   },
   {
    "duration": 177,
    "start_time": "2022-07-26T09:49:48.968Z"
   },
   {
    "duration": 53,
    "start_time": "2022-07-27T13:11:46.901Z"
   },
   {
    "duration": 1813,
    "start_time": "2022-07-27T13:11:54.398Z"
   },
   {
    "duration": 181,
    "start_time": "2022-07-27T13:11:56.213Z"
   },
   {
    "duration": 22,
    "start_time": "2022-07-27T13:11:56.396Z"
   },
   {
    "duration": 15,
    "start_time": "2022-07-27T13:11:56.419Z"
   },
   {
    "duration": 4,
    "start_time": "2022-07-27T13:11:56.437Z"
   },
   {
    "duration": 9,
    "start_time": "2022-07-27T13:11:56.442Z"
   },
   {
    "duration": 8,
    "start_time": "2022-07-27T13:11:56.453Z"
   },
   {
    "duration": 20,
    "start_time": "2022-07-27T13:11:56.462Z"
   },
   {
    "duration": 27,
    "start_time": "2022-07-27T13:11:56.483Z"
   },
   {
    "duration": 12,
    "start_time": "2022-07-27T13:11:56.512Z"
   },
   {
    "duration": 25,
    "start_time": "2022-07-27T13:11:56.525Z"
   },
   {
    "duration": 18,
    "start_time": "2022-07-27T13:11:56.552Z"
   },
   {
    "duration": 380,
    "start_time": "2022-07-27T13:11:56.572Z"
   },
   {
    "duration": 4,
    "start_time": "2022-07-27T13:11:56.956Z"
   },
   {
    "duration": 11,
    "start_time": "2022-07-27T13:11:56.961Z"
   },
   {
    "duration": 9,
    "start_time": "2022-07-27T13:11:56.974Z"
   },
   {
    "duration": 30,
    "start_time": "2022-07-27T13:11:56.985Z"
   },
   {
    "duration": 4,
    "start_time": "2022-07-27T13:11:57.017Z"
   },
   {
    "duration": 9,
    "start_time": "2022-07-27T13:11:57.022Z"
   },
   {
    "duration": 13,
    "start_time": "2022-07-27T13:11:57.032Z"
   },
   {
    "duration": 5,
    "start_time": "2022-07-27T13:11:57.046Z"
   },
   {
    "duration": 18,
    "start_time": "2022-07-27T13:11:57.053Z"
   },
   {
    "duration": 42,
    "start_time": "2022-07-27T13:11:57.073Z"
   },
   {
    "duration": 399,
    "start_time": "2022-07-27T13:11:57.118Z"
   },
   {
    "duration": 13,
    "start_time": "2022-07-27T13:11:57.520Z"
   },
   {
    "duration": 390,
    "start_time": "2022-07-27T13:11:57.535Z"
   },
   {
    "duration": 3,
    "start_time": "2022-07-27T13:11:57.927Z"
   },
   {
    "duration": 1316,
    "start_time": "2022-07-27T13:11:57.932Z"
   },
   {
    "duration": 25,
    "start_time": "2022-07-27T13:11:59.250Z"
   },
   {
    "duration": 6,
    "start_time": "2022-07-27T13:11:59.277Z"
   },
   {
    "duration": 37,
    "start_time": "2022-07-27T13:11:59.285Z"
   },
   {
    "duration": 12,
    "start_time": "2022-07-27T13:11:59.324Z"
   },
   {
    "duration": 19,
    "start_time": "2022-07-27T13:11:59.338Z"
   },
   {
    "duration": 3,
    "start_time": "2022-07-27T13:11:59.358Z"
   },
   {
    "duration": 836,
    "start_time": "2022-07-27T13:11:59.362Z"
   },
   {
    "duration": 40,
    "start_time": "2022-07-27T13:12:00.200Z"
   },
   {
    "duration": 24,
    "start_time": "2022-07-27T13:12:00.243Z"
   },
   {
    "duration": 217,
    "start_time": "2022-07-27T13:12:00.269Z"
   },
   {
    "duration": 5,
    "start_time": "2022-07-27T13:12:00.488Z"
   },
   {
    "duration": 195,
    "start_time": "2022-07-27T13:12:00.495Z"
   },
   {
    "duration": 4,
    "start_time": "2022-07-27T13:12:00.694Z"
   },
   {
    "duration": 1049,
    "start_time": "2022-07-27T13:12:00.700Z"
   },
   {
    "duration": 1181,
    "start_time": "2022-07-27T13:12:01.750Z"
   },
   {
    "duration": 15,
    "start_time": "2022-07-27T13:12:02.933Z"
   },
   {
    "duration": 217,
    "start_time": "2022-07-27T13:12:02.950Z"
   },
   {
    "duration": 18,
    "start_time": "2022-07-27T13:12:03.169Z"
   },
   {
    "duration": 168,
    "start_time": "2022-07-27T13:14:42.166Z"
   },
   {
    "duration": 183,
    "start_time": "2022-07-27T13:14:47.493Z"
   },
   {
    "duration": 77,
    "start_time": "2022-07-27T13:14:53.140Z"
   },
   {
    "duration": 173,
    "start_time": "2022-07-27T13:14:57.822Z"
   },
   {
    "duration": 178,
    "start_time": "2022-07-27T13:15:05.500Z"
   },
   {
    "duration": 18,
    "start_time": "2022-07-27T13:18:57.333Z"
   },
   {
    "duration": 177,
    "start_time": "2022-07-27T13:19:06.830Z"
   },
   {
    "duration": 6,
    "start_time": "2022-07-27T13:20:41.198Z"
   },
   {
    "duration": 18,
    "start_time": "2022-07-27T13:20:43.082Z"
   },
   {
    "duration": 18,
    "start_time": "2022-07-27T13:20:45.580Z"
   },
   {
    "duration": 7,
    "start_time": "2022-07-27T13:22:27.235Z"
   },
   {
    "duration": 14,
    "start_time": "2022-07-27T13:22:29.677Z"
   },
   {
    "duration": 1329,
    "start_time": "2022-07-27T13:22:55.522Z"
   },
   {
    "duration": 7,
    "start_time": "2022-07-27T13:23:15.243Z"
   },
   {
    "duration": 16,
    "start_time": "2022-07-27T13:23:18.875Z"
   },
   {
    "duration": 1247,
    "start_time": "2022-07-27T13:23:26.197Z"
   },
   {
    "duration": 20,
    "start_time": "2022-07-27T13:23:36.397Z"
   },
   {
    "duration": 190,
    "start_time": "2022-07-27T13:23:41.542Z"
   },
   {
    "duration": 17,
    "start_time": "2022-07-27T13:23:52.876Z"
   },
   {
    "duration": 240,
    "start_time": "2022-07-27T13:24:50.163Z"
   },
   {
    "duration": 293,
    "start_time": "2022-07-27T13:24:54.901Z"
   },
   {
    "duration": 64,
    "start_time": "2022-07-27T13:30:48.203Z"
   },
   {
    "duration": 11,
    "start_time": "2022-07-27T13:30:57.310Z"
   },
   {
    "duration": 17,
    "start_time": "2022-07-27T13:36:16.476Z"
   },
   {
    "duration": 18,
    "start_time": "2022-07-27T13:36:21.418Z"
   },
   {
    "duration": 190,
    "start_time": "2022-07-27T13:37:02.466Z"
   },
   {
    "duration": 16,
    "start_time": "2022-07-27T13:37:55.940Z"
   },
   {
    "duration": 1355,
    "start_time": "2022-07-27T13:38:19.266Z"
   },
   {
    "duration": 15,
    "start_time": "2022-07-27T13:38:58.229Z"
   },
   {
    "duration": 20,
    "start_time": "2022-07-27T13:39:06.938Z"
   },
   {
    "duration": 17,
    "start_time": "2022-07-27T13:39:33.411Z"
   },
   {
    "duration": 188,
    "start_time": "2022-07-27T13:39:36.276Z"
   },
   {
    "duration": 11,
    "start_time": "2022-07-27T13:56:37.858Z"
   },
   {
    "duration": 18,
    "start_time": "2022-07-27T13:58:53.661Z"
   },
   {
    "duration": 219,
    "start_time": "2022-07-27T13:59:14.539Z"
   },
   {
    "duration": 17,
    "start_time": "2022-07-27T14:00:00.725Z"
   },
   {
    "duration": 205,
    "start_time": "2022-07-27T14:00:12.319Z"
   },
   {
    "duration": 17,
    "start_time": "2022-07-27T14:01:00.066Z"
   },
   {
    "duration": 202,
    "start_time": "2022-07-27T14:01:49.127Z"
   },
   {
    "duration": 1202,
    "start_time": "2022-07-28T09:31:45.496Z"
   },
   {
    "duration": 90,
    "start_time": "2022-07-28T09:31:46.700Z"
   },
   {
    "duration": 18,
    "start_time": "2022-07-28T09:31:46.791Z"
   },
   {
    "duration": 16,
    "start_time": "2022-07-28T09:31:46.811Z"
   },
   {
    "duration": 3,
    "start_time": "2022-07-28T09:31:46.829Z"
   },
   {
    "duration": 17,
    "start_time": "2022-07-28T09:31:46.833Z"
   },
   {
    "duration": 9,
    "start_time": "2022-07-28T09:31:46.851Z"
   },
   {
    "duration": 22,
    "start_time": "2022-07-28T09:31:46.862Z"
   },
   {
    "duration": 7,
    "start_time": "2022-07-28T09:31:46.886Z"
   },
   {
    "duration": 9,
    "start_time": "2022-07-28T09:31:46.894Z"
   },
   {
    "duration": 28,
    "start_time": "2022-07-28T09:31:46.904Z"
   },
   {
    "duration": 16,
    "start_time": "2022-07-28T09:31:46.933Z"
   },
   {
    "duration": 303,
    "start_time": "2022-07-28T09:31:46.950Z"
   },
   {
    "duration": 4,
    "start_time": "2022-07-28T09:31:47.255Z"
   },
   {
    "duration": 19,
    "start_time": "2022-07-28T09:31:47.260Z"
   },
   {
    "duration": 12,
    "start_time": "2022-07-28T09:31:47.280Z"
   },
   {
    "duration": 9,
    "start_time": "2022-07-28T09:31:47.293Z"
   },
   {
    "duration": 4,
    "start_time": "2022-07-28T09:31:47.304Z"
   },
   {
    "duration": 7,
    "start_time": "2022-07-28T09:31:47.309Z"
   },
   {
    "duration": 9,
    "start_time": "2022-07-28T09:31:47.317Z"
   },
   {
    "duration": 5,
    "start_time": "2022-07-28T09:31:47.327Z"
   },
   {
    "duration": 16,
    "start_time": "2022-07-28T09:31:47.333Z"
   },
   {
    "duration": 33,
    "start_time": "2022-07-28T09:31:47.350Z"
   },
   {
    "duration": 337,
    "start_time": "2022-07-28T09:31:47.384Z"
   },
   {
    "duration": 11,
    "start_time": "2022-07-28T09:31:47.723Z"
   },
   {
    "duration": 320,
    "start_time": "2022-07-28T09:31:47.735Z"
   },
   {
    "duration": 4,
    "start_time": "2022-07-28T09:31:48.057Z"
   },
   {
    "duration": 1073,
    "start_time": "2022-07-28T09:31:48.062Z"
   },
   {
    "duration": 20,
    "start_time": "2022-07-28T09:31:49.137Z"
   },
   {
    "duration": 15,
    "start_time": "2022-07-28T09:31:49.159Z"
   },
   {
    "duration": 35,
    "start_time": "2022-07-28T09:31:49.175Z"
   },
   {
    "duration": 11,
    "start_time": "2022-07-28T09:31:49.212Z"
   },
   {
    "duration": 27,
    "start_time": "2022-07-28T09:31:49.225Z"
   },
   {
    "duration": 8,
    "start_time": "2022-07-28T09:31:49.253Z"
   },
   {
    "duration": 644,
    "start_time": "2022-07-28T09:31:49.263Z"
   },
   {
    "duration": 24,
    "start_time": "2022-07-28T09:31:49.908Z"
   },
   {
    "duration": 18,
    "start_time": "2022-07-28T09:31:49.934Z"
   },
   {
    "duration": 153,
    "start_time": "2022-07-28T09:31:49.973Z"
   },
   {
    "duration": 5,
    "start_time": "2022-07-28T09:31:50.128Z"
   },
   {
    "duration": 169,
    "start_time": "2022-07-28T09:31:50.134Z"
   },
   {
    "duration": 4,
    "start_time": "2022-07-28T09:31:50.306Z"
   },
   {
    "duration": 862,
    "start_time": "2022-07-28T09:31:50.312Z"
   },
   {
    "duration": 967,
    "start_time": "2022-07-28T09:31:51.176Z"
   },
   {
    "duration": 14,
    "start_time": "2022-07-28T09:31:52.144Z"
   },
   {
    "duration": 166,
    "start_time": "2022-07-28T09:31:52.172Z"
   },
   {
    "duration": 8,
    "start_time": "2022-07-28T09:31:52.339Z"
   },
   {
    "duration": 26,
    "start_time": "2022-07-28T09:31:52.349Z"
   },
   {
    "duration": 142,
    "start_time": "2022-07-28T09:31:52.376Z"
   },
   {
    "duration": 15,
    "start_time": "2022-07-28T09:31:52.520Z"
   },
   {
    "duration": 173,
    "start_time": "2022-07-28T09:31:52.536Z"
   },
   {
    "duration": 13,
    "start_time": "2022-07-28T09:31:52.711Z"
   },
   {
    "duration": 165,
    "start_time": "2022-07-28T09:31:52.725Z"
   },
   {
    "duration": 14,
    "start_time": "2022-07-28T09:31:52.892Z"
   },
   {
    "duration": 181,
    "start_time": "2022-07-28T09:31:52.907Z"
   },
   {
    "duration": 14,
    "start_time": "2022-07-28T09:31:53.089Z"
   },
   {
    "duration": 170,
    "start_time": "2022-07-28T09:31:53.105Z"
   },
   {
    "duration": 13,
    "start_time": "2022-07-28T09:31:53.277Z"
   },
   {
    "duration": 169,
    "start_time": "2022-07-28T09:31:53.292Z"
   },
   {
    "duration": 14,
    "start_time": "2022-07-28T09:39:18.725Z"
   },
   {
    "duration": 212,
    "start_time": "2022-07-28T09:44:05.927Z"
   },
   {
    "duration": 106,
    "start_time": "2022-07-28T09:44:23.310Z"
   },
   {
    "duration": 135,
    "start_time": "2022-07-28T09:45:41.735Z"
   },
   {
    "duration": 93,
    "start_time": "2022-07-28T09:46:06.504Z"
   },
   {
    "duration": 143,
    "start_time": "2022-07-28T09:46:21.327Z"
   },
   {
    "duration": 14,
    "start_time": "2022-07-28T09:47:15.542Z"
   },
   {
    "duration": 124,
    "start_time": "2022-07-28T09:47:31.706Z"
   },
   {
    "duration": 20,
    "start_time": "2022-07-28T09:48:15.559Z"
   },
   {
    "duration": 14,
    "start_time": "2022-07-28T09:48:22.152Z"
   },
   {
    "duration": 140,
    "start_time": "2022-07-28T09:48:32.463Z"
   },
   {
    "duration": 13,
    "start_time": "2022-07-28T10:11:25.521Z"
   },
   {
    "duration": 12,
    "start_time": "2022-07-28T10:12:39.459Z"
   },
   {
    "duration": 6,
    "start_time": "2022-07-28T10:15:20.674Z"
   },
   {
    "duration": 7,
    "start_time": "2022-07-28T10:16:01.971Z"
   },
   {
    "duration": 9,
    "start_time": "2022-07-28T10:17:17.091Z"
   },
   {
    "duration": 7,
    "start_time": "2022-07-28T10:17:45.580Z"
   },
   {
    "duration": 7,
    "start_time": "2022-07-28T10:18:24.483Z"
   },
   {
    "duration": 50,
    "start_time": "2022-07-28T10:22:21.907Z"
   },
   {
    "duration": 10,
    "start_time": "2022-07-28T10:22:27.468Z"
   },
   {
    "duration": 8,
    "start_time": "2022-07-28T10:22:52.348Z"
   },
   {
    "duration": 1099,
    "start_time": "2022-07-28T10:26:04.186Z"
   },
   {
    "duration": 50,
    "start_time": "2022-07-28T10:26:05.287Z"
   },
   {
    "duration": 19,
    "start_time": "2022-07-28T10:26:05.339Z"
   },
   {
    "duration": 18,
    "start_time": "2022-07-28T10:26:05.360Z"
   },
   {
    "duration": 25,
    "start_time": "2022-07-28T10:26:05.380Z"
   },
   {
    "duration": 22,
    "start_time": "2022-07-28T10:26:05.407Z"
   },
   {
    "duration": 31,
    "start_time": "2022-07-28T10:26:05.431Z"
   },
   {
    "duration": 32,
    "start_time": "2022-07-28T10:26:05.464Z"
   },
   {
    "duration": 18,
    "start_time": "2022-07-28T10:26:05.498Z"
   },
   {
    "duration": 14,
    "start_time": "2022-07-28T10:26:05.519Z"
   },
   {
    "duration": 29,
    "start_time": "2022-07-28T10:26:05.534Z"
   },
   {
    "duration": 29,
    "start_time": "2022-07-28T10:26:05.565Z"
   },
   {
    "duration": 301,
    "start_time": "2022-07-28T10:26:05.596Z"
   },
   {
    "duration": 5,
    "start_time": "2022-07-28T10:26:05.898Z"
   },
   {
    "duration": 29,
    "start_time": "2022-07-28T10:26:05.905Z"
   },
   {
    "duration": 24,
    "start_time": "2022-07-28T10:26:05.936Z"
   },
   {
    "duration": 24,
    "start_time": "2022-07-28T10:26:05.961Z"
   },
   {
    "duration": 31,
    "start_time": "2022-07-28T10:26:05.987Z"
   },
   {
    "duration": 16,
    "start_time": "2022-07-28T10:26:06.020Z"
   },
   {
    "duration": 31,
    "start_time": "2022-07-28T10:26:06.037Z"
   },
   {
    "duration": 34,
    "start_time": "2022-07-28T10:26:06.069Z"
   },
   {
    "duration": 49,
    "start_time": "2022-07-28T10:26:06.105Z"
   },
   {
    "duration": 36,
    "start_time": "2022-07-28T10:26:06.156Z"
   },
   {
    "duration": 342,
    "start_time": "2022-07-28T10:26:06.194Z"
   },
   {
    "duration": 13,
    "start_time": "2022-07-28T10:26:06.539Z"
   },
   {
    "duration": 305,
    "start_time": "2022-07-28T10:26:06.554Z"
   },
   {
    "duration": 2,
    "start_time": "2022-07-28T10:26:06.861Z"
   },
   {
    "duration": 1061,
    "start_time": "2022-07-28T10:26:06.875Z"
   },
   {
    "duration": 16,
    "start_time": "2022-07-28T10:26:07.938Z"
   },
   {
    "duration": 18,
    "start_time": "2022-07-28T10:26:07.956Z"
   },
   {
    "duration": 27,
    "start_time": "2022-07-28T10:26:07.976Z"
   },
   {
    "duration": 13,
    "start_time": "2022-07-28T10:26:08.005Z"
   },
   {
    "duration": 23,
    "start_time": "2022-07-28T10:26:08.020Z"
   },
   {
    "duration": 3,
    "start_time": "2022-07-28T10:26:08.044Z"
   },
   {
    "duration": 675,
    "start_time": "2022-07-28T10:26:08.048Z"
   },
   {
    "duration": 25,
    "start_time": "2022-07-28T10:26:08.724Z"
   },
   {
    "duration": 44,
    "start_time": "2022-07-28T10:26:08.750Z"
   },
   {
    "duration": 191,
    "start_time": "2022-07-28T10:26:08.796Z"
   },
   {
    "duration": 4,
    "start_time": "2022-07-28T10:26:08.989Z"
   },
   {
    "duration": 167,
    "start_time": "2022-07-28T10:26:08.995Z"
   },
   {
    "duration": 9,
    "start_time": "2022-07-28T10:26:09.164Z"
   },
   {
    "duration": 856,
    "start_time": "2022-07-28T10:26:09.174Z"
   },
   {
    "duration": 949,
    "start_time": "2022-07-28T10:26:10.032Z"
   },
   {
    "duration": 14,
    "start_time": "2022-07-28T10:26:10.983Z"
   },
   {
    "duration": 183,
    "start_time": "2022-07-28T10:26:10.999Z"
   },
   {
    "duration": 8,
    "start_time": "2022-07-28T10:26:11.184Z"
   },
   {
    "duration": 12,
    "start_time": "2022-07-28T10:26:11.194Z"
   },
   {
    "duration": 162,
    "start_time": "2022-07-28T10:26:11.207Z"
   },
   {
    "duration": 16,
    "start_time": "2022-07-28T10:26:11.370Z"
   },
   {
    "duration": 179,
    "start_time": "2022-07-28T10:26:11.387Z"
   },
   {
    "duration": 25,
    "start_time": "2022-07-28T10:26:11.568Z"
   },
   {
    "duration": 215,
    "start_time": "2022-07-28T10:26:11.594Z"
   },
   {
    "duration": 19,
    "start_time": "2022-07-28T10:26:11.811Z"
   },
   {
    "duration": 209,
    "start_time": "2022-07-28T10:26:11.832Z"
   },
   {
    "duration": 16,
    "start_time": "2022-07-28T10:26:12.043Z"
   },
   {
    "duration": 188,
    "start_time": "2022-07-28T10:26:12.074Z"
   },
   {
    "duration": 21,
    "start_time": "2022-07-28T10:26:12.264Z"
   },
   {
    "duration": 195,
    "start_time": "2022-07-28T10:26:12.287Z"
   },
   {
    "duration": 13,
    "start_time": "2022-07-28T10:26:12.484Z"
   },
   {
    "duration": 243,
    "start_time": "2022-07-28T10:26:12.499Z"
   },
   {
    "duration": 13,
    "start_time": "2022-07-28T10:26:12.744Z"
   },
   {
    "duration": 145,
    "start_time": "2022-07-28T10:26:12.759Z"
   },
   {
    "duration": 13,
    "start_time": "2022-07-28T10:26:12.906Z"
   },
   {
    "duration": 144,
    "start_time": "2022-07-28T10:26:12.920Z"
   },
   {
    "duration": 10,
    "start_time": "2022-07-28T10:26:13.066Z"
   },
   {
    "duration": 15,
    "start_time": "2022-07-28T10:26:13.078Z"
   },
   {
    "duration": 7,
    "start_time": "2022-07-28T10:26:13.095Z"
   },
   {
    "duration": 9,
    "start_time": "2022-07-28T10:26:13.103Z"
   },
   {
    "duration": 70,
    "start_time": "2022-07-28T10:31:24.688Z"
   },
   {
    "duration": 8,
    "start_time": "2022-07-28T10:31:32.428Z"
   },
   {
    "duration": 10,
    "start_time": "2022-07-28T10:32:38.755Z"
   },
   {
    "duration": 9,
    "start_time": "2022-07-28T10:32:51.307Z"
   },
   {
    "duration": 87,
    "start_time": "2022-07-28T10:34:43.604Z"
   },
   {
    "duration": 7,
    "start_time": "2022-07-28T10:34:49.059Z"
   },
   {
    "duration": 4,
    "start_time": "2022-07-28T10:34:51.292Z"
   },
   {
    "duration": 7,
    "start_time": "2022-07-28T10:37:01.004Z"
   },
   {
    "duration": 6,
    "start_time": "2022-07-28T10:43:00.036Z"
   },
   {
    "duration": 4,
    "start_time": "2022-07-28T10:43:13.701Z"
   },
   {
    "duration": 6,
    "start_time": "2022-07-28T10:44:18.091Z"
   },
   {
    "duration": 8,
    "start_time": "2022-07-28T10:52:31.718Z"
   },
   {
    "duration": 4,
    "start_time": "2022-07-28T10:54:46.373Z"
   },
   {
    "duration": 7,
    "start_time": "2022-07-28T10:55:08.693Z"
   },
   {
    "duration": 96,
    "start_time": "2022-07-28T10:56:21.584Z"
   },
   {
    "duration": 51,
    "start_time": "2022-07-28T10:56:31.262Z"
   },
   {
    "duration": 5,
    "start_time": "2022-07-28T10:56:36.635Z"
   },
   {
    "duration": 93,
    "start_time": "2022-07-28T10:57:04.146Z"
   },
   {
    "duration": 4,
    "start_time": "2022-07-28T10:57:07.849Z"
   },
   {
    "duration": 5,
    "start_time": "2022-07-28T10:57:11.524Z"
   },
   {
    "duration": 7,
    "start_time": "2022-07-28T10:57:15.375Z"
   },
   {
    "duration": 4,
    "start_time": "2022-07-28T10:57:17.253Z"
   },
   {
    "duration": 4,
    "start_time": "2022-07-28T10:57:32.319Z"
   },
   {
    "duration": 5,
    "start_time": "2022-07-28T10:59:19.206Z"
   },
   {
    "duration": 1052,
    "start_time": "2022-07-28T11:34:14.888Z"
   },
   {
    "duration": 48,
    "start_time": "2022-07-28T11:34:15.942Z"
   },
   {
    "duration": 25,
    "start_time": "2022-07-28T11:34:15.991Z"
   },
   {
    "duration": 15,
    "start_time": "2022-07-28T11:34:16.018Z"
   },
   {
    "duration": 2,
    "start_time": "2022-07-28T11:34:16.035Z"
   },
   {
    "duration": 7,
    "start_time": "2022-07-28T11:34:16.038Z"
   },
   {
    "duration": 7,
    "start_time": "2022-07-28T11:34:16.046Z"
   },
   {
    "duration": 25,
    "start_time": "2022-07-28T11:34:16.055Z"
   },
   {
    "duration": 4,
    "start_time": "2022-07-28T11:34:16.082Z"
   },
   {
    "duration": 6,
    "start_time": "2022-07-28T11:34:16.088Z"
   },
   {
    "duration": 21,
    "start_time": "2022-07-28T11:34:16.095Z"
   },
   {
    "duration": 16,
    "start_time": "2022-07-28T11:34:16.118Z"
   },
   {
    "duration": 311,
    "start_time": "2022-07-28T11:34:16.135Z"
   },
   {
    "duration": 4,
    "start_time": "2022-07-28T11:34:16.448Z"
   },
   {
    "duration": 10,
    "start_time": "2022-07-28T11:34:16.454Z"
   },
   {
    "duration": 8,
    "start_time": "2022-07-28T11:34:16.473Z"
   },
   {
    "duration": 7,
    "start_time": "2022-07-28T11:34:16.483Z"
   },
   {
    "duration": 4,
    "start_time": "2022-07-28T11:34:16.492Z"
   },
   {
    "duration": 5,
    "start_time": "2022-07-28T11:34:16.497Z"
   },
   {
    "duration": 16,
    "start_time": "2022-07-28T11:34:16.504Z"
   },
   {
    "duration": 9,
    "start_time": "2022-07-28T11:34:16.521Z"
   },
   {
    "duration": 22,
    "start_time": "2022-07-28T11:34:16.531Z"
   },
   {
    "duration": 14,
    "start_time": "2022-07-28T11:34:16.573Z"
   },
   {
    "duration": 347,
    "start_time": "2022-07-28T11:34:16.589Z"
   },
   {
    "duration": 12,
    "start_time": "2022-07-28T11:34:16.938Z"
   },
   {
    "duration": 307,
    "start_time": "2022-07-28T11:34:16.952Z"
   },
   {
    "duration": 3,
    "start_time": "2022-07-28T11:34:17.261Z"
   },
   {
    "duration": 1071,
    "start_time": "2022-07-28T11:34:17.274Z"
   },
   {
    "duration": 17,
    "start_time": "2022-07-28T11:34:18.347Z"
   },
   {
    "duration": 5,
    "start_time": "2022-07-28T11:34:18.373Z"
   },
   {
    "duration": 26,
    "start_time": "2022-07-28T11:34:18.380Z"
   },
   {
    "duration": 10,
    "start_time": "2022-07-28T11:34:18.407Z"
   },
   {
    "duration": 16,
    "start_time": "2022-07-28T11:34:18.418Z"
   },
   {
    "duration": 3,
    "start_time": "2022-07-28T11:34:18.435Z"
   },
   {
    "duration": 648,
    "start_time": "2022-07-28T11:34:18.439Z"
   },
   {
    "duration": 25,
    "start_time": "2022-07-28T11:34:19.088Z"
   },
   {
    "duration": 19,
    "start_time": "2022-07-28T11:34:19.114Z"
   },
   {
    "duration": 175,
    "start_time": "2022-07-28T11:34:19.134Z"
   },
   {
    "duration": 4,
    "start_time": "2022-07-28T11:34:19.310Z"
   },
   {
    "duration": 150,
    "start_time": "2022-07-28T11:34:19.316Z"
   },
   {
    "duration": 6,
    "start_time": "2022-07-28T11:34:19.468Z"
   },
   {
    "duration": 838,
    "start_time": "2022-07-28T11:34:19.476Z"
   },
   {
    "duration": 928,
    "start_time": "2022-07-28T11:34:20.315Z"
   },
   {
    "duration": 30,
    "start_time": "2022-07-28T11:34:21.244Z"
   },
   {
    "duration": 181,
    "start_time": "2022-07-28T11:34:21.276Z"
   },
   {
    "duration": 17,
    "start_time": "2022-07-28T11:34:21.459Z"
   },
   {
    "duration": 19,
    "start_time": "2022-07-28T11:34:21.478Z"
   },
   {
    "duration": 176,
    "start_time": "2022-07-28T11:34:21.499Z"
   },
   {
    "duration": 14,
    "start_time": "2022-07-28T11:34:21.677Z"
   },
   {
    "duration": 167,
    "start_time": "2022-07-28T11:34:21.692Z"
   },
   {
    "duration": 16,
    "start_time": "2022-07-28T11:34:21.860Z"
   },
   {
    "duration": 166,
    "start_time": "2022-07-28T11:34:21.878Z"
   },
   {
    "duration": 14,
    "start_time": "2022-07-28T11:34:22.046Z"
   },
   {
    "duration": 167,
    "start_time": "2022-07-28T11:34:22.061Z"
   },
   {
    "duration": 14,
    "start_time": "2022-07-28T11:34:22.230Z"
   },
   {
    "duration": 183,
    "start_time": "2022-07-28T11:34:22.245Z"
   },
   {
    "duration": 14,
    "start_time": "2022-07-28T11:34:22.429Z"
   },
   {
    "duration": 169,
    "start_time": "2022-07-28T11:34:22.444Z"
   },
   {
    "duration": 14,
    "start_time": "2022-07-28T11:34:22.614Z"
   },
   {
    "duration": 235,
    "start_time": "2022-07-28T11:34:22.629Z"
   },
   {
    "duration": 17,
    "start_time": "2022-07-28T11:34:22.866Z"
   },
   {
    "duration": 136,
    "start_time": "2022-07-28T11:34:22.884Z"
   },
   {
    "duration": 14,
    "start_time": "2022-07-28T11:34:23.021Z"
   },
   {
    "duration": 140,
    "start_time": "2022-07-28T11:34:23.037Z"
   },
   {
    "duration": 7,
    "start_time": "2022-07-28T11:34:23.179Z"
   },
   {
    "duration": 16,
    "start_time": "2022-07-28T11:34:23.188Z"
   },
   {
    "duration": 20,
    "start_time": "2022-07-28T11:34:23.206Z"
   },
   {
    "duration": 21,
    "start_time": "2022-07-28T11:34:23.228Z"
   },
   {
    "duration": 38,
    "start_time": "2022-07-28T11:34:23.251Z"
   },
   {
    "duration": 13,
    "start_time": "2022-07-28T11:34:23.291Z"
   },
   {
    "duration": 18,
    "start_time": "2022-07-28T11:34:23.306Z"
   },
   {
    "duration": 14,
    "start_time": "2022-07-28T11:34:23.326Z"
   },
   {
    "duration": 1402,
    "start_time": "2022-07-29T06:51:04.738Z"
   },
   {
    "duration": 180,
    "start_time": "2022-07-29T06:51:06.143Z"
   },
   {
    "duration": 23,
    "start_time": "2022-07-29T06:51:06.325Z"
   },
   {
    "duration": 16,
    "start_time": "2022-07-29T06:51:06.351Z"
   },
   {
    "duration": 3,
    "start_time": "2022-07-29T06:51:06.369Z"
   },
   {
    "duration": 9,
    "start_time": "2022-07-29T06:51:06.374Z"
   },
   {
    "duration": 8,
    "start_time": "2022-07-29T06:51:06.404Z"
   },
   {
    "duration": 20,
    "start_time": "2022-07-29T06:51:06.414Z"
   },
   {
    "duration": 6,
    "start_time": "2022-07-29T06:51:06.436Z"
   },
   {
    "duration": 6,
    "start_time": "2022-07-29T06:51:06.446Z"
   },
   {
    "duration": 51,
    "start_time": "2022-07-29T06:51:06.454Z"
   },
   {
    "duration": 23,
    "start_time": "2022-07-29T06:51:06.508Z"
   },
   {
    "duration": 385,
    "start_time": "2022-07-29T06:51:06.534Z"
   },
   {
    "duration": 5,
    "start_time": "2022-07-29T06:51:06.921Z"
   },
   {
    "duration": 11,
    "start_time": "2022-07-29T06:51:06.928Z"
   },
   {
    "duration": 10,
    "start_time": "2022-07-29T06:51:06.941Z"
   },
   {
    "duration": 9,
    "start_time": "2022-07-29T06:51:06.953Z"
   },
   {
    "duration": 4,
    "start_time": "2022-07-29T06:51:06.964Z"
   },
   {
    "duration": 37,
    "start_time": "2022-07-29T06:51:06.970Z"
   },
   {
    "duration": 10,
    "start_time": "2022-07-29T06:51:07.009Z"
   },
   {
    "duration": 6,
    "start_time": "2022-07-29T06:51:07.021Z"
   },
   {
    "duration": 21,
    "start_time": "2022-07-29T06:51:07.029Z"
   },
   {
    "duration": 16,
    "start_time": "2022-07-29T06:51:07.052Z"
   },
   {
    "duration": 412,
    "start_time": "2022-07-29T06:51:07.069Z"
   },
   {
    "duration": 21,
    "start_time": "2022-07-29T06:51:07.483Z"
   },
   {
    "duration": 358,
    "start_time": "2022-07-29T06:51:07.506Z"
   },
   {
    "duration": 2,
    "start_time": "2022-07-29T06:51:07.866Z"
   },
   {
    "duration": 1325,
    "start_time": "2022-07-29T06:51:07.872Z"
   },
   {
    "duration": 23,
    "start_time": "2022-07-29T06:51:09.199Z"
   },
   {
    "duration": 7,
    "start_time": "2022-07-29T06:51:09.223Z"
   },
   {
    "duration": 29,
    "start_time": "2022-07-29T06:51:09.232Z"
   },
   {
    "duration": 11,
    "start_time": "2022-07-29T06:51:09.263Z"
   },
   {
    "duration": 18,
    "start_time": "2022-07-29T06:51:09.304Z"
   },
   {
    "duration": 2,
    "start_time": "2022-07-29T06:51:09.324Z"
   },
   {
    "duration": 806,
    "start_time": "2022-07-29T06:51:09.328Z"
   },
   {
    "duration": 38,
    "start_time": "2022-07-29T06:51:10.137Z"
   },
   {
    "duration": 49,
    "start_time": "2022-07-29T06:51:10.176Z"
   },
   {
    "duration": 198,
    "start_time": "2022-07-29T06:51:10.226Z"
   },
   {
    "duration": 4,
    "start_time": "2022-07-29T06:51:10.426Z"
   },
   {
    "duration": 207,
    "start_time": "2022-07-29T06:51:10.432Z"
   },
   {
    "duration": 5,
    "start_time": "2022-07-29T06:51:10.640Z"
   },
   {
    "duration": 1067,
    "start_time": "2022-07-29T06:51:10.646Z"
   },
   {
    "duration": 1146,
    "start_time": "2022-07-29T06:51:11.715Z"
   },
   {
    "duration": 17,
    "start_time": "2022-07-29T06:51:12.862Z"
   },
   {
    "duration": 218,
    "start_time": "2022-07-29T06:51:12.881Z"
   },
   {
    "duration": 10,
    "start_time": "2022-07-29T06:51:13.104Z"
   },
   {
    "duration": 16,
    "start_time": "2022-07-29T06:51:13.116Z"
   },
   {
    "duration": 204,
    "start_time": "2022-07-29T06:51:13.133Z"
   },
   {
    "duration": 16,
    "start_time": "2022-07-29T06:51:13.339Z"
   },
   {
    "duration": 211,
    "start_time": "2022-07-29T06:51:13.357Z"
   },
   {
    "duration": 15,
    "start_time": "2022-07-29T06:51:13.570Z"
   },
   {
    "duration": 200,
    "start_time": "2022-07-29T06:51:13.587Z"
   },
   {
    "duration": 23,
    "start_time": "2022-07-29T06:51:13.789Z"
   },
   {
    "duration": 213,
    "start_time": "2022-07-29T06:51:13.814Z"
   },
   {
    "duration": 17,
    "start_time": "2022-07-29T06:51:14.028Z"
   },
   {
    "duration": 234,
    "start_time": "2022-07-29T06:51:14.047Z"
   },
   {
    "duration": 25,
    "start_time": "2022-07-29T06:51:14.282Z"
   },
   {
    "duration": 203,
    "start_time": "2022-07-29T06:51:14.310Z"
   },
   {
    "duration": 16,
    "start_time": "2022-07-29T06:51:14.514Z"
   },
   {
    "duration": 287,
    "start_time": "2022-07-29T06:51:14.532Z"
   },
   {
    "duration": 16,
    "start_time": "2022-07-29T06:51:14.822Z"
   },
   {
    "duration": 167,
    "start_time": "2022-07-29T06:51:14.841Z"
   },
   {
    "duration": 17,
    "start_time": "2022-07-29T06:51:15.010Z"
   },
   {
    "duration": 178,
    "start_time": "2022-07-29T06:51:15.029Z"
   },
   {
    "duration": 8,
    "start_time": "2022-07-29T06:51:15.209Z"
   },
   {
    "duration": 8,
    "start_time": "2022-07-29T06:51:15.220Z"
   },
   {
    "duration": 6,
    "start_time": "2022-07-29T06:51:15.230Z"
   },
   {
    "duration": 6,
    "start_time": "2022-07-29T06:51:15.237Z"
   },
   {
    "duration": 11,
    "start_time": "2022-07-29T06:51:15.245Z"
   },
   {
    "duration": 4,
    "start_time": "2022-07-29T06:51:15.258Z"
   },
   {
    "duration": 42,
    "start_time": "2022-07-29T06:51:15.264Z"
   },
   {
    "duration": 5,
    "start_time": "2022-07-29T06:51:15.308Z"
   },
   {
    "duration": 1202,
    "start_time": "2022-07-29T06:51:29.195Z"
   },
   {
    "duration": 52,
    "start_time": "2022-07-29T06:51:30.399Z"
   },
   {
    "duration": 22,
    "start_time": "2022-07-29T06:51:30.453Z"
   },
   {
    "duration": 14,
    "start_time": "2022-07-29T06:51:30.477Z"
   },
   {
    "duration": 3,
    "start_time": "2022-07-29T06:51:30.492Z"
   },
   {
    "duration": 14,
    "start_time": "2022-07-29T06:51:30.497Z"
   },
   {
    "duration": 18,
    "start_time": "2022-07-29T06:51:30.513Z"
   },
   {
    "duration": 23,
    "start_time": "2022-07-29T06:51:30.532Z"
   },
   {
    "duration": 10,
    "start_time": "2022-07-29T06:51:30.557Z"
   },
   {
    "duration": 12,
    "start_time": "2022-07-29T06:51:30.570Z"
   },
   {
    "duration": 27,
    "start_time": "2022-07-29T06:51:30.584Z"
   },
   {
    "duration": 19,
    "start_time": "2022-07-29T06:51:30.613Z"
   },
   {
    "duration": 356,
    "start_time": "2022-07-29T06:51:30.634Z"
   },
   {
    "duration": 5,
    "start_time": "2022-07-29T06:51:30.992Z"
   },
   {
    "duration": 18,
    "start_time": "2022-07-29T06:51:31.005Z"
   },
   {
    "duration": 15,
    "start_time": "2022-07-29T06:51:31.025Z"
   },
   {
    "duration": 10,
    "start_time": "2022-07-29T06:51:31.042Z"
   },
   {
    "duration": 6,
    "start_time": "2022-07-29T06:51:31.053Z"
   },
   {
    "duration": 14,
    "start_time": "2022-07-29T06:51:31.061Z"
   },
   {
    "duration": 14,
    "start_time": "2022-07-29T06:51:31.077Z"
   },
   {
    "duration": 6,
    "start_time": "2022-07-29T06:51:31.104Z"
   },
   {
    "duration": 34,
    "start_time": "2022-07-29T06:51:31.111Z"
   },
   {
    "duration": 22,
    "start_time": "2022-07-29T06:51:31.146Z"
   },
   {
    "duration": 377,
    "start_time": "2022-07-29T06:51:31.170Z"
   },
   {
    "duration": 12,
    "start_time": "2022-07-29T06:51:31.548Z"
   },
   {
    "duration": 350,
    "start_time": "2022-07-29T06:51:31.562Z"
   },
   {
    "duration": 3,
    "start_time": "2022-07-29T06:51:31.913Z"
   },
   {
    "duration": 1266,
    "start_time": "2022-07-29T06:51:31.919Z"
   },
   {
    "duration": 26,
    "start_time": "2022-07-29T06:51:33.187Z"
   },
   {
    "duration": 6,
    "start_time": "2022-07-29T06:51:33.215Z"
   },
   {
    "duration": 43,
    "start_time": "2022-07-29T06:51:33.223Z"
   },
   {
    "duration": 12,
    "start_time": "2022-07-29T06:51:33.268Z"
   },
   {
    "duration": 27,
    "start_time": "2022-07-29T06:51:33.282Z"
   },
   {
    "duration": 3,
    "start_time": "2022-07-29T06:51:33.311Z"
   },
   {
    "duration": 812,
    "start_time": "2022-07-29T06:51:33.316Z"
   },
   {
    "duration": 33,
    "start_time": "2022-07-29T06:51:34.130Z"
   },
   {
    "duration": 43,
    "start_time": "2022-07-29T06:51:34.165Z"
   },
   {
    "duration": 173,
    "start_time": "2022-07-29T06:51:34.210Z"
   },
   {
    "duration": 4,
    "start_time": "2022-07-29T06:51:34.385Z"
   },
   {
    "duration": 183,
    "start_time": "2022-07-29T06:51:34.391Z"
   },
   {
    "duration": 5,
    "start_time": "2022-07-29T06:51:34.576Z"
   },
   {
    "duration": 1082,
    "start_time": "2022-07-29T06:51:34.583Z"
   },
   {
    "duration": 1155,
    "start_time": "2022-07-29T06:51:35.666Z"
   },
   {
    "duration": 17,
    "start_time": "2022-07-29T06:51:36.824Z"
   },
   {
    "duration": 226,
    "start_time": "2022-07-29T06:51:36.843Z"
   },
   {
    "duration": 11,
    "start_time": "2022-07-29T06:51:37.071Z"
   },
   {
    "duration": 27,
    "start_time": "2022-07-29T06:51:37.084Z"
   },
   {
    "duration": 191,
    "start_time": "2022-07-29T06:51:37.113Z"
   },
   {
    "duration": 15,
    "start_time": "2022-07-29T06:51:37.306Z"
   },
   {
    "duration": 195,
    "start_time": "2022-07-29T06:51:37.323Z"
   },
   {
    "duration": 15,
    "start_time": "2022-07-29T06:51:37.519Z"
   },
   {
    "duration": 182,
    "start_time": "2022-07-29T06:51:37.536Z"
   },
   {
    "duration": 17,
    "start_time": "2022-07-29T06:51:37.720Z"
   },
   {
    "duration": 219,
    "start_time": "2022-07-29T06:51:37.738Z"
   },
   {
    "duration": 17,
    "start_time": "2022-07-29T06:51:37.959Z"
   },
   {
    "duration": 235,
    "start_time": "2022-07-29T06:51:37.978Z"
   },
   {
    "duration": 17,
    "start_time": "2022-07-29T06:51:38.215Z"
   },
   {
    "duration": 245,
    "start_time": "2022-07-29T06:51:38.234Z"
   },
   {
    "duration": 24,
    "start_time": "2022-07-29T06:51:38.481Z"
   },
   {
    "duration": 288,
    "start_time": "2022-07-29T06:51:38.507Z"
   },
   {
    "duration": 21,
    "start_time": "2022-07-29T06:51:38.797Z"
   },
   {
    "duration": 174,
    "start_time": "2022-07-29T06:51:38.821Z"
   },
   {
    "duration": 19,
    "start_time": "2022-07-29T06:51:38.997Z"
   },
   {
    "duration": 169,
    "start_time": "2022-07-29T06:51:39.018Z"
   },
   {
    "duration": 17,
    "start_time": "2022-07-29T06:51:39.189Z"
   },
   {
    "duration": 7,
    "start_time": "2022-07-29T06:51:39.208Z"
   },
   {
    "duration": 8,
    "start_time": "2022-07-29T06:51:39.217Z"
   },
   {
    "duration": 10,
    "start_time": "2022-07-29T06:51:39.227Z"
   },
   {
    "duration": 10,
    "start_time": "2022-07-29T06:51:39.239Z"
   },
   {
    "duration": 5,
    "start_time": "2022-07-29T06:51:39.251Z"
   },
   {
    "duration": 8,
    "start_time": "2022-07-29T06:51:39.258Z"
   },
   {
    "duration": 9,
    "start_time": "2022-07-29T06:51:39.268Z"
   },
   {
    "duration": 1276,
    "start_time": "2022-07-30T18:35:02.940Z"
   },
   {
    "duration": 90,
    "start_time": "2022-07-30T18:35:04.218Z"
   },
   {
    "duration": 19,
    "start_time": "2022-07-30T18:35:04.309Z"
   },
   {
    "duration": 13,
    "start_time": "2022-07-30T18:35:04.330Z"
   },
   {
    "duration": 3,
    "start_time": "2022-07-30T18:35:04.345Z"
   },
   {
    "duration": 11,
    "start_time": "2022-07-30T18:35:04.349Z"
   },
   {
    "duration": 7,
    "start_time": "2022-07-30T18:35:06.475Z"
   },
   {
    "duration": 14,
    "start_time": "2022-07-30T18:43:42.411Z"
   },
   {
    "duration": 19,
    "start_time": "2022-07-30T18:54:52.706Z"
   },
   {
    "duration": 23,
    "start_time": "2022-07-30T18:55:14.531Z"
   },
   {
    "duration": 19,
    "start_time": "2022-07-30T18:56:37.521Z"
   },
   {
    "duration": 13,
    "start_time": "2022-07-30T18:57:02.178Z"
   },
   {
    "duration": 18,
    "start_time": "2022-07-30T18:57:41.858Z"
   },
   {
    "duration": 17,
    "start_time": "2022-07-30T18:57:49.674Z"
   },
   {
    "duration": 11,
    "start_time": "2022-07-30T19:27:05.299Z"
   },
   {
    "duration": 7,
    "start_time": "2022-07-30T19:34:34.111Z"
   },
   {
    "duration": 13,
    "start_time": "2022-07-30T19:34:51.231Z"
   },
   {
    "duration": 6,
    "start_time": "2022-07-30T19:35:15.861Z"
   },
   {
    "duration": 16,
    "start_time": "2022-07-30T19:35:50.045Z"
   },
   {
    "duration": 922,
    "start_time": "2022-07-30T19:38:44.879Z"
   },
   {
    "duration": 9,
    "start_time": "2022-07-30T19:39:25.864Z"
   },
   {
    "duration": 10,
    "start_time": "2022-07-30T19:40:17.318Z"
   },
   {
    "duration": 13,
    "start_time": "2022-07-30T19:41:29.100Z"
   },
   {
    "duration": 63,
    "start_time": "2022-07-30T19:42:22.348Z"
   },
   {
    "duration": 49,
    "start_time": "2022-07-30T19:42:28.716Z"
   },
   {
    "duration": 21,
    "start_time": "2022-07-30T19:42:59.796Z"
   },
   {
    "duration": 13,
    "start_time": "2022-07-30T19:43:07.541Z"
   },
   {
    "duration": 825,
    "start_time": "2022-07-30T19:43:22.318Z"
   },
   {
    "duration": 3,
    "start_time": "2022-07-30T19:43:50.614Z"
   },
   {
    "duration": 17,
    "start_time": "2022-07-30T19:49:47.550Z"
   },
   {
    "duration": 2,
    "start_time": "2022-07-30T19:51:47.069Z"
   },
   {
    "duration": 10,
    "start_time": "2022-07-30T19:52:32.873Z"
   },
   {
    "duration": 15,
    "start_time": "2022-07-30T19:52:39.061Z"
   },
   {
    "duration": 12,
    "start_time": "2022-07-30T19:52:47.684Z"
   },
   {
    "duration": 9,
    "start_time": "2022-07-30T19:54:42.469Z"
   },
   {
    "duration": 3,
    "start_time": "2022-07-30T20:02:39.312Z"
   },
   {
    "duration": 64,
    "start_time": "2022-07-30T20:02:39.318Z"
   },
   {
    "duration": 27,
    "start_time": "2022-07-30T20:02:39.384Z"
   },
   {
    "duration": 20,
    "start_time": "2022-07-30T20:02:39.414Z"
   },
   {
    "duration": 4,
    "start_time": "2022-07-30T20:02:39.436Z"
   },
   {
    "duration": 6,
    "start_time": "2022-07-30T20:02:39.441Z"
   },
   {
    "duration": 7,
    "start_time": "2022-07-30T20:02:39.449Z"
   },
   {
    "duration": 17,
    "start_time": "2022-07-30T20:02:39.458Z"
   },
   {
    "duration": 5,
    "start_time": "2022-07-30T20:02:39.478Z"
   },
   {
    "duration": 7,
    "start_time": "2022-07-30T20:02:39.504Z"
   },
   {
    "duration": 18,
    "start_time": "2022-07-30T20:02:39.513Z"
   },
   {
    "duration": 17,
    "start_time": "2022-07-30T20:02:39.532Z"
   },
   {
    "duration": 343,
    "start_time": "2022-07-30T20:02:39.551Z"
   },
   {
    "duration": 17,
    "start_time": "2022-07-30T20:02:39.896Z"
   },
   {
    "duration": 12,
    "start_time": "2022-07-30T20:02:39.914Z"
   },
   {
    "duration": 9,
    "start_time": "2022-07-30T20:02:39.928Z"
   },
   {
    "duration": 9,
    "start_time": "2022-07-30T20:02:39.938Z"
   },
   {
    "duration": 5,
    "start_time": "2022-07-30T20:02:39.948Z"
   },
   {
    "duration": 9,
    "start_time": "2022-07-30T20:02:39.954Z"
   },
   {
    "duration": 19,
    "start_time": "2022-07-30T20:02:39.964Z"
   },
   {
    "duration": 26,
    "start_time": "2022-07-30T20:02:39.985Z"
   },
   {
    "duration": 15,
    "start_time": "2022-07-30T20:02:40.012Z"
   },
   {
    "duration": 16,
    "start_time": "2022-07-30T20:02:40.028Z"
   },
   {
    "duration": 4,
    "start_time": "2022-07-30T20:02:40.047Z"
   },
   {
    "duration": 24,
    "start_time": "2022-07-30T20:02:40.053Z"
   },
   {
    "duration": 48,
    "start_time": "2022-07-30T20:02:40.079Z"
   },
   {
    "duration": 350,
    "start_time": "2022-07-30T20:02:40.129Z"
   },
   {
    "duration": 31,
    "start_time": "2022-07-30T20:02:40.481Z"
   },
   {
    "duration": 321,
    "start_time": "2022-07-30T20:02:40.514Z"
   },
   {
    "duration": 2,
    "start_time": "2022-07-30T20:02:40.837Z"
   },
   {
    "duration": 1292,
    "start_time": "2022-07-30T20:02:40.841Z"
   },
   {
    "duration": 19,
    "start_time": "2022-07-30T20:02:42.134Z"
   },
   {
    "duration": 7,
    "start_time": "2022-07-30T20:02:42.154Z"
   },
   {
    "duration": 44,
    "start_time": "2022-07-30T20:02:42.163Z"
   },
   {
    "duration": 13,
    "start_time": "2022-07-30T20:02:42.209Z"
   },
   {
    "duration": 38,
    "start_time": "2022-07-30T20:02:42.223Z"
   },
   {
    "duration": 2,
    "start_time": "2022-07-30T20:02:42.263Z"
   },
   {
    "duration": 21,
    "start_time": "2022-07-30T20:02:45.429Z"
   },
   {
    "duration": 24,
    "start_time": "2022-07-30T20:07:06.445Z"
   },
   {
    "duration": 19,
    "start_time": "2022-07-30T20:08:12.680Z"
   },
   {
    "duration": 316,
    "start_time": "2022-07-30T20:09:23.397Z"
   },
   {
    "duration": 234,
    "start_time": "2022-07-30T20:11:11.525Z"
   },
   {
    "duration": 12,
    "start_time": "2022-07-30T20:11:53.854Z"
   },
   {
    "duration": 222,
    "start_time": "2022-07-30T20:12:11.326Z"
   },
   {
    "duration": 164,
    "start_time": "2022-07-30T20:12:31.573Z"
   },
   {
    "duration": 224,
    "start_time": "2022-07-30T20:13:25.127Z"
   },
   {
    "duration": 238,
    "start_time": "2022-07-30T20:13:33.173Z"
   },
   {
    "duration": 311,
    "start_time": "2022-07-30T20:15:44.462Z"
   },
   {
    "duration": 235,
    "start_time": "2022-07-30T20:16:00.246Z"
   },
   {
    "duration": 1358,
    "start_time": "2022-07-30T20:17:54.759Z"
   },
   {
    "duration": 1254,
    "start_time": "2022-07-30T20:18:09.054Z"
   },
   {
    "duration": 3,
    "start_time": "2022-07-30T20:18:59.323Z"
   },
   {
    "duration": 53,
    "start_time": "2022-07-30T20:18:59.330Z"
   },
   {
    "duration": 16,
    "start_time": "2022-07-30T20:18:59.385Z"
   },
   {
    "duration": 34,
    "start_time": "2022-07-30T20:18:59.403Z"
   },
   {
    "duration": 4,
    "start_time": "2022-07-30T20:18:59.440Z"
   },
   {
    "duration": 13,
    "start_time": "2022-07-30T20:18:59.445Z"
   },
   {
    "duration": 11,
    "start_time": "2022-07-30T20:18:59.459Z"
   },
   {
    "duration": 24,
    "start_time": "2022-07-30T20:18:59.472Z"
   },
   {
    "duration": 22,
    "start_time": "2022-07-30T20:18:59.499Z"
   },
   {
    "duration": 10,
    "start_time": "2022-07-30T20:18:59.522Z"
   },
   {
    "duration": 22,
    "start_time": "2022-07-30T20:18:59.535Z"
   },
   {
    "duration": 16,
    "start_time": "2022-07-30T20:18:59.558Z"
   },
   {
    "duration": 356,
    "start_time": "2022-07-30T20:18:59.576Z"
   },
   {
    "duration": 4,
    "start_time": "2022-07-30T20:18:59.933Z"
   },
   {
    "duration": 9,
    "start_time": "2022-07-30T20:18:59.939Z"
   },
   {
    "duration": 13,
    "start_time": "2022-07-30T20:18:59.949Z"
   },
   {
    "duration": 8,
    "start_time": "2022-07-30T20:18:59.963Z"
   },
   {
    "duration": 9,
    "start_time": "2022-07-30T20:18:59.998Z"
   },
   {
    "duration": 6,
    "start_time": "2022-07-30T20:19:00.009Z"
   },
   {
    "duration": 26,
    "start_time": "2022-07-30T20:19:00.018Z"
   },
   {
    "duration": 10,
    "start_time": "2022-07-30T20:19:00.046Z"
   },
   {
    "duration": 12,
    "start_time": "2022-07-30T20:19:00.059Z"
   },
   {
    "duration": 9,
    "start_time": "2022-07-30T20:19:00.072Z"
   },
   {
    "duration": 8,
    "start_time": "2022-07-30T20:19:00.082Z"
   },
   {
    "duration": 37,
    "start_time": "2022-07-30T20:19:00.101Z"
   },
   {
    "duration": 18,
    "start_time": "2022-07-30T20:19:00.140Z"
   },
   {
    "duration": 348,
    "start_time": "2022-07-30T20:19:00.160Z"
   },
   {
    "duration": 18,
    "start_time": "2022-07-30T20:19:00.518Z"
   },
   {
    "duration": 396,
    "start_time": "2022-07-30T20:19:00.540Z"
   },
   {
    "duration": 3,
    "start_time": "2022-07-30T20:19:00.938Z"
   },
   {
    "duration": 1395,
    "start_time": "2022-07-30T20:19:00.943Z"
   },
   {
    "duration": 18,
    "start_time": "2022-07-30T20:19:02.340Z"
   },
   {
    "duration": 5,
    "start_time": "2022-07-30T20:19:02.360Z"
   },
   {
    "duration": 51,
    "start_time": "2022-07-30T20:19:02.367Z"
   },
   {
    "duration": 11,
    "start_time": "2022-07-30T20:19:02.420Z"
   },
   {
    "duration": 25,
    "start_time": "2022-07-30T20:19:02.433Z"
   },
   {
    "duration": 7,
    "start_time": "2022-07-30T20:19:02.459Z"
   },
   {
    "duration": 47,
    "start_time": "2022-07-30T20:19:02.468Z"
   },
   {
    "duration": 256,
    "start_time": "2022-07-30T20:19:02.518Z"
   },
   {
    "duration": 356,
    "start_time": "2022-07-30T20:19:05.061Z"
   },
   {
    "duration": 20,
    "start_time": "2022-07-30T20:19:32.894Z"
   },
   {
    "duration": 20,
    "start_time": "2022-07-30T20:20:28.895Z"
   },
   {
    "duration": 3,
    "start_time": "2022-07-30T20:20:37.447Z"
   },
   {
    "duration": 65,
    "start_time": "2022-07-30T20:20:37.452Z"
   },
   {
    "duration": 20,
    "start_time": "2022-07-30T20:20:37.519Z"
   },
   {
    "duration": 16,
    "start_time": "2022-07-30T20:20:37.540Z"
   },
   {
    "duration": 3,
    "start_time": "2022-07-30T20:20:37.558Z"
   },
   {
    "duration": 10,
    "start_time": "2022-07-30T20:20:37.562Z"
   },
   {
    "duration": 38,
    "start_time": "2022-07-30T20:20:37.573Z"
   },
   {
    "duration": 24,
    "start_time": "2022-07-30T20:20:37.614Z"
   },
   {
    "duration": 9,
    "start_time": "2022-07-30T20:20:37.640Z"
   },
   {
    "duration": 7,
    "start_time": "2022-07-30T20:20:37.650Z"
   },
   {
    "duration": 17,
    "start_time": "2022-07-30T20:20:37.661Z"
   },
   {
    "duration": 42,
    "start_time": "2022-07-30T20:20:37.680Z"
   },
   {
    "duration": 347,
    "start_time": "2022-07-30T20:20:37.724Z"
   },
   {
    "duration": 5,
    "start_time": "2022-07-30T20:20:38.072Z"
   },
   {
    "duration": 36,
    "start_time": "2022-07-30T20:20:38.079Z"
   },
   {
    "duration": 10,
    "start_time": "2022-07-30T20:20:38.117Z"
   },
   {
    "duration": 9,
    "start_time": "2022-07-30T20:20:38.129Z"
   },
   {
    "duration": 7,
    "start_time": "2022-07-30T20:20:38.139Z"
   },
   {
    "duration": 9,
    "start_time": "2022-07-30T20:20:38.147Z"
   },
   {
    "duration": 11,
    "start_time": "2022-07-30T20:20:38.157Z"
   },
   {
    "duration": 4,
    "start_time": "2022-07-30T20:20:38.170Z"
   },
   {
    "duration": 27,
    "start_time": "2022-07-30T20:20:38.176Z"
   },
   {
    "duration": 19,
    "start_time": "2022-07-30T20:20:38.205Z"
   },
   {
    "duration": 6,
    "start_time": "2022-07-30T20:20:38.225Z"
   },
   {
    "duration": 20,
    "start_time": "2022-07-30T20:20:38.232Z"
   },
   {
    "duration": 14,
    "start_time": "2022-07-30T20:20:38.254Z"
   },
   {
    "duration": 374,
    "start_time": "2022-07-30T20:20:38.270Z"
   },
   {
    "duration": 10,
    "start_time": "2022-07-30T20:20:38.646Z"
   },
   {
    "duration": 392,
    "start_time": "2022-07-30T20:20:38.660Z"
   },
   {
    "duration": 3,
    "start_time": "2022-07-30T20:20:39.055Z"
   },
   {
    "duration": 1402,
    "start_time": "2022-07-30T20:20:39.060Z"
   },
   {
    "duration": 19,
    "start_time": "2022-07-30T20:20:40.464Z"
   },
   {
    "duration": 15,
    "start_time": "2022-07-30T20:20:40.497Z"
   },
   {
    "duration": 43,
    "start_time": "2022-07-30T20:20:40.513Z"
   },
   {
    "duration": 11,
    "start_time": "2022-07-30T20:20:40.558Z"
   },
   {
    "duration": 35,
    "start_time": "2022-07-30T20:20:40.571Z"
   },
   {
    "duration": 9,
    "start_time": "2022-07-30T20:20:40.608Z"
   },
   {
    "duration": 18,
    "start_time": "2022-07-30T20:20:40.618Z"
   },
   {
    "duration": 236,
    "start_time": "2022-07-30T20:20:40.638Z"
   },
   {
    "duration": 248,
    "start_time": "2022-07-30T20:20:40.876Z"
   },
   {
    "duration": 25,
    "start_time": "2022-07-30T20:20:41.126Z"
   },
   {
    "duration": 21,
    "start_time": "2022-07-30T20:20:41.152Z"
   },
   {
    "duration": 190,
    "start_time": "2022-07-30T20:20:43.380Z"
   },
   {
    "duration": 181,
    "start_time": "2022-07-30T20:21:12.471Z"
   },
   {
    "duration": 4,
    "start_time": "2022-07-30T20:21:52.673Z"
   },
   {
    "duration": 72,
    "start_time": "2022-07-30T20:21:52.684Z"
   },
   {
    "duration": 17,
    "start_time": "2022-07-30T20:21:52.758Z"
   },
   {
    "duration": 34,
    "start_time": "2022-07-30T20:21:52.777Z"
   },
   {
    "duration": 13,
    "start_time": "2022-07-30T20:21:52.814Z"
   },
   {
    "duration": 7,
    "start_time": "2022-07-30T20:21:52.829Z"
   },
   {
    "duration": 17,
    "start_time": "2022-07-30T20:21:52.838Z"
   },
   {
    "duration": 23,
    "start_time": "2022-07-30T20:21:52.856Z"
   },
   {
    "duration": 7,
    "start_time": "2022-07-30T20:21:52.882Z"
   },
   {
    "duration": 28,
    "start_time": "2022-07-30T20:21:52.891Z"
   },
   {
    "duration": 16,
    "start_time": "2022-07-30T20:21:52.922Z"
   },
   {
    "duration": 17,
    "start_time": "2022-07-30T20:21:52.939Z"
   },
   {
    "duration": 388,
    "start_time": "2022-07-30T20:21:52.959Z"
   },
   {
    "duration": 5,
    "start_time": "2022-07-30T20:21:53.349Z"
   },
   {
    "duration": 9,
    "start_time": "2022-07-30T20:21:53.355Z"
   },
   {
    "duration": 9,
    "start_time": "2022-07-30T20:21:53.366Z"
   },
   {
    "duration": 38,
    "start_time": "2022-07-30T20:21:53.377Z"
   },
   {
    "duration": 15,
    "start_time": "2022-07-30T20:21:53.418Z"
   },
   {
    "duration": 5,
    "start_time": "2022-07-30T20:21:53.436Z"
   },
   {
    "duration": 9,
    "start_time": "2022-07-30T20:21:53.443Z"
   },
   {
    "duration": 6,
    "start_time": "2022-07-30T20:21:53.454Z"
   },
   {
    "duration": 18,
    "start_time": "2022-07-30T20:21:53.462Z"
   },
   {
    "duration": 43,
    "start_time": "2022-07-30T20:21:53.482Z"
   },
   {
    "duration": 7,
    "start_time": "2022-07-30T20:21:53.527Z"
   },
   {
    "duration": 35,
    "start_time": "2022-07-30T20:21:53.536Z"
   },
   {
    "duration": 13,
    "start_time": "2022-07-30T20:21:53.573Z"
   },
   {
    "duration": 366,
    "start_time": "2022-07-30T20:21:53.588Z"
   },
   {
    "duration": 15,
    "start_time": "2022-07-30T20:21:53.955Z"
   },
   {
    "duration": 356,
    "start_time": "2022-07-30T20:21:53.973Z"
   },
   {
    "duration": 3,
    "start_time": "2022-07-30T20:21:54.330Z"
   },
   {
    "duration": 1468,
    "start_time": "2022-07-30T20:21:54.335Z"
   },
   {
    "duration": 25,
    "start_time": "2022-07-30T20:21:55.805Z"
   },
   {
    "duration": 7,
    "start_time": "2022-07-30T20:21:55.832Z"
   },
   {
    "duration": 46,
    "start_time": "2022-07-30T20:21:55.841Z"
   },
   {
    "duration": 33,
    "start_time": "2022-07-30T20:21:55.889Z"
   },
   {
    "duration": 23,
    "start_time": "2022-07-30T20:21:55.924Z"
   },
   {
    "duration": 3,
    "start_time": "2022-07-30T20:21:55.949Z"
   },
   {
    "duration": 26,
    "start_time": "2022-07-30T20:21:55.954Z"
   },
   {
    "duration": 265,
    "start_time": "2022-07-30T20:21:55.982Z"
   },
   {
    "duration": 243,
    "start_time": "2022-07-30T20:21:56.249Z"
   },
   {
    "duration": 38,
    "start_time": "2022-07-30T20:21:56.493Z"
   },
   {
    "duration": 28,
    "start_time": "2022-07-30T20:21:56.533Z"
   },
   {
    "duration": 225,
    "start_time": "2022-07-30T20:21:56.563Z"
   },
   {
    "duration": 16,
    "start_time": "2022-07-30T20:21:56.791Z"
   },
   {
    "duration": 166,
    "start_time": "2022-07-30T20:21:56.817Z"
   },
   {
    "duration": 5,
    "start_time": "2022-07-30T20:21:56.985Z"
   },
   {
    "duration": 1041,
    "start_time": "2022-07-30T20:21:56.992Z"
   },
   {
    "duration": 1149,
    "start_time": "2022-07-30T20:21:58.036Z"
   },
   {
    "duration": 11,
    "start_time": "2022-07-30T20:23:10.952Z"
   },
   {
    "duration": 27,
    "start_time": "2022-07-30T20:23:15.383Z"
   },
   {
    "duration": 201,
    "start_time": "2022-07-30T20:23:17.743Z"
   },
   {
    "duration": 16,
    "start_time": "2022-07-30T20:23:44.816Z"
   },
   {
    "duration": 15,
    "start_time": "2022-07-30T20:23:52.131Z"
   },
   {
    "duration": 16,
    "start_time": "2022-07-30T20:23:57.824Z"
   },
   {
    "duration": 198,
    "start_time": "2022-07-30T20:24:01.918Z"
   },
   {
    "duration": 22,
    "start_time": "2022-07-30T20:28:38.090Z"
   },
   {
    "duration": 17,
    "start_time": "2022-07-30T20:28:46.474Z"
   },
   {
    "duration": 15,
    "start_time": "2022-07-30T20:28:53.921Z"
   },
   {
    "duration": 201,
    "start_time": "2022-07-30T20:29:06.345Z"
   },
   {
    "duration": 15,
    "start_time": "2022-07-30T20:29:27.242Z"
   },
   {
    "duration": 169,
    "start_time": "2022-07-30T20:29:29.753Z"
   },
   {
    "duration": 24,
    "start_time": "2022-07-30T20:30:03.315Z"
   },
   {
    "duration": 10,
    "start_time": "2022-07-30T20:32:03.368Z"
   },
   {
    "duration": 32,
    "start_time": "2022-07-30T20:32:04.680Z"
   },
   {
    "duration": 228,
    "start_time": "2022-07-30T20:32:08.895Z"
   },
   {
    "duration": 16,
    "start_time": "2022-07-30T20:32:11.431Z"
   },
   {
    "duration": 220,
    "start_time": "2022-07-30T20:32:13.456Z"
   },
   {
    "duration": 19,
    "start_time": "2022-07-30T20:32:18.610Z"
   },
   {
    "duration": 202,
    "start_time": "2022-07-30T20:32:21.416Z"
   },
   {
    "duration": 15,
    "start_time": "2022-07-30T20:32:32.413Z"
   },
   {
    "duration": 224,
    "start_time": "2022-07-30T20:32:34.490Z"
   },
   {
    "duration": 32,
    "start_time": "2022-07-30T20:32:41.378Z"
   },
   {
    "duration": 194,
    "start_time": "2022-07-30T20:32:43.724Z"
   },
   {
    "duration": 20,
    "start_time": "2022-07-30T20:32:58.550Z"
   },
   {
    "duration": 196,
    "start_time": "2022-07-30T20:33:00.754Z"
   },
   {
    "duration": 21,
    "start_time": "2022-07-30T20:34:01.548Z"
   },
   {
    "duration": 226,
    "start_time": "2022-07-30T20:34:03.195Z"
   },
   {
    "duration": 15,
    "start_time": "2022-07-30T20:34:05.776Z"
   },
   {
    "duration": 201,
    "start_time": "2022-07-30T20:34:07.482Z"
   },
   {
    "duration": 15,
    "start_time": "2022-07-30T20:34:10.064Z"
   },
   {
    "duration": 248,
    "start_time": "2022-07-30T20:34:11.533Z"
   },
   {
    "duration": 20,
    "start_time": "2022-07-30T20:46:26.421Z"
   },
   {
    "duration": 296,
    "start_time": "2022-07-30T20:46:28.869Z"
   },
   {
    "duration": 23,
    "start_time": "2022-07-30T20:46:33.172Z"
   },
   {
    "duration": 178,
    "start_time": "2022-07-30T20:46:35.713Z"
   },
   {
    "duration": 16,
    "start_time": "2022-07-30T20:46:39.420Z"
   },
   {
    "duration": 183,
    "start_time": "2022-07-30T20:46:42.135Z"
   },
   {
    "duration": 14,
    "start_time": "2022-07-30T20:47:31.556Z"
   },
   {
    "duration": 223,
    "start_time": "2022-07-30T20:47:34.035Z"
   },
   {
    "duration": 23,
    "start_time": "2022-07-30T20:47:36.303Z"
   },
   {
    "duration": 186,
    "start_time": "2022-07-30T20:47:37.437Z"
   },
   {
    "duration": 16,
    "start_time": "2022-07-30T20:47:39.531Z"
   },
   {
    "duration": 388,
    "start_time": "2022-07-30T20:47:40.964Z"
   },
   {
    "duration": 1123,
    "start_time": "2022-07-30T20:58:18.555Z"
   },
   {
    "duration": 62,
    "start_time": "2022-07-30T20:58:19.680Z"
   },
   {
    "duration": 19,
    "start_time": "2022-07-30T20:58:19.744Z"
   },
   {
    "duration": 13,
    "start_time": "2022-07-30T20:58:19.765Z"
   },
   {
    "duration": 3,
    "start_time": "2022-07-30T20:58:19.780Z"
   },
   {
    "duration": 32,
    "start_time": "2022-07-30T20:58:19.784Z"
   },
   {
    "duration": 11,
    "start_time": "2022-07-30T20:58:19.818Z"
   },
   {
    "duration": 18,
    "start_time": "2022-07-30T20:58:19.831Z"
   },
   {
    "duration": 8,
    "start_time": "2022-07-30T20:58:19.850Z"
   },
   {
    "duration": 4,
    "start_time": "2022-07-30T20:58:19.861Z"
   },
   {
    "duration": 17,
    "start_time": "2022-07-30T20:58:19.867Z"
   },
   {
    "duration": 40,
    "start_time": "2022-07-30T20:58:19.886Z"
   },
   {
    "duration": 340,
    "start_time": "2022-07-30T20:58:19.928Z"
   },
   {
    "duration": 4,
    "start_time": "2022-07-30T20:58:20.270Z"
   },
   {
    "duration": 11,
    "start_time": "2022-07-30T20:58:20.276Z"
   },
   {
    "duration": 18,
    "start_time": "2022-07-30T20:58:20.298Z"
   },
   {
    "duration": 9,
    "start_time": "2022-07-30T20:58:20.318Z"
   },
   {
    "duration": 4,
    "start_time": "2022-07-30T20:58:20.330Z"
   },
   {
    "duration": 7,
    "start_time": "2022-07-30T20:58:20.336Z"
   },
   {
    "duration": 10,
    "start_time": "2022-07-30T20:58:20.347Z"
   },
   {
    "duration": 5,
    "start_time": "2022-07-30T20:58:20.359Z"
   },
   {
    "duration": 41,
    "start_time": "2022-07-30T20:58:20.366Z"
   },
   {
    "duration": 22,
    "start_time": "2022-07-30T20:58:20.409Z"
   },
   {
    "duration": 6,
    "start_time": "2022-07-30T20:58:20.433Z"
   },
   {
    "duration": 31,
    "start_time": "2022-07-30T20:58:20.441Z"
   },
   {
    "duration": 38,
    "start_time": "2022-07-30T20:58:20.474Z"
   },
   {
    "duration": 356,
    "start_time": "2022-07-30T20:58:20.517Z"
   },
   {
    "duration": 25,
    "start_time": "2022-07-30T20:58:20.878Z"
   },
   {
    "duration": 325,
    "start_time": "2022-07-30T20:58:20.916Z"
   },
   {
    "duration": 4,
    "start_time": "2022-07-30T20:58:21.243Z"
   },
   {
    "duration": 1258,
    "start_time": "2022-07-30T20:58:21.249Z"
   },
   {
    "duration": 26,
    "start_time": "2022-07-30T20:58:22.517Z"
   },
   {
    "duration": 8,
    "start_time": "2022-07-30T20:58:22.544Z"
   },
   {
    "duration": 41,
    "start_time": "2022-07-30T20:58:22.554Z"
   },
   {
    "duration": 22,
    "start_time": "2022-07-30T20:58:22.604Z"
   },
   {
    "duration": 18,
    "start_time": "2022-07-30T20:58:22.627Z"
   },
   {
    "duration": 3,
    "start_time": "2022-07-30T20:58:22.646Z"
   },
   {
    "duration": 32,
    "start_time": "2022-07-30T20:58:22.651Z"
   },
   {
    "duration": 248,
    "start_time": "2022-07-30T20:58:22.685Z"
   },
   {
    "duration": 316,
    "start_time": "2022-07-30T20:58:22.935Z"
   },
   {
    "duration": 27,
    "start_time": "2022-07-30T20:58:23.253Z"
   },
   {
    "duration": 44,
    "start_time": "2022-07-30T20:58:23.282Z"
   },
   {
    "duration": 192,
    "start_time": "2022-07-30T20:58:23.328Z"
   },
   {
    "duration": 5,
    "start_time": "2022-07-30T20:58:23.523Z"
   },
   {
    "duration": 188,
    "start_time": "2022-07-30T20:58:23.531Z"
   },
   {
    "duration": 5,
    "start_time": "2022-07-30T20:58:23.721Z"
   },
   {
    "duration": 1166,
    "start_time": "2022-07-30T20:58:23.727Z"
   },
   {
    "duration": 1102,
    "start_time": "2022-07-30T20:58:24.895Z"
   },
   {
    "duration": 29,
    "start_time": "2022-07-30T20:58:25.999Z"
   },
   {
    "duration": 197,
    "start_time": "2022-07-30T20:58:26.030Z"
   },
   {
    "duration": 9,
    "start_time": "2022-07-30T20:58:26.229Z"
   },
   {
    "duration": 15,
    "start_time": "2022-07-30T20:58:26.240Z"
   },
   {
    "duration": 212,
    "start_time": "2022-07-30T20:58:26.257Z"
   },
   {
    "duration": 16,
    "start_time": "2022-07-30T20:58:26.471Z"
   },
   {
    "duration": 238,
    "start_time": "2022-07-30T20:58:26.488Z"
   },
   {
    "duration": 19,
    "start_time": "2022-07-30T20:58:26.728Z"
   },
   {
    "duration": 205,
    "start_time": "2022-07-30T20:58:26.749Z"
   },
   {
    "duration": 14,
    "start_time": "2022-07-30T20:58:26.956Z"
   },
   {
    "duration": 251,
    "start_time": "2022-07-30T20:58:26.972Z"
   },
   {
    "duration": 15,
    "start_time": "2022-07-30T20:58:27.225Z"
   },
   {
    "duration": 261,
    "start_time": "2022-07-30T20:58:27.242Z"
   },
   {
    "duration": 18,
    "start_time": "2022-07-30T20:58:27.512Z"
   },
   {
    "duration": 220,
    "start_time": "2022-07-30T20:58:27.532Z"
   },
   {
    "duration": 16,
    "start_time": "2022-07-30T20:58:27.753Z"
   },
   {
    "duration": 188,
    "start_time": "2022-07-30T20:58:27.771Z"
   },
   {
    "duration": 20,
    "start_time": "2022-07-30T20:58:27.961Z"
   },
   {
    "duration": 193,
    "start_time": "2022-07-30T20:58:27.983Z"
   },
   {
    "duration": 34,
    "start_time": "2022-07-30T20:58:28.178Z"
   },
   {
    "duration": 159,
    "start_time": "2022-07-30T20:58:28.214Z"
   },
   {
    "duration": 9,
    "start_time": "2022-07-30T20:58:28.375Z"
   },
   {
    "duration": 37,
    "start_time": "2022-07-30T20:58:28.386Z"
   },
   {
    "duration": 8,
    "start_time": "2022-07-30T20:58:28.424Z"
   },
   {
    "duration": 7,
    "start_time": "2022-07-30T20:58:28.434Z"
   },
   {
    "duration": 16,
    "start_time": "2022-07-30T20:58:28.443Z"
   },
   {
    "duration": 9,
    "start_time": "2022-07-30T20:58:28.461Z"
   },
   {
    "duration": 12,
    "start_time": "2022-07-30T20:58:28.472Z"
   },
   {
    "duration": 8,
    "start_time": "2022-07-30T20:58:28.486Z"
   },
   {
    "duration": 1115,
    "start_time": "2022-07-31T10:57:55.791Z"
   },
   {
    "duration": 52,
    "start_time": "2022-07-31T10:57:56.908Z"
   },
   {
    "duration": 19,
    "start_time": "2022-07-31T10:57:56.962Z"
   },
   {
    "duration": 20,
    "start_time": "2022-07-31T10:57:56.984Z"
   },
   {
    "duration": 3,
    "start_time": "2022-07-31T10:57:57.006Z"
   },
   {
    "duration": 7,
    "start_time": "2022-07-31T10:57:57.011Z"
   },
   {
    "duration": 11,
    "start_time": "2022-07-31T10:57:57.019Z"
   },
   {
    "duration": 25,
    "start_time": "2022-07-31T10:57:57.032Z"
   },
   {
    "duration": 8,
    "start_time": "2022-07-31T10:57:57.059Z"
   },
   {
    "duration": 29,
    "start_time": "2022-07-31T10:57:57.070Z"
   },
   {
    "duration": 23,
    "start_time": "2022-07-31T10:57:57.101Z"
   },
   {
    "duration": 17,
    "start_time": "2022-07-31T10:57:57.126Z"
   },
   {
    "duration": 387,
    "start_time": "2022-07-31T10:57:57.145Z"
   },
   {
    "duration": 5,
    "start_time": "2022-07-31T10:57:57.533Z"
   },
   {
    "duration": 14,
    "start_time": "2022-07-31T10:57:57.540Z"
   },
   {
    "duration": 10,
    "start_time": "2022-07-31T10:57:57.556Z"
   },
   {
    "duration": 31,
    "start_time": "2022-07-31T10:57:57.567Z"
   },
   {
    "duration": 9,
    "start_time": "2022-07-31T10:57:57.600Z"
   },
   {
    "duration": 7,
    "start_time": "2022-07-31T10:57:57.611Z"
   },
   {
    "duration": 12,
    "start_time": "2022-07-31T10:57:57.620Z"
   },
   {
    "duration": 10,
    "start_time": "2022-07-31T10:57:57.634Z"
   },
   {
    "duration": 22,
    "start_time": "2022-07-31T10:57:57.646Z"
   },
   {
    "duration": 32,
    "start_time": "2022-07-31T10:57:57.670Z"
   },
   {
    "duration": 21,
    "start_time": "2022-07-31T10:57:57.704Z"
   },
   {
    "duration": 1182,
    "start_time": "2022-07-31T11:04:55.832Z"
   },
   {
    "duration": 51,
    "start_time": "2022-07-31T11:04:57.016Z"
   },
   {
    "duration": 33,
    "start_time": "2022-07-31T11:04:57.069Z"
   },
   {
    "duration": 22,
    "start_time": "2022-07-31T11:04:57.104Z"
   },
   {
    "duration": 4,
    "start_time": "2022-07-31T11:04:57.129Z"
   },
   {
    "duration": 10,
    "start_time": "2022-07-31T11:04:57.135Z"
   },
   {
    "duration": 11,
    "start_time": "2022-07-31T11:04:57.146Z"
   },
   {
    "duration": 20,
    "start_time": "2022-07-31T11:04:57.158Z"
   },
   {
    "duration": 13,
    "start_time": "2022-07-31T11:04:57.198Z"
   },
   {
    "duration": 7,
    "start_time": "2022-07-31T11:04:57.213Z"
   },
   {
    "duration": 19,
    "start_time": "2022-07-31T11:04:57.222Z"
   },
   {
    "duration": 22,
    "start_time": "2022-07-31T11:04:57.244Z"
   },
   {
    "duration": 333,
    "start_time": "2022-07-31T11:04:57.268Z"
   },
   {
    "duration": 7,
    "start_time": "2022-07-31T11:04:57.604Z"
   },
   {
    "duration": 15,
    "start_time": "2022-07-31T11:04:57.612Z"
   },
   {
    "duration": 12,
    "start_time": "2022-07-31T11:04:57.629Z"
   },
   {
    "duration": 13,
    "start_time": "2022-07-31T11:04:57.642Z"
   },
   {
    "duration": 41,
    "start_time": "2022-07-31T11:04:57.657Z"
   },
   {
    "duration": 6,
    "start_time": "2022-07-31T11:04:57.700Z"
   },
   {
    "duration": 14,
    "start_time": "2022-07-31T11:04:57.708Z"
   },
   {
    "duration": 18,
    "start_time": "2022-07-31T11:04:57.724Z"
   },
   {
    "duration": 19,
    "start_time": "2022-07-31T11:04:57.745Z"
   },
   {
    "duration": 21,
    "start_time": "2022-07-31T11:04:57.767Z"
   },
   {
    "duration": 12,
    "start_time": "2022-07-31T11:04:57.790Z"
   },
   {
    "duration": 36,
    "start_time": "2022-07-31T11:04:57.805Z"
   },
   {
    "duration": 28,
    "start_time": "2022-07-31T11:04:57.843Z"
   },
   {
    "duration": 425,
    "start_time": "2022-07-31T11:04:57.873Z"
   },
   {
    "duration": 15,
    "start_time": "2022-07-31T11:04:58.300Z"
   },
   {
    "duration": 463,
    "start_time": "2022-07-31T11:04:58.317Z"
   },
   {
    "duration": 3,
    "start_time": "2022-07-31T11:04:58.782Z"
   },
   {
    "duration": 1559,
    "start_time": "2022-07-31T11:04:58.787Z"
   },
   {
    "duration": 25,
    "start_time": "2022-07-31T11:05:00.349Z"
   },
   {
    "duration": 23,
    "start_time": "2022-07-31T11:05:00.376Z"
   },
   {
    "duration": 40,
    "start_time": "2022-07-31T11:05:00.401Z"
   },
   {
    "duration": 15,
    "start_time": "2022-07-31T11:05:00.443Z"
   },
   {
    "duration": 23,
    "start_time": "2022-07-31T11:05:00.459Z"
   },
   {
    "duration": 23,
    "start_time": "2022-07-31T11:05:00.484Z"
   },
   {
    "duration": 22,
    "start_time": "2022-07-31T11:05:00.509Z"
   },
   {
    "duration": 378,
    "start_time": "2022-07-31T11:05:00.532Z"
   },
   {
    "duration": 626,
    "start_time": "2022-07-31T11:05:00.912Z"
   },
   {
    "duration": 84,
    "start_time": "2022-07-31T11:05:01.542Z"
   },
   {
    "duration": 72,
    "start_time": "2022-07-31T11:05:01.627Z"
   },
   {
    "duration": 331,
    "start_time": "2022-07-31T11:05:01.701Z"
   },
   {
    "duration": 4,
    "start_time": "2022-07-31T11:05:02.034Z"
   },
   {
    "duration": 385,
    "start_time": "2022-07-31T11:05:02.040Z"
   },
   {
    "duration": 4,
    "start_time": "2022-07-31T11:05:02.427Z"
   },
   {
    "duration": 1884,
    "start_time": "2022-07-31T11:05:02.433Z"
   },
   {
    "duration": 1348,
    "start_time": "2022-07-31T11:05:04.319Z"
   },
   {
    "duration": 15,
    "start_time": "2022-07-31T11:05:05.669Z"
   },
   {
    "duration": 206,
    "start_time": "2022-07-31T11:05:05.699Z"
   },
   {
    "duration": 10,
    "start_time": "2022-07-31T11:05:05.907Z"
   },
   {
    "duration": 21,
    "start_time": "2022-07-31T11:05:05.919Z"
   },
   {
    "duration": 201,
    "start_time": "2022-07-31T11:05:05.942Z"
   },
   {
    "duration": 19,
    "start_time": "2022-07-31T11:05:06.145Z"
   },
   {
    "duration": 205,
    "start_time": "2022-07-31T11:05:06.166Z"
   },
   {
    "duration": 26,
    "start_time": "2022-07-31T11:05:06.372Z"
   },
   {
    "duration": 198,
    "start_time": "2022-07-31T11:05:06.400Z"
   },
   {
    "duration": 14,
    "start_time": "2022-07-31T11:05:06.600Z"
   },
   {
    "duration": 253,
    "start_time": "2022-07-31T11:05:06.616Z"
   },
   {
    "duration": 14,
    "start_time": "2022-07-31T11:05:06.871Z"
   },
   {
    "duration": 236,
    "start_time": "2022-07-31T11:05:06.897Z"
   },
   {
    "duration": 17,
    "start_time": "2022-07-31T11:05:07.135Z"
   },
   {
    "duration": 363,
    "start_time": "2022-07-31T11:05:07.154Z"
   },
   {
    "duration": 22,
    "start_time": "2022-07-31T11:05:07.519Z"
   },
   {
    "duration": 221,
    "start_time": "2022-07-31T11:05:07.543Z"
   },
   {
    "duration": 15,
    "start_time": "2022-07-31T11:05:07.765Z"
   },
   {
    "duration": 176,
    "start_time": "2022-07-31T11:05:07.782Z"
   },
   {
    "duration": 15,
    "start_time": "2022-07-31T11:05:07.960Z"
   },
   {
    "duration": 267,
    "start_time": "2022-07-31T11:05:07.977Z"
   },
   {
    "duration": 9,
    "start_time": "2022-07-31T11:05:08.246Z"
   },
   {
    "duration": 10,
    "start_time": "2022-07-31T11:05:08.257Z"
   },
   {
    "duration": 8,
    "start_time": "2022-07-31T11:05:08.269Z"
   },
   {
    "duration": 23,
    "start_time": "2022-07-31T11:05:08.279Z"
   },
   {
    "duration": 32,
    "start_time": "2022-07-31T11:05:08.304Z"
   },
   {
    "duration": 25,
    "start_time": "2022-07-31T11:05:08.339Z"
   },
   {
    "duration": 10,
    "start_time": "2022-07-31T11:05:08.367Z"
   },
   {
    "duration": 23,
    "start_time": "2022-07-31T11:05:08.379Z"
   },
   {
    "duration": 1452,
    "start_time": "2022-07-31T12:50:27.844Z"
   },
   {
    "duration": 185,
    "start_time": "2022-07-31T12:50:29.298Z"
   },
   {
    "duration": 24,
    "start_time": "2022-07-31T12:50:29.485Z"
   },
   {
    "duration": 18,
    "start_time": "2022-07-31T12:50:29.511Z"
   },
   {
    "duration": 3,
    "start_time": "2022-07-31T12:50:29.531Z"
   },
   {
    "duration": 11,
    "start_time": "2022-07-31T12:50:29.536Z"
   },
   {
    "duration": 9,
    "start_time": "2022-07-31T12:50:29.550Z"
   },
   {
    "duration": 24,
    "start_time": "2022-07-31T12:50:29.561Z"
   },
   {
    "duration": 7,
    "start_time": "2022-07-31T12:50:29.610Z"
   },
   {
    "duration": 8,
    "start_time": "2022-07-31T12:50:29.620Z"
   },
   {
    "duration": 18,
    "start_time": "2022-07-31T12:50:29.630Z"
   },
   {
    "duration": 19,
    "start_time": "2022-07-31T12:50:29.650Z"
   },
   {
    "duration": 395,
    "start_time": "2022-07-31T12:50:29.671Z"
   },
   {
    "duration": 5,
    "start_time": "2022-07-31T12:50:30.068Z"
   },
   {
    "duration": 14,
    "start_time": "2022-07-31T12:50:30.074Z"
   },
   {
    "duration": 23,
    "start_time": "2022-07-31T12:50:30.090Z"
   },
   {
    "duration": 9,
    "start_time": "2022-07-31T12:50:30.115Z"
   },
   {
    "duration": 5,
    "start_time": "2022-07-31T12:50:30.125Z"
   },
   {
    "duration": 22,
    "start_time": "2022-07-31T12:50:30.132Z"
   },
   {
    "duration": 15,
    "start_time": "2022-07-31T12:50:30.155Z"
   },
   {
    "duration": 23,
    "start_time": "2022-07-31T12:50:30.171Z"
   },
   {
    "duration": 16,
    "start_time": "2022-07-31T12:50:30.196Z"
   },
   {
    "duration": 22,
    "start_time": "2022-07-31T12:50:32.637Z"
   },
   {
    "duration": 20,
    "start_time": "2022-07-31T12:54:00.754Z"
   },
   {
    "duration": 145,
    "start_time": "2022-07-31T13:33:41.829Z"
   },
   {
    "duration": 18,
    "start_time": "2022-07-31T13:33:51.287Z"
   },
   {
    "duration": 4,
    "start_time": "2022-07-31T13:34:11.796Z"
   },
   {
    "duration": 69,
    "start_time": "2022-07-31T13:34:11.834Z"
   },
   {
    "duration": 25,
    "start_time": "2022-07-31T13:34:11.906Z"
   },
   {
    "duration": 35,
    "start_time": "2022-07-31T13:34:11.934Z"
   },
   {
    "duration": 5,
    "start_time": "2022-07-31T13:34:11.973Z"
   },
   {
    "duration": 11,
    "start_time": "2022-07-31T13:34:11.981Z"
   },
   {
    "duration": 23,
    "start_time": "2022-07-31T13:34:11.994Z"
   },
   {
    "duration": 34,
    "start_time": "2022-07-31T13:34:12.020Z"
   },
   {
    "duration": 10,
    "start_time": "2022-07-31T13:34:12.057Z"
   },
   {
    "duration": 10,
    "start_time": "2022-07-31T13:34:12.070Z"
   },
   {
    "duration": 38,
    "start_time": "2022-07-31T13:34:12.082Z"
   },
   {
    "duration": 24,
    "start_time": "2022-07-31T13:34:12.123Z"
   },
   {
    "duration": 453,
    "start_time": "2022-07-31T13:34:12.149Z"
   },
   {
    "duration": 7,
    "start_time": "2022-07-31T13:34:12.603Z"
   },
   {
    "duration": 12,
    "start_time": "2022-07-31T13:34:12.614Z"
   },
   {
    "duration": 12,
    "start_time": "2022-07-31T13:34:12.628Z"
   },
   {
    "duration": 10,
    "start_time": "2022-07-31T13:34:12.642Z"
   },
   {
    "duration": 4,
    "start_time": "2022-07-31T13:34:12.654Z"
   },
   {
    "duration": 6,
    "start_time": "2022-07-31T13:34:12.660Z"
   },
   {
    "duration": 45,
    "start_time": "2022-07-31T13:34:12.667Z"
   },
   {
    "duration": 18,
    "start_time": "2022-07-31T13:34:12.714Z"
   },
   {
    "duration": 14,
    "start_time": "2022-07-31T13:34:12.735Z"
   },
   {
    "duration": 24,
    "start_time": "2022-07-31T13:34:12.751Z"
   },
   {
    "duration": 6,
    "start_time": "2022-07-31T13:34:16.153Z"
   },
   {
    "duration": 3,
    "start_time": "2022-07-31T13:34:38.646Z"
   },
   {
    "duration": 81,
    "start_time": "2022-07-31T13:34:38.653Z"
   },
   {
    "duration": 19,
    "start_time": "2022-07-31T13:34:38.736Z"
   },
   {
    "duration": 21,
    "start_time": "2022-07-31T13:34:38.757Z"
   },
   {
    "duration": 3,
    "start_time": "2022-07-31T13:34:38.781Z"
   },
   {
    "duration": 31,
    "start_time": "2022-07-31T13:34:38.786Z"
   },
   {
    "duration": 31,
    "start_time": "2022-07-31T13:34:38.820Z"
   },
   {
    "duration": 23,
    "start_time": "2022-07-31T13:34:38.853Z"
   },
   {
    "duration": 12,
    "start_time": "2022-07-31T13:34:38.878Z"
   },
   {
    "duration": 9,
    "start_time": "2022-07-31T13:34:38.892Z"
   },
   {
    "duration": 29,
    "start_time": "2022-07-31T13:34:38.904Z"
   },
   {
    "duration": 25,
    "start_time": "2022-07-31T13:34:38.935Z"
   },
   {
    "duration": 467,
    "start_time": "2022-07-31T13:34:38.962Z"
   },
   {
    "duration": 7,
    "start_time": "2022-07-31T13:34:39.433Z"
   },
   {
    "duration": 17,
    "start_time": "2022-07-31T13:34:39.442Z"
   },
   {
    "duration": 22,
    "start_time": "2022-07-31T13:34:39.461Z"
   },
   {
    "duration": 26,
    "start_time": "2022-07-31T13:34:39.485Z"
   },
   {
    "duration": 27,
    "start_time": "2022-07-31T13:34:39.514Z"
   },
   {
    "duration": 11,
    "start_time": "2022-07-31T13:34:39.544Z"
   },
   {
    "duration": 16,
    "start_time": "2022-07-31T13:34:39.557Z"
   },
   {
    "duration": 9,
    "start_time": "2022-07-31T13:34:39.575Z"
   },
   {
    "duration": 41,
    "start_time": "2022-07-31T13:34:39.586Z"
   },
   {
    "duration": 38,
    "start_time": "2022-07-31T13:34:39.630Z"
   },
   {
    "duration": 37,
    "start_time": "2022-07-31T13:34:41.876Z"
   },
   {
    "duration": 20,
    "start_time": "2022-07-31T13:34:56.232Z"
   },
   {
    "duration": 3,
    "start_time": "2022-07-31T13:35:06.288Z"
   },
   {
    "duration": 74,
    "start_time": "2022-07-31T13:35:06.297Z"
   },
   {
    "duration": 24,
    "start_time": "2022-07-31T13:35:06.374Z"
   },
   {
    "duration": 31,
    "start_time": "2022-07-31T13:35:06.400Z"
   },
   {
    "duration": 4,
    "start_time": "2022-07-31T13:35:06.434Z"
   },
   {
    "duration": 32,
    "start_time": "2022-07-31T13:35:06.440Z"
   },
   {
    "duration": 13,
    "start_time": "2022-07-31T13:35:06.474Z"
   },
   {
    "duration": 22,
    "start_time": "2022-07-31T13:35:06.489Z"
   },
   {
    "duration": 20,
    "start_time": "2022-07-31T13:35:06.515Z"
   },
   {
    "duration": 8,
    "start_time": "2022-07-31T13:35:06.537Z"
   },
   {
    "duration": 34,
    "start_time": "2022-07-31T13:35:06.549Z"
   },
   {
    "duration": 42,
    "start_time": "2022-07-31T13:35:06.584Z"
   },
   {
    "duration": 416,
    "start_time": "2022-07-31T13:35:06.629Z"
   },
   {
    "duration": 4,
    "start_time": "2022-07-31T13:35:07.047Z"
   },
   {
    "duration": 11,
    "start_time": "2022-07-31T13:35:07.053Z"
   },
   {
    "duration": 10,
    "start_time": "2022-07-31T13:35:07.066Z"
   },
   {
    "duration": 41,
    "start_time": "2022-07-31T13:35:07.077Z"
   },
   {
    "duration": 7,
    "start_time": "2022-07-31T13:35:07.120Z"
   },
   {
    "duration": 9,
    "start_time": "2022-07-31T13:35:07.130Z"
   },
   {
    "duration": 9,
    "start_time": "2022-07-31T13:35:07.141Z"
   },
   {
    "duration": 12,
    "start_time": "2022-07-31T13:35:07.152Z"
   },
   {
    "duration": 13,
    "start_time": "2022-07-31T13:35:07.165Z"
   },
   {
    "duration": 53,
    "start_time": "2022-07-31T13:35:07.180Z"
   },
   {
    "duration": 9,
    "start_time": "2022-07-31T13:35:07.235Z"
   },
   {
    "duration": 9,
    "start_time": "2022-07-31T13:35:09.721Z"
   },
   {
    "duration": 26,
    "start_time": "2022-07-31T13:35:50.260Z"
   },
   {
    "duration": 3,
    "start_time": "2022-07-31T13:36:07.472Z"
   },
   {
    "duration": 61,
    "start_time": "2022-07-31T13:36:07.480Z"
   },
   {
    "duration": 16,
    "start_time": "2022-07-31T13:36:07.544Z"
   },
   {
    "duration": 22,
    "start_time": "2022-07-31T13:36:07.562Z"
   },
   {
    "duration": 3,
    "start_time": "2022-07-31T13:36:07.586Z"
   },
   {
    "duration": 19,
    "start_time": "2022-07-31T13:36:07.591Z"
   },
   {
    "duration": 15,
    "start_time": "2022-07-31T13:36:07.613Z"
   },
   {
    "duration": 26,
    "start_time": "2022-07-31T13:36:07.630Z"
   },
   {
    "duration": 14,
    "start_time": "2022-07-31T13:36:07.658Z"
   },
   {
    "duration": 7,
    "start_time": "2022-07-31T13:36:07.674Z"
   },
   {
    "duration": 34,
    "start_time": "2022-07-31T13:36:07.683Z"
   },
   {
    "duration": 20,
    "start_time": "2022-07-31T13:36:07.719Z"
   },
   {
    "duration": 411,
    "start_time": "2022-07-31T13:36:07.742Z"
   },
   {
    "duration": 4,
    "start_time": "2022-07-31T13:36:08.155Z"
   },
   {
    "duration": 26,
    "start_time": "2022-07-31T13:36:08.161Z"
   },
   {
    "duration": 22,
    "start_time": "2022-07-31T13:36:08.189Z"
   },
   {
    "duration": 25,
    "start_time": "2022-07-31T13:36:08.214Z"
   },
   {
    "duration": 6,
    "start_time": "2022-07-31T13:36:08.241Z"
   },
   {
    "duration": 27,
    "start_time": "2022-07-31T13:36:08.248Z"
   },
   {
    "duration": 21,
    "start_time": "2022-07-31T13:36:08.277Z"
   },
   {
    "duration": 18,
    "start_time": "2022-07-31T13:36:08.300Z"
   },
   {
    "duration": 45,
    "start_time": "2022-07-31T13:36:08.322Z"
   },
   {
    "duration": 39,
    "start_time": "2022-07-31T13:36:08.368Z"
   },
   {
    "duration": 6,
    "start_time": "2022-07-31T13:36:12.053Z"
   },
   {
    "duration": 9,
    "start_time": "2022-07-31T13:36:15.570Z"
   },
   {
    "duration": 21,
    "start_time": "2022-07-31T13:36:19.437Z"
   },
   {
    "duration": 4,
    "start_time": "2022-07-31T13:39:44.309Z"
   },
   {
    "duration": 65,
    "start_time": "2022-07-31T13:39:44.316Z"
   },
   {
    "duration": 18,
    "start_time": "2022-07-31T13:39:44.383Z"
   },
   {
    "duration": 33,
    "start_time": "2022-07-31T13:39:44.403Z"
   },
   {
    "duration": 4,
    "start_time": "2022-07-31T13:39:44.438Z"
   },
   {
    "duration": 6,
    "start_time": "2022-07-31T13:39:44.444Z"
   },
   {
    "duration": 8,
    "start_time": "2022-07-31T13:39:44.452Z"
   },
   {
    "duration": 18,
    "start_time": "2022-07-31T13:39:44.462Z"
   },
   {
    "duration": 6,
    "start_time": "2022-07-31T13:39:44.482Z"
   },
   {
    "duration": 6,
    "start_time": "2022-07-31T13:39:44.513Z"
   },
   {
    "duration": 29,
    "start_time": "2022-07-31T13:39:44.521Z"
   },
   {
    "duration": 19,
    "start_time": "2022-07-31T13:39:44.552Z"
   },
   {
    "duration": 471,
    "start_time": "2022-07-31T13:39:44.573Z"
   },
   {
    "duration": 7,
    "start_time": "2022-07-31T13:39:45.046Z"
   },
   {
    "duration": 13,
    "start_time": "2022-07-31T13:39:45.056Z"
   },
   {
    "duration": 9,
    "start_time": "2022-07-31T13:39:45.072Z"
   },
   {
    "duration": 28,
    "start_time": "2022-07-31T13:39:45.083Z"
   },
   {
    "duration": 12,
    "start_time": "2022-07-31T13:39:45.114Z"
   },
   {
    "duration": 9,
    "start_time": "2022-07-31T13:39:45.129Z"
   },
   {
    "duration": 13,
    "start_time": "2022-07-31T13:39:45.140Z"
   },
   {
    "duration": 9,
    "start_time": "2022-07-31T13:39:45.155Z"
   },
   {
    "duration": 12,
    "start_time": "2022-07-31T13:39:45.166Z"
   },
   {
    "duration": 60,
    "start_time": "2022-07-31T13:39:45.180Z"
   },
   {
    "duration": 18,
    "start_time": "2022-07-31T13:39:48.318Z"
   },
   {
    "duration": 3,
    "start_time": "2022-07-31T13:40:28.360Z"
   },
   {
    "duration": 99,
    "start_time": "2022-07-31T13:40:28.367Z"
   },
   {
    "duration": 17,
    "start_time": "2022-07-31T13:40:28.468Z"
   },
   {
    "duration": 16,
    "start_time": "2022-07-31T13:40:28.488Z"
   },
   {
    "duration": 6,
    "start_time": "2022-07-31T13:40:28.506Z"
   },
   {
    "duration": 8,
    "start_time": "2022-07-31T13:40:28.514Z"
   },
   {
    "duration": 11,
    "start_time": "2022-07-31T13:40:28.524Z"
   },
   {
    "duration": 34,
    "start_time": "2022-07-31T13:40:28.537Z"
   },
   {
    "duration": 5,
    "start_time": "2022-07-31T13:40:28.573Z"
   },
   {
    "duration": 33,
    "start_time": "2022-07-31T13:40:28.579Z"
   },
   {
    "duration": 23,
    "start_time": "2022-07-31T13:40:28.618Z"
   },
   {
    "duration": 19,
    "start_time": "2022-07-31T13:40:28.643Z"
   },
   {
    "duration": 441,
    "start_time": "2022-07-31T13:40:28.664Z"
   },
   {
    "duration": 8,
    "start_time": "2022-07-31T13:40:29.107Z"
   },
   {
    "duration": 29,
    "start_time": "2022-07-31T13:40:29.118Z"
   },
   {
    "duration": 27,
    "start_time": "2022-07-31T13:40:29.149Z"
   },
   {
    "duration": 28,
    "start_time": "2022-07-31T13:40:29.178Z"
   },
   {
    "duration": 26,
    "start_time": "2022-07-31T13:40:29.208Z"
   },
   {
    "duration": 15,
    "start_time": "2022-07-31T13:40:29.237Z"
   },
   {
    "duration": 29,
    "start_time": "2022-07-31T13:40:29.254Z"
   },
   {
    "duration": 9,
    "start_time": "2022-07-31T13:40:29.284Z"
   },
   {
    "duration": 13,
    "start_time": "2022-07-31T13:40:29.295Z"
   },
   {
    "duration": 35,
    "start_time": "2022-07-31T13:40:29.313Z"
   },
   {
    "duration": 10,
    "start_time": "2022-07-31T13:40:38.578Z"
   },
   {
    "duration": 7,
    "start_time": "2022-07-31T13:40:42.432Z"
   },
   {
    "duration": 19,
    "start_time": "2022-07-31T13:40:45.873Z"
   },
   {
    "duration": 1388,
    "start_time": "2022-07-31T13:41:42.522Z"
   },
   {
    "duration": 59,
    "start_time": "2022-07-31T13:41:43.914Z"
   },
   {
    "duration": 23,
    "start_time": "2022-07-31T13:41:43.974Z"
   },
   {
    "duration": 23,
    "start_time": "2022-07-31T13:41:43.999Z"
   },
   {
    "duration": 10,
    "start_time": "2022-07-31T13:41:44.027Z"
   },
   {
    "duration": 5,
    "start_time": "2022-07-31T13:41:44.039Z"
   },
   {
    "duration": 19,
    "start_time": "2022-07-31T13:41:44.045Z"
   },
   {
    "duration": 29,
    "start_time": "2022-07-31T13:41:44.066Z"
   },
   {
    "duration": 29,
    "start_time": "2022-07-31T13:41:44.097Z"
   },
   {
    "duration": 9,
    "start_time": "2022-07-31T13:41:44.129Z"
   },
   {
    "duration": 29,
    "start_time": "2022-07-31T13:41:44.140Z"
   },
   {
    "duration": 27,
    "start_time": "2022-07-31T13:41:44.171Z"
   },
   {
    "duration": 447,
    "start_time": "2022-07-31T13:41:44.210Z"
   },
   {
    "duration": 5,
    "start_time": "2022-07-31T13:41:44.660Z"
   },
   {
    "duration": 11,
    "start_time": "2022-07-31T13:41:44.667Z"
   },
   {
    "duration": 11,
    "start_time": "2022-07-31T13:41:44.680Z"
   },
   {
    "duration": 13,
    "start_time": "2022-07-31T13:41:44.709Z"
   },
   {
    "duration": 15,
    "start_time": "2022-07-31T13:41:44.724Z"
   },
   {
    "duration": 8,
    "start_time": "2022-07-31T13:41:44.740Z"
   },
   {
    "duration": 11,
    "start_time": "2022-07-31T13:41:44.751Z"
   },
   {
    "duration": 10,
    "start_time": "2022-07-31T13:41:44.764Z"
   },
   {
    "duration": 15,
    "start_time": "2022-07-31T13:41:44.775Z"
   },
   {
    "duration": 49,
    "start_time": "2022-07-31T13:41:44.792Z"
   },
   {
    "duration": 7,
    "start_time": "2022-07-31T13:41:44.842Z"
   },
   {
    "duration": 33,
    "start_time": "2022-07-31T13:41:44.850Z"
   },
   {
    "duration": 41,
    "start_time": "2022-07-31T13:41:44.886Z"
   },
   {
    "duration": 17,
    "start_time": "2022-07-31T13:41:44.930Z"
   },
   {
    "duration": 464,
    "start_time": "2022-07-31T13:41:44.949Z"
   },
   {
    "duration": 21,
    "start_time": "2022-07-31T13:41:45.416Z"
   },
   {
    "duration": 422,
    "start_time": "2022-07-31T13:41:45.439Z"
   },
   {
    "duration": 4,
    "start_time": "2022-07-31T13:41:45.862Z"
   },
   {
    "duration": 1501,
    "start_time": "2022-07-31T13:41:45.868Z"
   },
   {
    "duration": 19,
    "start_time": "2022-07-31T13:41:47.371Z"
   },
   {
    "duration": 19,
    "start_time": "2022-07-31T13:41:47.392Z"
   },
   {
    "duration": 32,
    "start_time": "2022-07-31T13:41:47.413Z"
   },
   {
    "duration": 14,
    "start_time": "2022-07-31T13:41:47.447Z"
   },
   {
    "duration": 49,
    "start_time": "2022-07-31T13:41:47.463Z"
   },
   {
    "duration": 3,
    "start_time": "2022-07-31T13:41:47.514Z"
   },
   {
    "duration": 31,
    "start_time": "2022-07-31T13:41:47.519Z"
   },
   {
    "duration": 308,
    "start_time": "2022-07-31T13:41:47.551Z"
   },
   {
    "duration": 365,
    "start_time": "2022-07-31T13:41:47.863Z"
   },
   {
    "duration": 40,
    "start_time": "2022-07-31T13:41:48.231Z"
   },
   {
    "duration": 50,
    "start_time": "2022-07-31T13:41:48.274Z"
   },
   {
    "duration": 190,
    "start_time": "2022-07-31T13:41:48.327Z"
   },
   {
    "duration": 5,
    "start_time": "2022-07-31T13:41:48.519Z"
   },
   {
    "duration": 201,
    "start_time": "2022-07-31T13:41:48.526Z"
   },
   {
    "duration": 4,
    "start_time": "2022-07-31T13:41:48.729Z"
   },
   {
    "duration": 1457,
    "start_time": "2022-07-31T13:41:48.735Z"
   },
   {
    "duration": 1268,
    "start_time": "2022-07-31T13:41:50.194Z"
   },
   {
    "duration": 17,
    "start_time": "2022-07-31T13:41:51.464Z"
   },
   {
    "duration": 256,
    "start_time": "2022-07-31T13:41:51.483Z"
   },
   {
    "duration": 11,
    "start_time": "2022-07-31T13:41:51.741Z"
   },
   {
    "duration": 17,
    "start_time": "2022-07-31T13:41:51.754Z"
   },
   {
    "duration": 287,
    "start_time": "2022-07-31T13:41:51.772Z"
   },
   {
    "duration": 22,
    "start_time": "2022-07-31T13:41:52.063Z"
   },
   {
    "duration": 252,
    "start_time": "2022-07-31T13:41:52.088Z"
   },
   {
    "duration": 17,
    "start_time": "2022-07-31T13:41:52.342Z"
   },
   {
    "duration": 240,
    "start_time": "2022-07-31T13:41:52.361Z"
   },
   {
    "duration": 31,
    "start_time": "2022-07-31T13:41:52.604Z"
   },
   {
    "duration": 243,
    "start_time": "2022-07-31T13:41:52.637Z"
   },
   {
    "duration": 16,
    "start_time": "2022-07-31T13:41:52.881Z"
   },
   {
    "duration": 262,
    "start_time": "2022-07-31T13:41:52.909Z"
   },
   {
    "duration": 16,
    "start_time": "2022-07-31T13:41:53.173Z"
   },
   {
    "duration": 280,
    "start_time": "2022-07-31T13:41:53.191Z"
   },
   {
    "duration": 16,
    "start_time": "2022-07-31T13:41:53.473Z"
   },
   {
    "duration": 214,
    "start_time": "2022-07-31T13:41:53.490Z"
   },
   {
    "duration": 21,
    "start_time": "2022-07-31T13:41:53.706Z"
   },
   {
    "duration": 195,
    "start_time": "2022-07-31T13:41:53.729Z"
   },
   {
    "duration": 16,
    "start_time": "2022-07-31T13:41:53.927Z"
   },
   {
    "duration": 216,
    "start_time": "2022-07-31T13:41:53.945Z"
   },
   {
    "duration": 8,
    "start_time": "2022-07-31T13:41:54.163Z"
   },
   {
    "duration": 7,
    "start_time": "2022-07-31T13:41:54.172Z"
   },
   {
    "duration": 6,
    "start_time": "2022-07-31T13:41:54.180Z"
   },
   {
    "duration": 26,
    "start_time": "2022-07-31T13:41:54.187Z"
   },
   {
    "duration": 14,
    "start_time": "2022-07-31T13:41:54.216Z"
   },
   {
    "duration": 6,
    "start_time": "2022-07-31T13:41:54.232Z"
   },
   {
    "duration": 12,
    "start_time": "2022-07-31T13:41:54.240Z"
   },
   {
    "duration": 9,
    "start_time": "2022-07-31T13:41:54.254Z"
   }
  ],
  "kernelspec": {
   "display_name": "Python 3 (ipykernel)",
   "language": "python",
   "name": "python3"
  },
  "language_info": {
   "codemirror_mode": {
    "name": "ipython",
    "version": 3
   },
   "file_extension": ".py",
   "mimetype": "text/x-python",
   "name": "python",
   "nbconvert_exporter": "python",
   "pygments_lexer": "ipython3",
   "version": "3.9.7"
  },
  "toc": {
   "base_numbering": 1,
   "nav_menu": {
    "height": "282.997px",
    "width": "398.991px"
   },
   "number_sections": true,
   "sideBar": true,
   "skip_h1_title": true,
   "title_cell": "Table of Contents",
   "title_sidebar": "Contents",
   "toc_cell": false,
   "toc_position": {
    "height": "calc(100% - 180px)",
    "left": "10px",
    "top": "150px",
    "width": "165px"
   },
   "toc_section_display": true,
   "toc_window_display": true
  }
 },
 "nbformat": 4,
 "nbformat_minor": 2
}
