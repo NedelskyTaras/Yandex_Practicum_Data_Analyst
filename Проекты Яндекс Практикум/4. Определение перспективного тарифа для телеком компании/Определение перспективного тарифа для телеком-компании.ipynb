{
 "cells": [
  {
   "cell_type": "markdown",
   "metadata": {},
   "source": [
    "# Определение перспективного тарифа для телеком компании\n",
    "\n",
    "Клиентам предлагают два тарифных плана: «Смарт» и «Ультра». Чтобы скорректировать рекламный бюджет, коммерческий департамент хочет понять, какой тариф приносит больше денег.\n",
    "\n",
    "Нам предстоит сделать предварительный анализ тарифов на небольшой выборке клиентов. В нашем распоряжении данные 500 пользователей «Мегалайна»: кто они, откуда, каким тарифом пользуются, сколько звонков и сообщений каждый отправил за 2018 год. Нужно проанализировать поведение клиентов и сделать вывод — какой тариф лучше.\n",
    "\n",
    "Описания тарифов:\n",
    "\n",
    "**Тариф \"Смарт\":**\n",
    "\n",
    "1. Ежемесячная плата: 550 рублей\n",
    "2. Включено 500 минут разговора, 50 сообщений и 15 Гб интернет-трафика\n",
    "3. Стоимость услуг сверх тарифного пакета:\n",
    "    * минута разговора: 3 рубля\n",
    "    * сообщение: 3 рубля\n",
    "    * 1 Гб интернет-трафика: 200 рублей\n",
    "    \n",
    "**Тариф \"Ультра\":**\n",
    "\n",
    "1. Ежемесячная плата: 1950 рублей\n",
    "2. Включено 3000 минут разговора, 1000 сообщений и 30 Гб интернет-трафика\n",
    "3. Стоимость услуг сверх тарифного пакета:\n",
    "    * минута разговора: 1 рубль\n",
    "    * сообщение: 1 рубль\n",
    "    * 1 Гб интернет-трафика: 150 рублей\n",
    "    \n",
    "**Примечание**\n",
    "\n",
    "«Мегалайн» всегда округляет секунды до минут, а мегабайты — до гигабайт. Каждый звонок округляется отдельно: даже если он длился всего 1 секунду, будет засчитан как 1 минута.\n",
    "\n",
    "Для веб-трафика отдельные сессии не считаются. Вместо этого общая сумма за месяц округляется в бо́льшую сторону. Если абонент использует 1025 мегабайт в этом месяце, с него возьмут плату за 2 гигабайта. Принимаем, что неиспользованные за предыдущий месяц звонки, смс, интернет на следующий месяц не переносятся."
   ]
  },
  {
   "cell_type": "markdown",
   "metadata": {},
   "source": [
    "## Изучение данных\n",
    "\n",
    "Откроем все предоставленные данные и изучим их содержимое.\n",
    "\n",
    "Сначала загрузим все необходимые библиотеки:"
   ]
  },
  {
   "cell_type": "code",
   "execution_count": 1,
   "metadata": {},
   "outputs": [],
   "source": [
    "import numpy as np\n",
    "import pandas as pd\n",
    "import matplotlib.pyplot as plt\n",
    "from scipy import stats as st\n",
    "import seaborn as sns\n",
    "sns.set()\n",
    "%matplotlib inline"
   ]
  },
  {
   "cell_type": "markdown",
   "metadata": {},
   "source": [
    "Сохраним датасеты в переменные:"
   ]
  },
  {
   "cell_type": "code",
   "execution_count": 2,
   "metadata": {},
   "outputs": [],
   "source": [
    "calls = pd.read_csv('calls.csv')\n",
    "internet = pd.read_csv('internet.csv')\n",
    "messages = pd.read_csv('messages.csv')\n",
    "tariffs = pd.read_csv('tariffs.csv')\n",
    "users = pd.read_csv('users.csv')"
   ]
  },
  {
   "cell_type": "markdown",
   "metadata": {},
   "source": [
    "Теперь откроем все датасеты по очереди и изучим их содержимое.\n",
    "\n",
    "**Таблица calls:**"
   ]
  },
  {
   "cell_type": "code",
   "execution_count": 3,
   "metadata": {},
   "outputs": [
    {
     "data": {
      "text/html": [
       "<div>\n",
       "<style scoped>\n",
       "    .dataframe tbody tr th:only-of-type {\n",
       "        vertical-align: middle;\n",
       "    }\n",
       "\n",
       "    .dataframe tbody tr th {\n",
       "        vertical-align: top;\n",
       "    }\n",
       "\n",
       "    .dataframe thead th {\n",
       "        text-align: right;\n",
       "    }\n",
       "</style>\n",
       "<table border=\"1\" class=\"dataframe\">\n",
       "  <thead>\n",
       "    <tr style=\"text-align: right;\">\n",
       "      <th></th>\n",
       "      <th>id</th>\n",
       "      <th>call_date</th>\n",
       "      <th>duration</th>\n",
       "      <th>user_id</th>\n",
       "    </tr>\n",
       "  </thead>\n",
       "  <tbody>\n",
       "    <tr>\n",
       "      <th>0</th>\n",
       "      <td>1000_0</td>\n",
       "      <td>2018-07-25</td>\n",
       "      <td>0.00</td>\n",
       "      <td>1000</td>\n",
       "    </tr>\n",
       "    <tr>\n",
       "      <th>1</th>\n",
       "      <td>1000_1</td>\n",
       "      <td>2018-08-17</td>\n",
       "      <td>0.00</td>\n",
       "      <td>1000</td>\n",
       "    </tr>\n",
       "    <tr>\n",
       "      <th>2</th>\n",
       "      <td>1000_2</td>\n",
       "      <td>2018-06-11</td>\n",
       "      <td>2.85</td>\n",
       "      <td>1000</td>\n",
       "    </tr>\n",
       "    <tr>\n",
       "      <th>3</th>\n",
       "      <td>1000_3</td>\n",
       "      <td>2018-09-21</td>\n",
       "      <td>13.80</td>\n",
       "      <td>1000</td>\n",
       "    </tr>\n",
       "    <tr>\n",
       "      <th>4</th>\n",
       "      <td>1000_4</td>\n",
       "      <td>2018-12-15</td>\n",
       "      <td>5.18</td>\n",
       "      <td>1000</td>\n",
       "    </tr>\n",
       "  </tbody>\n",
       "</table>\n",
       "</div>"
      ],
      "text/plain": [
       "       id   call_date  duration  user_id\n",
       "0  1000_0  2018-07-25      0.00     1000\n",
       "1  1000_1  2018-08-17      0.00     1000\n",
       "2  1000_2  2018-06-11      2.85     1000\n",
       "3  1000_3  2018-09-21     13.80     1000\n",
       "4  1000_4  2018-12-15      5.18     1000"
      ]
     },
     "execution_count": 3,
     "metadata": {},
     "output_type": "execute_result"
    }
   ],
   "source": [
    "calls.head()"
   ]
  },
  {
   "cell_type": "code",
   "execution_count": 4,
   "metadata": {
    "scrolled": true
   },
   "outputs": [
    {
     "name": "stdout",
     "output_type": "stream",
     "text": [
      "<class 'pandas.core.frame.DataFrame'>\n",
      "RangeIndex: 202607 entries, 0 to 202606\n",
      "Data columns (total 4 columns):\n",
      " #   Column     Non-Null Count   Dtype  \n",
      "---  ------     --------------   -----  \n",
      " 0   id         202607 non-null  object \n",
      " 1   call_date  202607 non-null  object \n",
      " 2   duration   202607 non-null  float64\n",
      " 3   user_id    202607 non-null  int64  \n",
      "dtypes: float64(1), int64(1), object(2)\n",
      "memory usage: 6.2+ MB\n"
     ]
    }
   ],
   "source": [
    "calls.info()"
   ]
  },
  {
   "cell_type": "markdown",
   "metadata": {},
   "source": [
    "**Таблица internet:**"
   ]
  },
  {
   "cell_type": "code",
   "execution_count": 5,
   "metadata": {},
   "outputs": [
    {
     "data": {
      "text/html": [
       "<div>\n",
       "<style scoped>\n",
       "    .dataframe tbody tr th:only-of-type {\n",
       "        vertical-align: middle;\n",
       "    }\n",
       "\n",
       "    .dataframe tbody tr th {\n",
       "        vertical-align: top;\n",
       "    }\n",
       "\n",
       "    .dataframe thead th {\n",
       "        text-align: right;\n",
       "    }\n",
       "</style>\n",
       "<table border=\"1\" class=\"dataframe\">\n",
       "  <thead>\n",
       "    <tr style=\"text-align: right;\">\n",
       "      <th></th>\n",
       "      <th>Unnamed: 0</th>\n",
       "      <th>id</th>\n",
       "      <th>mb_used</th>\n",
       "      <th>session_date</th>\n",
       "      <th>user_id</th>\n",
       "    </tr>\n",
       "  </thead>\n",
       "  <tbody>\n",
       "    <tr>\n",
       "      <th>0</th>\n",
       "      <td>0</td>\n",
       "      <td>1000_0</td>\n",
       "      <td>112.95</td>\n",
       "      <td>2018-11-25</td>\n",
       "      <td>1000</td>\n",
       "    </tr>\n",
       "    <tr>\n",
       "      <th>1</th>\n",
       "      <td>1</td>\n",
       "      <td>1000_1</td>\n",
       "      <td>1052.81</td>\n",
       "      <td>2018-09-07</td>\n",
       "      <td>1000</td>\n",
       "    </tr>\n",
       "    <tr>\n",
       "      <th>2</th>\n",
       "      <td>2</td>\n",
       "      <td>1000_2</td>\n",
       "      <td>1197.26</td>\n",
       "      <td>2018-06-25</td>\n",
       "      <td>1000</td>\n",
       "    </tr>\n",
       "    <tr>\n",
       "      <th>3</th>\n",
       "      <td>3</td>\n",
       "      <td>1000_3</td>\n",
       "      <td>550.27</td>\n",
       "      <td>2018-08-22</td>\n",
       "      <td>1000</td>\n",
       "    </tr>\n",
       "    <tr>\n",
       "      <th>4</th>\n",
       "      <td>4</td>\n",
       "      <td>1000_4</td>\n",
       "      <td>302.56</td>\n",
       "      <td>2018-09-24</td>\n",
       "      <td>1000</td>\n",
       "    </tr>\n",
       "  </tbody>\n",
       "</table>\n",
       "</div>"
      ],
      "text/plain": [
       "   Unnamed: 0      id  mb_used session_date  user_id\n",
       "0           0  1000_0   112.95   2018-11-25     1000\n",
       "1           1  1000_1  1052.81   2018-09-07     1000\n",
       "2           2  1000_2  1197.26   2018-06-25     1000\n",
       "3           3  1000_3   550.27   2018-08-22     1000\n",
       "4           4  1000_4   302.56   2018-09-24     1000"
      ]
     },
     "execution_count": 5,
     "metadata": {},
     "output_type": "execute_result"
    }
   ],
   "source": [
    "internet.head()"
   ]
  },
  {
   "cell_type": "code",
   "execution_count": 6,
   "metadata": {
    "scrolled": true
   },
   "outputs": [
    {
     "name": "stdout",
     "output_type": "stream",
     "text": [
      "<class 'pandas.core.frame.DataFrame'>\n",
      "RangeIndex: 149396 entries, 0 to 149395\n",
      "Data columns (total 5 columns):\n",
      " #   Column        Non-Null Count   Dtype  \n",
      "---  ------        --------------   -----  \n",
      " 0   Unnamed: 0    149396 non-null  int64  \n",
      " 1   id            149396 non-null  object \n",
      " 2   mb_used       149396 non-null  float64\n",
      " 3   session_date  149396 non-null  object \n",
      " 4   user_id       149396 non-null  int64  \n",
      "dtypes: float64(1), int64(2), object(2)\n",
      "memory usage: 5.7+ MB\n"
     ]
    }
   ],
   "source": [
    "internet.info()"
   ]
  },
  {
   "cell_type": "markdown",
   "metadata": {},
   "source": [
    "**Таблица messages:**"
   ]
  },
  {
   "cell_type": "code",
   "execution_count": 7,
   "metadata": {},
   "outputs": [
    {
     "data": {
      "text/html": [
       "<div>\n",
       "<style scoped>\n",
       "    .dataframe tbody tr th:only-of-type {\n",
       "        vertical-align: middle;\n",
       "    }\n",
       "\n",
       "    .dataframe tbody tr th {\n",
       "        vertical-align: top;\n",
       "    }\n",
       "\n",
       "    .dataframe thead th {\n",
       "        text-align: right;\n",
       "    }\n",
       "</style>\n",
       "<table border=\"1\" class=\"dataframe\">\n",
       "  <thead>\n",
       "    <tr style=\"text-align: right;\">\n",
       "      <th></th>\n",
       "      <th>id</th>\n",
       "      <th>message_date</th>\n",
       "      <th>user_id</th>\n",
       "    </tr>\n",
       "  </thead>\n",
       "  <tbody>\n",
       "    <tr>\n",
       "      <th>0</th>\n",
       "      <td>1000_0</td>\n",
       "      <td>2018-06-27</td>\n",
       "      <td>1000</td>\n",
       "    </tr>\n",
       "    <tr>\n",
       "      <th>1</th>\n",
       "      <td>1000_1</td>\n",
       "      <td>2018-10-08</td>\n",
       "      <td>1000</td>\n",
       "    </tr>\n",
       "    <tr>\n",
       "      <th>2</th>\n",
       "      <td>1000_2</td>\n",
       "      <td>2018-08-04</td>\n",
       "      <td>1000</td>\n",
       "    </tr>\n",
       "    <tr>\n",
       "      <th>3</th>\n",
       "      <td>1000_3</td>\n",
       "      <td>2018-06-16</td>\n",
       "      <td>1000</td>\n",
       "    </tr>\n",
       "    <tr>\n",
       "      <th>4</th>\n",
       "      <td>1000_4</td>\n",
       "      <td>2018-12-05</td>\n",
       "      <td>1000</td>\n",
       "    </tr>\n",
       "  </tbody>\n",
       "</table>\n",
       "</div>"
      ],
      "text/plain": [
       "       id message_date  user_id\n",
       "0  1000_0   2018-06-27     1000\n",
       "1  1000_1   2018-10-08     1000\n",
       "2  1000_2   2018-08-04     1000\n",
       "3  1000_3   2018-06-16     1000\n",
       "4  1000_4   2018-12-05     1000"
      ]
     },
     "execution_count": 7,
     "metadata": {},
     "output_type": "execute_result"
    }
   ],
   "source": [
    "messages.head()"
   ]
  },
  {
   "cell_type": "code",
   "execution_count": 8,
   "metadata": {
    "scrolled": true
   },
   "outputs": [
    {
     "name": "stdout",
     "output_type": "stream",
     "text": [
      "<class 'pandas.core.frame.DataFrame'>\n",
      "RangeIndex: 123036 entries, 0 to 123035\n",
      "Data columns (total 3 columns):\n",
      " #   Column        Non-Null Count   Dtype \n",
      "---  ------        --------------   ----- \n",
      " 0   id            123036 non-null  object\n",
      " 1   message_date  123036 non-null  object\n",
      " 2   user_id       123036 non-null  int64 \n",
      "dtypes: int64(1), object(2)\n",
      "memory usage: 2.8+ MB\n"
     ]
    }
   ],
   "source": [
    "messages.info()"
   ]
  },
  {
   "cell_type": "markdown",
   "metadata": {},
   "source": [
    "**Таблица tariffs:**"
   ]
  },
  {
   "cell_type": "code",
   "execution_count": 9,
   "metadata": {},
   "outputs": [
    {
     "data": {
      "text/html": [
       "<div>\n",
       "<style scoped>\n",
       "    .dataframe tbody tr th:only-of-type {\n",
       "        vertical-align: middle;\n",
       "    }\n",
       "\n",
       "    .dataframe tbody tr th {\n",
       "        vertical-align: top;\n",
       "    }\n",
       "\n",
       "    .dataframe thead th {\n",
       "        text-align: right;\n",
       "    }\n",
       "</style>\n",
       "<table border=\"1\" class=\"dataframe\">\n",
       "  <thead>\n",
       "    <tr style=\"text-align: right;\">\n",
       "      <th></th>\n",
       "      <th>messages_included</th>\n",
       "      <th>mb_per_month_included</th>\n",
       "      <th>minutes_included</th>\n",
       "      <th>rub_monthly_fee</th>\n",
       "      <th>rub_per_gb</th>\n",
       "      <th>rub_per_message</th>\n",
       "      <th>rub_per_minute</th>\n",
       "      <th>tariff_name</th>\n",
       "    </tr>\n",
       "  </thead>\n",
       "  <tbody>\n",
       "    <tr>\n",
       "      <th>0</th>\n",
       "      <td>50</td>\n",
       "      <td>15360</td>\n",
       "      <td>500</td>\n",
       "      <td>550</td>\n",
       "      <td>200</td>\n",
       "      <td>3</td>\n",
       "      <td>3</td>\n",
       "      <td>smart</td>\n",
       "    </tr>\n",
       "    <tr>\n",
       "      <th>1</th>\n",
       "      <td>1000</td>\n",
       "      <td>30720</td>\n",
       "      <td>3000</td>\n",
       "      <td>1950</td>\n",
       "      <td>150</td>\n",
       "      <td>1</td>\n",
       "      <td>1</td>\n",
       "      <td>ultra</td>\n",
       "    </tr>\n",
       "  </tbody>\n",
       "</table>\n",
       "</div>"
      ],
      "text/plain": [
       "   messages_included  mb_per_month_included  minutes_included  \\\n",
       "0                 50                  15360               500   \n",
       "1               1000                  30720              3000   \n",
       "\n",
       "   rub_monthly_fee  rub_per_gb  rub_per_message  rub_per_minute tariff_name  \n",
       "0              550         200                3               3       smart  \n",
       "1             1950         150                1               1       ultra  "
      ]
     },
     "execution_count": 9,
     "metadata": {},
     "output_type": "execute_result"
    }
   ],
   "source": [
    "tariffs.head()"
   ]
  },
  {
   "cell_type": "code",
   "execution_count": 10,
   "metadata": {
    "scrolled": true
   },
   "outputs": [
    {
     "name": "stdout",
     "output_type": "stream",
     "text": [
      "<class 'pandas.core.frame.DataFrame'>\n",
      "RangeIndex: 2 entries, 0 to 1\n",
      "Data columns (total 8 columns):\n",
      " #   Column                 Non-Null Count  Dtype \n",
      "---  ------                 --------------  ----- \n",
      " 0   messages_included      2 non-null      int64 \n",
      " 1   mb_per_month_included  2 non-null      int64 \n",
      " 2   minutes_included       2 non-null      int64 \n",
      " 3   rub_monthly_fee        2 non-null      int64 \n",
      " 4   rub_per_gb             2 non-null      int64 \n",
      " 5   rub_per_message        2 non-null      int64 \n",
      " 6   rub_per_minute         2 non-null      int64 \n",
      " 7   tariff_name            2 non-null      object\n",
      "dtypes: int64(7), object(1)\n",
      "memory usage: 256.0+ bytes\n"
     ]
    }
   ],
   "source": [
    "tariffs.info()"
   ]
  },
  {
   "cell_type": "markdown",
   "metadata": {},
   "source": [
    "**Таблица users:**"
   ]
  },
  {
   "cell_type": "code",
   "execution_count": 11,
   "metadata": {},
   "outputs": [
    {
     "data": {
      "text/html": [
       "<div>\n",
       "<style scoped>\n",
       "    .dataframe tbody tr th:only-of-type {\n",
       "        vertical-align: middle;\n",
       "    }\n",
       "\n",
       "    .dataframe tbody tr th {\n",
       "        vertical-align: top;\n",
       "    }\n",
       "\n",
       "    .dataframe thead th {\n",
       "        text-align: right;\n",
       "    }\n",
       "</style>\n",
       "<table border=\"1\" class=\"dataframe\">\n",
       "  <thead>\n",
       "    <tr style=\"text-align: right;\">\n",
       "      <th></th>\n",
       "      <th>user_id</th>\n",
       "      <th>age</th>\n",
       "      <th>churn_date</th>\n",
       "      <th>city</th>\n",
       "      <th>first_name</th>\n",
       "      <th>last_name</th>\n",
       "      <th>reg_date</th>\n",
       "      <th>tariff</th>\n",
       "    </tr>\n",
       "  </thead>\n",
       "  <tbody>\n",
       "    <tr>\n",
       "      <th>0</th>\n",
       "      <td>1000</td>\n",
       "      <td>52</td>\n",
       "      <td>NaN</td>\n",
       "      <td>Краснодар</td>\n",
       "      <td>Рафаил</td>\n",
       "      <td>Верещагин</td>\n",
       "      <td>2018-05-25</td>\n",
       "      <td>ultra</td>\n",
       "    </tr>\n",
       "    <tr>\n",
       "      <th>1</th>\n",
       "      <td>1001</td>\n",
       "      <td>41</td>\n",
       "      <td>NaN</td>\n",
       "      <td>Москва</td>\n",
       "      <td>Иван</td>\n",
       "      <td>Ежов</td>\n",
       "      <td>2018-11-01</td>\n",
       "      <td>smart</td>\n",
       "    </tr>\n",
       "    <tr>\n",
       "      <th>2</th>\n",
       "      <td>1002</td>\n",
       "      <td>59</td>\n",
       "      <td>NaN</td>\n",
       "      <td>Стерлитамак</td>\n",
       "      <td>Евгений</td>\n",
       "      <td>Абрамович</td>\n",
       "      <td>2018-06-17</td>\n",
       "      <td>smart</td>\n",
       "    </tr>\n",
       "    <tr>\n",
       "      <th>3</th>\n",
       "      <td>1003</td>\n",
       "      <td>23</td>\n",
       "      <td>NaN</td>\n",
       "      <td>Москва</td>\n",
       "      <td>Белла</td>\n",
       "      <td>Белякова</td>\n",
       "      <td>2018-08-17</td>\n",
       "      <td>ultra</td>\n",
       "    </tr>\n",
       "    <tr>\n",
       "      <th>4</th>\n",
       "      <td>1004</td>\n",
       "      <td>68</td>\n",
       "      <td>NaN</td>\n",
       "      <td>Новокузнецк</td>\n",
       "      <td>Татьяна</td>\n",
       "      <td>Авдеенко</td>\n",
       "      <td>2018-05-14</td>\n",
       "      <td>ultra</td>\n",
       "    </tr>\n",
       "  </tbody>\n",
       "</table>\n",
       "</div>"
      ],
      "text/plain": [
       "   user_id  age churn_date         city first_name  last_name    reg_date  \\\n",
       "0     1000   52        NaN    Краснодар     Рафаил  Верещагин  2018-05-25   \n",
       "1     1001   41        NaN       Москва       Иван       Ежов  2018-11-01   \n",
       "2     1002   59        NaN  Стерлитамак    Евгений  Абрамович  2018-06-17   \n",
       "3     1003   23        NaN       Москва      Белла   Белякова  2018-08-17   \n",
       "4     1004   68        NaN  Новокузнецк    Татьяна   Авдеенко  2018-05-14   \n",
       "\n",
       "  tariff  \n",
       "0  ultra  \n",
       "1  smart  \n",
       "2  smart  \n",
       "3  ultra  \n",
       "4  ultra  "
      ]
     },
     "execution_count": 11,
     "metadata": {},
     "output_type": "execute_result"
    }
   ],
   "source": [
    "users.head()"
   ]
  },
  {
   "cell_type": "code",
   "execution_count": 12,
   "metadata": {
    "scrolled": false
   },
   "outputs": [
    {
     "name": "stdout",
     "output_type": "stream",
     "text": [
      "<class 'pandas.core.frame.DataFrame'>\n",
      "RangeIndex: 500 entries, 0 to 499\n",
      "Data columns (total 8 columns):\n",
      " #   Column      Non-Null Count  Dtype \n",
      "---  ------      --------------  ----- \n",
      " 0   user_id     500 non-null    int64 \n",
      " 1   age         500 non-null    int64 \n",
      " 2   churn_date  38 non-null     object\n",
      " 3   city        500 non-null    object\n",
      " 4   first_name  500 non-null    object\n",
      " 5   last_name   500 non-null    object\n",
      " 6   reg_date    500 non-null    object\n",
      " 7   tariff      500 non-null    object\n",
      "dtypes: int64(2), object(6)\n",
      "memory usage: 31.4+ KB\n"
     ]
    }
   ],
   "source": [
    "users.info()"
   ]
  },
  {
   "cell_type": "markdown",
   "metadata": {},
   "source": [
    "**Согласно документации:**\n",
    "\n",
    "Таблица users (информация о пользователях):\n",
    "\n",
    "* user_id — уникальный идентификатор пользователя\n",
    "* first_name — имя пользователя\n",
    "* last_name — фамилия пользователя\n",
    "* age — возраст пользователя (годы)\n",
    "* reg_date — дата подключения тарифа (день, месяц, год)\n",
    "* churn_date — дата прекращения пользования тарифом (если значение пропущено, то тариф ещё действовал на момент выгрузки данных)\n",
    "* city — город проживания пользователя\n",
    "* tariff — название тарифного плана\n",
    "\n",
    "Таблица calls (информация о звонках):\n",
    "\n",
    "* id — уникальный номер звонка\n",
    "* call_date — дата звонка\n",
    "* duration — длительность звонка в минутах\n",
    "* user_id — идентификатор пользователя, сделавшего звонок\n",
    "\n",
    "Таблица messages (информация о сообщениях):\n",
    "\n",
    "* id — уникальный номер сообщения\n",
    "* message_date — дата сообщения\n",
    "* user_id — идентификатор пользователя, отправившего сообщение\n",
    "\n",
    "Таблица internet (информация об интернет-сессиях):\n",
    "\n",
    "* id — уникальный номер сессии\n",
    "* mb_used — объём потраченного за сессию интернет-трафика (в мегабайтах)\n",
    "* session_date — дата интернет-сессии\n",
    "* user_id — идентификатор пользователя\n",
    "\n",
    "Таблица tariffs (информация о тарифах):\n",
    "\n",
    "* tariff_name — название тарифа\n",
    "* rub_monthly_fee — ежемесячная абонентская плата в рублях\n",
    "* minutes_included — количество минут разговора в месяц, включённых в абонентскую плату\n",
    "* messages_included — количество сообщений в месяц, включённых в абонентскую плату\n",
    "* mb_per_month_included — объём интернет-трафика, включённого в абонентскую плату (в мегабайтах)\n",
    "* rub_per_minute — стоимость минуты разговора сверх тарифного пакета (например, если в тарифе 100 минут разговора в месяц, то со 101 минуты будет взиматься плата)\n",
    "* rub_per_message — стоимость отправки сообщения сверх тарифного пакета\n",
    "* rub_per_gb — стоимость дополнительного гигабайта интернет-трафика сверх тарифного пакета (1 гигабайт = 1024 мегабайта)"
   ]
  },
  {
   "cell_type": "markdown",
   "metadata": {},
   "source": [
    "**Вывод:**\n",
    "\n",
    "1. Обнаружены пропуски в таблице users, в столбце churn_date.\n",
    "2. Тип данных в столбцах с датами нужно поменять на date_time."
   ]
  },
  {
   "cell_type": "markdown",
   "metadata": {},
   "source": [
    "## Подготовка данных\n",
    "\n",
    "### Таблица calls\n",
    "\n",
    "Приведем тип данных в столбце call_date к типу datetime."
   ]
  },
  {
   "cell_type": "code",
   "execution_count": 13,
   "metadata": {},
   "outputs": [],
   "source": [
    "calls['call_date'] = pd.to_datetime(calls['call_date'], format='%Y-%m-%d')"
   ]
  },
  {
   "cell_type": "markdown",
   "metadata": {},
   "source": [
    "Проверим столбец duration:"
   ]
  },
  {
   "cell_type": "code",
   "execution_count": 14,
   "metadata": {},
   "outputs": [
    {
     "data": {
      "text/plain": [
       "count    202607.000000\n",
       "mean          6.755887\n",
       "std           5.843365\n",
       "min           0.000000\n",
       "25%           1.300000\n",
       "50%           6.000000\n",
       "75%          10.700000\n",
       "max          38.000000\n",
       "Name: duration, dtype: float64"
      ]
     },
     "execution_count": 14,
     "metadata": {},
     "output_type": "execute_result"
    }
   ],
   "source": [
    "calls['duration'].describe()"
   ]
  },
  {
   "cell_type": "markdown",
   "metadata": {},
   "source": [
    "В столбце есть значения, равные 0. Нам уже пояснили, что эти нулевые значения обозначают пропущенные звонки, потому удалять их мы не станем.\n",
    "\n",
    "Округлим оставшиеся значения длительности звонков вверх:"
   ]
  },
  {
   "cell_type": "code",
   "execution_count": 15,
   "metadata": {},
   "outputs": [],
   "source": [
    "calls['duration'] = np.ceil(calls['duration'])"
   ]
  },
  {
   "cell_type": "markdown",
   "metadata": {},
   "source": [
    "Поскольку дробная часть уже не нужна, можно также поменять тип данных:"
   ]
  },
  {
   "cell_type": "code",
   "execution_count": 16,
   "metadata": {},
   "outputs": [],
   "source": [
    "calls['duration'] = calls['duration'].astype(int)"
   ]
  },
  {
   "cell_type": "markdown",
   "metadata": {},
   "source": [
    "### Таблица internet"
   ]
  },
  {
   "cell_type": "markdown",
   "metadata": {},
   "source": [
    "Приведем тип данных в столбце session_date к типу datetime:"
   ]
  },
  {
   "cell_type": "code",
   "execution_count": 17,
   "metadata": {},
   "outputs": [],
   "source": [
    "internet['session_date'] = pd.to_datetime(internet['session_date'], format='%Y-%m-%d')"
   ]
  },
  {
   "cell_type": "markdown",
   "metadata": {},
   "source": [
    "Проверим столбец mb_used:"
   ]
  },
  {
   "cell_type": "code",
   "execution_count": 18,
   "metadata": {},
   "outputs": [
    {
     "data": {
      "text/plain": [
       "count    149396.000000\n",
       "mean        370.192426\n",
       "std         278.300951\n",
       "min           0.000000\n",
       "25%         138.187500\n",
       "50%         348.015000\n",
       "75%         559.552500\n",
       "max        1724.830000\n",
       "Name: mb_used, dtype: float64"
      ]
     },
     "execution_count": 18,
     "metadata": {},
     "output_type": "execute_result"
    }
   ],
   "source": [
    "internet['mb_used'].describe()"
   ]
  },
  {
   "cell_type": "markdown",
   "metadata": {},
   "source": [
    "Снова нулевые значения. Игнорируем их по тем же причинам, по которым мы игнорировали нулевые звонки.\n",
    "\n",
    "Округлять мегабайты до целого числа мы пока не станем."
   ]
  },
  {
   "cell_type": "code",
   "execution_count": 19,
   "metadata": {},
   "outputs": [
    {
     "name": "stdout",
     "output_type": "stream",
     "text": [
      "Нулевых интернет-сессий: 0.13 %\n"
     ]
    },
    {
     "data": {
      "image/png": "[encoded data removed]",
      "text/plain": [
       "<Figure size 432x288 with 1 Axes>"
      ]
     },
     "metadata": {
      "needs_background": "light"
     },
     "output_type": "display_data"
    }
   ],
   "source": [
    "# Комментарий ревьюера 2\n",
    "temp = internet.copy()\n",
    "temp['mb_used'].hist(bins = 50)\n",
    "print('Нулевых интернет-сессий:',round(temp['mb_used'].value_counts().sort_index()[0]/temp['mb_used'].count(),2), '%')"
   ]
  },
  {
   "cell_type": "markdown",
   "metadata": {},
   "source": [
    "### Таблица messages\n",
    "\n",
    "Приведем тип данных в столбце message_date к типу datetime:"
   ]
  },
  {
   "cell_type": "code",
   "execution_count": 20,
   "metadata": {},
   "outputs": [],
   "source": [
    "messages['message_date'] = pd.to_datetime(messages['message_date'], format='%Y-%m-%d')"
   ]
  },
  {
   "cell_type": "markdown",
   "metadata": {},
   "source": [
    "### Таблица tariffs\n",
    "\n",
    "В этой таблице ничего менять не нужно. Оставим все, как есть."
   ]
  },
  {
   "cell_type": "markdown",
   "metadata": {},
   "source": [
    "### Таблица users\n",
    "\n",
    "NaN значения в churn_date говорят, что тариф для пользователя еще действовал на момент выгрузки. Посмотрим на количество таких пользователей."
   ]
  },
  {
   "cell_type": "code",
   "execution_count": 21,
   "metadata": {
    "scrolled": true
   },
   "outputs": [
    {
     "name": "stdout",
     "output_type": "stream",
     "text": [
      "Число пользователей, для которых дейcтвует тариф: 462\n"
     ]
    }
   ],
   "source": [
    "print('Число пользователей, для которых дейcтвует тариф:', len(users[users.churn_date.isna()]))"
   ]
  },
  {
   "cell_type": "code",
   "execution_count": 22,
   "metadata": {
    "scrolled": true
   },
   "outputs": [
    {
     "name": "stdout",
     "output_type": "stream",
     "text": [
      "Число пользователей, для которых не дейcтвует тариф: 38\n"
     ]
    }
   ],
   "source": [
    "print('Число пользователей, для которых не дейcтвует тариф:', len(users[~users.churn_date.isna()]))"
   ]
  },
  {
   "cell_type": "markdown",
   "metadata": {},
   "source": [
    "Приведем даты в churn_date к типу datetime:"
   ]
  },
  {
   "cell_type": "code",
   "execution_count": 23,
   "metadata": {},
   "outputs": [],
   "source": [
    "users['churn_date'] = pd.to_datetime(users['churn_date'], format='%Y-%m-%d')"
   ]
  },
  {
   "cell_type": "markdown",
   "metadata": {},
   "source": [
    "Осталось только привести тип данных в столбце reg_date к datetime:"
   ]
  },
  {
   "cell_type": "code",
   "execution_count": 24,
   "metadata": {},
   "outputs": [],
   "source": [
    "users['reg_date'] = pd.to_datetime(users['reg_date'], format='%Y-%m-%d')"
   ]
  },
  {
   "cell_type": "markdown",
   "metadata": {},
   "source": [
    "### Расчеты\n",
    "\n",
    "Посчитаем для каждого пользователя:\n",
    "\n",
    "* количество сделанных звонков и израсходованных минут разговора по месяцам;\n",
    "* количество отправленных сообщений по месяцам;\n",
    "* объем израсходованного интернет-трафика по месяцам;\n",
    "* помесячную выручку с каждого пользователя.\n",
    "\n",
    "Сначала добавим в таблицы столбец с тарифом для каждого абонента. \n",
    "\n",
    "Для этого составим словарь с соответствием тарифа пользователю:"
   ]
  },
  {
   "cell_type": "code",
   "execution_count": 25,
   "metadata": {},
   "outputs": [],
   "source": [
    "tarif_for_user = {}"
   ]
  },
  {
   "cell_type": "markdown",
   "metadata": {},
   "source": [
    "Напишем функцию для заполнения этого словаря:"
   ]
  },
  {
   "cell_type": "code",
   "execution_count": 26,
   "metadata": {},
   "outputs": [],
   "source": [
    "def add_tarif_to_user(row):\n",
    "    tarif_for_user[row[0]] = row[7]"
   ]
  },
  {
   "cell_type": "markdown",
   "metadata": {},
   "source": [
    "Применим функцию:"
   ]
  },
  {
   "cell_type": "code",
   "execution_count": 27,
   "metadata": {},
   "outputs": [
    {
     "data": {
      "text/plain": [
       "0      None\n",
       "1      None\n",
       "2      None\n",
       "3      None\n",
       "4      None\n",
       "       ... \n",
       "495    None\n",
       "496    None\n",
       "497    None\n",
       "498    None\n",
       "499    None\n",
       "Length: 500, dtype: object"
      ]
     },
     "execution_count": 27,
     "metadata": {},
     "output_type": "execute_result"
    }
   ],
   "source": [
    "users.apply(add_tarif_to_user, axis=1)"
   ]
  },
  {
   "cell_type": "markdown",
   "metadata": {},
   "source": [
    "Мы получили словарь, в котором для каждого user_id сопоставлен свой тариф. \n",
    "\n",
    "Добавим столбцы с тарифами к таблицам calls, internet и messages.\n",
    "\n",
    "Для этого используем функцию:"
   ]
  },
  {
   "cell_type": "code",
   "execution_count": 28,
   "metadata": {},
   "outputs": [],
   "source": [
    "def add_tariff(row):\n",
    "    return tarif_for_user[row]"
   ]
  },
  {
   "cell_type": "markdown",
   "metadata": {},
   "source": [
    "Применим ее:"
   ]
  },
  {
   "cell_type": "code",
   "execution_count": 29,
   "metadata": {},
   "outputs": [],
   "source": [
    "for i in (calls, internet, messages):\n",
    "    i['tariff'] = i['user_id'].apply(add_tariff)"
   ]
  },
  {
   "cell_type": "markdown",
   "metadata": {},
   "source": [
    "Определим функцию, которая будет добавлять столбец с месяцем в таблицы:"
   ]
  },
  {
   "cell_type": "code",
   "execution_count": 30,
   "metadata": {},
   "outputs": [],
   "source": [
    "def date_to_month(date, colname):\n",
    "    date['month'] = date[colname].dt.month"
   ]
  },
  {
   "cell_type": "markdown",
   "metadata": {},
   "source": [
    "Добавим стобец с номером месяца в наши таблицы:"
   ]
  },
  {
   "cell_type": "code",
   "execution_count": 31,
   "metadata": {},
   "outputs": [],
   "source": [
    "for i in ((calls, 'call_date'), (internet, 'session_date'), (messages, 'message_date')):\n",
    "    date_to_month(*i)"
   ]
  },
  {
   "cell_type": "markdown",
   "metadata": {},
   "source": [
    "Рассчитаем звонки по месяцам для каждого пользователя:"
   ]
  },
  {
   "cell_type": "code",
   "execution_count": 32,
   "metadata": {
    "scrolled": true
   },
   "outputs": [
    {
     "data": {
      "text/html": [
       "<div>\n",
       "<style scoped>\n",
       "    .dataframe tbody tr th:only-of-type {\n",
       "        vertical-align: middle;\n",
       "    }\n",
       "\n",
       "    .dataframe tbody tr th {\n",
       "        vertical-align: top;\n",
       "    }\n",
       "\n",
       "    .dataframe thead th {\n",
       "        text-align: right;\n",
       "    }\n",
       "</style>\n",
       "<table border=\"1\" class=\"dataframe\">\n",
       "  <thead>\n",
       "    <tr style=\"text-align: right;\">\n",
       "      <th></th>\n",
       "      <th></th>\n",
       "      <th></th>\n",
       "      <th>minutes_calls</th>\n",
       "      <th>count_calls</th>\n",
       "    </tr>\n",
       "    <tr>\n",
       "      <th>user_id</th>\n",
       "      <th>tariff</th>\n",
       "      <th>month</th>\n",
       "      <th></th>\n",
       "      <th></th>\n",
       "    </tr>\n",
       "  </thead>\n",
       "  <tbody>\n",
       "    <tr>\n",
       "      <th rowspan=\"8\" valign=\"top\">1000</th>\n",
       "      <th rowspan=\"8\" valign=\"top\">ultra</th>\n",
       "      <th>5</th>\n",
       "      <td>159</td>\n",
       "      <td>22</td>\n",
       "    </tr>\n",
       "    <tr>\n",
       "      <th>6</th>\n",
       "      <td>172</td>\n",
       "      <td>43</td>\n",
       "    </tr>\n",
       "    <tr>\n",
       "      <th>7</th>\n",
       "      <td>340</td>\n",
       "      <td>47</td>\n",
       "    </tr>\n",
       "    <tr>\n",
       "      <th>8</th>\n",
       "      <td>408</td>\n",
       "      <td>52</td>\n",
       "    </tr>\n",
       "    <tr>\n",
       "      <th>9</th>\n",
       "      <td>466</td>\n",
       "      <td>58</td>\n",
       "    </tr>\n",
       "    <tr>\n",
       "      <th>10</th>\n",
       "      <td>350</td>\n",
       "      <td>57</td>\n",
       "    </tr>\n",
       "    <tr>\n",
       "      <th>11</th>\n",
       "      <td>338</td>\n",
       "      <td>43</td>\n",
       "    </tr>\n",
       "    <tr>\n",
       "      <th>12</th>\n",
       "      <td>333</td>\n",
       "      <td>46</td>\n",
       "    </tr>\n",
       "    <tr>\n",
       "      <th rowspan=\"2\" valign=\"top\">1001</th>\n",
       "      <th rowspan=\"2\" valign=\"top\">smart</th>\n",
       "      <th>11</th>\n",
       "      <td>430</td>\n",
       "      <td>59</td>\n",
       "    </tr>\n",
       "    <tr>\n",
       "      <th>12</th>\n",
       "      <td>414</td>\n",
       "      <td>63</td>\n",
       "    </tr>\n",
       "  </tbody>\n",
       "</table>\n",
       "</div>"
      ],
      "text/plain": [
       "                      minutes_calls  count_calls\n",
       "user_id tariff month                            \n",
       "1000    ultra  5                159           22\n",
       "               6                172           43\n",
       "               7                340           47\n",
       "               8                408           52\n",
       "               9                466           58\n",
       "               10               350           57\n",
       "               11               338           43\n",
       "               12               333           46\n",
       "1001    smart  11               430           59\n",
       "               12               414           63"
      ]
     },
     "execution_count": 32,
     "metadata": {},
     "output_type": "execute_result"
    }
   ],
   "source": [
    "calls_pivot = calls.pivot_table(index=['user_id', 'tariff', 'month'], values='duration', aggfunc=['sum', 'count'])\n",
    "calls_pivot.columns = ['minutes_calls', 'count_calls']\n",
    "calls_pivot.head(10)"
   ]
  },
  {
   "cell_type": "code",
   "execution_count": 33,
   "metadata": {},
   "outputs": [
    {
     "name": "stdout",
     "output_type": "stream",
     "text": [
      "<class 'pandas.core.frame.DataFrame'>\n",
      "MultiIndex: 3174 entries, (1000, 'ultra', 5) to (1499, 'smart', 12)\n",
      "Data columns (total 2 columns):\n",
      " #   Column         Non-Null Count  Dtype\n",
      "---  ------         --------------  -----\n",
      " 0   minutes_calls  3174 non-null   int32\n",
      " 1   count_calls    3174 non-null   int64\n",
      "dtypes: int32(1), int64(1)\n",
      "memory usage: 53.7+ KB\n"
     ]
    }
   ],
   "source": [
    "calls_pivot.info()"
   ]
  },
  {
   "cell_type": "markdown",
   "metadata": {},
   "source": [
    "Рассчитаем сообщения по месяцам для каждого пользователя:"
   ]
  },
  {
   "cell_type": "code",
   "execution_count": 34,
   "metadata": {},
   "outputs": [
    {
     "data": {
      "text/html": [
       "<div>\n",
       "<style scoped>\n",
       "    .dataframe tbody tr th:only-of-type {\n",
       "        vertical-align: middle;\n",
       "    }\n",
       "\n",
       "    .dataframe tbody tr th {\n",
       "        vertical-align: top;\n",
       "    }\n",
       "\n",
       "    .dataframe thead th {\n",
       "        text-align: right;\n",
       "    }\n",
       "</style>\n",
       "<table border=\"1\" class=\"dataframe\">\n",
       "  <thead>\n",
       "    <tr style=\"text-align: right;\">\n",
       "      <th></th>\n",
       "      <th></th>\n",
       "      <th></th>\n",
       "      <th>count_messages</th>\n",
       "    </tr>\n",
       "    <tr>\n",
       "      <th>user_id</th>\n",
       "      <th>tariff</th>\n",
       "      <th>month</th>\n",
       "      <th></th>\n",
       "    </tr>\n",
       "  </thead>\n",
       "  <tbody>\n",
       "    <tr>\n",
       "      <th rowspan=\"8\" valign=\"top\">1000</th>\n",
       "      <th rowspan=\"8\" valign=\"top\">ultra</th>\n",
       "      <th>5</th>\n",
       "      <td>22</td>\n",
       "    </tr>\n",
       "    <tr>\n",
       "      <th>6</th>\n",
       "      <td>60</td>\n",
       "    </tr>\n",
       "    <tr>\n",
       "      <th>7</th>\n",
       "      <td>75</td>\n",
       "    </tr>\n",
       "    <tr>\n",
       "      <th>8</th>\n",
       "      <td>81</td>\n",
       "    </tr>\n",
       "    <tr>\n",
       "      <th>9</th>\n",
       "      <td>57</td>\n",
       "    </tr>\n",
       "    <tr>\n",
       "      <th>10</th>\n",
       "      <td>73</td>\n",
       "    </tr>\n",
       "    <tr>\n",
       "      <th>11</th>\n",
       "      <td>58</td>\n",
       "    </tr>\n",
       "    <tr>\n",
       "      <th>12</th>\n",
       "      <td>70</td>\n",
       "    </tr>\n",
       "    <tr>\n",
       "      <th rowspan=\"2\" valign=\"top\">1002</th>\n",
       "      <th rowspan=\"2\" valign=\"top\">smart</th>\n",
       "      <th>6</th>\n",
       "      <td>4</td>\n",
       "    </tr>\n",
       "    <tr>\n",
       "      <th>7</th>\n",
       "      <td>11</td>\n",
       "    </tr>\n",
       "  </tbody>\n",
       "</table>\n",
       "</div>"
      ],
      "text/plain": [
       "                      count_messages\n",
       "user_id tariff month                \n",
       "1000    ultra  5                  22\n",
       "               6                  60\n",
       "               7                  75\n",
       "               8                  81\n",
       "               9                  57\n",
       "               10                 73\n",
       "               11                 58\n",
       "               12                 70\n",
       "1002    smart  6                   4\n",
       "               7                  11"
      ]
     },
     "execution_count": 34,
     "metadata": {},
     "output_type": "execute_result"
    }
   ],
   "source": [
    "messages_pivot = messages.pivot_table(index=['user_id', 'tariff', 'month'], values='id', aggfunc='count')\n",
    "messages_pivot.columns = ['count_messages']\n",
    "messages_pivot.head(10)"
   ]
  },
  {
   "cell_type": "code",
   "execution_count": 35,
   "metadata": {},
   "outputs": [
    {
     "name": "stdout",
     "output_type": "stream",
     "text": [
      "<class 'pandas.core.frame.DataFrame'>\n",
      "MultiIndex: 2717 entries, (1000, 'ultra', 5) to (1499, 'smart', 12)\n",
      "Data columns (total 1 columns):\n",
      " #   Column          Non-Null Count  Dtype\n",
      "---  ------          --------------  -----\n",
      " 0   count_messages  2717 non-null   int64\n",
      "dtypes: int64(1)\n",
      "memory usage: 35.4+ KB\n"
     ]
    }
   ],
   "source": [
    "messages_pivot.info()"
   ]
  },
  {
   "cell_type": "markdown",
   "metadata": {},
   "source": [
    "Рассчитаем интернет-трафик по месяцам для каждого пользователя:"
   ]
  },
  {
   "cell_type": "code",
   "execution_count": 36,
   "metadata": {
    "scrolled": false
   },
   "outputs": [
    {
     "data": {
      "text/html": [
       "<div>\n",
       "<style scoped>\n",
       "    .dataframe tbody tr th:only-of-type {\n",
       "        vertical-align: middle;\n",
       "    }\n",
       "\n",
       "    .dataframe tbody tr th {\n",
       "        vertical-align: top;\n",
       "    }\n",
       "\n",
       "    .dataframe thead th {\n",
       "        text-align: right;\n",
       "    }\n",
       "</style>\n",
       "<table border=\"1\" class=\"dataframe\">\n",
       "  <thead>\n",
       "    <tr style=\"text-align: right;\">\n",
       "      <th></th>\n",
       "      <th></th>\n",
       "      <th></th>\n",
       "      <th>gb_used</th>\n",
       "    </tr>\n",
       "    <tr>\n",
       "      <th>user_id</th>\n",
       "      <th>tariff</th>\n",
       "      <th>month</th>\n",
       "      <th></th>\n",
       "    </tr>\n",
       "  </thead>\n",
       "  <tbody>\n",
       "    <tr>\n",
       "      <th rowspan=\"8\" valign=\"top\">1000</th>\n",
       "      <th rowspan=\"8\" valign=\"top\">ultra</th>\n",
       "      <th>5</th>\n",
       "      <td>2253.49</td>\n",
       "    </tr>\n",
       "    <tr>\n",
       "      <th>6</th>\n",
       "      <td>23233.77</td>\n",
       "    </tr>\n",
       "    <tr>\n",
       "      <th>7</th>\n",
       "      <td>14003.64</td>\n",
       "    </tr>\n",
       "    <tr>\n",
       "      <th>8</th>\n",
       "      <td>14055.93</td>\n",
       "    </tr>\n",
       "    <tr>\n",
       "      <th>9</th>\n",
       "      <td>14568.91</td>\n",
       "    </tr>\n",
       "    <tr>\n",
       "      <th>10</th>\n",
       "      <td>14702.49</td>\n",
       "    </tr>\n",
       "    <tr>\n",
       "      <th>11</th>\n",
       "      <td>14756.47</td>\n",
       "    </tr>\n",
       "    <tr>\n",
       "      <th>12</th>\n",
       "      <td>9817.61</td>\n",
       "    </tr>\n",
       "    <tr>\n",
       "      <th rowspan=\"2\" valign=\"top\">1001</th>\n",
       "      <th rowspan=\"2\" valign=\"top\">smart</th>\n",
       "      <th>11</th>\n",
       "      <td>18429.34</td>\n",
       "    </tr>\n",
       "    <tr>\n",
       "      <th>12</th>\n",
       "      <td>14036.66</td>\n",
       "    </tr>\n",
       "  </tbody>\n",
       "</table>\n",
       "</div>"
      ],
      "text/plain": [
       "                       gb_used\n",
       "user_id tariff month          \n",
       "1000    ultra  5       2253.49\n",
       "               6      23233.77\n",
       "               7      14003.64\n",
       "               8      14055.93\n",
       "               9      14568.91\n",
       "               10     14702.49\n",
       "               11     14756.47\n",
       "               12      9817.61\n",
       "1001    smart  11     18429.34\n",
       "               12     14036.66"
      ]
     },
     "execution_count": 36,
     "metadata": {},
     "output_type": "execute_result"
    }
   ],
   "source": [
    "internet_pivot = internet.pivot_table(index=['user_id', 'tariff', 'month'], values='mb_used', aggfunc='sum')\n",
    "internet_pivot.columns = ['gb_used']\n",
    "internet_pivot.head(10)"
   ]
  },
  {
   "cell_type": "markdown",
   "metadata": {},
   "source": [
    "Значения в столбце gb_used записаны в мегабайтах. Округлим их до гигабайтов и отбросим нули:"
   ]
  },
  {
   "cell_type": "code",
   "execution_count": 37,
   "metadata": {
    "scrolled": true
   },
   "outputs": [
    {
     "data": {
      "text/html": [
       "<div>\n",
       "<style scoped>\n",
       "    .dataframe tbody tr th:only-of-type {\n",
       "        vertical-align: middle;\n",
       "    }\n",
       "\n",
       "    .dataframe tbody tr th {\n",
       "        vertical-align: top;\n",
       "    }\n",
       "\n",
       "    .dataframe thead th {\n",
       "        text-align: right;\n",
       "    }\n",
       "</style>\n",
       "<table border=\"1\" class=\"dataframe\">\n",
       "  <thead>\n",
       "    <tr style=\"text-align: right;\">\n",
       "      <th></th>\n",
       "      <th></th>\n",
       "      <th></th>\n",
       "      <th>gb_used</th>\n",
       "    </tr>\n",
       "    <tr>\n",
       "      <th>user_id</th>\n",
       "      <th>tariff</th>\n",
       "      <th>month</th>\n",
       "      <th></th>\n",
       "    </tr>\n",
       "  </thead>\n",
       "  <tbody>\n",
       "    <tr>\n",
       "      <th rowspan=\"8\" valign=\"top\">1000</th>\n",
       "      <th rowspan=\"8\" valign=\"top\">ultra</th>\n",
       "      <th>5</th>\n",
       "      <td>3</td>\n",
       "    </tr>\n",
       "    <tr>\n",
       "      <th>6</th>\n",
       "      <td>23</td>\n",
       "    </tr>\n",
       "    <tr>\n",
       "      <th>7</th>\n",
       "      <td>14</td>\n",
       "    </tr>\n",
       "    <tr>\n",
       "      <th>8</th>\n",
       "      <td>14</td>\n",
       "    </tr>\n",
       "    <tr>\n",
       "      <th>9</th>\n",
       "      <td>15</td>\n",
       "    </tr>\n",
       "    <tr>\n",
       "      <th>10</th>\n",
       "      <td>15</td>\n",
       "    </tr>\n",
       "    <tr>\n",
       "      <th>11</th>\n",
       "      <td>15</td>\n",
       "    </tr>\n",
       "    <tr>\n",
       "      <th>12</th>\n",
       "      <td>10</td>\n",
       "    </tr>\n",
       "    <tr>\n",
       "      <th rowspan=\"2\" valign=\"top\">1001</th>\n",
       "      <th rowspan=\"2\" valign=\"top\">smart</th>\n",
       "      <th>11</th>\n",
       "      <td>18</td>\n",
       "    </tr>\n",
       "    <tr>\n",
       "      <th>12</th>\n",
       "      <td>14</td>\n",
       "    </tr>\n",
       "  </tbody>\n",
       "</table>\n",
       "</div>"
      ],
      "text/plain": [
       "                      gb_used\n",
       "user_id tariff month         \n",
       "1000    ultra  5            3\n",
       "               6           23\n",
       "               7           14\n",
       "               8           14\n",
       "               9           15\n",
       "               10          15\n",
       "               11          15\n",
       "               12          10\n",
       "1001    smart  11          18\n",
       "               12          14"
      ]
     },
     "execution_count": 37,
     "metadata": {},
     "output_type": "execute_result"
    }
   ],
   "source": [
    "internet_pivot['gb_used'] = np.ceil(internet_pivot['gb_used'] / 1024)\n",
    "internet_pivot['gb_used'] = internet_pivot['gb_used'].astype(int)\n",
    "internet_pivot.head(10)"
   ]
  },
  {
   "cell_type": "code",
   "execution_count": 38,
   "metadata": {},
   "outputs": [
    {
     "name": "stdout",
     "output_type": "stream",
     "text": [
      "<class 'pandas.core.frame.DataFrame'>\n",
      "MultiIndex: 3203 entries, (1000, 'ultra', 5) to (1499, 'smart', 12)\n",
      "Data columns (total 1 columns):\n",
      " #   Column   Non-Null Count  Dtype\n",
      "---  ------   --------------  -----\n",
      " 0   gb_used  3203 non-null   int32\n",
      "dtypes: int32(1)\n",
      "memory usage: 29.2+ KB\n"
     ]
    }
   ],
   "source": [
    "internet_pivot.info()"
   ]
  },
  {
   "cell_type": "markdown",
   "metadata": {},
   "source": [
    "Посчитаем выручку с каждого абонента. \n",
    "\n",
    "Для этого надо присоединить полученные таблицы к users:"
   ]
  },
  {
   "cell_type": "code",
   "execution_count": 39,
   "metadata": {
    "scrolled": false
   },
   "outputs": [
    {
     "data": {
      "text/html": [
       "<div>\n",
       "<style scoped>\n",
       "    .dataframe tbody tr th:only-of-type {\n",
       "        vertical-align: middle;\n",
       "    }\n",
       "\n",
       "    .dataframe tbody tr th {\n",
       "        vertical-align: top;\n",
       "    }\n",
       "\n",
       "    .dataframe thead th {\n",
       "        text-align: right;\n",
       "    }\n",
       "</style>\n",
       "<table border=\"1\" class=\"dataframe\">\n",
       "  <thead>\n",
       "    <tr style=\"text-align: right;\">\n",
       "      <th></th>\n",
       "      <th>user_id</th>\n",
       "      <th>age</th>\n",
       "      <th>churn_date</th>\n",
       "      <th>city</th>\n",
       "      <th>first_name</th>\n",
       "      <th>last_name</th>\n",
       "      <th>reg_date</th>\n",
       "      <th>tariff</th>\n",
       "      <th>month</th>\n",
       "      <th>minutes_calls</th>\n",
       "      <th>count_calls</th>\n",
       "      <th>gb_used</th>\n",
       "      <th>count_messages</th>\n",
       "    </tr>\n",
       "  </thead>\n",
       "  <tbody>\n",
       "    <tr>\n",
       "      <th>0</th>\n",
       "      <td>1000</td>\n",
       "      <td>52</td>\n",
       "      <td>NaT</td>\n",
       "      <td>Краснодар</td>\n",
       "      <td>Рафаил</td>\n",
       "      <td>Верещагин</td>\n",
       "      <td>2018-05-25</td>\n",
       "      <td>ultra</td>\n",
       "      <td>5.0</td>\n",
       "      <td>159.0</td>\n",
       "      <td>22.0</td>\n",
       "      <td>3.0</td>\n",
       "      <td>22.0</td>\n",
       "    </tr>\n",
       "    <tr>\n",
       "      <th>1</th>\n",
       "      <td>1000</td>\n",
       "      <td>52</td>\n",
       "      <td>NaT</td>\n",
       "      <td>Краснодар</td>\n",
       "      <td>Рафаил</td>\n",
       "      <td>Верещагин</td>\n",
       "      <td>2018-05-25</td>\n",
       "      <td>ultra</td>\n",
       "      <td>6.0</td>\n",
       "      <td>172.0</td>\n",
       "      <td>43.0</td>\n",
       "      <td>23.0</td>\n",
       "      <td>60.0</td>\n",
       "    </tr>\n",
       "    <tr>\n",
       "      <th>2</th>\n",
       "      <td>1000</td>\n",
       "      <td>52</td>\n",
       "      <td>NaT</td>\n",
       "      <td>Краснодар</td>\n",
       "      <td>Рафаил</td>\n",
       "      <td>Верещагин</td>\n",
       "      <td>2018-05-25</td>\n",
       "      <td>ultra</td>\n",
       "      <td>7.0</td>\n",
       "      <td>340.0</td>\n",
       "      <td>47.0</td>\n",
       "      <td>14.0</td>\n",
       "      <td>75.0</td>\n",
       "    </tr>\n",
       "    <tr>\n",
       "      <th>3</th>\n",
       "      <td>1000</td>\n",
       "      <td>52</td>\n",
       "      <td>NaT</td>\n",
       "      <td>Краснодар</td>\n",
       "      <td>Рафаил</td>\n",
       "      <td>Верещагин</td>\n",
       "      <td>2018-05-25</td>\n",
       "      <td>ultra</td>\n",
       "      <td>8.0</td>\n",
       "      <td>408.0</td>\n",
       "      <td>52.0</td>\n",
       "      <td>14.0</td>\n",
       "      <td>81.0</td>\n",
       "    </tr>\n",
       "    <tr>\n",
       "      <th>4</th>\n",
       "      <td>1000</td>\n",
       "      <td>52</td>\n",
       "      <td>NaT</td>\n",
       "      <td>Краснодар</td>\n",
       "      <td>Рафаил</td>\n",
       "      <td>Верещагин</td>\n",
       "      <td>2018-05-25</td>\n",
       "      <td>ultra</td>\n",
       "      <td>9.0</td>\n",
       "      <td>466.0</td>\n",
       "      <td>58.0</td>\n",
       "      <td>15.0</td>\n",
       "      <td>57.0</td>\n",
       "    </tr>\n",
       "    <tr>\n",
       "      <th>5</th>\n",
       "      <td>1000</td>\n",
       "      <td>52</td>\n",
       "      <td>NaT</td>\n",
       "      <td>Краснодар</td>\n",
       "      <td>Рафаил</td>\n",
       "      <td>Верещагин</td>\n",
       "      <td>2018-05-25</td>\n",
       "      <td>ultra</td>\n",
       "      <td>10.0</td>\n",
       "      <td>350.0</td>\n",
       "      <td>57.0</td>\n",
       "      <td>15.0</td>\n",
       "      <td>73.0</td>\n",
       "    </tr>\n",
       "    <tr>\n",
       "      <th>6</th>\n",
       "      <td>1000</td>\n",
       "      <td>52</td>\n",
       "      <td>NaT</td>\n",
       "      <td>Краснодар</td>\n",
       "      <td>Рафаил</td>\n",
       "      <td>Верещагин</td>\n",
       "      <td>2018-05-25</td>\n",
       "      <td>ultra</td>\n",
       "      <td>11.0</td>\n",
       "      <td>338.0</td>\n",
       "      <td>43.0</td>\n",
       "      <td>15.0</td>\n",
       "      <td>58.0</td>\n",
       "    </tr>\n",
       "    <tr>\n",
       "      <th>7</th>\n",
       "      <td>1000</td>\n",
       "      <td>52</td>\n",
       "      <td>NaT</td>\n",
       "      <td>Краснодар</td>\n",
       "      <td>Рафаил</td>\n",
       "      <td>Верещагин</td>\n",
       "      <td>2018-05-25</td>\n",
       "      <td>ultra</td>\n",
       "      <td>12.0</td>\n",
       "      <td>333.0</td>\n",
       "      <td>46.0</td>\n",
       "      <td>10.0</td>\n",
       "      <td>70.0</td>\n",
       "    </tr>\n",
       "    <tr>\n",
       "      <th>8</th>\n",
       "      <td>1001</td>\n",
       "      <td>41</td>\n",
       "      <td>NaT</td>\n",
       "      <td>Москва</td>\n",
       "      <td>Иван</td>\n",
       "      <td>Ежов</td>\n",
       "      <td>2018-11-01</td>\n",
       "      <td>smart</td>\n",
       "      <td>11.0</td>\n",
       "      <td>430.0</td>\n",
       "      <td>59.0</td>\n",
       "      <td>18.0</td>\n",
       "      <td>NaN</td>\n",
       "    </tr>\n",
       "    <tr>\n",
       "      <th>9</th>\n",
       "      <td>1001</td>\n",
       "      <td>41</td>\n",
       "      <td>NaT</td>\n",
       "      <td>Москва</td>\n",
       "      <td>Иван</td>\n",
       "      <td>Ежов</td>\n",
       "      <td>2018-11-01</td>\n",
       "      <td>smart</td>\n",
       "      <td>12.0</td>\n",
       "      <td>414.0</td>\n",
       "      <td>63.0</td>\n",
       "      <td>14.0</td>\n",
       "      <td>NaN</td>\n",
       "    </tr>\n",
       "  </tbody>\n",
       "</table>\n",
       "</div>"
      ],
      "text/plain": [
       "   user_id  age churn_date       city first_name  last_name   reg_date tariff  \\\n",
       "0     1000   52        NaT  Краснодар     Рафаил  Верещагин 2018-05-25  ultra   \n",
       "1     1000   52        NaT  Краснодар     Рафаил  Верещагин 2018-05-25  ultra   \n",
       "2     1000   52        NaT  Краснодар     Рафаил  Верещагин 2018-05-25  ultra   \n",
       "3     1000   52        NaT  Краснодар     Рафаил  Верещагин 2018-05-25  ultra   \n",
       "4     1000   52        NaT  Краснодар     Рафаил  Верещагин 2018-05-25  ultra   \n",
       "5     1000   52        NaT  Краснодар     Рафаил  Верещагин 2018-05-25  ultra   \n",
       "6     1000   52        NaT  Краснодар     Рафаил  Верещагин 2018-05-25  ultra   \n",
       "7     1000   52        NaT  Краснодар     Рафаил  Верещагин 2018-05-25  ultra   \n",
       "8     1001   41        NaT     Москва       Иван       Ежов 2018-11-01  smart   \n",
       "9     1001   41        NaT     Москва       Иван       Ежов 2018-11-01  smart   \n",
       "\n",
       "   month  minutes_calls  count_calls  gb_used  count_messages  \n",
       "0    5.0          159.0         22.0      3.0            22.0  \n",
       "1    6.0          172.0         43.0     23.0            60.0  \n",
       "2    7.0          340.0         47.0     14.0            75.0  \n",
       "3    8.0          408.0         52.0     14.0            81.0  \n",
       "4    9.0          466.0         58.0     15.0            57.0  \n",
       "5   10.0          350.0         57.0     15.0            73.0  \n",
       "6   11.0          338.0         43.0     15.0            58.0  \n",
       "7   12.0          333.0         46.0     10.0            70.0  \n",
       "8   11.0          430.0         59.0     18.0             NaN  \n",
       "9   12.0          414.0         63.0     14.0             NaN  "
      ]
     },
     "execution_count": 39,
     "metadata": {},
     "output_type": "execute_result"
    }
   ],
   "source": [
    "data_merge = users.merge(calls_pivot.reset_index(), how='left').merge(internet_pivot.reset_index(), how='left').merge(messages_pivot.reset_index(), how='left')\n",
    "data_merge.head(10)"
   ]
  },
  {
   "cell_type": "code",
   "execution_count": 40,
   "metadata": {},
   "outputs": [
    {
     "data": {
      "text/plain": [
       "(500,)"
      ]
     },
     "execution_count": 40,
     "metadata": {},
     "output_type": "execute_result"
    }
   ],
   "source": [
    "# Комментарий ревьюера\n",
    "data_merge.user_id.unique().shape"
   ]
  },
  {
   "cell_type": "code",
   "execution_count": 41,
   "metadata": {
    "scrolled": true
   },
   "outputs": [
    {
     "data": {
      "text/plain": [
       "500"
      ]
     },
     "execution_count": 41,
     "metadata": {},
     "output_type": "execute_result"
    }
   ],
   "source": [
    "# Комментарий студента\n",
    "len(data_merge['user_id'].unique())"
   ]
  },
  {
   "cell_type": "code",
   "execution_count": 42,
   "metadata": {},
   "outputs": [
    {
     "data": {
      "text/html": [
       "<div>\n",
       "<style scoped>\n",
       "    .dataframe tbody tr th:only-of-type {\n",
       "        vertical-align: middle;\n",
       "    }\n",
       "\n",
       "    .dataframe tbody tr th {\n",
       "        vertical-align: top;\n",
       "    }\n",
       "\n",
       "    .dataframe thead th {\n",
       "        text-align: right;\n",
       "    }\n",
       "</style>\n",
       "<table border=\"1\" class=\"dataframe\">\n",
       "  <thead>\n",
       "    <tr style=\"text-align: right;\">\n",
       "      <th></th>\n",
       "      <th>user_id</th>\n",
       "      <th>age</th>\n",
       "      <th>churn_date</th>\n",
       "      <th>city</th>\n",
       "      <th>first_name</th>\n",
       "      <th>last_name</th>\n",
       "      <th>reg_date</th>\n",
       "      <th>tariff</th>\n",
       "    </tr>\n",
       "  </thead>\n",
       "  <tbody>\n",
       "    <tr>\n",
       "      <th>128</th>\n",
       "      <td>1128</td>\n",
       "      <td>51</td>\n",
       "      <td>2018-12-23</td>\n",
       "      <td>Волжский</td>\n",
       "      <td>Ксения</td>\n",
       "      <td>Агаева</td>\n",
       "      <td>2018-12-15</td>\n",
       "      <td>ultra</td>\n",
       "    </tr>\n",
       "    <tr>\n",
       "      <th>371</th>\n",
       "      <td>1371</td>\n",
       "      <td>50</td>\n",
       "      <td>2018-12-30</td>\n",
       "      <td>Омск</td>\n",
       "      <td>Ириней</td>\n",
       "      <td>Трофимов</td>\n",
       "      <td>2018-12-25</td>\n",
       "      <td>smart</td>\n",
       "    </tr>\n",
       "  </tbody>\n",
       "</table>\n",
       "</div>"
      ],
      "text/plain": [
       "     user_id  age churn_date      city first_name last_name   reg_date tariff\n",
       "128     1128   51 2018-12-23  Волжский     Ксения    Агаева 2018-12-15  ultra\n",
       "371     1371   50 2018-12-30      Омск     Ириней  Трофимов 2018-12-25  smart"
      ]
     },
     "execution_count": 42,
     "metadata": {},
     "output_type": "execute_result"
    }
   ],
   "source": [
    "# Комментарий ревьюера 2\n",
    "temp = users.copy()\n",
    "temp[(temp.user_id ==  1128) | (temp.user_id ==  1371)]"
   ]
  },
  {
   "cell_type": "markdown",
   "metadata": {},
   "source": [
    "Изучим новую таблицу повнимательнее:"
   ]
  },
  {
   "cell_type": "code",
   "execution_count": 43,
   "metadata": {
    "scrolled": false
   },
   "outputs": [
    {
     "name": "stdout",
     "output_type": "stream",
     "text": [
      "<class 'pandas.core.frame.DataFrame'>\n",
      "Int64Index: 3182 entries, 0 to 3181\n",
      "Data columns (total 13 columns):\n",
      " #   Column          Non-Null Count  Dtype         \n",
      "---  ------          --------------  -----         \n",
      " 0   user_id         3182 non-null   int64         \n",
      " 1   age             3182 non-null   int64         \n",
      " 2   churn_date      189 non-null    datetime64[ns]\n",
      " 3   city            3182 non-null   object        \n",
      " 4   first_name      3182 non-null   object        \n",
      " 5   last_name       3182 non-null   object        \n",
      " 6   reg_date        3182 non-null   datetime64[ns]\n",
      " 7   tariff          3182 non-null   object        \n",
      " 8   month           3174 non-null   float64       \n",
      " 9   minutes_calls   3174 non-null   float64       \n",
      " 10  count_calls     3174 non-null   float64       \n",
      " 11  gb_used         3163 non-null   float64       \n",
      " 12  count_messages  2678 non-null   float64       \n",
      "dtypes: datetime64[ns](2), float64(5), int64(2), object(4)\n",
      "memory usage: 348.0+ KB\n"
     ]
    }
   ],
   "source": [
    "data_merge.info()"
   ]
  },
  {
   "cell_type": "markdown",
   "metadata": {},
   "source": [
    "Обработаем пропуски. Учтем тот факт, что некоторые пользователи не использовали некоторые виды связи. Если в ячейке есть nan, значит абонент не пользовался предоставленной связью. Заменим nan нулями:"
   ]
  },
  {
   "cell_type": "code",
   "execution_count": 44,
   "metadata": {},
   "outputs": [],
   "source": [
    "data_merge = data_merge.fillna(0)"
   ]
  },
  {
   "cell_type": "markdown",
   "metadata": {},
   "source": [
    "Выведем те строки, в которых значение месяца равно 0:"
   ]
  },
  {
   "cell_type": "code",
   "execution_count": 45,
   "metadata": {
    "scrolled": false
   },
   "outputs": [
    {
     "data": {
      "text/html": [
       "<div>\n",
       "<style scoped>\n",
       "    .dataframe tbody tr th:only-of-type {\n",
       "        vertical-align: middle;\n",
       "    }\n",
       "\n",
       "    .dataframe tbody tr th {\n",
       "        vertical-align: top;\n",
       "    }\n",
       "\n",
       "    .dataframe thead th {\n",
       "        text-align: right;\n",
       "    }\n",
       "</style>\n",
       "<table border=\"1\" class=\"dataframe\">\n",
       "  <thead>\n",
       "    <tr style=\"text-align: right;\">\n",
       "      <th></th>\n",
       "      <th>user_id</th>\n",
       "      <th>age</th>\n",
       "      <th>churn_date</th>\n",
       "      <th>city</th>\n",
       "      <th>first_name</th>\n",
       "      <th>last_name</th>\n",
       "      <th>reg_date</th>\n",
       "      <th>tariff</th>\n",
       "      <th>month</th>\n",
       "      <th>minutes_calls</th>\n",
       "      <th>count_calls</th>\n",
       "      <th>gb_used</th>\n",
       "      <th>count_messages</th>\n",
       "    </tr>\n",
       "  </thead>\n",
       "  <tbody>\n",
       "    <tr>\n",
       "      <th>570</th>\n",
       "      <td>1091</td>\n",
       "      <td>36</td>\n",
       "      <td>0</td>\n",
       "      <td>Набережные Челны</td>\n",
       "      <td>Вера</td>\n",
       "      <td>Суслова</td>\n",
       "      <td>2018-05-08</td>\n",
       "      <td>ultra</td>\n",
       "      <td>0.0</td>\n",
       "      <td>0.0</td>\n",
       "      <td>0.0</td>\n",
       "      <td>0.0</td>\n",
       "      <td>0.0</td>\n",
       "    </tr>\n",
       "    <tr>\n",
       "      <th>664</th>\n",
       "      <td>1106</td>\n",
       "      <td>67</td>\n",
       "      <td>0</td>\n",
       "      <td>Калуга</td>\n",
       "      <td>Исаак</td>\n",
       "      <td>Костин</td>\n",
       "      <td>2018-04-26</td>\n",
       "      <td>ultra</td>\n",
       "      <td>0.0</td>\n",
       "      <td>0.0</td>\n",
       "      <td>0.0</td>\n",
       "      <td>0.0</td>\n",
       "      <td>0.0</td>\n",
       "    </tr>\n",
       "    <tr>\n",
       "      <th>812</th>\n",
       "      <td>1128</td>\n",
       "      <td>51</td>\n",
       "      <td>2018-12-23 00:00:00</td>\n",
       "      <td>Волжский</td>\n",
       "      <td>Ксения</td>\n",
       "      <td>Агаева</td>\n",
       "      <td>2018-12-15</td>\n",
       "      <td>ultra</td>\n",
       "      <td>0.0</td>\n",
       "      <td>0.0</td>\n",
       "      <td>0.0</td>\n",
       "      <td>0.0</td>\n",
       "      <td>0.0</td>\n",
       "    </tr>\n",
       "    <tr>\n",
       "      <th>1460</th>\n",
       "      <td>1231</td>\n",
       "      <td>63</td>\n",
       "      <td>0</td>\n",
       "      <td>Чебоксары</td>\n",
       "      <td>Касьян</td>\n",
       "      <td>Авдюков</td>\n",
       "      <td>2018-05-23</td>\n",
       "      <td>ultra</td>\n",
       "      <td>0.0</td>\n",
       "      <td>0.0</td>\n",
       "      <td>0.0</td>\n",
       "      <td>0.0</td>\n",
       "      <td>0.0</td>\n",
       "    </tr>\n",
       "    <tr>\n",
       "      <th>2061</th>\n",
       "      <td>1328</td>\n",
       "      <td>44</td>\n",
       "      <td>0</td>\n",
       "      <td>Мурманск</td>\n",
       "      <td>Рауль</td>\n",
       "      <td>Аркадьев</td>\n",
       "      <td>2018-10-16</td>\n",
       "      <td>ultra</td>\n",
       "      <td>0.0</td>\n",
       "      <td>0.0</td>\n",
       "      <td>0.0</td>\n",
       "      <td>0.0</td>\n",
       "      <td>0.0</td>\n",
       "    </tr>\n",
       "    <tr>\n",
       "      <th>2311</th>\n",
       "      <td>1371</td>\n",
       "      <td>50</td>\n",
       "      <td>2018-12-30 00:00:00</td>\n",
       "      <td>Омск</td>\n",
       "      <td>Ириней</td>\n",
       "      <td>Трофимов</td>\n",
       "      <td>2018-12-25</td>\n",
       "      <td>smart</td>\n",
       "      <td>0.0</td>\n",
       "      <td>0.0</td>\n",
       "      <td>0.0</td>\n",
       "      <td>0.0</td>\n",
       "      <td>0.0</td>\n",
       "    </tr>\n",
       "    <tr>\n",
       "      <th>3022</th>\n",
       "      <td>1473</td>\n",
       "      <td>18</td>\n",
       "      <td>0</td>\n",
       "      <td>Красноярск</td>\n",
       "      <td>Николай</td>\n",
       "      <td>Лебедев</td>\n",
       "      <td>2018-08-05</td>\n",
       "      <td>ultra</td>\n",
       "      <td>0.0</td>\n",
       "      <td>0.0</td>\n",
       "      <td>0.0</td>\n",
       "      <td>0.0</td>\n",
       "      <td>0.0</td>\n",
       "    </tr>\n",
       "    <tr>\n",
       "      <th>3121</th>\n",
       "      <td>1489</td>\n",
       "      <td>35</td>\n",
       "      <td>0</td>\n",
       "      <td>Санкт-Петербург</td>\n",
       "      <td>Павел</td>\n",
       "      <td>Гончаров</td>\n",
       "      <td>2018-08-15</td>\n",
       "      <td>smart</td>\n",
       "      <td>0.0</td>\n",
       "      <td>0.0</td>\n",
       "      <td>0.0</td>\n",
       "      <td>0.0</td>\n",
       "      <td>0.0</td>\n",
       "    </tr>\n",
       "  </tbody>\n",
       "</table>\n",
       "</div>"
      ],
      "text/plain": [
       "      user_id  age           churn_date              city first_name  \\\n",
       "570      1091   36                    0  Набережные Челны       Вера   \n",
       "664      1106   67                    0            Калуга      Исаак   \n",
       "812      1128   51  2018-12-23 00:00:00          Волжский     Ксения   \n",
       "1460     1231   63                    0         Чебоксары     Касьян   \n",
       "2061     1328   44                    0          Мурманск      Рауль   \n",
       "2311     1371   50  2018-12-30 00:00:00              Омск     Ириней   \n",
       "3022     1473   18                    0        Красноярск    Николай   \n",
       "3121     1489   35                    0   Санкт-Петербург      Павел   \n",
       "\n",
       "     last_name   reg_date tariff  month  minutes_calls  count_calls  gb_used  \\\n",
       "570    Суслова 2018-05-08  ultra    0.0            0.0          0.0      0.0   \n",
       "664     Костин 2018-04-26  ultra    0.0            0.0          0.0      0.0   \n",
       "812     Агаева 2018-12-15  ultra    0.0            0.0          0.0      0.0   \n",
       "1460   Авдюков 2018-05-23  ultra    0.0            0.0          0.0      0.0   \n",
       "2061  Аркадьев 2018-10-16  ultra    0.0            0.0          0.0      0.0   \n",
       "2311  Трофимов 2018-12-25  smart    0.0            0.0          0.0      0.0   \n",
       "3022   Лебедев 2018-08-05  ultra    0.0            0.0          0.0      0.0   \n",
       "3121  Гончаров 2018-08-15  smart    0.0            0.0          0.0      0.0   \n",
       "\n",
       "      count_messages  \n",
       "570              0.0  \n",
       "664              0.0  \n",
       "812              0.0  \n",
       "1460             0.0  \n",
       "2061             0.0  \n",
       "2311             0.0  \n",
       "3022             0.0  \n",
       "3121             0.0  "
      ]
     },
     "execution_count": 45,
     "metadata": {},
     "output_type": "execute_result"
    }
   ],
   "source": [
    "data_merge.loc[data_merge['month'] == 0]"
   ]
  },
  {
   "cell_type": "markdown",
   "metadata": {},
   "source": [
    "Всего 8 строк. Мы видим, что это те пользователи, которые ни разу не воспользовались ни одним из видов связи. Поскольку причина возникновения этой аномалии не ясна, и эти клиенты могут повлиять на выборку, мы можем спокойно удалить их из таблицы."
   ]
  },
  {
   "cell_type": "code",
   "execution_count": 46,
   "metadata": {},
   "outputs": [],
   "source": [
    "data_merge = data_merge[data_merge['month'] != 0]"
   ]
  },
  {
   "cell_type": "markdown",
   "metadata": {},
   "source": [
    "Уберем из таблицы данные, у которых значением месяца равно 0. У этих записей количество минут, смс и мб также равно 0, и они внесут нам искажения в распределения."
   ]
  },
  {
   "cell_type": "code",
   "execution_count": 47,
   "metadata": {},
   "outputs": [
    {
     "data": {
      "text/plain": [
       "(492,)"
      ]
     },
     "execution_count": 47,
     "metadata": {},
     "output_type": "execute_result"
    }
   ],
   "source": [
    "# Комментарий ревьюера 2\n",
    "data_merge.user_id.unique().shape"
   ]
  },
  {
   "cell_type": "markdown",
   "metadata": {},
   "source": [
    "Проверим итог:"
   ]
  },
  {
   "cell_type": "code",
   "execution_count": 48,
   "metadata": {},
   "outputs": [
    {
     "data": {
      "text/html": [
       "<div>\n",
       "<style scoped>\n",
       "    .dataframe tbody tr th:only-of-type {\n",
       "        vertical-align: middle;\n",
       "    }\n",
       "\n",
       "    .dataframe tbody tr th {\n",
       "        vertical-align: top;\n",
       "    }\n",
       "\n",
       "    .dataframe thead th {\n",
       "        text-align: right;\n",
       "    }\n",
       "</style>\n",
       "<table border=\"1\" class=\"dataframe\">\n",
       "  <thead>\n",
       "    <tr style=\"text-align: right;\">\n",
       "      <th></th>\n",
       "      <th>user_id</th>\n",
       "      <th>age</th>\n",
       "      <th>churn_date</th>\n",
       "      <th>city</th>\n",
       "      <th>first_name</th>\n",
       "      <th>last_name</th>\n",
       "      <th>reg_date</th>\n",
       "      <th>tariff</th>\n",
       "      <th>month</th>\n",
       "      <th>minutes_calls</th>\n",
       "      <th>count_calls</th>\n",
       "      <th>gb_used</th>\n",
       "      <th>count_messages</th>\n",
       "    </tr>\n",
       "  </thead>\n",
       "  <tbody>\n",
       "    <tr>\n",
       "      <th>0</th>\n",
       "      <td>1000</td>\n",
       "      <td>52</td>\n",
       "      <td>0</td>\n",
       "      <td>Краснодар</td>\n",
       "      <td>Рафаил</td>\n",
       "      <td>Верещагин</td>\n",
       "      <td>2018-05-25</td>\n",
       "      <td>ultra</td>\n",
       "      <td>5.0</td>\n",
       "      <td>159.0</td>\n",
       "      <td>22.0</td>\n",
       "      <td>3.0</td>\n",
       "      <td>22.0</td>\n",
       "    </tr>\n",
       "    <tr>\n",
       "      <th>1</th>\n",
       "      <td>1000</td>\n",
       "      <td>52</td>\n",
       "      <td>0</td>\n",
       "      <td>Краснодар</td>\n",
       "      <td>Рафаил</td>\n",
       "      <td>Верещагин</td>\n",
       "      <td>2018-05-25</td>\n",
       "      <td>ultra</td>\n",
       "      <td>6.0</td>\n",
       "      <td>172.0</td>\n",
       "      <td>43.0</td>\n",
       "      <td>23.0</td>\n",
       "      <td>60.0</td>\n",
       "    </tr>\n",
       "    <tr>\n",
       "      <th>2</th>\n",
       "      <td>1000</td>\n",
       "      <td>52</td>\n",
       "      <td>0</td>\n",
       "      <td>Краснодар</td>\n",
       "      <td>Рафаил</td>\n",
       "      <td>Верещагин</td>\n",
       "      <td>2018-05-25</td>\n",
       "      <td>ultra</td>\n",
       "      <td>7.0</td>\n",
       "      <td>340.0</td>\n",
       "      <td>47.0</td>\n",
       "      <td>14.0</td>\n",
       "      <td>75.0</td>\n",
       "    </tr>\n",
       "    <tr>\n",
       "      <th>3</th>\n",
       "      <td>1000</td>\n",
       "      <td>52</td>\n",
       "      <td>0</td>\n",
       "      <td>Краснодар</td>\n",
       "      <td>Рафаил</td>\n",
       "      <td>Верещагин</td>\n",
       "      <td>2018-05-25</td>\n",
       "      <td>ultra</td>\n",
       "      <td>8.0</td>\n",
       "      <td>408.0</td>\n",
       "      <td>52.0</td>\n",
       "      <td>14.0</td>\n",
       "      <td>81.0</td>\n",
       "    </tr>\n",
       "    <tr>\n",
       "      <th>4</th>\n",
       "      <td>1000</td>\n",
       "      <td>52</td>\n",
       "      <td>0</td>\n",
       "      <td>Краснодар</td>\n",
       "      <td>Рафаил</td>\n",
       "      <td>Верещагин</td>\n",
       "      <td>2018-05-25</td>\n",
       "      <td>ultra</td>\n",
       "      <td>9.0</td>\n",
       "      <td>466.0</td>\n",
       "      <td>58.0</td>\n",
       "      <td>15.0</td>\n",
       "      <td>57.0</td>\n",
       "    </tr>\n",
       "    <tr>\n",
       "      <th>5</th>\n",
       "      <td>1000</td>\n",
       "      <td>52</td>\n",
       "      <td>0</td>\n",
       "      <td>Краснодар</td>\n",
       "      <td>Рафаил</td>\n",
       "      <td>Верещагин</td>\n",
       "      <td>2018-05-25</td>\n",
       "      <td>ultra</td>\n",
       "      <td>10.0</td>\n",
       "      <td>350.0</td>\n",
       "      <td>57.0</td>\n",
       "      <td>15.0</td>\n",
       "      <td>73.0</td>\n",
       "    </tr>\n",
       "    <tr>\n",
       "      <th>6</th>\n",
       "      <td>1000</td>\n",
       "      <td>52</td>\n",
       "      <td>0</td>\n",
       "      <td>Краснодар</td>\n",
       "      <td>Рафаил</td>\n",
       "      <td>Верещагин</td>\n",
       "      <td>2018-05-25</td>\n",
       "      <td>ultra</td>\n",
       "      <td>11.0</td>\n",
       "      <td>338.0</td>\n",
       "      <td>43.0</td>\n",
       "      <td>15.0</td>\n",
       "      <td>58.0</td>\n",
       "    </tr>\n",
       "    <tr>\n",
       "      <th>7</th>\n",
       "      <td>1000</td>\n",
       "      <td>52</td>\n",
       "      <td>0</td>\n",
       "      <td>Краснодар</td>\n",
       "      <td>Рафаил</td>\n",
       "      <td>Верещагин</td>\n",
       "      <td>2018-05-25</td>\n",
       "      <td>ultra</td>\n",
       "      <td>12.0</td>\n",
       "      <td>333.0</td>\n",
       "      <td>46.0</td>\n",
       "      <td>10.0</td>\n",
       "      <td>70.0</td>\n",
       "    </tr>\n",
       "    <tr>\n",
       "      <th>8</th>\n",
       "      <td>1001</td>\n",
       "      <td>41</td>\n",
       "      <td>0</td>\n",
       "      <td>Москва</td>\n",
       "      <td>Иван</td>\n",
       "      <td>Ежов</td>\n",
       "      <td>2018-11-01</td>\n",
       "      <td>smart</td>\n",
       "      <td>11.0</td>\n",
       "      <td>430.0</td>\n",
       "      <td>59.0</td>\n",
       "      <td>18.0</td>\n",
       "      <td>0.0</td>\n",
       "    </tr>\n",
       "    <tr>\n",
       "      <th>9</th>\n",
       "      <td>1001</td>\n",
       "      <td>41</td>\n",
       "      <td>0</td>\n",
       "      <td>Москва</td>\n",
       "      <td>Иван</td>\n",
       "      <td>Ежов</td>\n",
       "      <td>2018-11-01</td>\n",
       "      <td>smart</td>\n",
       "      <td>12.0</td>\n",
       "      <td>414.0</td>\n",
       "      <td>63.0</td>\n",
       "      <td>14.0</td>\n",
       "      <td>0.0</td>\n",
       "    </tr>\n",
       "  </tbody>\n",
       "</table>\n",
       "</div>"
      ],
      "text/plain": [
       "   user_id  age churn_date       city first_name  last_name   reg_date tariff  \\\n",
       "0     1000   52          0  Краснодар     Рафаил  Верещагин 2018-05-25  ultra   \n",
       "1     1000   52          0  Краснодар     Рафаил  Верещагин 2018-05-25  ultra   \n",
       "2     1000   52          0  Краснодар     Рафаил  Верещагин 2018-05-25  ultra   \n",
       "3     1000   52          0  Краснодар     Рафаил  Верещагин 2018-05-25  ultra   \n",
       "4     1000   52          0  Краснодар     Рафаил  Верещагин 2018-05-25  ultra   \n",
       "5     1000   52          0  Краснодар     Рафаил  Верещагин 2018-05-25  ultra   \n",
       "6     1000   52          0  Краснодар     Рафаил  Верещагин 2018-05-25  ultra   \n",
       "7     1000   52          0  Краснодар     Рафаил  Верещагин 2018-05-25  ultra   \n",
       "8     1001   41          0     Москва       Иван       Ежов 2018-11-01  smart   \n",
       "9     1001   41          0     Москва       Иван       Ежов 2018-11-01  smart   \n",
       "\n",
       "   month  minutes_calls  count_calls  gb_used  count_messages  \n",
       "0    5.0          159.0         22.0      3.0            22.0  \n",
       "1    6.0          172.0         43.0     23.0            60.0  \n",
       "2    7.0          340.0         47.0     14.0            75.0  \n",
       "3    8.0          408.0         52.0     14.0            81.0  \n",
       "4    9.0          466.0         58.0     15.0            57.0  \n",
       "5   10.0          350.0         57.0     15.0            73.0  \n",
       "6   11.0          338.0         43.0     15.0            58.0  \n",
       "7   12.0          333.0         46.0     10.0            70.0  \n",
       "8   11.0          430.0         59.0     18.0             0.0  \n",
       "9   12.0          414.0         63.0     14.0             0.0  "
      ]
     },
     "execution_count": 48,
     "metadata": {},
     "output_type": "execute_result"
    }
   ],
   "source": [
    "data_merge.head(10)"
   ]
  },
  {
   "cell_type": "code",
   "execution_count": 49,
   "metadata": {},
   "outputs": [
    {
     "data": {
      "text/html": [
       "<div>\n",
       "<style scoped>\n",
       "    .dataframe tbody tr th:only-of-type {\n",
       "        vertical-align: middle;\n",
       "    }\n",
       "\n",
       "    .dataframe tbody tr th {\n",
       "        vertical-align: top;\n",
       "    }\n",
       "\n",
       "    .dataframe thead th {\n",
       "        text-align: right;\n",
       "    }\n",
       "</style>\n",
       "<table border=\"1\" class=\"dataframe\">\n",
       "  <thead>\n",
       "    <tr style=\"text-align: right;\">\n",
       "      <th></th>\n",
       "      <th>messages_included</th>\n",
       "      <th>mb_per_month_included</th>\n",
       "      <th>minutes_included</th>\n",
       "      <th>rub_monthly_fee</th>\n",
       "      <th>rub_per_gb</th>\n",
       "      <th>rub_per_message</th>\n",
       "      <th>rub_per_minute</th>\n",
       "      <th>tariff_name</th>\n",
       "    </tr>\n",
       "  </thead>\n",
       "  <tbody>\n",
       "    <tr>\n",
       "      <th>0</th>\n",
       "      <td>50</td>\n",
       "      <td>15360</td>\n",
       "      <td>500</td>\n",
       "      <td>550</td>\n",
       "      <td>200</td>\n",
       "      <td>3</td>\n",
       "      <td>3</td>\n",
       "      <td>smart</td>\n",
       "    </tr>\n",
       "    <tr>\n",
       "      <th>1</th>\n",
       "      <td>1000</td>\n",
       "      <td>30720</td>\n",
       "      <td>3000</td>\n",
       "      <td>1950</td>\n",
       "      <td>150</td>\n",
       "      <td>1</td>\n",
       "      <td>1</td>\n",
       "      <td>ultra</td>\n",
       "    </tr>\n",
       "  </tbody>\n",
       "</table>\n",
       "</div>"
      ],
      "text/plain": [
       "   messages_included  mb_per_month_included  minutes_included  \\\n",
       "0                 50                  15360               500   \n",
       "1               1000                  30720              3000   \n",
       "\n",
       "   rub_monthly_fee  rub_per_gb  rub_per_message  rub_per_minute tariff_name  \n",
       "0              550         200                3               3       smart  \n",
       "1             1950         150                1               1       ultra  "
      ]
     },
     "execution_count": 49,
     "metadata": {},
     "output_type": "execute_result"
    }
   ],
   "source": [
    "tariffs.head()"
   ]
  },
  {
   "cell_type": "markdown",
   "metadata": {},
   "source": [
    "Теперь можно произвести расчет выручки по каждому абоненту для каждого месяца.\n",
    "\n",
    "Рассчитаем помесячную выручку с каждого пользователя. \n",
    "\n",
    "Для этого мы вычтем бесплатный лимит из суммарного количества звонков, сообщений и интернет-трафика; остаток умножим на значение из тарифного плана; прибавим абонентскую плату, соответствующую тарифному плану.\n",
    "\n",
    "Весь этот рассчет мы предоставим функции:"
   ]
  },
  {
   "cell_type": "code",
   "execution_count": 50,
   "metadata": {},
   "outputs": [],
   "source": [
    "def cash_for_megaline(row):\n",
    "    def check(tariff):\n",
    "        minutes_for_pay = row[9] - tariffs[tariffs['tariff_name'] == tariff].iloc[0, 2]\n",
    "        if minutes_for_pay < 0:\n",
    "            minutes_for_pay = 0\n",
    "        internet_for_pay = row[11] - (tariffs[tariffs['tariff_name'] == tariff].iloc[0, 1] / 1024)\n",
    "        if internet_for_pay < 0:\n",
    "            internet_for_pay = 0\n",
    "        messages_for_pay = row[12] - tariffs[tariffs['tariff_name'] == tariff].iloc[0, 0]\n",
    "        if messages_for_pay < 0:\n",
    "            messages_for_pay = 0\n",
    "        return sum([minutes_for_pay * tariffs[tariffs['tariff_name'] == tariff].iloc[0, 6], \n",
    "                internet_for_pay * tariffs[tariffs['tariff_name'] == tariff].iloc[0, 4], \n",
    "                messages_for_pay * tariffs[tariffs['tariff_name'] == tariff].iloc[0, 5]])\n",
    "    return tariffs[tariffs['tariff_name'] == row[7]].iloc[0, 3] + check(row[7])"
   ]
  },
  {
   "cell_type": "markdown",
   "metadata": {},
   "source": [
    "Сохраним значения выручки в столбец revenue."
   ]
  },
  {
   "cell_type": "code",
   "execution_count": 51,
   "metadata": {},
   "outputs": [],
   "source": [
    "data_merge['revenue'] = data_merge.apply(cash_for_megaline, axis=1)"
   ]
  },
  {
   "cell_type": "markdown",
   "metadata": {},
   "source": [
    "Для дальнейших вычислений приведем тип в столбце month к типу int:"
   ]
  },
  {
   "cell_type": "code",
   "execution_count": 52,
   "metadata": {},
   "outputs": [],
   "source": [
    "data_merge['month'] = data_merge['month'].astype(int)"
   ]
  },
  {
   "cell_type": "code",
   "execution_count": 53,
   "metadata": {},
   "outputs": [
    {
     "data": {
      "text/html": [
       "<div>\n",
       "<style scoped>\n",
       "    .dataframe tbody tr th:only-of-type {\n",
       "        vertical-align: middle;\n",
       "    }\n",
       "\n",
       "    .dataframe tbody tr th {\n",
       "        vertical-align: top;\n",
       "    }\n",
       "\n",
       "    .dataframe thead th {\n",
       "        text-align: right;\n",
       "    }\n",
       "</style>\n",
       "<table border=\"1\" class=\"dataframe\">\n",
       "  <thead>\n",
       "    <tr style=\"text-align: right;\">\n",
       "      <th></th>\n",
       "      <th>user_id</th>\n",
       "      <th>age</th>\n",
       "      <th>churn_date</th>\n",
       "      <th>city</th>\n",
       "      <th>first_name</th>\n",
       "      <th>last_name</th>\n",
       "      <th>reg_date</th>\n",
       "      <th>tariff</th>\n",
       "      <th>month</th>\n",
       "      <th>minutes_calls</th>\n",
       "      <th>count_calls</th>\n",
       "      <th>gb_used</th>\n",
       "      <th>count_messages</th>\n",
       "      <th>revenue</th>\n",
       "    </tr>\n",
       "  </thead>\n",
       "  <tbody>\n",
       "    <tr>\n",
       "      <th>0</th>\n",
       "      <td>1000</td>\n",
       "      <td>52</td>\n",
       "      <td>0</td>\n",
       "      <td>Краснодар</td>\n",
       "      <td>Рафаил</td>\n",
       "      <td>Верещагин</td>\n",
       "      <td>2018-05-25</td>\n",
       "      <td>ultra</td>\n",
       "      <td>5</td>\n",
       "      <td>159.0</td>\n",
       "      <td>22.0</td>\n",
       "      <td>3.0</td>\n",
       "      <td>22.0</td>\n",
       "      <td>1950.0</td>\n",
       "    </tr>\n",
       "    <tr>\n",
       "      <th>1</th>\n",
       "      <td>1000</td>\n",
       "      <td>52</td>\n",
       "      <td>0</td>\n",
       "      <td>Краснодар</td>\n",
       "      <td>Рафаил</td>\n",
       "      <td>Верещагин</td>\n",
       "      <td>2018-05-25</td>\n",
       "      <td>ultra</td>\n",
       "      <td>6</td>\n",
       "      <td>172.0</td>\n",
       "      <td>43.0</td>\n",
       "      <td>23.0</td>\n",
       "      <td>60.0</td>\n",
       "      <td>1950.0</td>\n",
       "    </tr>\n",
       "    <tr>\n",
       "      <th>2</th>\n",
       "      <td>1000</td>\n",
       "      <td>52</td>\n",
       "      <td>0</td>\n",
       "      <td>Краснодар</td>\n",
       "      <td>Рафаил</td>\n",
       "      <td>Верещагин</td>\n",
       "      <td>2018-05-25</td>\n",
       "      <td>ultra</td>\n",
       "      <td>7</td>\n",
       "      <td>340.0</td>\n",
       "      <td>47.0</td>\n",
       "      <td>14.0</td>\n",
       "      <td>75.0</td>\n",
       "      <td>1950.0</td>\n",
       "    </tr>\n",
       "    <tr>\n",
       "      <th>3</th>\n",
       "      <td>1000</td>\n",
       "      <td>52</td>\n",
       "      <td>0</td>\n",
       "      <td>Краснодар</td>\n",
       "      <td>Рафаил</td>\n",
       "      <td>Верещагин</td>\n",
       "      <td>2018-05-25</td>\n",
       "      <td>ultra</td>\n",
       "      <td>8</td>\n",
       "      <td>408.0</td>\n",
       "      <td>52.0</td>\n",
       "      <td>14.0</td>\n",
       "      <td>81.0</td>\n",
       "      <td>1950.0</td>\n",
       "    </tr>\n",
       "    <tr>\n",
       "      <th>4</th>\n",
       "      <td>1000</td>\n",
       "      <td>52</td>\n",
       "      <td>0</td>\n",
       "      <td>Краснодар</td>\n",
       "      <td>Рафаил</td>\n",
       "      <td>Верещагин</td>\n",
       "      <td>2018-05-25</td>\n",
       "      <td>ultra</td>\n",
       "      <td>9</td>\n",
       "      <td>466.0</td>\n",
       "      <td>58.0</td>\n",
       "      <td>15.0</td>\n",
       "      <td>57.0</td>\n",
       "      <td>1950.0</td>\n",
       "    </tr>\n",
       "    <tr>\n",
       "      <th>5</th>\n",
       "      <td>1000</td>\n",
       "      <td>52</td>\n",
       "      <td>0</td>\n",
       "      <td>Краснодар</td>\n",
       "      <td>Рафаил</td>\n",
       "      <td>Верещагин</td>\n",
       "      <td>2018-05-25</td>\n",
       "      <td>ultra</td>\n",
       "      <td>10</td>\n",
       "      <td>350.0</td>\n",
       "      <td>57.0</td>\n",
       "      <td>15.0</td>\n",
       "      <td>73.0</td>\n",
       "      <td>1950.0</td>\n",
       "    </tr>\n",
       "    <tr>\n",
       "      <th>6</th>\n",
       "      <td>1000</td>\n",
       "      <td>52</td>\n",
       "      <td>0</td>\n",
       "      <td>Краснодар</td>\n",
       "      <td>Рафаил</td>\n",
       "      <td>Верещагин</td>\n",
       "      <td>2018-05-25</td>\n",
       "      <td>ultra</td>\n",
       "      <td>11</td>\n",
       "      <td>338.0</td>\n",
       "      <td>43.0</td>\n",
       "      <td>15.0</td>\n",
       "      <td>58.0</td>\n",
       "      <td>1950.0</td>\n",
       "    </tr>\n",
       "    <tr>\n",
       "      <th>7</th>\n",
       "      <td>1000</td>\n",
       "      <td>52</td>\n",
       "      <td>0</td>\n",
       "      <td>Краснодар</td>\n",
       "      <td>Рафаил</td>\n",
       "      <td>Верещагин</td>\n",
       "      <td>2018-05-25</td>\n",
       "      <td>ultra</td>\n",
       "      <td>12</td>\n",
       "      <td>333.0</td>\n",
       "      <td>46.0</td>\n",
       "      <td>10.0</td>\n",
       "      <td>70.0</td>\n",
       "      <td>1950.0</td>\n",
       "    </tr>\n",
       "    <tr>\n",
       "      <th>8</th>\n",
       "      <td>1001</td>\n",
       "      <td>41</td>\n",
       "      <td>0</td>\n",
       "      <td>Москва</td>\n",
       "      <td>Иван</td>\n",
       "      <td>Ежов</td>\n",
       "      <td>2018-11-01</td>\n",
       "      <td>smart</td>\n",
       "      <td>11</td>\n",
       "      <td>430.0</td>\n",
       "      <td>59.0</td>\n",
       "      <td>18.0</td>\n",
       "      <td>0.0</td>\n",
       "      <td>1150.0</td>\n",
       "    </tr>\n",
       "    <tr>\n",
       "      <th>9</th>\n",
       "      <td>1001</td>\n",
       "      <td>41</td>\n",
       "      <td>0</td>\n",
       "      <td>Москва</td>\n",
       "      <td>Иван</td>\n",
       "      <td>Ежов</td>\n",
       "      <td>2018-11-01</td>\n",
       "      <td>smart</td>\n",
       "      <td>12</td>\n",
       "      <td>414.0</td>\n",
       "      <td>63.0</td>\n",
       "      <td>14.0</td>\n",
       "      <td>0.0</td>\n",
       "      <td>550.0</td>\n",
       "    </tr>\n",
       "  </tbody>\n",
       "</table>\n",
       "</div>"
      ],
      "text/plain": [
       "   user_id  age churn_date       city first_name  last_name   reg_date tariff  \\\n",
       "0     1000   52          0  Краснодар     Рафаил  Верещагин 2018-05-25  ultra   \n",
       "1     1000   52          0  Краснодар     Рафаил  Верещагин 2018-05-25  ultra   \n",
       "2     1000   52          0  Краснодар     Рафаил  Верещагин 2018-05-25  ultra   \n",
       "3     1000   52          0  Краснодар     Рафаил  Верещагин 2018-05-25  ultra   \n",
       "4     1000   52          0  Краснодар     Рафаил  Верещагин 2018-05-25  ultra   \n",
       "5     1000   52          0  Краснодар     Рафаил  Верещагин 2018-05-25  ultra   \n",
       "6     1000   52          0  Краснодар     Рафаил  Верещагин 2018-05-25  ultra   \n",
       "7     1000   52          0  Краснодар     Рафаил  Верещагин 2018-05-25  ultra   \n",
       "8     1001   41          0     Москва       Иван       Ежов 2018-11-01  smart   \n",
       "9     1001   41          0     Москва       Иван       Ежов 2018-11-01  smart   \n",
       "\n",
       "   month  minutes_calls  count_calls  gb_used  count_messages  revenue  \n",
       "0      5          159.0         22.0      3.0            22.0   1950.0  \n",
       "1      6          172.0         43.0     23.0            60.0   1950.0  \n",
       "2      7          340.0         47.0     14.0            75.0   1950.0  \n",
       "3      8          408.0         52.0     14.0            81.0   1950.0  \n",
       "4      9          466.0         58.0     15.0            57.0   1950.0  \n",
       "5     10          350.0         57.0     15.0            73.0   1950.0  \n",
       "6     11          338.0         43.0     15.0            58.0   1950.0  \n",
       "7     12          333.0         46.0     10.0            70.0   1950.0  \n",
       "8     11          430.0         59.0     18.0             0.0   1150.0  \n",
       "9     12          414.0         63.0     14.0             0.0    550.0  "
      ]
     },
     "execution_count": 53,
     "metadata": {},
     "output_type": "execute_result"
    }
   ],
   "source": [
    "data_merge.head(10)"
   ]
  },
  {
   "cell_type": "markdown",
   "metadata": {},
   "source": [
    "**Выводы:**\n",
    "\n",
    "1. Данные обработаны, даты заменены на объекты datetime.\n",
    "2. В таблице users вместо пропусков подставлены нули.\n",
    "3. В таблице calls длительности разговоров были округлены до целого вверх.\n",
    "4. В таблице internet значения трафика были округлены до целого вверх.\n",
    "5. Для каждого пользователя посчитаны, по месяцам: \n",
    "    * количество звонков;\n",
    "    * количество расходов на звонки;\n",
    "    * количество расходов на сообщения;\n",
    "    * количество расходов на интернет-трафик;\n",
    "    * общая выручка.\n",
    "6. Были обработаны nan значения после слияния таблиц."
   ]
  },
  {
   "cell_type": "markdown",
   "metadata": {},
   "source": [
    "## Анализ данных\n",
    "\n",
    "### Расчет среднего количества, дисперсии и стандартного отклонения.\n",
    "\n",
    "Начнем с составления сводных таблиц по месяцам со средними значениями, стандартными отклонениями и дисперсиями для разговоров, количества сообщений и интернет-трафика по месяцам.\n",
    "\n",
    "Составим функцию, которая вернет эту сводную таблицу в зависимости от тарифа:"
   ]
  },
  {
   "cell_type": "code",
   "execution_count": 54,
   "metadata": {},
   "outputs": [],
   "source": [
    "def return_mean_var_std(data, tariff):\n",
    "    result = data[data['tariff'] == tariff].pivot_table(index='month', values=['minutes_calls', 'gb_used', 'count_messages'], aggfunc=['mean', 'std', 'var'])\n",
    "    result.columns = ['Среднее количество сообщений',\n",
    "                      'Среднее количество Гб', \n",
    "                      'Среднее количество минут разговора',\n",
    "                      'Стандартное отклонение (сообщения)',\n",
    "                      'Стандартное отклонение (трафик Гб)',\n",
    "                      'Стандартное отклонение (звонки)',\n",
    "                      'Дисперсия (сообщения)',\n",
    "                      'Дисперсия (трафик Гб)',\n",
    "                      'Дисперсия (звонки)']\n",
    "    return result"
   ]
  },
  {
   "cell_type": "markdown",
   "metadata": {},
   "source": [
    "Применим функцию по тарифу smart:"
   ]
  },
  {
   "cell_type": "code",
   "execution_count": 55,
   "metadata": {},
   "outputs": [
    {
     "data": {
      "text/html": [
       "<div>\n",
       "<style scoped>\n",
       "    .dataframe tbody tr th:only-of-type {\n",
       "        vertical-align: middle;\n",
       "    }\n",
       "\n",
       "    .dataframe tbody tr th {\n",
       "        vertical-align: top;\n",
       "    }\n",
       "\n",
       "    .dataframe thead th {\n",
       "        text-align: right;\n",
       "    }\n",
       "</style>\n",
       "<table border=\"1\" class=\"dataframe\">\n",
       "  <thead>\n",
       "    <tr style=\"text-align: right;\">\n",
       "      <th></th>\n",
       "      <th>Среднее количество сообщений</th>\n",
       "      <th>Среднее количество Гб</th>\n",
       "      <th>Среднее количество минут разговора</th>\n",
       "      <th>Стандартное отклонение (сообщения)</th>\n",
       "      <th>Стандартное отклонение (трафик Гб)</th>\n",
       "      <th>Стандартное отклонение (звонки)</th>\n",
       "      <th>Дисперсия (сообщения)</th>\n",
       "      <th>Дисперсия (трафик Гб)</th>\n",
       "      <th>Дисперсия (звонки)</th>\n",
       "    </tr>\n",
       "    <tr>\n",
       "      <th>month</th>\n",
       "      <th></th>\n",
       "      <th></th>\n",
       "      <th></th>\n",
       "      <th></th>\n",
       "      <th></th>\n",
       "      <th></th>\n",
       "      <th></th>\n",
       "      <th></th>\n",
       "      <th></th>\n",
       "    </tr>\n",
       "  </thead>\n",
       "  <tbody>\n",
       "    <tr>\n",
       "      <th>1</th>\n",
       "      <td>18.235294</td>\n",
       "      <td>8.735294</td>\n",
       "      <td>203.852941</td>\n",
       "      <td>16.197753</td>\n",
       "      <td>6.277950</td>\n",
       "      <td>154.231454</td>\n",
       "      <td>262.367201</td>\n",
       "      <td>39.412656</td>\n",
       "      <td>23787.341355</td>\n",
       "    </tr>\n",
       "    <tr>\n",
       "      <th>2</th>\n",
       "      <td>24.086207</td>\n",
       "      <td>11.844828</td>\n",
       "      <td>298.689655</td>\n",
       "      <td>21.750809</td>\n",
       "      <td>6.095157</td>\n",
       "      <td>190.820041</td>\n",
       "      <td>473.097701</td>\n",
       "      <td>37.150938</td>\n",
       "      <td>36412.287961</td>\n",
       "    </tr>\n",
       "    <tr>\n",
       "      <th>3</th>\n",
       "      <td>31.857143</td>\n",
       "      <td>15.233766</td>\n",
       "      <td>390.051948</td>\n",
       "      <td>26.804710</td>\n",
       "      <td>5.705252</td>\n",
       "      <td>191.893604</td>\n",
       "      <td>718.492481</td>\n",
       "      <td>32.549897</td>\n",
       "      <td>36823.155161</td>\n",
       "    </tr>\n",
       "    <tr>\n",
       "      <th>4</th>\n",
       "      <td>30.741071</td>\n",
       "      <td>13.625000</td>\n",
       "      <td>367.133929</td>\n",
       "      <td>24.538532</td>\n",
       "      <td>5.594600</td>\n",
       "      <td>186.489161</td>\n",
       "      <td>602.139559</td>\n",
       "      <td>31.299550</td>\n",
       "      <td>34778.207127</td>\n",
       "    </tr>\n",
       "    <tr>\n",
       "      <th>5</th>\n",
       "      <td>33.773050</td>\n",
       "      <td>15.907801</td>\n",
       "      <td>387.361702</td>\n",
       "      <td>27.036845</td>\n",
       "      <td>5.862594</td>\n",
       "      <td>186.601343</td>\n",
       "      <td>730.990983</td>\n",
       "      <td>34.370010</td>\n",
       "      <td>34820.061094</td>\n",
       "    </tr>\n",
       "    <tr>\n",
       "      <th>6</th>\n",
       "      <td>33.312883</td>\n",
       "      <td>15.969325</td>\n",
       "      <td>398.067485</td>\n",
       "      <td>28.468636</td>\n",
       "      <td>5.661679</td>\n",
       "      <td>173.091075</td>\n",
       "      <td>810.463228</td>\n",
       "      <td>32.054609</td>\n",
       "      <td>29960.520109</td>\n",
       "    </tr>\n",
       "    <tr>\n",
       "      <th>7</th>\n",
       "      <td>33.751244</td>\n",
       "      <td>15.875622</td>\n",
       "      <td>408.353234</td>\n",
       "      <td>28.282288</td>\n",
       "      <td>5.780956</td>\n",
       "      <td>179.583601</td>\n",
       "      <td>799.887811</td>\n",
       "      <td>33.419453</td>\n",
       "      <td>32250.269602</td>\n",
       "    </tr>\n",
       "    <tr>\n",
       "      <th>8</th>\n",
       "      <td>33.709402</td>\n",
       "      <td>16.760684</td>\n",
       "      <td>423.269231</td>\n",
       "      <td>28.994171</td>\n",
       "      <td>5.479810</td>\n",
       "      <td>184.870956</td>\n",
       "      <td>840.661971</td>\n",
       "      <td>30.028319</td>\n",
       "      <td>34177.270551</td>\n",
       "    </tr>\n",
       "    <tr>\n",
       "      <th>9</th>\n",
       "      <td>33.644788</td>\n",
       "      <td>16.389961</td>\n",
       "      <td>430.266409</td>\n",
       "      <td>28.172181</td>\n",
       "      <td>5.097352</td>\n",
       "      <td>181.522807</td>\n",
       "      <td>793.671785</td>\n",
       "      <td>25.983000</td>\n",
       "      <td>32950.529526</td>\n",
       "    </tr>\n",
       "    <tr>\n",
       "      <th>10</th>\n",
       "      <td>33.808874</td>\n",
       "      <td>16.870307</td>\n",
       "      <td>427.590444</td>\n",
       "      <td>28.606763</td>\n",
       "      <td>5.742497</td>\n",
       "      <td>186.787393</td>\n",
       "      <td>818.346907</td>\n",
       "      <td>32.976273</td>\n",
       "      <td>34889.530319</td>\n",
       "    </tr>\n",
       "    <tr>\n",
       "      <th>11</th>\n",
       "      <td>34.120635</td>\n",
       "      <td>16.996825</td>\n",
       "      <td>436.647619</td>\n",
       "      <td>28.423067</td>\n",
       "      <td>5.221525</td>\n",
       "      <td>176.353653</td>\n",
       "      <td>807.870751</td>\n",
       "      <td>27.264321</td>\n",
       "      <td>31100.611101</td>\n",
       "    </tr>\n",
       "    <tr>\n",
       "      <th>12</th>\n",
       "      <td>35.997024</td>\n",
       "      <td>18.205357</td>\n",
       "      <td>479.985119</td>\n",
       "      <td>30.622545</td>\n",
       "      <td>5.465449</td>\n",
       "      <td>197.816702</td>\n",
       "      <td>937.740290</td>\n",
       "      <td>29.871135</td>\n",
       "      <td>39131.447539</td>\n",
       "    </tr>\n",
       "  </tbody>\n",
       "</table>\n",
       "</div>"
      ],
      "text/plain": [
       "       Среднее количество сообщений  Среднее количество Гб  \\\n",
       "month                                                        \n",
       "1                         18.235294               8.735294   \n",
       "2                         24.086207              11.844828   \n",
       "3                         31.857143              15.233766   \n",
       "4                         30.741071              13.625000   \n",
       "5                         33.773050              15.907801   \n",
       "6                         33.312883              15.969325   \n",
       "7                         33.751244              15.875622   \n",
       "8                         33.709402              16.760684   \n",
       "9                         33.644788              16.389961   \n",
       "10                        33.808874              16.870307   \n",
       "11                        34.120635              16.996825   \n",
       "12                        35.997024              18.205357   \n",
       "\n",
       "       Среднее количество минут разговора  Стандартное отклонение (сообщения)  \\\n",
       "month                                                                           \n",
       "1                              203.852941                           16.197753   \n",
       "2                              298.689655                           21.750809   \n",
       "3                              390.051948                           26.804710   \n",
       "4                              367.133929                           24.538532   \n",
       "5                              387.361702                           27.036845   \n",
       "6                              398.067485                           28.468636   \n",
       "7                              408.353234                           28.282288   \n",
       "8                              423.269231                           28.994171   \n",
       "9                              430.266409                           28.172181   \n",
       "10                             427.590444                           28.606763   \n",
       "11                             436.647619                           28.423067   \n",
       "12                             479.985119                           30.622545   \n",
       "\n",
       "       Стандартное отклонение (трафик Гб)  Стандартное отклонение (звонки)  \\\n",
       "month                                                                        \n",
       "1                                6.277950                       154.231454   \n",
       "2                                6.095157                       190.820041   \n",
       "3                                5.705252                       191.893604   \n",
       "4                                5.594600                       186.489161   \n",
       "5                                5.862594                       186.601343   \n",
       "6                                5.661679                       173.091075   \n",
       "7                                5.780956                       179.583601   \n",
       "8                                5.479810                       184.870956   \n",
       "9                                5.097352                       181.522807   \n",
       "10                               5.742497                       186.787393   \n",
       "11                               5.221525                       176.353653   \n",
       "12                               5.465449                       197.816702   \n",
       "\n",
       "       Дисперсия (сообщения)  Дисперсия (трафик Гб)  Дисперсия (звонки)  \n",
       "month                                                                    \n",
       "1                 262.367201              39.412656        23787.341355  \n",
       "2                 473.097701              37.150938        36412.287961  \n",
       "3                 718.492481              32.549897        36823.155161  \n",
       "4                 602.139559              31.299550        34778.207127  \n",
       "5                 730.990983              34.370010        34820.061094  \n",
       "6                 810.463228              32.054609        29960.520109  \n",
       "7                 799.887811              33.419453        32250.269602  \n",
       "8                 840.661971              30.028319        34177.270551  \n",
       "9                 793.671785              25.983000        32950.529526  \n",
       "10                818.346907              32.976273        34889.530319  \n",
       "11                807.870751              27.264321        31100.611101  \n",
       "12                937.740290              29.871135        39131.447539  "
      ]
     },
     "metadata": {},
     "output_type": "display_data"
    }
   ],
   "source": [
    "data_smart = return_mean_var_std(data_merge, 'smart')\n",
    "\n",
    "display(data_smart)"
   ]
  },
  {
   "cell_type": "markdown",
   "metadata": {},
   "source": [
    "Применим функцию по тарифу ultra:"
   ]
  },
  {
   "cell_type": "code",
   "execution_count": 56,
   "metadata": {},
   "outputs": [
    {
     "data": {
      "text/html": [
       "<div>\n",
       "<style scoped>\n",
       "    .dataframe tbody tr th:only-of-type {\n",
       "        vertical-align: middle;\n",
       "    }\n",
       "\n",
       "    .dataframe tbody tr th {\n",
       "        vertical-align: top;\n",
       "    }\n",
       "\n",
       "    .dataframe thead th {\n",
       "        text-align: right;\n",
       "    }\n",
       "</style>\n",
       "<table border=\"1\" class=\"dataframe\">\n",
       "  <thead>\n",
       "    <tr style=\"text-align: right;\">\n",
       "      <th></th>\n",
       "      <th>Среднее количество сообщений</th>\n",
       "      <th>Среднее количество Гб</th>\n",
       "      <th>Среднее количество минут разговора</th>\n",
       "      <th>Стандартное отклонение (сообщения)</th>\n",
       "      <th>Стандартное отклонение (трафик Гб)</th>\n",
       "      <th>Стандартное отклонение (звонки)</th>\n",
       "      <th>Дисперсия (сообщения)</th>\n",
       "      <th>Дисперсия (трафик Гб)</th>\n",
       "      <th>Дисперсия (звонки)</th>\n",
       "    </tr>\n",
       "    <tr>\n",
       "      <th>month</th>\n",
       "      <th></th>\n",
       "      <th></th>\n",
       "      <th></th>\n",
       "      <th></th>\n",
       "      <th></th>\n",
       "      <th></th>\n",
       "      <th></th>\n",
       "      <th></th>\n",
       "      <th></th>\n",
       "    </tr>\n",
       "  </thead>\n",
       "  <tbody>\n",
       "    <tr>\n",
       "      <th>1</th>\n",
       "      <td>33.777778</td>\n",
       "      <td>13.222222</td>\n",
       "      <td>428.111111</td>\n",
       "      <td>30.670742</td>\n",
       "      <td>6.666667</td>\n",
       "      <td>269.757968</td>\n",
       "      <td>940.694444</td>\n",
       "      <td>44.444444</td>\n",
       "      <td>72769.361111</td>\n",
       "    </tr>\n",
       "    <tr>\n",
       "      <th>2</th>\n",
       "      <td>21.958333</td>\n",
       "      <td>12.000000</td>\n",
       "      <td>297.125000</td>\n",
       "      <td>26.773574</td>\n",
       "      <td>10.446551</td>\n",
       "      <td>296.512528</td>\n",
       "      <td>716.824275</td>\n",
       "      <td>109.130435</td>\n",
       "      <td>87919.679348</td>\n",
       "    </tr>\n",
       "    <tr>\n",
       "      <th>3</th>\n",
       "      <td>32.297297</td>\n",
       "      <td>17.648649</td>\n",
       "      <td>489.648649</td>\n",
       "      <td>41.621886</td>\n",
       "      <td>10.693238</td>\n",
       "      <td>333.743765</td>\n",
       "      <td>1732.381381</td>\n",
       "      <td>114.345345</td>\n",
       "      <td>111384.900901</td>\n",
       "    </tr>\n",
       "    <tr>\n",
       "      <th>4</th>\n",
       "      <td>32.584906</td>\n",
       "      <td>17.528302</td>\n",
       "      <td>475.301887</td>\n",
       "      <td>37.833865</td>\n",
       "      <td>9.160122</td>\n",
       "      <td>256.976322</td>\n",
       "      <td>1431.401306</td>\n",
       "      <td>83.907837</td>\n",
       "      <td>66036.830189</td>\n",
       "    </tr>\n",
       "    <tr>\n",
       "      <th>5</th>\n",
       "      <td>37.859375</td>\n",
       "      <td>19.671875</td>\n",
       "      <td>534.250000</td>\n",
       "      <td>41.168206</td>\n",
       "      <td>9.888352</td>\n",
       "      <td>273.643958</td>\n",
       "      <td>1694.821181</td>\n",
       "      <td>97.779514</td>\n",
       "      <td>74881.015873</td>\n",
       "    </tr>\n",
       "    <tr>\n",
       "      <th>6</th>\n",
       "      <td>40.049383</td>\n",
       "      <td>18.925926</td>\n",
       "      <td>497.469136</td>\n",
       "      <td>41.682101</td>\n",
       "      <td>9.134793</td>\n",
       "      <td>293.291071</td>\n",
       "      <td>1737.397531</td>\n",
       "      <td>83.444444</td>\n",
       "      <td>86019.652160</td>\n",
       "    </tr>\n",
       "    <tr>\n",
       "      <th>7</th>\n",
       "      <td>48.477273</td>\n",
       "      <td>20.443182</td>\n",
       "      <td>564.397727</td>\n",
       "      <td>46.294901</td>\n",
       "      <td>9.946822</td>\n",
       "      <td>294.877241</td>\n",
       "      <td>2143.217868</td>\n",
       "      <td>98.939263</td>\n",
       "      <td>86952.587121</td>\n",
       "    </tr>\n",
       "    <tr>\n",
       "      <th>8</th>\n",
       "      <td>47.864078</td>\n",
       "      <td>19.611650</td>\n",
       "      <td>530.611650</td>\n",
       "      <td>45.484332</td>\n",
       "      <td>10.339561</td>\n",
       "      <td>301.942964</td>\n",
       "      <td>2068.824481</td>\n",
       "      <td>106.906530</td>\n",
       "      <td>91169.553588</td>\n",
       "    </tr>\n",
       "    <tr>\n",
       "      <th>9</th>\n",
       "      <td>51.810811</td>\n",
       "      <td>19.135135</td>\n",
       "      <td>558.882883</td>\n",
       "      <td>45.186988</td>\n",
       "      <td>9.354130</td>\n",
       "      <td>314.003032</td>\n",
       "      <td>2041.863882</td>\n",
       "      <td>87.499754</td>\n",
       "      <td>98597.904341</td>\n",
       "    </tr>\n",
       "    <tr>\n",
       "      <th>10</th>\n",
       "      <td>58.466102</td>\n",
       "      <td>20.093220</td>\n",
       "      <td>581.728814</td>\n",
       "      <td>51.303968</td>\n",
       "      <td>9.660907</td>\n",
       "      <td>311.673445</td>\n",
       "      <td>2632.097132</td>\n",
       "      <td>93.333116</td>\n",
       "      <td>97140.336086</td>\n",
       "    </tr>\n",
       "    <tr>\n",
       "      <th>11</th>\n",
       "      <td>56.000000</td>\n",
       "      <td>19.666667</td>\n",
       "      <td>562.364341</td>\n",
       "      <td>49.226041</td>\n",
       "      <td>9.731821</td>\n",
       "      <td>297.404815</td>\n",
       "      <td>2423.203125</td>\n",
       "      <td>94.708333</td>\n",
       "      <td>88449.624031</td>\n",
       "    </tr>\n",
       "    <tr>\n",
       "      <th>12</th>\n",
       "      <td>60.753731</td>\n",
       "      <td>21.649254</td>\n",
       "      <td>614.925373</td>\n",
       "      <td>51.071148</td>\n",
       "      <td>10.165737</td>\n",
       "      <td>328.604674</td>\n",
       "      <td>2608.262204</td>\n",
       "      <td>103.342217</td>\n",
       "      <td>107981.031983</td>\n",
       "    </tr>\n",
       "  </tbody>\n",
       "</table>\n",
       "</div>"
      ],
      "text/plain": [
       "       Среднее количество сообщений  Среднее количество Гб  \\\n",
       "month                                                        \n",
       "1                         33.777778              13.222222   \n",
       "2                         21.958333              12.000000   \n",
       "3                         32.297297              17.648649   \n",
       "4                         32.584906              17.528302   \n",
       "5                         37.859375              19.671875   \n",
       "6                         40.049383              18.925926   \n",
       "7                         48.477273              20.443182   \n",
       "8                         47.864078              19.611650   \n",
       "9                         51.810811              19.135135   \n",
       "10                        58.466102              20.093220   \n",
       "11                        56.000000              19.666667   \n",
       "12                        60.753731              21.649254   \n",
       "\n",
       "       Среднее количество минут разговора  Стандартное отклонение (сообщения)  \\\n",
       "month                                                                           \n",
       "1                              428.111111                           30.670742   \n",
       "2                              297.125000                           26.773574   \n",
       "3                              489.648649                           41.621886   \n",
       "4                              475.301887                           37.833865   \n",
       "5                              534.250000                           41.168206   \n",
       "6                              497.469136                           41.682101   \n",
       "7                              564.397727                           46.294901   \n",
       "8                              530.611650                           45.484332   \n",
       "9                              558.882883                           45.186988   \n",
       "10                             581.728814                           51.303968   \n",
       "11                             562.364341                           49.226041   \n",
       "12                             614.925373                           51.071148   \n",
       "\n",
       "       Стандартное отклонение (трафик Гб)  Стандартное отклонение (звонки)  \\\n",
       "month                                                                        \n",
       "1                                6.666667                       269.757968   \n",
       "2                               10.446551                       296.512528   \n",
       "3                               10.693238                       333.743765   \n",
       "4                                9.160122                       256.976322   \n",
       "5                                9.888352                       273.643958   \n",
       "6                                9.134793                       293.291071   \n",
       "7                                9.946822                       294.877241   \n",
       "8                               10.339561                       301.942964   \n",
       "9                                9.354130                       314.003032   \n",
       "10                               9.660907                       311.673445   \n",
       "11                               9.731821                       297.404815   \n",
       "12                              10.165737                       328.604674   \n",
       "\n",
       "       Дисперсия (сообщения)  Дисперсия (трафик Гб)  Дисперсия (звонки)  \n",
       "month                                                                    \n",
       "1                 940.694444              44.444444        72769.361111  \n",
       "2                 716.824275             109.130435        87919.679348  \n",
       "3                1732.381381             114.345345       111384.900901  \n",
       "4                1431.401306              83.907837        66036.830189  \n",
       "5                1694.821181              97.779514        74881.015873  \n",
       "6                1737.397531              83.444444        86019.652160  \n",
       "7                2143.217868              98.939263        86952.587121  \n",
       "8                2068.824481             106.906530        91169.553588  \n",
       "9                2041.863882              87.499754        98597.904341  \n",
       "10               2632.097132              93.333116        97140.336086  \n",
       "11               2423.203125              94.708333        88449.624031  \n",
       "12               2608.262204             103.342217       107981.031983  "
      ]
     },
     "metadata": {},
     "output_type": "display_data"
    }
   ],
   "source": [
    "data_ultra = return_mean_var_std(data_merge, 'ultra')\n",
    "\n",
    "display(data_ultra)"
   ]
  },
  {
   "cell_type": "markdown",
   "metadata": {},
   "source": [
    "**Выводы:**\n",
    "\n",
    "1. Абоненты тарифа 'smart' тратят меньше минут на разговоры и меньше мегабайт интернет-трафика, при этом количество смс, отправляемое абонентами обоих тарифов не сильно отличается.\n",
    "2. Стандартные отклонения по интернет-трафику и по звонкам для пользователей тарифа 'ultra' больше, чем для 'smart', что говорит о разбросе в использовании тарифных опций большем, чем в 'smart'."
   ]
  },
  {
   "cell_type": "markdown",
   "metadata": {},
   "source": [
    "### Гистограммы.\n",
    "\n",
    "Построим гистограммы для звонков, сообщений и использования интернет-трафика для обоих тарифов. Отобразим распределения в одной области построения графика для каждого типа действия.\n",
    "\n",
    "Гистограмма распределения звонков:"
   ]
  },
  {
   "cell_type": "code",
   "execution_count": 57,
   "metadata": {
    "scrolled": false
   },
   "outputs": [
    {
     "data": {
      "text/plain": [
       "<matplotlib.legend.Legend at 0x2044886c550>"
      ]
     },
     "execution_count": 57,
     "metadata": {},
     "output_type": "execute_result"
    },
    {
     "data": {
      "image/png": "[encoded data removed]",
      "text/plain": [
       "<Figure size 864x576 with 1 Axes>"
      ]
     },
     "metadata": {
      "needs_background": "light"
     },
     "output_type": "display_data"
    }
   ],
   "source": [
    "data_merge[data_merge['tariff'] == 'smart']['minutes_calls'].plot(kind='hist', title='minutes_calls', bins=70, alpha=0.8, figsize=(12, 8), label='smart')\n",
    "\n",
    "data_merge[data_merge['tariff'] == 'ultra']['minutes_calls'].plot(kind='hist', title='minutes_calls', bins=70, alpha=0.5, figsize=(12, 8), label='ultra')\n",
    "\n",
    "plt.legend()"
   ]
  },
  {
   "cell_type": "markdown",
   "metadata": {},
   "source": [
    "Гистограмма распределенеия интернет-трафика:"
   ]
  },
  {
   "cell_type": "code",
   "execution_count": 58,
   "metadata": {},
   "outputs": [
    {
     "data": {
      "text/plain": [
       "<matplotlib.legend.Legend at 0x20449813820>"
      ]
     },
     "execution_count": 58,
     "metadata": {},
     "output_type": "execute_result"
    },
    {
     "data": {
      "image/png": "[encoded data removed]",
      "text/plain": [
       "<Figure size 864x576 with 1 Axes>"
      ]
     },
     "metadata": {
      "needs_background": "light"
     },
     "output_type": "display_data"
    }
   ],
   "source": [
    "data_merge[data_merge['tariff'] == 'smart']['gb_used'].plot(kind='hist', title='gb_used', bins=70, alpha=0.8, figsize=(12, 8), label='smart')\n",
    "\n",
    "data_merge[data_merge['tariff'] == 'ultra']['gb_used'].plot(kind='hist', title='gb_used', bins=70, alpha=0.5, figsize=(12, 8), label='ultra')\n",
    "\n",
    "plt.legend()"
   ]
  },
  {
   "cell_type": "markdown",
   "metadata": {},
   "source": [
    "Гистограмма распределения сообщений, если отбросить нулевые значения:"
   ]
  },
  {
   "cell_type": "code",
   "execution_count": 59,
   "metadata": {
    "scrolled": false
   },
   "outputs": [
    {
     "data": {
      "text/plain": [
       "<matplotlib.legend.Legend at 0x20449080a60>"
      ]
     },
     "execution_count": 59,
     "metadata": {},
     "output_type": "execute_result"
    },
    {
     "data": {
      "image/png": "[encoded data removed]",
      "text/plain": [
       "<Figure size 864x576 with 1 Axes>"
      ]
     },
     "metadata": {
      "needs_background": "light"
     },
     "output_type": "display_data"
    }
   ],
   "source": [
    "data_merge[(data_merge['tariff'] == 'smart') & (data_merge['count_messages'] > 0)]['count_messages'].plot(kind='hist', bins=70, alpha=0.8, figsize=(12, 8), title='сount_messages', label='smart')\n",
    "\n",
    "data_merge[(data_merge['tariff'] == 'ultra') & (data_merge['count_messages'] > 0)]['count_messages'].plot(kind='hist', bins=70, alpha=0.5, figsize=(12, 8), title='сount_messages', label='ultra')\n",
    "\n",
    "plt.legend()"
   ]
  },
  {
   "cell_type": "markdown",
   "metadata": {},
   "source": [
    "Добавим график по распределению выручки по каждому из тарифов:"
   ]
  },
  {
   "cell_type": "code",
   "execution_count": 60,
   "metadata": {
    "scrolled": false
   },
   "outputs": [
    {
     "data": {
      "text/plain": [
       "<matplotlib.legend.Legend at 0x2044957a490>"
      ]
     },
     "execution_count": 60,
     "metadata": {},
     "output_type": "execute_result"
    },
    {
     "data": {
      "image/png": "[encoded data removed]",
      "text/plain": [
       "<Figure size 864x576 with 1 Axes>"
      ]
     },
     "metadata": {
      "needs_background": "light"
     },
     "output_type": "display_data"
    }
   ],
   "source": [
    "data_merge[(data_merge['tariff'] == 'ultra')]['revenue'].plot(kind='hist', bins=20, alpha=0.8, figsize=(12, 8), label='ultra')\n",
    "\n",
    "data_merge[(data_merge['tariff'] == 'smart')]['revenue'].plot(kind='hist', bins=20, alpha=0.5, figsize=(12, 8), label='smart')\n",
    "plt.legend()"
   ]
  },
  {
   "cell_type": "markdown",
   "metadata": {},
   "source": [
    "**Выводы:**\n",
    "\n",
    "1. Распределения интернет-трафика являются нормальными с положительными смещениями для обоих тарифов.\n",
    "2. Распределения для звонков больше похожи на распределения Пуассона.\n",
    "3. Распределения для сообщений могут иметь большой выброс для нулевого значения. Если отбросить эти значения, то также получим распределение, которое ближе к распределению Пуассона.\n",
    "4. Пользователи smart в основном потребляют:\n",
    "    * от 350 до 550 минут;\n",
    "    * от 12 до 22 гб;\n",
    "    * до 60 сообщений.\n",
    "5. Пользователи ultra в основном потребляют:\n",
    "    * от 250 до 850 минут;\n",
    "    * от 10 до 30 гб;\n",
    "    * до 100 сообщений.\n",
    "6. Распределения выручки говорят о том, что пользователи тарифа смарт чаще выходят за границы пакетов, принося прибыль помимо абонентской платы."
   ]
  },
  {
   "cell_type": "markdown",
   "metadata": {},
   "source": [
    "## Проверка гипотез\n",
    "\n",
    "### Средняя выручка пользователей тарифов \"Ультра\" и \"Смарт\" различается.\n",
    "\n",
    "Сформируем нулевую гипотезу - средняя выручка пользователей тарифов \"Ультра\" и \"Смарт\" равна.\n",
    "\n",
    "Альтернативная гипотеза - средняя выручка пользователей тарифов \"Ультра\" и \"Смарт\" различна.\n",
    "\n",
    "Для проверки гипотезы используем scipy.stats.ttest_ind, так как имеем две независимые генеральные совокупности."
   ]
  },
  {
   "cell_type": "code",
   "execution_count": 61,
   "metadata": {
    "scrolled": true
   },
   "outputs": [
    {
     "name": "stdout",
     "output_type": "stream",
     "text": [
      "p-значение: 2.1830308249112928e-155\n",
      "Отвергаем нулевую гипотезу\n"
     ]
    }
   ],
   "source": [
    "alpha = 0.05\n",
    "\n",
    "result = st.ttest_ind(data_merge[data_merge['tariff'] == 'smart']['revenue'], \n",
    "                      data_merge[data_merge['tariff'] == 'ultra']['revenue'])\n",
    "\n",
    "print('p-значение:', result.pvalue)\n",
    "\n",
    "if (result.pvalue < alpha):\n",
    "    print(\"Отвергаем нулевую гипотезу\")\n",
    "else:\n",
    "    print(\"Не получилось отвергнуть нулевую гипотезу\")"
   ]
  },
  {
   "cell_type": "markdown",
   "metadata": {},
   "source": [
    "Полученное значение p-value говорит о том, что вероятность равенства выручки обоих тарифов стремится к нулю, следовательно нулевая гипотеза не верна - средняя выручка пользователей тарифов «Ультра» и «Смарт» различна."
   ]
  },
  {
   "cell_type": "markdown",
   "metadata": {},
   "source": [
    "### Средняя выручка пользователей из Москвы отличается от выручки пользователей из других регионов.\n",
    "\n",
    "Сформируем нулевую гипотезу - средняя выручка пользователей из Москвы и пользователей из других регионов равна.\n",
    "\n",
    "Альтернативная гипотеза - средняя выручка пользователей из Москвы и пользователей из других регионов различны.\n",
    "\n",
    "Для проверки гипотезы снова используем scipy.stats.ttest_ind, так как имеем две независимые генеральные совокупности."
   ]
  },
  {
   "cell_type": "code",
   "execution_count": 62,
   "metadata": {},
   "outputs": [
    {
     "name": "stdout",
     "output_type": "stream",
     "text": [
      "p-значение: 0.4619932225305272\n",
      "Не получилось отвергнуть нулевую гипотезу\n"
     ]
    }
   ],
   "source": [
    "alpha = 0.05\n",
    "\n",
    "result = st.ttest_ind(data_merge.query('city == \"Москва\"')['revenue'], \n",
    "                      data_merge.query('city != \"Москва\"')['revenue'])\n",
    "\n",
    "print('p-значение:', result.pvalue)\n",
    "\n",
    "if (result.pvalue < alpha):\n",
    "    print(\"Отвергаем нулевую гипотезу\")\n",
    "else:\n",
    "    print(\"Не получилось отвергнуть нулевую гипотезу\")"
   ]
  },
  {
   "cell_type": "markdown",
   "metadata": {},
   "source": [
    "Полученные результаты говорят о том, что, хотя выручка и различна, но с 46 % вероятностью можно получить различие случайно. Это очень большая вероятность. Нулевая гипотеза не может быть отвергнута."
   ]
  },
  {
   "cell_type": "markdown",
   "metadata": {},
   "source": [
    "### Какой тариф лучше?\n",
    "\n",
    "Для ответа на этот вопрос, сформулируем нулевую гипотезу - среднее значение выручки тарифа \"Смарт\" больше среднего значения выручки \"Ультра\".\n",
    "\n",
    "Используем st.ttest_1samp, так как нужно расчитать p-value одной выборки и сравнить его с ожидаемым значением."
   ]
  },
  {
   "cell_type": "code",
   "execution_count": 63,
   "metadata": {
    "scrolled": true
   },
   "outputs": [
    {
     "name": "stdout",
     "output_type": "stream",
     "text": [
      "p-значение:  0.0\n",
      "Отвергаем нулевую гипотезу\n"
     ]
    }
   ],
   "source": [
    "mean_smart = data_merge[data_merge['tariff'] == 'smart']['revenue'].mean()\n",
    "\n",
    "alpha = 0.05\n",
    "\n",
    "ultra = data_merge[data_merge['tariff'] == 'ultra']['revenue']\n",
    "\n",
    "results = st.ttest_1samp(ultra, mean_smart)\n",
    "\n",
    "print('p-значение: ', results.pvalue / 2)\n",
    "\n",
    "if (results.pvalue / 2 < alpha) and (data_merge[data_merge['tariff'] == 'ultra']['revenue'].mean() > mean_smart):\n",
    "    print(\"Отвергаем нулевую гипотезу\")\n",
    "else:\n",
    "    print(\"Не получилось отвергнуть нулевую гипотезу\")"
   ]
  },
  {
   "cell_type": "markdown",
   "metadata": {},
   "source": [
    "Тариф Ультра определенно лучше."
   ]
  },
  {
   "cell_type": "markdown",
   "metadata": {},
   "source": [
    "## Общий вывод:\n",
    "\n",
    "Для ответа на вопросы по средней выручке пользователей разных тарифов или из разных городов предварительно была произведена обработка исходных датасетов, в каждую таблицу добавлены сведения о тарифах для каждого пользователя.\n",
    "\n",
    "### Подготовка данных\n",
    "\n",
    "Во время подготовки данных были произведены следующие изменения:\n",
    "\n",
    "1. Данные обработаны, даты заменены на объекты datetime.\n",
    "2. В таблице users вместо пропусков подставлены нули.\n",
    "3. В таблице calls длительности разговоров были округлены до целого вверх.\n",
    "4. В таблице internet значения трафика были округлены до целого вверх.\n",
    "5. Для каждого пользователя посчитаны, по месяцам:\n",
    "    * количество звонков;\n",
    "    * количество расходов на звонки;\n",
    "    * количество расходов на сообщения;\n",
    "    * количество расходов на интернет-трафик;\n",
    "    * общая выручка.\n",
    "6. Расчитанные данные добавлены в одну общую сводную таблицу, которую сгруппировали по месяцам для каждого пользователя.\n",
    "7. В общей таблице были обработаны nan значения.\n",
    "\n",
    "### Анализ данных\n",
    "\n",
    "На этом этапе были совершены следующие действия:\n",
    "\n",
    "1. Расчитано, сколько минут разговора, сообщений и какой объем трафика требуется пользователям каждого тарифа в месяц.\n",
    "2. Был произведен расчет среднего количества, дисперсии и стандартное отклонения. \n",
    "3. Результаты расчета сведены в общую таблицу.\n",
    "4. Построены гистограммы минут разговора, сообщений и объема трафика для каждого тарифа.\n",
    "\n",
    "Распределения были проанализированны и сделаны следующие выводы:\n",
    "\n",
    "1. Распределения интернет-трафика являются нормальными с положительными смещениями для обоих тарифов.\n",
    "2. Распределения для звонков больше похожи на распределения Пуассона.\n",
    "3. Распределения для сообщений могут иметь большой выброс для нулевого значения. Если отбросить эти значения, то также получим распределение, которое ближе к распределению Пуассона.\n",
    "4. Пользователи smart в основном потребляют:\n",
    "    * от 350 до 550 минут;\n",
    "    * от 12 до 22 гб;\n",
    "    * до 60 сообщений.\n",
    "5. Пользователи ultra в основном потребляют:\n",
    "    * от 250 до 850 минут;\n",
    "    * от 10 до 30 гб;\n",
    "    * до 100 сообщений.\n",
    "6. Распределения выручки говорят о том, что пользователи тарифа \"Смарт\" чаще выходят за границы пакетов.\n",
    "\n",
    "### Проверка гипотез\n",
    "\n",
    "На этом этапе были сформулированы и проверены гипотезы о различии выручки в зависимости от тарифа и от города пользователей. Приведены обоснования полученых результатов.\n",
    "\n",
    "\"Средняя выручка пользователей тарифов «Ультра» и «Смарт» различаются.\" - гипотеза подтвердилась.\n",
    "\n",
    "\"Средняя выручка пользователей из Москвы отличается от выручки пользователей из других регионов.\" - гипотеза подтвердилась. \n",
    "\n",
    "Сделан вывод из расчета t-критерия Стьюдента для среднего одной выборки, что тариф Ультра лучше."
   ]
  }
 ],
 "metadata": {
  "ExecuteTimeLog": [
   {
    "duration": 1444,
    "start_time": "2022-06-30T17:15:25.611Z"
   },
   {
    "duration": 1368,
    "start_time": "2022-06-30T17:16:38.873Z"
   },
   {
    "duration": 17,
    "start_time": "2022-06-30T17:17:54.627Z"
   },
   {
    "duration": 32,
    "start_time": "2022-06-30T17:18:04.635Z"
   },
   {
    "duration": 9,
    "start_time": "2022-06-30T17:18:28.322Z"
   },
   {
    "duration": 21,
    "start_time": "2022-06-30T17:18:35.465Z"
   },
   {
    "duration": 8,
    "start_time": "2022-06-30T17:18:44.697Z"
   },
   {
    "duration": 18,
    "start_time": "2022-06-30T17:18:51.793Z"
   },
   {
    "duration": 111,
    "start_time": "2022-06-30T17:19:03.944Z"
   },
   {
    "duration": 9,
    "start_time": "2022-06-30T17:19:08.831Z"
   },
   {
    "duration": 9,
    "start_time": "2022-06-30T17:19:17.202Z"
   },
   {
    "duration": 10,
    "start_time": "2022-06-30T17:19:31.162Z"
   },
   {
    "duration": 10,
    "start_time": "2022-06-30T17:19:37.914Z"
   },
   {
    "duration": 48,
    "start_time": "2022-07-02T12:22:26.653Z"
   },
   {
    "duration": 1376,
    "start_time": "2022-07-02T12:22:54.727Z"
   },
   {
    "duration": 982,
    "start_time": "2022-07-02T12:22:56.105Z"
   },
   {
    "duration": 12,
    "start_time": "2022-07-02T12:22:57.089Z"
   },
   {
    "duration": 34,
    "start_time": "2022-07-02T12:22:57.103Z"
   },
   {
    "duration": 19,
    "start_time": "2022-07-02T12:22:57.139Z"
   },
   {
    "duration": 26,
    "start_time": "2022-07-02T12:22:57.159Z"
   },
   {
    "duration": 8,
    "start_time": "2022-07-02T12:22:57.186Z"
   },
   {
    "duration": 25,
    "start_time": "2022-07-02T12:22:57.196Z"
   },
   {
    "duration": 18,
    "start_time": "2022-07-02T12:22:57.222Z"
   },
   {
    "duration": 12,
    "start_time": "2022-07-02T12:22:57.245Z"
   },
   {
    "duration": 16,
    "start_time": "2022-07-02T12:22:57.259Z"
   },
   {
    "duration": 20,
    "start_time": "2022-07-02T12:22:57.277Z"
   },
   {
    "duration": 72,
    "start_time": "2022-07-02T12:23:00.184Z"
   },
   {
    "duration": 34,
    "start_time": "2022-07-02T12:23:30.495Z"
   },
   {
    "duration": 9,
    "start_time": "2022-07-02T12:24:30.491Z"
   },
   {
    "duration": 5,
    "start_time": "2022-07-02T12:32:12.130Z"
   },
   {
    "duration": 5,
    "start_time": "2022-07-02T12:39:26.682Z"
   },
   {
    "duration": 4,
    "start_time": "2022-07-02T12:40:01.382Z"
   },
   {
    "duration": 25,
    "start_time": "2022-07-02T13:04:14.285Z"
   },
   {
    "duration": 6,
    "start_time": "2022-07-02T13:04:36.803Z"
   },
   {
    "duration": 8,
    "start_time": "2022-07-02T13:10:29.694Z"
   },
   {
    "duration": 15,
    "start_time": "2022-07-02T13:13:58.084Z"
   },
   {
    "duration": 15,
    "start_time": "2022-07-02T13:14:18.303Z"
   },
   {
    "duration": 13,
    "start_time": "2022-07-02T13:18:39.942Z"
   },
   {
    "duration": 9,
    "start_time": "2022-07-02T13:20:01.429Z"
   },
   {
    "duration": 21,
    "start_time": "2022-07-02T13:21:02.095Z"
   },
   {
    "duration": 52,
    "start_time": "2022-07-02T13:28:12.494Z"
   },
   {
    "duration": 47,
    "start_time": "2022-07-02T13:28:17.942Z"
   },
   {
    "duration": 4,
    "start_time": "2022-07-02T13:28:28.914Z"
   },
   {
    "duration": 9,
    "start_time": "2022-07-02T13:28:42.110Z"
   },
   {
    "duration": 44,
    "start_time": "2022-07-02T13:29:31.779Z"
   },
   {
    "duration": 11,
    "start_time": "2022-07-02T13:29:42.029Z"
   },
   {
    "duration": 6,
    "start_time": "2022-07-02T13:29:50.805Z"
   },
   {
    "duration": 6,
    "start_time": "2022-07-02T13:30:00.901Z"
   },
   {
    "duration": 3,
    "start_time": "2022-07-02T13:30:30.979Z"
   },
   {
    "duration": 4,
    "start_time": "2022-07-02T13:30:36.701Z"
   },
   {
    "duration": 4,
    "start_time": "2022-07-02T13:30:55.847Z"
   },
   {
    "duration": 3,
    "start_time": "2022-07-02T13:31:23.518Z"
   },
   {
    "duration": 4,
    "start_time": "2022-07-02T13:31:25.681Z"
   },
   {
    "duration": 4,
    "start_time": "2022-07-02T13:32:19.085Z"
   },
   {
    "duration": 5,
    "start_time": "2022-07-02T13:33:00.271Z"
   },
   {
    "duration": 16,
    "start_time": "2022-07-02T13:33:56.126Z"
   },
   {
    "duration": 5,
    "start_time": "2022-07-02T13:37:29.312Z"
   },
   {
    "duration": 421,
    "start_time": "2022-07-02T13:37:29.319Z"
   },
   {
    "duration": 11,
    "start_time": "2022-07-02T13:37:29.742Z"
   },
   {
    "duration": 28,
    "start_time": "2022-07-02T13:37:29.755Z"
   },
   {
    "duration": 9,
    "start_time": "2022-07-02T13:37:29.784Z"
   },
   {
    "duration": 25,
    "start_time": "2022-07-02T13:37:29.794Z"
   },
   {
    "duration": 8,
    "start_time": "2022-07-02T13:37:29.826Z"
   },
   {
    "duration": 21,
    "start_time": "2022-07-02T13:37:29.835Z"
   },
   {
    "duration": 7,
    "start_time": "2022-07-02T13:37:29.858Z"
   },
   {
    "duration": 12,
    "start_time": "2022-07-02T13:37:29.867Z"
   },
   {
    "duration": 27,
    "start_time": "2022-07-02T13:37:29.881Z"
   },
   {
    "duration": 14,
    "start_time": "2022-07-02T13:37:29.909Z"
   },
   {
    "duration": 32,
    "start_time": "2022-07-02T13:37:29.925Z"
   },
   {
    "duration": 15,
    "start_time": "2022-07-02T13:37:29.959Z"
   },
   {
    "duration": 3,
    "start_time": "2022-07-02T13:37:29.976Z"
   },
   {
    "duration": 6,
    "start_time": "2022-07-02T13:37:29.980Z"
   },
   {
    "duration": 23,
    "start_time": "2022-07-02T13:37:29.987Z"
   },
   {
    "duration": 31,
    "start_time": "2022-07-02T13:37:30.012Z"
   },
   {
    "duration": 13,
    "start_time": "2022-07-02T13:37:30.045Z"
   },
   {
    "duration": 24,
    "start_time": "2022-07-02T13:37:30.060Z"
   },
   {
    "duration": 7,
    "start_time": "2022-07-02T13:37:30.085Z"
   },
   {
    "duration": 4,
    "start_time": "2022-07-02T13:37:32.494Z"
   },
   {
    "duration": 4,
    "start_time": "2022-07-02T13:37:36.578Z"
   },
   {
    "duration": 5,
    "start_time": "2022-07-02T13:37:40.102Z"
   },
   {
    "duration": 10,
    "start_time": "2022-07-02T13:37:42.118Z"
   },
   {
    "duration": 8,
    "start_time": "2022-07-02T13:39:08.407Z"
   },
   {
    "duration": 7,
    "start_time": "2022-07-02T13:39:16.355Z"
   },
   {
    "duration": 10,
    "start_time": "2022-07-02T13:40:21.281Z"
   },
   {
    "duration": 5,
    "start_time": "2022-07-02T13:40:48.406Z"
   },
   {
    "duration": 8,
    "start_time": "2022-07-02T13:42:26.599Z"
   },
   {
    "duration": 4,
    "start_time": "2022-07-02T13:42:52.472Z"
   },
   {
    "duration": 4,
    "start_time": "2022-07-02T13:44:36.110Z"
   },
   {
    "duration": 65,
    "start_time": "2022-07-02T13:44:56.903Z"
   },
   {
    "duration": 75,
    "start_time": "2022-07-02T13:45:06.307Z"
   },
   {
    "duration": 4,
    "start_time": "2022-07-02T13:45:13.207Z"
   },
   {
    "duration": 5,
    "start_time": "2022-07-02T13:45:35.847Z"
   },
   {
    "duration": 5,
    "start_time": "2022-07-02T13:45:56.007Z"
   },
   {
    "duration": 7,
    "start_time": "2022-07-02T13:46:01.423Z"
   },
   {
    "duration": 482,
    "start_time": "2022-07-02T13:46:01.433Z"
   },
   {
    "duration": 9,
    "start_time": "2022-07-02T13:46:01.917Z"
   },
   {
    "duration": 38,
    "start_time": "2022-07-02T13:46:01.928Z"
   },
   {
    "duration": 8,
    "start_time": "2022-07-02T13:46:01.968Z"
   },
   {
    "duration": 54,
    "start_time": "2022-07-02T13:46:01.978Z"
   },
   {
    "duration": 7,
    "start_time": "2022-07-02T13:46:02.034Z"
   },
   {
    "duration": 39,
    "start_time": "2022-07-02T13:46:02.043Z"
   },
   {
    "duration": 16,
    "start_time": "2022-07-02T13:46:02.089Z"
   },
   {
    "duration": 24,
    "start_time": "2022-07-02T13:46:02.107Z"
   },
   {
    "duration": 22,
    "start_time": "2022-07-02T13:46:02.136Z"
   },
   {
    "duration": 19,
    "start_time": "2022-07-02T13:46:02.160Z"
   },
   {
    "duration": 39,
    "start_time": "2022-07-02T13:46:02.181Z"
   },
   {
    "duration": 24,
    "start_time": "2022-07-02T13:46:02.222Z"
   },
   {
    "duration": 12,
    "start_time": "2022-07-02T13:46:02.249Z"
   },
   {
    "duration": 10,
    "start_time": "2022-07-02T13:46:02.263Z"
   },
   {
    "duration": 31,
    "start_time": "2022-07-02T13:46:02.275Z"
   },
   {
    "duration": 13,
    "start_time": "2022-07-02T13:46:02.308Z"
   },
   {
    "duration": 6,
    "start_time": "2022-07-02T13:46:02.323Z"
   },
   {
    "duration": 28,
    "start_time": "2022-07-02T13:46:02.331Z"
   },
   {
    "duration": 5,
    "start_time": "2022-07-02T13:46:02.361Z"
   },
   {
    "duration": 23,
    "start_time": "2022-07-02T13:46:02.367Z"
   },
   {
    "duration": 6,
    "start_time": "2022-07-02T13:46:02.392Z"
   },
   {
    "duration": 10,
    "start_time": "2022-07-02T13:46:02.400Z"
   },
   {
    "duration": 25,
    "start_time": "2022-07-02T13:46:02.411Z"
   },
   {
    "duration": 3,
    "start_time": "2022-07-02T13:49:45.186Z"
   },
   {
    "duration": 3,
    "start_time": "2022-07-02T13:50:21.623Z"
   },
   {
    "duration": 21,
    "start_time": "2022-07-02T13:50:41.528Z"
   },
   {
    "duration": 10,
    "start_time": "2022-07-02T13:55:02.394Z"
   },
   {
    "duration": 3,
    "start_time": "2022-07-02T13:59:00.304Z"
   },
   {
    "duration": 95,
    "start_time": "2022-07-02T13:59:18.268Z"
   },
   {
    "duration": 4,
    "start_time": "2022-07-02T13:59:37.512Z"
   },
   {
    "duration": 63,
    "start_time": "2022-07-02T14:00:25.001Z"
   },
   {
    "duration": 3,
    "start_time": "2022-07-02T14:02:17.417Z"
   },
   {
    "duration": 100,
    "start_time": "2022-07-02T14:04:15.354Z"
   },
   {
    "duration": 101,
    "start_time": "2022-07-02T14:04:31.668Z"
   },
   {
    "duration": 63,
    "start_time": "2022-07-02T14:06:54.523Z"
   },
   {
    "duration": 53,
    "start_time": "2022-07-02T14:08:07.818Z"
   },
   {
    "duration": 26,
    "start_time": "2022-07-02T14:10:27.237Z"
   },
   {
    "duration": 5,
    "start_time": "2022-07-02T14:11:13.463Z"
   },
   {
    "duration": 382,
    "start_time": "2022-07-02T14:11:13.470Z"
   },
   {
    "duration": 11,
    "start_time": "2022-07-02T14:11:13.854Z"
   },
   {
    "duration": 46,
    "start_time": "2022-07-02T14:11:13.866Z"
   },
   {
    "duration": 25,
    "start_time": "2022-07-02T14:11:13.914Z"
   },
   {
    "duration": 34,
    "start_time": "2022-07-02T14:11:13.941Z"
   },
   {
    "duration": 14,
    "start_time": "2022-07-02T14:11:13.977Z"
   },
   {
    "duration": 43,
    "start_time": "2022-07-02T14:11:13.993Z"
   },
   {
    "duration": 11,
    "start_time": "2022-07-02T14:11:14.038Z"
   },
   {
    "duration": 46,
    "start_time": "2022-07-02T14:11:14.051Z"
   },
   {
    "duration": 27,
    "start_time": "2022-07-02T14:11:14.101Z"
   },
   {
    "duration": 19,
    "start_time": "2022-07-02T14:11:14.129Z"
   },
   {
    "duration": 55,
    "start_time": "2022-07-02T14:11:14.150Z"
   },
   {
    "duration": 17,
    "start_time": "2022-07-02T14:11:14.207Z"
   },
   {
    "duration": 12,
    "start_time": "2022-07-02T14:11:14.225Z"
   },
   {
    "duration": 27,
    "start_time": "2022-07-02T14:11:14.239Z"
   },
   {
    "duration": 35,
    "start_time": "2022-07-02T14:11:14.268Z"
   },
   {
    "duration": 14,
    "start_time": "2022-07-02T14:11:14.305Z"
   },
   {
    "duration": 14,
    "start_time": "2022-07-02T14:11:14.321Z"
   },
   {
    "duration": 33,
    "start_time": "2022-07-02T14:11:14.337Z"
   },
   {
    "duration": 8,
    "start_time": "2022-07-02T14:11:14.372Z"
   },
   {
    "duration": 20,
    "start_time": "2022-07-02T14:11:14.382Z"
   },
   {
    "duration": 33,
    "start_time": "2022-07-02T14:11:14.404Z"
   },
   {
    "duration": 10,
    "start_time": "2022-07-02T14:11:14.439Z"
   },
   {
    "duration": 12,
    "start_time": "2022-07-02T14:11:14.451Z"
   },
   {
    "duration": 5,
    "start_time": "2022-07-02T14:11:14.464Z"
   },
   {
    "duration": 6,
    "start_time": "2022-07-02T14:11:14.471Z"
   },
   {
    "duration": 14,
    "start_time": "2022-07-02T14:11:14.479Z"
   },
   {
    "duration": 3,
    "start_time": "2022-07-02T14:11:14.496Z"
   },
   {
    "duration": 92,
    "start_time": "2022-07-02T14:11:14.501Z"
   },
   {
    "duration": 3,
    "start_time": "2022-07-02T14:11:14.595Z"
   },
   {
    "duration": 58,
    "start_time": "2022-07-02T14:11:14.599Z"
   },
   {
    "duration": 99,
    "start_time": "2022-07-02T14:11:14.658Z"
   },
   {
    "duration": 42,
    "start_time": "2022-07-02T14:11:14.759Z"
   },
   {
    "duration": 72,
    "start_time": "2022-07-02T14:11:14.803Z"
   },
   {
    "duration": 39,
    "start_time": "2022-07-02T14:11:16.970Z"
   },
   {
    "duration": 33,
    "start_time": "2022-07-02T14:13:57.835Z"
   },
   {
    "duration": 49,
    "start_time": "2022-07-02T14:15:55.236Z"
   },
   {
    "duration": 34,
    "start_time": "2022-07-02T14:16:38.916Z"
   },
   {
    "duration": 13,
    "start_time": "2022-07-02T14:17:26.843Z"
   },
   {
    "duration": 6,
    "start_time": "2022-07-02T14:17:36.145Z"
   },
   {
    "duration": 5,
    "start_time": "2022-07-02T14:22:14.484Z"
   },
   {
    "duration": 15,
    "start_time": "2022-07-02T14:22:22.052Z"
   },
   {
    "duration": 12,
    "start_time": "2022-07-02T14:22:58.987Z"
   },
   {
    "duration": 13,
    "start_time": "2022-07-02T14:23:09.115Z"
   },
   {
    "duration": 5,
    "start_time": "2022-07-02T14:29:15.026Z"
   },
   {
    "duration": 5,
    "start_time": "2022-07-02T14:29:41.362Z"
   },
   {
    "duration": 7810,
    "start_time": "2022-07-02T14:30:27.609Z"
   },
   {
    "duration": 4,
    "start_time": "2022-07-02T14:30:42.253Z"
   },
   {
    "duration": 2,
    "start_time": "2022-07-02T14:37:51.200Z"
   },
   {
    "duration": 15,
    "start_time": "2022-07-02T14:39:36.522Z"
   },
   {
    "duration": 4,
    "start_time": "2022-07-02T14:44:25.288Z"
   },
   {
    "duration": 16,
    "start_time": "2022-07-02T14:45:11.761Z"
   },
   {
    "duration": 4,
    "start_time": "2022-07-02T14:45:42.176Z"
   },
   {
    "duration": 16,
    "start_time": "2022-07-02T14:45:44.131Z"
   },
   {
    "duration": 5,
    "start_time": "2022-07-02T14:46:24.819Z"
   },
   {
    "duration": 377,
    "start_time": "2022-07-02T14:46:24.827Z"
   },
   {
    "duration": 8,
    "start_time": "2022-07-02T14:46:25.206Z"
   },
   {
    "duration": 27,
    "start_time": "2022-07-02T14:46:25.216Z"
   },
   {
    "duration": 11,
    "start_time": "2022-07-02T14:46:25.246Z"
   },
   {
    "duration": 29,
    "start_time": "2022-07-02T14:46:25.258Z"
   },
   {
    "duration": 7,
    "start_time": "2022-07-02T14:46:25.289Z"
   },
   {
    "duration": 39,
    "start_time": "2022-07-02T14:46:25.298Z"
   },
   {
    "duration": 8,
    "start_time": "2022-07-02T14:46:25.339Z"
   },
   {
    "duration": 18,
    "start_time": "2022-07-02T14:46:25.349Z"
   },
   {
    "duration": 13,
    "start_time": "2022-07-02T14:46:25.370Z"
   },
   {
    "duration": 13,
    "start_time": "2022-07-02T14:46:25.384Z"
   },
   {
    "duration": 52,
    "start_time": "2022-07-02T14:46:25.399Z"
   },
   {
    "duration": 16,
    "start_time": "2022-07-02T14:46:25.453Z"
   },
   {
    "duration": 5,
    "start_time": "2022-07-02T14:46:25.470Z"
   },
   {
    "duration": 11,
    "start_time": "2022-07-02T14:46:25.476Z"
   },
   {
    "duration": 41,
    "start_time": "2022-07-02T14:46:25.492Z"
   },
   {
    "duration": 13,
    "start_time": "2022-07-02T14:46:25.535Z"
   },
   {
    "duration": 4,
    "start_time": "2022-07-02T14:46:25.550Z"
   },
   {
    "duration": 21,
    "start_time": "2022-07-02T14:46:25.556Z"
   },
   {
    "duration": 4,
    "start_time": "2022-07-02T14:46:25.579Z"
   },
   {
    "duration": 7,
    "start_time": "2022-07-02T14:46:25.585Z"
   },
   {
    "duration": 38,
    "start_time": "2022-07-02T14:46:25.594Z"
   },
   {
    "duration": 8,
    "start_time": "2022-07-02T14:46:25.634Z"
   },
   {
    "duration": 7,
    "start_time": "2022-07-02T14:46:25.643Z"
   },
   {
    "duration": 5,
    "start_time": "2022-07-02T14:46:25.651Z"
   },
   {
    "duration": 5,
    "start_time": "2022-07-02T14:46:25.657Z"
   },
   {
    "duration": 13,
    "start_time": "2022-07-02T14:46:25.663Z"
   },
   {
    "duration": 4,
    "start_time": "2022-07-02T14:46:25.679Z"
   },
   {
    "duration": 112,
    "start_time": "2022-07-02T14:46:25.685Z"
   },
   {
    "duration": 3,
    "start_time": "2022-07-02T14:46:25.798Z"
   },
   {
    "duration": 57,
    "start_time": "2022-07-02T14:46:25.803Z"
   },
   {
    "duration": 95,
    "start_time": "2022-07-02T14:46:25.862Z"
   },
   {
    "duration": 38,
    "start_time": "2022-07-02T14:46:25.959Z"
   },
   {
    "duration": 52,
    "start_time": "2022-07-02T14:46:25.999Z"
   },
   {
    "duration": 34,
    "start_time": "2022-07-02T14:46:26.053Z"
   },
   {
    "duration": 12,
    "start_time": "2022-07-02T14:46:26.088Z"
   },
   {
    "duration": 27,
    "start_time": "2022-07-02T14:46:26.101Z"
   },
   {
    "duration": 4,
    "start_time": "2022-07-02T14:46:26.130Z"
   },
   {
    "duration": 16,
    "start_time": "2022-07-02T14:46:26.136Z"
   },
   {
    "duration": 6,
    "start_time": "2022-07-02T14:46:26.153Z"
   },
   {
    "duration": 7982,
    "start_time": "2022-07-02T14:46:26.160Z"
   },
   {
    "duration": 3,
    "start_time": "2022-07-02T14:46:34.144Z"
   },
   {
    "duration": 7,
    "start_time": "2022-07-02T14:46:34.149Z"
   },
   {
    "duration": 32,
    "start_time": "2022-07-02T14:46:34.158Z"
   },
   {
    "duration": 30,
    "start_time": "2022-07-02T14:47:33.246Z"
   },
   {
    "duration": 427,
    "start_time": "2022-07-02T15:02:48.614Z"
   },
   {
    "duration": 480,
    "start_time": "2022-07-02T15:02:54.693Z"
   },
   {
    "duration": 277,
    "start_time": "2022-07-02T15:03:43.503Z"
   },
   {
    "duration": 227,
    "start_time": "2022-07-02T15:04:53.342Z"
   },
   {
    "duration": 355,
    "start_time": "2022-07-02T15:05:11.039Z"
   },
   {
    "duration": 790,
    "start_time": "2022-07-02T15:08:12.783Z"
   },
   {
    "duration": 941,
    "start_time": "2022-07-02T15:09:31.217Z"
   },
   {
    "duration": 776,
    "start_time": "2022-07-02T15:10:29.066Z"
   },
   {
    "duration": 266,
    "start_time": "2022-07-02T15:11:17.778Z"
   },
   {
    "duration": 255,
    "start_time": "2022-07-02T15:12:50.626Z"
   },
   {
    "duration": 251,
    "start_time": "2022-07-02T15:13:11.576Z"
   },
   {
    "duration": 271,
    "start_time": "2022-07-02T15:15:12.593Z"
   },
   {
    "duration": 260,
    "start_time": "2022-07-02T15:17:07.450Z"
   },
   {
    "duration": 390,
    "start_time": "2022-07-02T15:17:56.179Z"
   },
   {
    "duration": 282,
    "start_time": "2022-07-02T15:18:33.315Z"
   },
   {
    "duration": 256,
    "start_time": "2022-07-02T15:18:38.234Z"
   },
   {
    "duration": 7,
    "start_time": "2022-07-02T15:24:23.846Z"
   },
   {
    "duration": 9,
    "start_time": "2022-07-02T15:26:31.342Z"
   },
   {
    "duration": 6,
    "start_time": "2022-07-02T15:35:50.342Z"
   },
   {
    "duration": 7,
    "start_time": "2022-07-02T15:36:11.197Z"
   },
   {
    "duration": 11,
    "start_time": "2022-07-02T15:40:30.455Z"
   },
   {
    "duration": 1218,
    "start_time": "2022-07-02T20:18:48.317Z"
   },
   {
    "duration": 813,
    "start_time": "2022-07-02T20:18:49.537Z"
   },
   {
    "duration": 15,
    "start_time": "2022-07-02T20:18:50.352Z"
   },
   {
    "duration": 32,
    "start_time": "2022-07-02T20:18:50.369Z"
   },
   {
    "duration": 10,
    "start_time": "2022-07-02T20:18:50.402Z"
   },
   {
    "duration": 35,
    "start_time": "2022-07-02T20:18:50.414Z"
   },
   {
    "duration": 10,
    "start_time": "2022-07-02T20:18:50.450Z"
   },
   {
    "duration": 26,
    "start_time": "2022-07-02T20:18:50.462Z"
   },
   {
    "duration": 14,
    "start_time": "2022-07-02T20:18:50.490Z"
   },
   {
    "duration": 31,
    "start_time": "2022-07-02T20:18:50.508Z"
   },
   {
    "duration": 24,
    "start_time": "2022-07-02T20:18:50.542Z"
   },
   {
    "duration": 17,
    "start_time": "2022-07-02T20:18:50.568Z"
   },
   {
    "duration": 54,
    "start_time": "2022-07-02T20:18:50.588Z"
   },
   {
    "duration": 19,
    "start_time": "2022-07-02T20:18:50.644Z"
   },
   {
    "duration": 7,
    "start_time": "2022-07-02T20:18:50.665Z"
   },
   {
    "duration": 8,
    "start_time": "2022-07-02T20:18:50.674Z"
   },
   {
    "duration": 66,
    "start_time": "2022-07-02T20:18:50.684Z"
   },
   {
    "duration": 20,
    "start_time": "2022-07-02T20:18:50.753Z"
   },
   {
    "duration": 7,
    "start_time": "2022-07-02T20:18:50.776Z"
   },
   {
    "duration": 46,
    "start_time": "2022-07-02T20:18:50.784Z"
   },
   {
    "duration": 5,
    "start_time": "2022-07-02T20:18:50.832Z"
   },
   {
    "duration": 18,
    "start_time": "2022-07-02T20:18:50.839Z"
   },
   {
    "duration": 13,
    "start_time": "2022-07-02T20:18:50.860Z"
   },
   {
    "duration": 10,
    "start_time": "2022-07-02T20:18:50.875Z"
   },
   {
    "duration": 8,
    "start_time": "2022-07-02T20:18:50.887Z"
   },
   {
    "duration": 13,
    "start_time": "2022-07-02T20:18:50.897Z"
   },
   {
    "duration": 14,
    "start_time": "2022-07-02T20:18:50.912Z"
   },
   {
    "duration": 22,
    "start_time": "2022-07-02T20:18:50.931Z"
   },
   {
    "duration": 6,
    "start_time": "2022-07-02T20:18:50.955Z"
   },
   {
    "duration": 118,
    "start_time": "2022-07-02T20:18:50.964Z"
   },
   {
    "duration": 4,
    "start_time": "2022-07-02T20:18:51.084Z"
   },
   {
    "duration": 66,
    "start_time": "2022-07-02T20:18:51.089Z"
   },
   {
    "duration": 118,
    "start_time": "2022-07-02T20:18:51.157Z"
   },
   {
    "duration": 56,
    "start_time": "2022-07-02T20:18:51.278Z"
   },
   {
    "duration": 44,
    "start_time": "2022-07-02T20:18:51.336Z"
   },
   {
    "duration": 57,
    "start_time": "2022-07-02T20:18:51.382Z"
   },
   {
    "duration": 15,
    "start_time": "2022-07-02T20:18:51.441Z"
   },
   {
    "duration": 9,
    "start_time": "2022-07-02T20:18:51.458Z"
   },
   {
    "duration": 11,
    "start_time": "2022-07-02T20:18:51.469Z"
   },
   {
    "duration": 50,
    "start_time": "2022-07-02T20:18:51.482Z"
   },
   {
    "duration": 14,
    "start_time": "2022-07-02T20:18:51.535Z"
   },
   {
    "duration": 8359,
    "start_time": "2022-07-02T20:18:51.551Z"
   },
   {
    "duration": 4,
    "start_time": "2022-07-02T20:18:59.912Z"
   },
   {
    "duration": 4,
    "start_time": "2022-07-02T20:18:59.926Z"
   },
   {
    "duration": 45,
    "start_time": "2022-07-02T20:18:59.931Z"
   },
   {
    "duration": 32,
    "start_time": "2022-07-02T20:18:59.978Z"
   },
   {
    "duration": 319,
    "start_time": "2022-07-02T20:19:00.028Z"
   },
   {
    "duration": 317,
    "start_time": "2022-07-02T20:19:00.349Z"
   },
   {
    "duration": 302,
    "start_time": "2022-07-02T20:19:00.668Z"
   },
   {
    "duration": 340,
    "start_time": "2022-07-02T20:19:00.972Z"
   },
   {
    "duration": 435,
    "start_time": "2022-07-02T20:19:01.315Z"
   },
   {
    "duration": 297,
    "start_time": "2022-07-02T20:19:01.752Z"
   },
   {
    "duration": 324,
    "start_time": "2022-07-02T20:19:02.051Z"
   },
   {
    "duration": 11,
    "start_time": "2022-07-02T20:19:02.377Z"
   },
   {
    "duration": 13,
    "start_time": "2022-07-02T20:19:02.390Z"
   },
   {
    "duration": 14,
    "start_time": "2022-07-02T20:19:02.428Z"
   },
   {
    "duration": 23,
    "start_time": "2022-07-02T20:36:40.132Z"
   },
   {
    "duration": 158,
    "start_time": "2022-07-02T20:36:51.029Z"
   },
   {
    "duration": 16,
    "start_time": "2022-07-02T20:36:59.202Z"
   },
   {
    "duration": 7,
    "start_time": "2022-07-02T20:40:33.151Z"
   },
   {
    "duration": 24,
    "start_time": "2022-07-02T20:43:04.872Z"
   },
   {
    "duration": 9,
    "start_time": "2022-07-02T20:43:15.807Z"
   },
   {
    "duration": 1211,
    "start_time": "2022-07-02T20:43:28.018Z"
   },
   {
    "duration": 395,
    "start_time": "2022-07-02T20:43:29.231Z"
   },
   {
    "duration": 19,
    "start_time": "2022-07-02T20:43:29.628Z"
   },
   {
    "duration": 43,
    "start_time": "2022-07-02T20:43:29.650Z"
   },
   {
    "duration": 32,
    "start_time": "2022-07-02T20:43:29.696Z"
   },
   {
    "duration": 36,
    "start_time": "2022-07-02T20:43:29.731Z"
   },
   {
    "duration": 9,
    "start_time": "2022-07-02T20:43:29.769Z"
   },
   {
    "duration": 22,
    "start_time": "2022-07-02T20:43:29.780Z"
   },
   {
    "duration": 22,
    "start_time": "2022-07-02T20:43:29.804Z"
   },
   {
    "duration": 15,
    "start_time": "2022-07-02T20:43:29.828Z"
   },
   {
    "duration": 17,
    "start_time": "2022-07-02T20:43:29.845Z"
   },
   {
    "duration": 20,
    "start_time": "2022-07-02T20:43:29.864Z"
   },
   {
    "duration": 56,
    "start_time": "2022-07-02T20:43:29.885Z"
   },
   {
    "duration": 17,
    "start_time": "2022-07-02T20:43:29.944Z"
   },
   {
    "duration": 3,
    "start_time": "2022-07-02T20:43:29.963Z"
   },
   {
    "duration": 7,
    "start_time": "2022-07-02T20:43:29.968Z"
   },
   {
    "duration": 52,
    "start_time": "2022-07-02T20:43:29.977Z"
   },
   {
    "duration": 15,
    "start_time": "2022-07-02T20:43:30.031Z"
   },
   {
    "duration": 12,
    "start_time": "2022-07-02T20:43:30.048Z"
   },
   {
    "duration": 35,
    "start_time": "2022-07-02T20:43:30.062Z"
   },
   {
    "duration": 5,
    "start_time": "2022-07-02T20:43:30.099Z"
   },
   {
    "duration": 21,
    "start_time": "2022-07-02T20:43:30.106Z"
   },
   {
    "duration": 27,
    "start_time": "2022-07-02T20:43:30.130Z"
   },
   {
    "duration": 12,
    "start_time": "2022-07-02T20:43:30.160Z"
   },
   {
    "duration": 21,
    "start_time": "2022-07-02T20:43:30.174Z"
   },
   {
    "duration": 12,
    "start_time": "2022-07-02T20:43:30.197Z"
   },
   {
    "duration": 13,
    "start_time": "2022-07-02T20:43:30.211Z"
   },
   {
    "duration": 30,
    "start_time": "2022-07-02T20:43:30.226Z"
   },
   {
    "duration": 29,
    "start_time": "2022-07-02T20:43:30.259Z"
   },
   {
    "duration": 121,
    "start_time": "2022-07-02T20:43:30.291Z"
   },
   {
    "duration": 4,
    "start_time": "2022-07-02T20:43:30.414Z"
   },
   {
    "duration": 59,
    "start_time": "2022-07-02T20:43:30.426Z"
   },
   {
    "duration": 112,
    "start_time": "2022-07-02T20:43:30.487Z"
   },
   {
    "duration": 70,
    "start_time": "2022-07-02T20:43:30.600Z"
   },
   {
    "duration": 55,
    "start_time": "2022-07-02T20:43:30.671Z"
   },
   {
    "duration": 38,
    "start_time": "2022-07-02T20:43:30.728Z"
   },
   {
    "duration": 6,
    "start_time": "2022-07-02T20:43:30.768Z"
   },
   {
    "duration": 18,
    "start_time": "2022-07-02T20:43:30.776Z"
   },
   {
    "duration": 29,
    "start_time": "2022-07-02T20:43:30.797Z"
   },
   {
    "duration": 30,
    "start_time": "2022-07-02T20:43:30.828Z"
   },
   {
    "duration": 29,
    "start_time": "2022-07-02T20:43:30.863Z"
   },
   {
    "duration": 34,
    "start_time": "2022-07-02T20:43:30.894Z"
   },
   {
    "duration": 31,
    "start_time": "2022-07-02T20:43:30.930Z"
   },
   {
    "duration": 8450,
    "start_time": "2022-07-02T20:43:30.963Z"
   },
   {
    "duration": 4,
    "start_time": "2022-07-02T20:43:39.415Z"
   },
   {
    "duration": 5,
    "start_time": "2022-07-02T20:43:39.425Z"
   },
   {
    "duration": 36,
    "start_time": "2022-07-02T20:43:39.431Z"
   },
   {
    "duration": 62,
    "start_time": "2022-07-02T20:43:39.469Z"
   },
   {
    "duration": 303,
    "start_time": "2022-07-02T20:43:39.533Z"
   },
   {
    "duration": 303,
    "start_time": "2022-07-02T20:43:39.838Z"
   },
   {
    "duration": 321,
    "start_time": "2022-07-02T20:43:40.142Z"
   },
   {
    "duration": 304,
    "start_time": "2022-07-02T20:43:40.466Z"
   },
   {
    "duration": 389,
    "start_time": "2022-07-02T20:43:40.772Z"
   },
   {
    "duration": 325,
    "start_time": "2022-07-02T20:43:41.163Z"
   },
   {
    "duration": 290,
    "start_time": "2022-07-02T20:43:41.492Z"
   },
   {
    "duration": 9,
    "start_time": "2022-07-02T20:43:41.784Z"
   },
   {
    "duration": 13,
    "start_time": "2022-07-02T20:43:41.796Z"
   },
   {
    "duration": 15,
    "start_time": "2022-07-02T20:43:41.827Z"
   },
   {
    "duration": 47,
    "start_time": "2022-07-02T22:19:25.100Z"
   },
   {
    "duration": 1291,
    "start_time": "2022-07-02T22:19:32.667Z"
   },
   {
    "duration": 736,
    "start_time": "2022-07-02T22:19:33.961Z"
   },
   {
    "duration": 13,
    "start_time": "2022-07-02T22:19:34.698Z"
   },
   {
    "duration": 26,
    "start_time": "2022-07-02T22:19:34.713Z"
   },
   {
    "duration": 9,
    "start_time": "2022-07-02T22:19:34.741Z"
   },
   {
    "duration": 41,
    "start_time": "2022-07-02T22:19:34.752Z"
   },
   {
    "duration": 10,
    "start_time": "2022-07-02T22:19:34.796Z"
   },
   {
    "duration": 50,
    "start_time": "2022-07-02T22:19:34.808Z"
   },
   {
    "duration": 12,
    "start_time": "2022-07-02T22:19:34.860Z"
   },
   {
    "duration": 19,
    "start_time": "2022-07-02T22:19:34.875Z"
   },
   {
    "duration": 14,
    "start_time": "2022-07-02T22:19:34.896Z"
   },
   {
    "duration": 12,
    "start_time": "2022-07-02T22:19:34.926Z"
   },
   {
    "duration": 40,
    "start_time": "2022-07-02T22:19:34.940Z"
   },
   {
    "duration": 17,
    "start_time": "2022-07-02T22:19:34.983Z"
   },
   {
    "duration": 25,
    "start_time": "2022-07-02T22:19:35.002Z"
   },
   {
    "duration": 4,
    "start_time": "2022-07-02T22:19:35.029Z"
   },
   {
    "duration": 30,
    "start_time": "2022-07-02T22:19:35.035Z"
   },
   {
    "duration": 14,
    "start_time": "2022-07-02T22:19:35.067Z"
   },
   {
    "duration": 5,
    "start_time": "2022-07-02T22:19:35.082Z"
   },
   {
    "duration": 42,
    "start_time": "2022-07-02T22:19:35.088Z"
   },
   {
    "duration": 4,
    "start_time": "2022-07-02T22:19:35.132Z"
   },
   {
    "duration": 11,
    "start_time": "2022-07-02T22:19:35.138Z"
   },
   {
    "duration": 10,
    "start_time": "2022-07-02T22:19:35.150Z"
   },
   {
    "duration": 9,
    "start_time": "2022-07-02T22:19:35.162Z"
   },
   {
    "duration": 10,
    "start_time": "2022-07-02T22:19:35.173Z"
   },
   {
    "duration": 6,
    "start_time": "2022-07-02T22:19:35.184Z"
   },
   {
    "duration": 10,
    "start_time": "2022-07-02T22:19:35.191Z"
   },
   {
    "duration": 27,
    "start_time": "2022-07-02T22:19:35.203Z"
   },
   {
    "duration": 3,
    "start_time": "2022-07-02T22:19:35.231Z"
   },
   {
    "duration": 107,
    "start_time": "2022-07-02T22:19:35.235Z"
   },
   {
    "duration": 2,
    "start_time": "2022-07-02T22:19:35.344Z"
   },
   {
    "duration": 60,
    "start_time": "2022-07-02T22:19:35.348Z"
   },
   {
    "duration": 115,
    "start_time": "2022-07-02T22:19:35.410Z"
   },
   {
    "duration": 42,
    "start_time": "2022-07-02T22:19:35.527Z"
   },
   {
    "duration": 61,
    "start_time": "2022-07-02T22:19:35.571Z"
   },
   {
    "duration": 40,
    "start_time": "2022-07-02T22:19:35.634Z"
   },
   {
    "duration": 6,
    "start_time": "2022-07-02T22:19:38.000Z"
   },
   {
    "duration": 5,
    "start_time": "2022-07-02T22:32:06.748Z"
   },
   {
    "duration": 403,
    "start_time": "2022-07-02T22:32:06.757Z"
   },
   {
    "duration": 7,
    "start_time": "2022-07-02T22:32:07.163Z"
   },
   {
    "duration": 30,
    "start_time": "2022-07-02T22:32:07.172Z"
   },
   {
    "duration": 9,
    "start_time": "2022-07-02T22:32:07.204Z"
   },
   {
    "duration": 34,
    "start_time": "2022-07-02T22:32:07.215Z"
   },
   {
    "duration": 7,
    "start_time": "2022-07-02T22:32:07.251Z"
   },
   {
    "duration": 29,
    "start_time": "2022-07-02T22:32:07.260Z"
   },
   {
    "duration": 9,
    "start_time": "2022-07-02T22:32:07.291Z"
   },
   {
    "duration": 26,
    "start_time": "2022-07-02T22:32:07.302Z"
   },
   {
    "duration": 33,
    "start_time": "2022-07-02T22:32:07.330Z"
   },
   {
    "duration": 18,
    "start_time": "2022-07-02T22:32:07.366Z"
   },
   {
    "duration": 41,
    "start_time": "2022-07-02T22:32:07.386Z"
   },
   {
    "duration": 20,
    "start_time": "2022-07-02T22:32:07.430Z"
   },
   {
    "duration": 4,
    "start_time": "2022-07-02T22:32:07.454Z"
   },
   {
    "duration": 7,
    "start_time": "2022-07-02T22:32:07.460Z"
   },
   {
    "duration": 28,
    "start_time": "2022-07-02T22:32:07.468Z"
   },
   {
    "duration": 46,
    "start_time": "2022-07-02T22:32:07.498Z"
   },
   {
    "duration": 20,
    "start_time": "2022-07-02T22:32:07.546Z"
   },
   {
    "duration": 5,
    "start_time": "2022-07-02T22:32:07.569Z"
   },
   {
    "duration": 10,
    "start_time": "2022-07-02T22:32:07.576Z"
   },
   {
    "duration": 7,
    "start_time": "2022-07-02T22:32:07.588Z"
   },
   {
    "duration": 31,
    "start_time": "2022-07-02T22:32:07.597Z"
   },
   {
    "duration": 7,
    "start_time": "2022-07-02T22:32:07.630Z"
   },
   {
    "duration": 11,
    "start_time": "2022-07-02T22:32:07.639Z"
   },
   {
    "duration": 7,
    "start_time": "2022-07-02T22:32:07.652Z"
   },
   {
    "duration": 15,
    "start_time": "2022-07-02T22:32:07.660Z"
   },
   {
    "duration": 6,
    "start_time": "2022-07-02T22:32:07.677Z"
   },
   {
    "duration": 111,
    "start_time": "2022-07-02T22:32:07.685Z"
   },
   {
    "duration": 3,
    "start_time": "2022-07-02T22:32:07.797Z"
   },
   {
    "duration": 68,
    "start_time": "2022-07-02T22:32:07.802Z"
   },
   {
    "duration": 108,
    "start_time": "2022-07-02T22:32:07.871Z"
   },
   {
    "duration": 58,
    "start_time": "2022-07-02T22:32:07.981Z"
   },
   {
    "duration": 43,
    "start_time": "2022-07-02T22:32:08.041Z"
   },
   {
    "duration": 57,
    "start_time": "2022-07-02T22:32:08.086Z"
   },
   {
    "duration": 5,
    "start_time": "2022-07-02T22:32:49.540Z"
   },
   {
    "duration": 4,
    "start_time": "2022-07-02T22:33:06.993Z"
   },
   {
    "duration": 13,
    "start_time": "2022-07-02T22:34:50.697Z"
   },
   {
    "duration": 4,
    "start_time": "2022-07-02T22:36:06.121Z"
   },
   {
    "duration": 65,
    "start_time": "2022-07-02T22:37:05.452Z"
   },
   {
    "duration": 6,
    "start_time": "2022-07-02T22:37:10.045Z"
   },
   {
    "duration": 70,
    "start_time": "2022-07-02T22:38:44.749Z"
   },
   {
    "duration": 13,
    "start_time": "2022-07-02T22:38:47.735Z"
   },
   {
    "duration": 7,
    "start_time": "2022-07-02T22:53:31.813Z"
   },
   {
    "duration": 504,
    "start_time": "2022-07-02T22:53:31.822Z"
   },
   {
    "duration": 12,
    "start_time": "2022-07-02T22:53:32.328Z"
   },
   {
    "duration": 47,
    "start_time": "2022-07-02T22:53:32.342Z"
   },
   {
    "duration": 9,
    "start_time": "2022-07-02T22:53:32.391Z"
   },
   {
    "duration": 32,
    "start_time": "2022-07-02T22:53:32.402Z"
   },
   {
    "duration": 10,
    "start_time": "2022-07-02T22:53:32.436Z"
   },
   {
    "duration": 39,
    "start_time": "2022-07-02T22:53:32.447Z"
   },
   {
    "duration": 8,
    "start_time": "2022-07-02T22:53:32.488Z"
   },
   {
    "duration": 12,
    "start_time": "2022-07-02T22:53:32.498Z"
   },
   {
    "duration": 19,
    "start_time": "2022-07-02T22:53:32.511Z"
   },
   {
    "duration": 40,
    "start_time": "2022-07-02T22:53:32.532Z"
   },
   {
    "duration": 33,
    "start_time": "2022-07-02T22:53:32.574Z"
   },
   {
    "duration": 20,
    "start_time": "2022-07-02T22:53:32.611Z"
   },
   {
    "duration": 7,
    "start_time": "2022-07-02T22:53:32.633Z"
   },
   {
    "duration": 28,
    "start_time": "2022-07-02T22:53:32.642Z"
   },
   {
    "duration": 38,
    "start_time": "2022-07-02T22:53:32.672Z"
   },
   {
    "duration": 13,
    "start_time": "2022-07-02T22:53:32.712Z"
   },
   {
    "duration": 43,
    "start_time": "2022-07-02T22:53:32.726Z"
   },
   {
    "duration": 4,
    "start_time": "2022-07-02T22:53:32.771Z"
   },
   {
    "duration": 7,
    "start_time": "2022-07-02T22:53:32.777Z"
   },
   {
    "duration": 9,
    "start_time": "2022-07-02T22:53:32.786Z"
   },
   {
    "duration": 5,
    "start_time": "2022-07-02T22:53:32.797Z"
   },
   {
    "duration": 5,
    "start_time": "2022-07-02T22:53:32.803Z"
   },
   {
    "duration": 21,
    "start_time": "2022-07-02T22:53:32.810Z"
   },
   {
    "duration": 47,
    "start_time": "2022-07-02T22:53:32.834Z"
   },
   {
    "duration": 4,
    "start_time": "2022-07-02T22:53:32.883Z"
   },
   {
    "duration": 123,
    "start_time": "2022-07-02T22:53:32.888Z"
   },
   {
    "duration": 4,
    "start_time": "2022-07-02T22:53:33.012Z"
   },
   {
    "duration": 106,
    "start_time": "2022-07-02T22:53:33.017Z"
   },
   {
    "duration": 152,
    "start_time": "2022-07-02T22:53:33.126Z"
   },
   {
    "duration": 67,
    "start_time": "2022-07-02T22:53:33.279Z"
   },
   {
    "duration": 66,
    "start_time": "2022-07-02T22:53:33.348Z"
   },
   {
    "duration": 67,
    "start_time": "2022-07-02T22:53:33.416Z"
   },
   {
    "duration": 95,
    "start_time": "2022-07-02T22:59:09.388Z"
   },
   {
    "duration": 97,
    "start_time": "2022-07-02T22:59:34.757Z"
   },
   {
    "duration": 34,
    "start_time": "2022-07-02T22:59:53.077Z"
   },
   {
    "duration": 4,
    "start_time": "2022-07-02T23:03:26.618Z"
   },
   {
    "duration": 10,
    "start_time": "2022-07-02T23:03:34.360Z"
   },
   {
    "duration": 13,
    "start_time": "2022-07-02T23:03:49.149Z"
   },
   {
    "duration": 30,
    "start_time": "2022-07-02T23:04:41.052Z"
   },
   {
    "duration": 9,
    "start_time": "2022-07-02T23:04:43.555Z"
   },
   {
    "duration": 16,
    "start_time": "2022-07-02T23:06:30.026Z"
   },
   {
    "duration": 10,
    "start_time": "2022-07-02T23:06:34.195Z"
   },
   {
    "duration": 10,
    "start_time": "2022-07-02T23:06:37.066Z"
   },
   {
    "duration": 30,
    "start_time": "2022-07-02T23:06:39.459Z"
   },
   {
    "duration": 9,
    "start_time": "2022-07-02T23:06:44.655Z"
   },
   {
    "duration": 34,
    "start_time": "2022-07-02T23:07:03.256Z"
   },
   {
    "duration": 9,
    "start_time": "2022-07-02T23:07:05.674Z"
   },
   {
    "duration": 29,
    "start_time": "2022-07-02T23:08:27.554Z"
   },
   {
    "duration": 10,
    "start_time": "2022-07-02T23:08:30.097Z"
   },
   {
    "duration": 44,
    "start_time": "2022-07-02T23:09:01.048Z"
   },
   {
    "duration": 38,
    "start_time": "2022-07-02T23:09:07.953Z"
   },
   {
    "duration": 5,
    "start_time": "2022-07-02T23:09:11.801Z"
   },
   {
    "duration": 88,
    "start_time": "2022-07-02T23:11:01.153Z"
   },
   {
    "duration": 96,
    "start_time": "2022-07-02T23:11:11.089Z"
   },
   {
    "duration": 10,
    "start_time": "2022-07-02T23:11:20.186Z"
   },
   {
    "duration": 9,
    "start_time": "2022-07-02T23:12:09.905Z"
   },
   {
    "duration": 11,
    "start_time": "2022-07-02T23:12:25.327Z"
   },
   {
    "duration": 4,
    "start_time": "2022-07-02T23:14:04.146Z"
   },
   {
    "duration": 6,
    "start_time": "2022-07-02T23:15:45.167Z"
   },
   {
    "duration": 6,
    "start_time": "2022-07-02T23:15:55.888Z"
   },
   {
    "duration": 11,
    "start_time": "2022-07-02T23:16:42.776Z"
   },
   {
    "duration": 5,
    "start_time": "2022-07-02T23:16:56.545Z"
   },
   {
    "duration": 59,
    "start_time": "2022-07-02T23:17:12.921Z"
   },
   {
    "duration": 7,
    "start_time": "2022-07-02T23:20:04.787Z"
   },
   {
    "duration": 485,
    "start_time": "2022-07-02T23:20:04.797Z"
   },
   {
    "duration": 9,
    "start_time": "2022-07-02T23:20:05.284Z"
   },
   {
    "duration": 35,
    "start_time": "2022-07-02T23:20:05.295Z"
   },
   {
    "duration": 12,
    "start_time": "2022-07-02T23:20:05.333Z"
   },
   {
    "duration": 40,
    "start_time": "2022-07-02T23:20:05.347Z"
   },
   {
    "duration": 8,
    "start_time": "2022-07-02T23:20:05.389Z"
   },
   {
    "duration": 22,
    "start_time": "2022-07-02T23:20:05.399Z"
   },
   {
    "duration": 11,
    "start_time": "2022-07-02T23:20:05.427Z"
   },
   {
    "duration": 17,
    "start_time": "2022-07-02T23:20:05.442Z"
   },
   {
    "duration": 26,
    "start_time": "2022-07-02T23:20:05.460Z"
   },
   {
    "duration": 22,
    "start_time": "2022-07-02T23:20:05.488Z"
   },
   {
    "duration": 45,
    "start_time": "2022-07-02T23:20:05.511Z"
   },
   {
    "duration": 16,
    "start_time": "2022-07-02T23:20:05.558Z"
   },
   {
    "duration": 5,
    "start_time": "2022-07-02T23:20:05.576Z"
   },
   {
    "duration": 13,
    "start_time": "2022-07-02T23:20:05.582Z"
   },
   {
    "duration": 50,
    "start_time": "2022-07-02T23:20:05.597Z"
   },
   {
    "duration": 14,
    "start_time": "2022-07-02T23:20:05.650Z"
   },
   {
    "duration": 22,
    "start_time": "2022-07-02T23:20:05.666Z"
   },
   {
    "duration": 6,
    "start_time": "2022-07-02T23:20:05.689Z"
   },
   {
    "duration": 33,
    "start_time": "2022-07-02T23:20:05.697Z"
   },
   {
    "duration": 20,
    "start_time": "2022-07-02T23:20:05.732Z"
   },
   {
    "duration": 7,
    "start_time": "2022-07-02T23:20:05.754Z"
   },
   {
    "duration": 7,
    "start_time": "2022-07-02T23:20:05.763Z"
   },
   {
    "duration": 9,
    "start_time": "2022-07-02T23:20:05.771Z"
   },
   {
    "duration": 18,
    "start_time": "2022-07-02T23:20:05.782Z"
   },
   {
    "duration": 5,
    "start_time": "2022-07-02T23:20:05.801Z"
   },
   {
    "duration": 103,
    "start_time": "2022-07-02T23:20:05.809Z"
   },
   {
    "duration": 3,
    "start_time": "2022-07-02T23:20:05.914Z"
   },
   {
    "duration": 54,
    "start_time": "2022-07-02T23:20:05.928Z"
   },
   {
    "duration": 104,
    "start_time": "2022-07-02T23:20:05.984Z"
   },
   {
    "duration": 10,
    "start_time": "2022-07-02T23:20:06.089Z"
   },
   {
    "duration": 63,
    "start_time": "2022-07-02T23:20:06.100Z"
   },
   {
    "duration": 14,
    "start_time": "2022-07-02T23:20:06.165Z"
   },
   {
    "duration": 74,
    "start_time": "2022-07-02T23:20:06.181Z"
   },
   {
    "duration": 11,
    "start_time": "2022-07-02T23:20:06.256Z"
   },
   {
    "duration": 20,
    "start_time": "2022-07-02T23:20:06.269Z"
   },
   {
    "duration": 82,
    "start_time": "2022-07-02T23:20:06.291Z"
   },
   {
    "duration": 5,
    "start_time": "2022-07-02T23:20:06.375Z"
   },
   {
    "duration": 16,
    "start_time": "2022-07-02T23:20:06.382Z"
   },
   {
    "duration": 29,
    "start_time": "2022-07-02T23:20:06.400Z"
   },
   {
    "duration": 17,
    "start_time": "2022-07-02T23:20:06.432Z"
   },
   {
    "duration": 34,
    "start_time": "2022-07-02T23:20:06.451Z"
   },
   {
    "duration": 17,
    "start_time": "2022-07-02T23:20:06.486Z"
   },
   {
    "duration": 6,
    "start_time": "2022-07-02T23:20:06.505Z"
   },
   {
    "duration": 9435,
    "start_time": "2022-07-02T23:20:06.513Z"
   },
   {
    "duration": 4,
    "start_time": "2022-07-02T23:20:15.951Z"
   },
   {
    "duration": 7,
    "start_time": "2022-07-02T23:20:15.956Z"
   },
   {
    "duration": 76,
    "start_time": "2022-07-02T23:20:15.965Z"
   },
   {
    "duration": 0,
    "start_time": "2022-07-02T23:20:16.044Z"
   },
   {
    "duration": 0,
    "start_time": "2022-07-02T23:20:16.046Z"
   },
   {
    "duration": 0,
    "start_time": "2022-07-02T23:20:16.047Z"
   },
   {
    "duration": 0,
    "start_time": "2022-07-02T23:20:16.049Z"
   },
   {
    "duration": 0,
    "start_time": "2022-07-02T23:20:16.051Z"
   },
   {
    "duration": 0,
    "start_time": "2022-07-02T23:20:16.053Z"
   },
   {
    "duration": 0,
    "start_time": "2022-07-02T23:20:16.054Z"
   },
   {
    "duration": 0,
    "start_time": "2022-07-02T23:20:16.055Z"
   },
   {
    "duration": 0,
    "start_time": "2022-07-02T23:20:16.056Z"
   },
   {
    "duration": 0,
    "start_time": "2022-07-02T23:20:16.058Z"
   },
   {
    "duration": 0,
    "start_time": "2022-07-02T23:20:16.058Z"
   },
   {
    "duration": 6,
    "start_time": "2022-07-02T23:21:12.678Z"
   },
   {
    "duration": 9,
    "start_time": "2022-07-02T23:21:21.415Z"
   },
   {
    "duration": 6,
    "start_time": "2022-07-02T23:21:25.398Z"
   },
   {
    "duration": 5,
    "start_time": "2022-07-02T23:21:31.989Z"
   },
   {
    "duration": 6,
    "start_time": "2022-07-02T23:23:33.366Z"
   },
   {
    "duration": 402,
    "start_time": "2022-07-02T23:23:33.374Z"
   },
   {
    "duration": 7,
    "start_time": "2022-07-02T23:23:33.778Z"
   },
   {
    "duration": 28,
    "start_time": "2022-07-02T23:23:33.787Z"
   },
   {
    "duration": 8,
    "start_time": "2022-07-02T23:23:33.816Z"
   },
   {
    "duration": 43,
    "start_time": "2022-07-02T23:23:33.825Z"
   },
   {
    "duration": 7,
    "start_time": "2022-07-02T23:23:33.870Z"
   },
   {
    "duration": 25,
    "start_time": "2022-07-02T23:23:33.879Z"
   },
   {
    "duration": 24,
    "start_time": "2022-07-02T23:23:33.905Z"
   },
   {
    "duration": 14,
    "start_time": "2022-07-02T23:23:33.934Z"
   },
   {
    "duration": 9,
    "start_time": "2022-07-02T23:23:33.950Z"
   },
   {
    "duration": 15,
    "start_time": "2022-07-02T23:23:33.961Z"
   },
   {
    "duration": 72,
    "start_time": "2022-07-02T23:23:33.977Z"
   },
   {
    "duration": 16,
    "start_time": "2022-07-02T23:23:34.051Z"
   },
   {
    "duration": 5,
    "start_time": "2022-07-02T23:23:34.068Z"
   },
   {
    "duration": 6,
    "start_time": "2022-07-02T23:23:34.074Z"
   },
   {
    "duration": 45,
    "start_time": "2022-07-02T23:23:34.082Z"
   },
   {
    "duration": 19,
    "start_time": "2022-07-02T23:23:34.130Z"
   },
   {
    "duration": 22,
    "start_time": "2022-07-02T23:23:34.151Z"
   },
   {
    "duration": 4,
    "start_time": "2022-07-02T23:23:34.175Z"
   },
   {
    "duration": 9,
    "start_time": "2022-07-02T23:23:34.181Z"
   },
   {
    "duration": 37,
    "start_time": "2022-07-02T23:23:34.191Z"
   },
   {
    "duration": 12,
    "start_time": "2022-07-02T23:23:34.231Z"
   },
   {
    "duration": 7,
    "start_time": "2022-07-02T23:23:34.246Z"
   },
   {
    "duration": 5,
    "start_time": "2022-07-02T23:23:34.255Z"
   },
   {
    "duration": 15,
    "start_time": "2022-07-02T23:23:34.261Z"
   },
   {
    "duration": 3,
    "start_time": "2022-07-02T23:23:34.278Z"
   },
   {
    "duration": 103,
    "start_time": "2022-07-02T23:23:34.284Z"
   },
   {
    "duration": 2,
    "start_time": "2022-07-02T23:23:34.389Z"
   },
   {
    "duration": 57,
    "start_time": "2022-07-02T23:23:34.393Z"
   },
   {
    "duration": 107,
    "start_time": "2022-07-02T23:23:34.452Z"
   },
   {
    "duration": 10,
    "start_time": "2022-07-02T23:23:34.561Z"
   },
   {
    "duration": 41,
    "start_time": "2022-07-02T23:23:34.573Z"
   },
   {
    "duration": 12,
    "start_time": "2022-07-02T23:23:34.615Z"
   },
   {
    "duration": 57,
    "start_time": "2022-07-02T23:23:34.630Z"
   },
   {
    "duration": 9,
    "start_time": "2022-07-02T23:23:34.689Z"
   },
   {
    "duration": 12,
    "start_time": "2022-07-02T23:23:34.699Z"
   },
   {
    "duration": 67,
    "start_time": "2022-07-02T23:23:34.713Z"
   },
   {
    "duration": 5,
    "start_time": "2022-07-02T23:23:34.782Z"
   },
   {
    "duration": 14,
    "start_time": "2022-07-02T23:23:34.788Z"
   },
   {
    "duration": 20,
    "start_time": "2022-07-02T23:23:34.804Z"
   },
   {
    "duration": 11,
    "start_time": "2022-07-02T23:23:34.826Z"
   },
   {
    "duration": 47,
    "start_time": "2022-07-02T23:23:34.841Z"
   },
   {
    "duration": 16,
    "start_time": "2022-07-02T23:23:34.890Z"
   },
   {
    "duration": 6,
    "start_time": "2022-07-02T23:23:34.907Z"
   },
   {
    "duration": 10405,
    "start_time": "2022-07-02T23:23:34.914Z"
   },
   {
    "duration": 3,
    "start_time": "2022-07-02T23:23:45.320Z"
   },
   {
    "duration": 28,
    "start_time": "2022-07-02T23:23:45.325Z"
   },
   {
    "duration": 30,
    "start_time": "2022-07-02T23:23:45.355Z"
   },
   {
    "duration": 28,
    "start_time": "2022-07-02T23:23:45.387Z"
   },
   {
    "duration": 288,
    "start_time": "2022-07-02T23:23:45.417Z"
   },
   {
    "duration": 372,
    "start_time": "2022-07-02T23:23:45.706Z"
   },
   {
    "duration": 345,
    "start_time": "2022-07-02T23:23:46.081Z"
   },
   {
    "duration": 322,
    "start_time": "2022-07-02T23:23:46.429Z"
   },
   {
    "duration": 266,
    "start_time": "2022-07-02T23:23:46.753Z"
   },
   {
    "duration": 276,
    "start_time": "2022-07-02T23:23:47.020Z"
   },
   {
    "duration": 298,
    "start_time": "2022-07-02T23:23:47.298Z"
   },
   {
    "duration": 8,
    "start_time": "2022-07-02T23:23:47.598Z"
   },
   {
    "duration": 27,
    "start_time": "2022-07-02T23:23:47.608Z"
   },
   {
    "duration": 14,
    "start_time": "2022-07-02T23:23:47.637Z"
   },
   {
    "duration": 4,
    "start_time": "2022-07-02T23:34:05.868Z"
   },
   {
    "duration": 5,
    "start_time": "2022-07-02T23:34:17.682Z"
   },
   {
    "duration": 413,
    "start_time": "2022-07-02T23:34:17.689Z"
   },
   {
    "duration": 9,
    "start_time": "2022-07-02T23:34:18.103Z"
   },
   {
    "duration": 38,
    "start_time": "2022-07-02T23:34:18.114Z"
   },
   {
    "duration": 8,
    "start_time": "2022-07-02T23:34:18.153Z"
   },
   {
    "duration": 23,
    "start_time": "2022-07-02T23:34:18.163Z"
   },
   {
    "duration": 10,
    "start_time": "2022-07-02T23:34:18.188Z"
   },
   {
    "duration": 51,
    "start_time": "2022-07-02T23:34:18.200Z"
   },
   {
    "duration": 8,
    "start_time": "2022-07-02T23:34:18.253Z"
   },
   {
    "duration": 117,
    "start_time": "2022-07-02T23:34:18.263Z"
   },
   {
    "duration": 15,
    "start_time": "2022-07-02T23:34:18.381Z"
   },
   {
    "duration": 11,
    "start_time": "2022-07-02T23:34:18.398Z"
   },
   {
    "duration": 40,
    "start_time": "2022-07-02T23:34:18.427Z"
   },
   {
    "duration": 14,
    "start_time": "2022-07-02T23:34:18.469Z"
   },
   {
    "duration": 4,
    "start_time": "2022-07-02T23:34:18.485Z"
   },
   {
    "duration": 8,
    "start_time": "2022-07-02T23:34:18.490Z"
   },
   {
    "duration": 58,
    "start_time": "2022-07-02T23:34:18.499Z"
   },
   {
    "duration": 12,
    "start_time": "2022-07-02T23:34:18.559Z"
   },
   {
    "duration": 19,
    "start_time": "2022-07-02T23:34:18.573Z"
   },
   {
    "duration": 4,
    "start_time": "2022-07-02T23:34:18.594Z"
   },
   {
    "duration": 34,
    "start_time": "2022-07-02T23:34:18.599Z"
   },
   {
    "duration": 17,
    "start_time": "2022-07-02T23:34:18.636Z"
   },
   {
    "duration": 5,
    "start_time": "2022-07-02T23:34:18.655Z"
   },
   {
    "duration": 7,
    "start_time": "2022-07-02T23:34:18.662Z"
   },
   {
    "duration": 14,
    "start_time": "2022-07-02T23:34:18.671Z"
   },
   {
    "duration": 15,
    "start_time": "2022-07-02T23:34:18.686Z"
   },
   {
    "duration": 4,
    "start_time": "2022-07-02T23:34:18.703Z"
   },
   {
    "duration": 103,
    "start_time": "2022-07-02T23:34:18.710Z"
   },
   {
    "duration": 3,
    "start_time": "2022-07-02T23:34:18.814Z"
   },
   {
    "duration": 57,
    "start_time": "2022-07-02T23:34:18.827Z"
   },
   {
    "duration": 120,
    "start_time": "2022-07-02T23:34:18.886Z"
   },
   {
    "duration": 10,
    "start_time": "2022-07-02T23:34:19.008Z"
   },
   {
    "duration": 42,
    "start_time": "2022-07-02T23:34:19.028Z"
   },
   {
    "duration": 11,
    "start_time": "2022-07-02T23:34:19.072Z"
   },
   {
    "duration": 76,
    "start_time": "2022-07-02T23:34:19.085Z"
   },
   {
    "duration": 10,
    "start_time": "2022-07-02T23:34:19.162Z"
   },
   {
    "duration": 10,
    "start_time": "2022-07-02T23:34:19.173Z"
   },
   {
    "duration": 82,
    "start_time": "2022-07-02T23:34:19.184Z"
   },
   {
    "duration": 5,
    "start_time": "2022-07-02T23:34:19.269Z"
   },
   {
    "duration": 8,
    "start_time": "2022-07-02T23:34:19.276Z"
   },
   {
    "duration": 16,
    "start_time": "2022-07-02T23:34:19.286Z"
   },
   {
    "duration": 5,
    "start_time": "2022-07-02T23:34:22.883Z"
   },
   {
    "duration": 30,
    "start_time": "2022-07-02T23:36:44.084Z"
   },
   {
    "duration": 28,
    "start_time": "2022-07-02T23:37:12.547Z"
   },
   {
    "duration": 28,
    "start_time": "2022-07-02T23:37:34.741Z"
   },
   {
    "duration": 93,
    "start_time": "2022-07-02T23:38:14.016Z"
   },
   {
    "duration": 863,
    "start_time": "2022-07-02T23:38:21.466Z"
   },
   {
    "duration": 10,
    "start_time": "2022-07-02T23:38:32.809Z"
   },
   {
    "duration": 31,
    "start_time": "2022-07-02T23:39:05.955Z"
   },
   {
    "duration": 19,
    "start_time": "2022-07-02T23:39:08.003Z"
   },
   {
    "duration": 18,
    "start_time": "2022-07-02T23:40:37.211Z"
   },
   {
    "duration": 46,
    "start_time": "2022-07-02T23:41:26.754Z"
   },
   {
    "duration": 6,
    "start_time": "2022-07-02T23:41:35.308Z"
   },
   {
    "duration": 437,
    "start_time": "2022-07-02T23:41:35.316Z"
   },
   {
    "duration": 8,
    "start_time": "2022-07-02T23:41:35.755Z"
   },
   {
    "duration": 29,
    "start_time": "2022-07-02T23:41:35.765Z"
   },
   {
    "duration": 9,
    "start_time": "2022-07-02T23:41:35.796Z"
   },
   {
    "duration": 41,
    "start_time": "2022-07-02T23:41:35.808Z"
   },
   {
    "duration": 8,
    "start_time": "2022-07-02T23:41:35.851Z"
   },
   {
    "duration": 21,
    "start_time": "2022-07-02T23:41:35.861Z"
   },
   {
    "duration": 8,
    "start_time": "2022-07-02T23:41:35.884Z"
   },
   {
    "duration": 12,
    "start_time": "2022-07-02T23:41:35.896Z"
   },
   {
    "duration": 30,
    "start_time": "2022-07-02T23:41:35.926Z"
   },
   {
    "duration": 15,
    "start_time": "2022-07-02T23:41:35.957Z"
   },
   {
    "duration": 37,
    "start_time": "2022-07-02T23:41:35.974Z"
   },
   {
    "duration": 19,
    "start_time": "2022-07-02T23:41:36.013Z"
   },
   {
    "duration": 5,
    "start_time": "2022-07-02T23:41:36.034Z"
   },
   {
    "duration": 17,
    "start_time": "2022-07-02T23:41:36.041Z"
   },
   {
    "duration": 23,
    "start_time": "2022-07-02T23:41:36.060Z"
   },
   {
    "duration": 14,
    "start_time": "2022-07-02T23:41:36.085Z"
   },
   {
    "duration": 48,
    "start_time": "2022-07-02T23:41:36.101Z"
   },
   {
    "duration": 5,
    "start_time": "2022-07-02T23:41:36.151Z"
   },
   {
    "duration": 8,
    "start_time": "2022-07-02T23:41:36.158Z"
   },
   {
    "duration": 16,
    "start_time": "2022-07-02T23:41:36.168Z"
   },
   {
    "duration": 14,
    "start_time": "2022-07-02T23:41:36.186Z"
   },
   {
    "duration": 12,
    "start_time": "2022-07-02T23:41:36.202Z"
   },
   {
    "duration": 30,
    "start_time": "2022-07-02T23:41:36.217Z"
   },
   {
    "duration": 23,
    "start_time": "2022-07-02T23:41:36.250Z"
   },
   {
    "duration": 14,
    "start_time": "2022-07-02T23:41:36.275Z"
   },
   {
    "duration": 154,
    "start_time": "2022-07-02T23:41:36.294Z"
   },
   {
    "duration": 5,
    "start_time": "2022-07-02T23:41:36.450Z"
   },
   {
    "duration": 67,
    "start_time": "2022-07-02T23:41:36.457Z"
   },
   {
    "duration": 89,
    "start_time": "2022-07-02T23:41:36.525Z"
   },
   {
    "duration": 30,
    "start_time": "2022-07-02T23:41:36.616Z"
   },
   {
    "duration": 40,
    "start_time": "2022-07-02T23:41:36.648Z"
   },
   {
    "duration": 9,
    "start_time": "2022-07-02T23:41:36.690Z"
   },
   {
    "duration": 73,
    "start_time": "2022-07-02T23:41:36.701Z"
   },
   {
    "duration": 10,
    "start_time": "2022-07-02T23:41:36.776Z"
   },
   {
    "duration": 11,
    "start_time": "2022-07-02T23:41:36.787Z"
   },
   {
    "duration": 72,
    "start_time": "2022-07-02T23:41:36.800Z"
   },
   {
    "duration": 4,
    "start_time": "2022-07-02T23:41:36.874Z"
   },
   {
    "duration": 8,
    "start_time": "2022-07-02T23:41:36.880Z"
   },
   {
    "duration": 13,
    "start_time": "2022-07-02T23:41:36.890Z"
   },
   {
    "duration": 28,
    "start_time": "2022-07-02T23:41:36.904Z"
   },
   {
    "duration": 30,
    "start_time": "2022-07-02T23:41:41.259Z"
   },
   {
    "duration": 24,
    "start_time": "2022-07-02T23:41:45.578Z"
   },
   {
    "duration": 5,
    "start_time": "2022-07-02T23:49:28.752Z"
   },
   {
    "duration": 56,
    "start_time": "2022-07-02T23:51:35.169Z"
   },
   {
    "duration": 6,
    "start_time": "2022-07-02T23:51:42.856Z"
   },
   {
    "duration": 442,
    "start_time": "2022-07-02T23:51:42.864Z"
   },
   {
    "duration": 9,
    "start_time": "2022-07-02T23:51:43.308Z"
   },
   {
    "duration": 42,
    "start_time": "2022-07-02T23:51:43.319Z"
   },
   {
    "duration": 9,
    "start_time": "2022-07-02T23:51:43.363Z"
   },
   {
    "duration": 24,
    "start_time": "2022-07-02T23:51:43.373Z"
   },
   {
    "duration": 8,
    "start_time": "2022-07-02T23:51:43.399Z"
   },
   {
    "duration": 44,
    "start_time": "2022-07-02T23:51:43.409Z"
   },
   {
    "duration": 8,
    "start_time": "2022-07-02T23:51:43.455Z"
   },
   {
    "duration": 21,
    "start_time": "2022-07-02T23:51:43.465Z"
   },
   {
    "duration": 12,
    "start_time": "2022-07-02T23:51:43.487Z"
   },
   {
    "duration": 27,
    "start_time": "2022-07-02T23:51:43.500Z"
   },
   {
    "duration": 54,
    "start_time": "2022-07-02T23:51:43.530Z"
   },
   {
    "duration": 14,
    "start_time": "2022-07-02T23:51:43.587Z"
   },
   {
    "duration": 4,
    "start_time": "2022-07-02T23:51:43.602Z"
   },
   {
    "duration": 7,
    "start_time": "2022-07-02T23:51:43.629Z"
   },
   {
    "duration": 31,
    "start_time": "2022-07-02T23:51:43.639Z"
   },
   {
    "duration": 13,
    "start_time": "2022-07-02T23:51:43.671Z"
   },
   {
    "duration": 19,
    "start_time": "2022-07-02T23:51:43.686Z"
   },
   {
    "duration": 23,
    "start_time": "2022-07-02T23:51:43.707Z"
   },
   {
    "duration": 21,
    "start_time": "2022-07-02T23:51:43.732Z"
   },
   {
    "duration": 7,
    "start_time": "2022-07-02T23:51:43.755Z"
   },
   {
    "duration": 6,
    "start_time": "2022-07-02T23:51:43.763Z"
   },
   {
    "duration": 5,
    "start_time": "2022-07-02T23:51:43.771Z"
   },
   {
    "duration": 5,
    "start_time": "2022-07-02T23:51:43.778Z"
   },
   {
    "duration": 15,
    "start_time": "2022-07-02T23:51:43.784Z"
   },
   {
    "duration": 7,
    "start_time": "2022-07-02T23:51:43.802Z"
   },
   {
    "duration": 136,
    "start_time": "2022-07-02T23:51:43.811Z"
   },
   {
    "duration": 3,
    "start_time": "2022-07-02T23:51:43.950Z"
   },
   {
    "duration": 64,
    "start_time": "2022-07-02T23:51:43.955Z"
   },
   {
    "duration": 122,
    "start_time": "2022-07-02T23:51:44.021Z"
   },
   {
    "duration": 9,
    "start_time": "2022-07-02T23:51:44.145Z"
   },
   {
    "duration": 44,
    "start_time": "2022-07-02T23:51:44.156Z"
   },
   {
    "duration": 33,
    "start_time": "2022-07-02T23:51:44.202Z"
   },
   {
    "duration": 55,
    "start_time": "2022-07-02T23:51:44.236Z"
   },
   {
    "duration": 9,
    "start_time": "2022-07-02T23:51:44.293Z"
   },
   {
    "duration": 29,
    "start_time": "2022-07-02T23:51:44.304Z"
   },
   {
    "duration": 59,
    "start_time": "2022-07-02T23:51:47.393Z"
   },
   {
    "duration": 5,
    "start_time": "2022-07-02T23:52:04.408Z"
   },
   {
    "duration": 5,
    "start_time": "2022-07-02T23:52:06.843Z"
   },
   {
    "duration": 13,
    "start_time": "2022-07-02T23:52:22.488Z"
   },
   {
    "duration": 4,
    "start_time": "2022-07-02T23:52:37.841Z"
   },
   {
    "duration": 63,
    "start_time": "2022-07-02T23:53:17.897Z"
   },
   {
    "duration": 5,
    "start_time": "2022-07-02T23:53:31.403Z"
   },
   {
    "duration": 448,
    "start_time": "2022-07-02T23:53:31.410Z"
   },
   {
    "duration": 8,
    "start_time": "2022-07-02T23:53:31.860Z"
   },
   {
    "duration": 40,
    "start_time": "2022-07-02T23:53:31.870Z"
   },
   {
    "duration": 36,
    "start_time": "2022-07-02T23:53:31.912Z"
   },
   {
    "duration": 33,
    "start_time": "2022-07-02T23:53:31.950Z"
   },
   {
    "duration": 8,
    "start_time": "2022-07-02T23:53:31.985Z"
   },
   {
    "duration": 57,
    "start_time": "2022-07-02T23:53:31.995Z"
   },
   {
    "duration": 9,
    "start_time": "2022-07-02T23:53:32.054Z"
   },
   {
    "duration": 28,
    "start_time": "2022-07-02T23:53:32.065Z"
   },
   {
    "duration": 22,
    "start_time": "2022-07-02T23:53:32.095Z"
   },
   {
    "duration": 31,
    "start_time": "2022-07-02T23:53:32.119Z"
   },
   {
    "duration": 55,
    "start_time": "2022-07-02T23:53:32.152Z"
   },
   {
    "duration": 47,
    "start_time": "2022-07-02T23:53:32.208Z"
   },
   {
    "duration": 8,
    "start_time": "2022-07-02T23:53:32.256Z"
   },
   {
    "duration": 26,
    "start_time": "2022-07-02T23:53:32.265Z"
   },
   {
    "duration": 48,
    "start_time": "2022-07-02T23:53:32.292Z"
   },
   {
    "duration": 19,
    "start_time": "2022-07-02T23:53:32.341Z"
   },
   {
    "duration": 23,
    "start_time": "2022-07-02T23:53:32.361Z"
   },
   {
    "duration": 19,
    "start_time": "2022-07-02T23:53:32.385Z"
   },
   {
    "duration": 18,
    "start_time": "2022-07-02T23:53:32.406Z"
   },
   {
    "duration": 26,
    "start_time": "2022-07-02T23:53:32.425Z"
   },
   {
    "duration": 13,
    "start_time": "2022-07-02T23:53:32.453Z"
   },
   {
    "duration": 28,
    "start_time": "2022-07-02T23:53:32.467Z"
   },
   {
    "duration": 62,
    "start_time": "2022-07-02T23:53:32.497Z"
   },
   {
    "duration": 40,
    "start_time": "2022-07-02T23:53:32.561Z"
   },
   {
    "duration": 41,
    "start_time": "2022-07-02T23:53:32.603Z"
   },
   {
    "duration": 128,
    "start_time": "2022-07-02T23:53:32.647Z"
   },
   {
    "duration": 3,
    "start_time": "2022-07-02T23:53:32.776Z"
   },
   {
    "duration": 72,
    "start_time": "2022-07-02T23:53:32.781Z"
   },
   {
    "duration": 96,
    "start_time": "2022-07-02T23:53:32.854Z"
   },
   {
    "duration": 10,
    "start_time": "2022-07-02T23:53:32.952Z"
   },
   {
    "duration": 67,
    "start_time": "2022-07-02T23:53:32.963Z"
   },
   {
    "duration": 13,
    "start_time": "2022-07-02T23:53:33.032Z"
   },
   {
    "duration": 64,
    "start_time": "2022-07-02T23:53:33.047Z"
   },
   {
    "duration": 9,
    "start_time": "2022-07-02T23:53:33.113Z"
   },
   {
    "duration": 40,
    "start_time": "2022-07-02T23:53:33.127Z"
   },
   {
    "duration": 50,
    "start_time": "2022-07-02T23:53:42.352Z"
   },
   {
    "duration": 59,
    "start_time": "2022-07-02T23:54:04.472Z"
   },
   {
    "duration": 4,
    "start_time": "2022-07-02T23:54:22.154Z"
   },
   {
    "duration": 12,
    "start_time": "2022-07-02T23:54:26.104Z"
   },
   {
    "duration": 5,
    "start_time": "2022-07-02T23:54:30.673Z"
   },
   {
    "duration": 61,
    "start_time": "2022-07-02T23:55:03.082Z"
   },
   {
    "duration": 51,
    "start_time": "2022-07-02T23:55:16.744Z"
   },
   {
    "duration": 54,
    "start_time": "2022-07-02T23:55:22.825Z"
   },
   {
    "duration": 50,
    "start_time": "2022-07-02T23:55:29.122Z"
   },
   {
    "duration": 55,
    "start_time": "2022-07-02T23:55:34.987Z"
   },
   {
    "duration": 45,
    "start_time": "2022-07-02T23:56:58.993Z"
   },
   {
    "duration": 5,
    "start_time": "2022-07-02T23:57:08.311Z"
   },
   {
    "duration": 5,
    "start_time": "2022-07-02T23:57:10.286Z"
   },
   {
    "duration": 13,
    "start_time": "2022-07-02T23:57:13.815Z"
   },
   {
    "duration": 5,
    "start_time": "2022-07-02T23:57:20.696Z"
   },
   {
    "duration": 46,
    "start_time": "2022-07-02T23:58:31.162Z"
   },
   {
    "duration": 37,
    "start_time": "2022-07-02T23:58:41.753Z"
   },
   {
    "duration": 49,
    "start_time": "2022-07-02T23:58:49.407Z"
   },
   {
    "duration": 8,
    "start_time": "2022-07-02T23:58:56.279Z"
   },
   {
    "duration": 4,
    "start_time": "2022-07-02T23:58:58.719Z"
   },
   {
    "duration": 13,
    "start_time": "2022-07-02T23:59:01.599Z"
   },
   {
    "duration": 4,
    "start_time": "2022-07-02T23:59:03.854Z"
   },
   {
    "duration": 41,
    "start_time": "2022-07-03T00:00:01.985Z"
   },
   {
    "duration": 5,
    "start_time": "2022-07-03T00:00:11.552Z"
   },
   {
    "duration": 4,
    "start_time": "2022-07-03T00:00:13.782Z"
   },
   {
    "duration": 13,
    "start_time": "2022-07-03T00:00:17.439Z"
   },
   {
    "duration": 5,
    "start_time": "2022-07-03T00:00:20.241Z"
   },
   {
    "duration": 45,
    "start_time": "2022-07-03T00:03:50.539Z"
   },
   {
    "duration": 46,
    "start_time": "2022-07-03T00:04:38.324Z"
   },
   {
    "duration": 80,
    "start_time": "2022-07-03T00:05:01.378Z"
   },
   {
    "duration": 48,
    "start_time": "2022-07-03T00:05:26.610Z"
   },
   {
    "duration": 45,
    "start_time": "2022-07-03T00:05:40.951Z"
   },
   {
    "duration": 57,
    "start_time": "2022-07-03T00:05:52.675Z"
   },
   {
    "duration": 5,
    "start_time": "2022-07-03T00:05:58.298Z"
   },
   {
    "duration": 4,
    "start_time": "2022-07-03T00:06:00.237Z"
   },
   {
    "duration": 12,
    "start_time": "2022-07-03T00:06:02.981Z"
   },
   {
    "duration": 4,
    "start_time": "2022-07-03T00:06:10.156Z"
   },
   {
    "duration": 40,
    "start_time": "2022-07-03T00:09:07.250Z"
   },
   {
    "duration": 30,
    "start_time": "2022-07-03T00:09:15.520Z"
   },
   {
    "duration": 32,
    "start_time": "2022-07-03T00:09:29.994Z"
   },
   {
    "duration": 24,
    "start_time": "2022-07-03T00:09:35.919Z"
   },
   {
    "duration": 33,
    "start_time": "2022-07-03T00:10:16.865Z"
   },
   {
    "duration": 38,
    "start_time": "2022-07-03T00:10:46.868Z"
   },
   {
    "duration": 6,
    "start_time": "2022-07-03T00:11:13.899Z"
   },
   {
    "duration": 4,
    "start_time": "2022-07-03T00:11:15.931Z"
   },
   {
    "duration": 40,
    "start_time": "2022-07-03T00:13:15.982Z"
   },
   {
    "duration": 40,
    "start_time": "2022-07-03T00:13:24.302Z"
   },
   {
    "duration": 5,
    "start_time": "2022-07-03T00:13:29.843Z"
   },
   {
    "duration": 4,
    "start_time": "2022-07-03T00:13:31.685Z"
   },
   {
    "duration": 11,
    "start_time": "2022-07-03T00:13:35.043Z"
   },
   {
    "duration": 4,
    "start_time": "2022-07-03T00:13:38.023Z"
   },
   {
    "duration": 35,
    "start_time": "2022-07-03T00:15:05.749Z"
   },
   {
    "duration": 5,
    "start_time": "2022-07-03T00:15:09.389Z"
   },
   {
    "duration": 4,
    "start_time": "2022-07-03T00:15:11.861Z"
   },
   {
    "duration": 34,
    "start_time": "2022-07-03T00:15:22.088Z"
   },
   {
    "duration": 5,
    "start_time": "2022-07-03T00:15:26.181Z"
   },
   {
    "duration": 4,
    "start_time": "2022-07-03T00:15:27.886Z"
   },
   {
    "duration": 5,
    "start_time": "2022-07-03T00:15:59.581Z"
   },
   {
    "duration": 28,
    "start_time": "2022-07-03T00:22:21.761Z"
   },
   {
    "duration": 27,
    "start_time": "2022-07-03T00:22:39.499Z"
   },
   {
    "duration": 25,
    "start_time": "2022-07-03T00:22:50.787Z"
   },
   {
    "duration": 730,
    "start_time": "2022-07-03T00:25:35.554Z"
   },
   {
    "duration": 727,
    "start_time": "2022-07-03T00:25:56.163Z"
   },
   {
    "duration": 29,
    "start_time": "2022-07-03T00:26:07.912Z"
   },
   {
    "duration": 910,
    "start_time": "2022-07-03T00:26:09.971Z"
   },
   {
    "duration": 4,
    "start_time": "2022-07-03T00:26:52.939Z"
   },
   {
    "duration": 16,
    "start_time": "2022-07-03T00:27:03.154Z"
   },
   {
    "duration": 4,
    "start_time": "2022-07-03T00:31:27.292Z"
   },
   {
    "duration": 8,
    "start_time": "2022-07-03T00:33:35.037Z"
   },
   {
    "duration": 6,
    "start_time": "2022-07-03T00:33:42.110Z"
   },
   {
    "duration": 375,
    "start_time": "2022-07-03T00:33:42.118Z"
   },
   {
    "duration": 9,
    "start_time": "2022-07-03T00:33:42.495Z"
   },
   {
    "duration": 25,
    "start_time": "2022-07-03T00:33:42.506Z"
   },
   {
    "duration": 8,
    "start_time": "2022-07-03T00:33:42.534Z"
   },
   {
    "duration": 21,
    "start_time": "2022-07-03T00:33:42.544Z"
   },
   {
    "duration": 7,
    "start_time": "2022-07-03T00:33:42.567Z"
   },
   {
    "duration": 20,
    "start_time": "2022-07-03T00:33:42.576Z"
   },
   {
    "duration": 31,
    "start_time": "2022-07-03T00:33:42.597Z"
   },
   {
    "duration": 12,
    "start_time": "2022-07-03T00:33:42.629Z"
   },
   {
    "duration": 10,
    "start_time": "2022-07-03T00:33:42.643Z"
   },
   {
    "duration": 13,
    "start_time": "2022-07-03T00:33:42.655Z"
   },
   {
    "duration": 30,
    "start_time": "2022-07-03T00:33:42.669Z"
   },
   {
    "duration": 37,
    "start_time": "2022-07-03T00:33:42.701Z"
   },
   {
    "duration": 4,
    "start_time": "2022-07-03T00:33:42.739Z"
   },
   {
    "duration": 8,
    "start_time": "2022-07-03T00:33:42.744Z"
   },
   {
    "duration": 23,
    "start_time": "2022-07-03T00:33:42.753Z"
   },
   {
    "duration": 14,
    "start_time": "2022-07-03T00:33:42.777Z"
   },
   {
    "duration": 45,
    "start_time": "2022-07-03T00:33:42.792Z"
   },
   {
    "duration": 4,
    "start_time": "2022-07-03T00:33:42.839Z"
   },
   {
    "duration": 7,
    "start_time": "2022-07-03T00:33:42.845Z"
   },
   {
    "duration": 6,
    "start_time": "2022-07-03T00:33:42.854Z"
   },
   {
    "duration": 7,
    "start_time": "2022-07-03T00:33:42.861Z"
   },
   {
    "duration": 6,
    "start_time": "2022-07-03T00:33:42.869Z"
   },
   {
    "duration": 6,
    "start_time": "2022-07-03T00:33:42.876Z"
   },
   {
    "duration": 21,
    "start_time": "2022-07-03T00:33:42.883Z"
   },
   {
    "duration": 2,
    "start_time": "2022-07-03T00:33:42.927Z"
   },
   {
    "duration": 97,
    "start_time": "2022-07-03T00:33:42.931Z"
   },
   {
    "duration": 2,
    "start_time": "2022-07-03T00:33:43.030Z"
   },
   {
    "duration": 50,
    "start_time": "2022-07-03T00:33:43.034Z"
   },
   {
    "duration": 100,
    "start_time": "2022-07-03T00:33:43.086Z"
   },
   {
    "duration": 9,
    "start_time": "2022-07-03T00:33:43.188Z"
   },
   {
    "duration": 51,
    "start_time": "2022-07-03T00:33:43.199Z"
   },
   {
    "duration": 11,
    "start_time": "2022-07-03T00:33:43.252Z"
   },
   {
    "duration": 50,
    "start_time": "2022-07-03T00:33:43.264Z"
   },
   {
    "duration": 18,
    "start_time": "2022-07-03T00:33:43.316Z"
   },
   {
    "duration": 16,
    "start_time": "2022-07-03T00:33:43.335Z"
   },
   {
    "duration": 34,
    "start_time": "2022-07-03T00:33:43.353Z"
   },
   {
    "duration": 4,
    "start_time": "2022-07-03T00:33:43.388Z"
   },
   {
    "duration": 5,
    "start_time": "2022-07-03T00:33:43.394Z"
   },
   {
    "duration": 32,
    "start_time": "2022-07-03T00:33:43.402Z"
   },
   {
    "duration": 28,
    "start_time": "2022-07-03T00:33:43.436Z"
   },
   {
    "duration": 18,
    "start_time": "2022-07-03T00:33:44.691Z"
   },
   {
    "duration": 5,
    "start_time": "2022-07-03T00:34:57.352Z"
   },
   {
    "duration": 363,
    "start_time": "2022-07-03T00:34:57.359Z"
   },
   {
    "duration": 8,
    "start_time": "2022-07-03T00:34:57.723Z"
   },
   {
    "duration": 26,
    "start_time": "2022-07-03T00:34:57.733Z"
   },
   {
    "duration": 8,
    "start_time": "2022-07-03T00:34:57.761Z"
   },
   {
    "duration": 23,
    "start_time": "2022-07-03T00:34:57.770Z"
   },
   {
    "duration": 7,
    "start_time": "2022-07-03T00:34:57.795Z"
   },
   {
    "duration": 40,
    "start_time": "2022-07-03T00:34:57.804Z"
   },
   {
    "duration": 8,
    "start_time": "2022-07-03T00:34:57.846Z"
   },
   {
    "duration": 11,
    "start_time": "2022-07-03T00:34:57.855Z"
   },
   {
    "duration": 12,
    "start_time": "2022-07-03T00:34:57.868Z"
   },
   {
    "duration": 13,
    "start_time": "2022-07-03T00:34:57.881Z"
   },
   {
    "duration": 29,
    "start_time": "2022-07-03T00:34:57.927Z"
   },
   {
    "duration": 15,
    "start_time": "2022-07-03T00:34:57.959Z"
   },
   {
    "duration": 12,
    "start_time": "2022-07-03T00:34:57.975Z"
   },
   {
    "duration": 24,
    "start_time": "2022-07-03T00:34:57.988Z"
   },
   {
    "duration": 46,
    "start_time": "2022-07-03T00:34:58.013Z"
   },
   {
    "duration": 15,
    "start_time": "2022-07-03T00:34:58.060Z"
   },
   {
    "duration": 27,
    "start_time": "2022-07-03T00:34:58.077Z"
   },
   {
    "duration": 15,
    "start_time": "2022-07-03T00:34:58.105Z"
   },
   {
    "duration": 21,
    "start_time": "2022-07-03T00:34:58.122Z"
   },
   {
    "duration": 18,
    "start_time": "2022-07-03T00:34:58.144Z"
   },
   {
    "duration": 35,
    "start_time": "2022-07-03T00:34:58.164Z"
   },
   {
    "duration": 22,
    "start_time": "2022-07-03T00:34:58.201Z"
   },
   {
    "duration": 29,
    "start_time": "2022-07-03T00:34:58.225Z"
   },
   {
    "duration": 25,
    "start_time": "2022-07-03T00:34:58.255Z"
   },
   {
    "duration": 21,
    "start_time": "2022-07-03T00:34:58.281Z"
   },
   {
    "duration": 105,
    "start_time": "2022-07-03T00:34:58.303Z"
   },
   {
    "duration": 3,
    "start_time": "2022-07-03T00:34:58.409Z"
   },
   {
    "duration": 66,
    "start_time": "2022-07-03T00:34:58.413Z"
   },
   {
    "duration": 83,
    "start_time": "2022-07-03T00:34:58.481Z"
   },
   {
    "duration": 10,
    "start_time": "2022-07-03T00:34:58.565Z"
   },
   {
    "duration": 58,
    "start_time": "2022-07-03T00:34:58.576Z"
   },
   {
    "duration": 9,
    "start_time": "2022-07-03T00:34:58.636Z"
   },
   {
    "duration": 53,
    "start_time": "2022-07-03T00:34:58.646Z"
   },
   {
    "duration": 8,
    "start_time": "2022-07-03T00:34:58.701Z"
   },
   {
    "duration": 30,
    "start_time": "2022-07-03T00:34:58.710Z"
   },
   {
    "duration": 43,
    "start_time": "2022-07-03T00:34:58.741Z"
   },
   {
    "duration": 4,
    "start_time": "2022-07-03T00:34:58.785Z"
   },
   {
    "duration": 12,
    "start_time": "2022-07-03T00:34:58.790Z"
   },
   {
    "duration": 32,
    "start_time": "2022-07-03T00:34:58.806Z"
   },
   {
    "duration": 55,
    "start_time": "2022-07-03T00:34:58.840Z"
   },
   {
    "duration": 19,
    "start_time": "2022-07-03T00:34:58.897Z"
   },
   {
    "duration": 4,
    "start_time": "2022-07-03T00:34:58.918Z"
   },
   {
    "duration": 19,
    "start_time": "2022-07-03T00:34:58.924Z"
   },
   {
    "duration": 5,
    "start_time": "2022-07-03T00:34:58.945Z"
   },
   {
    "duration": 8607,
    "start_time": "2022-07-03T00:34:58.952Z"
   },
   {
    "duration": 3,
    "start_time": "2022-07-03T00:35:07.561Z"
   },
   {
    "duration": 6,
    "start_time": "2022-07-03T00:35:07.566Z"
   },
   {
    "duration": 34,
    "start_time": "2022-07-03T00:35:07.573Z"
   },
   {
    "duration": 38,
    "start_time": "2022-07-03T00:35:07.608Z"
   },
   {
    "duration": 265,
    "start_time": "2022-07-03T00:35:07.647Z"
   },
   {
    "duration": 274,
    "start_time": "2022-07-03T00:35:07.914Z"
   },
   {
    "duration": 355,
    "start_time": "2022-07-03T00:35:08.190Z"
   },
   {
    "duration": 268,
    "start_time": "2022-07-03T00:35:08.546Z"
   },
   {
    "duration": 278,
    "start_time": "2022-07-03T00:35:08.816Z"
   },
   {
    "duration": 284,
    "start_time": "2022-07-03T00:35:09.096Z"
   },
   {
    "duration": 280,
    "start_time": "2022-07-03T00:35:09.382Z"
   },
   {
    "duration": 9,
    "start_time": "2022-07-03T00:35:09.664Z"
   },
   {
    "duration": 10,
    "start_time": "2022-07-03T00:35:09.675Z"
   },
   {
    "duration": 15,
    "start_time": "2022-07-03T00:35:09.687Z"
   },
   {
    "duration": 275,
    "start_time": "2022-07-03T00:36:56.821Z"
   },
   {
    "duration": 248,
    "start_time": "2022-07-03T00:37:06.525Z"
   },
   {
    "duration": 376,
    "start_time": "2022-07-03T00:37:10.957Z"
   },
   {
    "duration": 18,
    "start_time": "2022-07-03T00:38:23.156Z"
   },
   {
    "duration": 197,
    "start_time": "2022-07-03T00:42:53.948Z"
   },
   {
    "duration": 258,
    "start_time": "2022-07-03T00:43:17.939Z"
   },
   {
    "duration": 5,
    "start_time": "2022-07-03T00:45:27.055Z"
   },
   {
    "duration": 367,
    "start_time": "2022-07-03T00:45:27.063Z"
   },
   {
    "duration": 9,
    "start_time": "2022-07-03T00:45:27.432Z"
   },
   {
    "duration": 27,
    "start_time": "2022-07-03T00:45:27.442Z"
   },
   {
    "duration": 8,
    "start_time": "2022-07-03T00:45:27.472Z"
   },
   {
    "duration": 45,
    "start_time": "2022-07-03T00:45:27.482Z"
   },
   {
    "duration": 8,
    "start_time": "2022-07-03T00:45:27.529Z"
   },
   {
    "duration": 21,
    "start_time": "2022-07-03T00:45:27.539Z"
   },
   {
    "duration": 8,
    "start_time": "2022-07-03T00:45:27.561Z"
   },
   {
    "duration": 19,
    "start_time": "2022-07-03T00:45:27.571Z"
   },
   {
    "duration": 12,
    "start_time": "2022-07-03T00:45:27.592Z"
   },
   {
    "duration": 11,
    "start_time": "2022-07-03T00:45:27.628Z"
   },
   {
    "duration": 33,
    "start_time": "2022-07-03T00:45:27.641Z"
   },
   {
    "duration": 15,
    "start_time": "2022-07-03T00:45:27.678Z"
   },
   {
    "duration": 4,
    "start_time": "2022-07-03T00:45:27.695Z"
   },
   {
    "duration": 5,
    "start_time": "2022-07-03T00:45:27.727Z"
   },
   {
    "duration": 23,
    "start_time": "2022-07-03T00:45:27.734Z"
   },
   {
    "duration": 14,
    "start_time": "2022-07-03T00:45:27.758Z"
   },
   {
    "duration": 19,
    "start_time": "2022-07-03T00:45:27.773Z"
   },
   {
    "duration": 35,
    "start_time": "2022-07-03T00:45:27.794Z"
   },
   {
    "duration": 6,
    "start_time": "2022-07-03T00:45:27.831Z"
   },
   {
    "duration": 6,
    "start_time": "2022-07-03T00:45:27.838Z"
   },
   {
    "duration": 5,
    "start_time": "2022-07-03T00:45:27.846Z"
   },
   {
    "duration": 5,
    "start_time": "2022-07-03T00:45:27.852Z"
   },
   {
    "duration": 12,
    "start_time": "2022-07-03T00:45:27.858Z"
   },
   {
    "duration": 17,
    "start_time": "2022-07-03T00:45:27.872Z"
   },
   {
    "duration": 8,
    "start_time": "2022-07-03T00:45:27.891Z"
   },
   {
    "duration": 102,
    "start_time": "2022-07-03T00:45:27.901Z"
   },
   {
    "duration": 3,
    "start_time": "2022-07-03T00:45:28.005Z"
   },
   {
    "duration": 59,
    "start_time": "2022-07-03T00:45:28.010Z"
   },
   {
    "duration": 92,
    "start_time": "2022-07-03T00:45:28.070Z"
   },
   {
    "duration": 10,
    "start_time": "2022-07-03T00:45:28.164Z"
   },
   {
    "duration": 40,
    "start_time": "2022-07-03T00:45:28.175Z"
   },
   {
    "duration": 9,
    "start_time": "2022-07-03T00:45:28.228Z"
   },
   {
    "duration": 43,
    "start_time": "2022-07-03T00:45:28.239Z"
   },
   {
    "duration": 8,
    "start_time": "2022-07-03T00:45:28.284Z"
   },
   {
    "duration": 33,
    "start_time": "2022-07-03T00:45:28.294Z"
   },
   {
    "duration": 34,
    "start_time": "2022-07-03T00:45:28.328Z"
   },
   {
    "duration": 4,
    "start_time": "2022-07-03T00:45:28.363Z"
   },
   {
    "duration": 9,
    "start_time": "2022-07-03T00:45:28.368Z"
   },
   {
    "duration": 15,
    "start_time": "2022-07-03T00:45:28.380Z"
   },
   {
    "duration": 46,
    "start_time": "2022-07-03T00:45:28.396Z"
   },
   {
    "duration": 16,
    "start_time": "2022-07-03T00:45:28.444Z"
   },
   {
    "duration": 7,
    "start_time": "2022-07-03T00:45:28.461Z"
   },
   {
    "duration": 22,
    "start_time": "2022-07-03T00:45:28.469Z"
   },
   {
    "duration": 12,
    "start_time": "2022-07-03T10:30:40.819Z"
   },
   {
    "duration": 1281,
    "start_time": "2022-07-03T10:30:44.339Z"
   },
   {
    "duration": 710,
    "start_time": "2022-07-03T10:30:45.621Z"
   },
   {
    "duration": 15,
    "start_time": "2022-07-03T10:30:46.333Z"
   },
   {
    "duration": 50,
    "start_time": "2022-07-03T10:30:46.350Z"
   },
   {
    "duration": 11,
    "start_time": "2022-07-03T10:30:46.403Z"
   },
   {
    "duration": 48,
    "start_time": "2022-07-03T10:30:46.416Z"
   },
   {
    "duration": 13,
    "start_time": "2022-07-03T10:30:46.467Z"
   },
   {
    "duration": 44,
    "start_time": "2022-07-03T10:30:46.482Z"
   },
   {
    "duration": 11,
    "start_time": "2022-07-03T10:30:46.528Z"
   },
   {
    "duration": 34,
    "start_time": "2022-07-03T10:30:46.541Z"
   },
   {
    "duration": 23,
    "start_time": "2022-07-03T10:30:46.577Z"
   },
   {
    "duration": 31,
    "start_time": "2022-07-03T10:30:46.602Z"
   },
   {
    "duration": 51,
    "start_time": "2022-07-03T10:30:46.635Z"
   },
   {
    "duration": 15,
    "start_time": "2022-07-03T10:30:46.689Z"
   },
   {
    "duration": 18,
    "start_time": "2022-07-03T10:30:46.706Z"
   },
   {
    "duration": 16,
    "start_time": "2022-07-03T10:30:46.726Z"
   },
   {
    "duration": 45,
    "start_time": "2022-07-03T10:30:46.744Z"
   },
   {
    "duration": 13,
    "start_time": "2022-07-03T10:30:46.791Z"
   },
   {
    "duration": 22,
    "start_time": "2022-07-03T10:30:46.805Z"
   },
   {
    "duration": 6,
    "start_time": "2022-07-03T10:30:46.829Z"
   },
   {
    "duration": 29,
    "start_time": "2022-07-03T10:30:46.837Z"
   },
   {
    "duration": 20,
    "start_time": "2022-07-03T10:30:46.868Z"
   },
   {
    "duration": 22,
    "start_time": "2022-07-03T10:30:46.890Z"
   },
   {
    "duration": 13,
    "start_time": "2022-07-03T10:30:46.913Z"
   },
   {
    "duration": 20,
    "start_time": "2022-07-03T10:30:46.928Z"
   },
   {
    "duration": 22,
    "start_time": "2022-07-03T10:30:46.950Z"
   },
   {
    "duration": 16,
    "start_time": "2022-07-03T10:30:46.973Z"
   },
   {
    "duration": 99,
    "start_time": "2022-07-03T10:30:46.991Z"
   },
   {
    "duration": 3,
    "start_time": "2022-07-03T10:30:47.092Z"
   },
   {
    "duration": 66,
    "start_time": "2022-07-03T10:30:47.096Z"
   },
   {
    "duration": 99,
    "start_time": "2022-07-03T10:30:47.164Z"
   },
   {
    "duration": 10,
    "start_time": "2022-07-03T10:30:47.264Z"
   },
   {
    "duration": 68,
    "start_time": "2022-07-03T10:30:47.275Z"
   },
   {
    "duration": 9,
    "start_time": "2022-07-03T10:30:47.344Z"
   },
   {
    "duration": 44,
    "start_time": "2022-07-03T10:30:47.355Z"
   },
   {
    "duration": 9,
    "start_time": "2022-07-03T10:30:47.400Z"
   },
   {
    "duration": 21,
    "start_time": "2022-07-03T10:30:47.410Z"
   },
   {
    "duration": 41,
    "start_time": "2022-07-03T10:30:47.433Z"
   },
   {
    "duration": 4,
    "start_time": "2022-07-03T10:30:47.475Z"
   },
   {
    "duration": 8,
    "start_time": "2022-07-03T10:30:47.480Z"
   },
   {
    "duration": 12,
    "start_time": "2022-07-03T10:30:47.492Z"
   },
   {
    "duration": 40,
    "start_time": "2022-07-03T10:30:47.506Z"
   },
   {
    "duration": 15,
    "start_time": "2022-07-03T10:30:47.548Z"
   },
   {
    "duration": 6,
    "start_time": "2022-07-03T10:30:47.565Z"
   },
   {
    "duration": 18,
    "start_time": "2022-07-03T10:30:47.572Z"
   },
   {
    "duration": 5,
    "start_time": "2022-07-03T10:30:47.591Z"
   },
   {
    "duration": 8072,
    "start_time": "2022-07-03T10:30:47.598Z"
   },
   {
    "duration": 3,
    "start_time": "2022-07-03T10:30:55.672Z"
   },
   {
    "duration": 7,
    "start_time": "2022-07-03T10:30:55.676Z"
   },
   {
    "duration": 33,
    "start_time": "2022-07-03T10:30:55.684Z"
   },
   {
    "duration": 34,
    "start_time": "2022-07-03T10:30:55.718Z"
   },
   {
    "duration": 269,
    "start_time": "2022-07-03T10:30:55.753Z"
   },
   {
    "duration": 297,
    "start_time": "2022-07-03T10:30:56.023Z"
   },
   {
    "duration": 304,
    "start_time": "2022-07-03T10:30:56.322Z"
   },
   {
    "duration": 330,
    "start_time": "2022-07-03T10:30:56.628Z"
   },
   {
    "duration": 260,
    "start_time": "2022-07-03T10:30:56.959Z"
   },
   {
    "duration": 277,
    "start_time": "2022-07-03T10:30:57.221Z"
   },
   {
    "duration": 253,
    "start_time": "2022-07-03T10:30:57.500Z"
   },
   {
    "duration": 8,
    "start_time": "2022-07-03T10:30:57.755Z"
   },
   {
    "duration": 10,
    "start_time": "2022-07-03T10:30:57.764Z"
   },
   {
    "duration": 9,
    "start_time": "2022-07-03T10:30:57.775Z"
   },
   {
    "duration": 17,
    "start_time": "2022-07-03T10:34:07.006Z"
   },
   {
    "duration": 5,
    "start_time": "2022-07-03T10:39:28.198Z"
   },
   {
    "duration": 356,
    "start_time": "2022-07-03T10:39:28.205Z"
   },
   {
    "duration": 8,
    "start_time": "2022-07-03T10:39:28.563Z"
   },
   {
    "duration": 31,
    "start_time": "2022-07-03T10:39:28.573Z"
   },
   {
    "duration": 8,
    "start_time": "2022-07-03T10:39:28.607Z"
   },
   {
    "duration": 28,
    "start_time": "2022-07-03T10:39:28.617Z"
   },
   {
    "duration": 7,
    "start_time": "2022-07-03T10:39:28.647Z"
   },
   {
    "duration": 27,
    "start_time": "2022-07-03T10:39:28.656Z"
   },
   {
    "duration": 9,
    "start_time": "2022-07-03T10:39:28.685Z"
   },
   {
    "duration": 11,
    "start_time": "2022-07-03T10:39:28.696Z"
   },
   {
    "duration": 9,
    "start_time": "2022-07-03T10:39:28.727Z"
   },
   {
    "duration": 11,
    "start_time": "2022-07-03T10:39:28.738Z"
   },
   {
    "duration": 29,
    "start_time": "2022-07-03T10:39:28.751Z"
   },
   {
    "duration": 15,
    "start_time": "2022-07-03T10:39:28.783Z"
   },
   {
    "duration": 29,
    "start_time": "2022-07-03T10:39:28.799Z"
   },
   {
    "duration": 6,
    "start_time": "2022-07-03T10:39:28.830Z"
   },
   {
    "duration": 24,
    "start_time": "2022-07-03T10:39:28.838Z"
   },
   {
    "duration": 13,
    "start_time": "2022-07-03T10:39:28.863Z"
   },
   {
    "duration": 18,
    "start_time": "2022-07-03T10:39:28.878Z"
   },
   {
    "duration": 4,
    "start_time": "2022-07-03T10:39:28.898Z"
   },
   {
    "duration": 4,
    "start_time": "2022-07-03T10:39:28.927Z"
   },
   {
    "duration": 6,
    "start_time": "2022-07-03T10:39:28.933Z"
   },
   {
    "duration": 11,
    "start_time": "2022-07-03T10:39:28.940Z"
   },
   {
    "duration": 11,
    "start_time": "2022-07-03T10:39:28.952Z"
   },
   {
    "duration": 5,
    "start_time": "2022-07-03T10:39:28.965Z"
   },
   {
    "duration": 14,
    "start_time": "2022-07-03T10:39:28.971Z"
   },
   {
    "duration": 6,
    "start_time": "2022-07-03T10:39:28.986Z"
   },
   {
    "duration": 101,
    "start_time": "2022-07-03T10:39:28.993Z"
   },
   {
    "duration": 3,
    "start_time": "2022-07-03T10:39:29.095Z"
   },
   {
    "duration": 56,
    "start_time": "2022-07-03T10:39:29.100Z"
   },
   {
    "duration": 99,
    "start_time": "2022-07-03T10:39:29.158Z"
   },
   {
    "duration": 11,
    "start_time": "2022-07-03T10:39:29.259Z"
   },
   {
    "duration": 62,
    "start_time": "2022-07-03T10:39:29.272Z"
   },
   {
    "duration": 10,
    "start_time": "2022-07-03T10:39:29.336Z"
   },
   {
    "duration": 58,
    "start_time": "2022-07-03T10:39:29.347Z"
   },
   {
    "duration": 8,
    "start_time": "2022-07-03T10:39:29.407Z"
   },
   {
    "duration": 16,
    "start_time": "2022-07-03T10:39:29.416Z"
   },
   {
    "duration": 34,
    "start_time": "2022-07-03T10:39:29.434Z"
   },
   {
    "duration": 4,
    "start_time": "2022-07-03T10:39:29.469Z"
   },
   {
    "duration": 8,
    "start_time": "2022-07-03T10:39:29.474Z"
   },
   {
    "duration": 12,
    "start_time": "2022-07-03T10:39:29.485Z"
   },
   {
    "duration": 53,
    "start_time": "2022-07-03T10:39:29.498Z"
   },
   {
    "duration": 18,
    "start_time": "2022-07-03T10:39:29.553Z"
   },
   {
    "duration": 5,
    "start_time": "2022-07-03T10:39:29.572Z"
   },
   {
    "duration": 20,
    "start_time": "2022-07-03T10:39:29.579Z"
   },
   {
    "duration": 5,
    "start_time": "2022-07-03T10:39:32.084Z"
   },
   {
    "duration": 7825,
    "start_time": "2022-07-03T10:39:35.765Z"
   },
   {
    "duration": 4,
    "start_time": "2022-07-03T10:39:43.591Z"
   },
   {
    "duration": 17,
    "start_time": "2022-07-03T10:39:43.626Z"
   },
   {
    "duration": 4,
    "start_time": "2022-07-03T10:40:36.369Z"
   },
   {
    "duration": 33,
    "start_time": "2022-07-03T10:40:39.280Z"
   },
   {
    "duration": 30,
    "start_time": "2022-07-03T10:40:43.919Z"
   },
   {
    "duration": 244,
    "start_time": "2022-07-03T10:40:47.981Z"
   },
   {
    "duration": 255,
    "start_time": "2022-07-03T10:40:51.380Z"
   },
   {
    "duration": 375,
    "start_time": "2022-07-03T10:40:54.999Z"
   },
   {
    "duration": 282,
    "start_time": "2022-07-03T10:40:57.953Z"
   },
   {
    "duration": 245,
    "start_time": "2022-07-03T10:41:03.373Z"
   },
   {
    "duration": 300,
    "start_time": "2022-07-03T10:41:06.087Z"
   },
   {
    "duration": 255,
    "start_time": "2022-07-03T10:41:10.565Z"
   },
   {
    "duration": 9,
    "start_time": "2022-07-03T10:51:19.264Z"
   },
   {
    "duration": 8,
    "start_time": "2022-07-03T10:51:23.180Z"
   },
   {
    "duration": 4,
    "start_time": "2022-07-03T10:56:47.499Z"
   },
   {
    "duration": 356,
    "start_time": "2022-07-03T10:56:47.505Z"
   },
   {
    "duration": 8,
    "start_time": "2022-07-03T10:56:47.863Z"
   },
   {
    "duration": 26,
    "start_time": "2022-07-03T10:56:47.872Z"
   },
   {
    "duration": 8,
    "start_time": "2022-07-03T10:56:47.900Z"
   },
   {
    "duration": 21,
    "start_time": "2022-07-03T10:56:47.910Z"
   },
   {
    "duration": 7,
    "start_time": "2022-07-03T10:56:47.932Z"
   },
   {
    "duration": 19,
    "start_time": "2022-07-03T10:56:47.940Z"
   },
   {
    "duration": 7,
    "start_time": "2022-07-03T10:56:47.961Z"
   },
   {
    "duration": 12,
    "start_time": "2022-07-03T10:56:47.969Z"
   },
   {
    "duration": 15,
    "start_time": "2022-07-03T10:56:47.982Z"
   },
   {
    "duration": 39,
    "start_time": "2022-07-03T10:56:47.998Z"
   },
   {
    "duration": 39,
    "start_time": "2022-07-03T10:56:48.038Z"
   },
   {
    "duration": 14,
    "start_time": "2022-07-03T10:56:48.080Z"
   },
   {
    "duration": 4,
    "start_time": "2022-07-03T10:56:48.095Z"
   },
   {
    "duration": 8,
    "start_time": "2022-07-03T10:56:48.100Z"
   },
   {
    "duration": 36,
    "start_time": "2022-07-03T10:56:48.109Z"
   },
   {
    "duration": 12,
    "start_time": "2022-07-03T10:56:48.147Z"
   },
   {
    "duration": 17,
    "start_time": "2022-07-03T10:56:48.161Z"
   },
   {
    "duration": 4,
    "start_time": "2022-07-03T10:56:48.180Z"
   },
   {
    "duration": 7,
    "start_time": "2022-07-03T10:56:48.185Z"
   },
   {
    "duration": 34,
    "start_time": "2022-07-03T10:56:48.193Z"
   },
   {
    "duration": 7,
    "start_time": "2022-07-03T10:56:48.229Z"
   },
   {
    "duration": 6,
    "start_time": "2022-07-03T10:56:48.237Z"
   },
   {
    "duration": 6,
    "start_time": "2022-07-03T10:56:48.245Z"
   },
   {
    "duration": 15,
    "start_time": "2022-07-03T10:56:48.253Z"
   },
   {
    "duration": 5,
    "start_time": "2022-07-03T10:56:48.270Z"
   },
   {
    "duration": 94,
    "start_time": "2022-07-03T10:56:48.276Z"
   },
   {
    "duration": 3,
    "start_time": "2022-07-03T10:56:48.372Z"
   },
   {
    "duration": 57,
    "start_time": "2022-07-03T10:56:48.376Z"
   },
   {
    "duration": 77,
    "start_time": "2022-07-03T10:56:48.435Z"
   },
   {
    "duration": 20,
    "start_time": "2022-07-03T10:56:48.514Z"
   },
   {
    "duration": 42,
    "start_time": "2022-07-03T10:56:48.536Z"
   },
   {
    "duration": 8,
    "start_time": "2022-07-03T10:56:48.580Z"
   },
   {
    "duration": 55,
    "start_time": "2022-07-03T10:56:48.590Z"
   },
   {
    "duration": 8,
    "start_time": "2022-07-03T10:56:48.647Z"
   },
   {
    "duration": 10,
    "start_time": "2022-07-03T10:56:48.656Z"
   },
   {
    "duration": 34,
    "start_time": "2022-07-03T10:56:48.668Z"
   },
   {
    "duration": 27,
    "start_time": "2022-07-03T10:56:48.703Z"
   },
   {
    "duration": 6,
    "start_time": "2022-07-03T10:56:48.732Z"
   },
   {
    "duration": 11,
    "start_time": "2022-07-03T10:56:48.742Z"
   },
   {
    "duration": 124,
    "start_time": "2022-07-03T10:56:48.754Z"
   },
   {
    "duration": 17,
    "start_time": "2022-07-03T10:56:48.879Z"
   },
   {
    "duration": 6,
    "start_time": "2022-07-03T10:56:48.897Z"
   },
   {
    "duration": 27,
    "start_time": "2022-07-03T10:56:48.904Z"
   },
   {
    "duration": 9,
    "start_time": "2022-07-03T10:56:48.932Z"
   },
   {
    "duration": 5,
    "start_time": "2022-07-03T10:56:51.411Z"
   },
   {
    "duration": 5,
    "start_time": "2022-07-03T10:57:06.519Z"
   },
   {
    "duration": 8231,
    "start_time": "2022-07-03T10:57:09.537Z"
   },
   {
    "duration": 3,
    "start_time": "2022-07-03T10:57:17.770Z"
   },
   {
    "duration": 18,
    "start_time": "2022-07-03T10:57:17.794Z"
   },
   {
    "duration": 4,
    "start_time": "2022-07-03T10:57:33.294Z"
   },
   {
    "duration": 29,
    "start_time": "2022-07-03T10:57:36.782Z"
   },
   {
    "duration": 3,
    "start_time": "2022-07-03T10:58:29.378Z"
   },
   {
    "duration": 36,
    "start_time": "2022-07-03T10:58:36.474Z"
   },
   {
    "duration": 29,
    "start_time": "2022-07-03T10:59:05.643Z"
   },
   {
    "duration": 259,
    "start_time": "2022-07-03T10:59:12.182Z"
   },
   {
    "duration": 266,
    "start_time": "2022-07-03T10:59:15.112Z"
   },
   {
    "duration": 263,
    "start_time": "2022-07-03T10:59:18.274Z"
   },
   {
    "duration": 248,
    "start_time": "2022-07-03T10:59:20.696Z"
   },
   {
    "duration": 261,
    "start_time": "2022-07-03T10:59:23.662Z"
   },
   {
    "duration": 357,
    "start_time": "2022-07-03T10:59:26.505Z"
   },
   {
    "duration": 256,
    "start_time": "2022-07-03T10:59:29.590Z"
   },
   {
    "duration": 8,
    "start_time": "2022-07-03T10:59:43.190Z"
   },
   {
    "duration": 10,
    "start_time": "2022-07-03T10:59:50.193Z"
   },
   {
    "duration": 10,
    "start_time": "2022-07-03T11:00:20.462Z"
   },
   {
    "duration": 485,
    "start_time": "2022-07-03T11:02:46.786Z"
   },
   {
    "duration": 438,
    "start_time": "2022-07-03T11:03:31.006Z"
   },
   {
    "duration": 478,
    "start_time": "2022-07-03T11:03:36.291Z"
   },
   {
    "duration": 503,
    "start_time": "2022-07-03T11:03:41.501Z"
   },
   {
    "duration": 480,
    "start_time": "2022-07-03T11:03:50.692Z"
   },
   {
    "duration": 500,
    "start_time": "2022-07-03T11:03:55.999Z"
   },
   {
    "duration": 456,
    "start_time": "2022-07-03T11:04:15.018Z"
   },
   {
    "duration": 457,
    "start_time": "2022-07-03T11:05:21.087Z"
   },
   {
    "duration": 448,
    "start_time": "2022-07-03T11:06:18.567Z"
   },
   {
    "duration": 405,
    "start_time": "2022-07-03T11:07:33.251Z"
   },
   {
    "duration": 439,
    "start_time": "2022-07-03T11:08:33.642Z"
   },
   {
    "duration": 569,
    "start_time": "2022-07-03T11:10:29.306Z"
   },
   {
    "duration": 427,
    "start_time": "2022-07-03T11:10:38.807Z"
   },
   {
    "duration": 459,
    "start_time": "2022-07-03T11:10:46.395Z"
   },
   {
    "duration": 429,
    "start_time": "2022-07-03T11:11:01.291Z"
   },
   {
    "duration": 704,
    "start_time": "2022-07-03T11:11:07.018Z"
   },
   {
    "duration": 439,
    "start_time": "2022-07-03T11:11:14.596Z"
   },
   {
    "duration": 450,
    "start_time": "2022-07-03T11:11:20.707Z"
   },
   {
    "duration": 1189,
    "start_time": "2022-07-03T16:40:07.841Z"
   },
   {
    "duration": 388,
    "start_time": "2022-07-03T16:40:09.032Z"
   },
   {
    "duration": 13,
    "start_time": "2022-07-03T16:40:09.422Z"
   },
   {
    "duration": 34,
    "start_time": "2022-07-03T16:40:09.437Z"
   },
   {
    "duration": 9,
    "start_time": "2022-07-03T16:40:09.474Z"
   },
   {
    "duration": 53,
    "start_time": "2022-07-03T16:40:09.486Z"
   },
   {
    "duration": 9,
    "start_time": "2022-07-03T16:40:09.541Z"
   },
   {
    "duration": 27,
    "start_time": "2022-07-03T16:40:09.552Z"
   },
   {
    "duration": 8,
    "start_time": "2022-07-03T16:40:09.582Z"
   },
   {
    "duration": 36,
    "start_time": "2022-07-03T16:40:09.592Z"
   },
   {
    "duration": 13,
    "start_time": "2022-07-03T16:40:09.630Z"
   },
   {
    "duration": 14,
    "start_time": "2022-07-03T16:40:09.644Z"
   },
   {
    "duration": 36,
    "start_time": "2022-07-03T16:40:09.660Z"
   },
   {
    "duration": 36,
    "start_time": "2022-07-03T16:40:09.700Z"
   },
   {
    "duration": 5,
    "start_time": "2022-07-03T16:40:09.738Z"
   },
   {
    "duration": 11,
    "start_time": "2022-07-03T16:40:09.745Z"
   },
   {
    "duration": 29,
    "start_time": "2022-07-03T16:40:09.758Z"
   },
   {
    "duration": 37,
    "start_time": "2022-07-03T16:40:09.790Z"
   },
   {
    "duration": 20,
    "start_time": "2022-07-03T16:40:09.829Z"
   },
   {
    "duration": 5,
    "start_time": "2022-07-03T16:40:09.850Z"
   },
   {
    "duration": 10,
    "start_time": "2022-07-03T16:40:09.857Z"
   },
   {
    "duration": 9,
    "start_time": "2022-07-03T16:40:09.870Z"
   },
   {
    "duration": 8,
    "start_time": "2022-07-03T16:40:09.881Z"
   },
   {
    "duration": 7,
    "start_time": "2022-07-03T16:40:09.890Z"
   },
   {
    "duration": 28,
    "start_time": "2022-07-03T16:40:09.899Z"
   },
   {
    "duration": 19,
    "start_time": "2022-07-03T16:40:09.929Z"
   },
   {
    "duration": 7,
    "start_time": "2022-07-03T16:40:09.949Z"
   },
   {
    "duration": 116,
    "start_time": "2022-07-03T16:40:09.958Z"
   },
   {
    "duration": 3,
    "start_time": "2022-07-03T16:40:10.076Z"
   },
   {
    "duration": 64,
    "start_time": "2022-07-03T16:40:10.081Z"
   },
   {
    "duration": 107,
    "start_time": "2022-07-03T16:40:10.147Z"
   },
   {
    "duration": 15,
    "start_time": "2022-07-03T16:40:10.255Z"
   },
   {
    "duration": 69,
    "start_time": "2022-07-03T16:40:10.273Z"
   },
   {
    "duration": 11,
    "start_time": "2022-07-03T16:40:10.343Z"
   },
   {
    "duration": 47,
    "start_time": "2022-07-03T16:40:10.356Z"
   },
   {
    "duration": 33,
    "start_time": "2022-07-03T16:40:10.405Z"
   },
   {
    "duration": 14,
    "start_time": "2022-07-03T16:40:10.440Z"
   },
   {
    "duration": 40,
    "start_time": "2022-07-03T16:40:10.456Z"
   },
   {
    "duration": 32,
    "start_time": "2022-07-03T16:40:10.498Z"
   },
   {
    "duration": 11,
    "start_time": "2022-07-03T16:40:10.532Z"
   },
   {
    "duration": 14,
    "start_time": "2022-07-03T16:40:10.547Z"
   },
   {
    "duration": 29,
    "start_time": "2022-07-03T16:40:10.563Z"
   },
   {
    "duration": 47,
    "start_time": "2022-07-03T16:40:10.594Z"
   },
   {
    "duration": 17,
    "start_time": "2022-07-03T16:40:10.643Z"
   },
   {
    "duration": 23,
    "start_time": "2022-07-03T16:40:10.662Z"
   },
   {
    "duration": 11,
    "start_time": "2022-07-03T16:40:10.687Z"
   },
   {
    "duration": 5,
    "start_time": "2022-07-03T16:40:10.700Z"
   },
   {
    "duration": 8382,
    "start_time": "2022-07-03T16:40:10.725Z"
   },
   {
    "duration": 5,
    "start_time": "2022-07-03T16:40:19.109Z"
   },
   {
    "duration": 27,
    "start_time": "2022-07-03T16:40:19.116Z"
   },
   {
    "duration": 7,
    "start_time": "2022-07-03T16:40:19.145Z"
   },
   {
    "duration": 39,
    "start_time": "2022-07-03T16:40:19.153Z"
   },
   {
    "duration": 51,
    "start_time": "2022-07-03T16:40:19.195Z"
   },
   {
    "duration": 471,
    "start_time": "2022-07-03T16:40:19.248Z"
   },
   {
    "duration": 444,
    "start_time": "2022-07-03T16:40:19.722Z"
   },
   {
    "duration": 544,
    "start_time": "2022-07-03T16:40:20.168Z"
   },
   {
    "duration": 299,
    "start_time": "2022-07-03T16:40:20.715Z"
   },
   {
    "duration": 15,
    "start_time": "2022-07-03T16:40:21.016Z"
   },
   {
    "duration": 15,
    "start_time": "2022-07-03T16:40:21.032Z"
   },
   {
    "duration": 20,
    "start_time": "2022-07-03T16:40:21.049Z"
   },
   {
    "duration": 234,
    "start_time": "2022-07-03T16:44:34.872Z"
   },
   {
    "duration": 14,
    "start_time": "2022-07-03T16:48:14.024Z"
   },
   {
    "duration": 5,
    "start_time": "2022-07-03T16:49:38.343Z"
   },
   {
    "duration": 24,
    "start_time": "2022-07-03T16:55:15.158Z"
   },
   {
    "duration": 252,
    "start_time": "2022-07-03T16:55:23.897Z"
   }
  ],
  "kernelspec": {
   "display_name": "Python 3 (ipykernel)",
   "language": "python",
   "name": "python3"
  },
  "language_info": {
   "codemirror_mode": {
    "name": "ipython",
    "version": 3
   },
   "file_extension": ".py",
   "mimetype": "text/x-python",
   "name": "python",
   "nbconvert_exporter": "python",
   "pygments_lexer": "ipython3",
   "version": "3.9.7"
  },
  "toc": {
   "base_numbering": 1,
   "nav_menu": {
    "height": "314px",
    "width": "443px"
   },
   "number_sections": true,
   "sideBar": true,
   "skip_h1_title": true,
   "title_cell": "Table of Contents",
   "title_sidebar": "Contents",
   "toc_cell": false,
   "toc_position": {
    "height": "calc(100% - 180px)",
    "left": "10px",
    "top": "150px",
    "width": "216.672px"
   },
   "toc_section_display": true,
   "toc_window_display": true
  }
 },
 "nbformat": 4,
 "nbformat_minor": 2
}
