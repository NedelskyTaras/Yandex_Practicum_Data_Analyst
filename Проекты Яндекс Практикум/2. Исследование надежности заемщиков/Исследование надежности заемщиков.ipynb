{
 "cells": [
  {
   "cell_type": "markdown",
   "id": "1dab5f4f",
   "metadata": {},
   "source": [
    "# Исследование надежности заемщиков."
   ]
  },
  {
   "cell_type": "markdown",
   "id": "d80d226f",
   "metadata": {},
   "source": [
    "Заказчик — кредитный отдел банка. Нужно разобраться, влияет ли семейное положение и количество детей клиента на факт погашения кредита в срок. Входные данные от банка — статистика о платёжеспособности клиентов.\n",
    "\n",
    "Результаты исследования будут учтены при построении модели кредитного скоринга — специальной системы, которая оценивает способность потенциального заёмщика вернуть кредит банку.\n",
    "\n",
    "**Цель проекта —** ответить на вопросы:\n",
    "1. Есть ли зависимость между количеством детей и возвратом кредита в срок?\n",
    "2. Есть ли зависимость между семейным положением и возвратом кредита в срок?\n",
    "3. Есть ли зависимость между уровнем дохода и возвратом кредита в срок?\n",
    "4. Как разные цели кредита влияют на его возврат в срок?\n",
    "\n",
    "**Ход исследования**\n",
    "Данные о статистике платёжеспособности клиентов будут получены через путь:  `/datasets/data.csv`. О качестве данных ничего не известно, поэтому перед проверкой гипотез понадобиться обзор данных. \n",
    "\n",
    "Данные будут проверены на возможные ошибки. Затем, на этапе предобработки, мы попытаемся исправить самые критичные из них. \n",
    "\n",
    "Таким образом, исследование пройдет в три этапа:\n",
    "\n",
    "1. Обзор данных.\n",
    "2. Предобработка данных.\n",
    "3. Ответы на вопросы."
   ]
  },
  {
   "cell_type": "markdown",
   "id": "2a99b88c",
   "metadata": {},
   "source": [
    "### Шаг 1. Обзор данных\n",
    "\n",
    "Составим первое представление о данных. Импортируем библиотеку `Pandas`:"
   ]
  },
  {
   "cell_type": "code",
   "execution_count": 1,
   "id": "8e662f78",
   "metadata": {},
   "outputs": [],
   "source": [
    "import pandas as pd"
   ]
  },
  {
   "cell_type": "markdown",
   "id": "e7099c1a",
   "metadata": {},
   "source": [
    "теперь сохраним файл `data.csv` в переменную `data`. "
   ]
  },
  {
   "cell_type": "code",
   "execution_count": 2,
   "id": "62e4a069",
   "metadata": {},
   "outputs": [],
   "source": [
    "data = pd.read_csv('data.csv')"
   ]
  },
  {
   "cell_type": "markdown",
   "id": "d56ee2dd",
   "metadata": {},
   "source": [
    "Выведем на экран первые 10 строк таблицы:"
   ]
  },
  {
   "cell_type": "code",
   "execution_count": 3,
   "id": "67e80c81",
   "metadata": {
    "scrolled": false
   },
   "outputs": [
    {
     "data": {
      "text/html": [
       "<div>\n",
       "<style scoped>\n",
       "    .dataframe tbody tr th:only-of-type {\n",
       "        vertical-align: middle;\n",
       "    }\n",
       "\n",
       "    .dataframe tbody tr th {\n",
       "        vertical-align: top;\n",
       "    }\n",
       "\n",
       "    .dataframe thead th {\n",
       "        text-align: right;\n",
       "    }\n",
       "</style>\n",
       "<table border=\"1\" class=\"dataframe\">\n",
       "  <thead>\n",
       "    <tr style=\"text-align: right;\">\n",
       "      <th></th>\n",
       "      <th>children</th>\n",
       "      <th>days_employed</th>\n",
       "      <th>dob_years</th>\n",
       "      <th>education</th>\n",
       "      <th>education_id</th>\n",
       "      <th>family_status</th>\n",
       "      <th>family_status_id</th>\n",
       "      <th>gender</th>\n",
       "      <th>income_type</th>\n",
       "      <th>debt</th>\n",
       "      <th>total_income</th>\n",
       "      <th>purpose</th>\n",
       "    </tr>\n",
       "  </thead>\n",
       "  <tbody>\n",
       "    <tr>\n",
       "      <th>0</th>\n",
       "      <td>1</td>\n",
       "      <td>-8437.673028</td>\n",
       "      <td>42</td>\n",
       "      <td>высшее</td>\n",
       "      <td>0</td>\n",
       "      <td>женат / замужем</td>\n",
       "      <td>0</td>\n",
       "      <td>F</td>\n",
       "      <td>сотрудник</td>\n",
       "      <td>0</td>\n",
       "      <td>253875.639453</td>\n",
       "      <td>покупка жилья</td>\n",
       "    </tr>\n",
       "    <tr>\n",
       "      <th>1</th>\n",
       "      <td>1</td>\n",
       "      <td>-4024.803754</td>\n",
       "      <td>36</td>\n",
       "      <td>среднее</td>\n",
       "      <td>1</td>\n",
       "      <td>женат / замужем</td>\n",
       "      <td>0</td>\n",
       "      <td>F</td>\n",
       "      <td>сотрудник</td>\n",
       "      <td>0</td>\n",
       "      <td>112080.014102</td>\n",
       "      <td>приобретение автомобиля</td>\n",
       "    </tr>\n",
       "    <tr>\n",
       "      <th>2</th>\n",
       "      <td>0</td>\n",
       "      <td>-5623.422610</td>\n",
       "      <td>33</td>\n",
       "      <td>Среднее</td>\n",
       "      <td>1</td>\n",
       "      <td>женат / замужем</td>\n",
       "      <td>0</td>\n",
       "      <td>M</td>\n",
       "      <td>сотрудник</td>\n",
       "      <td>0</td>\n",
       "      <td>145885.952297</td>\n",
       "      <td>покупка жилья</td>\n",
       "    </tr>\n",
       "    <tr>\n",
       "      <th>3</th>\n",
       "      <td>3</td>\n",
       "      <td>-4124.747207</td>\n",
       "      <td>32</td>\n",
       "      <td>среднее</td>\n",
       "      <td>1</td>\n",
       "      <td>женат / замужем</td>\n",
       "      <td>0</td>\n",
       "      <td>M</td>\n",
       "      <td>сотрудник</td>\n",
       "      <td>0</td>\n",
       "      <td>267628.550329</td>\n",
       "      <td>дополнительное образование</td>\n",
       "    </tr>\n",
       "    <tr>\n",
       "      <th>4</th>\n",
       "      <td>0</td>\n",
       "      <td>340266.072047</td>\n",
       "      <td>53</td>\n",
       "      <td>среднее</td>\n",
       "      <td>1</td>\n",
       "      <td>гражданский брак</td>\n",
       "      <td>1</td>\n",
       "      <td>F</td>\n",
       "      <td>пенсионер</td>\n",
       "      <td>0</td>\n",
       "      <td>158616.077870</td>\n",
       "      <td>сыграть свадьбу</td>\n",
       "    </tr>\n",
       "    <tr>\n",
       "      <th>5</th>\n",
       "      <td>0</td>\n",
       "      <td>-926.185831</td>\n",
       "      <td>27</td>\n",
       "      <td>высшее</td>\n",
       "      <td>0</td>\n",
       "      <td>гражданский брак</td>\n",
       "      <td>1</td>\n",
       "      <td>M</td>\n",
       "      <td>компаньон</td>\n",
       "      <td>0</td>\n",
       "      <td>255763.565419</td>\n",
       "      <td>покупка жилья</td>\n",
       "    </tr>\n",
       "    <tr>\n",
       "      <th>6</th>\n",
       "      <td>0</td>\n",
       "      <td>-2879.202052</td>\n",
       "      <td>43</td>\n",
       "      <td>высшее</td>\n",
       "      <td>0</td>\n",
       "      <td>женат / замужем</td>\n",
       "      <td>0</td>\n",
       "      <td>F</td>\n",
       "      <td>компаньон</td>\n",
       "      <td>0</td>\n",
       "      <td>240525.971920</td>\n",
       "      <td>операции с жильем</td>\n",
       "    </tr>\n",
       "    <tr>\n",
       "      <th>7</th>\n",
       "      <td>0</td>\n",
       "      <td>-152.779569</td>\n",
       "      <td>50</td>\n",
       "      <td>СРЕДНЕЕ</td>\n",
       "      <td>1</td>\n",
       "      <td>женат / замужем</td>\n",
       "      <td>0</td>\n",
       "      <td>M</td>\n",
       "      <td>сотрудник</td>\n",
       "      <td>0</td>\n",
       "      <td>135823.934197</td>\n",
       "      <td>образование</td>\n",
       "    </tr>\n",
       "    <tr>\n",
       "      <th>8</th>\n",
       "      <td>2</td>\n",
       "      <td>-6929.865299</td>\n",
       "      <td>35</td>\n",
       "      <td>ВЫСШЕЕ</td>\n",
       "      <td>0</td>\n",
       "      <td>гражданский брак</td>\n",
       "      <td>1</td>\n",
       "      <td>F</td>\n",
       "      <td>сотрудник</td>\n",
       "      <td>0</td>\n",
       "      <td>95856.832424</td>\n",
       "      <td>на проведение свадьбы</td>\n",
       "    </tr>\n",
       "    <tr>\n",
       "      <th>9</th>\n",
       "      <td>0</td>\n",
       "      <td>-2188.756445</td>\n",
       "      <td>41</td>\n",
       "      <td>среднее</td>\n",
       "      <td>1</td>\n",
       "      <td>женат / замужем</td>\n",
       "      <td>0</td>\n",
       "      <td>M</td>\n",
       "      <td>сотрудник</td>\n",
       "      <td>0</td>\n",
       "      <td>144425.938277</td>\n",
       "      <td>покупка жилья для семьи</td>\n",
       "    </tr>\n",
       "  </tbody>\n",
       "</table>\n",
       "</div>"
      ],
      "text/plain": [
       "   children  days_employed  dob_years education  education_id  \\\n",
       "0         1   -8437.673028         42    высшее             0   \n",
       "1         1   -4024.803754         36   среднее             1   \n",
       "2         0   -5623.422610         33   Среднее             1   \n",
       "3         3   -4124.747207         32   среднее             1   \n",
       "4         0  340266.072047         53   среднее             1   \n",
       "5         0    -926.185831         27    высшее             0   \n",
       "6         0   -2879.202052         43    высшее             0   \n",
       "7         0    -152.779569         50   СРЕДНЕЕ             1   \n",
       "8         2   -6929.865299         35    ВЫСШЕЕ             0   \n",
       "9         0   -2188.756445         41   среднее             1   \n",
       "\n",
       "      family_status  family_status_id gender income_type  debt   total_income  \\\n",
       "0   женат / замужем                 0      F   сотрудник     0  253875.639453   \n",
       "1   женат / замужем                 0      F   сотрудник     0  112080.014102   \n",
       "2   женат / замужем                 0      M   сотрудник     0  145885.952297   \n",
       "3   женат / замужем                 0      M   сотрудник     0  267628.550329   \n",
       "4  гражданский брак                 1      F   пенсионер     0  158616.077870   \n",
       "5  гражданский брак                 1      M   компаньон     0  255763.565419   \n",
       "6   женат / замужем                 0      F   компаньон     0  240525.971920   \n",
       "7   женат / замужем                 0      M   сотрудник     0  135823.934197   \n",
       "8  гражданский брак                 1      F   сотрудник     0   95856.832424   \n",
       "9   женат / замужем                 0      M   сотрудник     0  144425.938277   \n",
       "\n",
       "                      purpose  \n",
       "0               покупка жилья  \n",
       "1     приобретение автомобиля  \n",
       "2               покупка жилья  \n",
       "3  дополнительное образование  \n",
       "4             сыграть свадьбу  \n",
       "5               покупка жилья  \n",
       "6           операции с жильем  \n",
       "7                 образование  \n",
       "8       на проведение свадьбы  \n",
       "9     покупка жилья для семьи  "
      ]
     },
     "execution_count": 3,
     "metadata": {},
     "output_type": "execute_result"
    }
   ],
   "source": [
    "data.head(10)"
   ]
  },
  {
   "cell_type": "markdown",
   "id": "16ff9f2d",
   "metadata": {},
   "source": [
    "Теперь получим общую информацию о таблице:"
   ]
  },
  {
   "cell_type": "code",
   "execution_count": 4,
   "id": "7fe14af4",
   "metadata": {},
   "outputs": [
    {
     "name": "stdout",
     "output_type": "stream",
     "text": [
      "<class 'pandas.core.frame.DataFrame'>\n",
      "RangeIndex: 21525 entries, 0 to 21524\n",
      "Data columns (total 12 columns):\n",
      " #   Column            Non-Null Count  Dtype  \n",
      "---  ------            --------------  -----  \n",
      " 0   children          21525 non-null  int64  \n",
      " 1   days_employed     19351 non-null  float64\n",
      " 2   dob_years         21525 non-null  int64  \n",
      " 3   education         21525 non-null  object \n",
      " 4   education_id      21525 non-null  int64  \n",
      " 5   family_status     21525 non-null  object \n",
      " 6   family_status_id  21525 non-null  int64  \n",
      " 7   gender            21525 non-null  object \n",
      " 8   income_type       21525 non-null  object \n",
      " 9   debt              21525 non-null  int64  \n",
      " 10  total_income      19351 non-null  float64\n",
      " 11  purpose           21525 non-null  object \n",
      "dtypes: float64(2), int64(5), object(5)\n",
      "memory usage: 2.0+ MB\n"
     ]
    }
   ],
   "source": [
    "data.info()"
   ]
  },
  {
   "cell_type": "markdown",
   "id": "ee03e921",
   "metadata": {},
   "source": [
    "В таблице 11 столбцов. \n",
    "\n",
    "Согласно документации к данным:\n",
    "\n",
    "* `children` — количество детей в семье\n",
    "* `days_employed` — общий трудовой стаж в днях\n",
    "* `dob_years` — возраст клиента в годах\n",
    "* `education` — уровень образования клиента\n",
    "* `education_id` — идентификатор уровня образования\n",
    "* `family_status` — семейное положение\n",
    "* `family_status_id` — идентификатор семейного положения\n",
    "* `gender` — пол клиента\n",
    "* `income_type` — тип занятости\n",
    "* `debt` — имел ли задолженность по возврату кредитов\n",
    "* `total_income` — ежемесячный доход\n",
    "* `purpose` — цель получения кредита\n",
    "\n",
    "Видны следующие проблемы:\n",
    "\n",
    "1. В столбцах `days_employed` и `total_income` присутствуют пропуски.\n",
    "2. Некоторые данные в столбце `days_employed` записаны, как отрицательное число.\n",
    "3. В данных столбца `education` имеются неявные дубликаты в виде одних и тех же слов, записанных разными способами.\n",
    "4. Данные в столбце `total_income` имеют вещественный тип, осложняя их обработку. \n",
    "\n",
    "**Выводы**\n",
    "\n",
    "Предварительно можно утверждать, что предоставленных данных достаточно для исследования. Но сперва нужно устранить проблемы в данных."
   ]
  },
  {
   "cell_type": "markdown",
   "id": "d433711e",
   "metadata": {},
   "source": [
    "### Шаг 2.1 Заполнение пропусков"
   ]
  },
  {
   "cell_type": "markdown",
   "id": "4eb48aa5",
   "metadata": {},
   "source": [
    "Сперва заполним пропущенные значения в столбцах `days_employed` и `total_income`.\n",
    "\n",
    "Видно, что в обоих столбцах число пропущенных значений одинаковое: 19351.\n",
    "\n",
    "Определим, какую долю составляют пропущенные значения в каждом из столбцов с пропусками, поочередно применив методы `isna()` и `mean()`:"
   ]
  },
  {
   "cell_type": "code",
   "execution_count": 5,
   "id": "292acfd2",
   "metadata": {},
   "outputs": [
    {
     "name": "stdout",
     "output_type": "stream",
     "text": [
      "children            0.000000\n",
      "days_employed       0.100999\n",
      "dob_years           0.000000\n",
      "education           0.000000\n",
      "education_id        0.000000\n",
      "family_status       0.000000\n",
      "family_status_id    0.000000\n",
      "gender              0.000000\n",
      "income_type         0.000000\n",
      "debt                0.000000\n",
      "total_income        0.100999\n",
      "purpose             0.000000\n",
      "dtype: float64\n"
     ]
    }
   ],
   "source": [
    "null_percentage = data.isna().mean()\n",
    "print(null_percentage)"
   ]
  },
  {
   "cell_type": "markdown",
   "id": "1b90a3e3",
   "metadata": {},
   "source": [
    "Довольно высокий результат. Простое удаление пропусков может привести к сильным искажениям данных.\n",
    "\n",
    "Самая вероятная причина пропусков в этих столбцах состоит в том, что эти клиенты попросту не имеют опыта работы. В результате чего ячейки с трудовым стажем и ежемесячным доходом не были заполнены. Альтернативно источником ошибки может быть человеческий фактор.\n",
    "\n",
    "Заполним пропущенные ячейки столбца `total_income` медианным значением всех его строк:"
   ]
  },
  {
   "cell_type": "code",
   "execution_count": 6,
   "id": "791f06f2",
   "metadata": {},
   "outputs": [],
   "source": [
    "total_income_median = data['total_income'].median()\n",
    "data['total_income'] = data['total_income'].fillna(total_income_median)"
   ]
  },
  {
   "cell_type": "markdown",
   "id": "07d150f8",
   "metadata": {},
   "source": [
    "Среднее значение некорректно характеризует данные, когда некоторые значения сильно выделяются среди большинства. Потому использование медианного значения в заполнении пустых ячеек с количественными данными - предпочтительнее."
   ]
  },
  {
   "cell_type": "markdown",
   "id": "18de842b",
   "metadata": {},
   "source": [
    "### Шаг 2.2 Проверка данных на аномалии и исправления."
   ]
  },
  {
   "cell_type": "markdown",
   "id": "135ed70e",
   "metadata": {},
   "source": [
    "В данных могут встречаться артефакты (аномалии) — значения, которые не отражают действительность и появились по какой-то ошибке. Например, отрицательное количество дней трудового стажа в столбце `days_employed`. Для реальных данных это нормально.\n",
    "\n",
    "Самая вероятная причина возникновения этой ошибки в человеческом факторе. По неизвестным причинам данные изначально были введены неверным образом.\n",
    "\n",
    "Исправим ошибки в этом столбце, сначала сделав все его данные положительными числами:"
   ]
  },
  {
   "cell_type": "code",
   "execution_count": 7,
   "id": "4b9f5efa",
   "metadata": {},
   "outputs": [],
   "source": [
    "data['days_employed'] = abs(data['days_employed'])"
   ]
  },
  {
   "cell_type": "markdown",
   "id": "350bd5cd",
   "metadata": {},
   "source": [
    "Теперь заполним пропуски медианными значениями, как в предыдущем шаге:"
   ]
  },
  {
   "cell_type": "code",
   "execution_count": 8,
   "id": "b704cfe4",
   "metadata": {},
   "outputs": [],
   "source": [
    "days_employed_median = data['days_employed'].median()\n",
    "data['days_employed'] = data['days_employed'].fillna(days_employed_median)"
   ]
  },
  {
   "cell_type": "markdown",
   "id": "989d4819",
   "metadata": {},
   "source": [
    "Проверим остальные столбцы на присутствие скрытых аномалий.\n",
    "\n",
    "Столбец `children`:"
   ]
  },
  {
   "cell_type": "code",
   "execution_count": 9,
   "id": "680a7cc7",
   "metadata": {},
   "outputs": [
    {
     "data": {
      "text/plain": [
       " 0     14149\n",
       " 1      4818\n",
       " 2      2055\n",
       " 3       330\n",
       " 20       76\n",
       "-1        47\n",
       " 4        41\n",
       " 5         9\n",
       "Name: children, dtype: int64"
      ]
     },
     "execution_count": 9,
     "metadata": {},
     "output_type": "execute_result"
    }
   ],
   "source": [
    "data['children'].value_counts()"
   ]
  },
  {
   "cell_type": "markdown",
   "id": "45322320",
   "metadata": {},
   "source": [
    "Мы сразу же нашли несколько ошибок в данных. \n",
    "\n",
    "У некоторых клиентов есть \"-1\" ребенок. Также, целых 76 клиентов в списке имеют 20 детей. Учитывая, что количество таких многодетных клиентов многозначительно превышает предыдущее по размеру значение, маловероятно, что это верное значение.\n",
    "\n",
    "Очевидно, что это - ошибки ввода. В первом случае имелось в виду \"1\", а во втором \"2\". \n",
    "\n",
    "Исправим эти значения, заменив их с помощью атрибута `loc`:"
   ]
  },
  {
   "cell_type": "code",
   "execution_count": 10,
   "id": "516f8fe0",
   "metadata": {},
   "outputs": [],
   "source": [
    "rows = (data['children'] == -1)\n",
    "data.loc[rows, 'children'] = 1\n",
    "\n",
    "rows = (data['children'] == 20)\n",
    "data.loc[rows, 'children'] = 2"
   ]
  },
  {
   "cell_type": "markdown",
   "id": "b835f852",
   "metadata": {},
   "source": [
    "Проверим результат:"
   ]
  },
  {
   "cell_type": "code",
   "execution_count": 11,
   "id": "54dd646d",
   "metadata": {
    "scrolled": true
   },
   "outputs": [
    {
     "data": {
      "text/plain": [
       "0    14149\n",
       "1     4865\n",
       "2     2131\n",
       "3      330\n",
       "4       41\n",
       "5        9\n",
       "Name: children, dtype: int64"
      ]
     },
     "execution_count": 11,
     "metadata": {},
     "output_type": "execute_result"
    }
   ],
   "source": [
    "data['children'].value_counts()"
   ]
  },
  {
   "cell_type": "markdown",
   "id": "617c0df0",
   "metadata": {},
   "source": [
    "Столбец `days_employed`, использовав метод `describe()`:"
   ]
  },
  {
   "cell_type": "code",
   "execution_count": 12,
   "id": "320bbaa2",
   "metadata": {
    "scrolled": false
   },
   "outputs": [
    {
     "data": {
      "text/plain": [
       "count    21525.000000\n",
       "mean        43.293380\n",
       "std         12.574584\n",
       "min          0.000000\n",
       "25%         33.000000\n",
       "50%         42.000000\n",
       "75%         53.000000\n",
       "max         75.000000\n",
       "Name: dob_years, dtype: float64"
      ]
     },
     "execution_count": 12,
     "metadata": {},
     "output_type": "execute_result"
    }
   ],
   "source": [
    "data['dob_years'].describe()"
   ]
  },
  {
   "cell_type": "markdown",
   "id": "2afbf48b",
   "metadata": {},
   "source": [
    "Мы видим, что у некоторых клиентов в столбце возраста поставлен нуль. \n",
    "\n",
    "Иправим это, заменив нули на медианное значение остальных данных, и сразу же проверив резльтат:"
   ]
  },
  {
   "cell_type": "code",
   "execution_count": 13,
   "id": "15bf1ae1",
   "metadata": {},
   "outputs": [
    {
     "data": {
      "text/plain": [
       "count    21525.000000\n",
       "mean        43.490453\n",
       "std         12.218595\n",
       "min         19.000000\n",
       "25%         34.000000\n",
       "50%         42.000000\n",
       "75%         53.000000\n",
       "max         75.000000\n",
       "Name: dob_years, dtype: float64"
      ]
     },
     "execution_count": 13,
     "metadata": {},
     "output_type": "execute_result"
    }
   ],
   "source": [
    "rows = (data['dob_years'] == 0)\n",
    "data.loc[rows, 'dob_years'] = data['dob_years'].median()\n",
    "\n",
    "data['dob_years'].describe()"
   ]
  },
  {
   "cell_type": "markdown",
   "id": "723f47d7",
   "metadata": {},
   "source": [
    "Столбец `education_id`:"
   ]
  },
  {
   "cell_type": "code",
   "execution_count": 14,
   "id": "7d8f6111",
   "metadata": {
    "scrolled": true
   },
   "outputs": [
    {
     "data": {
      "text/plain": [
       "1    15233\n",
       "0     5260\n",
       "2      744\n",
       "3      282\n",
       "4        6\n",
       "Name: education_id, dtype: int64"
      ]
     },
     "execution_count": 14,
     "metadata": {},
     "output_type": "execute_result"
    }
   ],
   "source": [
    "data['education_id'].value_counts()"
   ]
  },
  {
   "cell_type": "markdown",
   "id": "207fb51f",
   "metadata": {},
   "source": [
    "Аномалий нет.\n",
    "\n",
    "Столбец `family_status_id`:"
   ]
  },
  {
   "cell_type": "code",
   "execution_count": 15,
   "id": "dc6cf2d1",
   "metadata": {
    "scrolled": true
   },
   "outputs": [
    {
     "data": {
      "text/plain": [
       "0    12380\n",
       "1     4177\n",
       "4     2813\n",
       "3     1195\n",
       "2      960\n",
       "Name: family_status_id, dtype: int64"
      ]
     },
     "execution_count": 15,
     "metadata": {},
     "output_type": "execute_result"
    }
   ],
   "source": [
    "data['family_status_id'].value_counts()"
   ]
  },
  {
   "cell_type": "markdown",
   "id": "9bf96795",
   "metadata": {},
   "source": [
    "Аномалий нет.\n",
    "\n",
    "Столбец `gender`:"
   ]
  },
  {
   "cell_type": "code",
   "execution_count": 16,
   "id": "391cc3d9",
   "metadata": {
    "scrolled": false
   },
   "outputs": [
    {
     "data": {
      "text/plain": [
       "F      14236\n",
       "M       7288\n",
       "XNA        1\n",
       "Name: gender, dtype: int64"
      ]
     },
     "execution_count": 16,
     "metadata": {},
     "output_type": "execute_result"
    }
   ],
   "source": [
    "data['gender'].value_counts()"
   ]
  },
  {
   "cell_type": "markdown",
   "id": "010c928f",
   "metadata": {},
   "source": [
    "Обнаружено странное значение \"XNA\". Скорее всего кто-то решил оставить свой пол неопределенным. Поскольку это не критично для целей исследования, эту ячейку можно оставить, как есть.\n",
    "\n",
    "Столбец `debt`:"
   ]
  },
  {
   "cell_type": "code",
   "execution_count": 17,
   "id": "10feac05",
   "metadata": {
    "scrolled": true
   },
   "outputs": [
    {
     "data": {
      "text/plain": [
       "0    19784\n",
       "1     1741\n",
       "Name: debt, dtype: int64"
      ]
     },
     "execution_count": 17,
     "metadata": {},
     "output_type": "execute_result"
    }
   ],
   "source": [
    "data['debt'].value_counts()"
   ]
  },
  {
   "cell_type": "markdown",
   "id": "cb769837",
   "metadata": {},
   "source": [
    "Аномалий нет.\n",
    "\n",
    "Столбцы `days_employed` и `total_income` мы обработаем в следующем пункте."
   ]
  },
  {
   "cell_type": "markdown",
   "id": "ac9d15f5",
   "metadata": {},
   "source": [
    "### Шаг 2.3. Изменение типов данных."
   ]
  },
  {
   "cell_type": "markdown",
   "id": "e6c512d1",
   "metadata": {},
   "source": [
    "Еще ранее мы заметили, что тип данных в столбце `days_employed` и `total_income` - вещественный.\n",
    "\n",
    "Заменим вещественный тип данных в столбце `days_employed` на целочисленный и проверим изменения:"
   ]
  },
  {
   "cell_type": "code",
   "execution_count": 18,
   "id": "90421fac",
   "metadata": {},
   "outputs": [
    {
     "data": {
      "text/plain": [
       "dtype('int32')"
      ]
     },
     "execution_count": 18,
     "metadata": {},
     "output_type": "execute_result"
    }
   ],
   "source": [
    "data['days_employed'] = data['days_employed'].astype('int')\n",
    "\n",
    "data['days_employed'].dtype"
   ]
  },
  {
   "cell_type": "markdown",
   "id": "5d7b9af1",
   "metadata": {},
   "source": [
    "Сделаем то же самое со столбцом `total_income`:"
   ]
  },
  {
   "cell_type": "code",
   "execution_count": 19,
   "id": "ca96d9e0",
   "metadata": {},
   "outputs": [
    {
     "data": {
      "text/plain": [
       "dtype('int32')"
      ]
     },
     "execution_count": 19,
     "metadata": {},
     "output_type": "execute_result"
    }
   ],
   "source": [
    "data['total_income'] = data['total_income'].astype('int')\n",
    "\n",
    "data['total_income'].dtype"
   ]
  },
  {
   "cell_type": "markdown",
   "id": "d9a877de",
   "metadata": {},
   "source": [
    "Проблема устранена."
   ]
  },
  {
   "cell_type": "markdown",
   "id": "79a126db",
   "metadata": {},
   "source": [
    "### Шаг 2.4. Удаление дубликатов."
   ]
  },
  {
   "cell_type": "markdown",
   "id": "75228595",
   "metadata": {},
   "source": [
    "Проверим количество дубликатов в столбце `education`, сначала применив метод `sort_values()`для облегчения просмотра, а затем использовав метод `unique()`, чтобы вывести список с уникальными значениями:"
   ]
  },
  {
   "cell_type": "code",
   "execution_count": 20,
   "id": "31b11e85",
   "metadata": {},
   "outputs": [
    {
     "data": {
      "text/plain": [
       "array(['ВЫСШЕЕ', 'Высшее', 'НАЧАЛЬНОЕ', 'НЕОКОНЧЕННОЕ ВЫСШЕЕ',\n",
       "       'Начальное', 'Неоконченное высшее', 'СРЕДНЕЕ', 'Среднее',\n",
       "       'УЧЕНАЯ СТЕПЕНЬ', 'Ученая степень', 'высшее', 'начальное',\n",
       "       'неоконченное высшее', 'среднее', 'ученая степень'], dtype=object)"
      ]
     },
     "execution_count": 20,
     "metadata": {},
     "output_type": "execute_result"
    }
   ],
   "source": [
    "data['education'].sort_values().unique()"
   ]
  },
  {
   "cell_type": "markdown",
   "id": "0e399fe0",
   "metadata": {},
   "source": [
    "Мы подтвердили, что все дупликаты возникли в результате использования нижнего и верхнего регистра.\n",
    "\n",
    "Исправим это, применив метод `str.lower()` и проверив результат:"
   ]
  },
  {
   "cell_type": "code",
   "execution_count": 21,
   "id": "18333a1c",
   "metadata": {
    "scrolled": false
   },
   "outputs": [
    {
     "data": {
      "text/plain": [
       "array(['высшее', 'начальное', 'неоконченное высшее', 'среднее',\n",
       "       'ученая степень'], dtype=object)"
      ]
     },
     "execution_count": 21,
     "metadata": {},
     "output_type": "execute_result"
    }
   ],
   "source": [
    "data['education'] = data['education'].str.lower()\n",
    "\n",
    "data['education'].sort_values().unique()"
   ]
  },
  {
   "cell_type": "markdown",
   "id": "9ab31e35",
   "metadata": {},
   "source": [
    "На всякий случай проверим остальные столбцы с вещественными данными, заранее исправив регистр.\n",
    "\n",
    "Столбец `family_status`:"
   ]
  },
  {
   "cell_type": "code",
   "execution_count": 22,
   "id": "bc2737d5",
   "metadata": {},
   "outputs": [
    {
     "data": {
      "text/plain": [
       "array(['в разводе', 'вдовец / вдова', 'гражданский брак',\n",
       "       'женат / замужем', 'не женат / не замужем'], dtype=object)"
      ]
     },
     "execution_count": 22,
     "metadata": {},
     "output_type": "execute_result"
    }
   ],
   "source": [
    "data['family_status'] = data['family_status'].str.lower()\n",
    "\n",
    "data['family_status'].sort_values().unique()"
   ]
  },
  {
   "cell_type": "markdown",
   "id": "13c3944a",
   "metadata": {},
   "source": [
    "Дубликатов не обнаружено.\n",
    "\n",
    "Столбец `income_type`:"
   ]
  },
  {
   "cell_type": "code",
   "execution_count": 23,
   "id": "8203e38f",
   "metadata": {
    "scrolled": true
   },
   "outputs": [
    {
     "data": {
      "text/plain": [
       "array(['безработный', 'в декрете', 'госслужащий', 'компаньон',\n",
       "       'пенсионер', 'предприниматель', 'сотрудник', 'студент'],\n",
       "      dtype=object)"
      ]
     },
     "execution_count": 23,
     "metadata": {},
     "output_type": "execute_result"
    }
   ],
   "source": [
    "data['income_type'] = data['income_type'].str.lower()\n",
    "\n",
    "data['income_type'].sort_values().unique()"
   ]
  },
  {
   "cell_type": "markdown",
   "id": "b2e11d98",
   "metadata": {},
   "source": [
    "Дубликатов не обнаружено.\n",
    "\n",
    "Cтолбец `purpose`:"
   ]
  },
  {
   "cell_type": "code",
   "execution_count": 24,
   "id": "b0f9752b",
   "metadata": {
    "scrolled": true
   },
   "outputs": [
    {
     "data": {
      "text/plain": [
       "array(['автомобили', 'автомобиль', 'высшее образование',\n",
       "       'дополнительное образование', 'жилье',\n",
       "       'заняться высшим образованием', 'заняться образованием',\n",
       "       'на покупку автомобиля', 'на покупку подержанного автомобиля',\n",
       "       'на покупку своего автомобиля', 'на проведение свадьбы',\n",
       "       'недвижимость', 'образование', 'операции с жильем',\n",
       "       'операции с коммерческой недвижимостью',\n",
       "       'операции с недвижимостью', 'операции со своей недвижимостью',\n",
       "       'покупка жилой недвижимости', 'покупка жилья',\n",
       "       'покупка жилья для сдачи', 'покупка жилья для семьи',\n",
       "       'покупка коммерческой недвижимости', 'покупка недвижимости',\n",
       "       'покупка своего жилья', 'получение высшего образования',\n",
       "       'получение дополнительного образования', 'получение образования',\n",
       "       'приобретение автомобиля', 'профильное образование',\n",
       "       'ремонт жилью', 'свадьба', 'свой автомобиль',\n",
       "       'сделка с автомобилем', 'сделка с подержанным автомобилем',\n",
       "       'строительство жилой недвижимости', 'строительство недвижимости',\n",
       "       'строительство собственной недвижимости', 'сыграть свадьбу'],\n",
       "      dtype=object)"
      ]
     },
     "execution_count": 24,
     "metadata": {},
     "output_type": "execute_result"
    }
   ],
   "source": [
    "data['purpose'] = data['purpose'].str.lower()\n",
    "\n",
    "data['purpose'].sort_values().unique()"
   ]
  },
  {
   "cell_type": "markdown",
   "id": "2fc753a8",
   "metadata": {},
   "source": [
    "Здесь мы видим множество дубликатов. Заметна опечатка \"ремонт жиль*ю*\", но для исследования это не критично. Более подробно мы обработаем этот столбец позже."
   ]
  },
  {
   "cell_type": "markdown",
   "id": "6c5ff123",
   "metadata": {},
   "source": [
    "### Шаг 2.5. Формирование дополнительных датафреймов словарей, декомпозиция исходного датафрейма."
   ]
  },
  {
   "cell_type": "markdown",
   "id": "ccc269b4",
   "metadata": {},
   "source": [
    "Для удобства работы с таблицей, мы можем перенести содержимое столбцов `education` и `family_status` в отдельные таблицы-словари, оставив в изначальном датафрейме только их идентификаторы.\n",
    "\n",
    "Создадим датафрейм `education_dict`:"
   ]
  },
  {
   "cell_type": "code",
   "execution_count": 25,
   "id": "0d54c66e",
   "metadata": {},
   "outputs": [
    {
     "data": {
      "text/html": [
       "<div>\n",
       "<style scoped>\n",
       "    .dataframe tbody tr th:only-of-type {\n",
       "        vertical-align: middle;\n",
       "    }\n",
       "\n",
       "    .dataframe tbody tr th {\n",
       "        vertical-align: top;\n",
       "    }\n",
       "\n",
       "    .dataframe thead th {\n",
       "        text-align: right;\n",
       "    }\n",
       "</style>\n",
       "<table border=\"1\" class=\"dataframe\">\n",
       "  <thead>\n",
       "    <tr style=\"text-align: right;\">\n",
       "      <th></th>\n",
       "      <th>education</th>\n",
       "      <th>education_id</th>\n",
       "    </tr>\n",
       "  </thead>\n",
       "  <tbody>\n",
       "    <tr>\n",
       "      <th>0</th>\n",
       "      <td>высшее</td>\n",
       "      <td>0</td>\n",
       "    </tr>\n",
       "    <tr>\n",
       "      <th>1</th>\n",
       "      <td>среднее</td>\n",
       "      <td>1</td>\n",
       "    </tr>\n",
       "    <tr>\n",
       "      <th>2</th>\n",
       "      <td>неоконченное высшее</td>\n",
       "      <td>2</td>\n",
       "    </tr>\n",
       "    <tr>\n",
       "      <th>3</th>\n",
       "      <td>начальное</td>\n",
       "      <td>3</td>\n",
       "    </tr>\n",
       "    <tr>\n",
       "      <th>4</th>\n",
       "      <td>ученая степень</td>\n",
       "      <td>4</td>\n",
       "    </tr>\n",
       "  </tbody>\n",
       "</table>\n",
       "</div>"
      ],
      "text/plain": [
       "             education  education_id\n",
       "0               высшее             0\n",
       "1              среднее             1\n",
       "2  неоконченное высшее             2\n",
       "3            начальное             3\n",
       "4       ученая степень             4"
      ]
     },
     "metadata": {},
     "output_type": "display_data"
    }
   ],
   "source": [
    "education_dict = data[['education','education_id']]\n",
    "education_dict = education_dict.drop_duplicates().reset_index(drop=True)\n",
    "display(education_dict)"
   ]
  },
  {
   "cell_type": "markdown",
   "id": "58b72c19",
   "metadata": {},
   "source": [
    "Теперь создадим датафрейм `family_status_dict`:"
   ]
  },
  {
   "cell_type": "code",
   "execution_count": 26,
   "id": "599f6193",
   "metadata": {
    "scrolled": true
   },
   "outputs": [
    {
     "data": {
      "text/html": [
       "<div>\n",
       "<style scoped>\n",
       "    .dataframe tbody tr th:only-of-type {\n",
       "        vertical-align: middle;\n",
       "    }\n",
       "\n",
       "    .dataframe tbody tr th {\n",
       "        vertical-align: top;\n",
       "    }\n",
       "\n",
       "    .dataframe thead th {\n",
       "        text-align: right;\n",
       "    }\n",
       "</style>\n",
       "<table border=\"1\" class=\"dataframe\">\n",
       "  <thead>\n",
       "    <tr style=\"text-align: right;\">\n",
       "      <th></th>\n",
       "      <th>family_status</th>\n",
       "      <th>family_status_id</th>\n",
       "    </tr>\n",
       "  </thead>\n",
       "  <tbody>\n",
       "    <tr>\n",
       "      <th>0</th>\n",
       "      <td>женат / замужем</td>\n",
       "      <td>0</td>\n",
       "    </tr>\n",
       "    <tr>\n",
       "      <th>1</th>\n",
       "      <td>гражданский брак</td>\n",
       "      <td>1</td>\n",
       "    </tr>\n",
       "    <tr>\n",
       "      <th>2</th>\n",
       "      <td>вдовец / вдова</td>\n",
       "      <td>2</td>\n",
       "    </tr>\n",
       "    <tr>\n",
       "      <th>3</th>\n",
       "      <td>в разводе</td>\n",
       "      <td>3</td>\n",
       "    </tr>\n",
       "    <tr>\n",
       "      <th>4</th>\n",
       "      <td>не женат / не замужем</td>\n",
       "      <td>4</td>\n",
       "    </tr>\n",
       "  </tbody>\n",
       "</table>\n",
       "</div>"
      ],
      "text/plain": [
       "           family_status  family_status_id\n",
       "0        женат / замужем                 0\n",
       "1       гражданский брак                 1\n",
       "2         вдовец / вдова                 2\n",
       "3              в разводе                 3\n",
       "4  не женат / не замужем                 4"
      ]
     },
     "metadata": {},
     "output_type": "display_data"
    }
   ],
   "source": [
    "family_status_dict = data[['family_status','family_status_id']]\n",
    "family_status_dict = family_status_dict.drop_duplicates().reset_index(drop=True)\n",
    "display(family_status_dict)"
   ]
  },
  {
   "cell_type": "markdown",
   "id": "25ca8e79",
   "metadata": {},
   "source": [
    "Осталось удалить `education` и `family_status` из исходного датафрейма и проверить результат: "
   ]
  },
  {
   "cell_type": "code",
   "execution_count": 27,
   "id": "5bde1beb",
   "metadata": {
    "scrolled": true
   },
   "outputs": [
    {
     "data": {
      "text/html": [
       "<div>\n",
       "<style scoped>\n",
       "    .dataframe tbody tr th:only-of-type {\n",
       "        vertical-align: middle;\n",
       "    }\n",
       "\n",
       "    .dataframe tbody tr th {\n",
       "        vertical-align: top;\n",
       "    }\n",
       "\n",
       "    .dataframe thead th {\n",
       "        text-align: right;\n",
       "    }\n",
       "</style>\n",
       "<table border=\"1\" class=\"dataframe\">\n",
       "  <thead>\n",
       "    <tr style=\"text-align: right;\">\n",
       "      <th></th>\n",
       "      <th>children</th>\n",
       "      <th>days_employed</th>\n",
       "      <th>dob_years</th>\n",
       "      <th>education</th>\n",
       "      <th>education_id</th>\n",
       "      <th>family_status</th>\n",
       "      <th>family_status_id</th>\n",
       "      <th>gender</th>\n",
       "      <th>income_type</th>\n",
       "      <th>debt</th>\n",
       "      <th>total_income</th>\n",
       "      <th>purpose</th>\n",
       "    </tr>\n",
       "  </thead>\n",
       "  <tbody>\n",
       "    <tr>\n",
       "      <th>0</th>\n",
       "      <td>1</td>\n",
       "      <td>8437</td>\n",
       "      <td>42</td>\n",
       "      <td>высшее</td>\n",
       "      <td>0</td>\n",
       "      <td>женат / замужем</td>\n",
       "      <td>0</td>\n",
       "      <td>F</td>\n",
       "      <td>сотрудник</td>\n",
       "      <td>0</td>\n",
       "      <td>253875</td>\n",
       "      <td>покупка жилья</td>\n",
       "    </tr>\n",
       "    <tr>\n",
       "      <th>1</th>\n",
       "      <td>1</td>\n",
       "      <td>4024</td>\n",
       "      <td>36</td>\n",
       "      <td>среднее</td>\n",
       "      <td>1</td>\n",
       "      <td>женат / замужем</td>\n",
       "      <td>0</td>\n",
       "      <td>F</td>\n",
       "      <td>сотрудник</td>\n",
       "      <td>0</td>\n",
       "      <td>112080</td>\n",
       "      <td>приобретение автомобиля</td>\n",
       "    </tr>\n",
       "    <tr>\n",
       "      <th>2</th>\n",
       "      <td>0</td>\n",
       "      <td>5623</td>\n",
       "      <td>33</td>\n",
       "      <td>среднее</td>\n",
       "      <td>1</td>\n",
       "      <td>женат / замужем</td>\n",
       "      <td>0</td>\n",
       "      <td>M</td>\n",
       "      <td>сотрудник</td>\n",
       "      <td>0</td>\n",
       "      <td>145885</td>\n",
       "      <td>покупка жилья</td>\n",
       "    </tr>\n",
       "    <tr>\n",
       "      <th>3</th>\n",
       "      <td>3</td>\n",
       "      <td>4124</td>\n",
       "      <td>32</td>\n",
       "      <td>среднее</td>\n",
       "      <td>1</td>\n",
       "      <td>женат / замужем</td>\n",
       "      <td>0</td>\n",
       "      <td>M</td>\n",
       "      <td>сотрудник</td>\n",
       "      <td>0</td>\n",
       "      <td>267628</td>\n",
       "      <td>дополнительное образование</td>\n",
       "    </tr>\n",
       "    <tr>\n",
       "      <th>4</th>\n",
       "      <td>0</td>\n",
       "      <td>340266</td>\n",
       "      <td>53</td>\n",
       "      <td>среднее</td>\n",
       "      <td>1</td>\n",
       "      <td>гражданский брак</td>\n",
       "      <td>1</td>\n",
       "      <td>F</td>\n",
       "      <td>пенсионер</td>\n",
       "      <td>0</td>\n",
       "      <td>158616</td>\n",
       "      <td>сыграть свадьбу</td>\n",
       "    </tr>\n",
       "  </tbody>\n",
       "</table>\n",
       "</div>"
      ],
      "text/plain": [
       "   children  days_employed  dob_years education  education_id  \\\n",
       "0         1           8437         42    высшее             0   \n",
       "1         1           4024         36   среднее             1   \n",
       "2         0           5623         33   среднее             1   \n",
       "3         3           4124         32   среднее             1   \n",
       "4         0         340266         53   среднее             1   \n",
       "\n",
       "      family_status  family_status_id gender income_type  debt  total_income  \\\n",
       "0   женат / замужем                 0      F   сотрудник     0        253875   \n",
       "1   женат / замужем                 0      F   сотрудник     0        112080   \n",
       "2   женат / замужем                 0      M   сотрудник     0        145885   \n",
       "3   женат / замужем                 0      M   сотрудник     0        267628   \n",
       "4  гражданский брак                 1      F   пенсионер     0        158616   \n",
       "\n",
       "                      purpose  \n",
       "0               покупка жилья  \n",
       "1     приобретение автомобиля  \n",
       "2               покупка жилья  \n",
       "3  дополнительное образование  \n",
       "4             сыграть свадьбу  "
      ]
     },
     "execution_count": 27,
     "metadata": {},
     "output_type": "execute_result"
    }
   ],
   "source": [
    "data.drop(columns=['education', 'family_status'])\n",
    "\n",
    "data.head()"
   ]
  },
  {
   "cell_type": "markdown",
   "id": "d892ed8a",
   "metadata": {},
   "source": [
    "В дальнейшем, если нам понадобиться обратиться к этим данным, нам достаточно будет только просмотреть их идентификатор."
   ]
  },
  {
   "cell_type": "markdown",
   "id": "1bfe93a9",
   "metadata": {},
   "source": [
    "### Шаг 2.6. Категоризация дохода."
   ]
  },
  {
   "cell_type": "markdown",
   "id": "b0c536c8",
   "metadata": {},
   "source": [
    "Добавим в исходную таблицу новый столбец, который будет содержать категории клиентов на основе информации об их доходе. \n",
    "\n",
    "Для этого создадим функцию `total_income_category`. На вход она должна принимать значение столбца `total_income`, а на выход выдавать название категории:"
   ]
  },
  {
   "cell_type": "code",
   "execution_count": 28,
   "id": "cee34a5d",
   "metadata": {},
   "outputs": [],
   "source": [
    "def total_income_category(total_income):\n",
    "    if total_income <= 30000:\n",
    "        return 'E'\n",
    "    if total_income <= 50000:\n",
    "        return 'D'\n",
    "    if total_income <= 200000:\n",
    "        return 'C'\n",
    "    if total_income <= 1000000:\n",
    "        return 'B'\n",
    "    return 'A'"
   ]
  },
  {
   "cell_type": "markdown",
   "id": "6f557654",
   "metadata": {},
   "source": [
    "Вызовем функцию `total_income_category()` для столбца `total_income` и сохраним результат в новый столбец `total_income_category`:"
   ]
  },
  {
   "cell_type": "code",
   "execution_count": 29,
   "id": "57689d1a",
   "metadata": {},
   "outputs": [],
   "source": [
    "data['total_income_category'] = data['total_income'].apply(total_income_category)"
   ]
  },
  {
   "cell_type": "markdown",
   "id": "7df3c37d",
   "metadata": {},
   "source": [
    "Проверим результат, выведя первые десять строк столбцов `total_income`и `total_income_category`:"
   ]
  },
  {
   "cell_type": "code",
   "execution_count": 30,
   "id": "f2df036a",
   "metadata": {},
   "outputs": [
    {
     "data": {
      "text/html": [
       "<div>\n",
       "<style scoped>\n",
       "    .dataframe tbody tr th:only-of-type {\n",
       "        vertical-align: middle;\n",
       "    }\n",
       "\n",
       "    .dataframe tbody tr th {\n",
       "        vertical-align: top;\n",
       "    }\n",
       "\n",
       "    .dataframe thead th {\n",
       "        text-align: right;\n",
       "    }\n",
       "</style>\n",
       "<table border=\"1\" class=\"dataframe\">\n",
       "  <thead>\n",
       "    <tr style=\"text-align: right;\">\n",
       "      <th></th>\n",
       "      <th>total_income</th>\n",
       "      <th>total_income_category</th>\n",
       "    </tr>\n",
       "  </thead>\n",
       "  <tbody>\n",
       "    <tr>\n",
       "      <th>0</th>\n",
       "      <td>253875</td>\n",
       "      <td>B</td>\n",
       "    </tr>\n",
       "    <tr>\n",
       "      <th>1</th>\n",
       "      <td>112080</td>\n",
       "      <td>C</td>\n",
       "    </tr>\n",
       "    <tr>\n",
       "      <th>2</th>\n",
       "      <td>145885</td>\n",
       "      <td>C</td>\n",
       "    </tr>\n",
       "    <tr>\n",
       "      <th>3</th>\n",
       "      <td>267628</td>\n",
       "      <td>B</td>\n",
       "    </tr>\n",
       "    <tr>\n",
       "      <th>4</th>\n",
       "      <td>158616</td>\n",
       "      <td>C</td>\n",
       "    </tr>\n",
       "    <tr>\n",
       "      <th>5</th>\n",
       "      <td>255763</td>\n",
       "      <td>B</td>\n",
       "    </tr>\n",
       "    <tr>\n",
       "      <th>6</th>\n",
       "      <td>240525</td>\n",
       "      <td>B</td>\n",
       "    </tr>\n",
       "    <tr>\n",
       "      <th>7</th>\n",
       "      <td>135823</td>\n",
       "      <td>C</td>\n",
       "    </tr>\n",
       "    <tr>\n",
       "      <th>8</th>\n",
       "      <td>95856</td>\n",
       "      <td>C</td>\n",
       "    </tr>\n",
       "    <tr>\n",
       "      <th>9</th>\n",
       "      <td>144425</td>\n",
       "      <td>C</td>\n",
       "    </tr>\n",
       "    <tr>\n",
       "      <th>10</th>\n",
       "      <td>113943</td>\n",
       "      <td>C</td>\n",
       "    </tr>\n",
       "  </tbody>\n",
       "</table>\n",
       "</div>"
      ],
      "text/plain": [
       "    total_income total_income_category\n",
       "0         253875                     B\n",
       "1         112080                     C\n",
       "2         145885                     C\n",
       "3         267628                     B\n",
       "4         158616                     C\n",
       "5         255763                     B\n",
       "6         240525                     B\n",
       "7         135823                     C\n",
       "8          95856                     C\n",
       "9         144425                     C\n",
       "10        113943                     C"
      ]
     },
     "execution_count": 30,
     "metadata": {},
     "output_type": "execute_result"
    }
   ],
   "source": [
    "data.loc[:10, ['total_income','total_income_category']]"
   ]
  },
  {
   "cell_type": "markdown",
   "id": "1e6eb630",
   "metadata": {},
   "source": [
    "Все сходится."
   ]
  },
  {
   "cell_type": "markdown",
   "id": "b89771da",
   "metadata": {},
   "source": [
    "### Шаг 2.7. Категоризация целей кредита."
   ]
  },
  {
   "cell_type": "markdown",
   "id": "8aa894ec",
   "metadata": {},
   "source": [
    "Значения в столбце `purpose` можно объединить по категориям:\n",
    "\n",
    "* **проведение свадьбы:** свадьба, на проведение свадьбы, сыграть свадьбу\n",
    "* **операции с недвижимостью:** недвижимость, операции с недвижимостью, покупка коммерческой недвижимости, операции с жильем, покупка жилья для сдачи, операции с коммерческой недвижимостью, жилье, покупка жилья, покупка жилья для семьи, строительство собственной недвижимости, операции со своей недвижимостью, строительство жилой недвижимости, покупка недвижимости, покупка своего жилья, строительство недвижимости, ремонт жилью, покупка жилой недвижимости.\n",
    "* **операции с автомобилем:** автомобиль, на покупку своего автомобиля, сделка с подержанным автомобилем, свой автомобиль, на покупку подержанного автомобиля, автомобили, на покупку автомобиля, приобретение автомобиля, сделка с автомобилем.\n",
    "* **получение образования:** образование, заняться высшим образованием, дополнительное образование, высшее образование, получение дополнительного образования, получение образования, профильное образование, получение высшего образования, заняться образованием.\n",
    "\n",
    "Сформируем новый столбец, в котором будут находиться эти категории.\n",
    "\n",
    "Для этого, создадим функцию `purpose_category()`. На вход она должна принимать значение столбца `purpose`, а на выход выдавать название категории цели."
   ]
  },
  {
   "cell_type": "code",
   "execution_count": 31,
   "id": "96eb1868",
   "metadata": {},
   "outputs": [],
   "source": [
    "def purpose_category(purpose):\n",
    "    wedding_category_list = ['свадьба', 'на проведение свадьбы', 'сыграть свадьбу']\n",
    "    housing_category_list = ['недвижимость', 'операции с недвижимостью', 'покупка коммерческой недвижимости', \n",
    "                             'операции с жильем', 'покупка жилья для сдачи', 'операции с коммерческой недвижимостью', \n",
    "                             'жилье', 'покупка жилья', 'покупка жилья для семьи', 'строительство собственной недвижимости', \n",
    "                             'операции со своей недвижимостью', 'строительство жилой недвижимости', 'покупка недвижимости', \n",
    "                             'покупка своего жилья', 'строительство недвижимости', 'ремонт жилью', 'покупка жилой недвижимости']  \n",
    "    car_category_list = ['автомобиль', 'на покупку своего автомобиля', 'сделка с подержанным автомобилем', \n",
    "                         'свой автомобиль', 'на покупку подержанного автомобиля', 'автомобили', \n",
    "                         'на покупку автомобиля', 'приобретение автомобиля', 'сделка с автомобилем']\n",
    "    education_category_list = ['образование', 'заняться высшим образованием', 'дополнительное образование', \n",
    "                               'высшее образование', 'получение дополнительного образования', 'получение образования', \n",
    "                               'профильное образование', 'получение высшего образования', 'заняться образованием']\n",
    "    if purpose in wedding_category_list:\n",
    "        return 'проведение свадьбы'\n",
    "    if purpose in housing_category_list:\n",
    "        return 'операции с недвижимостью'\n",
    "    if purpose in car_category_list:\n",
    "        return 'операции с автомобилем'\n",
    "    if purpose in education_category_list:\n",
    "        return 'получение образования'\n",
    "    return 'неизвестно'"
   ]
  },
  {
   "cell_type": "markdown",
   "id": "bfa3b88f",
   "metadata": {},
   "source": [
    "Альтернативный вариант функции `purpose_category()`:"
   ]
  },
  {
   "cell_type": "code",
   "execution_count": 32,
   "id": "0310f03c",
   "metadata": {},
   "outputs": [],
   "source": [
    "def purpose_category(purpose):\n",
    "    if 'свадьб' in purpose:\n",
    "        return 'проведение свадьбы'\n",
    "    if 'недвиж' in purpose:\n",
    "        return 'операции с недвижимостью'\n",
    "    if 'жил' in purpose:\n",
    "        return 'операции с недвижимостью'\n",
    "    if 'автомоб' in purpose:\n",
    "        return 'операции с автомобилем'\n",
    "    if 'образов' in purpose:\n",
    "        return 'получение образования'\n",
    "    return 'неизвестно'"
   ]
  },
  {
   "cell_type": "markdown",
   "id": "1f4d6a92",
   "metadata": {},
   "source": [
    "Вызовем функцию `purpose_category()` для столбца `purpose` и сохраним результат в новый столбец `purpose_category`:"
   ]
  },
  {
   "cell_type": "code",
   "execution_count": 33,
   "id": "40a6935f",
   "metadata": {},
   "outputs": [],
   "source": [
    "data['purpose_category'] = data['purpose'].apply(purpose_category)"
   ]
  },
  {
   "cell_type": "markdown",
   "id": "5e93ae45",
   "metadata": {},
   "source": [
    "Проверим результат, выведя первые десять строк столбца `purpose` и `purpose_category`:"
   ]
  },
  {
   "cell_type": "code",
   "execution_count": 34,
   "id": "a32842dc",
   "metadata": {},
   "outputs": [
    {
     "data": {
      "text/html": [
       "<div>\n",
       "<style scoped>\n",
       "    .dataframe tbody tr th:only-of-type {\n",
       "        vertical-align: middle;\n",
       "    }\n",
       "\n",
       "    .dataframe tbody tr th {\n",
       "        vertical-align: top;\n",
       "    }\n",
       "\n",
       "    .dataframe thead th {\n",
       "        text-align: right;\n",
       "    }\n",
       "</style>\n",
       "<table border=\"1\" class=\"dataframe\">\n",
       "  <thead>\n",
       "    <tr style=\"text-align: right;\">\n",
       "      <th></th>\n",
       "      <th>purpose</th>\n",
       "      <th>purpose_category</th>\n",
       "    </tr>\n",
       "  </thead>\n",
       "  <tbody>\n",
       "    <tr>\n",
       "      <th>0</th>\n",
       "      <td>покупка жилья</td>\n",
       "      <td>операции с недвижимостью</td>\n",
       "    </tr>\n",
       "    <tr>\n",
       "      <th>1</th>\n",
       "      <td>приобретение автомобиля</td>\n",
       "      <td>операции с автомобилем</td>\n",
       "    </tr>\n",
       "    <tr>\n",
       "      <th>2</th>\n",
       "      <td>покупка жилья</td>\n",
       "      <td>операции с недвижимостью</td>\n",
       "    </tr>\n",
       "    <tr>\n",
       "      <th>3</th>\n",
       "      <td>дополнительное образование</td>\n",
       "      <td>получение образования</td>\n",
       "    </tr>\n",
       "    <tr>\n",
       "      <th>4</th>\n",
       "      <td>сыграть свадьбу</td>\n",
       "      <td>проведение свадьбы</td>\n",
       "    </tr>\n",
       "    <tr>\n",
       "      <th>5</th>\n",
       "      <td>покупка жилья</td>\n",
       "      <td>операции с недвижимостью</td>\n",
       "    </tr>\n",
       "    <tr>\n",
       "      <th>6</th>\n",
       "      <td>операции с жильем</td>\n",
       "      <td>операции с недвижимостью</td>\n",
       "    </tr>\n",
       "    <tr>\n",
       "      <th>7</th>\n",
       "      <td>образование</td>\n",
       "      <td>получение образования</td>\n",
       "    </tr>\n",
       "    <tr>\n",
       "      <th>8</th>\n",
       "      <td>на проведение свадьбы</td>\n",
       "      <td>проведение свадьбы</td>\n",
       "    </tr>\n",
       "    <tr>\n",
       "      <th>9</th>\n",
       "      <td>покупка жилья для семьи</td>\n",
       "      <td>операции с недвижимостью</td>\n",
       "    </tr>\n",
       "    <tr>\n",
       "      <th>10</th>\n",
       "      <td>покупка недвижимости</td>\n",
       "      <td>операции с недвижимостью</td>\n",
       "    </tr>\n",
       "  </tbody>\n",
       "</table>\n",
       "</div>"
      ],
      "text/plain": [
       "                       purpose          purpose_category\n",
       "0                покупка жилья  операции с недвижимостью\n",
       "1      приобретение автомобиля    операции с автомобилем\n",
       "2                покупка жилья  операции с недвижимостью\n",
       "3   дополнительное образование     получение образования\n",
       "4              сыграть свадьбу        проведение свадьбы\n",
       "5                покупка жилья  операции с недвижимостью\n",
       "6            операции с жильем  операции с недвижимостью\n",
       "7                  образование     получение образования\n",
       "8        на проведение свадьбы        проведение свадьбы\n",
       "9      покупка жилья для семьи  операции с недвижимостью\n",
       "10        покупка недвижимости  операции с недвижимостью"
      ]
     },
     "execution_count": 34,
     "metadata": {},
     "output_type": "execute_result"
    }
   ],
   "source": [
    "data.loc[:10, ['purpose','purpose_category']]"
   ]
  },
  {
   "cell_type": "markdown",
   "id": "06d9a4db",
   "metadata": {},
   "source": [
    "Все сходится."
   ]
  },
  {
   "cell_type": "markdown",
   "id": "a9878541",
   "metadata": {},
   "source": [
    "### Ответы на вопросы.\n",
    "\n",
    "Теперь мы готовы ответить на вопросы, поставленные в начале исследования. \n",
    "\n",
    "Чтобы найти на них, для начала узнаем средний процент клиентов, которые возвращают долг вовремя."
   ]
  },
  {
   "cell_type": "code",
   "execution_count": 35,
   "id": "b09ba073",
   "metadata": {
    "scrolled": true
   },
   "outputs": [
    {
     "name": "stdout",
     "output_type": "stream",
     "text": [
      "Процент возврата: 92%\n"
     ]
    }
   ],
   "source": [
    "x = data[data['debt'] == 0]['debt'].count()\n",
    "y = data['debt'].count()\n",
    "return_percentage = x / y\n",
    "print(f'Процент возврата: {return_percentage:.0%}')"
   ]
  },
  {
   "cell_type": "markdown",
   "id": "456ce0f2",
   "metadata": {},
   "source": [
    "Мы будем использовать это соотношение, как показатель для определения зависимости между различными данными и способностью клиента возвращать долг вовремя."
   ]
  },
  {
   "cell_type": "markdown",
   "id": "2ab1bbe1",
   "metadata": {},
   "source": [
    "##### Вопрос 1:"
   ]
  },
  {
   "cell_type": "markdown",
   "id": "3326319f",
   "metadata": {},
   "source": [
    "**Есть ли зависимость между количеством детей и возвратом кредита в срок?**\n",
    "\n",
    "Теперь мы составим сводную таблицу. В качестве строк мы возьмем уникальные значения столбца `children`. Стобец `0` - обозначает количество клиентов без задолженности. Столбец `1` - количество клиентов с задолженностью. Мы также добавим столбец с соотношением значений столбца `0` к сумме столбцов, чтобы сравнивать его с процентом, полученным ранее."
   ]
  },
  {
   "cell_type": "code",
   "execution_count": 36,
   "id": "aa8e344b",
   "metadata": {
    "scrolled": false
   },
   "outputs": [
    {
     "data": {
      "text/html": [
       "<div>\n",
       "<style scoped>\n",
       "    .dataframe tbody tr th:only-of-type {\n",
       "        vertical-align: middle;\n",
       "    }\n",
       "\n",
       "    .dataframe tbody tr th {\n",
       "        vertical-align: top;\n",
       "    }\n",
       "\n",
       "    .dataframe thead th {\n",
       "        text-align: right;\n",
       "    }\n",
       "</style>\n",
       "<table border=\"1\" class=\"dataframe\">\n",
       "  <thead>\n",
       "    <tr style=\"text-align: right;\">\n",
       "      <th>debt</th>\n",
       "      <th>0</th>\n",
       "      <th>1</th>\n",
       "      <th>ratio</th>\n",
       "    </tr>\n",
       "    <tr>\n",
       "      <th>children</th>\n",
       "      <th></th>\n",
       "      <th></th>\n",
       "      <th></th>\n",
       "    </tr>\n",
       "  </thead>\n",
       "  <tbody>\n",
       "    <tr>\n",
       "      <th>0</th>\n",
       "      <td>13086.0</td>\n",
       "      <td>1063.0</td>\n",
       "      <td>0.924871</td>\n",
       "    </tr>\n",
       "    <tr>\n",
       "      <th>1</th>\n",
       "      <td>4420.0</td>\n",
       "      <td>445.0</td>\n",
       "      <td>0.908530</td>\n",
       "    </tr>\n",
       "    <tr>\n",
       "      <th>2</th>\n",
       "      <td>1929.0</td>\n",
       "      <td>202.0</td>\n",
       "      <td>0.905209</td>\n",
       "    </tr>\n",
       "    <tr>\n",
       "      <th>3</th>\n",
       "      <td>303.0</td>\n",
       "      <td>27.0</td>\n",
       "      <td>0.918182</td>\n",
       "    </tr>\n",
       "    <tr>\n",
       "      <th>4</th>\n",
       "      <td>37.0</td>\n",
       "      <td>4.0</td>\n",
       "      <td>0.902439</td>\n",
       "    </tr>\n",
       "    <tr>\n",
       "      <th>5</th>\n",
       "      <td>9.0</td>\n",
       "      <td>NaN</td>\n",
       "      <td>NaN</td>\n",
       "    </tr>\n",
       "  </tbody>\n",
       "</table>\n",
       "</div>"
      ],
      "text/plain": [
       "debt            0       1     ratio\n",
       "children                           \n",
       "0         13086.0  1063.0  0.924871\n",
       "1          4420.0   445.0  0.908530\n",
       "2          1929.0   202.0  0.905209\n",
       "3           303.0    27.0  0.918182\n",
       "4            37.0     4.0  0.902439\n",
       "5             9.0     NaN       NaN"
      ]
     },
     "metadata": {},
     "output_type": "display_data"
    }
   ],
   "source": [
    "family_pivot = data.pivot_table(index=['children'], columns='debt', values='total_income', aggfunc='count')\n",
    "family_pivot['ratio'] = family_pivot[0] / (family_pivot[0] + family_pivot[1])\n",
    "display(family_pivot)"
   ]
  },
  {
   "cell_type": "markdown",
   "id": "e52a0f80",
   "metadata": {},
   "source": [
    "##### Вывод 1:\n",
    "\n",
    "Мы можем наблюдать, что способность возвращать долг выше у клиентов без детей. Дальше наблюдается снижение показателя - чем больше детей, тем меньше вероятность вернуть кредит. Определить показатель для клиентов с 5 детьми пока не представляется возможным в виду их маленького числа."
   ]
  },
  {
   "cell_type": "markdown",
   "id": "96b7aa89",
   "metadata": {},
   "source": [
    "##### Вопрос 2:\n",
    "\n",
    "**Есть ли зависимость между семейным положением и возвратом кредита в срок?**\n",
    "\n",
    "Для ответа на этот вопрос мы снова составим сводную таблицу. На этот раз в качестве строк мы будем использовать уникальные значения столбца `family_status_id`."
   ]
  },
  {
   "cell_type": "code",
   "execution_count": 37,
   "id": "e19f1bfc",
   "metadata": {
    "scrolled": false
   },
   "outputs": [
    {
     "data": {
      "text/html": [
       "<div>\n",
       "<style scoped>\n",
       "    .dataframe tbody tr th:only-of-type {\n",
       "        vertical-align: middle;\n",
       "    }\n",
       "\n",
       "    .dataframe tbody tr th {\n",
       "        vertical-align: top;\n",
       "    }\n",
       "\n",
       "    .dataframe thead th {\n",
       "        text-align: right;\n",
       "    }\n",
       "</style>\n",
       "<table border=\"1\" class=\"dataframe\">\n",
       "  <thead>\n",
       "    <tr style=\"text-align: right;\">\n",
       "      <th>debt</th>\n",
       "      <th>0</th>\n",
       "      <th>1</th>\n",
       "      <th>ratio</th>\n",
       "    </tr>\n",
       "    <tr>\n",
       "      <th>family_status_id</th>\n",
       "      <th></th>\n",
       "      <th></th>\n",
       "      <th></th>\n",
       "    </tr>\n",
       "  </thead>\n",
       "  <tbody>\n",
       "    <tr>\n",
       "      <th>0</th>\n",
       "      <td>11449</td>\n",
       "      <td>931</td>\n",
       "      <td>0.924798</td>\n",
       "    </tr>\n",
       "    <tr>\n",
       "      <th>1</th>\n",
       "      <td>3789</td>\n",
       "      <td>388</td>\n",
       "      <td>0.907110</td>\n",
       "    </tr>\n",
       "    <tr>\n",
       "      <th>2</th>\n",
       "      <td>897</td>\n",
       "      <td>63</td>\n",
       "      <td>0.934375</td>\n",
       "    </tr>\n",
       "    <tr>\n",
       "      <th>3</th>\n",
       "      <td>1110</td>\n",
       "      <td>85</td>\n",
       "      <td>0.928870</td>\n",
       "    </tr>\n",
       "    <tr>\n",
       "      <th>4</th>\n",
       "      <td>2539</td>\n",
       "      <td>274</td>\n",
       "      <td>0.902595</td>\n",
       "    </tr>\n",
       "  </tbody>\n",
       "</table>\n",
       "</div>"
      ],
      "text/plain": [
       "debt                  0    1     ratio\n",
       "family_status_id                      \n",
       "0                 11449  931  0.924798\n",
       "1                  3789  388  0.907110\n",
       "2                   897   63  0.934375\n",
       "3                  1110   85  0.928870\n",
       "4                  2539  274  0.902595"
      ]
     },
     "metadata": {},
     "output_type": "display_data"
    }
   ],
   "source": [
    "family_pivot = data.pivot_table(index=['family_status_id'], columns='debt', values='total_income', aggfunc='count')\n",
    "family_pivot['ratio'] = family_pivot[0] / (family_pivot[0] + family_pivot[1])\n",
    "display(family_pivot)"
   ]
  },
  {
   "cell_type": "markdown",
   "id": "ba147a94",
   "metadata": {},
   "source": [
    "Чтобы было проще определить, что обозначает номер категории семейного статуса, используем метод `merge()`, чтобы соединить сводную таблицу с соответствующей таблицей-словарем:."
   ]
  },
  {
   "cell_type": "code",
   "execution_count": 38,
   "id": "e163b324",
   "metadata": {},
   "outputs": [
    {
     "data": {
      "text/html": [
       "<div>\n",
       "<style scoped>\n",
       "    .dataframe tbody tr th:only-of-type {\n",
       "        vertical-align: middle;\n",
       "    }\n",
       "\n",
       "    .dataframe tbody tr th {\n",
       "        vertical-align: top;\n",
       "    }\n",
       "\n",
       "    .dataframe thead th {\n",
       "        text-align: right;\n",
       "    }\n",
       "</style>\n",
       "<table border=\"1\" class=\"dataframe\">\n",
       "  <thead>\n",
       "    <tr style=\"text-align: right;\">\n",
       "      <th></th>\n",
       "      <th>family_status_id</th>\n",
       "      <th>0</th>\n",
       "      <th>1</th>\n",
       "      <th>ratio</th>\n",
       "      <th>family_status</th>\n",
       "    </tr>\n",
       "  </thead>\n",
       "  <tbody>\n",
       "    <tr>\n",
       "      <th>0</th>\n",
       "      <td>0</td>\n",
       "      <td>11449</td>\n",
       "      <td>931</td>\n",
       "      <td>0.924798</td>\n",
       "      <td>женат / замужем</td>\n",
       "    </tr>\n",
       "    <tr>\n",
       "      <th>1</th>\n",
       "      <td>1</td>\n",
       "      <td>3789</td>\n",
       "      <td>388</td>\n",
       "      <td>0.907110</td>\n",
       "      <td>гражданский брак</td>\n",
       "    </tr>\n",
       "    <tr>\n",
       "      <th>2</th>\n",
       "      <td>2</td>\n",
       "      <td>897</td>\n",
       "      <td>63</td>\n",
       "      <td>0.934375</td>\n",
       "      <td>вдовец / вдова</td>\n",
       "    </tr>\n",
       "    <tr>\n",
       "      <th>3</th>\n",
       "      <td>3</td>\n",
       "      <td>1110</td>\n",
       "      <td>85</td>\n",
       "      <td>0.928870</td>\n",
       "      <td>в разводе</td>\n",
       "    </tr>\n",
       "    <tr>\n",
       "      <th>4</th>\n",
       "      <td>4</td>\n",
       "      <td>2539</td>\n",
       "      <td>274</td>\n",
       "      <td>0.902595</td>\n",
       "      <td>не женат / не замужем</td>\n",
       "    </tr>\n",
       "  </tbody>\n",
       "</table>\n",
       "</div>"
      ],
      "text/plain": [
       "   family_status_id      0    1     ratio          family_status\n",
       "0                 0  11449  931  0.924798        женат / замужем\n",
       "1                 1   3789  388  0.907110       гражданский брак\n",
       "2                 2    897   63  0.934375         вдовец / вдова\n",
       "3                 3   1110   85  0.928870              в разводе\n",
       "4                 4   2539  274  0.902595  не женат / не замужем"
      ]
     },
     "metadata": {},
     "output_type": "display_data"
    }
   ],
   "source": [
    "family_pivot = family_pivot.merge(family_status_dict, on='family_status_id', how='left')\n",
    "\n",
    "display(family_pivot)"
   ]
  },
  {
   "cell_type": "markdown",
   "id": "f23b6bfc",
   "metadata": {},
   "source": [
    "##### Вывод 2:\n",
    "\n",
    "Мы наблюдаем повышенный показатель для всех вариантов, кроме клиентов, находящихся в гражданском браке и тех, кто не женат / не замужем. "
   ]
  },
  {
   "cell_type": "markdown",
   "id": "0e6d582f",
   "metadata": {},
   "source": [
    "#####  Вопрос 3:\n",
    "\n",
    "**Есть ли зависимость между уровнем дохода и возвратом кредита в срок?**\n",
    "\n",
    "Снова составим сводную таблицу. Строками теперь послужат уникальные значения столбца `total_income_category`:"
   ]
  },
  {
   "cell_type": "code",
   "execution_count": 39,
   "id": "59ff45da",
   "metadata": {
    "scrolled": false
   },
   "outputs": [
    {
     "data": {
      "text/html": [
       "<div>\n",
       "<style scoped>\n",
       "    .dataframe tbody tr th:only-of-type {\n",
       "        vertical-align: middle;\n",
       "    }\n",
       "\n",
       "    .dataframe tbody tr th {\n",
       "        vertical-align: top;\n",
       "    }\n",
       "\n",
       "    .dataframe thead th {\n",
       "        text-align: right;\n",
       "    }\n",
       "</style>\n",
       "<table border=\"1\" class=\"dataframe\">\n",
       "  <thead>\n",
       "    <tr style=\"text-align: right;\">\n",
       "      <th>debt</th>\n",
       "      <th>0</th>\n",
       "      <th>1</th>\n",
       "      <th>ratio</th>\n",
       "    </tr>\n",
       "    <tr>\n",
       "      <th>total_income_category</th>\n",
       "      <th></th>\n",
       "      <th></th>\n",
       "      <th></th>\n",
       "    </tr>\n",
       "  </thead>\n",
       "  <tbody>\n",
       "    <tr>\n",
       "      <th>A</th>\n",
       "      <td>23</td>\n",
       "      <td>2</td>\n",
       "      <td>0.920000</td>\n",
       "    </tr>\n",
       "    <tr>\n",
       "      <th>B</th>\n",
       "      <td>4685</td>\n",
       "      <td>356</td>\n",
       "      <td>0.929379</td>\n",
       "    </tr>\n",
       "    <tr>\n",
       "      <th>C</th>\n",
       "      <td>14727</td>\n",
       "      <td>1360</td>\n",
       "      <td>0.915460</td>\n",
       "    </tr>\n",
       "    <tr>\n",
       "      <th>D</th>\n",
       "      <td>329</td>\n",
       "      <td>21</td>\n",
       "      <td>0.940000</td>\n",
       "    </tr>\n",
       "    <tr>\n",
       "      <th>E</th>\n",
       "      <td>20</td>\n",
       "      <td>2</td>\n",
       "      <td>0.909091</td>\n",
       "    </tr>\n",
       "  </tbody>\n",
       "</table>\n",
       "</div>"
      ],
      "text/plain": [
       "debt                       0     1     ratio\n",
       "total_income_category                       \n",
       "A                         23     2  0.920000\n",
       "B                       4685   356  0.929379\n",
       "C                      14727  1360  0.915460\n",
       "D                        329    21  0.940000\n",
       "E                         20     2  0.909091"
      ]
     },
     "metadata": {},
     "output_type": "display_data"
    }
   ],
   "source": [
    "income_pivot = data.pivot_table(index=['total_income_category'], columns='debt', values='total_income', aggfunc='count')\n",
    "income_pivot['ratio'] = income_pivot[0] / (income_pivot[0] + income_pivot[1])\n",
    "display(income_pivot)"
   ]
  },
  {
   "cell_type": "markdown",
   "id": "e08475c1",
   "metadata": {},
   "source": [
    "#####  Вывод 3:\n",
    "\n",
    "Мы наблюдаем слегка повышенную возможность возможность кредит в срок для клиентов категории B и значительно более высокую возможность для категории D. Возможность ниже нормы для категории E."
   ]
  },
  {
   "cell_type": "markdown",
   "id": "fb3e7e9d",
   "metadata": {},
   "source": [
    "#####  Вопрос 4:\n",
    "\n",
    "**Как разные цели кредита влияют на его возврат в срок?**\n",
    "\n",
    "В последний раз составим сводную таблицу. Строками послужат уникальные значения столбца `purpose_category`:"
   ]
  },
  {
   "cell_type": "code",
   "execution_count": 40,
   "id": "4fc2745b",
   "metadata": {
    "scrolled": false
   },
   "outputs": [
    {
     "data": {
      "text/html": [
       "<div>\n",
       "<style scoped>\n",
       "    .dataframe tbody tr th:only-of-type {\n",
       "        vertical-align: middle;\n",
       "    }\n",
       "\n",
       "    .dataframe tbody tr th {\n",
       "        vertical-align: top;\n",
       "    }\n",
       "\n",
       "    .dataframe thead th {\n",
       "        text-align: right;\n",
       "    }\n",
       "</style>\n",
       "<table border=\"1\" class=\"dataframe\">\n",
       "  <thead>\n",
       "    <tr style=\"text-align: right;\">\n",
       "      <th>debt</th>\n",
       "      <th>0</th>\n",
       "      <th>1</th>\n",
       "      <th>ratio</th>\n",
       "    </tr>\n",
       "    <tr>\n",
       "      <th>purpose_category</th>\n",
       "      <th></th>\n",
       "      <th></th>\n",
       "      <th></th>\n",
       "    </tr>\n",
       "  </thead>\n",
       "  <tbody>\n",
       "    <tr>\n",
       "      <th>операции с автомобилем</th>\n",
       "      <td>3912</td>\n",
       "      <td>403</td>\n",
       "      <td>0.906605</td>\n",
       "    </tr>\n",
       "    <tr>\n",
       "      <th>операции с недвижимостью</th>\n",
       "      <td>10058</td>\n",
       "      <td>782</td>\n",
       "      <td>0.927860</td>\n",
       "    </tr>\n",
       "    <tr>\n",
       "      <th>получение образования</th>\n",
       "      <td>3652</td>\n",
       "      <td>370</td>\n",
       "      <td>0.908006</td>\n",
       "    </tr>\n",
       "    <tr>\n",
       "      <th>проведение свадьбы</th>\n",
       "      <td>2162</td>\n",
       "      <td>186</td>\n",
       "      <td>0.920784</td>\n",
       "    </tr>\n",
       "  </tbody>\n",
       "</table>\n",
       "</div>"
      ],
      "text/plain": [
       "debt                          0    1     ratio\n",
       "purpose_category                              \n",
       "операции с автомобилем     3912  403  0.906605\n",
       "операции с недвижимостью  10058  782  0.927860\n",
       "получение образования      3652  370  0.908006\n",
       "проведение свадьбы         2162  186  0.920784"
      ]
     },
     "metadata": {},
     "output_type": "display_data"
    }
   ],
   "source": [
    "purpose_pivot = data.pivot_table(index=['purpose_category'], columns='debt', values='total_income', aggfunc='count')\n",
    "purpose_pivot['ratio'] = purpose_pivot[0] / (purpose_pivot[0] + purpose_pivot[1])\n",
    "display(purpose_pivot)"
   ]
  },
  {
   "cell_type": "markdown",
   "id": "65e75d1f",
   "metadata": {},
   "source": [
    "#####  Вывод 4:\n",
    "\n",
    "Мы наблюдаем, что способность возвращать кредит в срок падает, если причиной взятия кредита были операции с автомобилем или получение образования."
   ]
  },
  {
   "cell_type": "markdown",
   "id": "05b18257",
   "metadata": {},
   "source": [
    "## Общий вывод:"
   ]
  },
  {
   "cell_type": "markdown",
   "id": "97134e68",
   "metadata": {},
   "source": [
    "Мы ответили на четыре вопроса и постановили:\n",
    "\n",
    "1. Количество детей влияет на способность оплачивать кредит в срок.\n",
    "2. Семейное положение влияет на способность оплачивать кредит в срок.\n",
    "3. Уровень дохода влияет на способность оплачивать кредит в срок.\n",
    "4. Некоторые цели кредита негативно влияют на возможность возврата кредита в срок, а именно \"операции с автомобилем\" и \"получение образования\". \n",
    "\n",
    "Несмотря на разницу лишь в паре процентов, способность клиента оплачивать кредит в срок меняется от большого множества факторов, каждый из которых стоит учитывать при построении модели кредитного скоринга."
   ]
  },
  {
   "cell_type": "code",
   "execution_count": null,
   "id": "2b3bbfcd",
   "metadata": {},
   "outputs": [],
   "source": []
  }
 ],
 "metadata": {
  "ExecuteTimeLog": [
   {
    "duration": 69,
    "start_time": "2022-05-23T11:38:15.879Z"
   },
   {
    "duration": 1077,
    "start_time": "2022-05-23T11:38:27.593Z"
   },
   {
    "duration": 86,
    "start_time": "2022-05-23T11:38:51.801Z"
   },
   {
    "duration": 92,
    "start_time": "2022-05-23T11:39:51.721Z"
   },
   {
    "duration": 86,
    "start_time": "2022-05-23T11:46:23.473Z"
   },
   {
    "duration": 33,
    "start_time": "2022-05-25T17:09:28.419Z"
   },
   {
    "duration": 1457,
    "start_time": "2022-05-25T17:17:43.549Z"
   },
   {
    "duration": 73,
    "start_time": "2022-05-25T17:37:01.121Z"
   },
   {
    "duration": 15,
    "start_time": "2022-05-25T17:39:05.726Z"
   },
   {
    "duration": 71,
    "start_time": "2022-05-25T17:39:07.734Z"
   },
   {
    "duration": 13,
    "start_time": "2022-05-25T17:39:09.422Z"
   },
   {
    "duration": 13,
    "start_time": "2022-05-25T17:40:18.823Z"
   },
   {
    "duration": 4,
    "start_time": "2022-05-25T18:14:51.749Z"
   },
   {
    "duration": 3,
    "start_time": "2022-05-25T18:15:32.803Z"
   },
   {
    "duration": 6,
    "start_time": "2022-05-25T18:18:08.390Z"
   },
   {
    "duration": 5,
    "start_time": "2022-05-25T18:31:02.414Z"
   },
   {
    "duration": 4,
    "start_time": "2022-05-25T18:31:13.101Z"
   },
   {
    "duration": 4,
    "start_time": "2022-05-25T18:31:53.093Z"
   },
   {
    "duration": 53,
    "start_time": "2022-05-26T15:34:59.894Z"
   },
   {
    "duration": 1099,
    "start_time": "2022-05-26T15:35:11.920Z"
   },
   {
    "duration": 21,
    "start_time": "2022-05-26T15:35:13.775Z"
   },
   {
    "duration": 20,
    "start_time": "2022-05-26T15:35:16.438Z"
   },
   {
    "duration": 3,
    "start_time": "2022-05-26T15:35:19.607Z"
   },
   {
    "duration": 5,
    "start_time": "2022-05-26T15:35:21.919Z"
   },
   {
    "duration": 39,
    "start_time": "2022-05-26T15:35:24.540Z"
   },
   {
    "duration": 7,
    "start_time": "2022-05-26T15:38:43.518Z"
   },
   {
    "duration": 8,
    "start_time": "2022-05-26T15:40:23.823Z"
   },
   {
    "duration": 8,
    "start_time": "2022-05-26T15:45:23.488Z"
   },
   {
    "duration": 4,
    "start_time": "2022-05-26T15:45:37.191Z"
   },
   {
    "duration": 5,
    "start_time": "2022-05-26T15:46:05.223Z"
   },
   {
    "duration": 4,
    "start_time": "2022-05-26T15:46:08.854Z"
   },
   {
    "duration": 5,
    "start_time": "2022-05-26T15:47:28.743Z"
   },
   {
    "duration": 5,
    "start_time": "2022-05-26T15:53:10.327Z"
   },
   {
    "duration": 7,
    "start_time": "2022-05-26T16:00:37.542Z"
   },
   {
    "duration": 13,
    "start_time": "2022-05-26T16:00:47.332Z"
   },
   {
    "duration": 18,
    "start_time": "2022-05-26T16:15:24.610Z"
   },
   {
    "duration": 12,
    "start_time": "2022-05-26T16:15:39.346Z"
   },
   {
    "duration": 8,
    "start_time": "2022-05-26T16:16:00.249Z"
   },
   {
    "duration": 7,
    "start_time": "2022-05-26T16:17:37.094Z"
   },
   {
    "duration": 77,
    "start_time": "2022-05-26T16:17:52.920Z"
   },
   {
    "duration": 12,
    "start_time": "2022-05-26T16:17:55.855Z"
   },
   {
    "duration": 15,
    "start_time": "2022-05-26T16:17:56.805Z"
   },
   {
    "duration": 3,
    "start_time": "2022-05-26T16:17:58.060Z"
   },
   {
    "duration": 7,
    "start_time": "2022-05-26T16:17:58.923Z"
   },
   {
    "duration": 4,
    "start_time": "2022-05-26T16:18:00.101Z"
   },
   {
    "duration": 5,
    "start_time": "2022-05-26T16:18:02.405Z"
   },
   {
    "duration": 5,
    "start_time": "2022-05-26T16:18:04.071Z"
   },
   {
    "duration": 8,
    "start_time": "2022-05-26T16:18:07.068Z"
   },
   {
    "duration": 11,
    "start_time": "2022-05-26T16:18:14.058Z"
   },
   {
    "duration": 8,
    "start_time": "2022-05-26T16:18:43.539Z"
   },
   {
    "duration": 14,
    "start_time": "2022-05-26T16:19:30.599Z"
   },
   {
    "duration": 10,
    "start_time": "2022-05-26T16:19:32.760Z"
   },
   {
    "duration": 17,
    "start_time": "2022-05-26T16:21:28.552Z"
   },
   {
    "duration": 20,
    "start_time": "2022-05-26T16:21:32.702Z"
   },
   {
    "duration": 8,
    "start_time": "2022-05-26T16:22:54.807Z"
   },
   {
    "duration": 17,
    "start_time": "2022-05-26T16:23:29.303Z"
   },
   {
    "duration": 8,
    "start_time": "2022-05-26T16:31:18.860Z"
   },
   {
    "duration": 7,
    "start_time": "2022-05-26T16:31:25.085Z"
   },
   {
    "duration": 7,
    "start_time": "2022-05-26T16:33:31.819Z"
   },
   {
    "duration": 7,
    "start_time": "2022-05-26T16:34:43.501Z"
   },
   {
    "duration": 17,
    "start_time": "2022-05-26T16:36:02.446Z"
   },
   {
    "duration": 8,
    "start_time": "2022-05-26T17:21:59.177Z"
   },
   {
    "duration": 31,
    "start_time": "2022-05-26T17:22:29.527Z"
   },
   {
    "duration": 11,
    "start_time": "2022-05-26T17:22:46.203Z"
   },
   {
    "duration": 14,
    "start_time": "2022-05-26T17:22:50.046Z"
   },
   {
    "duration": 8,
    "start_time": "2022-05-26T17:22:55.095Z"
   },
   {
    "duration": 3,
    "start_time": "2022-05-26T17:25:30.755Z"
   },
   {
    "duration": 38,
    "start_time": "2022-05-26T17:39:54.772Z"
   },
   {
    "duration": 41,
    "start_time": "2022-05-26T17:40:18.124Z"
   },
   {
    "duration": 8,
    "start_time": "2022-05-26T17:40:29.149Z"
   },
   {
    "duration": 37,
    "start_time": "2022-05-26T17:41:37.908Z"
   },
   {
    "duration": 8,
    "start_time": "2022-05-26T17:41:40.215Z"
   },
   {
    "duration": 9,
    "start_time": "2022-05-26T17:48:25.791Z"
   },
   {
    "duration": 4,
    "start_time": "2022-05-26T17:54:25.185Z"
   },
   {
    "duration": 3,
    "start_time": "2022-05-26T17:54:42.344Z"
   },
   {
    "duration": 8,
    "start_time": "2022-05-26T17:59:07.664Z"
   },
   {
    "duration": 4376,
    "start_time": "2022-05-26T17:59:31.314Z"
   },
   {
    "duration": 9,
    "start_time": "2022-05-26T18:02:53.801Z"
   },
   {
    "duration": 85,
    "start_time": "2022-05-26T18:03:19.717Z"
   },
   {
    "duration": 12,
    "start_time": "2022-05-26T18:03:19.804Z"
   },
   {
    "duration": 20,
    "start_time": "2022-05-26T18:03:19.818Z"
   },
   {
    "duration": 12,
    "start_time": "2022-05-26T18:03:19.842Z"
   },
   {
    "duration": 8,
    "start_time": "2022-05-26T18:03:19.855Z"
   },
   {
    "duration": 7,
    "start_time": "2022-05-26T18:03:19.864Z"
   },
   {
    "duration": 7,
    "start_time": "2022-05-26T18:03:19.873Z"
   },
   {
    "duration": 4,
    "start_time": "2022-05-26T18:03:19.883Z"
   },
   {
    "duration": 12,
    "start_time": "2022-05-26T18:03:19.888Z"
   },
   {
    "duration": 15,
    "start_time": "2022-05-26T18:03:19.902Z"
   },
   {
    "duration": 25,
    "start_time": "2022-05-26T18:03:19.928Z"
   },
   {
    "duration": 10,
    "start_time": "2022-05-26T18:03:19.955Z"
   },
   {
    "duration": 11,
    "start_time": "2022-05-26T18:03:25.148Z"
   },
   {
    "duration": 3,
    "start_time": "2022-05-26T18:05:07.307Z"
   },
   {
    "duration": 5,
    "start_time": "2022-05-26T18:22:55.363Z"
   },
   {
    "duration": 9,
    "start_time": "2022-05-26T18:24:18.440Z"
   },
   {
    "duration": 5,
    "start_time": "2022-05-26T18:24:29.900Z"
   },
   {
    "duration": 8,
    "start_time": "2022-05-26T18:24:31.827Z"
   },
   {
    "duration": 24,
    "start_time": "2022-05-26T18:26:34.410Z"
   },
   {
    "duration": 5,
    "start_time": "2022-05-26T18:28:02.321Z"
   },
   {
    "duration": 7,
    "start_time": "2022-05-26T18:31:29.594Z"
   },
   {
    "duration": 9,
    "start_time": "2022-05-26T18:31:38.697Z"
   },
   {
    "duration": 7,
    "start_time": "2022-05-26T18:31:52.953Z"
   },
   {
    "duration": 10,
    "start_time": "2022-05-26T18:32:06.513Z"
   },
   {
    "duration": 6,
    "start_time": "2022-05-26T18:32:09.808Z"
   },
   {
    "duration": 878,
    "start_time": "2022-05-28T17:26:39.792Z"
   },
   {
    "duration": 25,
    "start_time": "2022-05-28T17:26:40.672Z"
   },
   {
    "duration": 17,
    "start_time": "2022-05-28T17:26:40.698Z"
   },
   {
    "duration": 3,
    "start_time": "2022-05-28T17:26:40.717Z"
   },
   {
    "duration": 8,
    "start_time": "2022-05-28T17:26:40.722Z"
   },
   {
    "duration": 4,
    "start_time": "2022-05-28T17:26:40.731Z"
   },
   {
    "duration": 6,
    "start_time": "2022-05-28T17:26:40.736Z"
   },
   {
    "duration": 31,
    "start_time": "2022-05-28T17:26:40.744Z"
   },
   {
    "duration": 11,
    "start_time": "2022-05-28T17:26:40.777Z"
   },
   {
    "duration": 29,
    "start_time": "2022-05-28T17:26:40.793Z"
   },
   {
    "duration": 6,
    "start_time": "2022-05-28T17:26:40.824Z"
   },
   {
    "duration": 11,
    "start_time": "2022-05-28T17:26:40.832Z"
   },
   {
    "duration": 75,
    "start_time": "2022-05-28T17:26:52.257Z"
   },
   {
    "duration": 10,
    "start_time": "2022-05-28T17:27:05.490Z"
   },
   {
    "duration": 7,
    "start_time": "2022-05-28T17:31:15.753Z"
   },
   {
    "duration": 9,
    "start_time": "2022-05-28T17:31:43.987Z"
   },
   {
    "duration": 9,
    "start_time": "2022-05-28T17:32:08.337Z"
   },
   {
    "duration": 7,
    "start_time": "2022-05-28T17:32:26.962Z"
   },
   {
    "duration": 32,
    "start_time": "2022-05-28T17:32:41.401Z"
   },
   {
    "duration": 36,
    "start_time": "2022-05-28T17:33:01.643Z"
   },
   {
    "duration": 31,
    "start_time": "2022-05-28T17:33:07.873Z"
   },
   {
    "duration": 24,
    "start_time": "2022-05-28T17:33:17.314Z"
   },
   {
    "duration": 7,
    "start_time": "2022-05-28T17:34:17.754Z"
   },
   {
    "duration": 7,
    "start_time": "2022-05-28T17:36:27.489Z"
   },
   {
    "duration": 7,
    "start_time": "2022-05-28T17:37:15.545Z"
   },
   {
    "duration": 7,
    "start_time": "2022-05-28T17:37:30.801Z"
   },
   {
    "duration": 7,
    "start_time": "2022-05-28T17:40:17.138Z"
   },
   {
    "duration": 74,
    "start_time": "2022-05-28T17:40:37.073Z"
   },
   {
    "duration": 12,
    "start_time": "2022-05-28T17:40:37.150Z"
   },
   {
    "duration": 25,
    "start_time": "2022-05-28T17:40:37.164Z"
   },
   {
    "duration": 3,
    "start_time": "2022-05-28T17:40:37.191Z"
   },
   {
    "duration": 6,
    "start_time": "2022-05-28T17:40:37.196Z"
   },
   {
    "duration": 8,
    "start_time": "2022-05-28T17:40:37.203Z"
   },
   {
    "duration": 15,
    "start_time": "2022-05-28T17:40:37.212Z"
   },
   {
    "duration": 7,
    "start_time": "2022-05-28T17:40:37.228Z"
   },
   {
    "duration": 8,
    "start_time": "2022-05-28T17:40:37.237Z"
   },
   {
    "duration": 11,
    "start_time": "2022-05-28T17:40:37.246Z"
   },
   {
    "duration": 5,
    "start_time": "2022-05-28T17:40:37.259Z"
   },
   {
    "duration": 9,
    "start_time": "2022-05-28T17:40:37.266Z"
   },
   {
    "duration": 10,
    "start_time": "2022-05-28T17:40:38.936Z"
   },
   {
    "duration": 13,
    "start_time": "2022-05-28T17:41:01.650Z"
   },
   {
    "duration": 14,
    "start_time": "2022-05-28T17:49:00.214Z"
   },
   {
    "duration": 21,
    "start_time": "2022-05-28T17:49:22.871Z"
   },
   {
    "duration": 11,
    "start_time": "2022-05-28T17:55:06.736Z"
   },
   {
    "duration": 11,
    "start_time": "2022-05-28T17:55:13.167Z"
   },
   {
    "duration": 10,
    "start_time": "2022-05-28T17:55:22.759Z"
   },
   {
    "duration": 5,
    "start_time": "2022-05-28T17:55:37.527Z"
   },
   {
    "duration": 7,
    "start_time": "2022-05-28T17:56:22.090Z"
   },
   {
    "duration": 10,
    "start_time": "2022-05-28T17:57:52.518Z"
   },
   {
    "duration": 13,
    "start_time": "2022-05-28T17:58:15.304Z"
   },
   {
    "duration": 13,
    "start_time": "2022-05-28T17:58:21.543Z"
   },
   {
    "duration": 14,
    "start_time": "2022-05-28T17:59:12.720Z"
   },
   {
    "duration": 11,
    "start_time": "2022-05-28T17:59:34.622Z"
   },
   {
    "duration": 11,
    "start_time": "2022-05-28T17:59:39.607Z"
   },
   {
    "duration": 11,
    "start_time": "2022-05-28T17:59:45.039Z"
   },
   {
    "duration": 12,
    "start_time": "2022-05-28T18:01:16.927Z"
   },
   {
    "duration": 15,
    "start_time": "2022-05-28T18:03:34.486Z"
   },
   {
    "duration": 11,
    "start_time": "2022-05-28T18:04:22.647Z"
   },
   {
    "duration": 4,
    "start_time": "2022-05-28T18:10:30.567Z"
   },
   {
    "duration": 7,
    "start_time": "2022-05-28T18:10:38.551Z"
   },
   {
    "duration": 14,
    "start_time": "2022-05-28T18:12:37.641Z"
   },
   {
    "duration": 39,
    "start_time": "2022-05-28T18:12:52.187Z"
   },
   {
    "duration": 10,
    "start_time": "2022-05-28T18:13:47.400Z"
   },
   {
    "duration": 12,
    "start_time": "2022-05-28T18:13:55.208Z"
   },
   {
    "duration": 9,
    "start_time": "2022-05-28T18:14:03.055Z"
   },
   {
    "duration": 9,
    "start_time": "2022-05-28T18:14:05.840Z"
   },
   {
    "duration": 4,
    "start_time": "2022-05-28T18:23:37.846Z"
   },
   {
    "duration": 10,
    "start_time": "2022-05-28T18:23:57.640Z"
   },
   {
    "duration": 17,
    "start_time": "2022-05-28T18:24:57.872Z"
   },
   {
    "duration": 16,
    "start_time": "2022-05-28T18:25:07.387Z"
   },
   {
    "duration": 10,
    "start_time": "2022-05-28T18:25:49.576Z"
   },
   {
    "duration": 12,
    "start_time": "2022-05-28T18:29:04.255Z"
   },
   {
    "duration": 18,
    "start_time": "2022-05-28T18:29:15.927Z"
   },
   {
    "duration": 7,
    "start_time": "2022-05-28T18:29:41.038Z"
   },
   {
    "duration": 23,
    "start_time": "2022-05-28T18:30:02.799Z"
   },
   {
    "duration": 15,
    "start_time": "2022-05-28T18:30:40.968Z"
   },
   {
    "duration": 20,
    "start_time": "2022-05-28T18:31:26.310Z"
   },
   {
    "duration": 12,
    "start_time": "2022-05-28T18:33:57.448Z"
   },
   {
    "duration": 7,
    "start_time": "2022-05-28T18:36:18.990Z"
   },
   {
    "duration": 562,
    "start_time": "2022-05-28T18:36:51.398Z"
   },
   {
    "duration": 10,
    "start_time": "2022-05-28T18:38:36.904Z"
   },
   {
    "duration": 67,
    "start_time": "2022-05-28T18:38:55.971Z"
   },
   {
    "duration": 13,
    "start_time": "2022-05-28T18:38:56.040Z"
   },
   {
    "duration": 14,
    "start_time": "2022-05-28T18:38:56.055Z"
   },
   {
    "duration": 3,
    "start_time": "2022-05-28T18:38:56.071Z"
   },
   {
    "duration": 9,
    "start_time": "2022-05-28T18:38:56.076Z"
   },
   {
    "duration": 4,
    "start_time": "2022-05-28T18:38:56.086Z"
   },
   {
    "duration": 6,
    "start_time": "2022-05-28T18:38:56.092Z"
   },
   {
    "duration": 19,
    "start_time": "2022-05-28T18:38:56.100Z"
   },
   {
    "duration": 9,
    "start_time": "2022-05-28T18:38:56.121Z"
   },
   {
    "duration": 16,
    "start_time": "2022-05-28T18:38:56.132Z"
   },
   {
    "duration": 31,
    "start_time": "2022-05-28T18:38:56.150Z"
   },
   {
    "duration": 17,
    "start_time": "2022-05-28T18:38:56.183Z"
   },
   {
    "duration": 28,
    "start_time": "2022-05-28T18:38:56.201Z"
   },
   {
    "duration": 14,
    "start_time": "2022-05-28T18:38:56.231Z"
   },
   {
    "duration": 40,
    "start_time": "2022-05-28T18:38:56.246Z"
   },
   {
    "duration": 17,
    "start_time": "2022-05-28T18:38:59.200Z"
   },
   {
    "duration": 71,
    "start_time": "2022-05-28T18:44:58.745Z"
   },
   {
    "duration": 14,
    "start_time": "2022-05-28T18:44:58.818Z"
   },
   {
    "duration": 19,
    "start_time": "2022-05-28T18:44:58.834Z"
   },
   {
    "duration": 3,
    "start_time": "2022-05-28T18:44:58.855Z"
   },
   {
    "duration": 4,
    "start_time": "2022-05-28T18:44:58.875Z"
   },
   {
    "duration": 8,
    "start_time": "2022-05-28T18:44:58.881Z"
   },
   {
    "duration": 15,
    "start_time": "2022-05-28T18:44:58.890Z"
   },
   {
    "duration": 4,
    "start_time": "2022-05-28T18:44:58.907Z"
   },
   {
    "duration": 12,
    "start_time": "2022-05-28T18:44:58.913Z"
   },
   {
    "duration": 20,
    "start_time": "2022-05-28T18:44:58.926Z"
   },
   {
    "duration": 24,
    "start_time": "2022-05-28T18:44:58.947Z"
   },
   {
    "duration": 18,
    "start_time": "2022-05-28T18:44:58.973Z"
   },
   {
    "duration": 29,
    "start_time": "2022-05-28T18:44:58.993Z"
   },
   {
    "duration": 21,
    "start_time": "2022-05-28T18:44:59.024Z"
   },
   {
    "duration": 12,
    "start_time": "2022-05-28T18:44:59.046Z"
   },
   {
    "duration": 29,
    "start_time": "2022-05-28T18:44:59.060Z"
   },
   {
    "duration": 10,
    "start_time": "2022-05-28T18:49:14.770Z"
   },
   {
    "duration": 9,
    "start_time": "2022-05-28T18:50:08.193Z"
   },
   {
    "duration": 9,
    "start_time": "2022-05-28T18:50:13.125Z"
   },
   {
    "duration": 8,
    "start_time": "2022-05-28T18:51:02.752Z"
   },
   {
    "duration": 8,
    "start_time": "2022-05-28T18:51:34.785Z"
   },
   {
    "duration": 5,
    "start_time": "2022-05-28T18:51:57.736Z"
   },
   {
    "duration": 33,
    "start_time": "2022-05-28T18:57:50.510Z"
   },
   {
    "duration": 15,
    "start_time": "2022-05-28T19:02:56.233Z"
   },
   {
    "duration": 248,
    "start_time": "2022-05-28T19:03:11.679Z"
   },
   {
    "duration": 12,
    "start_time": "2022-05-28T19:03:46.390Z"
   },
   {
    "duration": 5,
    "start_time": "2022-05-28T19:04:24.769Z"
   },
   {
    "duration": 16,
    "start_time": "2022-05-28T19:04:26.342Z"
   },
   {
    "duration": 8,
    "start_time": "2022-05-28T19:04:27.963Z"
   },
   {
    "duration": 3,
    "start_time": "2022-05-28T19:12:28.449Z"
   },
   {
    "duration": 3,
    "start_time": "2022-05-28T19:17:28.736Z"
   },
   {
    "duration": 9,
    "start_time": "2022-05-28T19:19:48.522Z"
   },
   {
    "duration": 8,
    "start_time": "2022-05-28T19:21:06.346Z"
   },
   {
    "duration": 81,
    "start_time": "2022-05-28T19:22:35.104Z"
   },
   {
    "duration": 15,
    "start_time": "2022-05-28T19:22:35.187Z"
   },
   {
    "duration": 18,
    "start_time": "2022-05-28T19:22:35.204Z"
   },
   {
    "duration": 3,
    "start_time": "2022-05-28T19:22:35.223Z"
   },
   {
    "duration": 8,
    "start_time": "2022-05-28T19:22:35.228Z"
   },
   {
    "duration": 5,
    "start_time": "2022-05-28T19:22:35.237Z"
   },
   {
    "duration": 10,
    "start_time": "2022-05-28T19:22:35.244Z"
   },
   {
    "duration": 31,
    "start_time": "2022-05-28T19:22:35.255Z"
   },
   {
    "duration": 9,
    "start_time": "2022-05-28T19:22:35.288Z"
   },
   {
    "duration": 18,
    "start_time": "2022-05-28T19:22:35.298Z"
   },
   {
    "duration": 16,
    "start_time": "2022-05-28T19:22:35.317Z"
   },
   {
    "duration": 17,
    "start_time": "2022-05-28T19:22:35.335Z"
   },
   {
    "duration": 35,
    "start_time": "2022-05-28T19:22:35.353Z"
   },
   {
    "duration": 13,
    "start_time": "2022-05-28T19:22:35.392Z"
   },
   {
    "duration": 13,
    "start_time": "2022-05-28T19:22:35.407Z"
   },
   {
    "duration": 17,
    "start_time": "2022-05-28T19:22:35.422Z"
   },
   {
    "duration": 3,
    "start_time": "2022-05-28T19:22:35.441Z"
   },
   {
    "duration": 9,
    "start_time": "2022-05-28T19:22:35.484Z"
   },
   {
    "duration": 13,
    "start_time": "2022-05-28T19:22:35.495Z"
   },
   {
    "duration": 6,
    "start_time": "2022-05-28T19:22:35.510Z"
   },
   {
    "duration": 19,
    "start_time": "2022-05-28T19:22:35.517Z"
   },
   {
    "duration": 8,
    "start_time": "2022-05-28T19:22:35.537Z"
   },
   {
    "duration": 24,
    "start_time": "2022-05-28T19:32:48.879Z"
   },
   {
    "duration": 14,
    "start_time": "2022-05-28T19:33:15.686Z"
   },
   {
    "duration": 20,
    "start_time": "2022-05-28T19:34:01.770Z"
   },
   {
    "duration": 14,
    "start_time": "2022-05-28T19:34:06.258Z"
   },
   {
    "duration": 72,
    "start_time": "2022-05-28T19:34:58.172Z"
   },
   {
    "duration": 12,
    "start_time": "2022-05-28T19:34:58.246Z"
   },
   {
    "duration": 16,
    "start_time": "2022-05-28T19:34:58.259Z"
   },
   {
    "duration": 2,
    "start_time": "2022-05-28T19:34:58.277Z"
   },
   {
    "duration": 7,
    "start_time": "2022-05-28T19:34:58.281Z"
   },
   {
    "duration": 8,
    "start_time": "2022-05-28T19:34:58.289Z"
   },
   {
    "duration": 8,
    "start_time": "2022-05-28T19:34:58.298Z"
   },
   {
    "duration": 7,
    "start_time": "2022-05-28T19:34:58.308Z"
   },
   {
    "duration": 8,
    "start_time": "2022-05-28T19:34:58.316Z"
   },
   {
    "duration": 17,
    "start_time": "2022-05-28T19:34:58.326Z"
   },
   {
    "duration": 33,
    "start_time": "2022-05-28T19:34:58.344Z"
   },
   {
    "duration": 15,
    "start_time": "2022-05-28T19:34:58.378Z"
   },
   {
    "duration": 21,
    "start_time": "2022-05-28T19:34:58.394Z"
   },
   {
    "duration": 11,
    "start_time": "2022-05-28T19:34:58.417Z"
   },
   {
    "duration": 11,
    "start_time": "2022-05-28T19:34:58.430Z"
   },
   {
    "duration": 40,
    "start_time": "2022-05-28T19:34:58.442Z"
   },
   {
    "duration": 6,
    "start_time": "2022-05-28T19:34:58.483Z"
   },
   {
    "duration": 14,
    "start_time": "2022-05-28T19:34:58.490Z"
   },
   {
    "duration": 8,
    "start_time": "2022-05-28T19:34:58.505Z"
   },
   {
    "duration": 5,
    "start_time": "2022-05-28T19:34:58.514Z"
   },
   {
    "duration": 20,
    "start_time": "2022-05-28T19:34:58.520Z"
   },
   {
    "duration": 7,
    "start_time": "2022-05-28T19:34:58.542Z"
   },
   {
    "duration": 13,
    "start_time": "2022-05-28T19:35:01.773Z"
   },
   {
    "duration": 6,
    "start_time": "2022-05-28T19:42:27.992Z"
   },
   {
    "duration": 8,
    "start_time": "2022-05-28T19:46:13.626Z"
   },
   {
    "duration": 5,
    "start_time": "2022-05-28T19:46:25.138Z"
   },
   {
    "duration": 13,
    "start_time": "2022-05-28T19:49:28.928Z"
   },
   {
    "duration": 5,
    "start_time": "2022-05-28T19:49:46.450Z"
   },
   {
    "duration": 4,
    "start_time": "2022-05-28T19:49:52.117Z"
   },
   {
    "duration": 4,
    "start_time": "2022-05-28T19:50:58.643Z"
   },
   {
    "duration": 67,
    "start_time": "2022-05-28T19:53:14.981Z"
   },
   {
    "duration": 12,
    "start_time": "2022-05-28T19:53:15.050Z"
   },
   {
    "duration": 17,
    "start_time": "2022-05-28T19:53:15.063Z"
   },
   {
    "duration": 3,
    "start_time": "2022-05-28T19:53:15.082Z"
   },
   {
    "duration": 10,
    "start_time": "2022-05-28T19:53:15.086Z"
   },
   {
    "duration": 17,
    "start_time": "2022-05-28T19:53:15.097Z"
   },
   {
    "duration": 7,
    "start_time": "2022-05-28T19:53:15.116Z"
   },
   {
    "duration": 9,
    "start_time": "2022-05-28T19:53:15.124Z"
   },
   {
    "duration": 8,
    "start_time": "2022-05-28T19:53:15.134Z"
   },
   {
    "duration": 18,
    "start_time": "2022-05-28T19:53:15.145Z"
   },
   {
    "duration": 16,
    "start_time": "2022-05-28T19:53:15.165Z"
   },
   {
    "duration": 16,
    "start_time": "2022-05-28T19:53:15.182Z"
   },
   {
    "duration": 18,
    "start_time": "2022-05-28T19:53:15.200Z"
   },
   {
    "duration": 13,
    "start_time": "2022-05-28T19:53:15.220Z"
   },
   {
    "duration": 42,
    "start_time": "2022-05-28T19:53:15.234Z"
   },
   {
    "duration": 16,
    "start_time": "2022-05-28T19:53:15.277Z"
   },
   {
    "duration": 8,
    "start_time": "2022-05-28T19:53:15.294Z"
   },
   {
    "duration": 11,
    "start_time": "2022-05-28T19:53:15.303Z"
   },
   {
    "duration": 6,
    "start_time": "2022-05-28T19:53:15.316Z"
   },
   {
    "duration": 6,
    "start_time": "2022-05-28T19:53:15.324Z"
   },
   {
    "duration": 18,
    "start_time": "2022-05-28T19:53:15.331Z"
   },
   {
    "duration": 27,
    "start_time": "2022-05-28T19:53:15.350Z"
   },
   {
    "duration": 14,
    "start_time": "2022-05-28T19:53:15.378Z"
   },
   {
    "duration": 5,
    "start_time": "2022-05-28T19:53:46.341Z"
   },
   {
    "duration": 137,
    "start_time": "2022-05-28T19:57:16.659Z"
   },
   {
    "duration": 6,
    "start_time": "2022-05-28T19:59:07.649Z"
   },
   {
    "duration": 5,
    "start_time": "2022-05-28T19:59:35.578Z"
   },
   {
    "duration": 6,
    "start_time": "2022-05-28T19:59:51.349Z"
   },
   {
    "duration": 9,
    "start_time": "2022-05-28T20:00:06.433Z"
   },
   {
    "duration": 6,
    "start_time": "2022-05-28T20:00:11.555Z"
   },
   {
    "duration": 11,
    "start_time": "2022-05-28T20:00:32.055Z"
   },
   {
    "duration": 5,
    "start_time": "2022-05-28T20:00:34.753Z"
   },
   {
    "duration": 29,
    "start_time": "2022-05-28T20:04:48.148Z"
   },
   {
    "duration": 25,
    "start_time": "2022-05-28T20:04:53.674Z"
   },
   {
    "duration": 27,
    "start_time": "2022-05-28T20:04:58.149Z"
   },
   {
    "duration": 5,
    "start_time": "2022-05-28T20:05:14.571Z"
   },
   {
    "duration": 5,
    "start_time": "2022-05-28T20:05:20.926Z"
   },
   {
    "duration": 5,
    "start_time": "2022-05-28T20:05:24.250Z"
   },
   {
    "duration": 5,
    "start_time": "2022-05-28T20:11:16.779Z"
   },
   {
    "duration": 6,
    "start_time": "2022-05-28T20:11:24.354Z"
   },
   {
    "duration": 35,
    "start_time": "2022-05-28T20:20:57.119Z"
   },
   {
    "duration": 43,
    "start_time": "2022-05-28T20:21:11.946Z"
   },
   {
    "duration": 36,
    "start_time": "2022-05-28T20:21:51.026Z"
   },
   {
    "duration": 41,
    "start_time": "2022-05-28T20:22:11.865Z"
   },
   {
    "duration": 35,
    "start_time": "2022-05-28T20:23:33.857Z"
   },
   {
    "duration": 23,
    "start_time": "2022-05-28T20:25:20.821Z"
   },
   {
    "duration": 35,
    "start_time": "2022-05-28T20:27:37.025Z"
   },
   {
    "duration": 17,
    "start_time": "2022-05-28T20:28:23.977Z"
   },
   {
    "duration": 16,
    "start_time": "2022-05-28T20:28:53.058Z"
   },
   {
    "duration": 16,
    "start_time": "2022-05-28T20:29:38.129Z"
   },
   {
    "duration": 15,
    "start_time": "2022-05-28T20:29:48.026Z"
   },
   {
    "duration": 13,
    "start_time": "2022-05-28T20:30:00.717Z"
   },
   {
    "duration": 7,
    "start_time": "2022-05-28T20:34:22.560Z"
   },
   {
    "duration": 6,
    "start_time": "2022-05-28T20:34:43.936Z"
   },
   {
    "duration": 7,
    "start_time": "2022-05-28T20:34:53.937Z"
   },
   {
    "duration": 6,
    "start_time": "2022-05-28T20:35:17.672Z"
   },
   {
    "duration": 4,
    "start_time": "2022-05-28T20:35:31.519Z"
   },
   {
    "duration": 25,
    "start_time": "2022-05-28T20:36:42.848Z"
   },
   {
    "duration": 15,
    "start_time": "2022-05-28T20:36:50.536Z"
   },
   {
    "duration": 18,
    "start_time": "2022-05-28T20:36:56.432Z"
   },
   {
    "duration": 21,
    "start_time": "2022-05-28T20:37:15.015Z"
   },
   {
    "duration": 5,
    "start_time": "2022-05-28T20:37:50.464Z"
   },
   {
    "duration": 20,
    "start_time": "2022-05-28T20:39:15.151Z"
   },
   {
    "duration": 34,
    "start_time": "2022-05-28T20:39:20.831Z"
   },
   {
    "duration": 32,
    "start_time": "2022-05-28T20:39:25.191Z"
   },
   {
    "duration": 37,
    "start_time": "2022-05-28T20:39:36.176Z"
   },
   {
    "duration": 44,
    "start_time": "2022-05-28T20:39:40.369Z"
   },
   {
    "duration": 45,
    "start_time": "2022-05-28T20:39:44.528Z"
   },
   {
    "duration": 4,
    "start_time": "2022-05-28T20:43:09.360Z"
   },
   {
    "duration": 5,
    "start_time": "2022-05-28T20:45:41.424Z"
   },
   {
    "duration": 67,
    "start_time": "2022-05-28T20:47:58.982Z"
   },
   {
    "duration": 13,
    "start_time": "2022-05-28T20:47:59.051Z"
   },
   {
    "duration": 58,
    "start_time": "2022-05-28T20:47:59.066Z"
   },
   {
    "duration": 3,
    "start_time": "2022-05-28T20:47:59.126Z"
   },
   {
    "duration": 6,
    "start_time": "2022-05-28T20:47:59.131Z"
   },
   {
    "duration": 5,
    "start_time": "2022-05-28T20:47:59.139Z"
   },
   {
    "duration": 6,
    "start_time": "2022-05-28T20:47:59.145Z"
   },
   {
    "duration": 10,
    "start_time": "2022-05-28T20:47:59.152Z"
   },
   {
    "duration": 4,
    "start_time": "2022-05-28T20:47:59.164Z"
   },
   {
    "duration": 8,
    "start_time": "2022-05-28T20:47:59.170Z"
   },
   {
    "duration": 21,
    "start_time": "2022-05-28T20:47:59.180Z"
   },
   {
    "duration": 16,
    "start_time": "2022-05-28T20:47:59.203Z"
   },
   {
    "duration": 28,
    "start_time": "2022-05-28T20:47:59.220Z"
   },
   {
    "duration": 61,
    "start_time": "2022-05-28T20:47:59.249Z"
   },
   {
    "duration": 27,
    "start_time": "2022-05-28T20:47:59.312Z"
   },
   {
    "duration": 75,
    "start_time": "2022-05-28T20:47:59.341Z"
   },
   {
    "duration": 12,
    "start_time": "2022-05-28T20:47:59.418Z"
   },
   {
    "duration": 14,
    "start_time": "2022-05-28T20:47:59.432Z"
   },
   {
    "duration": 28,
    "start_time": "2022-05-28T20:47:59.447Z"
   },
   {
    "duration": 6,
    "start_time": "2022-05-28T20:47:59.479Z"
   },
   {
    "duration": 25,
    "start_time": "2022-05-28T20:47:59.486Z"
   },
   {
    "duration": 11,
    "start_time": "2022-05-28T20:47:59.513Z"
   },
   {
    "duration": 8,
    "start_time": "2022-05-28T20:47:59.526Z"
   },
   {
    "duration": 23,
    "start_time": "2022-05-28T20:47:59.536Z"
   },
   {
    "duration": 16,
    "start_time": "2022-05-28T20:47:59.561Z"
   },
   {
    "duration": 19,
    "start_time": "2022-05-28T20:47:59.579Z"
   },
   {
    "duration": 21,
    "start_time": "2022-05-28T20:48:12.828Z"
   },
   {
    "duration": 8,
    "start_time": "2022-05-28T20:54:00.726Z"
   },
   {
    "duration": 5,
    "start_time": "2022-05-28T20:54:03.758Z"
   },
   {
    "duration": 5,
    "start_time": "2022-05-28T20:56:26.044Z"
   },
   {
    "duration": 137,
    "start_time": "2022-05-28T21:05:44.608Z"
   },
   {
    "duration": 22,
    "start_time": "2022-05-28T21:05:44.749Z"
   },
   {
    "duration": 47,
    "start_time": "2022-05-28T21:05:44.773Z"
   },
   {
    "duration": 3,
    "start_time": "2022-05-28T21:05:44.821Z"
   },
   {
    "duration": 9,
    "start_time": "2022-05-28T21:05:44.826Z"
   },
   {
    "duration": 3,
    "start_time": "2022-05-28T21:05:44.837Z"
   },
   {
    "duration": 6,
    "start_time": "2022-05-28T21:05:44.842Z"
   },
   {
    "duration": 5,
    "start_time": "2022-05-28T21:05:44.850Z"
   },
   {
    "duration": 40,
    "start_time": "2022-05-28T21:07:59.630Z"
   },
   {
    "duration": 6,
    "start_time": "2022-05-28T21:10:39.959Z"
   },
   {
    "duration": 5,
    "start_time": "2022-05-28T21:11:41.519Z"
   },
   {
    "duration": 5,
    "start_time": "2022-05-28T21:11:57.952Z"
   },
   {
    "duration": 105,
    "start_time": "2022-05-28T21:12:25.016Z"
   },
   {
    "duration": 12,
    "start_time": "2022-05-28T21:12:25.123Z"
   },
   {
    "duration": 17,
    "start_time": "2022-05-28T21:12:25.136Z"
   },
   {
    "duration": 3,
    "start_time": "2022-05-28T21:12:25.155Z"
   },
   {
    "duration": 8,
    "start_time": "2022-05-28T21:12:25.159Z"
   },
   {
    "duration": 4,
    "start_time": "2022-05-28T21:12:25.168Z"
   },
   {
    "duration": 6,
    "start_time": "2022-05-28T21:12:25.174Z"
   },
   {
    "duration": 6,
    "start_time": "2022-05-28T21:12:25.181Z"
   },
   {
    "duration": 6,
    "start_time": "2022-05-28T21:12:25.189Z"
   },
   {
    "duration": 5,
    "start_time": "2022-05-28T21:12:25.196Z"
   },
   {
    "duration": 4,
    "start_time": "2022-05-28T21:12:25.203Z"
   },
   {
    "duration": 14,
    "start_time": "2022-05-28T21:12:25.208Z"
   },
   {
    "duration": 53,
    "start_time": "2022-05-28T21:12:25.224Z"
   },
   {
    "duration": 31,
    "start_time": "2022-05-28T21:12:25.281Z"
   },
   {
    "duration": 28,
    "start_time": "2022-05-28T21:12:25.314Z"
   },
   {
    "duration": 58,
    "start_time": "2022-05-28T21:12:25.344Z"
   },
   {
    "duration": 12,
    "start_time": "2022-05-28T21:12:25.404Z"
   },
   {
    "duration": 11,
    "start_time": "2022-05-28T21:12:25.417Z"
   },
   {
    "duration": 12,
    "start_time": "2022-05-28T21:12:25.429Z"
   },
   {
    "duration": 5,
    "start_time": "2022-05-28T21:12:25.442Z"
   },
   {
    "duration": 34,
    "start_time": "2022-05-28T21:12:25.449Z"
   },
   {
    "duration": 7,
    "start_time": "2022-05-28T21:12:25.484Z"
   },
   {
    "duration": 5,
    "start_time": "2022-05-28T21:12:25.493Z"
   },
   {
    "duration": 20,
    "start_time": "2022-05-28T21:12:25.499Z"
   },
   {
    "duration": 8,
    "start_time": "2022-05-28T21:12:25.520Z"
   },
   {
    "duration": 16,
    "start_time": "2022-05-28T21:12:25.529Z"
   },
   {
    "duration": 20,
    "start_time": "2022-05-28T21:12:27.670Z"
   },
   {
    "duration": 5,
    "start_time": "2022-05-28T21:31:00.319Z"
   },
   {
    "duration": 4,
    "start_time": "2022-05-28T21:36:57.946Z"
   },
   {
    "duration": 8,
    "start_time": "2022-05-28T21:37:10.007Z"
   },
   {
    "duration": 5,
    "start_time": "2022-05-28T21:37:14.042Z"
   },
   {
    "duration": 5,
    "start_time": "2022-05-28T21:38:17.009Z"
   },
   {
    "duration": 5,
    "start_time": "2022-05-28T21:38:27.033Z"
   },
   {
    "duration": 79,
    "start_time": "2022-05-28T21:38:36.743Z"
   },
   {
    "duration": 12,
    "start_time": "2022-05-28T21:38:36.824Z"
   },
   {
    "duration": 16,
    "start_time": "2022-05-28T21:38:36.837Z"
   },
   {
    "duration": 3,
    "start_time": "2022-05-28T21:38:36.855Z"
   },
   {
    "duration": 19,
    "start_time": "2022-05-28T21:38:36.859Z"
   },
   {
    "duration": 15,
    "start_time": "2022-05-28T21:38:36.879Z"
   },
   {
    "duration": 7,
    "start_time": "2022-05-28T21:38:36.895Z"
   },
   {
    "duration": 11,
    "start_time": "2022-05-28T21:38:36.905Z"
   },
   {
    "duration": 7,
    "start_time": "2022-05-28T21:38:36.918Z"
   },
   {
    "duration": 6,
    "start_time": "2022-05-28T21:38:36.928Z"
   },
   {
    "duration": 6,
    "start_time": "2022-05-28T21:38:36.936Z"
   },
   {
    "duration": 14,
    "start_time": "2022-05-28T21:38:36.943Z"
   },
   {
    "duration": 51,
    "start_time": "2022-05-28T21:38:36.958Z"
   },
   {
    "duration": 30,
    "start_time": "2022-05-28T21:38:37.010Z"
   },
   {
    "duration": 42,
    "start_time": "2022-05-28T21:38:37.041Z"
   },
   {
    "duration": 35,
    "start_time": "2022-05-28T21:38:37.089Z"
   },
   {
    "duration": 11,
    "start_time": "2022-05-28T21:38:37.126Z"
   },
   {
    "duration": 10,
    "start_time": "2022-05-28T21:38:37.138Z"
   },
   {
    "duration": 38,
    "start_time": "2022-05-28T21:38:37.150Z"
   },
   {
    "duration": 5,
    "start_time": "2022-05-28T21:38:37.189Z"
   },
   {
    "duration": 16,
    "start_time": "2022-05-28T21:38:37.196Z"
   },
   {
    "duration": 10,
    "start_time": "2022-05-28T21:38:37.214Z"
   },
   {
    "duration": 6,
    "start_time": "2022-05-28T21:38:37.226Z"
   },
   {
    "duration": 44,
    "start_time": "2022-05-28T21:38:37.234Z"
   },
   {
    "duration": 14,
    "start_time": "2022-05-28T21:38:37.279Z"
   },
   {
    "duration": 14,
    "start_time": "2022-05-28T21:38:37.295Z"
   },
   {
    "duration": 5,
    "start_time": "2022-05-28T21:38:39.945Z"
   },
   {
    "duration": 4,
    "start_time": "2022-05-28T21:38:49.804Z"
   },
   {
    "duration": 13,
    "start_time": "2022-05-28T21:39:31.698Z"
   },
   {
    "duration": 75,
    "start_time": "2022-05-28T21:39:37.711Z"
   },
   {
    "duration": 12,
    "start_time": "2022-05-28T21:39:37.788Z"
   },
   {
    "duration": 27,
    "start_time": "2022-05-28T21:39:37.802Z"
   },
   {
    "duration": 22,
    "start_time": "2022-05-28T21:39:37.831Z"
   },
   {
    "duration": 13,
    "start_time": "2022-05-28T21:39:37.855Z"
   },
   {
    "duration": 12,
    "start_time": "2022-05-28T21:39:37.870Z"
   },
   {
    "duration": 20,
    "start_time": "2022-05-28T21:39:37.883Z"
   },
   {
    "duration": 19,
    "start_time": "2022-05-28T21:39:37.904Z"
   },
   {
    "duration": 25,
    "start_time": "2022-05-28T21:39:37.924Z"
   },
   {
    "duration": 17,
    "start_time": "2022-05-28T21:39:37.951Z"
   },
   {
    "duration": 28,
    "start_time": "2022-05-28T21:39:37.970Z"
   },
   {
    "duration": 23,
    "start_time": "2022-05-28T21:39:38.000Z"
   },
   {
    "duration": 41,
    "start_time": "2022-05-28T21:39:38.025Z"
   },
   {
    "duration": 40,
    "start_time": "2022-05-28T21:39:38.068Z"
   },
   {
    "duration": 56,
    "start_time": "2022-05-28T21:39:38.112Z"
   },
   {
    "duration": 43,
    "start_time": "2022-05-28T21:39:38.169Z"
   },
   {
    "duration": 14,
    "start_time": "2022-05-28T21:39:38.214Z"
   },
   {
    "duration": 28,
    "start_time": "2022-05-28T21:39:38.230Z"
   },
   {
    "duration": 31,
    "start_time": "2022-05-28T21:39:38.260Z"
   },
   {
    "duration": 26,
    "start_time": "2022-05-28T21:39:38.293Z"
   },
   {
    "duration": 32,
    "start_time": "2022-05-28T21:39:38.321Z"
   },
   {
    "duration": 13,
    "start_time": "2022-05-28T21:39:38.356Z"
   },
   {
    "duration": 22,
    "start_time": "2022-05-28T21:39:38.371Z"
   },
   {
    "duration": 40,
    "start_time": "2022-05-28T21:39:38.395Z"
   },
   {
    "duration": 19,
    "start_time": "2022-05-28T21:39:38.437Z"
   },
   {
    "duration": 35,
    "start_time": "2022-05-28T21:39:38.457Z"
   },
   {
    "duration": 12,
    "start_time": "2022-05-28T21:39:39.969Z"
   },
   {
    "duration": 5,
    "start_time": "2022-05-28T21:40:48.648Z"
   },
   {
    "duration": 6,
    "start_time": "2022-05-28T21:41:00.857Z"
   },
   {
    "duration": 66,
    "start_time": "2022-05-28T21:41:05.110Z"
   },
   {
    "duration": 21,
    "start_time": "2022-05-28T21:41:05.181Z"
   },
   {
    "duration": 15,
    "start_time": "2022-05-28T21:41:05.204Z"
   },
   {
    "duration": 3,
    "start_time": "2022-05-28T21:41:05.222Z"
   },
   {
    "duration": 6,
    "start_time": "2022-05-28T21:41:05.226Z"
   },
   {
    "duration": 6,
    "start_time": "2022-05-28T21:41:05.233Z"
   },
   {
    "duration": 8,
    "start_time": "2022-05-28T21:41:05.241Z"
   },
   {
    "duration": 6,
    "start_time": "2022-05-28T21:41:05.250Z"
   },
   {
    "duration": 22,
    "start_time": "2022-05-28T21:41:05.257Z"
   },
   {
    "duration": 17,
    "start_time": "2022-05-28T21:41:05.289Z"
   },
   {
    "duration": 7,
    "start_time": "2022-05-28T21:41:05.307Z"
   },
   {
    "duration": 18,
    "start_time": "2022-05-28T21:41:05.315Z"
   },
   {
    "duration": 27,
    "start_time": "2022-05-28T21:41:05.335Z"
   },
   {
    "duration": 50,
    "start_time": "2022-05-28T21:41:05.364Z"
   },
   {
    "duration": 25,
    "start_time": "2022-05-28T21:41:05.416Z"
   },
   {
    "duration": 68,
    "start_time": "2022-05-28T21:41:05.443Z"
   },
   {
    "duration": 11,
    "start_time": "2022-05-28T21:41:05.512Z"
   },
   {
    "duration": 11,
    "start_time": "2022-05-28T21:41:05.524Z"
   },
   {
    "duration": 13,
    "start_time": "2022-05-28T21:41:05.536Z"
   },
   {
    "duration": 6,
    "start_time": "2022-05-28T21:41:05.551Z"
   },
   {
    "duration": 30,
    "start_time": "2022-05-28T21:41:05.558Z"
   },
   {
    "duration": 27,
    "start_time": "2022-05-28T21:41:05.590Z"
   },
   {
    "duration": 5,
    "start_time": "2022-05-28T21:41:05.618Z"
   },
   {
    "duration": 23,
    "start_time": "2022-05-28T21:41:05.625Z"
   },
   {
    "duration": 8,
    "start_time": "2022-05-28T21:41:05.649Z"
   },
   {
    "duration": 15,
    "start_time": "2022-05-28T21:41:05.658Z"
   },
   {
    "duration": 11,
    "start_time": "2022-05-28T21:41:07.528Z"
   },
   {
    "duration": 5,
    "start_time": "2022-05-28T21:42:21.265Z"
   },
   {
    "duration": 208,
    "start_time": "2022-05-28T21:42:41.416Z"
   },
   {
    "duration": 4,
    "start_time": "2022-05-28T21:43:03.744Z"
   },
   {
    "duration": 520,
    "start_time": "2022-05-28T21:43:07.465Z"
   },
   {
    "duration": 5,
    "start_time": "2022-05-28T21:43:21.840Z"
   },
   {
    "duration": 10,
    "start_time": "2022-05-28T21:43:33.969Z"
   },
   {
    "duration": 8,
    "start_time": "2022-05-28T21:43:49.256Z"
   },
   {
    "duration": 8,
    "start_time": "2022-05-28T21:44:00.512Z"
   },
   {
    "duration": 4,
    "start_time": "2022-05-28T21:50:04.905Z"
   },
   {
    "duration": 4,
    "start_time": "2022-05-28T21:54:40.646Z"
   },
   {
    "duration": 9,
    "start_time": "2022-05-28T22:00:54.516Z"
   },
   {
    "duration": 14,
    "start_time": "2022-05-28T22:01:04.670Z"
   },
   {
    "duration": 12,
    "start_time": "2022-05-28T22:01:15.351Z"
   },
   {
    "duration": 9,
    "start_time": "2022-05-28T22:02:20.855Z"
   },
   {
    "duration": 6,
    "start_time": "2022-05-28T22:02:23.403Z"
   },
   {
    "duration": 21,
    "start_time": "2022-05-28T22:04:35.074Z"
   },
   {
    "duration": 16,
    "start_time": "2022-05-28T22:05:37.555Z"
   },
   {
    "duration": 22,
    "start_time": "2022-05-28T22:06:44.651Z"
   },
   {
    "duration": 15,
    "start_time": "2022-05-28T22:07:11.981Z"
   },
   {
    "duration": 11,
    "start_time": "2022-05-28T22:08:45.699Z"
   },
   {
    "duration": 22,
    "start_time": "2022-05-28T22:08:58.171Z"
   },
   {
    "duration": 16,
    "start_time": "2022-05-28T22:09:01.835Z"
   },
   {
    "duration": 5,
    "start_time": "2022-05-28T22:15:09.226Z"
   },
   {
    "duration": 12,
    "start_time": "2022-05-28T22:15:34.833Z"
   },
   {
    "duration": 15,
    "start_time": "2022-05-28T22:23:34.489Z"
   },
   {
    "duration": 17,
    "start_time": "2022-05-28T22:23:51.389Z"
   },
   {
    "duration": 16,
    "start_time": "2022-05-28T22:24:12.923Z"
   },
   {
    "duration": 12,
    "start_time": "2022-05-28T22:25:23.191Z"
   },
   {
    "duration": 12,
    "start_time": "2022-05-28T22:25:37.854Z"
   },
   {
    "duration": 12,
    "start_time": "2022-05-28T22:25:56.518Z"
   },
   {
    "duration": 4,
    "start_time": "2022-05-28T22:30:29.490Z"
   },
   {
    "duration": 8,
    "start_time": "2022-05-28T22:30:43.494Z"
   },
   {
    "duration": 11,
    "start_time": "2022-05-28T22:31:44.331Z"
   },
   {
    "duration": 5,
    "start_time": "2022-05-28T22:35:30.992Z"
   },
   {
    "duration": 24,
    "start_time": "2022-05-28T22:35:45.686Z"
   },
   {
    "duration": 7,
    "start_time": "2022-05-28T22:37:20.037Z"
   },
   {
    "duration": 24,
    "start_time": "2022-05-28T22:37:29.949Z"
   },
   {
    "duration": 19,
    "start_time": "2022-05-28T22:37:52.090Z"
   },
   {
    "duration": 21,
    "start_time": "2022-05-28T22:37:57.014Z"
   },
   {
    "duration": 3,
    "start_time": "2022-05-28T22:42:38.524Z"
   },
   {
    "duration": 11,
    "start_time": "2022-05-28T22:42:55.860Z"
   },
   {
    "duration": 9,
    "start_time": "2022-05-28T22:42:57.876Z"
   },
   {
    "duration": 11,
    "start_time": "2022-05-28T22:43:11.486Z"
   },
   {
    "duration": 46,
    "start_time": "2022-05-28T22:44:44.627Z"
   },
   {
    "duration": 49,
    "start_time": "2022-05-28T22:44:54.970Z"
   },
   {
    "duration": 81,
    "start_time": "2022-05-28T22:45:57.229Z"
   },
   {
    "duration": 67,
    "start_time": "2022-05-28T22:46:06.023Z"
   },
   {
    "duration": 13,
    "start_time": "2022-05-28T22:46:06.091Z"
   },
   {
    "duration": 16,
    "start_time": "2022-05-28T22:46:06.105Z"
   },
   {
    "duration": 3,
    "start_time": "2022-05-28T22:46:06.123Z"
   },
   {
    "duration": 7,
    "start_time": "2022-05-28T22:46:06.128Z"
   },
   {
    "duration": 4,
    "start_time": "2022-05-28T22:46:06.136Z"
   },
   {
    "duration": 5,
    "start_time": "2022-05-28T22:46:06.141Z"
   },
   {
    "duration": 28,
    "start_time": "2022-05-28T22:46:06.148Z"
   },
   {
    "duration": 5,
    "start_time": "2022-05-28T22:46:06.177Z"
   },
   {
    "duration": 12,
    "start_time": "2022-05-28T22:46:06.184Z"
   },
   {
    "duration": 8,
    "start_time": "2022-05-28T22:46:06.198Z"
   },
   {
    "duration": 18,
    "start_time": "2022-05-28T22:46:06.208Z"
   },
   {
    "duration": 53,
    "start_time": "2022-05-28T22:46:06.228Z"
   },
   {
    "duration": 33,
    "start_time": "2022-05-28T22:46:06.284Z"
   },
   {
    "duration": 30,
    "start_time": "2022-05-28T22:46:06.319Z"
   },
   {
    "duration": 61,
    "start_time": "2022-05-28T22:46:06.350Z"
   },
   {
    "duration": 13,
    "start_time": "2022-05-28T22:46:06.413Z"
   },
   {
    "duration": 47,
    "start_time": "2022-05-28T22:46:06.428Z"
   },
   {
    "duration": 15,
    "start_time": "2022-05-28T22:46:06.476Z"
   },
   {
    "duration": 5,
    "start_time": "2022-05-28T22:46:06.492Z"
   },
   {
    "duration": 10,
    "start_time": "2022-05-28T22:46:06.498Z"
   },
   {
    "duration": 8,
    "start_time": "2022-05-28T22:46:06.509Z"
   },
   {
    "duration": 5,
    "start_time": "2022-05-28T22:46:06.518Z"
   },
   {
    "duration": 20,
    "start_time": "2022-05-28T22:46:06.525Z"
   },
   {
    "duration": 41,
    "start_time": "2022-05-28T22:46:06.546Z"
   },
   {
    "duration": 15,
    "start_time": "2022-05-28T22:46:06.588Z"
   },
   {
    "duration": 27,
    "start_time": "2022-05-28T22:46:06.604Z"
   },
   {
    "duration": 21,
    "start_time": "2022-05-28T22:46:06.632Z"
   },
   {
    "duration": 48,
    "start_time": "2022-05-28T22:46:08.339Z"
   },
   {
    "duration": 64,
    "start_time": "2022-05-28T22:47:02.155Z"
   },
   {
    "duration": 11,
    "start_time": "2022-05-28T22:48:39.834Z"
   },
   {
    "duration": 20,
    "start_time": "2022-05-28T22:48:51.234Z"
   },
   {
    "duration": 70,
    "start_time": "2022-05-28T22:49:10.666Z"
   },
   {
    "duration": 3,
    "start_time": "2022-05-28T22:53:43.322Z"
   },
   {
    "duration": 4,
    "start_time": "2022-05-28T22:54:08.993Z"
   },
   {
    "duration": 12,
    "start_time": "2022-05-28T22:54:22.346Z"
   },
   {
    "duration": 8,
    "start_time": "2022-05-28T22:54:45.406Z"
   },
   {
    "duration": 16,
    "start_time": "2022-05-28T22:54:47.283Z"
   },
   {
    "duration": 10,
    "start_time": "2022-05-28T22:55:07.754Z"
   },
   {
    "duration": 10,
    "start_time": "2022-05-28T22:55:09.761Z"
   },
   {
    "duration": 27,
    "start_time": "2022-05-28T22:55:22.170Z"
   },
   {
    "duration": 11,
    "start_time": "2022-05-28T22:55:29.355Z"
   },
   {
    "duration": 11,
    "start_time": "2022-05-28T23:15:26.627Z"
   },
   {
    "duration": 23,
    "start_time": "2022-05-28T23:15:32.188Z"
   },
   {
    "duration": 9,
    "start_time": "2022-05-28T23:15:35.128Z"
   },
   {
    "duration": 9,
    "start_time": "2022-05-28T23:15:39.559Z"
   },
   {
    "duration": 9,
    "start_time": "2022-05-28T23:15:43.760Z"
   },
   {
    "duration": 8,
    "start_time": "2022-05-28T23:15:47.014Z"
   },
   {
    "duration": 58,
    "start_time": "2022-05-28T23:17:03.664Z"
   },
   {
    "duration": 53,
    "start_time": "2022-05-28T23:17:09.775Z"
   },
   {
    "duration": 60,
    "start_time": "2022-05-28T23:17:35.176Z"
   },
   {
    "duration": 73,
    "start_time": "2022-05-28T23:18:59.829Z"
   },
   {
    "duration": 63,
    "start_time": "2022-05-28T23:19:35.230Z"
   },
   {
    "duration": 11,
    "start_time": "2022-05-28T23:22:18.223Z"
   },
   {
    "duration": 11,
    "start_time": "2022-05-28T23:23:04.130Z"
   },
   {
    "duration": 5,
    "start_time": "2022-05-28T23:23:43.225Z"
   },
   {
    "duration": 5,
    "start_time": "2022-05-28T23:24:17.133Z"
   },
   {
    "duration": 33,
    "start_time": "2022-05-28T23:24:56.158Z"
   },
   {
    "duration": 24,
    "start_time": "2022-05-28T23:25:10.083Z"
   },
   {
    "duration": 41,
    "start_time": "2022-05-28T23:25:42.287Z"
   },
   {
    "duration": 15,
    "start_time": "2022-05-28T23:25:52.726Z"
   },
   {
    "duration": 19,
    "start_time": "2022-05-28T23:26:38.802Z"
   },
   {
    "duration": 75,
    "start_time": "2022-05-28T23:30:15.153Z"
   },
   {
    "duration": 12,
    "start_time": "2022-05-28T23:30:15.229Z"
   },
   {
    "duration": 15,
    "start_time": "2022-05-28T23:30:15.242Z"
   },
   {
    "duration": 4,
    "start_time": "2022-05-28T23:30:15.258Z"
   },
   {
    "duration": 12,
    "start_time": "2022-05-28T23:30:15.274Z"
   },
   {
    "duration": 8,
    "start_time": "2022-05-28T23:30:15.289Z"
   },
   {
    "duration": 6,
    "start_time": "2022-05-28T23:30:15.298Z"
   },
   {
    "duration": 8,
    "start_time": "2022-05-28T23:30:15.305Z"
   },
   {
    "duration": 5,
    "start_time": "2022-05-28T23:30:15.314Z"
   },
   {
    "duration": 6,
    "start_time": "2022-05-28T23:30:15.321Z"
   },
   {
    "duration": 5,
    "start_time": "2022-05-28T23:30:15.329Z"
   },
   {
    "duration": 13,
    "start_time": "2022-05-28T23:30:15.336Z"
   },
   {
    "duration": 51,
    "start_time": "2022-05-28T23:30:15.351Z"
   },
   {
    "duration": 30,
    "start_time": "2022-05-28T23:30:15.403Z"
   },
   {
    "duration": 27,
    "start_time": "2022-05-28T23:30:15.434Z"
   },
   {
    "duration": 41,
    "start_time": "2022-05-28T23:30:15.474Z"
   },
   {
    "duration": 11,
    "start_time": "2022-05-28T23:30:15.516Z"
   },
   {
    "duration": 10,
    "start_time": "2022-05-28T23:30:15.528Z"
   },
   {
    "duration": 13,
    "start_time": "2022-05-28T23:30:15.540Z"
   },
   {
    "duration": 12,
    "start_time": "2022-05-28T23:30:15.576Z"
   },
   {
    "duration": 9,
    "start_time": "2022-05-28T23:30:15.590Z"
   },
   {
    "duration": 8,
    "start_time": "2022-05-28T23:30:15.601Z"
   },
   {
    "duration": 5,
    "start_time": "2022-05-28T23:30:15.610Z"
   },
   {
    "duration": 19,
    "start_time": "2022-05-28T23:30:15.616Z"
   },
   {
    "duration": 7,
    "start_time": "2022-05-28T23:30:15.636Z"
   },
   {
    "duration": 12,
    "start_time": "2022-05-28T23:30:15.644Z"
   },
   {
    "duration": 7,
    "start_time": "2022-05-28T23:31:18.763Z"
   },
   {
    "duration": 12,
    "start_time": "2022-05-28T23:31:40.651Z"
   },
   {
    "duration": 12,
    "start_time": "2022-05-28T23:31:57.585Z"
   },
   {
    "duration": 12,
    "start_time": "2022-05-28T23:32:41.373Z"
   },
   {
    "duration": 13,
    "start_time": "2022-05-28T23:33:25.718Z"
   },
   {
    "duration": 11,
    "start_time": "2022-05-28T23:33:55.347Z"
   },
   {
    "duration": 14,
    "start_time": "2022-05-28T23:34:18.829Z"
   },
   {
    "duration": 14,
    "start_time": "2022-05-28T23:36:05.831Z"
   },
   {
    "duration": 37,
    "start_time": "2022-05-28T23:36:17.025Z"
   },
   {
    "duration": 23,
    "start_time": "2022-05-28T23:36:19.668Z"
   },
   {
    "duration": 51,
    "start_time": "2022-05-28T23:38:27.771Z"
   },
   {
    "duration": 13,
    "start_time": "2022-05-28T23:38:57.906Z"
   },
   {
    "duration": 14,
    "start_time": "2022-05-28T23:40:10.326Z"
   },
   {
    "duration": 22,
    "start_time": "2022-05-28T23:40:23.386Z"
   },
   {
    "duration": 11,
    "start_time": "2022-05-28T23:40:28.531Z"
   },
   {
    "duration": 26,
    "start_time": "2022-05-28T23:41:22.034Z"
   },
   {
    "duration": 21,
    "start_time": "2022-05-28T23:41:35.206Z"
   },
   {
    "duration": 401,
    "start_time": "2022-05-28T23:41:56.922Z"
   },
   {
    "duration": 393,
    "start_time": "2022-05-28T23:42:01.333Z"
   },
   {
    "duration": 80,
    "start_time": "2022-05-28T23:42:10.366Z"
   },
   {
    "duration": 12,
    "start_time": "2022-05-28T23:42:10.448Z"
   },
   {
    "duration": 20,
    "start_time": "2022-05-28T23:42:10.462Z"
   },
   {
    "duration": 11,
    "start_time": "2022-05-28T23:42:10.483Z"
   },
   {
    "duration": 6,
    "start_time": "2022-05-28T23:42:10.496Z"
   },
   {
    "duration": 4,
    "start_time": "2022-05-28T23:42:10.503Z"
   },
   {
    "duration": 6,
    "start_time": "2022-05-28T23:42:10.508Z"
   },
   {
    "duration": 7,
    "start_time": "2022-05-28T23:42:10.516Z"
   },
   {
    "duration": 6,
    "start_time": "2022-05-28T23:42:10.525Z"
   },
   {
    "duration": 11,
    "start_time": "2022-05-28T23:42:10.532Z"
   },
   {
    "duration": 6,
    "start_time": "2022-05-28T23:42:10.545Z"
   },
   {
    "duration": 45,
    "start_time": "2022-05-28T23:42:10.552Z"
   },
   {
    "duration": 25,
    "start_time": "2022-05-28T23:42:10.598Z"
   },
   {
    "duration": 34,
    "start_time": "2022-05-28T23:42:10.626Z"
   },
   {
    "duration": 39,
    "start_time": "2022-05-28T23:42:10.675Z"
   },
   {
    "duration": 59,
    "start_time": "2022-05-28T23:42:10.716Z"
   },
   {
    "duration": 13,
    "start_time": "2022-05-28T23:42:10.784Z"
   },
   {
    "duration": 11,
    "start_time": "2022-05-28T23:42:10.798Z"
   },
   {
    "duration": 11,
    "start_time": "2022-05-28T23:42:10.811Z"
   },
   {
    "duration": 5,
    "start_time": "2022-05-28T23:42:10.824Z"
   },
   {
    "duration": 13,
    "start_time": "2022-05-28T23:42:10.830Z"
   },
   {
    "duration": 41,
    "start_time": "2022-05-28T23:42:10.845Z"
   },
   {
    "duration": 5,
    "start_time": "2022-05-28T23:42:10.891Z"
   },
   {
    "duration": 21,
    "start_time": "2022-05-28T23:42:10.897Z"
   },
   {
    "duration": 9,
    "start_time": "2022-05-28T23:42:10.919Z"
   },
   {
    "duration": 16,
    "start_time": "2022-05-28T23:42:10.929Z"
   },
   {
    "duration": 8,
    "start_time": "2022-05-28T23:42:10.947Z"
   },
   {
    "duration": 403,
    "start_time": "2022-05-28T23:42:12.290Z"
   },
   {
    "duration": 10,
    "start_time": "2022-05-28T23:42:32.117Z"
   },
   {
    "duration": 9,
    "start_time": "2022-05-28T23:42:43.726Z"
   },
   {
    "duration": 48,
    "start_time": "2022-05-28T23:42:52.838Z"
   },
   {
    "duration": 30,
    "start_time": "2022-05-28T23:43:04.630Z"
   },
   {
    "duration": 47,
    "start_time": "2022-05-28T23:43:23.787Z"
   },
   {
    "duration": 26,
    "start_time": "2022-05-28T23:44:03.826Z"
   },
   {
    "duration": 21,
    "start_time": "2022-05-28T23:44:19.129Z"
   },
   {
    "duration": 27,
    "start_time": "2022-05-28T23:44:24.340Z"
   },
   {
    "duration": 44,
    "start_time": "2022-05-28T23:46:10.161Z"
   },
   {
    "duration": 32,
    "start_time": "2022-05-28T23:46:36.990Z"
   },
   {
    "duration": 26,
    "start_time": "2022-05-28T23:46:57.990Z"
   },
   {
    "duration": 11,
    "start_time": "2022-05-28T23:48:24.961Z"
   },
   {
    "duration": 21,
    "start_time": "2022-05-28T23:49:01.648Z"
   },
   {
    "duration": 21,
    "start_time": "2022-05-28T23:49:27.125Z"
   },
   {
    "duration": 16,
    "start_time": "2022-05-28T23:51:02.825Z"
   },
   {
    "duration": 27,
    "start_time": "2022-05-28T23:53:09.472Z"
   },
   {
    "duration": 15,
    "start_time": "2022-05-28T23:54:03.359Z"
   },
   {
    "duration": 15,
    "start_time": "2022-05-28T23:54:12.465Z"
   },
   {
    "duration": 14,
    "start_time": "2022-05-28T23:54:54.265Z"
   },
   {
    "duration": 26,
    "start_time": "2022-05-28T23:55:02.288Z"
   },
   {
    "duration": 13,
    "start_time": "2022-05-28T23:55:35.287Z"
   },
   {
    "duration": 33,
    "start_time": "2022-05-28T23:56:14.016Z"
   },
   {
    "duration": 17,
    "start_time": "2022-05-28T23:56:19.032Z"
   },
   {
    "duration": 43,
    "start_time": "2022-05-28T23:56:31.121Z"
   },
   {
    "duration": 8,
    "start_time": "2022-05-28T23:56:55.382Z"
   },
   {
    "duration": 18,
    "start_time": "2022-05-28T23:57:08.446Z"
   },
   {
    "duration": 22,
    "start_time": "2022-05-29T00:02:17.670Z"
   },
   {
    "duration": 375,
    "start_time": "2022-05-29T00:03:22.516Z"
   },
   {
    "duration": 17,
    "start_time": "2022-05-29T00:03:41.853Z"
   },
   {
    "duration": 385,
    "start_time": "2022-05-29T00:05:45.935Z"
   },
   {
    "duration": 25,
    "start_time": "2022-05-29T00:05:58.164Z"
   },
   {
    "duration": 7,
    "start_time": "2022-05-29T00:07:26.005Z"
   },
   {
    "duration": 5,
    "start_time": "2022-05-29T00:07:31.453Z"
   },
   {
    "duration": 3,
    "start_time": "2022-05-29T00:08:05.133Z"
   },
   {
    "duration": 13,
    "start_time": "2022-05-29T00:09:37.587Z"
   },
   {
    "duration": 6,
    "start_time": "2022-05-29T00:10:02.949Z"
   },
   {
    "duration": 7,
    "start_time": "2022-05-29T00:10:32.632Z"
   },
   {
    "duration": 12,
    "start_time": "2022-05-29T00:10:40.773Z"
   },
   {
    "duration": 11,
    "start_time": "2022-05-29T00:10:51.632Z"
   },
   {
    "duration": 12,
    "start_time": "2022-05-29T00:11:55.081Z"
   },
   {
    "duration": 19,
    "start_time": "2022-05-29T00:28:12.190Z"
   },
   {
    "duration": 22,
    "start_time": "2022-05-29T00:28:29.731Z"
   },
   {
    "duration": 17,
    "start_time": "2022-05-29T00:33:28.153Z"
   },
   {
    "duration": 26,
    "start_time": "2022-05-29T00:35:33.666Z"
   },
   {
    "duration": 24,
    "start_time": "2022-05-29T00:35:36.517Z"
   },
   {
    "duration": 17,
    "start_time": "2022-05-29T00:35:59.691Z"
   },
   {
    "duration": 20,
    "start_time": "2022-05-29T00:36:18.473Z"
   },
   {
    "duration": 27,
    "start_time": "2022-05-29T00:36:24.864Z"
   },
   {
    "duration": 10,
    "start_time": "2022-05-29T00:38:31.642Z"
   },
   {
    "duration": 18,
    "start_time": "2022-05-29T00:38:34.089Z"
   },
   {
    "duration": 16,
    "start_time": "2022-05-29T00:38:41.248Z"
   },
   {
    "duration": 9,
    "start_time": "2022-05-29T00:41:41.367Z"
   },
   {
    "duration": 20,
    "start_time": "2022-05-29T00:47:36.727Z"
   },
   {
    "duration": 21,
    "start_time": "2022-05-29T00:47:39.832Z"
   },
   {
    "duration": 24,
    "start_time": "2022-05-29T00:58:49.818Z"
   },
   {
    "duration": 18,
    "start_time": "2022-05-29T01:01:13.817Z"
   },
   {
    "duration": 17,
    "start_time": "2022-05-29T01:01:26.970Z"
   },
   {
    "duration": 17,
    "start_time": "2022-05-29T01:01:33.230Z"
   },
   {
    "duration": 18,
    "start_time": "2022-05-29T01:01:42.430Z"
   },
   {
    "duration": 16,
    "start_time": "2022-05-29T01:01:49.636Z"
   },
   {
    "duration": 19,
    "start_time": "2022-05-29T01:01:55.650Z"
   },
   {
    "duration": 10,
    "start_time": "2022-05-29T01:02:03.138Z"
   },
   {
    "duration": 8,
    "start_time": "2022-05-29T01:04:01.798Z"
   },
   {
    "duration": 7,
    "start_time": "2022-05-29T01:04:08.241Z"
   },
   {
    "duration": 8,
    "start_time": "2022-05-29T01:04:12.521Z"
   },
   {
    "duration": 6,
    "start_time": "2022-05-29T01:05:27.934Z"
   },
   {
    "duration": 25,
    "start_time": "2022-05-29T01:07:28.963Z"
   },
   {
    "duration": 6,
    "start_time": "2022-05-29T01:07:51.332Z"
   },
   {
    "duration": 16,
    "start_time": "2022-05-29T01:08:17.249Z"
   },
   {
    "duration": 17,
    "start_time": "2022-05-29T01:08:25.243Z"
   },
   {
    "duration": 18,
    "start_time": "2022-05-29T01:08:32.508Z"
   },
   {
    "duration": 16,
    "start_time": "2022-05-29T01:08:59.449Z"
   },
   {
    "duration": 17,
    "start_time": "2022-05-29T01:09:11.920Z"
   },
   {
    "duration": 18,
    "start_time": "2022-05-29T01:09:35.538Z"
   },
   {
    "duration": 12,
    "start_time": "2022-05-29T01:13:12.968Z"
   },
   {
    "duration": 18,
    "start_time": "2022-05-29T01:13:54.039Z"
   },
   {
    "duration": 18,
    "start_time": "2022-05-29T01:14:45.726Z"
   },
   {
    "duration": 7,
    "start_time": "2022-05-29T01:15:17.224Z"
   },
   {
    "duration": 14,
    "start_time": "2022-05-29T01:15:28.776Z"
   },
   {
    "duration": 6,
    "start_time": "2022-05-29T01:15:37.344Z"
   },
   {
    "duration": 6,
    "start_time": "2022-05-29T01:16:00.629Z"
   },
   {
    "duration": 12,
    "start_time": "2022-05-29T01:17:14.072Z"
   },
   {
    "duration": 25,
    "start_time": "2022-05-29T01:17:19.567Z"
   },
   {
    "duration": 15,
    "start_time": "2022-05-29T01:17:27.309Z"
   },
   {
    "duration": 17,
    "start_time": "2022-05-29T01:17:32.389Z"
   },
   {
    "duration": 23,
    "start_time": "2022-05-29T01:17:36.574Z"
   },
   {
    "duration": 162,
    "start_time": "2022-05-29T01:20:05.935Z"
   },
   {
    "duration": 304,
    "start_time": "2022-05-29T01:20:11.142Z"
   },
   {
    "duration": 11,
    "start_time": "2022-05-29T01:20:33.927Z"
   },
   {
    "duration": 9,
    "start_time": "2022-05-29T01:20:49.227Z"
   },
   {
    "duration": 10,
    "start_time": "2022-05-29T01:21:24.062Z"
   },
   {
    "duration": 12,
    "start_time": "2022-05-29T01:21:27.837Z"
   },
   {
    "duration": 11,
    "start_time": "2022-05-29T01:21:30.927Z"
   },
   {
    "duration": 8,
    "start_time": "2022-05-29T01:21:35.558Z"
   },
   {
    "duration": 12,
    "start_time": "2022-05-29T01:21:38.636Z"
   },
   {
    "duration": 59,
    "start_time": "2022-05-29T10:14:58.959Z"
   },
   {
    "duration": 6,
    "start_time": "2022-05-29T10:15:09.740Z"
   },
   {
    "duration": 394,
    "start_time": "2022-05-29T10:15:48.554Z"
   },
   {
    "duration": 123,
    "start_time": "2022-05-29T10:15:54.354Z"
   },
   {
    "duration": 18,
    "start_time": "2022-05-29T10:15:59.010Z"
   },
   {
    "duration": 25,
    "start_time": "2022-05-29T10:16:00.426Z"
   },
   {
    "duration": 32,
    "start_time": "2022-05-29T10:16:03.361Z"
   },
   {
    "duration": 11,
    "start_time": "2022-05-29T10:16:26.524Z"
   },
   {
    "duration": 7,
    "start_time": "2022-05-29T10:20:06.954Z"
   },
   {
    "duration": 6,
    "start_time": "2022-05-29T10:29:16.361Z"
   },
   {
    "duration": 16,
    "start_time": "2022-05-29T10:30:22.841Z"
   },
   {
    "duration": 253,
    "start_time": "2022-05-29T10:30:35.992Z"
   },
   {
    "duration": 9,
    "start_time": "2022-05-29T10:31:05.448Z"
   },
   {
    "duration": 9,
    "start_time": "2022-05-29T10:31:35.990Z"
   },
   {
    "duration": 7,
    "start_time": "2022-05-29T10:32:50.144Z"
   },
   {
    "duration": 7,
    "start_time": "2022-05-29T10:33:14.243Z"
   },
   {
    "duration": 8,
    "start_time": "2022-05-29T10:33:28.221Z"
   },
   {
    "duration": 12,
    "start_time": "2022-05-29T10:38:14.052Z"
   },
   {
    "duration": 5,
    "start_time": "2022-05-29T10:40:54.716Z"
   },
   {
    "duration": 44,
    "start_time": "2022-05-29T10:41:10.444Z"
   },
   {
    "duration": 7,
    "start_time": "2022-05-29T10:41:56.180Z"
   },
   {
    "duration": 4,
    "start_time": "2022-05-29T10:46:31.236Z"
   },
   {
    "duration": 8,
    "start_time": "2022-05-29T10:46:36.636Z"
   },
   {
    "duration": 5,
    "start_time": "2022-05-29T10:56:19.159Z"
   },
   {
    "duration": 9,
    "start_time": "2022-05-29T10:57:11.609Z"
   },
   {
    "duration": 6,
    "start_time": "2022-05-29T10:58:06.391Z"
   },
   {
    "duration": 14,
    "start_time": "2022-05-29T10:58:22.580Z"
   },
   {
    "duration": 8,
    "start_time": "2022-05-29T10:58:29.261Z"
   },
   {
    "duration": 6,
    "start_time": "2022-05-29T10:58:52.877Z"
   },
   {
    "duration": 95,
    "start_time": "2022-05-29T10:58:52.885Z"
   },
   {
    "duration": 16,
    "start_time": "2022-05-29T10:58:52.983Z"
   },
   {
    "duration": 22,
    "start_time": "2022-05-29T10:58:53.001Z"
   },
   {
    "duration": 10,
    "start_time": "2022-05-29T10:58:53.025Z"
   },
   {
    "duration": 5,
    "start_time": "2022-05-29T10:58:53.037Z"
   },
   {
    "duration": 4,
    "start_time": "2022-05-29T10:58:53.043Z"
   },
   {
    "duration": 16,
    "start_time": "2022-05-29T10:58:53.049Z"
   },
   {
    "duration": 18,
    "start_time": "2022-05-29T10:58:53.075Z"
   },
   {
    "duration": 7,
    "start_time": "2022-05-29T10:58:53.095Z"
   },
   {
    "duration": 8,
    "start_time": "2022-05-29T10:58:53.103Z"
   },
   {
    "duration": 9,
    "start_time": "2022-05-29T10:58:53.112Z"
   },
   {
    "duration": 9,
    "start_time": "2022-05-29T10:58:53.122Z"
   },
   {
    "duration": 5,
    "start_time": "2022-05-29T10:58:53.132Z"
   },
   {
    "duration": 6,
    "start_time": "2022-05-29T10:58:53.138Z"
   },
   {
    "duration": 8,
    "start_time": "2022-05-29T10:58:53.145Z"
   },
   {
    "duration": 21,
    "start_time": "2022-05-29T10:58:53.154Z"
   },
   {
    "duration": 14,
    "start_time": "2022-05-29T10:58:55.273Z"
   },
   {
    "duration": 5,
    "start_time": "2022-05-29T11:14:21.051Z"
   },
   {
    "duration": 4,
    "start_time": "2022-05-29T11:14:23.821Z"
   },
   {
    "duration": 8,
    "start_time": "2022-05-29T11:15:29.301Z"
   },
   {
    "duration": 40,
    "start_time": "2022-05-29T11:17:33.544Z"
   },
   {
    "duration": 4,
    "start_time": "2022-05-29T11:21:36.304Z"
   },
   {
    "duration": 3,
    "start_time": "2022-05-29T11:21:44.611Z"
   },
   {
    "duration": 81,
    "start_time": "2022-05-29T11:21:44.616Z"
   },
   {
    "duration": 13,
    "start_time": "2022-05-29T11:21:44.699Z"
   },
   {
    "duration": 18,
    "start_time": "2022-05-29T11:21:44.713Z"
   },
   {
    "duration": 9,
    "start_time": "2022-05-29T11:21:44.733Z"
   },
   {
    "duration": 10,
    "start_time": "2022-05-29T11:21:44.744Z"
   },
   {
    "duration": 25,
    "start_time": "2022-05-29T11:21:44.755Z"
   },
   {
    "duration": 12,
    "start_time": "2022-05-29T11:21:44.781Z"
   },
   {
    "duration": 8,
    "start_time": "2022-05-29T11:21:44.795Z"
   },
   {
    "duration": 5,
    "start_time": "2022-05-29T11:21:44.804Z"
   },
   {
    "duration": 6,
    "start_time": "2022-05-29T11:21:44.810Z"
   },
   {
    "duration": 9,
    "start_time": "2022-05-29T11:21:44.818Z"
   },
   {
    "duration": 10,
    "start_time": "2022-05-29T11:21:44.829Z"
   },
   {
    "duration": 8,
    "start_time": "2022-05-29T11:21:44.841Z"
   },
   {
    "duration": 24,
    "start_time": "2022-05-29T11:21:44.851Z"
   },
   {
    "duration": 8,
    "start_time": "2022-05-29T11:21:44.877Z"
   },
   {
    "duration": 9,
    "start_time": "2022-05-29T11:21:44.886Z"
   },
   {
    "duration": 8,
    "start_time": "2022-05-29T11:21:44.897Z"
   },
   {
    "duration": 8,
    "start_time": "2022-05-29T11:21:44.907Z"
   },
   {
    "duration": 18,
    "start_time": "2022-05-29T11:21:44.917Z"
   },
   {
    "duration": 67,
    "start_time": "2022-05-29T11:21:44.937Z"
   },
   {
    "duration": 32,
    "start_time": "2022-05-29T11:21:45.005Z"
   },
   {
    "duration": 42,
    "start_time": "2022-05-29T11:21:45.038Z"
   },
   {
    "duration": 36,
    "start_time": "2022-05-29T11:21:45.081Z"
   },
   {
    "duration": 12,
    "start_time": "2022-05-29T11:21:45.118Z"
   },
   {
    "duration": 10,
    "start_time": "2022-05-29T11:21:45.131Z"
   },
   {
    "duration": 12,
    "start_time": "2022-05-29T11:21:45.142Z"
   },
   {
    "duration": 4,
    "start_time": "2022-05-29T11:21:45.180Z"
   },
   {
    "duration": 15,
    "start_time": "2022-05-29T11:21:45.186Z"
   },
   {
    "duration": 9,
    "start_time": "2022-05-29T11:21:45.202Z"
   },
   {
    "duration": 4,
    "start_time": "2022-05-29T11:21:45.213Z"
   },
   {
    "duration": 3,
    "start_time": "2022-05-29T11:21:47.286Z"
   },
   {
    "duration": 15,
    "start_time": "2022-05-29T11:21:51.441Z"
   },
   {
    "duration": 8,
    "start_time": "2022-05-29T11:21:53.630Z"
   },
   {
    "duration": 3,
    "start_time": "2022-05-29T11:22:33.630Z"
   },
   {
    "duration": 8,
    "start_time": "2022-05-29T11:22:35.908Z"
   },
   {
    "duration": 8,
    "start_time": "2022-05-29T11:22:37.665Z"
   },
   {
    "duration": 48,
    "start_time": "2022-05-29T11:26:02.665Z"
   },
   {
    "duration": 24,
    "start_time": "2022-05-29T11:26:10.711Z"
   },
   {
    "duration": 25,
    "start_time": "2022-05-29T11:26:27.665Z"
   },
   {
    "duration": 22,
    "start_time": "2022-05-29T11:26:51.703Z"
   },
   {
    "duration": 13,
    "start_time": "2022-05-29T11:27:55.848Z"
   },
   {
    "duration": 24,
    "start_time": "2022-05-29T11:28:09.384Z"
   },
   {
    "duration": 7,
    "start_time": "2022-05-29T11:30:03.991Z"
   },
   {
    "duration": 39,
    "start_time": "2022-05-29T11:30:14.966Z"
   },
   {
    "duration": 34,
    "start_time": "2022-05-29T11:30:38.599Z"
   },
   {
    "duration": 7,
    "start_time": "2022-05-29T11:30:44.720Z"
   },
   {
    "duration": 31,
    "start_time": "2022-05-29T11:30:50.198Z"
   },
   {
    "duration": 17,
    "start_time": "2022-05-29T11:30:53.471Z"
   },
   {
    "duration": 35,
    "start_time": "2022-05-29T11:30:55.353Z"
   },
   {
    "duration": 7,
    "start_time": "2022-05-29T11:32:33.546Z"
   },
   {
    "duration": 23,
    "start_time": "2022-05-29T11:32:44.695Z"
   },
   {
    "duration": 26,
    "start_time": "2022-05-29T11:32:52.304Z"
   },
   {
    "duration": 19,
    "start_time": "2022-05-29T11:33:33.381Z"
   },
   {
    "duration": 24,
    "start_time": "2022-05-29T11:33:53.091Z"
   },
   {
    "duration": 21,
    "start_time": "2022-05-29T11:34:47.974Z"
   },
   {
    "duration": 17,
    "start_time": "2022-05-29T11:35:05.053Z"
   },
   {
    "duration": 16,
    "start_time": "2022-05-29T11:40:44.137Z"
   },
   {
    "duration": 11,
    "start_time": "2022-05-29T11:40:56.614Z"
   },
   {
    "duration": 12,
    "start_time": "2022-05-29T11:41:08.622Z"
   },
   {
    "duration": 2,
    "start_time": "2022-05-29T11:41:14.814Z"
   },
   {
    "duration": 73,
    "start_time": "2022-05-29T11:41:14.820Z"
   },
   {
    "duration": 13,
    "start_time": "2022-05-29T11:41:14.895Z"
   },
   {
    "duration": 16,
    "start_time": "2022-05-29T11:41:14.909Z"
   },
   {
    "duration": 8,
    "start_time": "2022-05-29T11:41:14.927Z"
   },
   {
    "duration": 4,
    "start_time": "2022-05-29T11:41:14.937Z"
   },
   {
    "duration": 5,
    "start_time": "2022-05-29T11:41:14.942Z"
   },
   {
    "duration": 26,
    "start_time": "2022-05-29T11:41:14.949Z"
   },
   {
    "duration": 5,
    "start_time": "2022-05-29T11:41:14.976Z"
   },
   {
    "duration": 7,
    "start_time": "2022-05-29T11:41:14.983Z"
   },
   {
    "duration": 38,
    "start_time": "2022-05-29T11:41:14.991Z"
   },
   {
    "duration": 14,
    "start_time": "2022-05-29T11:41:15.031Z"
   },
   {
    "duration": 11,
    "start_time": "2022-05-29T11:41:15.046Z"
   },
   {
    "duration": 6,
    "start_time": "2022-05-29T11:41:15.058Z"
   },
   {
    "duration": 9,
    "start_time": "2022-05-29T11:41:15.067Z"
   },
   {
    "duration": 20,
    "start_time": "2022-05-29T11:41:15.077Z"
   },
   {
    "duration": 7,
    "start_time": "2022-05-29T11:41:15.100Z"
   },
   {
    "duration": 10,
    "start_time": "2022-05-29T11:41:15.109Z"
   },
   {
    "duration": 6,
    "start_time": "2022-05-29T11:41:15.121Z"
   },
   {
    "duration": 15,
    "start_time": "2022-05-29T11:41:15.128Z"
   },
   {
    "duration": 47,
    "start_time": "2022-05-29T11:41:15.145Z"
   },
   {
    "duration": 36,
    "start_time": "2022-05-29T11:41:15.195Z"
   },
   {
    "duration": 64,
    "start_time": "2022-05-29T11:41:15.233Z"
   },
   {
    "duration": 77,
    "start_time": "2022-05-29T11:41:15.299Z"
   },
   {
    "duration": 14,
    "start_time": "2022-05-29T11:41:15.379Z"
   },
   {
    "duration": 21,
    "start_time": "2022-05-29T11:41:15.395Z"
   },
   {
    "duration": 22,
    "start_time": "2022-05-29T11:41:15.418Z"
   },
   {
    "duration": 6,
    "start_time": "2022-05-29T11:41:15.442Z"
   },
   {
    "duration": 31,
    "start_time": "2022-05-29T11:41:15.449Z"
   },
   {
    "duration": 9,
    "start_time": "2022-05-29T11:41:15.481Z"
   },
   {
    "duration": 7,
    "start_time": "2022-05-29T11:41:15.491Z"
   },
   {
    "duration": 9,
    "start_time": "2022-05-29T11:41:15.500Z"
   },
   {
    "duration": 11,
    "start_time": "2022-05-29T11:41:15.511Z"
   },
   {
    "duration": 8,
    "start_time": "2022-05-29T11:41:15.524Z"
   },
   {
    "duration": 13,
    "start_time": "2022-05-29T11:41:15.534Z"
   },
   {
    "duration": 47,
    "start_time": "2022-05-29T11:41:15.549Z"
   },
   {
    "duration": 19,
    "start_time": "2022-05-29T11:41:15.598Z"
   },
   {
    "duration": 12,
    "start_time": "2022-05-29T11:41:17.294Z"
   },
   {
    "duration": 3,
    "start_time": "2022-05-29T11:43:02.622Z"
   },
   {
    "duration": 81,
    "start_time": "2022-05-29T11:43:02.627Z"
   },
   {
    "duration": 13,
    "start_time": "2022-05-29T11:43:02.710Z"
   },
   {
    "duration": 18,
    "start_time": "2022-05-29T11:43:02.726Z"
   },
   {
    "duration": 30,
    "start_time": "2022-05-29T11:43:02.746Z"
   },
   {
    "duration": 6,
    "start_time": "2022-05-29T11:43:02.778Z"
   },
   {
    "duration": 5,
    "start_time": "2022-05-29T11:43:02.786Z"
   },
   {
    "duration": 11,
    "start_time": "2022-05-29T11:43:02.793Z"
   },
   {
    "duration": 18,
    "start_time": "2022-05-29T11:43:02.807Z"
   },
   {
    "duration": 8,
    "start_time": "2022-05-29T11:43:02.827Z"
   },
   {
    "duration": 11,
    "start_time": "2022-05-29T11:43:02.837Z"
   },
   {
    "duration": 27,
    "start_time": "2022-05-29T11:43:02.849Z"
   },
   {
    "duration": 15,
    "start_time": "2022-05-29T11:43:02.878Z"
   },
   {
    "duration": 8,
    "start_time": "2022-05-29T11:43:02.895Z"
   },
   {
    "duration": 12,
    "start_time": "2022-05-29T11:43:02.905Z"
   },
   {
    "duration": 19,
    "start_time": "2022-05-29T11:43:02.919Z"
   },
   {
    "duration": 12,
    "start_time": "2022-05-29T11:43:02.940Z"
   },
   {
    "duration": 10,
    "start_time": "2022-05-29T11:43:02.954Z"
   },
   {
    "duration": 9,
    "start_time": "2022-05-29T11:43:02.975Z"
   },
   {
    "duration": 27,
    "start_time": "2022-05-29T11:43:02.985Z"
   },
   {
    "duration": 63,
    "start_time": "2022-05-29T11:43:03.014Z"
   },
   {
    "duration": 47,
    "start_time": "2022-05-29T11:43:03.079Z"
   },
   {
    "duration": 64,
    "start_time": "2022-05-29T11:43:03.127Z"
   },
   {
    "duration": 39,
    "start_time": "2022-05-29T11:43:03.195Z"
   },
   {
    "duration": 11,
    "start_time": "2022-05-29T11:43:03.236Z"
   },
   {
    "duration": 28,
    "start_time": "2022-05-29T11:43:03.249Z"
   },
   {
    "duration": 13,
    "start_time": "2022-05-29T11:43:03.278Z"
   },
   {
    "duration": 4,
    "start_time": "2022-05-29T11:43:03.293Z"
   },
   {
    "duration": 10,
    "start_time": "2022-05-29T11:43:03.299Z"
   },
   {
    "duration": 7,
    "start_time": "2022-05-29T11:43:03.311Z"
   },
   {
    "duration": 5,
    "start_time": "2022-05-29T11:43:03.319Z"
   },
   {
    "duration": 6,
    "start_time": "2022-05-29T11:43:03.326Z"
   },
   {
    "duration": 11,
    "start_time": "2022-05-29T11:43:03.333Z"
   },
   {
    "duration": 8,
    "start_time": "2022-05-29T11:43:03.374Z"
   },
   {
    "duration": 19,
    "start_time": "2022-05-29T11:43:03.384Z"
   },
   {
    "duration": 18,
    "start_time": "2022-05-29T11:43:03.404Z"
   },
   {
    "duration": 16,
    "start_time": "2022-05-29T11:43:03.424Z"
   },
   {
    "duration": 35,
    "start_time": "2022-05-29T11:43:03.441Z"
   },
   {
    "duration": 19,
    "start_time": "2022-05-29T11:43:03.477Z"
   },
   {
    "duration": 18,
    "start_time": "2022-05-29T11:43:03.497Z"
   }
  ],
  "kernelspec": {
   "display_name": "Python 3 (ipykernel)",
   "language": "python",
   "name": "python3"
  },
  "language_info": {
   "codemirror_mode": {
    "name": "ipython",
    "version": 3
   },
   "file_extension": ".py",
   "mimetype": "text/x-python",
   "name": "python",
   "nbconvert_exporter": "python",
   "pygments_lexer": "ipython3",
   "version": "3.9.7"
  },
  "toc": {
   "base_numbering": 1,
   "nav_menu": {},
   "number_sections": true,
   "sideBar": true,
   "skip_h1_title": true,
   "title_cell": "Table of Contents",
   "title_sidebar": "Contents",
   "toc_cell": false,
   "toc_position": {},
   "toc_section_display": true,
   "toc_window_display": false
  }
 },
 "nbformat": 4,
 "nbformat_minor": 5
}
