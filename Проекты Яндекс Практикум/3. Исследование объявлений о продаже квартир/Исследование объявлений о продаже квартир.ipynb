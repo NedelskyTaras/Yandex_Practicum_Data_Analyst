{
 "cells": [
  {
   "cell_type": "markdown",
   "metadata": {
    "toc": true
   },
   "source": [
    "<h1>Содержание<span class=\"tocSkip\"></span></h1>\n",
    "<div class=\"toc\"><ul class=\"toc-item\"><li><span><a href=\"#Изучение-данных-из-файла\" data-toc-modified-id=\"Изучение-данных-из-файла-1\"><span class=\"toc-item-num\">1&nbsp;&nbsp;</span>Изучение данных из файла</a></span><ul class=\"toc-item\"><li><span><a href=\"#Вывод\" data-toc-modified-id=\"Вывод-1.1\"><span class=\"toc-item-num\">1.1&nbsp;&nbsp;</span>Вывод</a></span></li></ul></li><li><span><a href=\"#Предобработка-данных\" data-toc-modified-id=\"Предобработка-данных-2\"><span class=\"toc-item-num\">2&nbsp;&nbsp;</span>Предобработка данных</a></span></li><li><span><a href=\"#Расчёты-и-добавление-результатов-в-таблицу\" data-toc-modified-id=\"Расчёты-и-добавление-результатов-в-таблицу-3\"><span class=\"toc-item-num\">3&nbsp;&nbsp;</span>Расчёты и добавление результатов в таблицу</a></span></li><li><span><a href=\"#Исследовательский-анализ-данных\" data-toc-modified-id=\"Исследовательский-анализ-данных-4\"><span class=\"toc-item-num\">4&nbsp;&nbsp;</span>Исследовательский анализ данных</a></span><ul class=\"toc-item\"><li><span><a href=\"#Задача-1\" data-toc-modified-id=\"Задача-1-4.1\"><span class=\"toc-item-num\">4.1&nbsp;&nbsp;</span>Задача 1</a></span></li><li><span><a href=\"#Задача-2\" data-toc-modified-id=\"Задача-2-4.2\"><span class=\"toc-item-num\">4.2&nbsp;&nbsp;</span>Задача 2</a></span><ul class=\"toc-item\"><li><span><a href=\"#Задача-3\" data-toc-modified-id=\"Задача-3-4.2.1\"><span class=\"toc-item-num\">4.2.1&nbsp;&nbsp;</span>Задача 3</a></span></li></ul></li><li><span><a href=\"#Задача-4\" data-toc-modified-id=\"Задача-4-4.3\"><span class=\"toc-item-num\">4.3&nbsp;&nbsp;</span>Задача 4</a></span><ul class=\"toc-item\"><li><span><a href=\"#Зависимость-цены-квадратного-метра-от-общей-площади-квартиры.\" data-toc-modified-id=\"Зависимость-цены-квадратного-метра-от-общей-площади-квартиры.-4.3.1\"><span class=\"toc-item-num\">4.3.1&nbsp;&nbsp;</span>Зависимость цены квадратного метра от общей площади квартиры.</a></span></li><li><span><a href=\"#Зависимость-цены-квадратного-метра-от-числа-комнат.\" data-toc-modified-id=\"Зависимость-цены-квадратного-метра-от-числа-комнат.-4.3.2\"><span class=\"toc-item-num\">4.3.2&nbsp;&nbsp;</span>Зависимость цены квадратного метра от числа комнат.</a></span></li><li><span><a href=\"#Зависимость-цены-квадратного-метра-от-удалённости-от-центра.\" data-toc-modified-id=\"Зависимость-цены-квадратного-метра-от-удалённости-от-центра.-4.3.3\"><span class=\"toc-item-num\">4.3.3&nbsp;&nbsp;</span>Зависимость цены квадратного метра от удалённости от центра.</a></span></li><li><span><a href=\"#Зависимость-цены-квадратного-метра-от-этажа.\" data-toc-modified-id=\"Зависимость-цены-квадратного-метра-от-этажа.-4.3.4\"><span class=\"toc-item-num\">4.3.4&nbsp;&nbsp;</span>Зависимость цены квадратного метра от этажа.</a></span></li><li><span><a href=\"#Зависимость-цены-квадратного-метра-от-даты-размещения:-дня-недели.\" data-toc-modified-id=\"Зависимость-цены-квадратного-метра-от-даты-размещения:-дня-недели.-4.3.5\"><span class=\"toc-item-num\">4.3.5&nbsp;&nbsp;</span>Зависимость цены квадратного метра от даты размещения: дня недели.</a></span></li><li><span><a href=\"#Зависимость-цены-квадратного-метра-от-даты-размещения:-месяца.\" data-toc-modified-id=\"Зависимость-цены-квадратного-метра-от-даты-размещения:-месяца.-4.3.6\"><span class=\"toc-item-num\">4.3.6&nbsp;&nbsp;</span>Зависимость цены квадратного метра от даты размещения: месяца.</a></span></li><li><span><a href=\"#Зависимость-цены-квадратного-метра-от-даты-размещения:-год.\" data-toc-modified-id=\"Зависимость-цены-квадратного-метра-от-даты-размещения:-год.-4.3.7\"><span class=\"toc-item-num\">4.3.7&nbsp;&nbsp;</span>Зависимость цены квадратного метра от даты размещения: год.</a></span></li></ul></li><li><span><a href=\"#Задача-5.\" data-toc-modified-id=\"Задача-5.-4.4\"><span class=\"toc-item-num\">4.4&nbsp;&nbsp;</span>Задача 5.</a></span></li><li><span><a href=\"#Задача-6\" data-toc-modified-id=\"Задача-6-4.5\"><span class=\"toc-item-num\">4.5&nbsp;&nbsp;</span>Задача 6</a></span></li><li><span><a href=\"#Задача-7\" data-toc-modified-id=\"Задача-7-4.6\"><span class=\"toc-item-num\">4.6&nbsp;&nbsp;</span>Задача 7</a></span><ul class=\"toc-item\"><li><span><a href=\"#Зависимость-стоимости-квадратного-метра-от-количества-комнат.\" data-toc-modified-id=\"Зависимость-стоимости-квадратного-метра-от-количества-комнат.-4.6.1\"><span class=\"toc-item-num\">4.6.1&nbsp;&nbsp;</span>Зависимость стоимости квадратного метра от количества комнат.</a></span></li><li><span><a href=\"#Зависимость-стоимости-квадратного-метра-от-этажа.\" data-toc-modified-id=\"Зависимость-стоимости-квадратного-метра-от-этажа.-4.6.2\"><span class=\"toc-item-num\">4.6.2&nbsp;&nbsp;</span>Зависимость стоимости квадратного метра от этажа.</a></span></li><li><span><a href=\"#Зависимость-стоимости-квадратного-метра-от-удаленности-от-центра.\" data-toc-modified-id=\"Зависимость-стоимости-квадратного-метра-от-удаленности-от-центра.-4.6.3\"><span class=\"toc-item-num\">4.6.3&nbsp;&nbsp;</span>Зависимость стоимости квадратного метра от удаленности от центра.</a></span></li><li><span><a href=\"#Зависимость-стоимости-квадратного-метра-от-дня-недели-размещения-объявления.\" data-toc-modified-id=\"Зависимость-стоимости-квадратного-метра-от-дня-недели-размещения-объявления.-4.6.4\"><span class=\"toc-item-num\">4.6.4&nbsp;&nbsp;</span>Зависимость стоимости квадратного метра от дня недели размещения объявления.</a></span></li><li><span><a href=\"#Зависимость-стоимости-квадратного-метра-от-месяца-размещения-объявления.\" data-toc-modified-id=\"Зависимость-стоимости-квадратного-метра-от-месяца-размещения-объявления.-4.6.5\"><span class=\"toc-item-num\">4.6.5&nbsp;&nbsp;</span>Зависимость стоимости квадратного метра от месяца размещения объявления.</a></span></li><li><span><a href=\"#Зависимость-стоимости-квадратного-метра-от-года-размещения-объявления.\" data-toc-modified-id=\"Зависимость-стоимости-квадратного-метра-от-года-размещения-объявления.-4.6.6\"><span class=\"toc-item-num\">4.6.6&nbsp;&nbsp;</span>Зависимость стоимости квадратного метра от года размещения объявления.</a></span></li></ul></li></ul></li><li><span><a href=\"#Общий-вывод\" data-toc-modified-id=\"Общий-вывод-5\"><span class=\"toc-item-num\">5&nbsp;&nbsp;</span>Общий вывод</a></span><ul class=\"toc-item\"><li><span><a href=\"#Предобработка-данных\" data-toc-modified-id=\"Предобработка-данных-5.1\"><span class=\"toc-item-num\">5.1&nbsp;&nbsp;</span>Предобработка данных</a></span></li><li><span><a href=\"#Расчёты-и-добавление-результатов-в-таблицу\" data-toc-modified-id=\"Расчёты-и-добавление-результатов-в-таблицу-5.2\"><span class=\"toc-item-num\">5.2&nbsp;&nbsp;</span>Расчёты и добавление результатов в таблицу</a></span></li><li><span><a href=\"#Исследовательский-анализ-данных\" data-toc-modified-id=\"Исследовательский-анализ-данных-5.3\"><span class=\"toc-item-num\">5.3&nbsp;&nbsp;</span>Исследовательский анализ данных</a></span><ul class=\"toc-item\"><li><span><a href=\"#Задача-1.\" data-toc-modified-id=\"Задача-1.-5.3.1\"><span class=\"toc-item-num\">5.3.1&nbsp;&nbsp;</span>Задача 1.</a></span></li><li><span><a href=\"#Задача-2.\" data-toc-modified-id=\"Задача-2.-5.3.2\"><span class=\"toc-item-num\">5.3.2&nbsp;&nbsp;</span>Задача 2.</a></span></li><li><span><a href=\"#Задача-3.\" data-toc-modified-id=\"Задача-3.-5.3.3\"><span class=\"toc-item-num\">5.3.3&nbsp;&nbsp;</span>Задача 3.</a></span></li><li><span><a href=\"#Задача-4.\" data-toc-modified-id=\"Задача-4.-5.3.4\"><span class=\"toc-item-num\">5.3.4&nbsp;&nbsp;</span>Задача 4.</a></span></li><li><span><a href=\"#Задача-5.\" data-toc-modified-id=\"Задача-5.-5.3.5\"><span class=\"toc-item-num\">5.3.5&nbsp;&nbsp;</span>Задача 5.</a></span></li><li><span><a href=\"#Задача-6.\" data-toc-modified-id=\"Задача-6.-5.3.6\"><span class=\"toc-item-num\">5.3.6&nbsp;&nbsp;</span>Задача 6.</a></span></li><li><span><a href=\"#Задача-7.\" data-toc-modified-id=\"Задача-7.-5.3.7\"><span class=\"toc-item-num\">5.3.7&nbsp;&nbsp;</span>Задача 7.</a></span></li></ul></li></ul></li></ul></div>"
   ]
  },
  {
   "cell_type": "markdown",
   "metadata": {},
   "source": [
    "# Исследование объявлений о продаже квартир\n",
    "\n",
    "В вашем распоряжении данные сервиса Яндекc Недвижимость — архив объявлений о продаже квартир в Санкт-Петербурге и соседних населённых пунктах за несколько лет. Нужно научиться определять рыночную стоимость объектов недвижимости. Ваша задача — установить параметры. Это позволит построить автоматизированную систему: она отследит аномалии и мошенническую деятельность. \n",
    "\n",
    "По каждой квартире на продажу доступны два вида данных. Первые вписаны пользователем, вторые получены автоматически на основе картографических данных. Например, расстояние до центра, аэропорта, ближайшего парка и водоёма. "
   ]
  },
  {
   "cell_type": "markdown",
   "metadata": {},
   "source": [
    "## Изучение данных из файла"
   ]
  },
  {
   "cell_type": "markdown",
   "metadata": {},
   "source": [
    "Импортируем библиотеку Pandas."
   ]
  },
  {
   "cell_type": "code",
   "execution_count": 1,
   "metadata": {},
   "outputs": [],
   "source": [
    "import pandas as pd"
   ]
  },
  {
   "cell_type": "markdown",
   "metadata": {},
   "source": [
    "Сохраним файл `real_estate_data.csv` в переменную `data`. Используем параметр `sep`, чтобы разделить столбцы с помощью символа `\\t`."
   ]
  },
  {
   "cell_type": "code",
   "execution_count": 2,
   "metadata": {},
   "outputs": [],
   "source": [
    "data = pd.read_csv('real_estate_data.csv', sep = '\\t')"
   ]
  },
  {
   "cell_type": "markdown",
   "metadata": {},
   "source": [
    "Откроем первые десять строк таблицы."
   ]
  },
  {
   "cell_type": "code",
   "execution_count": 3,
   "metadata": {
    "scrolled": false
   },
   "outputs": [
    {
     "data": {
      "text/html": [
       "<div>\n",
       "<style scoped>\n",
       "    .dataframe tbody tr th:only-of-type {\n",
       "        vertical-align: middle;\n",
       "    }\n",
       "\n",
       "    .dataframe tbody tr th {\n",
       "        vertical-align: top;\n",
       "    }\n",
       "\n",
       "    .dataframe thead th {\n",
       "        text-align: right;\n",
       "    }\n",
       "</style>\n",
       "<table border=\"1\" class=\"dataframe\">\n",
       "  <thead>\n",
       "    <tr style=\"text-align: right;\">\n",
       "      <th></th>\n",
       "      <th>total_images</th>\n",
       "      <th>last_price</th>\n",
       "      <th>total_area</th>\n",
       "      <th>first_day_exposition</th>\n",
       "      <th>rooms</th>\n",
       "      <th>ceiling_height</th>\n",
       "      <th>floors_total</th>\n",
       "      <th>living_area</th>\n",
       "      <th>floor</th>\n",
       "      <th>is_apartment</th>\n",
       "      <th>...</th>\n",
       "      <th>kitchen_area</th>\n",
       "      <th>balcony</th>\n",
       "      <th>locality_name</th>\n",
       "      <th>airports_nearest</th>\n",
       "      <th>cityCenters_nearest</th>\n",
       "      <th>parks_around3000</th>\n",
       "      <th>parks_nearest</th>\n",
       "      <th>ponds_around3000</th>\n",
       "      <th>ponds_nearest</th>\n",
       "      <th>days_exposition</th>\n",
       "    </tr>\n",
       "  </thead>\n",
       "  <tbody>\n",
       "    <tr>\n",
       "      <th>0</th>\n",
       "      <td>20</td>\n",
       "      <td>13000000.0</td>\n",
       "      <td>108.00</td>\n",
       "      <td>2019-03-07T00:00:00</td>\n",
       "      <td>3</td>\n",
       "      <td>2.70</td>\n",
       "      <td>16.0</td>\n",
       "      <td>51.00</td>\n",
       "      <td>8</td>\n",
       "      <td>NaN</td>\n",
       "      <td>...</td>\n",
       "      <td>25.00</td>\n",
       "      <td>NaN</td>\n",
       "      <td>Санкт-Петербург</td>\n",
       "      <td>18863.0</td>\n",
       "      <td>16028.0</td>\n",
       "      <td>1.0</td>\n",
       "      <td>482.0</td>\n",
       "      <td>2.0</td>\n",
       "      <td>755.0</td>\n",
       "      <td>NaN</td>\n",
       "    </tr>\n",
       "    <tr>\n",
       "      <th>1</th>\n",
       "      <td>7</td>\n",
       "      <td>3350000.0</td>\n",
       "      <td>40.40</td>\n",
       "      <td>2018-12-04T00:00:00</td>\n",
       "      <td>1</td>\n",
       "      <td>NaN</td>\n",
       "      <td>11.0</td>\n",
       "      <td>18.60</td>\n",
       "      <td>1</td>\n",
       "      <td>NaN</td>\n",
       "      <td>...</td>\n",
       "      <td>11.00</td>\n",
       "      <td>2.0</td>\n",
       "      <td>посёлок Шушары</td>\n",
       "      <td>12817.0</td>\n",
       "      <td>18603.0</td>\n",
       "      <td>0.0</td>\n",
       "      <td>NaN</td>\n",
       "      <td>0.0</td>\n",
       "      <td>NaN</td>\n",
       "      <td>81.0</td>\n",
       "    </tr>\n",
       "    <tr>\n",
       "      <th>2</th>\n",
       "      <td>10</td>\n",
       "      <td>5196000.0</td>\n",
       "      <td>56.00</td>\n",
       "      <td>2015-08-20T00:00:00</td>\n",
       "      <td>2</td>\n",
       "      <td>NaN</td>\n",
       "      <td>5.0</td>\n",
       "      <td>34.30</td>\n",
       "      <td>4</td>\n",
       "      <td>NaN</td>\n",
       "      <td>...</td>\n",
       "      <td>8.30</td>\n",
       "      <td>0.0</td>\n",
       "      <td>Санкт-Петербург</td>\n",
       "      <td>21741.0</td>\n",
       "      <td>13933.0</td>\n",
       "      <td>1.0</td>\n",
       "      <td>90.0</td>\n",
       "      <td>2.0</td>\n",
       "      <td>574.0</td>\n",
       "      <td>558.0</td>\n",
       "    </tr>\n",
       "    <tr>\n",
       "      <th>3</th>\n",
       "      <td>0</td>\n",
       "      <td>64900000.0</td>\n",
       "      <td>159.00</td>\n",
       "      <td>2015-07-24T00:00:00</td>\n",
       "      <td>3</td>\n",
       "      <td>NaN</td>\n",
       "      <td>14.0</td>\n",
       "      <td>NaN</td>\n",
       "      <td>9</td>\n",
       "      <td>NaN</td>\n",
       "      <td>...</td>\n",
       "      <td>NaN</td>\n",
       "      <td>0.0</td>\n",
       "      <td>Санкт-Петербург</td>\n",
       "      <td>28098.0</td>\n",
       "      <td>6800.0</td>\n",
       "      <td>2.0</td>\n",
       "      <td>84.0</td>\n",
       "      <td>3.0</td>\n",
       "      <td>234.0</td>\n",
       "      <td>424.0</td>\n",
       "    </tr>\n",
       "    <tr>\n",
       "      <th>4</th>\n",
       "      <td>2</td>\n",
       "      <td>10000000.0</td>\n",
       "      <td>100.00</td>\n",
       "      <td>2018-06-19T00:00:00</td>\n",
       "      <td>2</td>\n",
       "      <td>3.03</td>\n",
       "      <td>14.0</td>\n",
       "      <td>32.00</td>\n",
       "      <td>13</td>\n",
       "      <td>NaN</td>\n",
       "      <td>...</td>\n",
       "      <td>41.00</td>\n",
       "      <td>NaN</td>\n",
       "      <td>Санкт-Петербург</td>\n",
       "      <td>31856.0</td>\n",
       "      <td>8098.0</td>\n",
       "      <td>2.0</td>\n",
       "      <td>112.0</td>\n",
       "      <td>1.0</td>\n",
       "      <td>48.0</td>\n",
       "      <td>121.0</td>\n",
       "    </tr>\n",
       "    <tr>\n",
       "      <th>5</th>\n",
       "      <td>10</td>\n",
       "      <td>2890000.0</td>\n",
       "      <td>30.40</td>\n",
       "      <td>2018-09-10T00:00:00</td>\n",
       "      <td>1</td>\n",
       "      <td>NaN</td>\n",
       "      <td>12.0</td>\n",
       "      <td>14.40</td>\n",
       "      <td>5</td>\n",
       "      <td>NaN</td>\n",
       "      <td>...</td>\n",
       "      <td>9.10</td>\n",
       "      <td>NaN</td>\n",
       "      <td>городской посёлок Янино-1</td>\n",
       "      <td>NaN</td>\n",
       "      <td>NaN</td>\n",
       "      <td>NaN</td>\n",
       "      <td>NaN</td>\n",
       "      <td>NaN</td>\n",
       "      <td>NaN</td>\n",
       "      <td>55.0</td>\n",
       "    </tr>\n",
       "    <tr>\n",
       "      <th>6</th>\n",
       "      <td>6</td>\n",
       "      <td>3700000.0</td>\n",
       "      <td>37.30</td>\n",
       "      <td>2017-11-02T00:00:00</td>\n",
       "      <td>1</td>\n",
       "      <td>NaN</td>\n",
       "      <td>26.0</td>\n",
       "      <td>10.60</td>\n",
       "      <td>6</td>\n",
       "      <td>NaN</td>\n",
       "      <td>...</td>\n",
       "      <td>14.40</td>\n",
       "      <td>1.0</td>\n",
       "      <td>посёлок Парголово</td>\n",
       "      <td>52996.0</td>\n",
       "      <td>19143.0</td>\n",
       "      <td>0.0</td>\n",
       "      <td>NaN</td>\n",
       "      <td>0.0</td>\n",
       "      <td>NaN</td>\n",
       "      <td>155.0</td>\n",
       "    </tr>\n",
       "    <tr>\n",
       "      <th>7</th>\n",
       "      <td>5</td>\n",
       "      <td>7915000.0</td>\n",
       "      <td>71.60</td>\n",
       "      <td>2019-04-18T00:00:00</td>\n",
       "      <td>2</td>\n",
       "      <td>NaN</td>\n",
       "      <td>24.0</td>\n",
       "      <td>NaN</td>\n",
       "      <td>22</td>\n",
       "      <td>NaN</td>\n",
       "      <td>...</td>\n",
       "      <td>18.90</td>\n",
       "      <td>2.0</td>\n",
       "      <td>Санкт-Петербург</td>\n",
       "      <td>23982.0</td>\n",
       "      <td>11634.0</td>\n",
       "      <td>0.0</td>\n",
       "      <td>NaN</td>\n",
       "      <td>0.0</td>\n",
       "      <td>NaN</td>\n",
       "      <td>NaN</td>\n",
       "    </tr>\n",
       "    <tr>\n",
       "      <th>8</th>\n",
       "      <td>20</td>\n",
       "      <td>2900000.0</td>\n",
       "      <td>33.16</td>\n",
       "      <td>2018-05-23T00:00:00</td>\n",
       "      <td>1</td>\n",
       "      <td>NaN</td>\n",
       "      <td>27.0</td>\n",
       "      <td>15.43</td>\n",
       "      <td>26</td>\n",
       "      <td>NaN</td>\n",
       "      <td>...</td>\n",
       "      <td>8.81</td>\n",
       "      <td>NaN</td>\n",
       "      <td>посёлок Мурино</td>\n",
       "      <td>NaN</td>\n",
       "      <td>NaN</td>\n",
       "      <td>NaN</td>\n",
       "      <td>NaN</td>\n",
       "      <td>NaN</td>\n",
       "      <td>NaN</td>\n",
       "      <td>189.0</td>\n",
       "    </tr>\n",
       "    <tr>\n",
       "      <th>9</th>\n",
       "      <td>18</td>\n",
       "      <td>5400000.0</td>\n",
       "      <td>61.00</td>\n",
       "      <td>2017-02-26T00:00:00</td>\n",
       "      <td>3</td>\n",
       "      <td>2.50</td>\n",
       "      <td>9.0</td>\n",
       "      <td>43.60</td>\n",
       "      <td>7</td>\n",
       "      <td>NaN</td>\n",
       "      <td>...</td>\n",
       "      <td>6.50</td>\n",
       "      <td>2.0</td>\n",
       "      <td>Санкт-Петербург</td>\n",
       "      <td>50898.0</td>\n",
       "      <td>15008.0</td>\n",
       "      <td>0.0</td>\n",
       "      <td>NaN</td>\n",
       "      <td>0.0</td>\n",
       "      <td>NaN</td>\n",
       "      <td>289.0</td>\n",
       "    </tr>\n",
       "  </tbody>\n",
       "</table>\n",
       "<p>10 rows × 22 columns</p>\n",
       "</div>"
      ],
      "text/plain": [
       "   total_images  last_price  total_area first_day_exposition  rooms  \\\n",
       "0            20  13000000.0      108.00  2019-03-07T00:00:00      3   \n",
       "1             7   3350000.0       40.40  2018-12-04T00:00:00      1   \n",
       "2            10   5196000.0       56.00  2015-08-20T00:00:00      2   \n",
       "3             0  64900000.0      159.00  2015-07-24T00:00:00      3   \n",
       "4             2  10000000.0      100.00  2018-06-19T00:00:00      2   \n",
       "5            10   2890000.0       30.40  2018-09-10T00:00:00      1   \n",
       "6             6   3700000.0       37.30  2017-11-02T00:00:00      1   \n",
       "7             5   7915000.0       71.60  2019-04-18T00:00:00      2   \n",
       "8            20   2900000.0       33.16  2018-05-23T00:00:00      1   \n",
       "9            18   5400000.0       61.00  2017-02-26T00:00:00      3   \n",
       "\n",
       "   ceiling_height  floors_total  living_area  floor is_apartment  ...  \\\n",
       "0            2.70          16.0        51.00      8          NaN  ...   \n",
       "1             NaN          11.0        18.60      1          NaN  ...   \n",
       "2             NaN           5.0        34.30      4          NaN  ...   \n",
       "3             NaN          14.0          NaN      9          NaN  ...   \n",
       "4            3.03          14.0        32.00     13          NaN  ...   \n",
       "5             NaN          12.0        14.40      5          NaN  ...   \n",
       "6             NaN          26.0        10.60      6          NaN  ...   \n",
       "7             NaN          24.0          NaN     22          NaN  ...   \n",
       "8             NaN          27.0        15.43     26          NaN  ...   \n",
       "9            2.50           9.0        43.60      7          NaN  ...   \n",
       "\n",
       "   kitchen_area  balcony              locality_name  airports_nearest  \\\n",
       "0         25.00      NaN            Санкт-Петербург           18863.0   \n",
       "1         11.00      2.0             посёлок Шушары           12817.0   \n",
       "2          8.30      0.0            Санкт-Петербург           21741.0   \n",
       "3           NaN      0.0            Санкт-Петербург           28098.0   \n",
       "4         41.00      NaN            Санкт-Петербург           31856.0   \n",
       "5          9.10      NaN  городской посёлок Янино-1               NaN   \n",
       "6         14.40      1.0          посёлок Парголово           52996.0   \n",
       "7         18.90      2.0            Санкт-Петербург           23982.0   \n",
       "8          8.81      NaN             посёлок Мурино               NaN   \n",
       "9          6.50      2.0            Санкт-Петербург           50898.0   \n",
       "\n",
       "  cityCenters_nearest  parks_around3000  parks_nearest  ponds_around3000  \\\n",
       "0             16028.0               1.0          482.0               2.0   \n",
       "1             18603.0               0.0            NaN               0.0   \n",
       "2             13933.0               1.0           90.0               2.0   \n",
       "3              6800.0               2.0           84.0               3.0   \n",
       "4              8098.0               2.0          112.0               1.0   \n",
       "5                 NaN               NaN            NaN               NaN   \n",
       "6             19143.0               0.0            NaN               0.0   \n",
       "7             11634.0               0.0            NaN               0.0   \n",
       "8                 NaN               NaN            NaN               NaN   \n",
       "9             15008.0               0.0            NaN               0.0   \n",
       "\n",
       "   ponds_nearest  days_exposition  \n",
       "0          755.0              NaN  \n",
       "1            NaN             81.0  \n",
       "2          574.0            558.0  \n",
       "3          234.0            424.0  \n",
       "4           48.0            121.0  \n",
       "5            NaN             55.0  \n",
       "6            NaN            155.0  \n",
       "7            NaN              NaN  \n",
       "8            NaN            189.0  \n",
       "9            NaN            289.0  \n",
       "\n",
       "[10 rows x 22 columns]"
      ]
     },
     "metadata": {},
     "output_type": "display_data"
    }
   ],
   "source": [
    "display(data.head(10))"
   ]
  },
  {
   "cell_type": "markdown",
   "metadata": {},
   "source": [
    "В таблице 22 столбца. \n",
    "\n",
    "Согласно документации:\n",
    "\n",
    "* `ceiling_height` — высота потолков (м)\n",
    "* `cityCenters_nearest` — расстояние до центра города (м)\n",
    "* `days_exposition` — сколько дней было размещено объявление (от публикации до снятия)\n",
    "* `first_day_exposition` — дата публикации\n",
    "* `floor` — этаж\n",
    "* `floors_total` — всего этажей в доме\n",
    "* `is_apartment` — апартаменты (булев тип)\n",
    "* `kitchen_area` — площадь кухни в квадратных метрах (м²)\n",
    "* `last_price` — цена на момент снятия с публикации\n",
    "* `living_area` — жилая площадь в квадратных метрах (м²)\n",
    "* `locality_name` — название населённого пункта\n",
    "* `open_plan` — свободная планировка (булев тип)\n",
    "* `parks_around3000` — число парков в радиусе 3 км\n",
    "* `parks_nearest` — расстояние до ближайшего парка (м)\n",
    "* `ponds_around3000` — число водоёмов в радиусе 3 км\n",
    "* `ponds_nearest` — расстояние до ближайшего водоёма (м)\n",
    "* `rooms` — число комнат\n",
    "* `studio` — квартира-студия (булев тип)\n",
    "* `total_area` — площадь квартиры в квадратных метрах (м²)\n",
    "* `total_images` — число фотографий квартиры в объявлении\n",
    "\n",
    "Далее откроем информацию о таблице:"
   ]
  },
  {
   "cell_type": "code",
   "execution_count": 4,
   "metadata": {},
   "outputs": [
    {
     "name": "stdout",
     "output_type": "stream",
     "text": [
      "<class 'pandas.core.frame.DataFrame'>\n",
      "RangeIndex: 23699 entries, 0 to 23698\n",
      "Data columns (total 22 columns):\n",
      " #   Column                Non-Null Count  Dtype  \n",
      "---  ------                --------------  -----  \n",
      " 0   total_images          23699 non-null  int64  \n",
      " 1   last_price            23699 non-null  float64\n",
      " 2   total_area            23699 non-null  float64\n",
      " 3   first_day_exposition  23699 non-null  object \n",
      " 4   rooms                 23699 non-null  int64  \n",
      " 5   ceiling_height        14504 non-null  float64\n",
      " 6   floors_total          23613 non-null  float64\n",
      " 7   living_area           21796 non-null  float64\n",
      " 8   floor                 23699 non-null  int64  \n",
      " 9   is_apartment          2775 non-null   object \n",
      " 10  studio                23699 non-null  bool   \n",
      " 11  open_plan             23699 non-null  bool   \n",
      " 12  kitchen_area          21421 non-null  float64\n",
      " 13  balcony               12180 non-null  float64\n",
      " 14  locality_name         23650 non-null  object \n",
      " 15  airports_nearest      18157 non-null  float64\n",
      " 16  cityCenters_nearest   18180 non-null  float64\n",
      " 17  parks_around3000      18181 non-null  float64\n",
      " 18  parks_nearest         8079 non-null   float64\n",
      " 19  ponds_around3000      18181 non-null  float64\n",
      " 20  ponds_nearest         9110 non-null   float64\n",
      " 21  days_exposition       20518 non-null  float64\n",
      "dtypes: bool(2), float64(14), int64(3), object(3)\n",
      "memory usage: 3.7+ MB\n"
     ]
    }
   ],
   "source": [
    "data.info()"
   ]
  },
  {
   "cell_type": "markdown",
   "metadata": {},
   "source": [
    "### Вывод"
   ]
  },
  {
   "cell_type": "markdown",
   "metadata": {},
   "source": [
    "Мы заметили следующие ошибки в данных:\n",
    "\n",
    "1. `first_day_exposition` - должен быть тип `datetime`.\n",
    "2. `ceiling_height` - обнаружены пропуски.\n",
    "3. `floors_total` - должен быть тип `int`, т.к. количество этажей - целые значения, а также обнаружены пропуски.\n",
    "4. `is_apartment` - должен быть тип `bool` и обнаружены пропуски.\n",
    "5. `living_area` - обнаружены пропуски.\n",
    "6. `kitchen_area` - обнаружены пропуски.\n",
    "7. `balcony` - обнаружены пропуски.\n",
    "8. `locality_name` - обнаружены пропуски.\n",
    "9. `airports_nearest` - обнаружены пропуски.\n",
    "10. `cityCenters_nearest` - обнаружены пропуски.\n",
    "11. `parks_around3000` - тип должен быть `int`, и обнаружены пропуски.\n",
    "12. `parks_nearest` - обнаружены пропуски.\n",
    "13. `ponds_around3000` - тип должен быть `int`, и обнаружены пропуски.\n",
    "14. `ponds_nearest` - обнаружены пропуски.\n",
    "15. `days_exposition` - тип должен быть `int`, и обнаружены пропуски.\n",
    "\n",
    "Исправим все найденные проблемы перед началом исследования."
   ]
  },
  {
   "cell_type": "markdown",
   "metadata": {},
   "source": [
    "## Предобработка данных"
   ]
  },
  {
   "cell_type": "markdown",
   "metadata": {},
   "source": [
    "Исправим данные по очереди.\n",
    "\n",
    "Сначала переведем столбец `first_day_exposition` в формат с датой. Время в данных не указано, поэтому его можно опустить."
   ]
  },
  {
   "cell_type": "code",
   "execution_count": 5,
   "metadata": {},
   "outputs": [],
   "source": [
    "data['first_day_exposition'] = pd.to_datetime(data['first_day_exposition'], format = '%Y-%m-%d')"
   ]
  },
  {
   "cell_type": "markdown",
   "metadata": {},
   "source": [
    "Осмотрим столбец `ceiling_heights` поближе:"
   ]
  },
  {
   "cell_type": "code",
   "execution_count": 6,
   "metadata": {
    "scrolled": true
   },
   "outputs": [
    {
     "data": {
      "text/plain": [
       "count    14504.000000\n",
       "mean         2.771499\n",
       "std          1.261056\n",
       "min          1.000000\n",
       "25%          2.520000\n",
       "50%          2.650000\n",
       "75%          2.800000\n",
       "max        100.000000\n",
       "Name: ceiling_height, dtype: float64"
      ]
     },
     "execution_count": 6,
     "metadata": {},
     "output_type": "execute_result"
    }
   ],
   "source": [
    "data['ceiling_height'].describe()"
   ]
  },
  {
   "cell_type": "markdown",
   "metadata": {},
   "source": [
    "Помимо пропусков, также видим аномально высокие значения. Однако их небольшое число не повлияло на значение медианы. \n",
    "\n",
    "Поскольку причина возникновения аномально высоких значений не ясна, их стоит оставить, как есть.\n",
    "\n",
    "Все пропущенные значения лучше заменить медианными."
   ]
  },
  {
   "cell_type": "code",
   "execution_count": 7,
   "metadata": {
    "scrolled": true
   },
   "outputs": [],
   "source": [
    "data['ceiling_height'] = data['ceiling_height'].fillna(data['ceiling_height'].median())"
   ]
  },
  {
   "cell_type": "markdown",
   "metadata": {},
   "source": [
    "Данные во `floors_total` скорее всего отсутствуют из-за необязательности заполнения. Столбец можно оставить, как есть.\n",
    "\n",
    "Предположим, что пропуски в данных `is_appartment` обозначают нулевое значение. Тоесть, это не апартаменты. \n",
    "\n",
    "Заменим все пропуски на значение `False`:"
   ]
  },
  {
   "cell_type": "code",
   "execution_count": 8,
   "metadata": {},
   "outputs": [],
   "source": [
    "data['is_apartment'] = data['is_apartment'].fillna(False)"
   ]
  },
  {
   "cell_type": "markdown",
   "metadata": {},
   "source": [
    "Теперь сменим тип данных столбца:"
   ]
  },
  {
   "cell_type": "code",
   "execution_count": 9,
   "metadata": {},
   "outputs": [],
   "source": [
    "data['is_apartment'] = data['is_apartment'].astype('bool')"
   ]
  },
  {
   "cell_type": "markdown",
   "metadata": {},
   "source": [
    "Осмотрим столбец `living_area`:"
   ]
  },
  {
   "cell_type": "code",
   "execution_count": 10,
   "metadata": {
    "scrolled": true
   },
   "outputs": [
    {
     "data": {
      "text/plain": [
       "count    21796.000000\n",
       "mean        34.457852\n",
       "std         22.030445\n",
       "min          2.000000\n",
       "25%         18.600000\n",
       "50%         30.000000\n",
       "75%         42.300000\n",
       "max        409.700000\n",
       "Name: living_area, dtype: float64"
      ]
     },
     "execution_count": 10,
     "metadata": {},
     "output_type": "execute_result"
    }
   ],
   "source": [
    "data['living_area'].describe()"
   ]
  },
  {
   "cell_type": "markdown",
   "metadata": {},
   "source": [
    "В значениях столбца слишком много знаков после запятой, скорее всего вызванные в результате ошибок подсчета площади, и есть пропуски. \n",
    "\n",
    "Возможная причина - необязательность заполнения. Столбец можно оставить, как есть.\n",
    "\n",
    "Столбец `kitchen_area`:"
   ]
  },
  {
   "cell_type": "code",
   "execution_count": 11,
   "metadata": {
    "scrolled": false
   },
   "outputs": [
    {
     "data": {
      "text/plain": [
       "count    21421.000000\n",
       "mean        10.569807\n",
       "std          5.905438\n",
       "min          1.300000\n",
       "25%          7.000000\n",
       "50%          9.100000\n",
       "75%         12.000000\n",
       "max        112.000000\n",
       "Name: kitchen_area, dtype: float64"
      ]
     },
     "execution_count": 11,
     "metadata": {},
     "output_type": "execute_result"
    }
   ],
   "source": [
    "data['kitchen_area'].describe()"
   ]
  },
  {
   "cell_type": "markdown",
   "metadata": {},
   "source": [
    "Тоже самое, что и с предыдущим столбцом. Оставим, как есть.\n",
    "\n",
    "Осмотрим столбец `balcony`:"
   ]
  },
  {
   "cell_type": "code",
   "execution_count": 12,
   "metadata": {
    "scrolled": false
   },
   "outputs": [
    {
     "data": {
      "text/plain": [
       "1.0    4195\n",
       "0.0    3758\n",
       "2.0    3659\n",
       "5.0     304\n",
       "4.0     183\n",
       "3.0      81\n",
       "Name: balcony, dtype: int64"
      ]
     },
     "execution_count": 12,
     "metadata": {},
     "output_type": "execute_result"
    }
   ],
   "source": [
    "data['balcony'].value_counts()"
   ]
  },
  {
   "cell_type": "markdown",
   "metadata": {},
   "source": [
    "Возможная причина пропусков в этом столбце - отстутствие балкона. \n",
    "\n",
    "Можно спокойно заменить их нулевыми значениями и исправить тип данных:"
   ]
  },
  {
   "cell_type": "code",
   "execution_count": 13,
   "metadata": {},
   "outputs": [],
   "source": [
    "data['balcony'] = data['balcony'].fillna(0).astype('int')"
   ]
  },
  {
   "cell_type": "markdown",
   "metadata": {},
   "source": [
    "Столбец `locality_name`:"
   ]
  },
  {
   "cell_type": "code",
   "execution_count": 14,
   "metadata": {
    "scrolled": true
   },
   "outputs": [
    {
     "data": {
      "text/plain": [
       "Санкт-Петербург                    15721\n",
       "посёлок Мурино                       522\n",
       "посёлок Шушары                       440\n",
       "Всеволожск                           398\n",
       "Пушкин                               369\n",
       "                                   ...  \n",
       "поселок Каложицы                       1\n",
       "посёлок Платформа 69-й километр        1\n",
       "поселок Почап                          1\n",
       "поселок Гончарово                      1\n",
       "посёлок Дзержинского                   1\n",
       "Name: locality_name, Length: 364, dtype: int64"
      ]
     },
     "execution_count": 14,
     "metadata": {},
     "output_type": "execute_result"
    }
   ],
   "source": [
    "data['locality_name'].value_counts()"
   ]
  },
  {
   "cell_type": "markdown",
   "metadata": {},
   "source": [
    "Причина пропусков в этом столбце не ясна. Скорее всего ошибка выгрузки данных. Лучше всего оставить столбец как есть.\n",
    "\n",
    "Столбец `airports_nearest`:"
   ]
  },
  {
   "cell_type": "code",
   "execution_count": 15,
   "metadata": {
    "scrolled": true
   },
   "outputs": [
    {
     "data": {
      "text/plain": [
       "count    18157.000000\n",
       "mean     28793.672193\n",
       "std      12630.880622\n",
       "min          0.000000\n",
       "25%      18585.000000\n",
       "50%      26726.000000\n",
       "75%      37273.000000\n",
       "max      84869.000000\n",
       "Name: airports_nearest, dtype: float64"
      ]
     },
     "execution_count": 15,
     "metadata": {},
     "output_type": "execute_result"
    }
   ],
   "source": [
    "data['airports_nearest'].describe()"
   ]
  },
  {
   "cell_type": "markdown",
   "metadata": {},
   "source": [
    "Причина пропусков не ясна. Оставим столбец как есть.\n",
    "\n",
    "Столбец `cityCenters_nearest`:"
   ]
  },
  {
   "cell_type": "code",
   "execution_count": 16,
   "metadata": {
    "scrolled": true
   },
   "outputs": [
    {
     "data": {
      "text/plain": [
       "8460.0     61\n",
       "20802.0    32\n",
       "10720.0    30\n",
       "20444.0    27\n",
       "8434.0     27\n",
       "           ..\n",
       "16631.0     1\n",
       "24311.0     1\n",
       "15782.0     1\n",
       "11940.0     1\n",
       "6263.0      1\n",
       "Name: cityCenters_nearest, Length: 7642, dtype: int64"
      ]
     },
     "execution_count": 16,
     "metadata": {},
     "output_type": "execute_result"
    }
   ],
   "source": [
    "data['cityCenters_nearest'].value_counts()"
   ]
  },
  {
   "cell_type": "markdown",
   "metadata": {},
   "source": [
    "Причина пропусков не ясна. Оставим столбец как есть.\n",
    "\n",
    "Столбец `parks_around3000`:"
   ]
  },
  {
   "cell_type": "code",
   "execution_count": 17,
   "metadata": {
    "scrolled": false
   },
   "outputs": [
    {
     "data": {
      "text/plain": [
       "0.0    10106\n",
       "1.0     5681\n",
       "2.0     1747\n",
       "3.0      647\n",
       "Name: parks_around3000, dtype: int64"
      ]
     },
     "execution_count": 17,
     "metadata": {},
     "output_type": "execute_result"
    }
   ],
   "source": [
    "data['parks_around3000'].value_counts()"
   ]
  },
  {
   "cell_type": "markdown",
   "metadata": {},
   "source": [
    "Причина пропусков не ясна. Оставим столбец как есть.\n",
    "\n",
    "Столбец `parks_nearest`:"
   ]
  },
  {
   "cell_type": "code",
   "execution_count": 18,
   "metadata": {
    "scrolled": true
   },
   "outputs": [
    {
     "data": {
      "text/plain": [
       "441.0     67\n",
       "173.0     41\n",
       "392.0     41\n",
       "456.0     40\n",
       "471.0     32\n",
       "          ..\n",
       "3.0        1\n",
       "2847.0     1\n",
       "1443.0     1\n",
       "7.0        1\n",
       "2984.0     1\n",
       "Name: parks_nearest, Length: 995, dtype: int64"
      ]
     },
     "execution_count": 18,
     "metadata": {},
     "output_type": "execute_result"
    }
   ],
   "source": [
    "data['parks_nearest'].value_counts()"
   ]
  },
  {
   "cell_type": "markdown",
   "metadata": {},
   "source": [
    "Причина пропусков не ясна. Оставим столбец как есть.\n",
    "\n",
    "Столбец `ponds_around3000`:"
   ]
  },
  {
   "cell_type": "code",
   "execution_count": 19,
   "metadata": {
    "scrolled": true
   },
   "outputs": [
    {
     "data": {
      "text/plain": [
       "0.0    9071\n",
       "1.0    5717\n",
       "2.0    1892\n",
       "3.0    1501\n",
       "Name: ponds_around3000, dtype: int64"
      ]
     },
     "execution_count": 19,
     "metadata": {},
     "output_type": "execute_result"
    }
   ],
   "source": [
    "data['ponds_around3000'].value_counts()"
   ]
  },
  {
   "cell_type": "markdown",
   "metadata": {},
   "source": [
    "Причина пропусков не ясна. Оставим столбец как есть.\n",
    "\n",
    "Столбец `ponds_nearest`:"
   ]
  },
  {
   "cell_type": "code",
   "execution_count": 20,
   "metadata": {
    "scrolled": true
   },
   "outputs": [
    {
     "data": {
      "text/plain": [
       "0.0    9071\n",
       "1.0    5717\n",
       "2.0    1892\n",
       "3.0    1501\n",
       "Name: ponds_around3000, dtype: int64"
      ]
     },
     "execution_count": 20,
     "metadata": {},
     "output_type": "execute_result"
    }
   ],
   "source": [
    "data['ponds_around3000'].value_counts()"
   ]
  },
  {
   "cell_type": "markdown",
   "metadata": {},
   "source": [
    "Причина пропусков не ясна. Оставим столбец как есть.\n",
    "\n",
    "Столбец `days_exposition`:"
   ]
  },
  {
   "cell_type": "code",
   "execution_count": 21,
   "metadata": {
    "scrolled": true
   },
   "outputs": [
    {
     "data": {
      "text/plain": [
       "count    20518.000000\n",
       "mean       180.888634\n",
       "std        219.727988\n",
       "min          1.000000\n",
       "25%         45.000000\n",
       "50%         95.000000\n",
       "75%        232.000000\n",
       "max       1580.000000\n",
       "Name: days_exposition, dtype: float64"
      ]
     },
     "execution_count": 21,
     "metadata": {},
     "output_type": "execute_result"
    }
   ],
   "source": [
    "data['days_exposition'].describe()"
   ]
  },
  {
   "cell_type": "markdown",
   "metadata": {},
   "source": [
    "Возможная причина пропусков в этом столбце - обьявление не продержалось и одного дня.\n",
    "\n",
    "Заполним пропуски на нулевые значения и сменим тип данных:"
   ]
  },
  {
   "cell_type": "code",
   "execution_count": 22,
   "metadata": {},
   "outputs": [],
   "source": [
    "data['days_exposition'] = data['days_exposition'].fillna(0).astype('int')"
   ]
  },
  {
   "cell_type": "markdown",
   "metadata": {},
   "source": [
    "Также для удобства просмотра можно изменить тип столбца `last_price` на `int`:"
   ]
  },
  {
   "cell_type": "code",
   "execution_count": 23,
   "metadata": {},
   "outputs": [],
   "source": [
    "data['last_price'] = data['last_price'].astype('int')"
   ]
  },
  {
   "cell_type": "markdown",
   "metadata": {},
   "source": [
    "## Расчёты и добавление результатов в таблицу"
   ]
  },
  {
   "cell_type": "markdown",
   "metadata": {},
   "source": [
    "Требуется посчитать и добавить в таблицу:\n",
    "\n",
    "* цену квадратного метра;\n",
    "* день недели, месяц и год публикации объявления;\n",
    "* этаж квартиры; варианты — первый, последний, другой;\n",
    "* соотношение жилой и общей площади, а также отношение площади кухни к общей.\n",
    "\n",
    "Выполним все по порядку.\n",
    "\n",
    "Рассчитаем цену квадратного метра и сразу же переведем к типу `int` для удобства просмотра:"
   ]
  },
  {
   "cell_type": "code",
   "execution_count": 24,
   "metadata": {},
   "outputs": [],
   "source": [
    "data['price_per_square_meter'] = data['last_price'] / data['total_area']\n",
    "data['price_per_square_meter'] = data['price_per_square_meter'].astype('int')"
   ]
  },
  {
   "cell_type": "markdown",
   "metadata": {},
   "source": [
    "Добавим столбец дня недели:"
   ]
  },
  {
   "cell_type": "code",
   "execution_count": 25,
   "metadata": {},
   "outputs": [],
   "source": [
    "data['weekday_exposition'] = data['first_day_exposition'].dt.weekday"
   ]
  },
  {
   "cell_type": "markdown",
   "metadata": {},
   "source": [
    "Добавим столбец месяца:"
   ]
  },
  {
   "cell_type": "code",
   "execution_count": 26,
   "metadata": {},
   "outputs": [],
   "source": [
    "data['month_exposition'] = data['first_day_exposition'].dt.month"
   ]
  },
  {
   "cell_type": "markdown",
   "metadata": {},
   "source": [
    "Добавим столбец года:"
   ]
  },
  {
   "cell_type": "code",
   "execution_count": 27,
   "metadata": {},
   "outputs": [],
   "source": [
    "data['year_exposition'] = data['first_day_exposition'].dt.year"
   ]
  },
  {
   "cell_type": "markdown",
   "metadata": {},
   "source": [
    "Теперь добавим столбец с категориями этажей квартиры. \n",
    "\n",
    "Для этого потребуется написать функцию, которая применит метод `apply()` к каждой строке датафрейма:"
   ]
  },
  {
   "cell_type": "code",
   "execution_count": 28,
   "metadata": {},
   "outputs": [],
   "source": [
    "def floor_category(row):\n",
    "    floors_total = row['floors_total']\n",
    "    floor = row['floor']\n",
    "    if floor == 1:\n",
    "        return 'первый'\n",
    "    elif floor == floors_total:\n",
    "        return 'последний'\n",
    "    elif 1 < floor < floors_total:\n",
    "        return 'другой'"
   ]
  },
  {
   "cell_type": "markdown",
   "metadata": {},
   "source": [
    "Теперь применим функцию к таблице:"
   ]
  },
  {
   "cell_type": "code",
   "execution_count": 29,
   "metadata": {},
   "outputs": [],
   "source": [
    "data['floor_category'] = data.apply(floor_category, axis=1)"
   ]
  },
  {
   "cell_type": "markdown",
   "metadata": {},
   "source": [
    "Добавим столбец соотношения жилой площади к общей площади:"
   ]
  },
  {
   "cell_type": "code",
   "execution_count": 30,
   "metadata": {},
   "outputs": [],
   "source": [
    "data['useful_area_ratio'] = data['living_area'] / data['total_area']"
   ]
  },
  {
   "cell_type": "markdown",
   "metadata": {},
   "source": [
    "Добавим столбец отношения площади кухни к общей площади:"
   ]
  },
  {
   "cell_type": "code",
   "execution_count": 31,
   "metadata": {},
   "outputs": [],
   "source": [
    "data['kitchen_area_ratio'] = data['kitchen_area'] / data['total_area']"
   ]
  },
  {
   "cell_type": "markdown",
   "metadata": {},
   "source": [
    "Проверим результаты, выведя первые 10 строк таблицы:"
   ]
  },
  {
   "cell_type": "code",
   "execution_count": 32,
   "metadata": {},
   "outputs": [
    {
     "data": {
      "text/html": [
       "<div>\n",
       "<style scoped>\n",
       "    .dataframe tbody tr th:only-of-type {\n",
       "        vertical-align: middle;\n",
       "    }\n",
       "\n",
       "    .dataframe tbody tr th {\n",
       "        vertical-align: top;\n",
       "    }\n",
       "\n",
       "    .dataframe thead th {\n",
       "        text-align: right;\n",
       "    }\n",
       "</style>\n",
       "<table border=\"1\" class=\"dataframe\">\n",
       "  <thead>\n",
       "    <tr style=\"text-align: right;\">\n",
       "      <th></th>\n",
       "      <th>total_images</th>\n",
       "      <th>last_price</th>\n",
       "      <th>total_area</th>\n",
       "      <th>first_day_exposition</th>\n",
       "      <th>rooms</th>\n",
       "      <th>ceiling_height</th>\n",
       "      <th>floors_total</th>\n",
       "      <th>living_area</th>\n",
       "      <th>floor</th>\n",
       "      <th>is_apartment</th>\n",
       "      <th>...</th>\n",
       "      <th>ponds_around3000</th>\n",
       "      <th>ponds_nearest</th>\n",
       "      <th>days_exposition</th>\n",
       "      <th>price_per_square_meter</th>\n",
       "      <th>weekday_exposition</th>\n",
       "      <th>month_exposition</th>\n",
       "      <th>year_exposition</th>\n",
       "      <th>floor_category</th>\n",
       "      <th>useful_area_ratio</th>\n",
       "      <th>kitchen_area_ratio</th>\n",
       "    </tr>\n",
       "  </thead>\n",
       "  <tbody>\n",
       "    <tr>\n",
       "      <th>0</th>\n",
       "      <td>20</td>\n",
       "      <td>13000000</td>\n",
       "      <td>108.00</td>\n",
       "      <td>2019-03-07</td>\n",
       "      <td>3</td>\n",
       "      <td>2.70</td>\n",
       "      <td>16.0</td>\n",
       "      <td>51.00</td>\n",
       "      <td>8</td>\n",
       "      <td>False</td>\n",
       "      <td>...</td>\n",
       "      <td>2.0</td>\n",
       "      <td>755.0</td>\n",
       "      <td>0</td>\n",
       "      <td>120370</td>\n",
       "      <td>3</td>\n",
       "      <td>3</td>\n",
       "      <td>2019</td>\n",
       "      <td>другой</td>\n",
       "      <td>0.472222</td>\n",
       "      <td>0.231481</td>\n",
       "    </tr>\n",
       "    <tr>\n",
       "      <th>1</th>\n",
       "      <td>7</td>\n",
       "      <td>3350000</td>\n",
       "      <td>40.40</td>\n",
       "      <td>2018-12-04</td>\n",
       "      <td>1</td>\n",
       "      <td>2.65</td>\n",
       "      <td>11.0</td>\n",
       "      <td>18.60</td>\n",
       "      <td>1</td>\n",
       "      <td>False</td>\n",
       "      <td>...</td>\n",
       "      <td>0.0</td>\n",
       "      <td>NaN</td>\n",
       "      <td>81</td>\n",
       "      <td>82920</td>\n",
       "      <td>1</td>\n",
       "      <td>12</td>\n",
       "      <td>2018</td>\n",
       "      <td>первый</td>\n",
       "      <td>0.460396</td>\n",
       "      <td>0.272277</td>\n",
       "    </tr>\n",
       "    <tr>\n",
       "      <th>2</th>\n",
       "      <td>10</td>\n",
       "      <td>5196000</td>\n",
       "      <td>56.00</td>\n",
       "      <td>2015-08-20</td>\n",
       "      <td>2</td>\n",
       "      <td>2.65</td>\n",
       "      <td>5.0</td>\n",
       "      <td>34.30</td>\n",
       "      <td>4</td>\n",
       "      <td>False</td>\n",
       "      <td>...</td>\n",
       "      <td>2.0</td>\n",
       "      <td>574.0</td>\n",
       "      <td>558</td>\n",
       "      <td>92785</td>\n",
       "      <td>3</td>\n",
       "      <td>8</td>\n",
       "      <td>2015</td>\n",
       "      <td>другой</td>\n",
       "      <td>0.612500</td>\n",
       "      <td>0.148214</td>\n",
       "    </tr>\n",
       "    <tr>\n",
       "      <th>3</th>\n",
       "      <td>0</td>\n",
       "      <td>64900000</td>\n",
       "      <td>159.00</td>\n",
       "      <td>2015-07-24</td>\n",
       "      <td>3</td>\n",
       "      <td>2.65</td>\n",
       "      <td>14.0</td>\n",
       "      <td>NaN</td>\n",
       "      <td>9</td>\n",
       "      <td>False</td>\n",
       "      <td>...</td>\n",
       "      <td>3.0</td>\n",
       "      <td>234.0</td>\n",
       "      <td>424</td>\n",
       "      <td>408176</td>\n",
       "      <td>4</td>\n",
       "      <td>7</td>\n",
       "      <td>2015</td>\n",
       "      <td>другой</td>\n",
       "      <td>NaN</td>\n",
       "      <td>NaN</td>\n",
       "    </tr>\n",
       "    <tr>\n",
       "      <th>4</th>\n",
       "      <td>2</td>\n",
       "      <td>10000000</td>\n",
       "      <td>100.00</td>\n",
       "      <td>2018-06-19</td>\n",
       "      <td>2</td>\n",
       "      <td>3.03</td>\n",
       "      <td>14.0</td>\n",
       "      <td>32.00</td>\n",
       "      <td>13</td>\n",
       "      <td>False</td>\n",
       "      <td>...</td>\n",
       "      <td>1.0</td>\n",
       "      <td>48.0</td>\n",
       "      <td>121</td>\n",
       "      <td>100000</td>\n",
       "      <td>1</td>\n",
       "      <td>6</td>\n",
       "      <td>2018</td>\n",
       "      <td>другой</td>\n",
       "      <td>0.320000</td>\n",
       "      <td>0.410000</td>\n",
       "    </tr>\n",
       "    <tr>\n",
       "      <th>5</th>\n",
       "      <td>10</td>\n",
       "      <td>2890000</td>\n",
       "      <td>30.40</td>\n",
       "      <td>2018-09-10</td>\n",
       "      <td>1</td>\n",
       "      <td>2.65</td>\n",
       "      <td>12.0</td>\n",
       "      <td>14.40</td>\n",
       "      <td>5</td>\n",
       "      <td>False</td>\n",
       "      <td>...</td>\n",
       "      <td>NaN</td>\n",
       "      <td>NaN</td>\n",
       "      <td>55</td>\n",
       "      <td>95065</td>\n",
       "      <td>0</td>\n",
       "      <td>9</td>\n",
       "      <td>2018</td>\n",
       "      <td>другой</td>\n",
       "      <td>0.473684</td>\n",
       "      <td>0.299342</td>\n",
       "    </tr>\n",
       "    <tr>\n",
       "      <th>6</th>\n",
       "      <td>6</td>\n",
       "      <td>3700000</td>\n",
       "      <td>37.30</td>\n",
       "      <td>2017-11-02</td>\n",
       "      <td>1</td>\n",
       "      <td>2.65</td>\n",
       "      <td>26.0</td>\n",
       "      <td>10.60</td>\n",
       "      <td>6</td>\n",
       "      <td>False</td>\n",
       "      <td>...</td>\n",
       "      <td>0.0</td>\n",
       "      <td>NaN</td>\n",
       "      <td>155</td>\n",
       "      <td>99195</td>\n",
       "      <td>3</td>\n",
       "      <td>11</td>\n",
       "      <td>2017</td>\n",
       "      <td>другой</td>\n",
       "      <td>0.284182</td>\n",
       "      <td>0.386059</td>\n",
       "    </tr>\n",
       "    <tr>\n",
       "      <th>7</th>\n",
       "      <td>5</td>\n",
       "      <td>7915000</td>\n",
       "      <td>71.60</td>\n",
       "      <td>2019-04-18</td>\n",
       "      <td>2</td>\n",
       "      <td>2.65</td>\n",
       "      <td>24.0</td>\n",
       "      <td>NaN</td>\n",
       "      <td>22</td>\n",
       "      <td>False</td>\n",
       "      <td>...</td>\n",
       "      <td>0.0</td>\n",
       "      <td>NaN</td>\n",
       "      <td>0</td>\n",
       "      <td>110544</td>\n",
       "      <td>3</td>\n",
       "      <td>4</td>\n",
       "      <td>2019</td>\n",
       "      <td>другой</td>\n",
       "      <td>NaN</td>\n",
       "      <td>0.263966</td>\n",
       "    </tr>\n",
       "    <tr>\n",
       "      <th>8</th>\n",
       "      <td>20</td>\n",
       "      <td>2900000</td>\n",
       "      <td>33.16</td>\n",
       "      <td>2018-05-23</td>\n",
       "      <td>1</td>\n",
       "      <td>2.65</td>\n",
       "      <td>27.0</td>\n",
       "      <td>15.43</td>\n",
       "      <td>26</td>\n",
       "      <td>False</td>\n",
       "      <td>...</td>\n",
       "      <td>NaN</td>\n",
       "      <td>NaN</td>\n",
       "      <td>189</td>\n",
       "      <td>87454</td>\n",
       "      <td>2</td>\n",
       "      <td>5</td>\n",
       "      <td>2018</td>\n",
       "      <td>другой</td>\n",
       "      <td>0.465320</td>\n",
       "      <td>0.265682</td>\n",
       "    </tr>\n",
       "    <tr>\n",
       "      <th>9</th>\n",
       "      <td>18</td>\n",
       "      <td>5400000</td>\n",
       "      <td>61.00</td>\n",
       "      <td>2017-02-26</td>\n",
       "      <td>3</td>\n",
       "      <td>2.50</td>\n",
       "      <td>9.0</td>\n",
       "      <td>43.60</td>\n",
       "      <td>7</td>\n",
       "      <td>False</td>\n",
       "      <td>...</td>\n",
       "      <td>0.0</td>\n",
       "      <td>NaN</td>\n",
       "      <td>289</td>\n",
       "      <td>88524</td>\n",
       "      <td>6</td>\n",
       "      <td>2</td>\n",
       "      <td>2017</td>\n",
       "      <td>другой</td>\n",
       "      <td>0.714754</td>\n",
       "      <td>0.106557</td>\n",
       "    </tr>\n",
       "  </tbody>\n",
       "</table>\n",
       "<p>10 rows × 29 columns</p>\n",
       "</div>"
      ],
      "text/plain": [
       "   total_images  last_price  total_area first_day_exposition  rooms  \\\n",
       "0            20    13000000      108.00           2019-03-07      3   \n",
       "1             7     3350000       40.40           2018-12-04      1   \n",
       "2            10     5196000       56.00           2015-08-20      2   \n",
       "3             0    64900000      159.00           2015-07-24      3   \n",
       "4             2    10000000      100.00           2018-06-19      2   \n",
       "5            10     2890000       30.40           2018-09-10      1   \n",
       "6             6     3700000       37.30           2017-11-02      1   \n",
       "7             5     7915000       71.60           2019-04-18      2   \n",
       "8            20     2900000       33.16           2018-05-23      1   \n",
       "9            18     5400000       61.00           2017-02-26      3   \n",
       "\n",
       "   ceiling_height  floors_total  living_area  floor  is_apartment  ...  \\\n",
       "0            2.70          16.0        51.00      8         False  ...   \n",
       "1            2.65          11.0        18.60      1         False  ...   \n",
       "2            2.65           5.0        34.30      4         False  ...   \n",
       "3            2.65          14.0          NaN      9         False  ...   \n",
       "4            3.03          14.0        32.00     13         False  ...   \n",
       "5            2.65          12.0        14.40      5         False  ...   \n",
       "6            2.65          26.0        10.60      6         False  ...   \n",
       "7            2.65          24.0          NaN     22         False  ...   \n",
       "8            2.65          27.0        15.43     26         False  ...   \n",
       "9            2.50           9.0        43.60      7         False  ...   \n",
       "\n",
       "   ponds_around3000  ponds_nearest  days_exposition  price_per_square_meter  \\\n",
       "0               2.0          755.0                0                  120370   \n",
       "1               0.0            NaN               81                   82920   \n",
       "2               2.0          574.0              558                   92785   \n",
       "3               3.0          234.0              424                  408176   \n",
       "4               1.0           48.0              121                  100000   \n",
       "5               NaN            NaN               55                   95065   \n",
       "6               0.0            NaN              155                   99195   \n",
       "7               0.0            NaN                0                  110544   \n",
       "8               NaN            NaN              189                   87454   \n",
       "9               0.0            NaN              289                   88524   \n",
       "\n",
       "  weekday_exposition  month_exposition  year_exposition  floor_category  \\\n",
       "0                  3                 3             2019          другой   \n",
       "1                  1                12             2018          первый   \n",
       "2                  3                 8             2015          другой   \n",
       "3                  4                 7             2015          другой   \n",
       "4                  1                 6             2018          другой   \n",
       "5                  0                 9             2018          другой   \n",
       "6                  3                11             2017          другой   \n",
       "7                  3                 4             2019          другой   \n",
       "8                  2                 5             2018          другой   \n",
       "9                  6                 2             2017          другой   \n",
       "\n",
       "   useful_area_ratio  kitchen_area_ratio  \n",
       "0           0.472222            0.231481  \n",
       "1           0.460396            0.272277  \n",
       "2           0.612500            0.148214  \n",
       "3                NaN                 NaN  \n",
       "4           0.320000            0.410000  \n",
       "5           0.473684            0.299342  \n",
       "6           0.284182            0.386059  \n",
       "7                NaN            0.263966  \n",
       "8           0.465320            0.265682  \n",
       "9           0.714754            0.106557  \n",
       "\n",
       "[10 rows x 29 columns]"
      ]
     },
     "metadata": {},
     "output_type": "display_data"
    }
   ],
   "source": [
    "display(data.head(10))"
   ]
  },
  {
   "cell_type": "markdown",
   "metadata": {},
   "source": [
    "## Исследовательский анализ данных"
   ]
  },
  {
   "cell_type": "markdown",
   "metadata": {},
   "source": [
    "### Задача 1\n",
    "\n",
    "**Изучите следующие параметры: площадь, цена, число комнат, высота потолков. Постройте гистограммы для каждого параметра.**\n",
    "\n",
    "Рассмотрим следующие параметры: площадь, цена, число комнат, высота потолков."
   ]
  },
  {
   "cell_type": "code",
   "execution_count": 33,
   "metadata": {
    "scrolled": false
   },
   "outputs": [
    {
     "data": {
      "text/html": [
       "<div>\n",
       "<style scoped>\n",
       "    .dataframe tbody tr th:only-of-type {\n",
       "        vertical-align: middle;\n",
       "    }\n",
       "\n",
       "    .dataframe tbody tr th {\n",
       "        vertical-align: top;\n",
       "    }\n",
       "\n",
       "    .dataframe thead th {\n",
       "        text-align: right;\n",
       "    }\n",
       "</style>\n",
       "<table border=\"1\" class=\"dataframe\">\n",
       "  <thead>\n",
       "    <tr style=\"text-align: right;\">\n",
       "      <th></th>\n",
       "      <th>total_area</th>\n",
       "      <th>last_price</th>\n",
       "      <th>rooms</th>\n",
       "      <th>ceiling_height</th>\n",
       "    </tr>\n",
       "  </thead>\n",
       "  <tbody>\n",
       "    <tr>\n",
       "      <th>count</th>\n",
       "      <td>23699.000000</td>\n",
       "      <td>2.369900e+04</td>\n",
       "      <td>23699.000000</td>\n",
       "      <td>23699.000000</td>\n",
       "    </tr>\n",
       "    <tr>\n",
       "      <th>mean</th>\n",
       "      <td>60.348651</td>\n",
       "      <td>6.541549e+06</td>\n",
       "      <td>2.070636</td>\n",
       "      <td>2.724358</td>\n",
       "    </tr>\n",
       "    <tr>\n",
       "      <th>std</th>\n",
       "      <td>35.654083</td>\n",
       "      <td>1.088701e+07</td>\n",
       "      <td>1.078405</td>\n",
       "      <td>0.988298</td>\n",
       "    </tr>\n",
       "    <tr>\n",
       "      <th>min</th>\n",
       "      <td>12.000000</td>\n",
       "      <td>1.219000e+04</td>\n",
       "      <td>0.000000</td>\n",
       "      <td>1.000000</td>\n",
       "    </tr>\n",
       "    <tr>\n",
       "      <th>25%</th>\n",
       "      <td>40.000000</td>\n",
       "      <td>3.400000e+06</td>\n",
       "      <td>1.000000</td>\n",
       "      <td>2.600000</td>\n",
       "    </tr>\n",
       "    <tr>\n",
       "      <th>50%</th>\n",
       "      <td>52.000000</td>\n",
       "      <td>4.650000e+06</td>\n",
       "      <td>2.000000</td>\n",
       "      <td>2.650000</td>\n",
       "    </tr>\n",
       "    <tr>\n",
       "      <th>75%</th>\n",
       "      <td>69.900000</td>\n",
       "      <td>6.800000e+06</td>\n",
       "      <td>3.000000</td>\n",
       "      <td>2.700000</td>\n",
       "    </tr>\n",
       "    <tr>\n",
       "      <th>max</th>\n",
       "      <td>900.000000</td>\n",
       "      <td>7.630000e+08</td>\n",
       "      <td>19.000000</td>\n",
       "      <td>100.000000</td>\n",
       "    </tr>\n",
       "  </tbody>\n",
       "</table>\n",
       "</div>"
      ],
      "text/plain": [
       "         total_area    last_price         rooms  ceiling_height\n",
       "count  23699.000000  2.369900e+04  23699.000000    23699.000000\n",
       "mean      60.348651  6.541549e+06      2.070636        2.724358\n",
       "std       35.654083  1.088701e+07      1.078405        0.988298\n",
       "min       12.000000  1.219000e+04      0.000000        1.000000\n",
       "25%       40.000000  3.400000e+06      1.000000        2.600000\n",
       "50%       52.000000  4.650000e+06      2.000000        2.650000\n",
       "75%       69.900000  6.800000e+06      3.000000        2.700000\n",
       "max      900.000000  7.630000e+08     19.000000      100.000000"
      ]
     },
     "execution_count": 33,
     "metadata": {},
     "output_type": "execute_result"
    }
   ],
   "source": [
    "data[['total_area', 'last_price', 'rooms', 'ceiling_height']].describe()"
   ]
  },
  {
   "cell_type": "markdown",
   "metadata": {},
   "source": [
    "По предварительному анализу:\n",
    "\n",
    "* Площадь квартир варьируются от 12 кв.м. до 900 кв.м. Среднее значение выглядит достаточно адекватным.\n",
    "* Цена варьируется от 12 тысяч рублей до 763 млн. \n",
    "* Число комнат варьируется от 0 до 19. Скорее всего комнаты с 0 количеством комнат - это студии. Более крупные значения - общежития.\n",
    "* Высота потолков варьируется от 1 до 100 метров.\n",
    "\n",
    "Построим гистограммы для каждого из этих параметров. \n",
    "\n",
    "Гистограмма общей площади:"
   ]
  },
  {
   "cell_type": "code",
   "execution_count": 34,
   "metadata": {
    "scrolled": false
   },
   "outputs": [
    {
     "data": {
      "text/plain": [
       "<AxesSubplot:ylabel='Frequency'>"
      ]
     },
     "execution_count": 34,
     "metadata": {},
     "output_type": "execute_result"
    },
    {
     "data": {
      "image/png": "[encoded data removed]",
      "text/plain": [
       "<Figure size 720x360 with 1 Axes>"
      ]
     },
     "metadata": {
      "needs_background": "light"
     },
     "output_type": "display_data"
    }
   ],
   "source": [
    "data.plot(y='total_area', kind='hist', bins=100, grid=True, figsize=(10,5), range=(0,150))"
   ]
  },
  {
   "cell_type": "markdown",
   "metadata": {},
   "source": [
    "Гистограмма цены:"
   ]
  },
  {
   "cell_type": "code",
   "execution_count": 35,
   "metadata": {
    "scrolled": true
   },
   "outputs": [
    {
     "data": {
      "text/plain": [
       "<AxesSubplot:ylabel='Frequency'>"
      ]
     },
     "execution_count": 35,
     "metadata": {},
     "output_type": "execute_result"
    },
    {
     "data": {
      "image/png": "[encoded data removed]",
      "text/plain": [
       "<Figure size 720x360 with 1 Axes>"
      ]
     },
     "metadata": {
      "needs_background": "light"
     },
     "output_type": "display_data"
    }
   ],
   "source": [
    "data.plot(y='last_price', kind='hist', bins=100, grid=True, range=(0,15000000), figsize=(10,5))"
   ]
  },
  {
   "cell_type": "markdown",
   "metadata": {},
   "source": [
    "Гистограмма числа комнат:"
   ]
  },
  {
   "cell_type": "code",
   "execution_count": 36,
   "metadata": {
    "scrolled": false
   },
   "outputs": [
    {
     "data": {
      "text/plain": [
       "<AxesSubplot:ylabel='Frequency'>"
      ]
     },
     "execution_count": 36,
     "metadata": {},
     "output_type": "execute_result"
    },
    {
     "data": {
      "image/png": "[encoded data removed]",
      "text/plain": [
       "<Figure size 720x360 with 1 Axes>"
      ]
     },
     "metadata": {
      "needs_background": "light"
     },
     "output_type": "display_data"
    }
   ],
   "source": [
    "data.plot(y='rooms', kind='hist', bins=10, grid=True, range=(0,10), figsize=(10,5))"
   ]
  },
  {
   "cell_type": "markdown",
   "metadata": {},
   "source": [
    "Гистограмма высоты потолков:"
   ]
  },
  {
   "cell_type": "code",
   "execution_count": 37,
   "metadata": {
    "scrolled": false
   },
   "outputs": [
    {
     "data": {
      "text/plain": [
       "<AxesSubplot:ylabel='Frequency'>"
      ]
     },
     "execution_count": 37,
     "metadata": {},
     "output_type": "execute_result"
    },
    {
     "data": {
      "image/png": "[encoded data removed]",
      "text/plain": [
       "<Figure size 720x360 with 1 Axes>"
      ]
     },
     "metadata": {
      "needs_background": "light"
     },
     "output_type": "display_data"
    }
   ],
   "source": [
    "data.plot(y='ceiling_height', kind='hist', bins=30, range=(2,5), grid=True, figsize=(10,5))"
   ]
  },
  {
   "cell_type": "markdown",
   "metadata": {},
   "source": [
    "**Вывод**\n",
    "\n",
    "1. Распределение площадей: Большая часть квартир имеет метраж от 30 до 80 кв.м. Пик приходится на 45 кв.м. Есть единичные выбросы, но они не особо влияют на данные. Среднее значение: 60 кв.м., а медиана: 52 кв.м.\n",
    "\n",
    "2. Распределение цен: Цена лежит в промежутке от 2 до 10 млн. Большая часть квартир продается за цену в промежутке между 2 и 6 млн. Среднее значение: 6,5 млн. руб., медиана: 4.6 млн. руб.\n",
    "\n",
    "3. Распределение по количеству комнат: подавляющая часть квартир имеют 1 или 2 комнаты, чуть меньший процент - 3 комнаты, и совсем малый - 4 комнаты. Есть квартиры, имеющие больше комнат, но их процент значительно ниже.\n",
    "\n",
    "4. Квартиры в большинстве имеют потолки от 2,5 до 3,2 м. в высоту. Остальные случаи значительно более редки. Среднее знеачение: 2,77 м, медиана: 2,65 м.\n",
    "\n",
    "### Задача 2\n",
    "\n",
    "**Изучите время продажи квартиры. Постройте гистограмму. Посчитайте среднее и медиану. Опишите, сколько обычно занимает продажа. Когда можно считать, что продажи прошли очень быстро, а когда необычно долго?**\n",
    "\n",
    "Предположим, что дата снятия объявления может не совпадать с датой продажи. \n",
    "\n",
    "Проверим, сперва осмотрев данные и гистограмму по времени продажи квартиры."
   ]
  },
  {
   "cell_type": "code",
   "execution_count": 38,
   "metadata": {
    "scrolled": true
   },
   "outputs": [
    {
     "data": {
      "text/plain": [
       "count    20518.000000\n",
       "mean       180.888634\n",
       "std        219.727988\n",
       "min          1.000000\n",
       "25%         45.000000\n",
       "50%         95.000000\n",
       "75%        232.000000\n",
       "max       1580.000000\n",
       "Name: days_exposition, dtype: float64"
      ]
     },
     "execution_count": 38,
     "metadata": {},
     "output_type": "execute_result"
    }
   ],
   "source": [
    "data[data['days_exposition']!=0]['days_exposition'].describe()"
   ]
  },
  {
   "cell_type": "markdown",
   "metadata": {},
   "source": [
    "Среднее время продажи: 180 дней.\n",
    "\n",
    "Медианное время продажи: 95 дней.\n",
    "\n",
    "Теперь составим гистограмму:"
   ]
  },
  {
   "cell_type": "code",
   "execution_count": 39,
   "metadata": {
    "scrolled": true
   },
   "outputs": [
    {
     "data": {
      "text/plain": [
       "<AxesSubplot:ylabel='Frequency'>"
      ]
     },
     "execution_count": 39,
     "metadata": {},
     "output_type": "execute_result"
    },
    {
     "data": {
      "image/png": "[encoded data removed]",
      "text/plain": [
       "<Figure size 720x360 with 1 Axes>"
      ]
     },
     "metadata": {
      "needs_background": "light"
     },
     "output_type": "display_data"
    }
   ],
   "source": [
    "data.plot(y='days_exposition', kind='hist', bins=30, grid=True, figsize=(10,5), range=(1,1600))"
   ]
  },
  {
   "cell_type": "markdown",
   "metadata": {},
   "source": [
    "Большая часть квартир продавалась в течении первых 50 дней. Также есть квартиры, которые продавались до года. Чем больше срок, тем реже случаи.\n",
    "\n",
    "Стоит дальше посмотреть на гистограмму размаха. \n",
    "\n",
    "Сперва импортируем `matplotlib.pyplot`."
   ]
  },
  {
   "cell_type": "code",
   "execution_count": 40,
   "metadata": {},
   "outputs": [],
   "source": [
    "import matplotlib.pyplot as plt"
   ]
  },
  {
   "cell_type": "markdown",
   "metadata": {},
   "source": [
    "Теперь составим диаграмму размаха для столбца `days_exposition`. "
   ]
  },
  {
   "cell_type": "code",
   "execution_count": 41,
   "metadata": {
    "scrolled": false
   },
   "outputs": [
    {
     "data": {
      "text/plain": [
       "(1.0, 1000.0)"
      ]
     },
     "execution_count": 41,
     "metadata": {},
     "output_type": "execute_result"
    },
    {
     "data": {
      "image/png": "[encoded data removed]",
      "text/plain": [
       "<Figure size 432x288 with 1 Axes>"
      ]
     },
     "metadata": {
      "needs_background": "light"
     },
     "output_type": "display_data"
    }
   ],
   "source": [
    "plt.boxplot(data[data['days_exposition']!=0]['days_exposition'])\n",
    "plt.ylim(1,1000)"
   ]
  },
  {
   "cell_type": "markdown",
   "metadata": {},
   "source": [
    "Ограничим срок продажи 200 днями, чтобы рассмотреть данные более детально:"
   ]
  },
  {
   "cell_type": "code",
   "execution_count": 42,
   "metadata": {
    "scrolled": true
   },
   "outputs": [
    {
     "data": {
      "text/plain": [
       "<AxesSubplot:ylabel='Frequency'>"
      ]
     },
     "execution_count": 42,
     "metadata": {},
     "output_type": "execute_result"
    },
    {
     "data": {
      "image/png": "[encoded data removed]",
      "text/plain": [
       "<Figure size 720x360 with 1 Axes>"
      ]
     },
     "metadata": {
      "needs_background": "light"
     },
     "output_type": "display_data"
    }
   ],
   "source": [
    "data.plot(y='days_exposition', kind='hist', bins=100, grid=True, figsize=(10,5), range=(1,200))"
   ]
  },
  {
   "cell_type": "markdown",
   "metadata": {},
   "source": [
    "Мы обнаружили выбросы на отметках в 45, 60 и 90 дней.\n",
    "\n",
    "По этой [ссылке](https://yandex.ru/support/realty/owner/home/add-ads-housing.html) в Яндекс Недвижимость можно узнать, что именно в эти отметки объявления становятся неактуальными и снимаются автоматически.\n",
    "\n",
    "Потому позже мы можем удалить эти значения из среза, так как они искажают реальную картину с проданными квартирами.\n",
    "\n",
    "**Вывод**\n",
    "\n",
    "Исходя из метода `describe` - межквартильный размах у нас состовляет от 45 до 232 дней. Судя же по методу `boxplot` - димаграмма размаха у нас от минимального значения до 500 дней. \n",
    "\n",
    "Это значит, что слишком быстрых продаж у нас нет, а слишком медленными можно считать те, что дляться от 500 дней и выше. Итого нормальные значения составляют от 1 до 500 дней."
   ]
  },
  {
   "cell_type": "markdown",
   "metadata": {},
   "source": [
    "#### Задача 3\n",
    "\n",
    "**Уберите редкие и выбивающиеся значения. Опишите, какие особенности обнаружили.**\n",
    "\n",
    "Сначала проверим, какой процент от данных составляет количество выбросов."
   ]
  },
  {
   "cell_type": "code",
   "execution_count": 43,
   "metadata": {
    "scrolled": true
   },
   "outputs": [
    {
     "name": "stdout",
     "output_type": "stream",
     "text": [
      "6.844170640111397\n"
     ]
    }
   ],
   "source": [
    "sample = data.query('days_exposition == 45 or days_exposition == 60 or days_exposition == 90')\n",
    "percentage = len(sample) / len(data) * 100\n",
    "print(percentage)"
   ]
  },
  {
   "cell_type": "markdown",
   "metadata": {},
   "source": [
    "Примерно 6,8 процента. Преемлемый результат.\n",
    "\n",
    "Теперь отфильтруем данные от найденных ранее аномалий и запишем их в новый датафрейм `good_data`."
   ]
  },
  {
   "cell_type": "code",
   "execution_count": 44,
   "metadata": {},
   "outputs": [],
   "source": [
    "good_data = data.query('days_exposition != 45 and days_exposition != 60 and days_exposition != 90')"
   ]
  },
  {
   "cell_type": "markdown",
   "metadata": {},
   "source": [
    "Исследуем ее методом `describe`:"
   ]
  },
  {
   "cell_type": "code",
   "execution_count": 45,
   "metadata": {},
   "outputs": [
    {
     "data": {
      "text/plain": [
       "count    22077.000000\n",
       "mean       164.027404\n",
       "std        219.391854\n",
       "min          0.000000\n",
       "25%         19.000000\n",
       "50%         83.000000\n",
       "75%        214.000000\n",
       "max       1580.000000\n",
       "Name: days_exposition, dtype: float64"
      ]
     },
     "execution_count": 45,
     "metadata": {},
     "output_type": "execute_result"
    }
   ],
   "source": [
    "good_data['days_exposition'].describe()"
   ]
  },
  {
   "cell_type": "markdown",
   "metadata": {},
   "source": [
    "Теперь составим диаграмму размаха и обе гистограммы как в прошлой задаче:"
   ]
  },
  {
   "cell_type": "code",
   "execution_count": 46,
   "metadata": {},
   "outputs": [
    {
     "data": {
      "text/plain": [
       "<AxesSubplot:ylabel='Frequency'>"
      ]
     },
     "execution_count": 46,
     "metadata": {},
     "output_type": "execute_result"
    },
    {
     "data": {
      "image/png": "[encoded data removed]",
      "text/plain": [
       "<Figure size 432x288 with 1 Axes>"
      ]
     },
     "metadata": {
      "needs_background": "light"
     },
     "output_type": "display_data"
    },
    {
     "data": {
      "image/png": "[encoded data removed]",
      "text/plain": [
       "<Figure size 720x360 with 1 Axes>"
      ]
     },
     "metadata": {
      "needs_background": "light"
     },
     "output_type": "display_data"
    },
    {
     "data": {
      "image/png": "[encoded data removed]",
      "text/plain": [
       "<Figure size 720x360 with 1 Axes>"
      ]
     },
     "metadata": {
      "needs_background": "light"
     },
     "output_type": "display_data"
    }
   ],
   "source": [
    "# Полная диаграмма размаха:\n",
    "plt.boxplot(good_data['days_exposition'])\n",
    "plt.ylim(1,1000)\n",
    "\n",
    "# Полная гистограмма:\n",
    "good_data.plot(y = 'days_exposition', kind='hist', bins=30, grid=True, figsize=(10,5), range=(1,1600))\n",
    "\n",
    "# Укороченная гистограмма:\n",
    "good_data.plot(y = 'days_exposition', kind='hist', bins=100, grid=True, figsize=(10,5), range=(1,200))"
   ]
  },
  {
   "cell_type": "markdown",
   "metadata": {},
   "source": [
    "**Вывод**\n",
    "\n",
    "В очищенных данных среднее значение теперь равно 191, а медиана - 110. Также, теперь нормальные значения располагаются от 1 до 600 дней."
   ]
  },
  {
   "cell_type": "markdown",
   "metadata": {},
   "source": [
    "### Задача 4\n",
    "\n",
    "**Какие факторы больше всего влияют на стоимость квартиры? Изучите, зависит ли цена от площади, числа комнат, удалённости от центра. Изучите зависимость цены от того, на каком этаже расположена квартира: первом, последнем или другом. Также изучите зависимость от даты размещения: дня недели, месяца и года.**\n",
    "\n",
    "Выполним все по порядку.\n",
    "\n",
    "#### Зависимость цены квадратного метра от общей площади квартиры.\n",
    "\n",
    "Отфильтруем датафрейм по столбцу `total_area` и сохраним результат в новую переменную."
   ]
  },
  {
   "cell_type": "code",
   "execution_count": 47,
   "metadata": {},
   "outputs": [],
   "source": [
    "data_filtered = data.groupby('total_area').median()['price_per_square_meter'].reset_index().sort_values(by='total_area')"
   ]
  },
  {
   "cell_type": "markdown",
   "metadata": {},
   "source": [
    "Теперь на основе отфильтрованных данных составим точечную гистограмму:"
   ]
  },
  {
   "cell_type": "code",
   "execution_count": 48,
   "metadata": {},
   "outputs": [
    {
     "data": {
      "text/plain": [
       "<AxesSubplot:xlabel='total_area'>"
      ]
     },
     "execution_count": 48,
     "metadata": {},
     "output_type": "execute_result"
    },
    {
     "data": {
      "image/png": "[encoded data removed]",
      "text/plain": [
       "<Figure size 720x360 with 1 Axes>"
      ]
     },
     "metadata": {
      "needs_background": "light"
     },
     "output_type": "display_data"
    }
   ],
   "source": [
    "data_filtered.plot(x='total_area', y='price_per_square_meter', style='o', alpha=0.25, legend=None, figsize=(10,5)) "
   ]
  },
  {
   "cell_type": "markdown",
   "metadata": {},
   "source": [
    "Наконец остортируем новую таблицу по медиане и рассчитаем корреляцию Пирсона:"
   ]
  },
  {
   "cell_type": "code",
   "execution_count": 49,
   "metadata": {},
   "outputs": [
    {
     "data": {
      "text/plain": [
       "0.3019601438779257"
      ]
     },
     "execution_count": 49,
     "metadata": {},
     "output_type": "execute_result"
    }
   ],
   "source": [
    "data['total_area'].corr(data['price_per_square_meter'])"
   ]
  },
  {
   "cell_type": "markdown",
   "metadata": {},
   "source": [
    "**Вывод**\n",
    "\n",
    "Зависимость слабая, но присутствует. Согласно корреляции Пирсона - всего 0.3. \n",
    "\n",
    "Это можно расшифровать так: от увеличения площади, стоимость немного растет."
   ]
  },
  {
   "cell_type": "markdown",
   "metadata": {},
   "source": [
    "#### Зависимость цены квадратного метра от числа комнат.\n",
    "\n",
    "Отфильтруем датафрейм по столбцу `rooms`:"
   ]
  },
  {
   "cell_type": "code",
   "execution_count": 50,
   "metadata": {},
   "outputs": [],
   "source": [
    "data_filtered = data.groupby('rooms').median()['price_per_square_meter'].reset_index().sort_values(by='rooms')"
   ]
  },
  {
   "cell_type": "markdown",
   "metadata": {},
   "source": [
    "Составим диаграмму:"
   ]
  },
  {
   "cell_type": "code",
   "execution_count": 51,
   "metadata": {},
   "outputs": [
    {
     "data": {
      "text/plain": [
       "<AxesSubplot:xlabel='rooms'>"
      ]
     },
     "execution_count": 51,
     "metadata": {},
     "output_type": "execute_result"
    },
    {
     "data": {
      "image/png": "[encoded data removed]",
      "text/plain": [
       "<Figure size 720x360 with 1 Axes>"
      ]
     },
     "metadata": {
      "needs_background": "light"
     },
     "output_type": "display_data"
    }
   ],
   "source": [
    "data_filtered.plot(x='rooms', y='price_per_square_meter', kind='bar', legend=None, figsize=(10,5))"
   ]
  },
  {
   "cell_type": "markdown",
   "metadata": {},
   "source": [
    "Мы наблюдаем сильный выброс. Надо это исправить.\n",
    "\n",
    "Составим диаграмму размаха, чтобы определить выбросы:"
   ]
  },
  {
   "cell_type": "code",
   "execution_count": 52,
   "metadata": {
    "scrolled": true
   },
   "outputs": [
    {
     "data": {
      "text/plain": [
       "<AxesSubplot:>"
      ]
     },
     "execution_count": 52,
     "metadata": {},
     "output_type": "execute_result"
    },
    {
     "data": {
      "image/png": "[encoded data removed]",
      "text/plain": [
       "<Figure size 432x288 with 1 Axes>"
      ]
     },
     "metadata": {
      "needs_background": "light"
     },
     "output_type": "display_data"
    }
   ],
   "source": [
    "data.boxplot(column='rooms')"
   ]
  },
  {
   "cell_type": "markdown",
   "metadata": {},
   "source": [
    "Мы видим, что выбросы начинаются в районе 6 комнат. \n",
    "\n",
    "Перефильтруем, но уже без выбросов:"
   ]
  },
  {
   "cell_type": "code",
   "execution_count": 53,
   "metadata": {},
   "outputs": [],
   "source": [
    "data_filtered = data.query('rooms <= 6').groupby('rooms').median()['price_per_square_meter'].reset_index().sort_values(by='rooms')"
   ]
  },
  {
   "cell_type": "markdown",
   "metadata": {},
   "source": [
    "Снова составим диаграмму:"
   ]
  },
  {
   "cell_type": "code",
   "execution_count": 54,
   "metadata": {
    "scrolled": false
   },
   "outputs": [
    {
     "data": {
      "text/plain": [
       "<AxesSubplot:xlabel='rooms'>"
      ]
     },
     "execution_count": 54,
     "metadata": {},
     "output_type": "execute_result"
    },
    {
     "data": {
      "image/png": "[encoded data removed]",
      "text/plain": [
       "<Figure size 720x360 with 1 Axes>"
      ]
     },
     "metadata": {
      "needs_background": "light"
     },
     "output_type": "display_data"
    }
   ],
   "source": [
    "data_filtered.plot(x='rooms', y='price_per_square_meter', kind='bar', legend=None, figsize=(10,5))"
   ]
  },
  {
   "cell_type": "markdown",
   "metadata": {},
   "source": [
    "Расчитаем корреляцию Пирсона:"
   ]
  },
  {
   "cell_type": "code",
   "execution_count": 55,
   "metadata": {},
   "outputs": [
    {
     "data": {
      "text/plain": [
       "0.05541949967059213"
      ]
     },
     "execution_count": 55,
     "metadata": {},
     "output_type": "execute_result"
    }
   ],
   "source": [
    "data['rooms'].corr(data['price_per_square_meter'])"
   ]
  },
  {
   "cell_type": "markdown",
   "metadata": {},
   "source": [
    "**Вывод**\n",
    "\n",
    "Корреляция здесь крайне мала. Судить о какой-либо жесткой зависимости здесь не стоит, хотя и наблюдается небольшая тенденция: чем ближе к трем комнатам, чем дешевле метраж."
   ]
  },
  {
   "cell_type": "markdown",
   "metadata": {},
   "source": [
    "#### Зависимость цены квадратного метра от удалённости от центра.\n",
    "\n",
    "Повторим предыдущие действия для столбца `cityCenters_nearest` и составим диаграмму."
   ]
  },
  {
   "cell_type": "code",
   "execution_count": 56,
   "metadata": {
    "scrolled": false
   },
   "outputs": [
    {
     "data": {
      "text/plain": [
       "<AxesSubplot:xlabel='cityCenters_nearest', ylabel='price_per_square_meter'>"
      ]
     },
     "execution_count": 56,
     "metadata": {},
     "output_type": "execute_result"
    },
    {
     "data": {
      "image/png": "[encoded data removed]",
      "text/plain": [
       "<Figure size 720x360 with 1 Axes>"
      ]
     },
     "metadata": {
      "needs_background": "light"
     },
     "output_type": "display_data"
    }
   ],
   "source": [
    "data_filtered = data.groupby('cityCenters_nearest').median()['price_per_square_meter'].reset_index().sort_values(by='cityCenters_nearest')\n",
    "\n",
    "data_filtered.plot(x='cityCenters_nearest', y='price_per_square_meter', kind='scatter', alpha=0.2, legend=None, figsize=(10,5))"
   ]
  },
  {
   "cell_type": "markdown",
   "metadata": {},
   "source": [
    "Расчитаем корреляцию Пирсона:"
   ]
  },
  {
   "cell_type": "code",
   "execution_count": 57,
   "metadata": {
    "scrolled": true
   },
   "outputs": [
    {
     "data": {
      "text/plain": [
       "-0.31795073682864694"
      ]
     },
     "execution_count": 57,
     "metadata": {},
     "output_type": "execute_result"
    }
   ],
   "source": [
    "data['cityCenters_nearest'].corr(data['price_per_square_meter'])"
   ]
  },
  {
   "cell_type": "markdown",
   "metadata": {},
   "source": [
    "**Вывод**\n",
    "\n",
    "Видим четкую зависимость стоимости квадратного метра от близости к центру. Чем ближе к центру, тем выше стоимость."
   ]
  },
  {
   "cell_type": "markdown",
   "metadata": {},
   "source": [
    "#### Зависимость цены квадратного метра от этажа.\n",
    "\n",
    "Повторим предыдущие действия для столбца `floor_category` и составим диаграмму."
   ]
  },
  {
   "cell_type": "code",
   "execution_count": 58,
   "metadata": {
    "scrolled": false
   },
   "outputs": [
    {
     "data": {
      "text/plain": [
       "<AxesSubplot:xlabel='floor_category'>"
      ]
     },
     "execution_count": 58,
     "metadata": {},
     "output_type": "execute_result"
    },
    {
     "data": {
      "image/png": "[encoded data removed]",
      "text/plain": [
       "<Figure size 720x360 with 1 Axes>"
      ]
     },
     "metadata": {
      "needs_background": "light"
     },
     "output_type": "display_data"
    }
   ],
   "source": [
    "data_filtered = data.groupby('floor_category').median()['price_per_square_meter'].reset_index().sort_values(by='floor_category')\n",
    "\n",
    "data_filtered.plot(x='floor_category', y='price_per_square_meter', style='-o', legend=None, figsize=(10,5))"
   ]
  },
  {
   "cell_type": "markdown",
   "metadata": {},
   "source": [
    "**Вывод**\n",
    "\n",
    "Мы наблюдаем, что для дешевле всего обходятся квартиры на первом этаже. На последнем этаже - чуть дороже. Наконец, самые дорогие кв.м. приходятся на промежуточные этажи."
   ]
  },
  {
   "cell_type": "markdown",
   "metadata": {},
   "source": [
    "#### Зависимость цены квадратного метра от даты размещения: дня недели."
   ]
  },
  {
   "cell_type": "code",
   "execution_count": 59,
   "metadata": {
    "scrolled": false
   },
   "outputs": [
    {
     "data": {
      "text/plain": [
       "<AxesSubplot:xlabel='weekday_exposition'>"
      ]
     },
     "execution_count": 59,
     "metadata": {},
     "output_type": "execute_result"
    },
    {
     "data": {
      "image/png": "[encoded data removed]",
      "text/plain": [
       "<Figure size 720x360 with 1 Axes>"
      ]
     },
     "metadata": {
      "needs_background": "light"
     },
     "output_type": "display_data"
    }
   ],
   "source": [
    "data_filtered = data.groupby('weekday_exposition').median()['price_per_square_meter'].reset_index().sort_values(by='weekday_exposition')\n",
    "\n",
    "data_filtered.plot(x='weekday_exposition', y='price_per_square_meter', style='-o', legend=None, figsize=(10,5))"
   ]
  },
  {
   "cell_type": "markdown",
   "metadata": {},
   "source": [
    "**Вывод**\n",
    "\n",
    "Мы видим, что чем ближе ко вторнику выставлено объявление, тем выше цена. Но разница не серьезная. В субботу наблюдается самая маленькая стоимость.\n",
    "\n",
    "Предположительно, стоимость недвижимости зависит от общей активности людей, в результате чего в рабочие дни цены чуть выше."
   ]
  },
  {
   "cell_type": "markdown",
   "metadata": {},
   "source": [
    "#### Зависимость цены квадратного метра от даты размещения: месяца."
   ]
  },
  {
   "cell_type": "code",
   "execution_count": 60,
   "metadata": {
    "scrolled": true
   },
   "outputs": [
    {
     "data": {
      "text/plain": [
       "<AxesSubplot:xlabel='month_exposition'>"
      ]
     },
     "execution_count": 60,
     "metadata": {},
     "output_type": "execute_result"
    },
    {
     "data": {
      "image/png": "[encoded data removed]",
      "text/plain": [
       "<Figure size 720x360 with 1 Axes>"
      ]
     },
     "metadata": {
      "needs_background": "light"
     },
     "output_type": "display_data"
    }
   ],
   "source": [
    "data_filtered = data.groupby('month_exposition').median()['price_per_square_meter'].reset_index().sort_values(by='month_exposition')\n",
    "\n",
    "data_filtered.plot(x='month_exposition', y='price_per_square_meter', style='-o', legend=None, figsize=(10,5))"
   ]
  },
  {
   "cell_type": "markdown",
   "metadata": {},
   "source": [
    "**Вывод**\n",
    "\n",
    "Самая высокая стоимость кв.м. в апреле и августе. Самая низкая - в июне.\n",
    "\n",
    "Мы наблюдаем сезонность рынка недвижимости: в начале лета предложение меньше всего по стоимости. Вероятно, это связано с тем, что больше всего отпусков приходится именно на лето."
   ]
  },
  {
   "cell_type": "markdown",
   "metadata": {},
   "source": [
    "#### Зависимость цены квадратного метра от даты размещения: год."
   ]
  },
  {
   "cell_type": "code",
   "execution_count": 61,
   "metadata": {
    "scrolled": true
   },
   "outputs": [
    {
     "data": {
      "text/plain": [
       "<AxesSubplot:xlabel='year_exposition'>"
      ]
     },
     "execution_count": 61,
     "metadata": {},
     "output_type": "execute_result"
    },
    {
     "data": {
      "image/png": "[encoded data removed]",
      "text/plain": [
       "<Figure size 720x360 with 1 Axes>"
      ]
     },
     "metadata": {
      "needs_background": "light"
     },
     "output_type": "display_data"
    }
   ],
   "source": [
    "data_filtered = data.groupby('year_exposition').median()['price_per_square_meter'].reset_index().sort_values(by='year_exposition')\n",
    "\n",
    "data_filtered.plot(x='year_exposition', y='price_per_square_meter', style='-o', legend=None, figsize=(10,5))"
   ]
  },
  {
   "cell_type": "markdown",
   "metadata": {},
   "source": [
    "**Вывод**\n",
    "\n",
    "Здесь мы наблюдаем, что в среднем с 2014 по 2016 год стоимость кв.м. падала, после чего начала снова расти.\n",
    "\n",
    "Более глубоких выводов здесь сделать нельзя, поскольку мы не рассматриваем сегментацию рынка, и потому стоимость может варьироваться по разному из года в год."
   ]
  },
  {
   "cell_type": "markdown",
   "metadata": {},
   "source": [
    "### Задача 5.\n",
    "\n",
    "**Выберите 10 населённых пунктов с наибольшим числом объявлений. Посчитайте среднюю цену квадратного метра в этих населённых пунктах. Выделите населённые пункты с самой высокой и низкой стоимостью жилья. Эти данные можно найти по имени в столбце `locality_name`.**\n",
    "\n",
    "Для этого мы составим сводную таблицу по столбцу `locality_name`. "
   ]
  },
  {
   "cell_type": "code",
   "execution_count": 62,
   "metadata": {},
   "outputs": [],
   "source": [
    "locality_pivot_table = data.pivot_table(index = 'locality_name', values = 'price_per_square_meter', aggfunc=['count', 'mean'])"
   ]
  },
  {
   "cell_type": "markdown",
   "metadata": {},
   "source": [
    "Поменяем названия столбцов, чтобы было удобнее их читать:"
   ]
  },
  {
   "cell_type": "code",
   "execution_count": 63,
   "metadata": {},
   "outputs": [],
   "source": [
    "locality_pivot_table.columns = ['count', 'mean']"
   ]
  },
  {
   "cell_type": "markdown",
   "metadata": {},
   "source": [
    "Отсортируем значения в таблице по возрастанию и сохраним 10 ее верхних значений:"
   ]
  },
  {
   "cell_type": "code",
   "execution_count": 64,
   "metadata": {},
   "outputs": [],
   "source": [
    "locality_pivot_table = locality_pivot_table.sort_values('count', ascending = False).head(10)"
   ]
  },
  {
   "cell_type": "markdown",
   "metadata": {},
   "source": [
    "Выведем на экран результат:"
   ]
  },
  {
   "cell_type": "code",
   "execution_count": 65,
   "metadata": {
    "scrolled": true
   },
   "outputs": [
    {
     "data": {
      "text/html": [
       "<div>\n",
       "<style scoped>\n",
       "    .dataframe tbody tr th:only-of-type {\n",
       "        vertical-align: middle;\n",
       "    }\n",
       "\n",
       "    .dataframe tbody tr th {\n",
       "        vertical-align: top;\n",
       "    }\n",
       "\n",
       "    .dataframe thead th {\n",
       "        text-align: right;\n",
       "    }\n",
       "</style>\n",
       "<table border=\"1\" class=\"dataframe\">\n",
       "  <thead>\n",
       "    <tr style=\"text-align: right;\">\n",
       "      <th></th>\n",
       "      <th>count</th>\n",
       "      <th>mean</th>\n",
       "    </tr>\n",
       "    <tr>\n",
       "      <th>locality_name</th>\n",
       "      <th></th>\n",
       "      <th></th>\n",
       "    </tr>\n",
       "  </thead>\n",
       "  <tbody>\n",
       "    <tr>\n",
       "      <th>Санкт-Петербург</th>\n",
       "      <td>15721</td>\n",
       "      <td>114848.565231</td>\n",
       "    </tr>\n",
       "    <tr>\n",
       "      <th>посёлок Мурино</th>\n",
       "      <td>522</td>\n",
       "      <td>85751.733716</td>\n",
       "    </tr>\n",
       "    <tr>\n",
       "      <th>посёлок Шушары</th>\n",
       "      <td>440</td>\n",
       "      <td>78676.904545</td>\n",
       "    </tr>\n",
       "    <tr>\n",
       "      <th>Всеволожск</th>\n",
       "      <td>398</td>\n",
       "      <td>68654.007538</td>\n",
       "    </tr>\n",
       "    <tr>\n",
       "      <th>Пушкин</th>\n",
       "      <td>369</td>\n",
       "      <td>103125.373984</td>\n",
       "    </tr>\n",
       "    <tr>\n",
       "      <th>Колпино</th>\n",
       "      <td>338</td>\n",
       "      <td>75424.150888</td>\n",
       "    </tr>\n",
       "    <tr>\n",
       "      <th>посёлок Парголово</th>\n",
       "      <td>327</td>\n",
       "      <td>90175.489297</td>\n",
       "    </tr>\n",
       "    <tr>\n",
       "      <th>Гатчина</th>\n",
       "      <td>307</td>\n",
       "      <td>68745.693811</td>\n",
       "    </tr>\n",
       "    <tr>\n",
       "      <th>деревня Кудрово</th>\n",
       "      <td>299</td>\n",
       "      <td>92473.086957</td>\n",
       "    </tr>\n",
       "    <tr>\n",
       "      <th>Выборг</th>\n",
       "      <td>237</td>\n",
       "      <td>58141.489451</td>\n",
       "    </tr>\n",
       "  </tbody>\n",
       "</table>\n",
       "</div>"
      ],
      "text/plain": [
       "                   count           mean\n",
       "locality_name                          \n",
       "Санкт-Петербург    15721  114848.565231\n",
       "посёлок Мурино       522   85751.733716\n",
       "посёлок Шушары       440   78676.904545\n",
       "Всеволожск           398   68654.007538\n",
       "Пушкин               369  103125.373984\n",
       "Колпино              338   75424.150888\n",
       "посёлок Парголово    327   90175.489297\n",
       "Гатчина              307   68745.693811\n",
       "деревня Кудрово      299   92473.086957\n",
       "Выборг               237   58141.489451"
      ]
     },
     "metadata": {},
     "output_type": "display_data"
    }
   ],
   "source": [
    "display(locality_pivot_table)"
   ]
  },
  {
   "cell_type": "markdown",
   "metadata": {},
   "source": [
    "Построим столбчатую диаграмму по новой таблице:"
   ]
  },
  {
   "cell_type": "code",
   "execution_count": 66,
   "metadata": {},
   "outputs": [
    {
     "data": {
      "text/plain": [
       "<AxesSubplot:xlabel='locality_name'>"
      ]
     },
     "execution_count": 66,
     "metadata": {},
     "output_type": "execute_result"
    },
    {
     "data": {
      "image/png": "[encoded data removed]",
      "text/plain": [
       "<Figure size 720x360 with 1 Axes>"
      ]
     },
     "metadata": {
      "needs_background": "light"
     },
     "output_type": "display_data"
    }
   ],
   "source": [
    "locality_pivot_table.plot(y='mean', kind='bar', legend=None, figsize=(10,5))"
   ]
  },
  {
   "cell_type": "markdown",
   "metadata": {},
   "source": [
    "Выведем город с самой высокой стоимостью жилья:"
   ]
  },
  {
   "cell_type": "code",
   "execution_count": 67,
   "metadata": {},
   "outputs": [
    {
     "data": {
      "text/html": [
       "<div>\n",
       "<style scoped>\n",
       "    .dataframe tbody tr th:only-of-type {\n",
       "        vertical-align: middle;\n",
       "    }\n",
       "\n",
       "    .dataframe tbody tr th {\n",
       "        vertical-align: top;\n",
       "    }\n",
       "\n",
       "    .dataframe thead th {\n",
       "        text-align: right;\n",
       "    }\n",
       "</style>\n",
       "<table border=\"1\" class=\"dataframe\">\n",
       "  <thead>\n",
       "    <tr style=\"text-align: right;\">\n",
       "      <th></th>\n",
       "      <th>count</th>\n",
       "      <th>mean</th>\n",
       "    </tr>\n",
       "    <tr>\n",
       "      <th>locality_name</th>\n",
       "      <th></th>\n",
       "      <th></th>\n",
       "    </tr>\n",
       "  </thead>\n",
       "  <tbody>\n",
       "    <tr>\n",
       "      <th>Санкт-Петербург</th>\n",
       "      <td>15721</td>\n",
       "      <td>114848.565231</td>\n",
       "    </tr>\n",
       "  </tbody>\n",
       "</table>\n",
       "</div>"
      ],
      "text/plain": [
       "                 count           mean\n",
       "locality_name                        \n",
       "Санкт-Петербург  15721  114848.565231"
      ]
     },
     "execution_count": 67,
     "metadata": {},
     "output_type": "execute_result"
    }
   ],
   "source": [
    "locality_pivot_table[locality_pivot_table['mean']==locality_pivot_table['mean'].max()]"
   ]
  },
  {
   "cell_type": "markdown",
   "metadata": {},
   "source": [
    "Выведем город с самой низкой стоимостью жилья:"
   ]
  },
  {
   "cell_type": "code",
   "execution_count": 68,
   "metadata": {
    "scrolled": true
   },
   "outputs": [
    {
     "data": {
      "text/html": [
       "<div>\n",
       "<style scoped>\n",
       "    .dataframe tbody tr th:only-of-type {\n",
       "        vertical-align: middle;\n",
       "    }\n",
       "\n",
       "    .dataframe tbody tr th {\n",
       "        vertical-align: top;\n",
       "    }\n",
       "\n",
       "    .dataframe thead th {\n",
       "        text-align: right;\n",
       "    }\n",
       "</style>\n",
       "<table border=\"1\" class=\"dataframe\">\n",
       "  <thead>\n",
       "    <tr style=\"text-align: right;\">\n",
       "      <th></th>\n",
       "      <th>count</th>\n",
       "      <th>mean</th>\n",
       "    </tr>\n",
       "    <tr>\n",
       "      <th>locality_name</th>\n",
       "      <th></th>\n",
       "      <th></th>\n",
       "    </tr>\n",
       "  </thead>\n",
       "  <tbody>\n",
       "    <tr>\n",
       "      <th>Выборг</th>\n",
       "      <td>237</td>\n",
       "      <td>58141.489451</td>\n",
       "    </tr>\n",
       "  </tbody>\n",
       "</table>\n",
       "</div>"
      ],
      "text/plain": [
       "               count          mean\n",
       "locality_name                     \n",
       "Выборг           237  58141.489451"
      ]
     },
     "execution_count": 68,
     "metadata": {},
     "output_type": "execute_result"
    }
   ],
   "source": [
    "locality_pivot_table[locality_pivot_table['mean']==locality_pivot_table['mean'].min()]"
   ]
  },
  {
   "cell_type": "markdown",
   "metadata": {},
   "source": [
    "**Вывод**\n",
    "\n",
    "Из десяти населенных пунктов с самым большим количеством объявлений, город с самой высокой стоимостью жилья является Санкт-Петербург, а с самой низкой - Выборг."
   ]
  },
  {
   "cell_type": "markdown",
   "metadata": {},
   "source": [
    "### Задача 6\n",
    "\n",
    "**Изучите предложения квартир: для каждой квартиры есть информация о расстоянии до центра. Выделите квартиры в Санкт-Петербурге (`locality_name`). Ваша задача — выяснить, какая область входит в центр. Создайте столбец с расстоянием до центра в километрах: округлите до целых значений. После этого посчитайте среднюю цену для каждого километра. Постройте график: он должен показывать, как цена зависит от удалённости от центра. Определите границу, где график сильно меняется, — это и будет центральная зона.**\n",
    "\n",
    "Cоздадим столбец `cityCenters_nearest_km` и сохраним в него обработанный столбец `cityCenters_nearest`. Пропускам дадим специально завышенное значение, чтобы отдалить их от центра."
   ]
  },
  {
   "cell_type": "code",
   "execution_count": 69,
   "metadata": {},
   "outputs": [],
   "source": [
    "data['cityCenters_nearest_km'] = data['cityCenters_nearest']/1000\n",
    "data['cityCenters_nearest_km'] = data['cityCenters_nearest_km'].fillna(999999)\n",
    "data['cityCenters_nearest_km'] = data['cityCenters_nearest_km'].astype('int')"
   ]
  },
  {
   "cell_type": "markdown",
   "metadata": {},
   "source": [
    "Сформируем сводную таблицу по новому столбцу, взяв значения только для Санкт-Петербурга, и игнорируя ранее специально завышенные значения:"
   ]
  },
  {
   "cell_type": "code",
   "execution_count": 70,
   "metadata": {},
   "outputs": [],
   "source": [
    "pivot_table_km = data.query('locality_name == \"Санкт-Петербург\" and cityCenters_nearest_km !=999999').pivot_table(index = 'cityCenters_nearest_km', values = 'price_per_square_meter', aggfunc = 'mean')"
   ]
  },
  {
   "cell_type": "markdown",
   "metadata": {},
   "source": [
    "Выведем на экран новую таблицу и составим по ней график:"
   ]
  },
  {
   "cell_type": "code",
   "execution_count": 71,
   "metadata": {
    "scrolled": false
   },
   "outputs": [
    {
     "data": {
      "text/html": [
       "<div>\n",
       "<style scoped>\n",
       "    .dataframe tbody tr th:only-of-type {\n",
       "        vertical-align: middle;\n",
       "    }\n",
       "\n",
       "    .dataframe tbody tr th {\n",
       "        vertical-align: top;\n",
       "    }\n",
       "\n",
       "    .dataframe thead th {\n",
       "        text-align: right;\n",
       "    }\n",
       "</style>\n",
       "<table border=\"1\" class=\"dataframe\">\n",
       "  <thead>\n",
       "    <tr style=\"text-align: right;\">\n",
       "      <th></th>\n",
       "      <th>price_per_square_meter</th>\n",
       "    </tr>\n",
       "    <tr>\n",
       "      <th>cityCenters_nearest_km</th>\n",
       "      <th></th>\n",
       "    </tr>\n",
       "  </thead>\n",
       "  <tbody>\n",
       "    <tr>\n",
       "      <th>0</th>\n",
       "      <td>187323.674419</td>\n",
       "    </tr>\n",
       "    <tr>\n",
       "      <th>1</th>\n",
       "      <td>166603.312500</td>\n",
       "    </tr>\n",
       "    <tr>\n",
       "      <th>2</th>\n",
       "      <td>146662.420195</td>\n",
       "    </tr>\n",
       "    <tr>\n",
       "      <th>3</th>\n",
       "      <td>129415.891635</td>\n",
       "    </tr>\n",
       "    <tr>\n",
       "      <th>4</th>\n",
       "      <td>137475.039691</td>\n",
       "    </tr>\n",
       "    <tr>\n",
       "      <th>5</th>\n",
       "      <td>146978.789337</td>\n",
       "    </tr>\n",
       "    <tr>\n",
       "      <th>6</th>\n",
       "      <td>152277.455319</td>\n",
       "    </tr>\n",
       "    <tr>\n",
       "      <th>7</th>\n",
       "      <td>141399.287469</td>\n",
       "    </tr>\n",
       "    <tr>\n",
       "      <th>8</th>\n",
       "      <td>120580.929851</td>\n",
       "    </tr>\n",
       "    <tr>\n",
       "      <th>9</th>\n",
       "      <td>110012.108696</td>\n",
       "    </tr>\n",
       "    <tr>\n",
       "      <th>10</th>\n",
       "      <td>111640.850877</td>\n",
       "    </tr>\n",
       "    <tr>\n",
       "      <th>11</th>\n",
       "      <td>106790.438163</td>\n",
       "    </tr>\n",
       "    <tr>\n",
       "      <th>12</th>\n",
       "      <td>108295.312211</td>\n",
       "    </tr>\n",
       "    <tr>\n",
       "      <th>13</th>\n",
       "      <td>107208.716120</td>\n",
       "    </tr>\n",
       "    <tr>\n",
       "      <th>14</th>\n",
       "      <td>104986.032407</td>\n",
       "    </tr>\n",
       "    <tr>\n",
       "      <th>15</th>\n",
       "      <td>101882.678077</td>\n",
       "    </tr>\n",
       "    <tr>\n",
       "      <th>16</th>\n",
       "      <td>100085.150995</td>\n",
       "    </tr>\n",
       "    <tr>\n",
       "      <th>17</th>\n",
       "      <td>94095.434457</td>\n",
       "    </tr>\n",
       "    <tr>\n",
       "      <th>18</th>\n",
       "      <td>94831.528736</td>\n",
       "    </tr>\n",
       "    <tr>\n",
       "      <th>19</th>\n",
       "      <td>95433.951220</td>\n",
       "    </tr>\n",
       "    <tr>\n",
       "      <th>20</th>\n",
       "      <td>107045.773810</td>\n",
       "    </tr>\n",
       "    <tr>\n",
       "      <th>21</th>\n",
       "      <td>91492.220513</td>\n",
       "    </tr>\n",
       "    <tr>\n",
       "      <th>22</th>\n",
       "      <td>88714.237410</td>\n",
       "    </tr>\n",
       "    <tr>\n",
       "      <th>23</th>\n",
       "      <td>92720.233333</td>\n",
       "    </tr>\n",
       "    <tr>\n",
       "      <th>24</th>\n",
       "      <td>82439.909091</td>\n",
       "    </tr>\n",
       "    <tr>\n",
       "      <th>25</th>\n",
       "      <td>91135.600000</td>\n",
       "    </tr>\n",
       "    <tr>\n",
       "      <th>26</th>\n",
       "      <td>75171.333333</td>\n",
       "    </tr>\n",
       "    <tr>\n",
       "      <th>27</th>\n",
       "      <td>132115.000000</td>\n",
       "    </tr>\n",
       "    <tr>\n",
       "      <th>28</th>\n",
       "      <td>81840.200000</td>\n",
       "    </tr>\n",
       "    <tr>\n",
       "      <th>29</th>\n",
       "      <td>62481.666667</td>\n",
       "    </tr>\n",
       "  </tbody>\n",
       "</table>\n",
       "</div>"
      ],
      "text/plain": [
       "                        price_per_square_meter\n",
       "cityCenters_nearest_km                        \n",
       "0                                187323.674419\n",
       "1                                166603.312500\n",
       "2                                146662.420195\n",
       "3                                129415.891635\n",
       "4                                137475.039691\n",
       "5                                146978.789337\n",
       "6                                152277.455319\n",
       "7                                141399.287469\n",
       "8                                120580.929851\n",
       "9                                110012.108696\n",
       "10                               111640.850877\n",
       "11                               106790.438163\n",
       "12                               108295.312211\n",
       "13                               107208.716120\n",
       "14                               104986.032407\n",
       "15                               101882.678077\n",
       "16                               100085.150995\n",
       "17                                94095.434457\n",
       "18                                94831.528736\n",
       "19                                95433.951220\n",
       "20                               107045.773810\n",
       "21                                91492.220513\n",
       "22                                88714.237410\n",
       "23                                92720.233333\n",
       "24                                82439.909091\n",
       "25                                91135.600000\n",
       "26                                75171.333333\n",
       "27                               132115.000000\n",
       "28                                81840.200000\n",
       "29                                62481.666667"
      ]
     },
     "metadata": {},
     "output_type": "display_data"
    }
   ],
   "source": [
    "display(pivot_table_km)"
   ]
  },
  {
   "cell_type": "code",
   "execution_count": 72,
   "metadata": {
    "scrolled": true
   },
   "outputs": [
    {
     "data": {
      "text/plain": [
       "<AxesSubplot:xlabel='cityCenters_nearest_km'>"
      ]
     },
     "execution_count": 72,
     "metadata": {},
     "output_type": "execute_result"
    },
    {
     "data": {
      "image/png": "[encoded data removed]",
      "text/plain": [
       "<Figure size 432x288 with 1 Axes>"
      ]
     },
     "metadata": {
      "needs_background": "light"
     },
     "output_type": "display_data"
    }
   ],
   "source": [
    "pivot_table_km.plot(grid=True)"
   ]
  },
  {
   "cell_type": "markdown",
   "metadata": {},
   "source": [
    "**Вывод**\n",
    "\n",
    "Мы наблюдаем интересный результат.\n",
    "\n",
    "Ожидаемо, что чем ближе к самому центру, тем выше стоимость. Если опираться на резкое падение цены по графику, то центр ограничен радиусом в 8 км. \n",
    "\n",
    "Неожиданный провал цены в отметке в 4 км можно объяснить присутствием не сильно благоприятных районов.\n",
    "\n",
    "Также наблюдается резкий скачок стоимости на расстоянии 27 км. Четкого объяснения этому выбросу пока не имеется."
   ]
  },
  {
   "cell_type": "markdown",
   "metadata": {},
   "source": [
    "### Задача 7\n",
    "\n",
    "**Выделите сегмент квартир в центре. Проанализируйте эту территорию и изучите следующие параметры: площадь, цена, число комнат, высота потолков. Также выделите факторы, которые влияют на стоимость квартиры (число комнат, этаж, удалённость от центра, дата размещения объявления). Сделайте выводы. Отличаются ли они от общих выводов по всей базе?**\n",
    "\n",
    "Выделим квартиры в центре, взяв за радиус 8 км."
   ]
  },
  {
   "cell_type": "code",
   "execution_count": 73,
   "metadata": {},
   "outputs": [],
   "source": [
    "center_spb_data = data.query('cityCenters_nearest_km <= 8 and locality_name == \"Санкт-Петербург\"')"
   ]
  },
  {
   "cell_type": "markdown",
   "metadata": {},
   "source": [
    "Сначала построим такие же гистограммы распределения для площади, цены, числа комнат и высоты потолков, используя тот же код, что использовали при построении данных для всего датафрейма.\n",
    "\n",
    "Рассмотрим интересующие нас столбцы поближе:"
   ]
  },
  {
   "cell_type": "code",
   "execution_count": 74,
   "metadata": {
    "scrolled": false
   },
   "outputs": [
    {
     "data": {
      "text/html": [
       "<div>\n",
       "<style scoped>\n",
       "    .dataframe tbody tr th:only-of-type {\n",
       "        vertical-align: middle;\n",
       "    }\n",
       "\n",
       "    .dataframe tbody tr th {\n",
       "        vertical-align: top;\n",
       "    }\n",
       "\n",
       "    .dataframe thead th {\n",
       "        text-align: right;\n",
       "    }\n",
       "</style>\n",
       "<table border=\"1\" class=\"dataframe\">\n",
       "  <thead>\n",
       "    <tr style=\"text-align: right;\">\n",
       "      <th></th>\n",
       "      <th>total_area</th>\n",
       "      <th>last_price</th>\n",
       "      <th>rooms</th>\n",
       "      <th>ceiling_height</th>\n",
       "    </tr>\n",
       "  </thead>\n",
       "  <tbody>\n",
       "    <tr>\n",
       "      <th>count</th>\n",
       "      <td>4382.000000</td>\n",
       "      <td>4.382000e+03</td>\n",
       "      <td>4382.000000</td>\n",
       "      <td>4382.000000</td>\n",
       "    </tr>\n",
       "    <tr>\n",
       "      <th>mean</th>\n",
       "      <td>88.570032</td>\n",
       "      <td>1.376875e+07</td>\n",
       "      <td>2.720904</td>\n",
       "      <td>2.951157</td>\n",
       "    </tr>\n",
       "    <tr>\n",
       "      <th>std</th>\n",
       "      <td>57.929565</td>\n",
       "      <td>2.296136e+07</td>\n",
       "      <td>1.410307</td>\n",
       "      <td>1.677898</td>\n",
       "    </tr>\n",
       "    <tr>\n",
       "      <th>min</th>\n",
       "      <td>12.000000</td>\n",
       "      <td>1.600000e+06</td>\n",
       "      <td>0.000000</td>\n",
       "      <td>2.000000</td>\n",
       "    </tr>\n",
       "    <tr>\n",
       "      <th>25%</th>\n",
       "      <td>53.225000</td>\n",
       "      <td>6.207104e+06</td>\n",
       "      <td>2.000000</td>\n",
       "      <td>2.650000</td>\n",
       "    </tr>\n",
       "    <tr>\n",
       "      <th>50%</th>\n",
       "      <td>75.000000</td>\n",
       "      <td>8.707500e+06</td>\n",
       "      <td>3.000000</td>\n",
       "      <td>2.755000</td>\n",
       "    </tr>\n",
       "    <tr>\n",
       "      <th>75%</th>\n",
       "      <td>104.840000</td>\n",
       "      <td>1.350000e+07</td>\n",
       "      <td>3.000000</td>\n",
       "      <td>3.100000</td>\n",
       "    </tr>\n",
       "    <tr>\n",
       "      <th>max</th>\n",
       "      <td>900.000000</td>\n",
       "      <td>7.630000e+08</td>\n",
       "      <td>19.000000</td>\n",
       "      <td>100.000000</td>\n",
       "    </tr>\n",
       "  </tbody>\n",
       "</table>\n",
       "</div>"
      ],
      "text/plain": [
       "        total_area    last_price        rooms  ceiling_height\n",
       "count  4382.000000  4.382000e+03  4382.000000     4382.000000\n",
       "mean     88.570032  1.376875e+07     2.720904        2.951157\n",
       "std      57.929565  2.296136e+07     1.410307        1.677898\n",
       "min      12.000000  1.600000e+06     0.000000        2.000000\n",
       "25%      53.225000  6.207104e+06     2.000000        2.650000\n",
       "50%      75.000000  8.707500e+06     3.000000        2.755000\n",
       "75%     104.840000  1.350000e+07     3.000000        3.100000\n",
       "max     900.000000  7.630000e+08    19.000000      100.000000"
      ]
     },
     "execution_count": 74,
     "metadata": {},
     "output_type": "execute_result"
    }
   ],
   "source": [
    "center_spb_data[['total_area', 'last_price', 'rooms', 'ceiling_height']].describe()"
   ]
  },
  {
   "cell_type": "markdown",
   "metadata": {},
   "source": [
    "По предварительному анализу:\n",
    "\n",
    "* Площадь квартир варьируются от 12 кв.м. до 900 кв.м. Среднее значение выглядит достаточно адекватным.\n",
    "* Цена варьируется от 4 тысяч рублей до 763 млн.\n",
    "* Число комнат варьируется от 0 до 19. Скорее всего комнаты с 0 количеством комнат - это студии. Более крупные значения - общежития.\n",
    "* Высота потолков варьируется от 1,6 до 100 метров.\n",
    "\n",
    "Построим гистограммы для каждого из этих параметров.\n",
    "\n",
    "Гистограмма общей площади:"
   ]
  },
  {
   "cell_type": "code",
   "execution_count": 75,
   "metadata": {
    "scrolled": true
   },
   "outputs": [
    {
     "data": {
      "text/plain": [
       "<AxesSubplot:ylabel='Frequency'>"
      ]
     },
     "execution_count": 75,
     "metadata": {},
     "output_type": "execute_result"
    },
    {
     "data": {
      "image/png": "[encoded data removed]",
      "text/plain": [
       "<Figure size 720x360 with 1 Axes>"
      ]
     },
     "metadata": {
      "needs_background": "light"
     },
     "output_type": "display_data"
    }
   ],
   "source": [
    "center_spb_data.plot(y='total_area', kind='hist', bins=100, grid=True, figsize=(10,5), range=(0,150))"
   ]
  },
  {
   "cell_type": "markdown",
   "metadata": {},
   "source": [
    "Гистограмма цены:"
   ]
  },
  {
   "cell_type": "code",
   "execution_count": 76,
   "metadata": {
    "scrolled": false
   },
   "outputs": [
    {
     "data": {
      "text/plain": [
       "<AxesSubplot:ylabel='Frequency'>"
      ]
     },
     "execution_count": 76,
     "metadata": {},
     "output_type": "execute_result"
    },
    {
     "data": {
      "image/png": "[encoded data removed]",
      "text/plain": [
       "<Figure size 720x360 with 1 Axes>"
      ]
     },
     "metadata": {
      "needs_background": "light"
     },
     "output_type": "display_data"
    }
   ],
   "source": [
    "center_spb_data.plot(y='last_price', kind='hist', bins=100, grid=True, range=(0,15000000), figsize=(10,5))"
   ]
  },
  {
   "cell_type": "markdown",
   "metadata": {},
   "source": [
    "Гистограмма числа комнат:"
   ]
  },
  {
   "cell_type": "code",
   "execution_count": 77,
   "metadata": {
    "scrolled": false
   },
   "outputs": [
    {
     "data": {
      "text/plain": [
       "<AxesSubplot:ylabel='Frequency'>"
      ]
     },
     "execution_count": 77,
     "metadata": {},
     "output_type": "execute_result"
    },
    {
     "data": {
      "image/png": "[encoded data removed]",
      "text/plain": [
       "<Figure size 720x360 with 1 Axes>"
      ]
     },
     "metadata": {
      "needs_background": "light"
     },
     "output_type": "display_data"
    }
   ],
   "source": [
    "center_spb_data.plot(y='rooms', kind='hist', bins=10, grid=True, range=(0,10), figsize=(10,5))"
   ]
  },
  {
   "cell_type": "markdown",
   "metadata": {},
   "source": [
    "Гистограмма высоты потолков:"
   ]
  },
  {
   "cell_type": "code",
   "execution_count": 78,
   "metadata": {
    "scrolled": false
   },
   "outputs": [
    {
     "data": {
      "text/plain": [
       "<AxesSubplot:ylabel='Frequency'>"
      ]
     },
     "execution_count": 78,
     "metadata": {},
     "output_type": "execute_result"
    },
    {
     "data": {
      "image/png": "[encoded data removed]",
      "text/plain": [
       "<Figure size 720x360 with 1 Axes>"
      ]
     },
     "metadata": {
      "needs_background": "light"
     },
     "output_type": "display_data"
    }
   ],
   "source": [
    "center_spb_data.plot(y='ceiling_height', kind='hist', bins=30, range=(2,5), grid=True, figsize=(10,5))"
   ]
  },
  {
   "cell_type": "markdown",
   "metadata": {},
   "source": [
    "**Вывод**\n",
    "\n",
    "Если попарно сравнивать графики, разница между ними минимальная. Сильно заметное смещение наблюдается для гистограммы цен, в которой наблюдается заметно менее стабильное распределение."
   ]
  },
  {
   "cell_type": "markdown",
   "metadata": {},
   "source": [
    "#### Зависимость стоимости квадратного метра от количества комнат.\n",
    "\n",
    "Отфильтруем датафрейм и составим диаграмму, заранее убрав выброс."
   ]
  },
  {
   "cell_type": "code",
   "execution_count": 79,
   "metadata": {
    "scrolled": false
   },
   "outputs": [
    {
     "data": {
      "text/plain": [
       "<AxesSubplot:xlabel='rooms'>"
      ]
     },
     "execution_count": 79,
     "metadata": {},
     "output_type": "execute_result"
    },
    {
     "data": {
      "image/png": "[encoded data removed]",
      "text/plain": [
       "<Figure size 720x360 with 1 Axes>"
      ]
     },
     "metadata": {
      "needs_background": "light"
     },
     "output_type": "display_data"
    }
   ],
   "source": [
    "center_spb_data_filtered = center_spb_data.query('rooms <= 6').groupby('rooms').median()['price_per_square_meter'].reset_index().sort_values(by='rooms')\n",
    "\n",
    "center_spb_data_filtered.plot(x='rooms', y='price_per_square_meter', kind='bar', legend=None, figsize=(10,5))"
   ]
  },
  {
   "cell_type": "markdown",
   "metadata": {},
   "source": [
    "Расчитаем кэффициент корреляции:"
   ]
  },
  {
   "cell_type": "code",
   "execution_count": 80,
   "metadata": {
    "scrolled": false
   },
   "outputs": [
    {
     "data": {
      "text/plain": [
       "0.020596415282685195"
      ]
     },
     "execution_count": 80,
     "metadata": {},
     "output_type": "execute_result"
    }
   ],
   "source": [
    "center_spb_data['rooms'].corr(center_spb_data['price_per_square_meter'])"
   ]
  },
  {
   "cell_type": "markdown",
   "metadata": {},
   "source": [
    "**Вывод**\n",
    "\n",
    "Коэффициент корреляции крайне мал. Судить о зависимости в данном случае будет некорректно."
   ]
  },
  {
   "cell_type": "markdown",
   "metadata": {},
   "source": [
    "#### Зависимость стоимости квадратного метра от этажа.\n",
    "\n",
    "Повторим действия, как и в прошлый раз."
   ]
  },
  {
   "cell_type": "code",
   "execution_count": 81,
   "metadata": {
    "scrolled": true
   },
   "outputs": [
    {
     "data": {
      "text/plain": [
       "<AxesSubplot:xlabel='floor_category'>"
      ]
     },
     "execution_count": 81,
     "metadata": {},
     "output_type": "execute_result"
    },
    {
     "data": {
      "image/png": "[encoded data removed]",
      "text/plain": [
       "<Figure size 720x360 with 1 Axes>"
      ]
     },
     "metadata": {
      "needs_background": "light"
     },
     "output_type": "display_data"
    }
   ],
   "source": [
    "center_spb_data_filtered = center_spb_data.groupby('floor_category').median()['price_per_square_meter'].reset_index().sort_values(by='floor_category')\n",
    "\n",
    "center_spb_data_filtered.plot(x='floor_category', y='price_per_square_meter', style='-o', legend=None, figsize=(10,5))"
   ]
  },
  {
   "cell_type": "markdown",
   "metadata": {},
   "source": [
    "**Вывод**\n",
    "\n",
    "Распределение практически идентичное распределению для общей таблицы."
   ]
  },
  {
   "cell_type": "markdown",
   "metadata": {},
   "source": [
    "#### Зависимость стоимости квадратного метра от удаленности от центра."
   ]
  },
  {
   "cell_type": "code",
   "execution_count": 82,
   "metadata": {
    "scrolled": false
   },
   "outputs": [
    {
     "data": {
      "text/plain": [
       "<AxesSubplot:xlabel='cityCenters_nearest', ylabel='price_per_square_meter'>"
      ]
     },
     "execution_count": 82,
     "metadata": {},
     "output_type": "execute_result"
    },
    {
     "data": {
      "image/png": "[encoded data removed]",
      "text/plain": [
       "<Figure size 720x360 with 1 Axes>"
      ]
     },
     "metadata": {
      "needs_background": "light"
     },
     "output_type": "display_data"
    }
   ],
   "source": [
    "center_spb_data_filtered = center_spb_data.groupby('cityCenters_nearest').median()['price_per_square_meter'].reset_index().sort_values(by='cityCenters_nearest')\n",
    "\n",
    "center_spb_data_filtered.plot(x='cityCenters_nearest', y='price_per_square_meter', kind='scatter', alpha=0.2, legend=None, figsize=(10,5))"
   ]
  },
  {
   "cell_type": "markdown",
   "metadata": {},
   "source": [
    "Рассчет коэффициента корреляции:"
   ]
  },
  {
   "cell_type": "code",
   "execution_count": 83,
   "metadata": {},
   "outputs": [
    {
     "data": {
      "text/plain": [
       "-0.08776201584325057"
      ]
     },
     "execution_count": 83,
     "metadata": {},
     "output_type": "execute_result"
    }
   ],
   "source": [
    "center_spb_data['cityCenters_nearest'].corr(center_spb_data['price_per_square_meter'])"
   ]
  },
  {
   "cell_type": "markdown",
   "metadata": {},
   "source": [
    "**Вывод**\n",
    "\n",
    "Четкой зависимости нет, поскольку у нас уже сделана выборка по центру города."
   ]
  },
  {
   "cell_type": "markdown",
   "metadata": {},
   "source": [
    "#### Зависимость стоимости квадратного метра от дня недели размещения объявления."
   ]
  },
  {
   "cell_type": "code",
   "execution_count": 84,
   "metadata": {
    "scrolled": true
   },
   "outputs": [
    {
     "data": {
      "text/plain": [
       "<AxesSubplot:xlabel='weekday_exposition'>"
      ]
     },
     "execution_count": 84,
     "metadata": {},
     "output_type": "execute_result"
    },
    {
     "data": {
      "image/png": "[encoded data removed]",
      "text/plain": [
       "<Figure size 720x360 with 1 Axes>"
      ]
     },
     "metadata": {
      "needs_background": "light"
     },
     "output_type": "display_data"
    }
   ],
   "source": [
    "center_spb_data_filtered = center_spb_data.groupby('weekday_exposition').median()['price_per_square_meter'].reset_index().sort_values(by='weekday_exposition')\n",
    "\n",
    "center_spb_data_filtered.plot(x='weekday_exposition', y='price_per_square_meter', style='-o', legend=None, figsize=(10,5))"
   ]
  },
  {
   "cell_type": "markdown",
   "metadata": {},
   "source": [
    "**Вывод**\n",
    "\n",
    "Чем выше к воскресенью выставленно объявление, тем выше цена. Самая низкая стоимость наблюдается во вторник. В четверг же снова падает, а затем постепенно растет до воскресенья.\n",
    "\n",
    "Распределение заметно отличается от общей выборки."
   ]
  },
  {
   "cell_type": "markdown",
   "metadata": {},
   "source": [
    "#### Зависимость стоимости квадратного метра от месяца размещения объявления."
   ]
  },
  {
   "cell_type": "code",
   "execution_count": 85,
   "metadata": {
    "scrolled": false
   },
   "outputs": [
    {
     "data": {
      "text/plain": [
       "<AxesSubplot:xlabel='month_exposition'>"
      ]
     },
     "execution_count": 85,
     "metadata": {},
     "output_type": "execute_result"
    },
    {
     "data": {
      "image/png": "[encoded data removed]",
      "text/plain": [
       "<Figure size 720x360 with 1 Axes>"
      ]
     },
     "metadata": {
      "needs_background": "light"
     },
     "output_type": "display_data"
    }
   ],
   "source": [
    "center_spb_data_filtered = center_spb_data.groupby('month_exposition').median()['price_per_square_meter'].reset_index().sort_values(by='month_exposition')\n",
    "\n",
    "center_spb_data_filtered.plot(x='month_exposition', y='price_per_square_meter', style='-o', legend=None, figsize=(10,5))"
   ]
  },
  {
   "cell_type": "markdown",
   "metadata": {},
   "source": [
    "**Вывод**\n",
    "\n",
    "Ситуация похожа на основную выборку, но немного от нее отличается. \n",
    "\n",
    "Самая низкая стоимость наблюдается в июне и июле, самая высокая - в марте. "
   ]
  },
  {
   "cell_type": "markdown",
   "metadata": {},
   "source": [
    "#### Зависимость стоимости квадратного метра от года размещения объявления."
   ]
  },
  {
   "cell_type": "code",
   "execution_count": 86,
   "metadata": {
    "scrolled": true
   },
   "outputs": [
    {
     "data": {
      "text/plain": [
       "<AxesSubplot:xlabel='year_exposition'>"
      ]
     },
     "execution_count": 86,
     "metadata": {},
     "output_type": "execute_result"
    },
    {
     "data": {
      "image/png": "[encoded data removed]",
      "text/plain": [
       "<Figure size 720x360 with 1 Axes>"
      ]
     },
     "metadata": {
      "needs_background": "light"
     },
     "output_type": "display_data"
    }
   ],
   "source": [
    "center_spb_data_filtered = center_spb_data.groupby('year_exposition').median()['price_per_square_meter'].reset_index().sort_values(by='year_exposition')\n",
    "\n",
    "center_spb_data_filtered.plot(x='year_exposition', y='price_per_square_meter', style='-o', legend=None, figsize=(10,5))"
   ]
  },
  {
   "cell_type": "markdown",
   "metadata": {},
   "source": [
    "**Вывод**\n",
    "\n",
    "Здесь, однако, все очень похоже на основную выборку.\n",
    "\n",
    "Наблюдается падение стоимости с 2014 по 2016 год, а затем его стабильный рост. "
   ]
  },
  {
   "cell_type": "markdown",
   "metadata": {},
   "source": [
    "## Общий вывод"
   ]
  },
  {
   "cell_type": "markdown",
   "metadata": {},
   "source": [
    "Мы обработали все предоставленные данные и выполнили поставленные задачи.\n",
    "\n",
    "### Предобработка данных\n",
    "\n",
    "В процессе обработки данных были совершены следующие изменения:\n",
    "\n",
    "1. `is_apartment` - мы заменили тип данных на `bool` и заменили пропуски на `False`.\n",
    "2. `balcony` - мы заменили тип данных на `int` и заменили пропуски на 0.\n",
    "3. `days_exposition` - мы заменили тип данных на `int` и заменили пропуски на 0.\n",
    "4. `last_price` - мы заменили тип данных на `int` для удобства чтения.\n",
    "\n",
    "Прочие столбцы были оставлены без изменений в виду неясности причины пропусков. \n",
    "\n",
    "### Расчёты и добавление результатов в таблицу\n",
    "\n",
    "Мы добавили в таблицу новые столбцы:\n",
    "\n",
    "1. `price_per_square_meter` с ценой квадратного метра.\n",
    "2. `weekday_exposition` с днем недели публикации объявления.\n",
    "3. `month_exposition` с месяцем публикации объявления.\n",
    "4. `year_exposition` с годом публикации объявления.\n",
    "5. `floor_category` с категориями этажей квартиры: \"первый\", \"последний\" и \"другой\". \n",
    "6. `useful_area_ratio` с соотношением жилой и общей площади.\n",
    "7. `kitchen_area_ratio` с соотношением площади кухни и общей площади.\n",
    "\n",
    "### Исследовательский анализ данных\n",
    "\n",
    "#### Задача 1.\n",
    "\n",
    "Мы изучили параметры площади, цены, числа комнат и высоты потолков. Для каждого параметра была составленна диаграмма, былиопределены среднее значение, медиана и разброс данных. \n",
    "\n",
    "#### Задача 2.\n",
    "\n",
    "Мы изучили время продажи квартиры и построили гистограмму. Мы постановили, что:\n",
    "\n",
    "1. Среднее время продажи: 180 дней.\n",
    "2. Медианное время продажи: 95 дней.\n",
    "3. Межквартильный размах составил от 45 до 232 дней.\n",
    "4. Нормальное время продажи составляет от 1 до 500 дней.\n",
    "5. Некоторые объявления автоматически удаляются после 45, 60 и 90 дней, согласно политике Яндекс Недвижимость. Эти выбросы были обработаны в следующей задаче.\n",
    "\n",
    "#### Задача 3.\n",
    "\n",
    "Мы обработали обнаруженные ранее выбросы, после чего снова изучили время продажи квартиры. Мы постановили, что:\n",
    "\n",
    "1. Среднее время продажи: 191 день.\n",
    "2. Медианное время продажи: 110 дней.\n",
    "3. Нормальное время продажи теперь составляет от 1 до 600 дней.\n",
    "\n",
    "#### Задача 4.\n",
    "\n",
    "Мы исследовали зависимость стоимости квартиры от следующих факторов: площадь квартиры; число комнат; удаленность от центра; категория этажа; день, месяц и год размещения объявления. Для каждой зависимости была составлена соответствующая диаграмма. Мы постановили, что:\n",
    "\n",
    "1. Присутствует зависимость цены от площади квартиры. Чем больше площадь, тем выше стоимость.\n",
    "2. Четкой зависимости цены от числа комнат нет.\n",
    "3. Присутствует зависимость цены от близости к центру. Чем ближе к центру, тем выше стоимость.\n",
    "4. Присутствует слабая зависимость цены от категории этажа. На первом этаже - дешевле всего, на последнем - немного дороже, и на промежуточных - дороже всего.\n",
    "5. Чем ближе ко вторнику выставленно объявление, тем выше цена. В субботу стоимость наименьшая.\n",
    "6. Самая высокая цена у объявлений, выставленных в апреле и августе. Самая низкая - в июне. Наблюдается сезонность: в начале лета стоимость наименьшая.\n",
    "7. С 2014 по 2016 стоимость квартиры падала, после чего начинала плавно расти до 2019 года.\n",
    "\n",
    "#### Задача 5. \n",
    "\n",
    "Мы составили список из 10 населенных пунктов с наибольшим числом объявлений и рассчитали среднюю цену квадратного метра для них. Мы постановили, что:\n",
    "\n",
    "1. В составленном списке город с самой высокой стоимостью жилья является Санкт-Петербург.\n",
    "2. В составленном списке город с самой низкой стоимостью жилья является Выборг.\n",
    "\n",
    "#### Задача 6.\n",
    "\n",
    "Мы изучили информацию о расстоянии до центра для квартир в Санкт-Петербурге. Составив график для средней цены для каждого километра от центра города, мы постановили, что:\n",
    "\n",
    "1. Чем ближе к центру, тем выше стоимость.\n",
    "2. За центр города можно считать радиус в 8 км.\n",
    "3. Проглядываются скачки в стоимости квартиры и за пределами радиуса центра, но они редки.\n",
    "\n",
    "#### Задача 7.\n",
    "\n",
    "Мы использовали постановленный ранее радиус центра, и выделили все квартиры в основном датафрейме, которые в него входят. Для нового датафрейма мы снова изучили параметры площади, цены, числа комнат и высоты потолков, а также провели исследование зависимости цены от факторов: площадь квартиры; число комнат; удаленность от центра; категория этажа; день, месяц и год размещения объявления. Для каждого шага исследования мы составили соответствующие графики. Затем мы сравнили их с графиками для общего датафрейма. Мы постановили, что:\n",
    "\n",
    "1. Разница для графиков по площади, цене, числе комнат и высоты потолков для обоих датафреймов - минимальная. \n",
    "2. Разница для графиков по зависимости цены от количества комнат и квадратного метра для обоих датафреймов - минимальная.\n",
    "3. Зависимость стоимости квадратного метра по удаленности от центра для нового датафрейма - отсутствует, поскольку мы уже рассматриваем квартиры в центре.\n",
    "4. Для квартир в центре, чем ближе к выходным выставленно объявление, тем выше цена. Самая низкая стоимость наблюдается для объявлений, выставленных во вторник.\n",
    "5. Для квартир в центре, самая высокая стоимость наблюдается для объявлений, выставленных в марте, а самая низкая - в июне и июле.\n",
    "6. График стоимости квартиры в зависимости от года размещения объявления для квартир в центре практически не отличается от графика для общего датафрейма."
   ]
  }
 ],
 "metadata": {
  "ExecuteTimeLog": [
   {
    "duration": 380,
    "start_time": "2022-06-12T11:02:12.799Z"
   },
   {
    "duration": 300,
    "start_time": "2022-06-12T11:03:37.720Z"
   },
   {
    "duration": 109,
    "start_time": "2022-06-12T11:04:00.493Z"
   },
   {
    "duration": 120,
    "start_time": "2022-06-12T11:04:27.982Z"
   },
   {
    "duration": 88,
    "start_time": "2022-06-12T11:05:12.329Z"
   },
   {
    "duration": 27,
    "start_time": "2022-06-12T11:05:41.695Z"
   },
   {
    "duration": 14,
    "start_time": "2022-06-12T11:06:41.286Z"
   },
   {
    "duration": 6,
    "start_time": "2022-06-12T11:20:34.422Z"
   },
   {
    "duration": 6,
    "start_time": "2022-06-12T11:22:07.711Z"
   },
   {
    "duration": 6,
    "start_time": "2022-06-12T11:22:21.749Z"
   },
   {
    "duration": 7,
    "start_time": "2022-06-12T11:30:18.295Z"
   },
   {
    "duration": 7,
    "start_time": "2022-06-12T11:30:26.825Z"
   },
   {
    "duration": 5,
    "start_time": "2022-06-12T11:30:34.370Z"
   },
   {
    "duration": 7,
    "start_time": "2022-06-12T11:30:40.049Z"
   },
   {
    "duration": 7,
    "start_time": "2022-06-12T11:30:45.697Z"
   },
   {
    "duration": 6,
    "start_time": "2022-06-12T11:30:52.121Z"
   },
   {
    "duration": 8,
    "start_time": "2022-06-12T11:30:58.570Z"
   },
   {
    "duration": 6,
    "start_time": "2022-06-12T11:31:05.385Z"
   },
   {
    "duration": 11,
    "start_time": "2022-06-12T11:40:06.661Z"
   },
   {
    "duration": 6,
    "start_time": "2022-06-12T11:42:03.052Z"
   },
   {
    "duration": 7,
    "start_time": "2022-06-12T11:43:53.388Z"
   },
   {
    "duration": 10,
    "start_time": "2022-06-12T11:53:59.031Z"
   },
   {
    "duration": 8,
    "start_time": "2022-06-12T11:55:24.718Z"
   },
   {
    "duration": 7,
    "start_time": "2022-06-12T12:00:58.534Z"
   },
   {
    "duration": 627,
    "start_time": "2022-06-12T12:08:20.199Z"
   },
   {
    "duration": 9,
    "start_time": "2022-06-12T12:09:25.832Z"
   },
   {
    "duration": 10,
    "start_time": "2022-06-12T12:10:03.703Z"
   },
   {
    "duration": 3,
    "start_time": "2022-06-12T12:18:45.793Z"
   },
   {
    "duration": 101,
    "start_time": "2022-06-12T12:18:45.798Z"
   },
   {
    "duration": 30,
    "start_time": "2022-06-12T12:18:45.901Z"
   },
   {
    "duration": 14,
    "start_time": "2022-06-12T12:18:45.932Z"
   },
   {
    "duration": 10,
    "start_time": "2022-06-12T12:18:50.216Z"
   },
   {
    "duration": 6,
    "start_time": "2022-06-12T12:30:04.961Z"
   },
   {
    "duration": 85,
    "start_time": "2022-06-12T12:33:23.706Z"
   },
   {
    "duration": 8,
    "start_time": "2022-06-12T12:33:36.670Z"
   },
   {
    "duration": 9,
    "start_time": "2022-06-12T12:33:39.694Z"
   },
   {
    "duration": 5,
    "start_time": "2022-06-12T12:33:43.033Z"
   },
   {
    "duration": 42,
    "start_time": "2022-06-12T12:35:17.995Z"
   },
   {
    "duration": 9,
    "start_time": "2022-06-12T12:35:39.588Z"
   },
   {
    "duration": 9,
    "start_time": "2022-06-12T12:47:27.691Z"
   },
   {
    "duration": 7,
    "start_time": "2022-06-12T12:47:53.370Z"
   },
   {
    "duration": 6,
    "start_time": "2022-06-12T12:47:59.010Z"
   },
   {
    "duration": 35,
    "start_time": "2022-06-12T12:50:13.442Z"
   },
   {
    "duration": 9,
    "start_time": "2022-06-12T12:54:01.424Z"
   },
   {
    "duration": 21,
    "start_time": "2022-06-12T12:54:09.395Z"
   },
   {
    "duration": 5,
    "start_time": "2022-06-12T12:59:09.811Z"
   },
   {
    "duration": 4,
    "start_time": "2022-06-12T13:00:04.403Z"
   },
   {
    "duration": 10,
    "start_time": "2022-06-12T13:00:59.703Z"
   },
   {
    "duration": 9,
    "start_time": "2022-06-12T13:01:04.611Z"
   },
   {
    "duration": 7,
    "start_time": "2022-06-12T13:01:16.362Z"
   },
   {
    "duration": 7,
    "start_time": "2022-06-12T13:01:21.923Z"
   },
   {
    "duration": 10,
    "start_time": "2022-06-12T13:01:25.555Z"
   },
   {
    "duration": 10,
    "start_time": "2022-06-12T13:10:56.834Z"
   },
   {
    "duration": 6,
    "start_time": "2022-06-12T13:13:12.020Z"
   },
   {
    "duration": 5,
    "start_time": "2022-06-12T13:14:24.755Z"
   },
   {
    "duration": 8,
    "start_time": "2022-06-12T13:15:11.236Z"
   },
   {
    "duration": 8,
    "start_time": "2022-06-12T13:16:50.620Z"
   },
   {
    "duration": 7,
    "start_time": "2022-06-12T13:16:59.755Z"
   },
   {
    "duration": 11,
    "start_time": "2022-06-12T13:18:14.508Z"
   },
   {
    "duration": 10,
    "start_time": "2022-06-12T13:20:13.001Z"
   },
   {
    "duration": 12,
    "start_time": "2022-06-12T13:21:25.252Z"
   },
   {
    "duration": 7,
    "start_time": "2022-06-12T13:21:41.298Z"
   },
   {
    "duration": 6,
    "start_time": "2022-06-12T13:21:46.980Z"
   },
   {
    "duration": 7,
    "start_time": "2022-06-12T13:22:47.116Z"
   },
   {
    "duration": 8,
    "start_time": "2022-06-12T13:23:37.774Z"
   },
   {
    "duration": 6,
    "start_time": "2022-06-12T13:24:52.397Z"
   },
   {
    "duration": 6,
    "start_time": "2022-06-12T13:25:32.623Z"
   },
   {
    "duration": 10,
    "start_time": "2022-06-12T13:25:54.026Z"
   },
   {
    "duration": 6,
    "start_time": "2022-06-12T13:26:04.491Z"
   },
   {
    "duration": 7,
    "start_time": "2022-06-12T13:27:31.883Z"
   },
   {
    "duration": 4,
    "start_time": "2022-06-12T13:29:06.625Z"
   },
   {
    "duration": 5,
    "start_time": "2022-06-12T13:32:24.371Z"
   },
   {
    "duration": 6,
    "start_time": "2022-06-12T13:32:28.547Z"
   },
   {
    "duration": 4,
    "start_time": "2022-06-12T13:32:38.043Z"
   },
   {
    "duration": 5,
    "start_time": "2022-06-12T13:36:11.181Z"
   },
   {
    "duration": 8,
    "start_time": "2022-06-12T13:39:41.420Z"
   },
   {
    "duration": 7,
    "start_time": "2022-06-12T13:42:02.033Z"
   },
   {
    "duration": 6,
    "start_time": "2022-06-12T13:42:26.811Z"
   },
   {
    "duration": 5,
    "start_time": "2022-06-12T13:42:42.068Z"
   },
   {
    "duration": 3,
    "start_time": "2022-06-12T13:45:43.501Z"
   },
   {
    "duration": 32,
    "start_time": "2022-06-12T13:46:21.340Z"
   },
   {
    "duration": 385,
    "start_time": "2022-06-12T13:46:28.744Z"
   },
   {
    "duration": 5,
    "start_time": "2022-06-12T13:47:37.324Z"
   },
   {
    "duration": 5,
    "start_time": "2022-06-12T13:48:48.371Z"
   },
   {
    "duration": 5,
    "start_time": "2022-06-12T13:48:50.079Z"
   },
   {
    "duration": 31,
    "start_time": "2022-06-12T13:49:53.436Z"
   },
   {
    "duration": 7,
    "start_time": "2022-06-12T14:03:12.211Z"
   },
   {
    "duration": 38,
    "start_time": "2022-06-12T14:03:18.947Z"
   },
   {
    "duration": 3,
    "start_time": "2022-06-12T14:11:25.670Z"
   },
   {
    "duration": 94,
    "start_time": "2022-06-12T14:11:25.675Z"
   },
   {
    "duration": 28,
    "start_time": "2022-06-12T14:11:25.771Z"
   },
   {
    "duration": 12,
    "start_time": "2022-06-12T14:11:25.801Z"
   },
   {
    "duration": 7,
    "start_time": "2022-06-12T14:11:25.815Z"
   },
   {
    "duration": 13,
    "start_time": "2022-06-12T14:11:25.823Z"
   },
   {
    "duration": 30,
    "start_time": "2022-06-12T14:11:25.837Z"
   },
   {
    "duration": 8,
    "start_time": "2022-06-12T14:11:25.868Z"
   },
   {
    "duration": 7,
    "start_time": "2022-06-12T14:11:25.879Z"
   },
   {
    "duration": 14,
    "start_time": "2022-06-12T14:11:25.888Z"
   },
   {
    "duration": 9,
    "start_time": "2022-06-12T14:11:25.903Z"
   },
   {
    "duration": 6,
    "start_time": "2022-06-12T14:11:25.913Z"
   },
   {
    "duration": 9,
    "start_time": "2022-06-12T14:11:25.920Z"
   },
   {
    "duration": 10,
    "start_time": "2022-06-12T14:11:25.931Z"
   },
   {
    "duration": 27,
    "start_time": "2022-06-12T14:11:25.943Z"
   },
   {
    "duration": 8,
    "start_time": "2022-06-12T14:11:25.971Z"
   },
   {
    "duration": 8,
    "start_time": "2022-06-12T14:11:25.981Z"
   },
   {
    "duration": 11,
    "start_time": "2022-06-12T14:11:25.990Z"
   },
   {
    "duration": 9,
    "start_time": "2022-06-12T14:11:26.004Z"
   },
   {
    "duration": 7,
    "start_time": "2022-06-12T14:11:26.014Z"
   },
   {
    "duration": 10,
    "start_time": "2022-06-12T14:11:26.022Z"
   },
   {
    "duration": 36,
    "start_time": "2022-06-12T14:11:26.033Z"
   },
   {
    "duration": 5,
    "start_time": "2022-06-12T14:11:26.071Z"
   },
   {
    "duration": 5,
    "start_time": "2022-06-12T14:11:26.079Z"
   },
   {
    "duration": 10,
    "start_time": "2022-06-12T14:11:26.085Z"
   },
   {
    "duration": 11,
    "start_time": "2022-06-12T14:11:26.097Z"
   },
   {
    "duration": 6,
    "start_time": "2022-06-12T14:11:26.110Z"
   },
   {
    "duration": 6,
    "start_time": "2022-06-12T14:11:26.118Z"
   },
   {
    "duration": 290,
    "start_time": "2022-06-12T14:11:26.126Z"
   },
   {
    "duration": 5,
    "start_time": "2022-06-12T14:11:26.418Z"
   },
   {
    "duration": 8,
    "start_time": "2022-06-12T14:11:26.424Z"
   },
   {
    "duration": 35,
    "start_time": "2022-06-12T14:11:26.434Z"
   },
   {
    "duration": 26,
    "start_time": "2022-06-12T14:11:30.140Z"
   },
   {
    "duration": 8,
    "start_time": "2022-06-12T14:12:07.351Z"
   },
   {
    "duration": 136,
    "start_time": "2022-06-12T14:14:26.509Z"
   },
   {
    "duration": 280,
    "start_time": "2022-06-12T14:14:50.476Z"
   },
   {
    "duration": 288,
    "start_time": "2022-06-12T14:15:02.212Z"
   },
   {
    "duration": 265,
    "start_time": "2022-06-12T14:15:21.261Z"
   },
   {
    "duration": 323,
    "start_time": "2022-06-12T14:15:28.348Z"
   },
   {
    "duration": 264,
    "start_time": "2022-06-12T14:15:41.613Z"
   },
   {
    "duration": 281,
    "start_time": "2022-06-12T14:16:04.206Z"
   },
   {
    "duration": 292,
    "start_time": "2022-06-12T14:16:15.230Z"
   },
   {
    "duration": 278,
    "start_time": "2022-06-12T14:16:23.893Z"
   },
   {
    "duration": 377,
    "start_time": "2022-06-12T14:16:29.500Z"
   },
   {
    "duration": 319,
    "start_time": "2022-06-12T14:18:49.534Z"
   },
   {
    "duration": 232,
    "start_time": "2022-06-12T14:20:05.271Z"
   },
   {
    "duration": 25,
    "start_time": "2022-06-12T14:20:25.838Z"
   },
   {
    "duration": 183,
    "start_time": "2022-06-12T14:21:06.239Z"
   },
   {
    "duration": 361,
    "start_time": "2022-06-12T14:26:39.462Z"
   },
   {
    "duration": 305,
    "start_time": "2022-06-12T14:27:05.784Z"
   },
   {
    "duration": 304,
    "start_time": "2022-06-12T14:27:14.247Z"
   },
   {
    "duration": 189,
    "start_time": "2022-06-12T14:27:21.855Z"
   },
   {
    "duration": 216,
    "start_time": "2022-06-12T14:27:42.666Z"
   },
   {
    "duration": 401,
    "start_time": "2022-06-12T14:28:15.351Z"
   },
   {
    "duration": 182,
    "start_time": "2022-06-12T14:29:03.439Z"
   },
   {
    "duration": 163,
    "start_time": "2022-06-12T14:29:38.687Z"
   },
   {
    "duration": 188,
    "start_time": "2022-06-12T14:29:42.231Z"
   },
   {
    "duration": 168,
    "start_time": "2022-06-12T14:29:50.033Z"
   },
   {
    "duration": 3,
    "start_time": "2022-06-12T17:25:31.316Z"
   },
   {
    "duration": 85,
    "start_time": "2022-06-12T17:26:06.488Z"
   },
   {
    "duration": 9,
    "start_time": "2022-06-12T17:34:05.525Z"
   },
   {
    "duration": 5,
    "start_time": "2022-06-12T17:35:06.060Z"
   },
   {
    "duration": 211,
    "start_time": "2022-06-12T17:37:10.821Z"
   },
   {
    "duration": 26,
    "start_time": "2022-06-12T17:37:21.597Z"
   },
   {
    "duration": 208,
    "start_time": "2022-06-12T17:37:27.277Z"
   },
   {
    "duration": 213,
    "start_time": "2022-06-12T17:37:42.253Z"
   },
   {
    "duration": 337,
    "start_time": "2022-06-12T17:37:48.485Z"
   },
   {
    "duration": 180,
    "start_time": "2022-06-12T17:37:56.956Z"
   },
   {
    "duration": 160,
    "start_time": "2022-06-12T17:38:07.492Z"
   },
   {
    "duration": 295,
    "start_time": "2022-06-12T17:38:11.108Z"
   },
   {
    "duration": 298,
    "start_time": "2022-06-12T17:38:16.460Z"
   },
   {
    "duration": 3,
    "start_time": "2022-06-12T17:39:59.502Z"
   },
   {
    "duration": 86,
    "start_time": "2022-06-12T17:40:01.589Z"
   },
   {
    "duration": 129,
    "start_time": "2022-06-12T17:40:28.366Z"
   },
   {
    "duration": 217,
    "start_time": "2022-06-12T17:41:48.263Z"
   },
   {
    "duration": 4266,
    "start_time": "2022-06-12T17:43:07.039Z"
   },
   {
    "duration": 228,
    "start_time": "2022-06-12T17:44:41.551Z"
   },
   {
    "duration": 411,
    "start_time": "2022-06-12T17:46:14.649Z"
   },
   {
    "duration": 3,
    "start_time": "2022-06-12T17:46:24.120Z"
   },
   {
    "duration": 97,
    "start_time": "2022-06-12T17:46:24.125Z"
   },
   {
    "duration": 41,
    "start_time": "2022-06-12T17:46:24.224Z"
   },
   {
    "duration": 13,
    "start_time": "2022-06-12T17:46:24.267Z"
   },
   {
    "duration": 7,
    "start_time": "2022-06-12T17:46:24.282Z"
   },
   {
    "duration": 12,
    "start_time": "2022-06-12T17:46:24.291Z"
   },
   {
    "duration": 4,
    "start_time": "2022-06-12T17:46:24.305Z"
   },
   {
    "duration": 8,
    "start_time": "2022-06-12T17:46:24.311Z"
   },
   {
    "duration": 8,
    "start_time": "2022-06-12T17:46:24.320Z"
   },
   {
    "duration": 11,
    "start_time": "2022-06-12T17:46:24.331Z"
   },
   {
    "duration": 9,
    "start_time": "2022-06-12T17:46:24.364Z"
   },
   {
    "duration": 5,
    "start_time": "2022-06-12T17:46:24.374Z"
   },
   {
    "duration": 4,
    "start_time": "2022-06-12T17:46:24.381Z"
   },
   {
    "duration": 8,
    "start_time": "2022-06-12T17:46:24.387Z"
   },
   {
    "duration": 18,
    "start_time": "2022-06-12T17:46:24.396Z"
   },
   {
    "duration": 8,
    "start_time": "2022-06-12T17:46:24.416Z"
   },
   {
    "duration": 40,
    "start_time": "2022-06-12T17:46:24.425Z"
   },
   {
    "duration": 8,
    "start_time": "2022-06-12T17:46:24.467Z"
   },
   {
    "duration": 6,
    "start_time": "2022-06-12T17:46:24.477Z"
   },
   {
    "duration": 6,
    "start_time": "2022-06-12T17:46:24.485Z"
   },
   {
    "duration": 10,
    "start_time": "2022-06-12T17:46:24.493Z"
   },
   {
    "duration": 5,
    "start_time": "2022-06-12T17:46:24.505Z"
   },
   {
    "duration": 5,
    "start_time": "2022-06-12T17:46:24.511Z"
   },
   {
    "duration": 7,
    "start_time": "2022-06-12T17:46:24.518Z"
   },
   {
    "duration": 39,
    "start_time": "2022-06-12T17:46:24.527Z"
   },
   {
    "duration": 8,
    "start_time": "2022-06-12T17:46:24.568Z"
   },
   {
    "duration": 8,
    "start_time": "2022-06-12T17:46:24.577Z"
   },
   {
    "duration": 7,
    "start_time": "2022-06-12T17:46:24.589Z"
   },
   {
    "duration": 288,
    "start_time": "2022-06-12T17:46:24.598Z"
   },
   {
    "duration": 4,
    "start_time": "2022-06-12T17:46:24.887Z"
   },
   {
    "duration": 8,
    "start_time": "2022-06-12T17:46:24.893Z"
   },
   {
    "duration": 26,
    "start_time": "2022-06-12T17:46:24.902Z"
   },
   {
    "duration": 42,
    "start_time": "2022-06-12T17:46:24.929Z"
   },
   {
    "duration": 307,
    "start_time": "2022-06-12T17:46:24.973Z"
   },
   {
    "duration": 328,
    "start_time": "2022-06-12T17:46:25.282Z"
   },
   {
    "duration": 166,
    "start_time": "2022-06-12T17:46:25.612Z"
   },
   {
    "duration": 198,
    "start_time": "2022-06-12T17:46:25.780Z"
   },
   {
    "duration": 8,
    "start_time": "2022-06-12T17:46:25.980Z"
   },
   {
    "duration": 196,
    "start_time": "2022-06-12T17:46:28.496Z"
   },
   {
    "duration": 122,
    "start_time": "2022-06-12T17:47:08.832Z"
   },
   {
    "duration": 97,
    "start_time": "2022-06-12T17:47:22.504Z"
   },
   {
    "duration": 36,
    "start_time": "2022-06-12T17:48:11.552Z"
   },
   {
    "duration": 305,
    "start_time": "2022-06-12T17:48:45.712Z"
   },
   {
    "duration": 273,
    "start_time": "2022-06-12T17:48:59.096Z"
   },
   {
    "duration": 280,
    "start_time": "2022-06-12T17:49:16.976Z"
   },
   {
    "duration": 210,
    "start_time": "2022-06-12T17:50:05.010Z"
   },
   {
    "duration": 285,
    "start_time": "2022-06-12T17:50:15.714Z"
   },
   {
    "duration": 12,
    "start_time": "2022-06-12T17:51:42.298Z"
   },
   {
    "duration": 31,
    "start_time": "2022-06-12T18:05:56.418Z"
   },
   {
    "duration": 10,
    "start_time": "2022-06-12T18:06:14.724Z"
   },
   {
    "duration": 11,
    "start_time": "2022-06-12T18:07:00.355Z"
   },
   {
    "duration": 825,
    "start_time": "2022-06-12T18:10:21.260Z"
   },
   {
    "duration": 10,
    "start_time": "2022-06-12T18:11:55.995Z"
   },
   {
    "duration": 587,
    "start_time": "2022-06-12T18:15:31.070Z"
   },
   {
    "duration": 25,
    "start_time": "2022-06-12T18:19:13.620Z"
   },
   {
    "duration": 13,
    "start_time": "2022-06-12T18:20:41.212Z"
   },
   {
    "duration": 142,
    "start_time": "2022-06-12T18:20:50.147Z"
   },
   {
    "duration": 9,
    "start_time": "2022-06-12T18:21:58.972Z"
   },
   {
    "duration": 23,
    "start_time": "2022-06-12T18:26:46.076Z"
   },
   {
    "duration": 159,
    "start_time": "2022-06-12T18:27:36.037Z"
   },
   {
    "duration": 9,
    "start_time": "2022-06-12T18:28:47.724Z"
   },
   {
    "duration": 149,
    "start_time": "2022-06-12T18:35:09.643Z"
   },
   {
    "duration": 127,
    "start_time": "2022-06-12T18:35:20.377Z"
   },
   {
    "duration": 114,
    "start_time": "2022-06-12T18:35:27.789Z"
   },
   {
    "duration": 147,
    "start_time": "2022-06-12T18:35:30.996Z"
   },
   {
    "duration": 136,
    "start_time": "2022-06-12T18:37:11.332Z"
   },
   {
    "duration": 137,
    "start_time": "2022-06-12T18:37:14.845Z"
   },
   {
    "duration": 142,
    "start_time": "2022-06-12T18:37:20.093Z"
   },
   {
    "duration": 143,
    "start_time": "2022-06-12T18:37:28.189Z"
   },
   {
    "duration": 149,
    "start_time": "2022-06-12T18:38:10.397Z"
   },
   {
    "duration": 203,
    "start_time": "2022-06-12T18:38:50.550Z"
   },
   {
    "duration": 27074,
    "start_time": "2022-06-12T18:39:29.688Z"
   },
   {
    "duration": 131,
    "start_time": "2022-06-12T18:43:22.333Z"
   },
   {
    "duration": 6,
    "start_time": "2022-06-12T18:43:25.580Z"
   },
   {
    "duration": 21,
    "start_time": "2022-06-12T18:43:27.975Z"
   },
   {
    "duration": 200,
    "start_time": "2022-06-12T18:43:30.598Z"
   },
   {
    "duration": 132,
    "start_time": "2022-06-12T18:44:53.854Z"
   },
   {
    "duration": 8,
    "start_time": "2022-06-12T18:46:35.038Z"
   },
   {
    "duration": 26,
    "start_time": "2022-06-12T18:47:35.820Z"
   },
   {
    "duration": 126,
    "start_time": "2022-06-12T18:48:03.285Z"
   },
   {
    "duration": 140,
    "start_time": "2022-06-12T18:48:31.244Z"
   },
   {
    "duration": 3,
    "start_time": "2022-06-12T18:48:38.812Z"
   },
   {
    "duration": 118,
    "start_time": "2022-06-12T18:48:38.817Z"
   },
   {
    "duration": 50,
    "start_time": "2022-06-12T18:48:38.937Z"
   },
   {
    "duration": 17,
    "start_time": "2022-06-12T18:48:38.989Z"
   },
   {
    "duration": 12,
    "start_time": "2022-06-12T18:48:39.009Z"
   },
   {
    "duration": 23,
    "start_time": "2022-06-12T18:48:39.023Z"
   },
   {
    "duration": 25,
    "start_time": "2022-06-12T18:48:39.049Z"
   },
   {
    "duration": 13,
    "start_time": "2022-06-12T18:48:39.076Z"
   },
   {
    "duration": 11,
    "start_time": "2022-06-12T18:48:39.091Z"
   },
   {
    "duration": 13,
    "start_time": "2022-06-12T18:48:39.104Z"
   },
   {
    "duration": 14,
    "start_time": "2022-06-12T18:48:39.120Z"
   },
   {
    "duration": 28,
    "start_time": "2022-06-12T18:48:39.136Z"
   },
   {
    "duration": 6,
    "start_time": "2022-06-12T18:48:39.166Z"
   },
   {
    "duration": 9,
    "start_time": "2022-06-12T18:48:39.175Z"
   },
   {
    "duration": 22,
    "start_time": "2022-06-12T18:48:39.185Z"
   },
   {
    "duration": 7,
    "start_time": "2022-06-12T18:48:39.209Z"
   },
   {
    "duration": 7,
    "start_time": "2022-06-12T18:48:39.218Z"
   },
   {
    "duration": 8,
    "start_time": "2022-06-12T18:48:39.226Z"
   },
   {
    "duration": 32,
    "start_time": "2022-06-12T18:48:39.236Z"
   },
   {
    "duration": 7,
    "start_time": "2022-06-12T18:48:39.269Z"
   },
   {
    "duration": 10,
    "start_time": "2022-06-12T18:48:39.278Z"
   },
   {
    "duration": 6,
    "start_time": "2022-06-12T18:48:39.290Z"
   },
   {
    "duration": 5,
    "start_time": "2022-06-12T18:48:39.298Z"
   },
   {
    "duration": 6,
    "start_time": "2022-06-12T18:48:39.304Z"
   },
   {
    "duration": 7,
    "start_time": "2022-06-12T18:48:39.311Z"
   },
   {
    "duration": 6,
    "start_time": "2022-06-12T18:48:39.320Z"
   },
   {
    "duration": 37,
    "start_time": "2022-06-12T18:48:39.328Z"
   },
   {
    "duration": 3,
    "start_time": "2022-06-12T18:48:39.367Z"
   },
   {
    "duration": 870,
    "start_time": "2022-06-12T18:48:39.372Z"
   },
   {
    "duration": 5,
    "start_time": "2022-06-12T18:48:40.244Z"
   },
   {
    "duration": 14,
    "start_time": "2022-06-12T18:48:40.250Z"
   },
   {
    "duration": 27,
    "start_time": "2022-06-12T18:48:40.266Z"
   },
   {
    "duration": 26,
    "start_time": "2022-06-12T18:48:40.294Z"
   },
   {
    "duration": 352,
    "start_time": "2022-06-12T18:48:40.322Z"
   },
   {
    "duration": 332,
    "start_time": "2022-06-12T18:48:40.675Z"
   },
   {
    "duration": 181,
    "start_time": "2022-06-12T18:48:41.009Z"
   },
   {
    "duration": 209,
    "start_time": "2022-06-12T18:48:41.192Z"
   },
   {
    "duration": 11,
    "start_time": "2022-06-12T18:48:41.403Z"
   },
   {
    "duration": 234,
    "start_time": "2022-06-12T18:48:41.415Z"
   },
   {
    "duration": 3,
    "start_time": "2022-06-12T18:48:41.651Z"
   },
   {
    "duration": 103,
    "start_time": "2022-06-12T18:48:41.665Z"
   },
   {
    "duration": 312,
    "start_time": "2022-06-12T18:48:41.770Z"
   },
   {
    "duration": 10,
    "start_time": "2022-06-12T18:48:42.084Z"
   },
   {
    "duration": 13,
    "start_time": "2022-06-12T18:48:42.095Z"
   },
   {
    "duration": 617,
    "start_time": "2022-06-12T18:48:42.110Z"
   },
   {
    "duration": 25,
    "start_time": "2022-06-12T18:48:42.729Z"
   },
   {
    "duration": 163,
    "start_time": "2022-06-12T18:48:42.755Z"
   },
   {
    "duration": 6,
    "start_time": "2022-06-12T18:48:42.920Z"
   },
   {
    "duration": 20,
    "start_time": "2022-06-12T18:48:42.928Z"
   },
   {
    "duration": 180,
    "start_time": "2022-06-12T18:48:42.950Z"
   },
   {
    "duration": 136,
    "start_time": "2022-06-12T18:48:43.132Z"
   },
   {
    "duration": 28,
    "start_time": "2022-06-12T18:48:43.270Z"
   },
   {
    "duration": 130,
    "start_time": "2022-06-12T18:49:15.812Z"
   },
   {
    "duration": 5,
    "start_time": "2022-06-12T18:55:14.745Z"
   },
   {
    "duration": 8,
    "start_time": "2022-06-12T18:55:41.498Z"
   },
   {
    "duration": 19,
    "start_time": "2022-06-12T18:55:48.131Z"
   },
   {
    "duration": 202,
    "start_time": "2022-06-12T19:00:45.649Z"
   },
   {
    "duration": 28,
    "start_time": "2022-06-12T19:03:58.825Z"
   },
   {
    "duration": 26052,
    "start_time": "2022-06-12T19:04:25.352Z"
   },
   {
    "duration": 3,
    "start_time": "2022-06-12T19:04:51.406Z"
   },
   {
    "duration": 101,
    "start_time": "2022-06-12T19:04:51.410Z"
   },
   {
    "duration": 28,
    "start_time": "2022-06-12T19:04:51.513Z"
   },
   {
    "duration": 26,
    "start_time": "2022-06-12T19:04:51.542Z"
   },
   {
    "duration": 8,
    "start_time": "2022-06-12T19:04:51.570Z"
   },
   {
    "duration": 15,
    "start_time": "2022-06-12T19:04:51.579Z"
   },
   {
    "duration": 4,
    "start_time": "2022-06-12T19:04:51.596Z"
   },
   {
    "duration": 12,
    "start_time": "2022-06-12T19:04:51.602Z"
   },
   {
    "duration": 6,
    "start_time": "2022-06-12T19:04:51.616Z"
   },
   {
    "duration": 11,
    "start_time": "2022-06-12T19:04:51.623Z"
   },
   {
    "duration": 31,
    "start_time": "2022-06-12T19:04:51.636Z"
   },
   {
    "duration": 5,
    "start_time": "2022-06-12T19:04:51.669Z"
   },
   {
    "duration": 8,
    "start_time": "2022-06-12T19:04:51.675Z"
   },
   {
    "duration": 8,
    "start_time": "2022-06-12T19:04:51.684Z"
   },
   {
    "duration": 10,
    "start_time": "2022-06-12T19:04:51.693Z"
   },
   {
    "duration": 7,
    "start_time": "2022-06-12T19:04:51.705Z"
   },
   {
    "duration": 6,
    "start_time": "2022-06-12T19:04:51.713Z"
   },
   {
    "duration": 46,
    "start_time": "2022-06-12T19:04:51.721Z"
   },
   {
    "duration": 6,
    "start_time": "2022-06-12T19:04:51.769Z"
   },
   {
    "duration": 11,
    "start_time": "2022-06-12T19:04:51.776Z"
   },
   {
    "duration": 11,
    "start_time": "2022-06-12T19:04:51.788Z"
   },
   {
    "duration": 4,
    "start_time": "2022-06-12T19:04:51.801Z"
   },
   {
    "duration": 4,
    "start_time": "2022-06-12T19:04:51.806Z"
   },
   {
    "duration": 5,
    "start_time": "2022-06-12T19:04:51.812Z"
   },
   {
    "duration": 11,
    "start_time": "2022-06-12T19:04:51.819Z"
   },
   {
    "duration": 33,
    "start_time": "2022-06-12T19:04:51.832Z"
   },
   {
    "duration": 6,
    "start_time": "2022-06-12T19:04:51.868Z"
   },
   {
    "duration": 9,
    "start_time": "2022-06-12T19:04:51.875Z"
   },
   {
    "duration": 289,
    "start_time": "2022-06-12T19:04:51.886Z"
   },
   {
    "duration": 3,
    "start_time": "2022-06-12T19:04:52.177Z"
   },
   {
    "duration": 6,
    "start_time": "2022-06-12T19:04:52.182Z"
   },
   {
    "duration": 27,
    "start_time": "2022-06-12T19:04:52.190Z"
   },
   {
    "duration": 23,
    "start_time": "2022-06-12T19:04:52.218Z"
   },
   {
    "duration": 316,
    "start_time": "2022-06-12T19:04:52.243Z"
   },
   {
    "duration": 314,
    "start_time": "2022-06-12T19:04:52.561Z"
   },
   {
    "duration": 156,
    "start_time": "2022-06-12T19:04:52.877Z"
   },
   {
    "duration": 183,
    "start_time": "2022-06-12T19:04:53.034Z"
   },
   {
    "duration": 12,
    "start_time": "2022-06-12T19:04:53.218Z"
   },
   {
    "duration": 198,
    "start_time": "2022-06-12T19:04:53.231Z"
   },
   {
    "duration": 2,
    "start_time": "2022-06-12T19:04:53.431Z"
   },
   {
    "duration": 82,
    "start_time": "2022-06-12T19:04:53.435Z"
   },
   {
    "duration": 379,
    "start_time": "2022-06-12T19:04:53.519Z"
   },
   {
    "duration": 9,
    "start_time": "2022-06-12T19:04:53.899Z"
   },
   {
    "duration": 8,
    "start_time": "2022-06-12T19:04:53.910Z"
   },
   {
    "duration": 671,
    "start_time": "2022-06-12T19:04:53.919Z"
   },
   {
    "duration": 26,
    "start_time": "2022-06-12T19:04:54.592Z"
   },
   {
    "duration": 157,
    "start_time": "2022-06-12T19:05:23.259Z"
   },
   {
    "duration": 23,
    "start_time": "2022-06-12T19:10:54.890Z"
   },
   {
    "duration": 123,
    "start_time": "2022-06-12T19:10:56.505Z"
   },
   {
    "duration": 5,
    "start_time": "2022-06-12T19:11:16.291Z"
   },
   {
    "duration": 18,
    "start_time": "2022-06-12T19:12:42.190Z"
   },
   {
    "duration": 180,
    "start_time": "2022-06-12T19:13:30.809Z"
   },
   {
    "duration": 27,
    "start_time": "2022-06-12T19:15:39.626Z"
   },
   {
    "duration": 28,
    "start_time": "2022-06-12T19:15:45.033Z"
   },
   {
    "duration": 116,
    "start_time": "2022-06-12T19:15:54.817Z"
   },
   {
    "duration": 30,
    "start_time": "2022-06-12T19:17:11.274Z"
   },
   {
    "duration": 184,
    "start_time": "2022-06-12T19:17:12.679Z"
   },
   {
    "duration": 28,
    "start_time": "2022-06-12T19:17:25.392Z"
   },
   {
    "duration": 125,
    "start_time": "2022-06-12T19:17:26.353Z"
   },
   {
    "duration": 6,
    "start_time": "2022-06-12T19:21:12.201Z"
   },
   {
    "duration": 872,
    "start_time": "2022-06-12T19:25:02.442Z"
   },
   {
    "duration": 183,
    "start_time": "2022-06-12T19:25:53.097Z"
   },
   {
    "duration": 87,
    "start_time": "2022-06-12T19:27:16.097Z"
   },
   {
    "duration": 89,
    "start_time": "2022-06-12T19:29:11.904Z"
   },
   {
    "duration": 97,
    "start_time": "2022-06-12T19:29:39.401Z"
   },
   {
    "duration": 88,
    "start_time": "2022-06-12T19:31:00.545Z"
   },
   {
    "duration": 21,
    "start_time": "2022-06-12T19:32:21.426Z"
   },
   {
    "duration": 358,
    "start_time": "2022-06-12T19:32:52.664Z"
   },
   {
    "duration": 122,
    "start_time": "2022-06-12T19:33:03.425Z"
   },
   {
    "duration": 190,
    "start_time": "2022-06-12T19:34:25.896Z"
   },
   {
    "duration": 215,
    "start_time": "2022-06-12T19:37:39.032Z"
   },
   {
    "duration": 141,
    "start_time": "2022-06-12T19:37:56.320Z"
   },
   {
    "duration": 210,
    "start_time": "2022-06-12T19:38:01.960Z"
   },
   {
    "duration": 184,
    "start_time": "2022-06-12T19:38:18.290Z"
   },
   {
    "duration": 178,
    "start_time": "2022-06-12T19:38:23.497Z"
   },
   {
    "duration": 183,
    "start_time": "2022-06-12T19:38:27.794Z"
   },
   {
    "duration": 196,
    "start_time": "2022-06-12T19:38:34.241Z"
   },
   {
    "duration": 6,
    "start_time": "2022-06-12T19:39:28.768Z"
   },
   {
    "duration": 134,
    "start_time": "2022-06-12T19:45:41.425Z"
   },
   {
    "duration": 139,
    "start_time": "2022-06-12T19:46:05.761Z"
   },
   {
    "duration": 129,
    "start_time": "2022-06-12T19:46:19.537Z"
   },
   {
    "duration": 152,
    "start_time": "2022-06-12T19:46:50.617Z"
   },
   {
    "duration": 142,
    "start_time": "2022-06-12T19:46:55.641Z"
   },
   {
    "duration": 287,
    "start_time": "2022-06-12T19:47:17.595Z"
   },
   {
    "duration": 365,
    "start_time": "2022-06-12T19:47:58.961Z"
   },
   {
    "duration": 3,
    "start_time": "2022-06-12T19:48:06.539Z"
   },
   {
    "duration": 98,
    "start_time": "2022-06-12T19:48:06.544Z"
   },
   {
    "duration": 28,
    "start_time": "2022-06-12T19:48:06.644Z"
   },
   {
    "duration": 16,
    "start_time": "2022-06-12T19:48:06.674Z"
   },
   {
    "duration": 8,
    "start_time": "2022-06-12T19:48:06.691Z"
   },
   {
    "duration": 11,
    "start_time": "2022-06-12T19:48:06.701Z"
   },
   {
    "duration": 7,
    "start_time": "2022-06-12T19:48:06.713Z"
   },
   {
    "duration": 11,
    "start_time": "2022-06-12T19:48:06.721Z"
   },
   {
    "duration": 8,
    "start_time": "2022-06-12T19:48:06.734Z"
   },
   {
    "duration": 27,
    "start_time": "2022-06-12T19:48:06.744Z"
   },
   {
    "duration": 7,
    "start_time": "2022-06-12T19:48:06.773Z"
   },
   {
    "duration": 7,
    "start_time": "2022-06-12T19:48:06.782Z"
   },
   {
    "duration": 5,
    "start_time": "2022-06-12T19:48:06.790Z"
   },
   {
    "duration": 11,
    "start_time": "2022-06-12T19:48:06.796Z"
   },
   {
    "duration": 15,
    "start_time": "2022-06-12T19:48:06.808Z"
   },
   {
    "duration": 8,
    "start_time": "2022-06-12T19:48:06.825Z"
   },
   {
    "duration": 21,
    "start_time": "2022-06-12T19:48:06.835Z"
   },
   {
    "duration": 12,
    "start_time": "2022-06-12T19:48:06.857Z"
   },
   {
    "duration": 5,
    "start_time": "2022-06-12T19:48:06.870Z"
   },
   {
    "duration": 6,
    "start_time": "2022-06-12T19:48:06.876Z"
   },
   {
    "duration": 8,
    "start_time": "2022-06-12T19:48:06.883Z"
   },
   {
    "duration": 5,
    "start_time": "2022-06-12T19:48:06.892Z"
   },
   {
    "duration": 5,
    "start_time": "2022-06-12T19:48:06.898Z"
   },
   {
    "duration": 4,
    "start_time": "2022-06-12T19:48:06.906Z"
   },
   {
    "duration": 20,
    "start_time": "2022-06-12T19:48:06.911Z"
   },
   {
    "duration": 6,
    "start_time": "2022-06-12T19:48:06.932Z"
   },
   {
    "duration": 5,
    "start_time": "2022-06-12T19:48:06.965Z"
   },
   {
    "duration": 3,
    "start_time": "2022-06-12T19:48:06.972Z"
   },
   {
    "duration": 278,
    "start_time": "2022-06-12T19:48:06.977Z"
   },
   {
    "duration": 3,
    "start_time": "2022-06-12T19:48:07.257Z"
   },
   {
    "duration": 12,
    "start_time": "2022-06-12T19:48:07.264Z"
   },
   {
    "duration": 29,
    "start_time": "2022-06-12T19:48:07.277Z"
   },
   {
    "duration": 31,
    "start_time": "2022-06-12T19:48:07.308Z"
   },
   {
    "duration": 300,
    "start_time": "2022-06-12T19:48:07.340Z"
   },
   {
    "duration": 307,
    "start_time": "2022-06-12T19:48:07.642Z"
   },
   {
    "duration": 173,
    "start_time": "2022-06-12T19:48:07.951Z"
   },
   {
    "duration": 200,
    "start_time": "2022-06-12T19:48:08.126Z"
   },
   {
    "duration": 10,
    "start_time": "2022-06-12T19:48:08.328Z"
   },
   {
    "duration": 208,
    "start_time": "2022-06-12T19:48:08.339Z"
   },
   {
    "duration": 2,
    "start_time": "2022-06-12T19:48:08.549Z"
   },
   {
    "duration": 99,
    "start_time": "2022-06-12T19:48:08.553Z"
   },
   {
    "duration": 334,
    "start_time": "2022-06-12T19:48:08.654Z"
   },
   {
    "duration": 13,
    "start_time": "2022-06-12T19:48:08.990Z"
   },
   {
    "duration": 21,
    "start_time": "2022-06-12T19:48:09.005Z"
   },
   {
    "duration": 577,
    "start_time": "2022-06-12T19:48:09.028Z"
   },
   {
    "duration": 25,
    "start_time": "2022-06-12T19:48:09.606Z"
   },
   {
    "duration": 138,
    "start_time": "2022-06-12T19:48:09.632Z"
   },
   {
    "duration": 4,
    "start_time": "2022-06-12T19:48:09.772Z"
   },
   {
    "duration": 39,
    "start_time": "2022-06-12T19:48:09.778Z"
   },
   {
    "duration": 167,
    "start_time": "2022-06-12T19:48:09.819Z"
   },
   {
    "duration": 124,
    "start_time": "2022-06-12T19:48:09.987Z"
   },
   {
    "duration": 26,
    "start_time": "2022-06-12T19:48:10.112Z"
   },
   {
    "duration": 140,
    "start_time": "2022-06-12T19:48:10.140Z"
   },
   {
    "duration": 0,
    "start_time": "2022-06-12T19:48:10.282Z"
   },
   {
    "duration": 0,
    "start_time": "2022-06-12T19:48:10.283Z"
   },
   {
    "duration": 0,
    "start_time": "2022-06-12T19:48:10.284Z"
   },
   {
    "duration": 0,
    "start_time": "2022-06-12T19:48:10.285Z"
   },
   {
    "duration": 147,
    "start_time": "2022-06-12T19:48:43.311Z"
   },
   {
    "duration": 140,
    "start_time": "2022-06-12T19:49:08.657Z"
   },
   {
    "duration": 151,
    "start_time": "2022-06-12T19:49:17.299Z"
   },
   {
    "duration": 141,
    "start_time": "2022-06-12T19:49:23.114Z"
   },
   {
    "duration": 5,
    "start_time": "2022-06-12T19:49:26.417Z"
   },
   {
    "duration": 224,
    "start_time": "2022-06-12T19:49:28.803Z"
   },
   {
    "duration": 2,
    "start_time": "2022-06-12T19:49:34.706Z"
   },
   {
    "duration": 106,
    "start_time": "2022-06-12T19:49:34.710Z"
   },
   {
    "duration": 28,
    "start_time": "2022-06-12T19:49:34.818Z"
   },
   {
    "duration": 23,
    "start_time": "2022-06-12T19:49:34.848Z"
   },
   {
    "duration": 7,
    "start_time": "2022-06-12T19:49:34.873Z"
   },
   {
    "duration": 14,
    "start_time": "2022-06-12T19:49:34.881Z"
   },
   {
    "duration": 4,
    "start_time": "2022-06-12T19:49:34.896Z"
   },
   {
    "duration": 11,
    "start_time": "2022-06-12T19:49:34.902Z"
   },
   {
    "duration": 5,
    "start_time": "2022-06-12T19:49:34.914Z"
   },
   {
    "duration": 11,
    "start_time": "2022-06-12T19:49:34.920Z"
   },
   {
    "duration": 11,
    "start_time": "2022-06-12T19:49:34.932Z"
   },
   {
    "duration": 21,
    "start_time": "2022-06-12T19:49:34.945Z"
   },
   {
    "duration": 8,
    "start_time": "2022-06-12T19:49:34.968Z"
   },
   {
    "duration": 8,
    "start_time": "2022-06-12T19:49:34.979Z"
   },
   {
    "duration": 10,
    "start_time": "2022-06-12T19:49:34.988Z"
   },
   {
    "duration": 8,
    "start_time": "2022-06-12T19:49:35.000Z"
   },
   {
    "duration": 6,
    "start_time": "2022-06-12T19:49:35.010Z"
   },
   {
    "duration": 6,
    "start_time": "2022-06-12T19:49:35.017Z"
   },
   {
    "duration": 42,
    "start_time": "2022-06-12T19:49:35.024Z"
   },
   {
    "duration": 6,
    "start_time": "2022-06-12T19:49:35.067Z"
   },
   {
    "duration": 12,
    "start_time": "2022-06-12T19:49:35.074Z"
   },
   {
    "duration": 4,
    "start_time": "2022-06-12T19:49:35.087Z"
   },
   {
    "duration": 5,
    "start_time": "2022-06-12T19:49:35.093Z"
   },
   {
    "duration": 7,
    "start_time": "2022-06-12T19:49:35.099Z"
   },
   {
    "duration": 8,
    "start_time": "2022-06-12T19:49:35.107Z"
   },
   {
    "duration": 5,
    "start_time": "2022-06-12T19:49:35.117Z"
   },
   {
    "duration": 6,
    "start_time": "2022-06-12T19:49:35.123Z"
   },
   {
    "duration": 4,
    "start_time": "2022-06-12T19:49:35.164Z"
   },
   {
    "duration": 275,
    "start_time": "2022-06-12T19:49:35.169Z"
   },
   {
    "duration": 4,
    "start_time": "2022-06-12T19:49:35.446Z"
   },
   {
    "duration": 14,
    "start_time": "2022-06-12T19:49:35.451Z"
   },
   {
    "duration": 33,
    "start_time": "2022-06-12T19:49:35.467Z"
   },
   {
    "duration": 31,
    "start_time": "2022-06-12T19:49:35.502Z"
   },
   {
    "duration": 294,
    "start_time": "2022-06-12T19:49:35.534Z"
   },
   {
    "duration": 334,
    "start_time": "2022-06-12T19:49:35.830Z"
   },
   {
    "duration": 169,
    "start_time": "2022-06-12T19:49:36.166Z"
   },
   {
    "duration": 186,
    "start_time": "2022-06-12T19:49:36.336Z"
   },
   {
    "duration": 11,
    "start_time": "2022-06-12T19:49:36.524Z"
   },
   {
    "duration": 211,
    "start_time": "2022-06-12T19:49:36.536Z"
   },
   {
    "duration": 3,
    "start_time": "2022-06-12T19:49:36.748Z"
   },
   {
    "duration": 90,
    "start_time": "2022-06-12T19:49:36.754Z"
   },
   {
    "duration": 297,
    "start_time": "2022-06-12T19:49:36.845Z"
   },
   {
    "duration": 10,
    "start_time": "2022-06-12T19:49:37.144Z"
   },
   {
    "duration": 9,
    "start_time": "2022-06-12T19:49:37.165Z"
   },
   {
    "duration": 609,
    "start_time": "2022-06-12T19:49:37.175Z"
   },
   {
    "duration": 24,
    "start_time": "2022-06-12T19:49:37.786Z"
   },
   {
    "duration": 132,
    "start_time": "2022-06-12T19:49:37.812Z"
   },
   {
    "duration": 5,
    "start_time": "2022-06-12T19:49:37.946Z"
   },
   {
    "duration": 37,
    "start_time": "2022-06-12T19:49:37.953Z"
   },
   {
    "duration": 171,
    "start_time": "2022-06-12T19:49:37.991Z"
   },
   {
    "duration": 116,
    "start_time": "2022-06-12T19:49:38.164Z"
   },
   {
    "duration": 24,
    "start_time": "2022-06-12T19:49:38.282Z"
   },
   {
    "duration": 135,
    "start_time": "2022-06-12T19:49:38.308Z"
   },
   {
    "duration": 5,
    "start_time": "2022-06-12T19:49:38.444Z"
   },
   {
    "duration": 193,
    "start_time": "2022-06-12T19:49:38.451Z"
   },
   {
    "duration": 5,
    "start_time": "2022-06-12T19:49:38.646Z"
   },
   {
    "duration": 151,
    "start_time": "2022-06-12T19:49:38.652Z"
   },
   {
    "duration": 168,
    "start_time": "2022-06-12T19:49:38.805Z"
   },
   {
    "duration": 156,
    "start_time": "2022-06-12T19:53:40.815Z"
   },
   {
    "duration": 145,
    "start_time": "2022-06-12T19:57:22.624Z"
   },
   {
    "duration": 17,
    "start_time": "2022-06-12T20:05:36.097Z"
   },
   {
    "duration": 3,
    "start_time": "2022-06-12T20:06:15.025Z"
   },
   {
    "duration": 4,
    "start_time": "2022-06-12T20:07:09.685Z"
   },
   {
    "duration": 4,
    "start_time": "2022-06-12T20:07:43.622Z"
   },
   {
    "duration": 3,
    "start_time": "2022-06-12T20:08:26.631Z"
   },
   {
    "duration": 7,
    "start_time": "2022-06-12T20:08:50.319Z"
   },
   {
    "duration": 4,
    "start_time": "2022-06-12T20:10:11.535Z"
   },
   {
    "duration": 8,
    "start_time": "2022-06-12T20:10:27.412Z"
   },
   {
    "duration": 8,
    "start_time": "2022-06-12T20:11:37.742Z"
   },
   {
    "duration": 8,
    "start_time": "2022-06-12T20:12:09.208Z"
   },
   {
    "duration": 7,
    "start_time": "2022-06-12T20:20:31.854Z"
   },
   {
    "duration": 16,
    "start_time": "2022-06-12T20:24:16.083Z"
   },
   {
    "duration": 8,
    "start_time": "2022-06-12T20:25:30.206Z"
   },
   {
    "duration": 132,
    "start_time": "2022-06-12T20:25:51.606Z"
   },
   {
    "duration": 133,
    "start_time": "2022-06-12T20:26:14.601Z"
   },
   {
    "duration": 139,
    "start_time": "2022-06-12T20:26:35.801Z"
   },
   {
    "duration": 133,
    "start_time": "2022-06-12T20:26:46.801Z"
   },
   {
    "duration": 8,
    "start_time": "2022-06-12T20:39:25.195Z"
   },
   {
    "duration": 22,
    "start_time": "2022-06-12T20:43:44.957Z"
   },
   {
    "duration": 295,
    "start_time": "2022-06-12T20:48:39.777Z"
   },
   {
    "duration": 273,
    "start_time": "2022-06-12T20:49:40.212Z"
   },
   {
    "duration": 289,
    "start_time": "2022-06-12T20:49:44.839Z"
   },
   {
    "duration": 308,
    "start_time": "2022-06-12T20:49:50.052Z"
   },
   {
    "duration": 157,
    "start_time": "2022-06-12T20:50:09.052Z"
   },
   {
    "duration": 165,
    "start_time": "2022-06-12T20:50:37.282Z"
   },
   {
    "duration": 148,
    "start_time": "2022-06-12T20:50:45.580Z"
   },
   {
    "duration": 153,
    "start_time": "2022-06-12T20:50:49.155Z"
   },
   {
    "duration": 284,
    "start_time": "2022-06-12T20:51:04.105Z"
   },
   {
    "duration": 21,
    "start_time": "2022-06-12T21:07:03.774Z"
   },
   {
    "duration": 287,
    "start_time": "2022-06-12T21:08:58.535Z"
   },
   {
    "duration": 305,
    "start_time": "2022-06-12T21:16:00.080Z"
   },
   {
    "duration": 285,
    "start_time": "2022-06-12T21:16:12.130Z"
   },
   {
    "duration": 1026,
    "start_time": "2022-06-12T21:16:31.123Z"
   },
   {
    "duration": 195,
    "start_time": "2022-06-12T21:16:54.408Z"
   },
   {
    "duration": 185,
    "start_time": "2022-06-12T21:16:56.674Z"
   },
   {
    "duration": 385,
    "start_time": "2022-06-12T21:31:01.046Z"
   },
   {
    "duration": 125,
    "start_time": "2022-06-12T21:31:57.782Z"
   },
   {
    "duration": 124,
    "start_time": "2022-06-12T21:32:07.942Z"
   },
   {
    "duration": 5,
    "start_time": "2022-06-12T21:32:12.037Z"
   },
   {
    "duration": 329,
    "start_time": "2022-06-12T21:33:44.021Z"
   },
   {
    "duration": 16,
    "start_time": "2022-06-12T21:33:52.438Z"
   },
   {
    "duration": 165,
    "start_time": "2022-06-12T21:33:58.223Z"
   },
   {
    "duration": 135,
    "start_time": "2022-06-12T21:35:41.837Z"
   },
   {
    "duration": 4,
    "start_time": "2022-06-12T21:36:07.284Z"
   },
   {
    "duration": 6,
    "start_time": "2022-06-12T21:36:25.371Z"
   },
   {
    "duration": 129,
    "start_time": "2022-06-12T21:40:50.310Z"
   },
   {
    "duration": 168,
    "start_time": "2022-06-12T21:43:46.324Z"
   },
   {
    "duration": 6,
    "start_time": "2022-06-12T21:45:15.734Z"
   },
   {
    "duration": 130,
    "start_time": "2022-06-12T21:47:21.870Z"
   },
   {
    "duration": 134,
    "start_time": "2022-06-12T21:52:11.558Z"
   },
   {
    "duration": 124,
    "start_time": "2022-06-12T21:57:08.672Z"
   },
   {
    "duration": 385,
    "start_time": "2022-06-13T07:07:55.448Z"
   },
   {
    "duration": 80,
    "start_time": "2022-06-13T07:07:55.834Z"
   },
   {
    "duration": 31,
    "start_time": "2022-06-13T07:07:55.916Z"
   },
   {
    "duration": 16,
    "start_time": "2022-06-13T07:07:55.948Z"
   },
   {
    "duration": 23,
    "start_time": "2022-06-13T07:07:55.965Z"
   },
   {
    "duration": 29,
    "start_time": "2022-06-13T07:07:55.989Z"
   },
   {
    "duration": 19,
    "start_time": "2022-06-13T07:07:56.019Z"
   },
   {
    "duration": 34,
    "start_time": "2022-06-13T07:07:56.039Z"
   },
   {
    "duration": 25,
    "start_time": "2022-06-13T07:07:56.074Z"
   },
   {
    "duration": 48,
    "start_time": "2022-06-13T07:07:56.101Z"
   },
   {
    "duration": 52,
    "start_time": "2022-06-13T07:07:56.150Z"
   },
   {
    "duration": 33,
    "start_time": "2022-06-13T07:07:56.204Z"
   },
   {
    "duration": 14,
    "start_time": "2022-06-13T07:07:56.238Z"
   },
   {
    "duration": 32,
    "start_time": "2022-06-13T07:07:56.253Z"
   },
   {
    "duration": 31,
    "start_time": "2022-06-13T07:07:56.286Z"
   },
   {
    "duration": 23,
    "start_time": "2022-06-13T07:07:56.319Z"
   },
   {
    "duration": 44,
    "start_time": "2022-06-13T07:07:56.344Z"
   },
   {
    "duration": 19,
    "start_time": "2022-06-13T07:07:56.389Z"
   },
   {
    "duration": 24,
    "start_time": "2022-06-13T07:07:56.409Z"
   },
   {
    "duration": 24,
    "start_time": "2022-06-13T07:07:56.435Z"
   },
   {
    "duration": 17,
    "start_time": "2022-06-13T07:07:56.460Z"
   },
   {
    "duration": 27,
    "start_time": "2022-06-13T07:07:56.478Z"
   },
   {
    "duration": 12,
    "start_time": "2022-06-13T07:07:56.508Z"
   },
   {
    "duration": 27,
    "start_time": "2022-06-13T07:07:56.521Z"
   },
   {
    "duration": 23,
    "start_time": "2022-06-13T07:07:56.549Z"
   },
   {
    "duration": 20,
    "start_time": "2022-06-13T07:07:56.573Z"
   },
   {
    "duration": 36,
    "start_time": "2022-06-13T07:07:56.594Z"
   },
   {
    "duration": 17,
    "start_time": "2022-06-13T07:07:56.631Z"
   },
   {
    "duration": 287,
    "start_time": "2022-06-13T07:07:56.649Z"
   },
   {
    "duration": 3,
    "start_time": "2022-06-13T07:07:56.938Z"
   },
   {
    "duration": 25,
    "start_time": "2022-06-13T07:07:56.942Z"
   },
   {
    "duration": 40,
    "start_time": "2022-06-13T07:07:56.968Z"
   },
   {
    "duration": 32,
    "start_time": "2022-06-13T07:07:57.009Z"
   },
   {
    "duration": 401,
    "start_time": "2022-06-13T07:07:57.042Z"
   },
   {
    "duration": 358,
    "start_time": "2022-06-13T07:07:57.446Z"
   },
   {
    "duration": 147,
    "start_time": "2022-06-13T07:07:57.806Z"
   },
   {
    "duration": 176,
    "start_time": "2022-06-13T07:07:57.955Z"
   },
   {
    "duration": 10,
    "start_time": "2022-06-13T07:07:58.132Z"
   },
   {
    "duration": 200,
    "start_time": "2022-06-13T07:07:58.143Z"
   },
   {
    "duration": 2,
    "start_time": "2022-06-13T07:07:58.345Z"
   },
   {
    "duration": 87,
    "start_time": "2022-06-13T07:07:58.348Z"
   },
   {
    "duration": 268,
    "start_time": "2022-06-13T07:07:58.436Z"
   },
   {
    "duration": 9,
    "start_time": "2022-06-13T07:07:58.706Z"
   },
   {
    "duration": 8,
    "start_time": "2022-06-13T07:07:58.716Z"
   },
   {
    "duration": 519,
    "start_time": "2022-06-13T07:07:58.725Z"
   },
   {
    "duration": 22,
    "start_time": "2022-06-13T07:07:59.245Z"
   },
   {
    "duration": 184,
    "start_time": "2022-06-13T07:07:59.269Z"
   },
   {
    "duration": 23,
    "start_time": "2022-06-13T07:07:59.456Z"
   },
   {
    "duration": 14,
    "start_time": "2022-06-13T07:07:59.480Z"
   },
   {
    "duration": 154,
    "start_time": "2022-06-13T07:07:59.496Z"
   },
   {
    "duration": 101,
    "start_time": "2022-06-13T07:07:59.651Z"
   },
   {
    "duration": 32,
    "start_time": "2022-06-13T07:07:59.754Z"
   },
   {
    "duration": 113,
    "start_time": "2022-06-13T07:07:59.787Z"
   },
   {
    "duration": 4,
    "start_time": "2022-06-13T07:07:59.902Z"
   },
   {
    "duration": 187,
    "start_time": "2022-06-13T07:07:59.907Z"
   },
   {
    "duration": 5,
    "start_time": "2022-06-13T07:08:00.096Z"
   },
   {
    "duration": 142,
    "start_time": "2022-06-13T07:08:00.102Z"
   },
   {
    "duration": 139,
    "start_time": "2022-06-13T07:08:00.245Z"
   },
   {
    "duration": 139,
    "start_time": "2022-06-13T07:08:00.386Z"
   },
   {
    "duration": 140,
    "start_time": "2022-06-13T07:08:00.526Z"
   },
   {
    "duration": 22,
    "start_time": "2022-06-13T07:08:00.667Z"
   },
   {
    "duration": 11,
    "start_time": "2022-06-13T07:08:00.690Z"
   },
   {
    "duration": 13,
    "start_time": "2022-06-13T07:08:00.702Z"
   },
   {
    "duration": 18,
    "start_time": "2022-06-13T07:08:00.716Z"
   },
   {
    "duration": 16,
    "start_time": "2022-06-13T07:08:00.735Z"
   },
   {
    "duration": 26,
    "start_time": "2022-06-13T07:08:00.753Z"
   },
   {
    "duration": 12,
    "start_time": "2022-06-13T07:08:00.781Z"
   },
   {
    "duration": 32,
    "start_time": "2022-06-13T07:08:00.795Z"
   },
   {
    "duration": 11,
    "start_time": "2022-06-13T07:08:00.829Z"
   },
   {
    "duration": 126,
    "start_time": "2022-06-13T07:08:00.841Z"
   },
   {
    "duration": 8,
    "start_time": "2022-06-13T07:08:00.977Z"
   },
   {
    "duration": 39,
    "start_time": "2022-06-13T07:08:00.986Z"
   },
   {
    "duration": 253,
    "start_time": "2022-06-13T07:08:01.026Z"
   },
   {
    "duration": 343,
    "start_time": "2022-06-13T07:08:01.281Z"
   },
   {
    "duration": 144,
    "start_time": "2022-06-13T07:08:01.625Z"
   },
   {
    "duration": 201,
    "start_time": "2022-06-13T07:08:01.771Z"
   },
   {
    "duration": 144,
    "start_time": "2022-06-13T07:08:01.973Z"
   },
   {
    "duration": 5,
    "start_time": "2022-06-13T07:08:02.118Z"
   },
   {
    "duration": 137,
    "start_time": "2022-06-13T07:08:02.124Z"
   },
   {
    "duration": 149,
    "start_time": "2022-06-13T07:08:02.262Z"
   },
   {
    "duration": 4,
    "start_time": "2022-06-13T07:08:02.413Z"
   },
   {
    "duration": 127,
    "start_time": "2022-06-13T07:08:02.418Z"
   },
   {
    "duration": 122,
    "start_time": "2022-06-13T07:08:02.547Z"
   },
   {
    "duration": 123,
    "start_time": "2022-06-13T07:08:02.671Z"
   },
   {
    "duration": 75,
    "start_time": "2022-06-14T09:17:44.811Z"
   },
   {
    "duration": 493,
    "start_time": "2022-06-14T09:17:54.502Z"
   },
   {
    "duration": 446,
    "start_time": "2022-06-14T09:17:54.997Z"
   },
   {
    "duration": 48,
    "start_time": "2022-06-14T09:17:55.444Z"
   },
   {
    "duration": 15,
    "start_time": "2022-06-14T09:17:55.494Z"
   },
   {
    "duration": 9,
    "start_time": "2022-06-14T09:17:55.510Z"
   },
   {
    "duration": 24,
    "start_time": "2022-06-14T09:17:55.521Z"
   },
   {
    "duration": 36,
    "start_time": "2022-06-14T09:17:55.547Z"
   },
   {
    "duration": 10,
    "start_time": "2022-06-14T09:17:55.585Z"
   },
   {
    "duration": 8,
    "start_time": "2022-06-14T09:17:55.597Z"
   },
   {
    "duration": 11,
    "start_time": "2022-06-14T09:17:55.608Z"
   },
   {
    "duration": 12,
    "start_time": "2022-06-14T09:17:55.620Z"
   },
   {
    "duration": 59,
    "start_time": "2022-06-14T09:17:55.634Z"
   },
   {
    "duration": 16,
    "start_time": "2022-06-14T09:17:55.695Z"
   },
   {
    "duration": 11,
    "start_time": "2022-06-14T09:17:55.713Z"
   },
   {
    "duration": 63,
    "start_time": "2022-06-14T09:17:55.725Z"
   },
   {
    "duration": 7,
    "start_time": "2022-06-14T09:17:55.791Z"
   },
   {
    "duration": 7,
    "start_time": "2022-06-14T09:17:55.800Z"
   },
   {
    "duration": 8,
    "start_time": "2022-06-14T09:17:55.809Z"
   },
   {
    "duration": 27,
    "start_time": "2022-06-14T09:17:55.818Z"
   },
   {
    "duration": 50,
    "start_time": "2022-06-14T09:17:55.846Z"
   },
   {
    "duration": 12,
    "start_time": "2022-06-14T09:17:55.898Z"
   },
   {
    "duration": 5,
    "start_time": "2022-06-14T09:17:55.912Z"
   },
   {
    "duration": 5,
    "start_time": "2022-06-14T09:17:55.919Z"
   },
   {
    "duration": 61,
    "start_time": "2022-06-14T09:17:55.925Z"
   },
   {
    "duration": 7,
    "start_time": "2022-06-14T09:17:55.988Z"
   },
   {
    "duration": 13,
    "start_time": "2022-06-14T09:17:55.996Z"
   },
   {
    "duration": 8,
    "start_time": "2022-06-14T09:17:56.011Z"
   },
   {
    "duration": 4,
    "start_time": "2022-06-14T09:17:56.022Z"
   },
   {
    "duration": 470,
    "start_time": "2022-06-14T09:17:56.040Z"
   },
   {
    "duration": 6,
    "start_time": "2022-06-14T09:17:56.512Z"
   },
   {
    "duration": 91,
    "start_time": "2022-06-14T09:17:56.520Z"
   },
   {
    "duration": 63,
    "start_time": "2022-06-14T09:17:56.613Z"
   },
   {
    "duration": 93,
    "start_time": "2022-06-14T09:17:56.677Z"
   },
   {
    "duration": 841,
    "start_time": "2022-06-14T09:17:56.774Z"
   },
   {
    "duration": 374,
    "start_time": "2022-06-14T09:17:57.617Z"
   },
   {
    "duration": 209,
    "start_time": "2022-06-14T09:17:57.992Z"
   },
   {
    "duration": 228,
    "start_time": "2022-06-14T09:17:58.203Z"
   },
   {
    "duration": 13,
    "start_time": "2022-06-14T09:17:58.433Z"
   },
   {
    "duration": 291,
    "start_time": "2022-06-14T09:17:58.457Z"
   },
   {
    "duration": 3,
    "start_time": "2022-06-14T09:17:58.750Z"
   },
   {
    "duration": 136,
    "start_time": "2022-06-14T09:17:58.760Z"
   },
   {
    "duration": 423,
    "start_time": "2022-06-14T09:17:58.898Z"
   },
   {
    "duration": 24,
    "start_time": "2022-06-14T09:18:05.093Z"
   },
   {
    "duration": 11,
    "start_time": "2022-06-14T09:19:07.084Z"
   },
   {
    "duration": 9,
    "start_time": "2022-06-14T09:19:25.497Z"
   },
   {
    "duration": 81,
    "start_time": "2022-06-14T09:20:03.609Z"
   },
   {
    "duration": 9,
    "start_time": "2022-06-14T09:20:19.068Z"
   },
   {
    "duration": 46,
    "start_time": "2022-06-14T09:23:52.120Z"
   },
   {
    "duration": 34,
    "start_time": "2022-06-14T09:24:27.055Z"
   },
   {
    "duration": 12,
    "start_time": "2022-06-14T09:24:48.813Z"
   },
   {
    "duration": 20,
    "start_time": "2022-06-14T09:25:06.166Z"
   },
   {
    "duration": 8,
    "start_time": "2022-06-14T09:25:32.608Z"
   },
   {
    "duration": 9,
    "start_time": "2022-06-14T09:25:38.896Z"
   },
   {
    "duration": 16,
    "start_time": "2022-06-14T09:25:50.832Z"
   },
   {
    "duration": 14,
    "start_time": "2022-06-14T09:27:14.960Z"
   },
   {
    "duration": 39,
    "start_time": "2022-06-14T09:29:14.665Z"
   },
   {
    "duration": 11,
    "start_time": "2022-06-14T09:29:21.464Z"
   },
   {
    "duration": 9,
    "start_time": "2022-06-14T09:33:09.975Z"
   },
   {
    "duration": 32,
    "start_time": "2022-06-14T09:33:26.495Z"
   },
   {
    "duration": 25,
    "start_time": "2022-06-14T09:33:33.265Z"
   },
   {
    "duration": 9,
    "start_time": "2022-06-14T09:33:59.175Z"
   },
   {
    "duration": 3,
    "start_time": "2022-06-14T09:34:19.211Z"
   },
   {
    "duration": 8,
    "start_time": "2022-06-14T09:34:26.574Z"
   },
   {
    "duration": 25,
    "start_time": "2022-06-14T09:35:17.793Z"
   },
   {
    "duration": 9,
    "start_time": "2022-06-14T09:35:22.352Z"
   },
   {
    "duration": 9,
    "start_time": "2022-06-14T09:35:31.112Z"
   },
   {
    "duration": 12,
    "start_time": "2022-06-14T09:35:38.913Z"
   },
   {
    "duration": 16,
    "start_time": "2022-06-14T09:39:07.959Z"
   },
   {
    "duration": 14,
    "start_time": "2022-06-14T09:39:26.625Z"
   },
   {
    "duration": 9,
    "start_time": "2022-06-14T09:41:03.400Z"
   },
   {
    "duration": 16,
    "start_time": "2022-06-14T09:41:15.727Z"
   },
   {
    "duration": 11,
    "start_time": "2022-06-14T09:42:28.109Z"
   },
   {
    "duration": 14,
    "start_time": "2022-06-14T09:42:35.206Z"
   },
   {
    "duration": 49,
    "start_time": "2022-06-14T09:42:52.124Z"
   },
   {
    "duration": 150,
    "start_time": "2022-06-14T09:42:52.175Z"
   },
   {
    "duration": 65,
    "start_time": "2022-06-14T09:42:52.329Z"
   },
   {
    "duration": 24,
    "start_time": "2022-06-14T09:42:52.396Z"
   },
   {
    "duration": 11,
    "start_time": "2022-06-14T09:42:52.422Z"
   },
   {
    "duration": 10,
    "start_time": "2022-06-14T09:42:52.434Z"
   },
   {
    "duration": 53,
    "start_time": "2022-06-14T09:42:52.446Z"
   },
   {
    "duration": 16,
    "start_time": "2022-06-14T09:42:52.501Z"
   },
   {
    "duration": 64,
    "start_time": "2022-06-14T09:42:52.518Z"
   },
   {
    "duration": 26,
    "start_time": "2022-06-14T09:42:52.585Z"
   },
   {
    "duration": 19,
    "start_time": "2022-06-14T09:42:52.612Z"
   },
   {
    "duration": 61,
    "start_time": "2022-06-14T09:42:52.633Z"
   },
   {
    "duration": 18,
    "start_time": "2022-06-14T09:42:52.696Z"
   },
   {
    "duration": 71,
    "start_time": "2022-06-14T09:42:52.716Z"
   },
   {
    "duration": 29,
    "start_time": "2022-06-14T09:42:52.788Z"
   },
   {
    "duration": 61,
    "start_time": "2022-06-14T09:42:52.819Z"
   },
   {
    "duration": 20,
    "start_time": "2022-06-14T09:42:52.883Z"
   },
   {
    "duration": 30,
    "start_time": "2022-06-14T09:42:52.905Z"
   },
   {
    "duration": 54,
    "start_time": "2022-06-14T09:42:52.937Z"
   },
   {
    "duration": 16,
    "start_time": "2022-06-14T09:42:52.993Z"
   },
   {
    "duration": 81,
    "start_time": "2022-06-14T09:42:53.011Z"
   },
   {
    "duration": 29,
    "start_time": "2022-06-14T09:42:53.093Z"
   },
   {
    "duration": 68,
    "start_time": "2022-06-14T09:42:53.124Z"
   },
   {
    "duration": 12,
    "start_time": "2022-06-14T09:42:53.194Z"
   },
   {
    "duration": 58,
    "start_time": "2022-06-14T09:42:53.207Z"
   },
   {
    "duration": 67,
    "start_time": "2022-06-14T09:42:53.270Z"
   },
   {
    "duration": 56,
    "start_time": "2022-06-14T09:42:53.342Z"
   },
   {
    "duration": 16,
    "start_time": "2022-06-14T09:42:53.403Z"
   },
   {
    "duration": 520,
    "start_time": "2022-06-14T09:42:53.421Z"
   },
   {
    "duration": 14,
    "start_time": "2022-06-14T09:42:53.949Z"
   },
   {
    "duration": 31,
    "start_time": "2022-06-14T09:42:53.973Z"
   },
   {
    "duration": 66,
    "start_time": "2022-06-14T09:42:54.006Z"
   },
   {
    "duration": 49,
    "start_time": "2022-06-14T09:42:54.074Z"
   },
   {
    "duration": 384,
    "start_time": "2022-06-14T09:42:54.126Z"
   },
   {
    "duration": 372,
    "start_time": "2022-06-14T09:42:54.512Z"
   },
   {
    "duration": 213,
    "start_time": "2022-06-14T09:42:54.886Z"
   },
   {
    "duration": 304,
    "start_time": "2022-06-14T09:42:55.100Z"
   },
   {
    "duration": 13,
    "start_time": "2022-06-14T09:42:55.406Z"
   },
   {
    "duration": 296,
    "start_time": "2022-06-14T09:42:55.421Z"
   },
   {
    "duration": 16,
    "start_time": "2022-06-14T09:42:55.719Z"
   },
   {
    "duration": 140,
    "start_time": "2022-06-14T09:42:55.746Z"
   },
   {
    "duration": 368,
    "start_time": "2022-06-14T09:42:55.890Z"
   },
   {
    "duration": 27,
    "start_time": "2022-06-14T09:42:56.260Z"
   },
   {
    "duration": 27,
    "start_time": "2022-06-14T09:42:56.289Z"
   },
   {
    "duration": 27,
    "start_time": "2022-06-14T09:42:56.319Z"
   },
   {
    "duration": 947,
    "start_time": "2022-06-14T09:42:56.354Z"
   },
   {
    "duration": 45,
    "start_time": "2022-06-14T09:42:57.303Z"
   },
   {
    "duration": 198,
    "start_time": "2022-06-14T09:43:10.878Z"
   },
   {
    "duration": 174,
    "start_time": "2022-06-14T09:43:16.024Z"
   },
   {
    "duration": 171,
    "start_time": "2022-06-14T09:43:44.208Z"
   },
   {
    "duration": 172,
    "start_time": "2022-06-14T09:43:48.993Z"
   },
   {
    "duration": 155,
    "start_time": "2022-06-14T09:43:52.654Z"
   },
   {
    "duration": 152,
    "start_time": "2022-06-14T09:43:58.280Z"
   },
   {
    "duration": 3,
    "start_time": "2022-06-14T09:44:25.249Z"
   },
   {
    "duration": 170,
    "start_time": "2022-06-14T09:44:25.254Z"
   },
   {
    "duration": 58,
    "start_time": "2022-06-14T09:44:25.426Z"
   },
   {
    "duration": 23,
    "start_time": "2022-06-14T09:44:25.487Z"
   },
   {
    "duration": 8,
    "start_time": "2022-06-14T09:44:25.512Z"
   },
   {
    "duration": 20,
    "start_time": "2022-06-14T09:44:25.521Z"
   },
   {
    "duration": 47,
    "start_time": "2022-06-14T09:44:25.543Z"
   },
   {
    "duration": 7,
    "start_time": "2022-06-14T09:44:25.592Z"
   },
   {
    "duration": 9,
    "start_time": "2022-06-14T09:44:25.600Z"
   },
   {
    "duration": 10,
    "start_time": "2022-06-14T09:44:25.612Z"
   },
   {
    "duration": 15,
    "start_time": "2022-06-14T09:44:25.624Z"
   },
   {
    "duration": 53,
    "start_time": "2022-06-14T09:44:25.641Z"
   },
   {
    "duration": 5,
    "start_time": "2022-06-14T09:44:25.696Z"
   },
   {
    "duration": 7,
    "start_time": "2022-06-14T09:44:25.703Z"
   },
   {
    "duration": 13,
    "start_time": "2022-06-14T09:44:25.712Z"
   },
   {
    "duration": 38,
    "start_time": "2022-06-14T09:44:25.726Z"
   },
   {
    "duration": 34,
    "start_time": "2022-06-14T09:44:25.765Z"
   },
   {
    "duration": 7,
    "start_time": "2022-06-14T09:44:25.801Z"
   },
   {
    "duration": 8,
    "start_time": "2022-06-14T09:44:25.809Z"
   },
   {
    "duration": 7,
    "start_time": "2022-06-14T09:44:25.818Z"
   },
   {
    "duration": 54,
    "start_time": "2022-06-14T09:44:25.826Z"
   },
   {
    "duration": 12,
    "start_time": "2022-06-14T09:44:25.881Z"
   },
   {
    "duration": 9,
    "start_time": "2022-06-14T09:44:25.895Z"
   },
   {
    "duration": 6,
    "start_time": "2022-06-14T09:44:25.906Z"
   },
   {
    "duration": 7,
    "start_time": "2022-06-14T09:44:25.914Z"
   },
   {
    "duration": 28,
    "start_time": "2022-06-14T09:44:25.922Z"
   },
   {
    "duration": 42,
    "start_time": "2022-06-14T09:44:25.953Z"
   },
   {
    "duration": 4,
    "start_time": "2022-06-14T09:44:25.999Z"
   },
   {
    "duration": 542,
    "start_time": "2022-06-14T09:44:26.005Z"
   },
   {
    "duration": 10,
    "start_time": "2022-06-14T09:44:26.549Z"
   },
   {
    "duration": 59,
    "start_time": "2022-06-14T09:44:26.561Z"
   },
   {
    "duration": 78,
    "start_time": "2022-06-14T09:44:26.622Z"
   },
   {
    "duration": 38,
    "start_time": "2022-06-14T09:44:26.702Z"
   },
   {
    "duration": 435,
    "start_time": "2022-06-14T09:44:26.742Z"
   },
   {
    "duration": 410,
    "start_time": "2022-06-14T09:44:27.184Z"
   },
   {
    "duration": 200,
    "start_time": "2022-06-14T09:44:27.598Z"
   },
   {
    "duration": 221,
    "start_time": "2022-06-14T09:44:27.800Z"
   },
   {
    "duration": 14,
    "start_time": "2022-06-14T09:44:28.023Z"
   },
   {
    "duration": 315,
    "start_time": "2022-06-14T09:44:28.038Z"
   },
   {
    "duration": 2,
    "start_time": "2022-06-14T09:44:28.355Z"
   },
   {
    "duration": 137,
    "start_time": "2022-06-14T09:44:28.359Z"
   },
   {
    "duration": 402,
    "start_time": "2022-06-14T09:44:28.498Z"
   },
   {
    "duration": 9,
    "start_time": "2022-06-14T09:44:28.901Z"
   },
   {
    "duration": 9,
    "start_time": "2022-06-14T09:44:28.911Z"
   },
   {
    "duration": 17,
    "start_time": "2022-06-14T09:44:28.921Z"
   },
   {
    "duration": 895,
    "start_time": "2022-06-14T09:44:28.940Z"
   },
   {
    "duration": 35,
    "start_time": "2022-06-14T09:44:29.839Z"
   },
   {
    "duration": 166,
    "start_time": "2022-06-14T09:44:29.881Z"
   },
   {
    "duration": 7,
    "start_time": "2022-06-14T09:44:30.050Z"
   },
   {
    "duration": 53,
    "start_time": "2022-06-14T09:44:30.062Z"
   },
   {
    "duration": 238,
    "start_time": "2022-06-14T09:44:30.118Z"
   },
   {
    "duration": 173,
    "start_time": "2022-06-14T09:44:30.357Z"
   },
   {
    "duration": 32,
    "start_time": "2022-06-14T09:44:30.532Z"
   },
   {
    "duration": 229,
    "start_time": "2022-06-14T09:44:30.568Z"
   },
   {
    "duration": 4,
    "start_time": "2022-06-14T09:44:30.799Z"
   },
   {
    "duration": 251,
    "start_time": "2022-06-14T09:44:30.805Z"
   },
   {
    "duration": 8,
    "start_time": "2022-06-14T09:44:31.058Z"
   },
   {
    "duration": 235,
    "start_time": "2022-06-14T09:44:31.067Z"
   },
   {
    "duration": 207,
    "start_time": "2022-06-14T09:44:31.304Z"
   },
   {
    "duration": 189,
    "start_time": "2022-06-14T09:44:31.512Z"
   },
   {
    "duration": 209,
    "start_time": "2022-06-14T09:44:31.702Z"
   },
   {
    "duration": 43,
    "start_time": "2022-06-14T09:44:31.913Z"
   },
   {
    "duration": 52,
    "start_time": "2022-06-14T09:44:31.958Z"
   },
   {
    "duration": 80,
    "start_time": "2022-06-14T09:44:32.012Z"
   },
   {
    "duration": 8,
    "start_time": "2022-06-14T09:44:35.987Z"
   },
   {
    "duration": 466,
    "start_time": "2022-06-14T09:50:33.444Z"
   },
   {
    "duration": 500,
    "start_time": "2022-06-14T09:51:22.951Z"
   },
   {
    "duration": 161,
    "start_time": "2022-06-14T09:52:33.296Z"
   },
   {
    "duration": 461,
    "start_time": "2022-06-14T09:52:55.049Z"
   },
   {
    "duration": 228,
    "start_time": "2022-06-14T09:53:59.747Z"
   },
   {
    "duration": 261,
    "start_time": "2022-06-14T09:54:42.779Z"
   },
   {
    "duration": 192,
    "start_time": "2022-06-14T09:54:55.984Z"
   },
   {
    "duration": 3,
    "start_time": "2022-06-14T09:56:29.671Z"
   },
   {
    "duration": 295,
    "start_time": "2022-06-14T09:56:29.677Z"
   },
   {
    "duration": 32,
    "start_time": "2022-06-14T09:56:29.974Z"
   },
   {
    "duration": 33,
    "start_time": "2022-06-14T09:56:30.008Z"
   },
   {
    "duration": 31,
    "start_time": "2022-06-14T09:56:30.043Z"
   },
   {
    "duration": 32,
    "start_time": "2022-06-14T09:56:30.077Z"
   },
   {
    "duration": 38,
    "start_time": "2022-06-14T09:56:30.112Z"
   },
   {
    "duration": 43,
    "start_time": "2022-06-14T09:56:30.152Z"
   },
   {
    "duration": 55,
    "start_time": "2022-06-14T09:56:30.197Z"
   },
   {
    "duration": 20,
    "start_time": "2022-06-14T09:56:30.254Z"
   },
   {
    "duration": 14,
    "start_time": "2022-06-14T09:56:30.276Z"
   },
   {
    "duration": 11,
    "start_time": "2022-06-14T09:56:30.292Z"
   },
   {
    "duration": 25,
    "start_time": "2022-06-14T09:56:30.305Z"
   },
   {
    "duration": 36,
    "start_time": "2022-06-14T09:56:30.338Z"
   },
   {
    "duration": 27,
    "start_time": "2022-06-14T09:56:30.376Z"
   },
   {
    "duration": 17,
    "start_time": "2022-06-14T09:56:30.405Z"
   },
   {
    "duration": 51,
    "start_time": "2022-06-14T09:56:30.424Z"
   },
   {
    "duration": 43,
    "start_time": "2022-06-14T09:56:30.478Z"
   },
   {
    "duration": 47,
    "start_time": "2022-06-14T09:56:30.523Z"
   },
   {
    "duration": 27,
    "start_time": "2022-06-14T09:56:30.572Z"
   },
   {
    "duration": 26,
    "start_time": "2022-06-14T09:56:30.601Z"
   },
   {
    "duration": 14,
    "start_time": "2022-06-14T09:56:30.629Z"
   },
   {
    "duration": 39,
    "start_time": "2022-06-14T09:56:30.645Z"
   },
   {
    "duration": 26,
    "start_time": "2022-06-14T09:56:30.686Z"
   },
   {
    "duration": 50,
    "start_time": "2022-06-14T09:56:30.714Z"
   },
   {
    "duration": 19,
    "start_time": "2022-06-14T09:56:30.766Z"
   },
   {
    "duration": 9,
    "start_time": "2022-06-14T09:56:30.787Z"
   },
   {
    "duration": 9,
    "start_time": "2022-06-14T09:56:30.797Z"
   },
   {
    "duration": 508,
    "start_time": "2022-06-14T09:56:30.812Z"
   },
   {
    "duration": 5,
    "start_time": "2022-06-14T09:56:31.322Z"
   },
   {
    "duration": 39,
    "start_time": "2022-06-14T09:56:31.329Z"
   },
   {
    "duration": 42,
    "start_time": "2022-06-14T09:56:31.370Z"
   },
   {
    "duration": 41,
    "start_time": "2022-06-14T09:56:31.413Z"
   },
   {
    "duration": 421,
    "start_time": "2022-06-14T09:56:31.455Z"
   },
   {
    "duration": 383,
    "start_time": "2022-06-14T09:56:31.879Z"
   },
   {
    "duration": 207,
    "start_time": "2022-06-14T09:56:32.264Z"
   },
   {
    "duration": 208,
    "start_time": "2022-06-14T09:56:32.472Z"
   },
   {
    "duration": 13,
    "start_time": "2022-06-14T09:56:32.682Z"
   },
   {
    "duration": 218,
    "start_time": "2022-06-14T09:56:32.697Z"
   },
   {
    "duration": 16,
    "start_time": "2022-06-14T09:56:32.917Z"
   },
   {
    "duration": 96,
    "start_time": "2022-06-14T09:56:32.938Z"
   },
   {
    "duration": 371,
    "start_time": "2022-06-14T09:56:33.035Z"
   },
   {
    "duration": 12,
    "start_time": "2022-06-14T09:56:33.407Z"
   },
   {
    "duration": 11,
    "start_time": "2022-06-14T09:56:33.422Z"
   },
   {
    "duration": 30,
    "start_time": "2022-06-14T09:56:33.437Z"
   },
   {
    "duration": 641,
    "start_time": "2022-06-14T09:56:33.469Z"
   },
   {
    "duration": 43,
    "start_time": "2022-06-14T09:56:34.111Z"
   },
   {
    "duration": 219,
    "start_time": "2022-06-14T09:56:34.157Z"
   },
   {
    "duration": 7,
    "start_time": "2022-06-14T09:56:34.377Z"
   },
   {
    "duration": 26,
    "start_time": "2022-06-14T09:56:34.385Z"
   },
   {
    "duration": 254,
    "start_time": "2022-06-14T09:56:34.414Z"
   },
   {
    "duration": 316,
    "start_time": "2022-06-14T09:56:34.674Z"
   },
   {
    "duration": 25,
    "start_time": "2022-06-14T09:56:34.993Z"
   },
   {
    "duration": 148,
    "start_time": "2022-06-14T09:56:35.020Z"
   },
   {
    "duration": 7,
    "start_time": "2022-06-14T09:56:35.170Z"
   },
   {
    "duration": 232,
    "start_time": "2022-06-14T09:56:35.179Z"
   },
   {
    "duration": 6,
    "start_time": "2022-06-14T09:56:35.412Z"
   },
   {
    "duration": 184,
    "start_time": "2022-06-14T09:56:35.431Z"
   },
   {
    "duration": 172,
    "start_time": "2022-06-14T09:56:35.617Z"
   },
   {
    "duration": 213,
    "start_time": "2022-06-14T09:56:35.791Z"
   },
   {
    "duration": 209,
    "start_time": "2022-06-14T09:56:36.006Z"
   },
   {
    "duration": 29,
    "start_time": "2022-06-14T09:56:36.217Z"
   },
   {
    "duration": 45,
    "start_time": "2022-06-14T09:56:36.248Z"
   },
   {
    "duration": 87,
    "start_time": "2022-06-14T09:56:36.295Z"
   },
   {
    "duration": 34,
    "start_time": "2022-06-14T09:56:36.384Z"
   },
   {
    "duration": 295,
    "start_time": "2022-06-14T09:56:36.420Z"
   },
   {
    "duration": 14,
    "start_time": "2022-06-14T09:56:36.717Z"
   },
   {
    "duration": 50,
    "start_time": "2022-06-14T09:56:36.733Z"
   },
   {
    "duration": 21,
    "start_time": "2022-06-14T09:56:36.786Z"
   },
   {
    "duration": 30,
    "start_time": "2022-06-14T09:56:36.809Z"
   },
   {
    "duration": 47,
    "start_time": "2022-06-14T09:56:36.840Z"
   },
   {
    "duration": 201,
    "start_time": "2022-06-14T09:56:36.889Z"
   },
   {
    "duration": 11,
    "start_time": "2022-06-14T09:56:37.091Z"
   },
   {
    "duration": 47,
    "start_time": "2022-06-14T09:56:37.104Z"
   },
   {
    "duration": 364,
    "start_time": "2022-06-14T09:56:37.155Z"
   },
   {
    "duration": 412,
    "start_time": "2022-06-14T09:56:37.521Z"
   },
   {
    "duration": 189,
    "start_time": "2022-06-14T09:56:37.935Z"
   },
   {
    "duration": 236,
    "start_time": "2022-06-14T09:56:38.125Z"
   },
   {
    "duration": 169,
    "start_time": "2022-06-14T09:56:38.363Z"
   },
   {
    "duration": 7,
    "start_time": "2022-06-14T09:56:38.534Z"
   },
   {
    "duration": 227,
    "start_time": "2022-06-14T09:56:38.542Z"
   },
   {
    "duration": 173,
    "start_time": "2022-06-14T09:56:38.770Z"
   },
   {
    "duration": 6,
    "start_time": "2022-06-14T09:56:38.957Z"
   },
   {
    "duration": 161,
    "start_time": "2022-06-14T09:56:38.966Z"
   },
   {
    "duration": 150,
    "start_time": "2022-06-14T09:56:39.133Z"
   },
   {
    "duration": 190,
    "start_time": "2022-06-14T09:56:39.285Z"
   },
   {
    "duration": 409,
    "start_time": "2022-06-14T11:20:47.981Z"
   },
   {
    "duration": 381,
    "start_time": "2022-06-14T11:20:48.392Z"
   },
   {
    "duration": 35,
    "start_time": "2022-06-14T11:20:48.774Z"
   },
   {
    "duration": 35,
    "start_time": "2022-06-14T11:20:48.811Z"
   },
   {
    "duration": 47,
    "start_time": "2022-06-14T11:20:48.848Z"
   },
   {
    "duration": 43,
    "start_time": "2022-06-14T11:20:48.897Z"
   },
   {
    "duration": 36,
    "start_time": "2022-06-14T11:20:48.945Z"
   },
   {
    "duration": 23,
    "start_time": "2022-06-14T11:20:48.983Z"
   },
   {
    "duration": 12,
    "start_time": "2022-06-14T11:20:49.008Z"
   },
   {
    "duration": 63,
    "start_time": "2022-06-14T11:20:49.025Z"
   },
   {
    "duration": 19,
    "start_time": "2022-06-14T11:20:49.089Z"
   },
   {
    "duration": 13,
    "start_time": "2022-06-14T11:20:49.110Z"
   },
   {
    "duration": 59,
    "start_time": "2022-06-14T11:20:49.125Z"
   },
   {
    "duration": 23,
    "start_time": "2022-06-14T11:20:49.186Z"
   },
   {
    "duration": 75,
    "start_time": "2022-06-14T11:20:49.211Z"
   },
   {
    "duration": 33,
    "start_time": "2022-06-14T11:20:49.288Z"
   },
   {
    "duration": 14,
    "start_time": "2022-06-14T11:20:49.322Z"
   },
   {
    "duration": 44,
    "start_time": "2022-06-14T11:20:49.337Z"
   },
   {
    "duration": 19,
    "start_time": "2022-06-14T11:20:49.382Z"
   },
   {
    "duration": 18,
    "start_time": "2022-06-14T11:20:49.403Z"
   },
   {
    "duration": 64,
    "start_time": "2022-06-14T11:20:49.422Z"
   },
   {
    "duration": 20,
    "start_time": "2022-06-14T11:20:49.487Z"
   },
   {
    "duration": 69,
    "start_time": "2022-06-14T11:20:49.508Z"
   },
   {
    "duration": 23,
    "start_time": "2022-06-14T11:20:49.578Z"
   },
   {
    "duration": 19,
    "start_time": "2022-06-14T11:20:49.602Z"
   },
   {
    "duration": 29,
    "start_time": "2022-06-14T11:20:49.623Z"
   },
   {
    "duration": 27,
    "start_time": "2022-06-14T11:20:49.655Z"
   },
   {
    "duration": 24,
    "start_time": "2022-06-14T11:20:49.686Z"
   },
   {
    "duration": 401,
    "start_time": "2022-06-14T11:20:49.711Z"
   },
   {
    "duration": 4,
    "start_time": "2022-06-14T11:20:50.113Z"
   },
   {
    "duration": 66,
    "start_time": "2022-06-14T11:20:50.119Z"
   },
   {
    "duration": 52,
    "start_time": "2022-06-14T11:20:50.187Z"
   },
   {
    "duration": 64,
    "start_time": "2022-06-14T11:20:50.240Z"
   },
   {
    "duration": 577,
    "start_time": "2022-06-14T11:20:50.306Z"
   },
   {
    "duration": 426,
    "start_time": "2022-06-14T11:20:50.885Z"
   },
   {
    "duration": 184,
    "start_time": "2022-06-14T11:20:51.313Z"
   },
   {
    "duration": 220,
    "start_time": "2022-06-14T11:20:51.499Z"
   },
   {
    "duration": 25,
    "start_time": "2022-06-14T11:20:51.721Z"
   },
   {
    "duration": 271,
    "start_time": "2022-06-14T11:20:51.748Z"
   },
   {
    "duration": 7,
    "start_time": "2022-06-14T11:20:52.021Z"
   },
   {
    "duration": 152,
    "start_time": "2022-06-14T11:20:52.035Z"
   },
   {
    "duration": 323,
    "start_time": "2022-06-14T11:20:52.189Z"
   },
   {
    "duration": 25,
    "start_time": "2022-06-14T11:20:52.514Z"
   },
   {
    "duration": 46,
    "start_time": "2022-06-14T11:20:52.544Z"
   },
   {
    "duration": 10,
    "start_time": "2022-06-14T11:20:52.593Z"
   },
   {
    "duration": 724,
    "start_time": "2022-06-14T11:20:52.606Z"
   },
   {
    "duration": 34,
    "start_time": "2022-06-14T11:20:53.337Z"
   },
   {
    "duration": 228,
    "start_time": "2022-06-14T11:20:53.373Z"
   },
   {
    "duration": 7,
    "start_time": "2022-06-14T11:20:53.603Z"
   },
   {
    "duration": 35,
    "start_time": "2022-06-14T11:20:53.612Z"
   },
   {
    "duration": 204,
    "start_time": "2022-06-14T11:20:53.658Z"
   },
   {
    "duration": 140,
    "start_time": "2022-06-14T11:20:53.864Z"
   },
   {
    "duration": 33,
    "start_time": "2022-06-14T11:20:54.006Z"
   },
   {
    "duration": 138,
    "start_time": "2022-06-14T11:20:54.043Z"
   },
   {
    "duration": 6,
    "start_time": "2022-06-14T11:20:54.183Z"
   },
   {
    "duration": 209,
    "start_time": "2022-06-14T11:20:54.190Z"
   },
   {
    "duration": 5,
    "start_time": "2022-06-14T11:20:54.400Z"
   },
   {
    "duration": 173,
    "start_time": "2022-06-14T11:20:54.406Z"
   },
   {
    "duration": 182,
    "start_time": "2022-06-14T11:20:54.581Z"
   },
   {
    "duration": 178,
    "start_time": "2022-06-14T11:20:54.765Z"
   },
   {
    "duration": 163,
    "start_time": "2022-06-14T11:20:54.945Z"
   },
   {
    "duration": 30,
    "start_time": "2022-06-14T11:20:55.110Z"
   },
   {
    "duration": 15,
    "start_time": "2022-06-14T11:20:55.145Z"
   },
   {
    "duration": 8,
    "start_time": "2022-06-14T11:20:55.164Z"
   },
   {
    "duration": 12,
    "start_time": "2022-06-14T11:20:55.177Z"
   },
   {
    "duration": 195,
    "start_time": "2022-06-14T11:20:55.190Z"
   },
   {
    "duration": 7,
    "start_time": "2022-06-14T11:20:55.387Z"
   },
   {
    "duration": 11,
    "start_time": "2022-06-14T11:20:55.396Z"
   },
   {
    "duration": 14,
    "start_time": "2022-06-14T11:20:55.409Z"
   },
   {
    "duration": 62,
    "start_time": "2022-06-14T11:20:55.424Z"
   },
   {
    "duration": 9,
    "start_time": "2022-06-14T11:20:55.488Z"
   },
   {
    "duration": 180,
    "start_time": "2022-06-14T11:20:55.499Z"
   },
   {
    "duration": 8,
    "start_time": "2022-06-14T11:20:55.681Z"
   },
   {
    "duration": 25,
    "start_time": "2022-06-14T11:20:55.691Z"
   },
   {
    "duration": 463,
    "start_time": "2022-06-14T11:20:55.717Z"
   },
   {
    "duration": 362,
    "start_time": "2022-06-14T11:20:56.186Z"
   },
   {
    "duration": 223,
    "start_time": "2022-06-14T11:20:56.550Z"
   },
   {
    "duration": 218,
    "start_time": "2022-06-14T11:20:56.777Z"
   },
   {
    "duration": 162,
    "start_time": "2022-06-14T11:20:56.996Z"
   },
   {
    "duration": 9,
    "start_time": "2022-06-14T11:20:57.162Z"
   },
   {
    "duration": 177,
    "start_time": "2022-06-14T11:20:57.172Z"
   },
   {
    "duration": 176,
    "start_time": "2022-06-14T11:20:57.367Z"
   },
   {
    "duration": 8,
    "start_time": "2022-06-14T11:20:57.545Z"
   },
   {
    "duration": 177,
    "start_time": "2022-06-14T11:20:57.559Z"
   },
   {
    "duration": 181,
    "start_time": "2022-06-14T11:20:57.740Z"
   },
   {
    "duration": 159,
    "start_time": "2022-06-14T11:20:57.923Z"
   }
  ],
  "kernelspec": {
   "display_name": "Python 3 (ipykernel)",
   "language": "python",
   "name": "python3"
  },
  "language_info": {
   "codemirror_mode": {
    "name": "ipython",
    "version": 3
   },
   "file_extension": ".py",
   "mimetype": "text/x-python",
   "name": "python",
   "nbconvert_exporter": "python",
   "pygments_lexer": "ipython3",
   "version": "3.9.7"
  },
  "toc": {
   "base_numbering": 1,
   "nav_menu": {},
   "number_sections": true,
   "sideBar": true,
   "skip_h1_title": true,
   "title_cell": "Содержание",
   "title_sidebar": "Contents",
   "toc_cell": true,
   "toc_position": {
    "height": "calc(100% - 180px)",
    "left": "10px",
    "top": "150px",
    "width": "603px"
   },
   "toc_section_display": true,
   "toc_window_display": false
  }
 },
 "nbformat": 4,
 "nbformat_minor": 4
}
