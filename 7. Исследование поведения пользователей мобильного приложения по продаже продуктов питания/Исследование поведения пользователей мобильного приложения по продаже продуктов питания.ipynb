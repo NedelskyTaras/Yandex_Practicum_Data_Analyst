{
 "cells": [
  {
   "cell_type": "markdown",
   "metadata": {},
   "source": [
    "# Исследование поведения пользователей мобильного приложения по продаже продуктов питания\n",
    "\n",
    "## Описание проекта и постановка целей\n",
    "\n",
    "Мы работаем в стартапе, который продаёт продукты питания. Нужно разобраться, как ведут себя пользователи нашего мобильного приложения.\n",
    "\n",
    "**Основные цели исследования:**\n",
    "\n",
    "1. Исследовать воронку продаж, чтобы узнать, как пользователи доходят до покупки, а также определить, сколько застревает на предыдущих шагах и где именно.\n",
    "2. Исследовать результаты А/А/В-эксперимента. Дизайнеры захотели поменять шрифты во всём приложении, а менеджеры испугались, что пользователям будет непривычно. Договорились принять решение по результатам A/A/B-теста. Пользователей разбили на 3 группы: 2 контрольные со старыми шрифтами и одну экспериментальную — с новыми. Требуется выяснить, какой шрифт лучше.\n",
    "\n",
    "Создание двух групп A вместо одной имеет определённые преимущества. Если две контрольные группы окажутся равны, мы сможем быть уверены в точности проведенного тестирования. Если же между значениями A и A будут существенные различия, это поможет обнаружить факторы, которые привели к искажению результатов. Сравнение контрольных групп также поможет понять, сколько времени и данных потребуется для дальнейших тестов.\n",
    "\n",
    "Путь к файлу с логами: /datasets/logs_exp.csv\n",
    "\n",
    "**Ход исследования:**\n",
    "\n",
    "1. Предобработка данных\n",
    "2. Изучение и проверка данных\n",
    "3. Исследование воронки событий\n",
    "4. Исследование результатов эксперимента"
   ]
  },
  {
   "cell_type": "markdown",
   "metadata": {},
   "source": [
    "## Предобработка данных\n",
    "\n",
    "Сперва загрузим все необходимые библиотеки:"
   ]
  },
  {
   "cell_type": "code",
   "execution_count": 1,
   "metadata": {},
   "outputs": [],
   "source": [
    "import pandas as pd\n",
    "import numpy as np\n",
    "import matplotlib.pyplot as plt\n",
    "from scipy import stats\n",
    "import datetime as dt\n",
    "import math as mth\n",
    "from scipy import stats as st"
   ]
  },
  {
   "cell_type": "markdown",
   "metadata": {},
   "source": [
    "### Предварительный осмотр\n",
    "\n",
    "Теперь сохраним предоставленную таблицу в переменную и изучим ее:"
   ]
  },
  {
   "cell_type": "code",
   "execution_count": 2,
   "metadata": {},
   "outputs": [
    {
     "data": {
      "text/html": [
       "<div>\n",
       "<style scoped>\n",
       "    .dataframe tbody tr th:only-of-type {\n",
       "        vertical-align: middle;\n",
       "    }\n",
       "\n",
       "    .dataframe tbody tr th {\n",
       "        vertical-align: top;\n",
       "    }\n",
       "\n",
       "    .dataframe thead th {\n",
       "        text-align: right;\n",
       "    }\n",
       "</style>\n",
       "<table border=\"1\" class=\"dataframe\">\n",
       "  <thead>\n",
       "    <tr style=\"text-align: right;\">\n",
       "      <th></th>\n",
       "      <th>EventName</th>\n",
       "      <th>DeviceIDHash</th>\n",
       "      <th>EventTimestamp</th>\n",
       "      <th>ExpId</th>\n",
       "    </tr>\n",
       "  </thead>\n",
       "  <tbody>\n",
       "    <tr>\n",
       "      <th>0</th>\n",
       "      <td>MainScreenAppear</td>\n",
       "      <td>4575588528974610257</td>\n",
       "      <td>1564029816</td>\n",
       "      <td>246</td>\n",
       "    </tr>\n",
       "    <tr>\n",
       "      <th>1</th>\n",
       "      <td>MainScreenAppear</td>\n",
       "      <td>7416695313311560658</td>\n",
       "      <td>1564053102</td>\n",
       "      <td>246</td>\n",
       "    </tr>\n",
       "    <tr>\n",
       "      <th>2</th>\n",
       "      <td>PaymentScreenSuccessful</td>\n",
       "      <td>3518123091307005509</td>\n",
       "      <td>1564054127</td>\n",
       "      <td>248</td>\n",
       "    </tr>\n",
       "    <tr>\n",
       "      <th>3</th>\n",
       "      <td>CartScreenAppear</td>\n",
       "      <td>3518123091307005509</td>\n",
       "      <td>1564054127</td>\n",
       "      <td>248</td>\n",
       "    </tr>\n",
       "    <tr>\n",
       "      <th>4</th>\n",
       "      <td>PaymentScreenSuccessful</td>\n",
       "      <td>6217807653094995999</td>\n",
       "      <td>1564055322</td>\n",
       "      <td>248</td>\n",
       "    </tr>\n",
       "    <tr>\n",
       "      <th>5</th>\n",
       "      <td>CartScreenAppear</td>\n",
       "      <td>6217807653094995999</td>\n",
       "      <td>1564055323</td>\n",
       "      <td>248</td>\n",
       "    </tr>\n",
       "    <tr>\n",
       "      <th>6</th>\n",
       "      <td>OffersScreenAppear</td>\n",
       "      <td>8351860793733343758</td>\n",
       "      <td>1564066242</td>\n",
       "      <td>246</td>\n",
       "    </tr>\n",
       "    <tr>\n",
       "      <th>7</th>\n",
       "      <td>MainScreenAppear</td>\n",
       "      <td>5682100281902512875</td>\n",
       "      <td>1564085677</td>\n",
       "      <td>246</td>\n",
       "    </tr>\n",
       "    <tr>\n",
       "      <th>8</th>\n",
       "      <td>MainScreenAppear</td>\n",
       "      <td>1850981295691852772</td>\n",
       "      <td>1564086702</td>\n",
       "      <td>247</td>\n",
       "    </tr>\n",
       "    <tr>\n",
       "      <th>9</th>\n",
       "      <td>MainScreenAppear</td>\n",
       "      <td>5407636962369102641</td>\n",
       "      <td>1564112112</td>\n",
       "      <td>246</td>\n",
       "    </tr>\n",
       "  </tbody>\n",
       "</table>\n",
       "</div>"
      ],
      "text/plain": [
       "                 EventName         DeviceIDHash  EventTimestamp  ExpId\n",
       "0         MainScreenAppear  4575588528974610257      1564029816    246\n",
       "1         MainScreenAppear  7416695313311560658      1564053102    246\n",
       "2  PaymentScreenSuccessful  3518123091307005509      1564054127    248\n",
       "3         CartScreenAppear  3518123091307005509      1564054127    248\n",
       "4  PaymentScreenSuccessful  6217807653094995999      1564055322    248\n",
       "5         CartScreenAppear  6217807653094995999      1564055323    248\n",
       "6       OffersScreenAppear  8351860793733343758      1564066242    246\n",
       "7         MainScreenAppear  5682100281902512875      1564085677    246\n",
       "8         MainScreenAppear  1850981295691852772      1564086702    247\n",
       "9         MainScreenAppear  5407636962369102641      1564112112    246"
      ]
     },
     "execution_count": 2,
     "metadata": {},
     "output_type": "execute_result"
    }
   ],
   "source": [
    "df = df = pd.read_csv('logs_exp.csv', sep='\\t')\n",
    "\n",
    "df.head(10)"
   ]
  },
  {
   "cell_type": "code",
   "execution_count": 3,
   "metadata": {
    "scrolled": false
   },
   "outputs": [
    {
     "name": "stdout",
     "output_type": "stream",
     "text": [
      "<class 'pandas.core.frame.DataFrame'>\n",
      "RangeIndex: 244126 entries, 0 to 244125\n",
      "Data columns (total 4 columns):\n",
      " #   Column          Non-Null Count   Dtype \n",
      "---  ------          --------------   ----- \n",
      " 0   EventName       244126 non-null  object\n",
      " 1   DeviceIDHash    244126 non-null  int64 \n",
      " 2   EventTimestamp  244126 non-null  int64 \n",
      " 3   ExpId           244126 non-null  int64 \n",
      "dtypes: int64(3), object(1)\n",
      "memory usage: 7.5+ MB\n"
     ]
    }
   ],
   "source": [
    "df.info()"
   ]
  },
  {
   "cell_type": "markdown",
   "metadata": {},
   "source": [
    "Согласно документации:\n",
    "\n",
    "- EventName — название события;\n",
    "- DeviceIDHash — уникальный идентификатор пользователя;\n",
    "- EventTimestamp — время события;\n",
    "- ExpId — номер эксперимента: 246 и 247 — контрольные группы, а 248 — экспериментальная.\n",
    "\n",
    "Посмотрим присутствие неявных дубликатов в столбце EventName:"
   ]
  },
  {
   "cell_type": "code",
   "execution_count": 4,
   "metadata": {
    "scrolled": true
   },
   "outputs": [
    {
     "data": {
      "text/plain": [
       "MainScreenAppear           119205\n",
       "OffersScreenAppear          46825\n",
       "CartScreenAppear            42731\n",
       "PaymentScreenSuccessful     34313\n",
       "Tutorial                     1052\n",
       "Name: EventName, dtype: int64"
      ]
     },
     "execution_count": 4,
     "metadata": {},
     "output_type": "execute_result"
    }
   ],
   "source": [
    "df['EventName'].value_counts()"
   ]
  },
  {
   "cell_type": "markdown",
   "metadata": {},
   "source": [
    "**Вывод:**\n",
    "\n",
    "- На первый взгляд, пропусков нет. \n",
    "- Названия столбцов стоит исправить на более удобные.\n",
    "- Неявных дубликатов нет."
   ]
  },
  {
   "cell_type": "markdown",
   "metadata": {},
   "source": [
    "### Обработка данных\n",
    "\n",
    "Можно приступить к исправлениями. Поправим названия столбцов:"
   ]
  },
  {
   "cell_type": "code",
   "execution_count": 5,
   "metadata": {},
   "outputs": [
    {
     "data": {
      "text/plain": [
       "Index(['event_name', 'user_id', 'timestamp', 'group_name'], dtype='object')"
      ]
     },
     "execution_count": 5,
     "metadata": {},
     "output_type": "execute_result"
    }
   ],
   "source": [
    "df.columns=['event_name', 'user_id', 'timestamp', 'group_name']\n",
    "df.columns"
   ]
  },
  {
   "cell_type": "markdown",
   "metadata": {},
   "source": [
    "Добавим столбец date_time с датой и временем:"
   ]
  },
  {
   "cell_type": "code",
   "execution_count": 6,
   "metadata": {},
   "outputs": [],
   "source": [
    "df['date_time'] = pd.to_datetime(df['timestamp'], unit='s')"
   ]
  },
  {
   "cell_type": "markdown",
   "metadata": {},
   "source": [
    "Теперь добавим столбец с датой:"
   ]
  },
  {
   "cell_type": "code",
   "execution_count": 7,
   "metadata": {},
   "outputs": [
    {
     "data": {
      "text/html": [
       "<div>\n",
       "<style scoped>\n",
       "    .dataframe tbody tr th:only-of-type {\n",
       "        vertical-align: middle;\n",
       "    }\n",
       "\n",
       "    .dataframe tbody tr th {\n",
       "        vertical-align: top;\n",
       "    }\n",
       "\n",
       "    .dataframe thead th {\n",
       "        text-align: right;\n",
       "    }\n",
       "</style>\n",
       "<table border=\"1\" class=\"dataframe\">\n",
       "  <thead>\n",
       "    <tr style=\"text-align: right;\">\n",
       "      <th></th>\n",
       "      <th>event_name</th>\n",
       "      <th>user_id</th>\n",
       "      <th>timestamp</th>\n",
       "      <th>group_name</th>\n",
       "      <th>date_time</th>\n",
       "      <th>date</th>\n",
       "    </tr>\n",
       "  </thead>\n",
       "  <tbody>\n",
       "    <tr>\n",
       "      <th>0</th>\n",
       "      <td>MainScreenAppear</td>\n",
       "      <td>4575588528974610257</td>\n",
       "      <td>1564029816</td>\n",
       "      <td>246</td>\n",
       "      <td>2019-07-25 04:43:36</td>\n",
       "      <td>2019-07-25</td>\n",
       "    </tr>\n",
       "    <tr>\n",
       "      <th>1</th>\n",
       "      <td>MainScreenAppear</td>\n",
       "      <td>7416695313311560658</td>\n",
       "      <td>1564053102</td>\n",
       "      <td>246</td>\n",
       "      <td>2019-07-25 11:11:42</td>\n",
       "      <td>2019-07-25</td>\n",
       "    </tr>\n",
       "    <tr>\n",
       "      <th>2</th>\n",
       "      <td>PaymentScreenSuccessful</td>\n",
       "      <td>3518123091307005509</td>\n",
       "      <td>1564054127</td>\n",
       "      <td>248</td>\n",
       "      <td>2019-07-25 11:28:47</td>\n",
       "      <td>2019-07-25</td>\n",
       "    </tr>\n",
       "    <tr>\n",
       "      <th>3</th>\n",
       "      <td>CartScreenAppear</td>\n",
       "      <td>3518123091307005509</td>\n",
       "      <td>1564054127</td>\n",
       "      <td>248</td>\n",
       "      <td>2019-07-25 11:28:47</td>\n",
       "      <td>2019-07-25</td>\n",
       "    </tr>\n",
       "    <tr>\n",
       "      <th>4</th>\n",
       "      <td>PaymentScreenSuccessful</td>\n",
       "      <td>6217807653094995999</td>\n",
       "      <td>1564055322</td>\n",
       "      <td>248</td>\n",
       "      <td>2019-07-25 11:48:42</td>\n",
       "      <td>2019-07-25</td>\n",
       "    </tr>\n",
       "  </tbody>\n",
       "</table>\n",
       "</div>"
      ],
      "text/plain": [
       "                event_name              user_id   timestamp  group_name  \\\n",
       "0         MainScreenAppear  4575588528974610257  1564029816         246   \n",
       "1         MainScreenAppear  7416695313311560658  1564053102         246   \n",
       "2  PaymentScreenSuccessful  3518123091307005509  1564054127         248   \n",
       "3         CartScreenAppear  3518123091307005509  1564054127         248   \n",
       "4  PaymentScreenSuccessful  6217807653094995999  1564055322         248   \n",
       "\n",
       "            date_time        date  \n",
       "0 2019-07-25 04:43:36  2019-07-25  \n",
       "1 2019-07-25 11:11:42  2019-07-25  \n",
       "2 2019-07-25 11:28:47  2019-07-25  \n",
       "3 2019-07-25 11:28:47  2019-07-25  \n",
       "4 2019-07-25 11:48:42  2019-07-25  "
      ]
     },
     "execution_count": 7,
     "metadata": {},
     "output_type": "execute_result"
    }
   ],
   "source": [
    "df['date'] = df['date_time'].dt.date\n",
    "\n",
    "df.head()"
   ]
  },
  {
   "cell_type": "markdown",
   "metadata": {},
   "source": [
    "Также для удобства поменяем строки в столбцах event_name и group_id, чтобы они были удобнее для чтения и понимания.\n",
    "\n",
    "Проверим, какие строки есть в event_name:"
   ]
  },
  {
   "cell_type": "code",
   "execution_count": 8,
   "metadata": {},
   "outputs": [
    {
     "data": {
      "text/plain": [
       "MainScreenAppear           119205\n",
       "OffersScreenAppear          46825\n",
       "CartScreenAppear            42731\n",
       "PaymentScreenSuccessful     34313\n",
       "Tutorial                     1052\n",
       "Name: event_name, dtype: int64"
      ]
     },
     "execution_count": 8,
     "metadata": {},
     "output_type": "execute_result"
    }
   ],
   "source": [
    "df['event_name'].value_counts()"
   ]
  },
  {
   "cell_type": "markdown",
   "metadata": {},
   "source": [
    "С помощью функции заменим названия строк в столбце на новые:"
   ]
  },
  {
   "cell_type": "code",
   "execution_count": 9,
   "metadata": {},
   "outputs": [],
   "source": [
    "def change_event_name(name):\n",
    "    if name=='MainScreenAppear':\n",
    "        return 'Main_Screen_Appear'\n",
    "    elif name=='OffersScreenAppear':\n",
    "        return 'Offers_Screen_Appear'\n",
    "    elif name=='CartScreenAppear':\n",
    "        return 'Cart_Screen_Appear'\n",
    "    elif name=='PaymentScreenSuccessful':\n",
    "        return 'Payment_Screen_Successful'\n",
    "    else:\n",
    "        return 'Tutorial'"
   ]
  },
  {
   "cell_type": "markdown",
   "metadata": {},
   "source": [
    "Применим:"
   ]
  },
  {
   "cell_type": "code",
   "execution_count": 10,
   "metadata": {},
   "outputs": [
    {
     "data": {
      "text/plain": [
       "Main_Screen_Appear           119205\n",
       "Offers_Screen_Appear          46825\n",
       "Cart_Screen_Appear            42731\n",
       "Payment_Screen_Successful     34313\n",
       "Tutorial                       1052\n",
       "Name: event_name, dtype: int64"
      ]
     },
     "execution_count": 10,
     "metadata": {},
     "output_type": "execute_result"
    }
   ],
   "source": [
    "df['event_name'] = df['event_name'].apply(change_event_name)\n",
    "\n",
    "df['event_name'].value_counts()"
   ]
  },
  {
   "cell_type": "markdown",
   "metadata": {},
   "source": [
    "С помощью похожей функции изменим строки в столбце group_name.\n",
    "\n",
    "Проверим значения в столбце:"
   ]
  },
  {
   "cell_type": "code",
   "execution_count": 11,
   "metadata": {
    "scrolled": true
   },
   "outputs": [
    {
     "data": {
      "text/plain": [
       "248    85747\n",
       "246    80304\n",
       "247    78075\n",
       "Name: group_name, dtype: int64"
      ]
     },
     "execution_count": 11,
     "metadata": {},
     "output_type": "execute_result"
    }
   ],
   "source": [
    "df['group_name'].value_counts()"
   ]
  },
  {
   "cell_type": "markdown",
   "metadata": {},
   "source": [
    "Напишем функцию:"
   ]
  },
  {
   "cell_type": "code",
   "execution_count": 12,
   "metadata": {},
   "outputs": [],
   "source": [
    "def change_group_name(group):\n",
    "    if group==246:\n",
    "        return 'A1'\n",
    "    elif group==247:\n",
    "        return 'A2'\n",
    "    elif group==248:\n",
    "        return 'B'\n",
    "    else:\n",
    "        return 'Unknown_Group'"
   ]
  },
  {
   "cell_type": "markdown",
   "metadata": {},
   "source": [
    "Применим ее и проверим итог:"
   ]
  },
  {
   "cell_type": "code",
   "execution_count": 13,
   "metadata": {},
   "outputs": [
    {
     "data": {
      "text/plain": [
       "B     85747\n",
       "A1    80304\n",
       "A2    78075\n",
       "Name: group_name, dtype: int64"
      ]
     },
     "execution_count": 13,
     "metadata": {},
     "output_type": "execute_result"
    }
   ],
   "source": [
    "df['group_name'] = df['group_name'].apply(change_group_name)\n",
    "\n",
    "df['group_name'].value_counts()"
   ]
  },
  {
   "cell_type": "markdown",
   "metadata": {},
   "source": [
    "Проверим типы данных в получившейся таблице:"
   ]
  },
  {
   "cell_type": "code",
   "execution_count": 14,
   "metadata": {},
   "outputs": [
    {
     "name": "stdout",
     "output_type": "stream",
     "text": [
      "<class 'pandas.core.frame.DataFrame'>\n",
      "RangeIndex: 244126 entries, 0 to 244125\n",
      "Data columns (total 6 columns):\n",
      " #   Column      Non-Null Count   Dtype         \n",
      "---  ------      --------------   -----         \n",
      " 0   event_name  244126 non-null  object        \n",
      " 1   user_id     244126 non-null  int64         \n",
      " 2   timestamp   244126 non-null  int64         \n",
      " 3   group_name  244126 non-null  object        \n",
      " 4   date_time   244126 non-null  datetime64[ns]\n",
      " 5   date        244126 non-null  object        \n",
      "dtypes: datetime64[ns](1), int64(2), object(3)\n",
      "memory usage: 11.2+ MB\n"
     ]
    }
   ],
   "source": [
    "df.info()"
   ]
  },
  {
   "cell_type": "markdown",
   "metadata": {},
   "source": [
    "В столбце date нужно поменять тип данных на datetime64:"
   ]
  },
  {
   "cell_type": "code",
   "execution_count": 15,
   "metadata": {},
   "outputs": [],
   "source": [
    "df['date'] = df['date'].astype('datetime64')"
   ]
  },
  {
   "cell_type": "markdown",
   "metadata": {},
   "source": [
    "Теперь проверим таблицу на дубликаты:"
   ]
  },
  {
   "cell_type": "code",
   "execution_count": 16,
   "metadata": {},
   "outputs": [
    {
     "data": {
      "text/plain": [
       "413"
      ]
     },
     "execution_count": 16,
     "metadata": {},
     "output_type": "execute_result"
    }
   ],
   "source": [
    "df.duplicated().sum()"
   ]
  },
  {
   "cell_type": "markdown",
   "metadata": {},
   "source": [
    "Удалим их:"
   ]
  },
  {
   "cell_type": "code",
   "execution_count": 17,
   "metadata": {},
   "outputs": [],
   "source": [
    "df = df.drop_duplicates().reset_index(drop=True)"
   ]
  },
  {
   "cell_type": "markdown",
   "metadata": {},
   "source": [
    "Выведем таблицу после всех исправлений:"
   ]
  },
  {
   "cell_type": "code",
   "execution_count": 18,
   "metadata": {},
   "outputs": [
    {
     "data": {
      "text/html": [
       "<div>\n",
       "<style scoped>\n",
       "    .dataframe tbody tr th:only-of-type {\n",
       "        vertical-align: middle;\n",
       "    }\n",
       "\n",
       "    .dataframe tbody tr th {\n",
       "        vertical-align: top;\n",
       "    }\n",
       "\n",
       "    .dataframe thead th {\n",
       "        text-align: right;\n",
       "    }\n",
       "</style>\n",
       "<table border=\"1\" class=\"dataframe\">\n",
       "  <thead>\n",
       "    <tr style=\"text-align: right;\">\n",
       "      <th></th>\n",
       "      <th>event_name</th>\n",
       "      <th>user_id</th>\n",
       "      <th>timestamp</th>\n",
       "      <th>group_name</th>\n",
       "      <th>date_time</th>\n",
       "      <th>date</th>\n",
       "    </tr>\n",
       "  </thead>\n",
       "  <tbody>\n",
       "    <tr>\n",
       "      <th>0</th>\n",
       "      <td>Main_Screen_Appear</td>\n",
       "      <td>4575588528974610257</td>\n",
       "      <td>1564029816</td>\n",
       "      <td>A1</td>\n",
       "      <td>2019-07-25 04:43:36</td>\n",
       "      <td>2019-07-25</td>\n",
       "    </tr>\n",
       "    <tr>\n",
       "      <th>1</th>\n",
       "      <td>Main_Screen_Appear</td>\n",
       "      <td>7416695313311560658</td>\n",
       "      <td>1564053102</td>\n",
       "      <td>A1</td>\n",
       "      <td>2019-07-25 11:11:42</td>\n",
       "      <td>2019-07-25</td>\n",
       "    </tr>\n",
       "    <tr>\n",
       "      <th>2</th>\n",
       "      <td>Payment_Screen_Successful</td>\n",
       "      <td>3518123091307005509</td>\n",
       "      <td>1564054127</td>\n",
       "      <td>B</td>\n",
       "      <td>2019-07-25 11:28:47</td>\n",
       "      <td>2019-07-25</td>\n",
       "    </tr>\n",
       "    <tr>\n",
       "      <th>3</th>\n",
       "      <td>Cart_Screen_Appear</td>\n",
       "      <td>3518123091307005509</td>\n",
       "      <td>1564054127</td>\n",
       "      <td>B</td>\n",
       "      <td>2019-07-25 11:28:47</td>\n",
       "      <td>2019-07-25</td>\n",
       "    </tr>\n",
       "    <tr>\n",
       "      <th>4</th>\n",
       "      <td>Payment_Screen_Successful</td>\n",
       "      <td>6217807653094995999</td>\n",
       "      <td>1564055322</td>\n",
       "      <td>B</td>\n",
       "      <td>2019-07-25 11:48:42</td>\n",
       "      <td>2019-07-25</td>\n",
       "    </tr>\n",
       "    <tr>\n",
       "      <th>5</th>\n",
       "      <td>Cart_Screen_Appear</td>\n",
       "      <td>6217807653094995999</td>\n",
       "      <td>1564055323</td>\n",
       "      <td>B</td>\n",
       "      <td>2019-07-25 11:48:43</td>\n",
       "      <td>2019-07-25</td>\n",
       "    </tr>\n",
       "    <tr>\n",
       "      <th>6</th>\n",
       "      <td>Offers_Screen_Appear</td>\n",
       "      <td>8351860793733343758</td>\n",
       "      <td>1564066242</td>\n",
       "      <td>A1</td>\n",
       "      <td>2019-07-25 14:50:42</td>\n",
       "      <td>2019-07-25</td>\n",
       "    </tr>\n",
       "    <tr>\n",
       "      <th>7</th>\n",
       "      <td>Main_Screen_Appear</td>\n",
       "      <td>5682100281902512875</td>\n",
       "      <td>1564085677</td>\n",
       "      <td>A1</td>\n",
       "      <td>2019-07-25 20:14:37</td>\n",
       "      <td>2019-07-25</td>\n",
       "    </tr>\n",
       "    <tr>\n",
       "      <th>8</th>\n",
       "      <td>Main_Screen_Appear</td>\n",
       "      <td>1850981295691852772</td>\n",
       "      <td>1564086702</td>\n",
       "      <td>A2</td>\n",
       "      <td>2019-07-25 20:31:42</td>\n",
       "      <td>2019-07-25</td>\n",
       "    </tr>\n",
       "    <tr>\n",
       "      <th>9</th>\n",
       "      <td>Main_Screen_Appear</td>\n",
       "      <td>5407636962369102641</td>\n",
       "      <td>1564112112</td>\n",
       "      <td>A1</td>\n",
       "      <td>2019-07-26 03:35:12</td>\n",
       "      <td>2019-07-26</td>\n",
       "    </tr>\n",
       "  </tbody>\n",
       "</table>\n",
       "</div>"
      ],
      "text/plain": [
       "                  event_name              user_id   timestamp group_name  \\\n",
       "0         Main_Screen_Appear  4575588528974610257  1564029816         A1   \n",
       "1         Main_Screen_Appear  7416695313311560658  1564053102         A1   \n",
       "2  Payment_Screen_Successful  3518123091307005509  1564054127          B   \n",
       "3         Cart_Screen_Appear  3518123091307005509  1564054127          B   \n",
       "4  Payment_Screen_Successful  6217807653094995999  1564055322          B   \n",
       "5         Cart_Screen_Appear  6217807653094995999  1564055323          B   \n",
       "6       Offers_Screen_Appear  8351860793733343758  1564066242         A1   \n",
       "7         Main_Screen_Appear  5682100281902512875  1564085677         A1   \n",
       "8         Main_Screen_Appear  1850981295691852772  1564086702         A2   \n",
       "9         Main_Screen_Appear  5407636962369102641  1564112112         A1   \n",
       "\n",
       "            date_time       date  \n",
       "0 2019-07-25 04:43:36 2019-07-25  \n",
       "1 2019-07-25 11:11:42 2019-07-25  \n",
       "2 2019-07-25 11:28:47 2019-07-25  \n",
       "3 2019-07-25 11:28:47 2019-07-25  \n",
       "4 2019-07-25 11:48:42 2019-07-25  \n",
       "5 2019-07-25 11:48:43 2019-07-25  \n",
       "6 2019-07-25 14:50:42 2019-07-25  \n",
       "7 2019-07-25 20:14:37 2019-07-25  \n",
       "8 2019-07-25 20:31:42 2019-07-25  \n",
       "9 2019-07-26 03:35:12 2019-07-26  "
      ]
     },
     "execution_count": 18,
     "metadata": {},
     "output_type": "execute_result"
    }
   ],
   "source": [
    "df.head(10)"
   ]
  },
  {
   "cell_type": "code",
   "execution_count": 19,
   "metadata": {
    "scrolled": true
   },
   "outputs": [
    {
     "name": "stdout",
     "output_type": "stream",
     "text": [
      "<class 'pandas.core.frame.DataFrame'>\n",
      "RangeIndex: 243713 entries, 0 to 243712\n",
      "Data columns (total 6 columns):\n",
      " #   Column      Non-Null Count   Dtype         \n",
      "---  ------      --------------   -----         \n",
      " 0   event_name  243713 non-null  object        \n",
      " 1   user_id     243713 non-null  int64         \n",
      " 2   timestamp   243713 non-null  int64         \n",
      " 3   group_name  243713 non-null  object        \n",
      " 4   date_time   243713 non-null  datetime64[ns]\n",
      " 5   date        243713 non-null  datetime64[ns]\n",
      "dtypes: datetime64[ns](2), int64(2), object(2)\n",
      "memory usage: 11.2+ MB\n"
     ]
    }
   ],
   "source": [
    "df.info()"
   ]
  },
  {
   "cell_type": "markdown",
   "metadata": {},
   "source": [
    "Теперь осталось только проверить наличие пересечений пользователей между группами. \n",
    "\n",
    "Для этого мы можем посчитать количество уникальных пользователей во всем датафрейме, и затем в каждой группе отдельно. Если сумма значений трех групп окажется равной общему числу пользователей, то это будет означать, что ни один пользователь не находится в двух и более группах сразу."
   ]
  },
  {
   "cell_type": "code",
   "execution_count": 20,
   "metadata": {},
   "outputs": [
    {
     "name": "stdout",
     "output_type": "stream",
     "text": [
      "В группе A1 уникальных пользователей: 2489\n",
      "В группе B уникальных пользователей: 2542\n",
      "В группе A2 уникальных пользователей: 2520\n",
      "При сложении трех групп число уникальных пользователей равно: 7551\n",
      "Всего уникальных пользоваталей в датафрейме: 7551\n"
     ]
    }
   ],
   "source": [
    "sum = 0\n",
    "for i in df['group_name'].unique():\n",
    "    user_group = df[df['group_name']==i]['user_id'].nunique()\n",
    "    sum = sum + user_group\n",
    "    print('В группе', i,'уникальных пользователей:', user_group)\n",
    "\n",
    "print('При сложении трех групп число уникальных пользователей равно:', sum)\n",
    "print('Всего уникальных пользоваталей в датафрейме:', df['user_id'].nunique())"
   ]
  },
  {
   "cell_type": "markdown",
   "metadata": {},
   "source": [
    "Как мы видим, цифры совпали. Мы можем считать, что пересечений по пользователям между группами в таблице нет."
   ]
  },
  {
   "cell_type": "markdown",
   "metadata": {},
   "source": [
    "**Вывод:**\n",
    "\n",
    "В процессе обработки мы внесли следующие исправления:\n",
    "- Названия столбцов заменили на более удобные.\n",
    "- Добавили столбцы с датой и датой/временем.\n",
    "- Привели типы данных в столбцах к соответствующим.\n",
    "- Заменили строки в столбцах event_name и group_name на более наглядные.\n",
    "- Удалили 413 дубликатов.\n",
    "\n",
    "Мы также проверили таблицу на присутствие пересечений пользователей между группами, и постановили их отсутствие. \n",
    "\n",
    "Таблица готова для дальнейшей работы."
   ]
  },
  {
   "cell_type": "markdown",
   "metadata": {},
   "source": [
    "## Изучение и проверка данных\n",
    "\n",
    "### Подсчет кол-ва событий\n",
    "\n",
    "Ответим на вопрос: \"Сколько всего событий в логе?\""
   ]
  },
  {
   "cell_type": "code",
   "execution_count": 21,
   "metadata": {},
   "outputs": [
    {
     "name": "stdout",
     "output_type": "stream",
     "text": [
      "Событий в логе: 243713\n"
     ]
    }
   ],
   "source": [
    "event_count = df['event_name'].count()\n",
    "print('Событий в логе:', event_count)"
   ]
  },
  {
   "cell_type": "markdown",
   "metadata": {},
   "source": [
    "**Вывод:**\n",
    "\n",
    "Всего событий в логе: 243713"
   ]
  },
  {
   "cell_type": "markdown",
   "metadata": {},
   "source": [
    "### Подсчет кол-ва пользователей\n",
    "\n",
    "Ответим на вопрос: \"Сколько всего пользователей в логе?\""
   ]
  },
  {
   "cell_type": "code",
   "execution_count": 22,
   "metadata": {
    "scrolled": true
   },
   "outputs": [
    {
     "name": "stdout",
     "output_type": "stream",
     "text": [
      "Уникальных пользователей в логе: 7551\n",
      " \n",
      "Уникальных пользователей в логе по группам:\n"
     ]
    },
    {
     "data": {
      "text/plain": [
       "group_name\n",
       "A1    2489\n",
       "A2    2520\n",
       "B     2542\n",
       "Name: user_id, dtype: int64"
      ]
     },
     "execution_count": 22,
     "metadata": {},
     "output_type": "execute_result"
    }
   ],
   "source": [
    "user_count = df['user_id'].nunique()\n",
    "\n",
    "print('Уникальных пользователей в логе:', user_count)\n",
    "print(' ')\n",
    "print('Уникальных пользователей в логе по группам:')\n",
    "\n",
    "df.groupby('group_name')['user_id'].nunique()"
   ]
  },
  {
   "cell_type": "markdown",
   "metadata": {},
   "source": [
    "**Вывод:**\n",
    "\n",
    "- Уникальных пользователей в логе: 7551\n",
    "- Уникальных пользователей в группе А1: 2489\n",
    "- Уникальных пользователей в группе А2: 2520\n",
    "- Уникальных пользователей в группе B: 2542"
   ]
  },
  {
   "cell_type": "markdown",
   "metadata": {},
   "source": [
    "### Подсчет среднего кол-ва событий на пользователя\n",
    "\n",
    "Ответим на вопрос: \"Сколько в среднем событий приходится на пользователя?\"\n",
    "\n",
    "Для начала проверим распределение количества событий на одного пользователя:"
   ]
  },
  {
   "cell_type": "code",
   "execution_count": 23,
   "metadata": {},
   "outputs": [
    {
     "data": {
      "text/plain": [
       "count    7551.000000\n",
       "mean       32.275593\n",
       "std        65.154219\n",
       "min         1.000000\n",
       "25%         9.000000\n",
       "50%        20.000000\n",
       "75%        37.000000\n",
       "max      2307.000000\n",
       "Name: event_name, dtype: float64"
      ]
     },
     "execution_count": 23,
     "metadata": {},
     "output_type": "execute_result"
    }
   ],
   "source": [
    "event_per_user = df.groupby('user_id')['event_name'].count()\n",
    "event_per_user.describe()"
   ]
  },
  {
   "cell_type": "markdown",
   "metadata": {},
   "source": [
    "Мы видим, что в среднем на одного пользователя приходится по 32 события.\n",
    "\n",
    "Составим гистограмму, чтобы определить наличие выбросов:"
   ]
  },
  {
   "cell_type": "code",
   "execution_count": 24,
   "metadata": {
    "scrolled": true
   },
   "outputs": [
    {
     "data": {
      "image/png": "[encoded data removed]",
      "text/plain": [
       "<Figure size 1080x360 with 1 Axes>"
      ]
     },
     "metadata": {
      "needs_background": "light"
     },
     "output_type": "display_data"
    }
   ],
   "source": [
    "plt.figure(figsize=(15,5))\n",
    "plt.hist(event_per_user, bins=100, range=(200,2310)) \n",
    "plt.xlabel('Кол-во пользователей')\n",
    "plt.grid()\n",
    "plt.ylabel('Кол-во событий')\n",
    "plt.title('Кол-во событий на пользователя')\n",
    "plt.show()"
   ]
  },
  {
   "cell_type": "markdown",
   "metadata": {},
   "source": [
    "Мы наблюдаем довольно большое количество выбросов. Это следует учитывать, и для более точного определения среднего числа пользователей использовать медиану, тоесть по 20 событий на пользователя."
   ]
  },
  {
   "cell_type": "markdown",
   "metadata": {},
   "source": [
    "**Вывод:**\n",
    "- По среднему значению на одного пользователя приходится по 32 события.\n",
    "- По медианному значению на одного пользователя приходится по 20 событий.\n",
    "- Из-за большого числа выбросов, лучше использовать медианное значение."
   ]
  },
  {
   "cell_type": "markdown",
   "metadata": {},
   "source": [
    "### Распределение данных во времени\n",
    "\n",
    "Требуется определить, за какой временной период мы располагаем данными. \n",
    "\n",
    "Для этого найдем максимальную и минимальную дату, а потом построим гистограмму по дате и времени."
   ]
  },
  {
   "cell_type": "code",
   "execution_count": 25,
   "metadata": {},
   "outputs": [
    {
     "name": "stdout",
     "output_type": "stream",
     "text": [
      "Период за который рассматриваем данные: 2019-07-25 04:43:36 - 2019-08-07 21:15:17\n"
     ]
    }
   ],
   "source": [
    "print('Период за который рассматриваем данные:', df['date_time'].min(),'-',df['date_time'].max())"
   ]
  },
  {
   "cell_type": "markdown",
   "metadata": {},
   "source": [
    "Временной период чуть меньше двух недель. \n",
    "\n",
    "Составим по гистограмму по столбцу даты и времени:"
   ]
  },
  {
   "cell_type": "code",
   "execution_count": 26,
   "metadata": {},
   "outputs": [
    {
     "data": {
      "image/png": "[encoded data removed]",
      "text/plain": [
       "<Figure size 1080x360 with 1 Axes>"
      ]
     },
     "metadata": {
      "needs_background": "light"
     },
     "output_type": "display_data"
    }
   ],
   "source": [
    "plt.figure(figsize=(15,5))\n",
    "plt.hist(df['date_time'], bins=24*7) \n",
    "plt.xlabel('Дата и время')\n",
    "plt.grid()\n",
    "plt.ylabel('Кол-во событий')\n",
    "plt.title('Распределение событий во времени')\n",
    "plt.show()"
   ]
  },
  {
   "cell_type": "markdown",
   "metadata": {},
   "source": [
    "Судя по графику, мы видим, что у нас есть данные только по первой неделе августа. В данном случае корректнее всего будет отсечь все данные за июль, чтобы они не мешались позже."
   ]
  },
  {
   "cell_type": "code",
   "execution_count": 27,
   "metadata": {},
   "outputs": [],
   "source": [
    "df_clean = df.loc[df['date'] > '2019-07-31'].reset_index(drop=True)"
   ]
  },
  {
   "cell_type": "markdown",
   "metadata": {},
   "source": [
    "Осмотрим новый \"чистый\" датафрейм:"
   ]
  },
  {
   "cell_type": "code",
   "execution_count": 28,
   "metadata": {
    "scrolled": true
   },
   "outputs": [
    {
     "data": {
      "text/html": [
       "<div>\n",
       "<style scoped>\n",
       "    .dataframe tbody tr th:only-of-type {\n",
       "        vertical-align: middle;\n",
       "    }\n",
       "\n",
       "    .dataframe tbody tr th {\n",
       "        vertical-align: top;\n",
       "    }\n",
       "\n",
       "    .dataframe thead th {\n",
       "        text-align: right;\n",
       "    }\n",
       "</style>\n",
       "<table border=\"1\" class=\"dataframe\">\n",
       "  <thead>\n",
       "    <tr style=\"text-align: right;\">\n",
       "      <th></th>\n",
       "      <th>event_name</th>\n",
       "      <th>user_id</th>\n",
       "      <th>timestamp</th>\n",
       "      <th>group_name</th>\n",
       "      <th>date_time</th>\n",
       "      <th>date</th>\n",
       "    </tr>\n",
       "  </thead>\n",
       "  <tbody>\n",
       "    <tr>\n",
       "      <th>0</th>\n",
       "      <td>Tutorial</td>\n",
       "      <td>3737462046622621720</td>\n",
       "      <td>1564618048</td>\n",
       "      <td>A1</td>\n",
       "      <td>2019-08-01 00:07:28</td>\n",
       "      <td>2019-08-01</td>\n",
       "    </tr>\n",
       "    <tr>\n",
       "      <th>1</th>\n",
       "      <td>Main_Screen_Appear</td>\n",
       "      <td>3737462046622621720</td>\n",
       "      <td>1564618080</td>\n",
       "      <td>A1</td>\n",
       "      <td>2019-08-01 00:08:00</td>\n",
       "      <td>2019-08-01</td>\n",
       "    </tr>\n",
       "    <tr>\n",
       "      <th>2</th>\n",
       "      <td>Main_Screen_Appear</td>\n",
       "      <td>3737462046622621720</td>\n",
       "      <td>1564618135</td>\n",
       "      <td>A1</td>\n",
       "      <td>2019-08-01 00:08:55</td>\n",
       "      <td>2019-08-01</td>\n",
       "    </tr>\n",
       "    <tr>\n",
       "      <th>3</th>\n",
       "      <td>Offers_Screen_Appear</td>\n",
       "      <td>3737462046622621720</td>\n",
       "      <td>1564618138</td>\n",
       "      <td>A1</td>\n",
       "      <td>2019-08-01 00:08:58</td>\n",
       "      <td>2019-08-01</td>\n",
       "    </tr>\n",
       "    <tr>\n",
       "      <th>4</th>\n",
       "      <td>Main_Screen_Appear</td>\n",
       "      <td>1433840883824088890</td>\n",
       "      <td>1564618139</td>\n",
       "      <td>A2</td>\n",
       "      <td>2019-08-01 00:08:59</td>\n",
       "      <td>2019-08-01</td>\n",
       "    </tr>\n",
       "    <tr>\n",
       "      <th>5</th>\n",
       "      <td>Main_Screen_Appear</td>\n",
       "      <td>4899590676214355127</td>\n",
       "      <td>1564618215</td>\n",
       "      <td>A2</td>\n",
       "      <td>2019-08-01 00:10:15</td>\n",
       "      <td>2019-08-01</td>\n",
       "    </tr>\n",
       "    <tr>\n",
       "      <th>6</th>\n",
       "      <td>Offers_Screen_Appear</td>\n",
       "      <td>3737462046622621720</td>\n",
       "      <td>1564618226</td>\n",
       "      <td>A1</td>\n",
       "      <td>2019-08-01 00:10:26</td>\n",
       "      <td>2019-08-01</td>\n",
       "    </tr>\n",
       "    <tr>\n",
       "      <th>7</th>\n",
       "      <td>Main_Screen_Appear</td>\n",
       "      <td>3737462046622621720</td>\n",
       "      <td>1564618247</td>\n",
       "      <td>A1</td>\n",
       "      <td>2019-08-01 00:10:47</td>\n",
       "      <td>2019-08-01</td>\n",
       "    </tr>\n",
       "    <tr>\n",
       "      <th>8</th>\n",
       "      <td>Main_Screen_Appear</td>\n",
       "      <td>3737462046622621720</td>\n",
       "      <td>1564618270</td>\n",
       "      <td>A1</td>\n",
       "      <td>2019-08-01 00:11:10</td>\n",
       "      <td>2019-08-01</td>\n",
       "    </tr>\n",
       "    <tr>\n",
       "      <th>9</th>\n",
       "      <td>Main_Screen_Appear</td>\n",
       "      <td>3737462046622621720</td>\n",
       "      <td>1564618280</td>\n",
       "      <td>A1</td>\n",
       "      <td>2019-08-01 00:11:20</td>\n",
       "      <td>2019-08-01</td>\n",
       "    </tr>\n",
       "  </tbody>\n",
       "</table>\n",
       "</div>"
      ],
      "text/plain": [
       "             event_name              user_id   timestamp group_name  \\\n",
       "0              Tutorial  3737462046622621720  1564618048         A1   \n",
       "1    Main_Screen_Appear  3737462046622621720  1564618080         A1   \n",
       "2    Main_Screen_Appear  3737462046622621720  1564618135         A1   \n",
       "3  Offers_Screen_Appear  3737462046622621720  1564618138         A1   \n",
       "4    Main_Screen_Appear  1433840883824088890  1564618139         A2   \n",
       "5    Main_Screen_Appear  4899590676214355127  1564618215         A2   \n",
       "6  Offers_Screen_Appear  3737462046622621720  1564618226         A1   \n",
       "7    Main_Screen_Appear  3737462046622621720  1564618247         A1   \n",
       "8    Main_Screen_Appear  3737462046622621720  1564618270         A1   \n",
       "9    Main_Screen_Appear  3737462046622621720  1564618280         A1   \n",
       "\n",
       "            date_time       date  \n",
       "0 2019-08-01 00:07:28 2019-08-01  \n",
       "1 2019-08-01 00:08:00 2019-08-01  \n",
       "2 2019-08-01 00:08:55 2019-08-01  \n",
       "3 2019-08-01 00:08:58 2019-08-01  \n",
       "4 2019-08-01 00:08:59 2019-08-01  \n",
       "5 2019-08-01 00:10:15 2019-08-01  \n",
       "6 2019-08-01 00:10:26 2019-08-01  \n",
       "7 2019-08-01 00:10:47 2019-08-01  \n",
       "8 2019-08-01 00:11:10 2019-08-01  \n",
       "9 2019-08-01 00:11:20 2019-08-01  "
      ]
     },
     "execution_count": 28,
     "metadata": {},
     "output_type": "execute_result"
    }
   ],
   "source": [
    "df_clean.sort_values(by='date_time').head(10)"
   ]
  },
  {
   "cell_type": "markdown",
   "metadata": {},
   "source": [
    "**Выводы:**\n",
    "\n",
    "- Мы располагаем данными за период с 2019-07-25 по 2019-08-07 числа включительно.\n",
    "- По гистограмме распределения данных во времени, мы постановили, что основная масса данных приходится на период с 2019-08-01 по 2019-08-07 числа включительно.\n",
    "- Мы отсекли данные за июль, чтобы они не искажали результаты дальнейшего анализа."
   ]
  },
  {
   "cell_type": "markdown",
   "metadata": {},
   "source": [
    "### Кол-во отрезанных данных\n",
    "\n",
    "Требуется посчитать, сколько данных мы потеряли в результате очистки.\n",
    "\n",
    "Посчитаем потери в кол-ве пользователей:"
   ]
  },
  {
   "cell_type": "code",
   "execution_count": 29,
   "metadata": {},
   "outputs": [
    {
     "name": "stdout",
     "output_type": "stream",
     "text": [
      "Было пользователей: 7551\n",
      "Стало пользователей: 7534\n",
      "Кол-во потерянных пользователей: 17\n",
      "Кол-во потерянных пользователей в процентах: 0.23 %\n"
     ]
    }
   ],
   "source": [
    "new_user_count = df_clean['user_id'].nunique()\n",
    "\n",
    "print('Было пользователей:', user_count)\n",
    "print('Стало пользователей:', new_user_count)\n",
    "print('Кол-во потерянных пользователей:', user_count - new_user_count)\n",
    "print('Кол-во потерянных пользователей в процентах:', round((user_count - new_user_count)/user_count*100,2),'%')"
   ]
  },
  {
   "cell_type": "markdown",
   "metadata": {},
   "source": [
    "Теперь посчитаем потери в кол-ве событий:"
   ]
  },
  {
   "cell_type": "code",
   "execution_count": 30,
   "metadata": {
    "scrolled": true
   },
   "outputs": [
    {
     "name": "stdout",
     "output_type": "stream",
     "text": [
      "Было событий: 243713\n",
      "Стало событий: 240887\n",
      "Кол-во потерянных событий: 2826\n",
      "Кол-во потерянных событий в процентах: 1.16 %\n"
     ]
    }
   ],
   "source": [
    "new_event_count = df_clean['event_name'].count()\n",
    "\n",
    "print('Было событий:', event_count)\n",
    "print('Стало событий:', new_event_count)\n",
    "print('Кол-во потерянных событий:', event_count - new_event_count)\n",
    "print('Кол-во потерянных событий в процентах:', round((event_count - new_event_count)/event_count*100,2),'%')"
   ]
  },
  {
   "cell_type": "markdown",
   "metadata": {},
   "source": [
    "**Выводы:**\n",
    "\n",
    "- В результате очистки мы потеряли 17 пользователей, что составляет 0.23% от всех.\n",
    "- В результате очистки мы потеряли 2826 событий, что составляет 1.16% от всех.\n",
    "- Потери находятся в пределах допустимых значений."
   ]
  },
  {
   "cell_type": "markdown",
   "metadata": {},
   "source": [
    "### Проверка пользователей в группах\n",
    "\n",
    "Осталось проверить, что у нас есть пользователи из всех трех экспериментальных групп."
   ]
  },
  {
   "cell_type": "code",
   "execution_count": 31,
   "metadata": {},
   "outputs": [
    {
     "data": {
      "text/plain": [
       "group_name\n",
       "A1    2484\n",
       "A2    2513\n",
       "B     2537\n",
       "Name: user_id, dtype: int64"
      ]
     },
     "execution_count": 31,
     "metadata": {},
     "output_type": "execute_result"
    }
   ],
   "source": [
    "df_clean.groupby('group_name')['user_id'].nunique()"
   ]
  },
  {
   "cell_type": "markdown",
   "metadata": {},
   "source": [
    "Как мы видим, в каждой группе примерно по 2,5 тысячи пользователей."
   ]
  },
  {
   "cell_type": "markdown",
   "metadata": {},
   "source": [
    "**Выводы:**\n",
    "- В группе А1 осталось 2484 пользователя.\n",
    "- В группе А2 осталось 2513 пользователей.\n",
    "- В группе В осталось 2537 пользователей."
   ]
  },
  {
   "cell_type": "markdown",
   "metadata": {},
   "source": [
    "## Исследование воронки событий\n",
    "\n",
    "### Исследование событий\n",
    "\n",
    "Посмотрим, какие события есть в логах, и как часто они встречаются, а также отсортируем их по частоте с помощью value_counts():"
   ]
  },
  {
   "cell_type": "code",
   "execution_count": 32,
   "metadata": {},
   "outputs": [
    {
     "data": {
      "text/plain": [
       "Main_Screen_Appear           117328\n",
       "Offers_Screen_Appear          46333\n",
       "Cart_Screen_Appear            42303\n",
       "Payment_Screen_Successful     33918\n",
       "Tutorial                       1005\n",
       "Name: event_name, dtype: int64"
      ]
     },
     "execution_count": 32,
     "metadata": {},
     "output_type": "execute_result"
    }
   ],
   "source": [
    "df_clean['event_name'].value_counts()"
   ]
  },
  {
   "cell_type": "markdown",
   "metadata": {},
   "source": [
    "Названия событий можно интерпретировать так:\n",
    "- Main_Screen_Appear - показ основного экрана\n",
    "- Offers_Screen_Appear - показ экрана предложений\n",
    "- Cart_Screen_Appear - показ экрана корзины\n",
    "- Payment_Screen_Successful - показ экрана с подтверждением оплаты\n",
    "- Tutorial - показ обучения\n",
    "\n",
    "**Вывод:**\n",
    "- Самым частым событием является показ основного экрана. \n",
    "- Дальше по порядку убывания: показ экрана предложений, показ экрана корзины, показ экрана с подтверждением оплаты.\n",
    "- Самым немногочисленным событием является показ обучения."
   ]
  },
  {
   "cell_type": "markdown",
   "metadata": {},
   "source": [
    "### Кол-во пользователей на событие\n",
    "\n",
    "Посчитаем, сколько пользователей совершали каждое их этих событий, и отсортируем события по числу пользователей."
   ]
  },
  {
   "cell_type": "code",
   "execution_count": 33,
   "metadata": {},
   "outputs": [
    {
     "data": {
      "text/html": [
       "<div>\n",
       "<style scoped>\n",
       "    .dataframe tbody tr th:only-of-type {\n",
       "        vertical-align: middle;\n",
       "    }\n",
       "\n",
       "    .dataframe tbody tr th {\n",
       "        vertical-align: top;\n",
       "    }\n",
       "\n",
       "    .dataframe thead th {\n",
       "        text-align: right;\n",
       "    }\n",
       "</style>\n",
       "<table border=\"1\" class=\"dataframe\">\n",
       "  <thead>\n",
       "    <tr style=\"text-align: right;\">\n",
       "      <th></th>\n",
       "      <th>event_name</th>\n",
       "      <th>user_count</th>\n",
       "    </tr>\n",
       "  </thead>\n",
       "  <tbody>\n",
       "    <tr>\n",
       "      <th>0</th>\n",
       "      <td>Main_Screen_Appear</td>\n",
       "      <td>7439</td>\n",
       "    </tr>\n",
       "    <tr>\n",
       "      <th>1</th>\n",
       "      <td>Offers_Screen_Appear</td>\n",
       "      <td>4613</td>\n",
       "    </tr>\n",
       "    <tr>\n",
       "      <th>2</th>\n",
       "      <td>Cart_Screen_Appear</td>\n",
       "      <td>3749</td>\n",
       "    </tr>\n",
       "    <tr>\n",
       "      <th>3</th>\n",
       "      <td>Payment_Screen_Successful</td>\n",
       "      <td>3547</td>\n",
       "    </tr>\n",
       "    <tr>\n",
       "      <th>4</th>\n",
       "      <td>Tutorial</td>\n",
       "      <td>847</td>\n",
       "    </tr>\n",
       "  </tbody>\n",
       "</table>\n",
       "</div>"
      ],
      "text/plain": [
       "                  event_name  user_count\n",
       "0         Main_Screen_Appear        7439\n",
       "1       Offers_Screen_Appear        4613\n",
       "2         Cart_Screen_Appear        3749\n",
       "3  Payment_Screen_Successful        3547\n",
       "4                   Tutorial         847"
      ]
     },
     "execution_count": 33,
     "metadata": {},
     "output_type": "execute_result"
    }
   ],
   "source": [
    "users_per_event = df.groupby('event_name').agg({'user_id':'nunique'}).sort_values(by='user_id', ascending=False)\n",
    "users_per_event.columns = ['user_count']\n",
    "users_per_event = users_per_event.reset_index()\n",
    "users_per_event"
   ]
  },
  {
   "cell_type": "markdown",
   "metadata": {},
   "source": [
    "Добавим в получившуюся таблицу столбец с долями пользователей, которые хоть раз совершали событие:"
   ]
  },
  {
   "cell_type": "code",
   "execution_count": 34,
   "metadata": {},
   "outputs": [
    {
     "data": {
      "text/html": [
       "<div>\n",
       "<style scoped>\n",
       "    .dataframe tbody tr th:only-of-type {\n",
       "        vertical-align: middle;\n",
       "    }\n",
       "\n",
       "    .dataframe tbody tr th {\n",
       "        vertical-align: top;\n",
       "    }\n",
       "\n",
       "    .dataframe thead th {\n",
       "        text-align: right;\n",
       "    }\n",
       "</style>\n",
       "<table border=\"1\" class=\"dataframe\">\n",
       "  <thead>\n",
       "    <tr style=\"text-align: right;\">\n",
       "      <th></th>\n",
       "      <th>event_name</th>\n",
       "      <th>user_count</th>\n",
       "      <th>user_percentage</th>\n",
       "    </tr>\n",
       "  </thead>\n",
       "  <tbody>\n",
       "    <tr>\n",
       "      <th>0</th>\n",
       "      <td>Main_Screen_Appear</td>\n",
       "      <td>7439</td>\n",
       "      <td>98.7</td>\n",
       "    </tr>\n",
       "    <tr>\n",
       "      <th>1</th>\n",
       "      <td>Offers_Screen_Appear</td>\n",
       "      <td>4613</td>\n",
       "      <td>61.2</td>\n",
       "    </tr>\n",
       "    <tr>\n",
       "      <th>2</th>\n",
       "      <td>Cart_Screen_Appear</td>\n",
       "      <td>3749</td>\n",
       "      <td>49.8</td>\n",
       "    </tr>\n",
       "    <tr>\n",
       "      <th>3</th>\n",
       "      <td>Payment_Screen_Successful</td>\n",
       "      <td>3547</td>\n",
       "      <td>47.1</td>\n",
       "    </tr>\n",
       "    <tr>\n",
       "      <th>4</th>\n",
       "      <td>Tutorial</td>\n",
       "      <td>847</td>\n",
       "      <td>11.2</td>\n",
       "    </tr>\n",
       "  </tbody>\n",
       "</table>\n",
       "</div>"
      ],
      "text/plain": [
       "                  event_name  user_count  user_percentage\n",
       "0         Main_Screen_Appear        7439             98.7\n",
       "1       Offers_Screen_Appear        4613             61.2\n",
       "2         Cart_Screen_Appear        3749             49.8\n",
       "3  Payment_Screen_Successful        3547             47.1\n",
       "4                   Tutorial         847             11.2"
      ]
     },
     "execution_count": 34,
     "metadata": {},
     "output_type": "execute_result"
    }
   ],
   "source": [
    "users_per_event['user_percentage'] = (users_per_event['user_count'] / new_user_count * 100).round(1)\n",
    "users_per_event"
   ]
  },
  {
   "cell_type": "markdown",
   "metadata": {},
   "source": [
    "**Вывод:**\n",
    "\n",
    "По таблице мы видим, что:\n",
    "- Событие \"показ основного экрана\" совершили 7439 пользователей, что составляет 98.7% от всех пользователей.\n",
    "- Событие \"показ экрана предложений\" совершили 4613 пользователей, что составляет 61.2% от всех.\n",
    "- Событие \"показ экрана корзины\" совершили 3749 пользователей, что составляет 49.8% от всех.\n",
    "- Событие \"показ экрана подтверждения оплаты\" совершили 3547 пользователей, что составляет 47.7% от всех.\n",
    "- Событие \"показ обучения\" совершили 847 пользователей, что составило лишь 11.2% от всех."
   ]
  },
  {
   "cell_type": "markdown",
   "metadata": {},
   "source": [
    "### Порядок событий\n",
    "\n",
    "Предположительно, воронка продаж выглядит следующим образом:\n",
    "1. Пользователь видит основной экран сайта\n",
    "2. Пользователь переходит на экран предлагаемых товаров\n",
    "3. Пользователь добавляет товары в корзину и переходит на ее экран\n",
    "4. Пользователь оплачивает заказ и переходит на экран подтверждения оплаты\n",
    "\n",
    "Дополнительно у нас есть событие - обучение. Судя по маленькому проценту пользователей (11.2 %), которые заходят на ее страницу, она вряд ли является частью воронки продаж. Скорее всего это просто обучение пользователя, как правильно использовать сайт, и потому не является обязательным.\n",
    "\n",
    "**Вывод:**\n",
    "\n",
    "Событие \"показ обучения\" можно не учитывать при расчете воронки продаж."
   ]
  },
  {
   "cell_type": "markdown",
   "metadata": {},
   "source": [
    "### Доля пользователей по шагам воронки\n",
    "\n"
   ]
  },
  {
   "cell_type": "markdown",
   "metadata": {},
   "source": [
    "Как мы постановили ранее, событие \"показ обучения\" не является частью воронки. Потому можем убрать его из таблицы для дальнейшего анализа:"
   ]
  },
  {
   "cell_type": "code",
   "execution_count": 35,
   "metadata": {},
   "outputs": [
    {
     "name": "stderr",
     "output_type": "stream",
     "text": [
      "C:\\Users\\Taras\\AppData\\Local\\Temp/ipykernel_20096/1626069150.py:1: FutureWarning: In a future version of pandas all arguments of DataFrame.drop except for the argument 'labels' will be keyword-only\n",
      "  users_per_event = users_per_event.drop([4], 0)\n"
     ]
    },
    {
     "data": {
      "text/html": [
       "<div>\n",
       "<style scoped>\n",
       "    .dataframe tbody tr th:only-of-type {\n",
       "        vertical-align: middle;\n",
       "    }\n",
       "\n",
       "    .dataframe tbody tr th {\n",
       "        vertical-align: top;\n",
       "    }\n",
       "\n",
       "    .dataframe thead th {\n",
       "        text-align: right;\n",
       "    }\n",
       "</style>\n",
       "<table border=\"1\" class=\"dataframe\">\n",
       "  <thead>\n",
       "    <tr style=\"text-align: right;\">\n",
       "      <th></th>\n",
       "      <th>event_name</th>\n",
       "      <th>user_count</th>\n",
       "      <th>user_percentage</th>\n",
       "    </tr>\n",
       "  </thead>\n",
       "  <tbody>\n",
       "    <tr>\n",
       "      <th>0</th>\n",
       "      <td>Main_Screen_Appear</td>\n",
       "      <td>7439</td>\n",
       "      <td>98.7</td>\n",
       "    </tr>\n",
       "    <tr>\n",
       "      <th>1</th>\n",
       "      <td>Offers_Screen_Appear</td>\n",
       "      <td>4613</td>\n",
       "      <td>61.2</td>\n",
       "    </tr>\n",
       "    <tr>\n",
       "      <th>2</th>\n",
       "      <td>Cart_Screen_Appear</td>\n",
       "      <td>3749</td>\n",
       "      <td>49.8</td>\n",
       "    </tr>\n",
       "    <tr>\n",
       "      <th>3</th>\n",
       "      <td>Payment_Screen_Successful</td>\n",
       "      <td>3547</td>\n",
       "      <td>47.1</td>\n",
       "    </tr>\n",
       "  </tbody>\n",
       "</table>\n",
       "</div>"
      ],
      "text/plain": [
       "                  event_name  user_count  user_percentage\n",
       "0         Main_Screen_Appear        7439             98.7\n",
       "1       Offers_Screen_Appear        4613             61.2\n",
       "2         Cart_Screen_Appear        3749             49.8\n",
       "3  Payment_Screen_Successful        3547             47.1"
      ]
     },
     "execution_count": 35,
     "metadata": {},
     "output_type": "execute_result"
    }
   ],
   "source": [
    "users_per_event = users_per_event.drop([4], 0)\n",
    "users_per_event"
   ]
  },
  {
   "cell_type": "markdown",
   "metadata": {},
   "source": [
    "Теперь посчитаем по воронке событий, какая доля пользователей от числа пользователей на предыдущем шаге, переходит на следующий шаг воронки.\n",
    "\n",
    "Для этого создадим столбец с конверсией:"
   ]
  },
  {
   "cell_type": "code",
   "execution_count": 36,
   "metadata": {},
   "outputs": [
    {
     "data": {
      "text/html": [
       "<div>\n",
       "<style scoped>\n",
       "    .dataframe tbody tr th:only-of-type {\n",
       "        vertical-align: middle;\n",
       "    }\n",
       "\n",
       "    .dataframe tbody tr th {\n",
       "        vertical-align: top;\n",
       "    }\n",
       "\n",
       "    .dataframe thead th {\n",
       "        text-align: right;\n",
       "    }\n",
       "</style>\n",
       "<table border=\"1\" class=\"dataframe\">\n",
       "  <thead>\n",
       "    <tr style=\"text-align: right;\">\n",
       "      <th></th>\n",
       "      <th>event_name</th>\n",
       "      <th>user_count</th>\n",
       "      <th>user_percentage</th>\n",
       "      <th>conversion</th>\n",
       "    </tr>\n",
       "  </thead>\n",
       "  <tbody>\n",
       "    <tr>\n",
       "      <th>0</th>\n",
       "      <td>Main_Screen_Appear</td>\n",
       "      <td>7439</td>\n",
       "      <td>98.7</td>\n",
       "      <td>100.0</td>\n",
       "    </tr>\n",
       "    <tr>\n",
       "      <th>1</th>\n",
       "      <td>Offers_Screen_Appear</td>\n",
       "      <td>4613</td>\n",
       "      <td>61.2</td>\n",
       "      <td>62.0</td>\n",
       "    </tr>\n",
       "    <tr>\n",
       "      <th>2</th>\n",
       "      <td>Cart_Screen_Appear</td>\n",
       "      <td>3749</td>\n",
       "      <td>49.8</td>\n",
       "      <td>81.3</td>\n",
       "    </tr>\n",
       "    <tr>\n",
       "      <th>3</th>\n",
       "      <td>Payment_Screen_Successful</td>\n",
       "      <td>3547</td>\n",
       "      <td>47.1</td>\n",
       "      <td>94.6</td>\n",
       "    </tr>\n",
       "  </tbody>\n",
       "</table>\n",
       "</div>"
      ],
      "text/plain": [
       "                  event_name  user_count  user_percentage  conversion\n",
       "0         Main_Screen_Appear        7439             98.7       100.0\n",
       "1       Offers_Screen_Appear        4613             61.2        62.0\n",
       "2         Cart_Screen_Appear        3749             49.8        81.3\n",
       "3  Payment_Screen_Successful        3547             47.1        94.6"
      ]
     },
     "execution_count": 36,
     "metadata": {},
     "output_type": "execute_result"
    }
   ],
   "source": [
    "previus_users = users_per_event.loc[0,'user_count']\n",
    "\n",
    "for i in users_per_event.index:\n",
    "    users_per_event.loc[i, 'conversion'] = (users_per_event.loc[i,'user_count'] / previus_users * 100).round(1)\n",
    "    previus_users = users_per_event.loc[i,'user_count']\n",
    "    \n",
    "users_per_event"
   ]
  },
  {
   "cell_type": "markdown",
   "metadata": {},
   "source": [
    "**Вывод:**\n",
    "\n",
    "По таблице мы видим, что:\n",
    "- С 1-го шага воронки на 2-й перешло 62% от пользователей предыдущего шага.\n",
    "- Со 2-го шага на 3-й перешло 81.3% от пользователей предыдущего шага.\n",
    "- С 3-го на 4-й перешло 94.6% от пользователей предыдущего шага."
   ]
  },
  {
   "cell_type": "markdown",
   "metadata": {},
   "source": [
    "### Потери пользователей по шагам\n",
    "\n",
    "Требуется посчитать, на каком шаге мы теряем больше всего пользователей.\n",
    "\n",
    "Для этого добавим новый столбец в таблицу, где будут указаны потери относительно предыдущего шага."
   ]
  },
  {
   "cell_type": "code",
   "execution_count": 37,
   "metadata": {},
   "outputs": [
    {
     "data": {
      "text/html": [
       "<div>\n",
       "<style scoped>\n",
       "    .dataframe tbody tr th:only-of-type {\n",
       "        vertical-align: middle;\n",
       "    }\n",
       "\n",
       "    .dataframe tbody tr th {\n",
       "        vertical-align: top;\n",
       "    }\n",
       "\n",
       "    .dataframe thead th {\n",
       "        text-align: right;\n",
       "    }\n",
       "</style>\n",
       "<table border=\"1\" class=\"dataframe\">\n",
       "  <thead>\n",
       "    <tr style=\"text-align: right;\">\n",
       "      <th></th>\n",
       "      <th>event_name</th>\n",
       "      <th>user_count</th>\n",
       "      <th>user_percentage</th>\n",
       "      <th>conversion</th>\n",
       "      <th>losses</th>\n",
       "    </tr>\n",
       "  </thead>\n",
       "  <tbody>\n",
       "    <tr>\n",
       "      <th>0</th>\n",
       "      <td>Main_Screen_Appear</td>\n",
       "      <td>7439</td>\n",
       "      <td>98.7</td>\n",
       "      <td>100.0</td>\n",
       "      <td>0.0</td>\n",
       "    </tr>\n",
       "    <tr>\n",
       "      <th>1</th>\n",
       "      <td>Offers_Screen_Appear</td>\n",
       "      <td>4613</td>\n",
       "      <td>61.2</td>\n",
       "      <td>62.0</td>\n",
       "      <td>38.0</td>\n",
       "    </tr>\n",
       "    <tr>\n",
       "      <th>2</th>\n",
       "      <td>Cart_Screen_Appear</td>\n",
       "      <td>3749</td>\n",
       "      <td>49.8</td>\n",
       "      <td>81.3</td>\n",
       "      <td>18.7</td>\n",
       "    </tr>\n",
       "    <tr>\n",
       "      <th>3</th>\n",
       "      <td>Payment_Screen_Successful</td>\n",
       "      <td>3547</td>\n",
       "      <td>47.1</td>\n",
       "      <td>94.6</td>\n",
       "      <td>5.4</td>\n",
       "    </tr>\n",
       "  </tbody>\n",
       "</table>\n",
       "</div>"
      ],
      "text/plain": [
       "                  event_name  user_count  user_percentage  conversion  losses\n",
       "0         Main_Screen_Appear        7439             98.7       100.0     0.0\n",
       "1       Offers_Screen_Appear        4613             61.2        62.0    38.0\n",
       "2         Cart_Screen_Appear        3749             49.8        81.3    18.7\n",
       "3  Payment_Screen_Successful        3547             47.1        94.6     5.4"
      ]
     },
     "execution_count": 37,
     "metadata": {},
     "output_type": "execute_result"
    }
   ],
   "source": [
    "for i in users_per_event.index:\n",
    "    users_per_event.loc[i, 'losses'] = 100 - users_per_event.loc[i, 'conversion']\n",
    "    \n",
    "users_per_event"
   ]
  },
  {
   "cell_type": "markdown",
   "metadata": {},
   "source": [
    "**Вывод:**\n",
    "\n",
    "Во время перехода к экрану с предложениями мы теряем наибольший процент пользователей - 38 %. Возможно, существует какая то проблема на первом шаге \"показ основного экрана\". Об этом следует сообщить тестировщикам, чтобы выяснить причину."
   ]
  },
  {
   "cell_type": "markdown",
   "metadata": {},
   "source": [
    "### Доля пользователей, дошедших от первого события до последнего"
   ]
  },
  {
   "cell_type": "markdown",
   "metadata": {},
   "source": [
    "Требуется посчитать, какая доля пользователей доходит от первого события до оплаты. Для этого добавим в таблицу еще один столбец, рассчитав его похожим образом, как в пункте 4.4, но с одним отличием:"
   ]
  },
  {
   "cell_type": "code",
   "execution_count": 38,
   "metadata": {},
   "outputs": [
    {
     "data": {
      "text/html": [
       "<div>\n",
       "<style scoped>\n",
       "    .dataframe tbody tr th:only-of-type {\n",
       "        vertical-align: middle;\n",
       "    }\n",
       "\n",
       "    .dataframe tbody tr th {\n",
       "        vertical-align: top;\n",
       "    }\n",
       "\n",
       "    .dataframe thead th {\n",
       "        text-align: right;\n",
       "    }\n",
       "</style>\n",
       "<table border=\"1\" class=\"dataframe\">\n",
       "  <thead>\n",
       "    <tr style=\"text-align: right;\">\n",
       "      <th></th>\n",
       "      <th>event_name</th>\n",
       "      <th>user_count</th>\n",
       "      <th>user_percentage</th>\n",
       "      <th>conversion</th>\n",
       "      <th>losses</th>\n",
       "      <th>users_left</th>\n",
       "    </tr>\n",
       "  </thead>\n",
       "  <tbody>\n",
       "    <tr>\n",
       "      <th>0</th>\n",
       "      <td>Main_Screen_Appear</td>\n",
       "      <td>7439</td>\n",
       "      <td>98.7</td>\n",
       "      <td>100.0</td>\n",
       "      <td>0.0</td>\n",
       "      <td>100.0</td>\n",
       "    </tr>\n",
       "    <tr>\n",
       "      <th>1</th>\n",
       "      <td>Offers_Screen_Appear</td>\n",
       "      <td>4613</td>\n",
       "      <td>61.2</td>\n",
       "      <td>62.0</td>\n",
       "      <td>38.0</td>\n",
       "      <td>62.0</td>\n",
       "    </tr>\n",
       "    <tr>\n",
       "      <th>2</th>\n",
       "      <td>Cart_Screen_Appear</td>\n",
       "      <td>3749</td>\n",
       "      <td>49.8</td>\n",
       "      <td>81.3</td>\n",
       "      <td>18.7</td>\n",
       "      <td>50.4</td>\n",
       "    </tr>\n",
       "    <tr>\n",
       "      <th>3</th>\n",
       "      <td>Payment_Screen_Successful</td>\n",
       "      <td>3547</td>\n",
       "      <td>47.1</td>\n",
       "      <td>94.6</td>\n",
       "      <td>5.4</td>\n",
       "      <td>47.7</td>\n",
       "    </tr>\n",
       "  </tbody>\n",
       "</table>\n",
       "</div>"
      ],
      "text/plain": [
       "                  event_name  user_count  user_percentage  conversion  losses  \\\n",
       "0         Main_Screen_Appear        7439             98.7       100.0     0.0   \n",
       "1       Offers_Screen_Appear        4613             61.2        62.0    38.0   \n",
       "2         Cart_Screen_Appear        3749             49.8        81.3    18.7   \n",
       "3  Payment_Screen_Successful        3547             47.1        94.6     5.4   \n",
       "\n",
       "   users_left  \n",
       "0       100.0  \n",
       "1        62.0  \n",
       "2        50.4  \n",
       "3        47.7  "
      ]
     },
     "execution_count": 38,
     "metadata": {},
     "output_type": "execute_result"
    }
   ],
   "source": [
    "starting_users = users_per_event.loc[0,'user_count']\n",
    "\n",
    "for i in users_per_event.index:\n",
    "    users_per_event.loc[i, 'users_left'] = (users_per_event.loc[i,'user_count'] / starting_users * 100).round(1)\n",
    "    \n",
    "users_per_event"
   ]
  },
  {
   "cell_type": "markdown",
   "metadata": {},
   "source": [
    "**Вывод:**\n",
    "\n",
    "От первого до последнего шага доходит только 47.7 % пользователей. Это почти половина всех пользователей, что можно считать хорошим результатом, особенно учитывая 38 % пользователей, которых мы теряем на втором шаге."
   ]
  },
  {
   "cell_type": "markdown",
   "metadata": {},
   "source": [
    "## Исследование результатов эксперимента\n",
    "\n",
    "### Кол-во пользователей в каждой экспериментальной группе\n",
    "\n",
    "Требуется узнать, сколько пользователей присутствует в каждой экспериментальной группе. Похожий код мы делали в пункте 3.6.\n",
    "\n",
    "Повторим его для наглядности, но на этот раз сохраним полученную таблицу в переменную. Этот датасет понадобится нам для тестов позже."
   ]
  },
  {
   "cell_type": "code",
   "execution_count": 39,
   "metadata": {},
   "outputs": [
    {
     "data": {
      "text/plain": [
       "group_name\n",
       "A1    2484\n",
       "A2    2513\n",
       "B     2537\n",
       "Name: user_id, dtype: int64"
      ]
     },
     "execution_count": 39,
     "metadata": {},
     "output_type": "execute_result"
    }
   ],
   "source": [
    "users_per_group = df_clean.groupby('group_name')['user_id'].nunique()\n",
    "users_per_group"
   ]
  },
  {
   "cell_type": "markdown",
   "metadata": {},
   "source": [
    "**Выводы:**\n",
    "- В группе A1: 2484 пользователей.\n",
    "- В группе A2: 2513 пользователей.\n",
    "- В группе B: 2537 пользователей.\n",
    "- Пользователи распределены по группам примерно равномерно."
   ]
  },
  {
   "cell_type": "markdown",
   "metadata": {},
   "source": [
    "### Кол-во пользователей по событим и группам\n",
    "\n",
    "Составим таблицу, в которой будет указано число пользователей для каждого шага воронки, разделенные по группам.\n",
    "\n",
    "Не забудем исключить событие Tutorial."
   ]
  },
  {
   "cell_type": "code",
   "execution_count": 40,
   "metadata": {
    "scrolled": true
   },
   "outputs": [
    {
     "data": {
      "text/html": [
       "<div>\n",
       "<style scoped>\n",
       "    .dataframe tbody tr th:only-of-type {\n",
       "        vertical-align: middle;\n",
       "    }\n",
       "\n",
       "    .dataframe tbody tr th {\n",
       "        vertical-align: top;\n",
       "    }\n",
       "\n",
       "    .dataframe thead th {\n",
       "        text-align: right;\n",
       "    }\n",
       "</style>\n",
       "<table border=\"1\" class=\"dataframe\">\n",
       "  <thead>\n",
       "    <tr style=\"text-align: right;\">\n",
       "      <th>group_name</th>\n",
       "      <th>event_name</th>\n",
       "      <th>A1</th>\n",
       "      <th>A2</th>\n",
       "      <th>B</th>\n",
       "    </tr>\n",
       "  </thead>\n",
       "  <tbody>\n",
       "    <tr>\n",
       "      <th>0</th>\n",
       "      <td>Main_Screen_Appear</td>\n",
       "      <td>2450</td>\n",
       "      <td>2476</td>\n",
       "      <td>2493</td>\n",
       "    </tr>\n",
       "    <tr>\n",
       "      <th>1</th>\n",
       "      <td>Offers_Screen_Appear</td>\n",
       "      <td>1542</td>\n",
       "      <td>1520</td>\n",
       "      <td>1531</td>\n",
       "    </tr>\n",
       "    <tr>\n",
       "      <th>2</th>\n",
       "      <td>Cart_Screen_Appear</td>\n",
       "      <td>1266</td>\n",
       "      <td>1238</td>\n",
       "      <td>1230</td>\n",
       "    </tr>\n",
       "    <tr>\n",
       "      <th>3</th>\n",
       "      <td>Payment_Screen_Successful</td>\n",
       "      <td>1200</td>\n",
       "      <td>1158</td>\n",
       "      <td>1181</td>\n",
       "    </tr>\n",
       "  </tbody>\n",
       "</table>\n",
       "</div>"
      ],
      "text/plain": [
       "group_name                 event_name    A1    A2     B\n",
       "0                  Main_Screen_Appear  2450  2476  2493\n",
       "1                Offers_Screen_Appear  1542  1520  1531\n",
       "2                  Cart_Screen_Appear  1266  1238  1230\n",
       "3           Payment_Screen_Successful  1200  1158  1181"
      ]
     },
     "execution_count": 40,
     "metadata": {},
     "output_type": "execute_result"
    }
   ],
   "source": [
    "group_count = df_clean[df_clean['event_name']!='Tutorial'].pivot_table(\n",
    "    index='event_name', \n",
    "    columns='group_name', \n",
    "    values='user_id',\n",
    "    aggfunc='nunique').sort_values(by='A1', ascending=False)\n",
    "\n",
    "group_count = group_count.reset_index()\n",
    "group_count"
   ]
  },
  {
   "cell_type": "markdown",
   "metadata": {},
   "source": [
    "От нас требуется посчитать число пользователей и долю пользователей по всем группам для самого популярного события.\n",
    "\n",
    "Чтобы определить, какое событие самое популярное, добавим к таблице сверху столбец с общим числом пользователей по событиям, а также столбец с долями для этих пользователей."
   ]
  },
  {
   "cell_type": "code",
   "execution_count": 41,
   "metadata": {
    "scrolled": true
   },
   "outputs": [
    {
     "data": {
      "text/html": [
       "<div>\n",
       "<style scoped>\n",
       "    .dataframe tbody tr th:only-of-type {\n",
       "        vertical-align: middle;\n",
       "    }\n",
       "\n",
       "    .dataframe tbody tr th {\n",
       "        vertical-align: top;\n",
       "    }\n",
       "\n",
       "    .dataframe thead th {\n",
       "        text-align: right;\n",
       "    }\n",
       "</style>\n",
       "<table border=\"1\" class=\"dataframe\">\n",
       "  <thead>\n",
       "    <tr style=\"text-align: right;\">\n",
       "      <th>group_name</th>\n",
       "      <th>event_name</th>\n",
       "      <th>A1</th>\n",
       "      <th>A2</th>\n",
       "      <th>B</th>\n",
       "      <th>total</th>\n",
       "      <th>A1_%</th>\n",
       "      <th>A2_%</th>\n",
       "      <th>B_%</th>\n",
       "      <th>total_%</th>\n",
       "    </tr>\n",
       "  </thead>\n",
       "  <tbody>\n",
       "    <tr>\n",
       "      <th>0</th>\n",
       "      <td>Main_Screen_Appear</td>\n",
       "      <td>2450</td>\n",
       "      <td>2476</td>\n",
       "      <td>2493</td>\n",
       "      <td>7419</td>\n",
       "      <td>98.6</td>\n",
       "      <td>98.5</td>\n",
       "      <td>98.3</td>\n",
       "      <td>98.5</td>\n",
       "    </tr>\n",
       "    <tr>\n",
       "      <th>1</th>\n",
       "      <td>Offers_Screen_Appear</td>\n",
       "      <td>1542</td>\n",
       "      <td>1520</td>\n",
       "      <td>1531</td>\n",
       "      <td>4593</td>\n",
       "      <td>62.1</td>\n",
       "      <td>60.5</td>\n",
       "      <td>60.3</td>\n",
       "      <td>61.0</td>\n",
       "    </tr>\n",
       "    <tr>\n",
       "      <th>2</th>\n",
       "      <td>Cart_Screen_Appear</td>\n",
       "      <td>1266</td>\n",
       "      <td>1238</td>\n",
       "      <td>1230</td>\n",
       "      <td>3734</td>\n",
       "      <td>51.0</td>\n",
       "      <td>49.3</td>\n",
       "      <td>48.5</td>\n",
       "      <td>49.6</td>\n",
       "    </tr>\n",
       "    <tr>\n",
       "      <th>3</th>\n",
       "      <td>Payment_Screen_Successful</td>\n",
       "      <td>1200</td>\n",
       "      <td>1158</td>\n",
       "      <td>1181</td>\n",
       "      <td>3539</td>\n",
       "      <td>48.3</td>\n",
       "      <td>46.1</td>\n",
       "      <td>46.6</td>\n",
       "      <td>47.0</td>\n",
       "    </tr>\n",
       "  </tbody>\n",
       "</table>\n",
       "</div>"
      ],
      "text/plain": [
       "group_name                 event_name    A1    A2     B  total  A1_%  A2_%  \\\n",
       "0                  Main_Screen_Appear  2450  2476  2493   7419  98.6  98.5   \n",
       "1                Offers_Screen_Appear  1542  1520  1531   4593  62.1  60.5   \n",
       "2                  Cart_Screen_Appear  1266  1238  1230   3734  51.0  49.3   \n",
       "3           Payment_Screen_Successful  1200  1158  1181   3539  48.3  46.1   \n",
       "\n",
       "group_name   B_%  total_%  \n",
       "0           98.3     98.5  \n",
       "1           60.3     61.0  \n",
       "2           48.5     49.6  \n",
       "3           46.6     47.0  "
      ]
     },
     "execution_count": 41,
     "metadata": {},
     "output_type": "execute_result"
    }
   ],
   "source": [
    "group_count['total'] = group_count['A1'] + group_count['A2'] + group_count['B']\n",
    "group_count['A1_%'] = (group_count['A1'] / users_per_group['A1'] * 100).round(1)\n",
    "group_count['A2_%'] = (group_count['A2'] / users_per_group['A2'] * 100).round(1)\n",
    "group_count['B_%'] = (group_count['B'] / users_per_group['B'] * 100).round(1)\n",
    "group_count['total_%'] = (group_count['total'] / users_per_group.sum() * 100).round(1)\n",
    "group_count"
   ]
  },
  {
   "cell_type": "markdown",
   "metadata": {},
   "source": [
    "**Выводы:**\n",
    "- Самым популярным событием является Main_Screen_Appear (появление основного экрана), набравшее 7419 пользователей. Что достаточно очевидно, учитывая, что оно стоит первым в воронке. Если распределять по группам, то выходит:\n",
    "    - Группа А1: 2450 пользователей.\n",
    "    - Группа А2: 2476 пользователей.\n",
    "    - Группа В: 2493 пользователя.\n",
    "- Доля пользователей, совершивших это событие составляет 98.5%. Если распределять по группам, то выходит:\n",
    "    - Группа А1: 98.6%.\n",
    "    - Группа А2: 98.5%.\n",
    "    - Группа В: 98.3%"
   ]
  },
  {
   "cell_type": "markdown",
   "metadata": {},
   "source": [
    "### Статистическая значимость различий между двумя контрольными группами\n",
    "\n",
    "Теперь мы можем сделать первую серию тестов.\n",
    "\n",
    "Чтобы оценить различия для двух групп, мы будем сравнивать их по долям из каждого событию по отдельности. (Тест на величину Z.) Если все события для двух групп окажутся одинаковыми, то различия в группах можно считать незначительными.\n",
    "\n",
    "Поскольку нам предстоит повторять один и тот же тест множество раз, лучше всего будет написать для их проверки общую функцию.\n",
    "\n",
    "Нулевая и альтернативная гипотеза будут одинаковые для всех тестов.\n",
    "\n",
    "В качестве нулевой гипотезы возьмем: \"Разница в долях пользователей, совершивших событие, статистически незначима.\"\n",
    "\n",
    "Альтернативная гипотеза тогда будет: \"Разница в долях пользователей, совершивших событие, статистически значима.\"\n",
    "\n",
    "Поскольку обе группы для А/А-теста должны быть одинаковыми, то уровень статистической значимости для их сравнения должен быть выше - 1%. Потому в качестве порогового значения alpha возьмем 0.01.\n",
    "\n",
    "Теперь напишем саму функцию. На вход она будет принимать две группы, которые мы сравниваем, и значение alpha. Также добавим туда счетчик, чтобы знали, сколько тестов мы выполнили в сумме:"
   ]
  },
  {
   "cell_type": "code",
   "execution_count": 42,
   "metadata": {},
   "outputs": [],
   "source": [
    "def z_test(group_1, group_2, alpha, count):\n",
    "    counter = count\n",
    "    for i in group_count.index:\n",
    "        p1 = group_count[group_1][i] / users_per_group[group_1]\n",
    "        p2 = group_count[group_2][i] / users_per_group[group_2]\n",
    "        p_combined = ((group_count[group_1][i] + group_count[group_2][i]) / \n",
    "                      (users_per_group[group_1] + users_per_group[group_2]))\n",
    "        difference = p1 - p2\n",
    "        z_value = difference / mth.sqrt(p_combined * (1 - p_combined) * \n",
    "                                        (1/users_per_group[group_1] + 1/users_per_group[group_2])) \n",
    "        distr = st.norm(0, 1)\n",
    "        p_value = (1 - distr.cdf(abs(z_value))) * 2\n",
    "        print('Событие:', group_count['event_name'][i])\n",
    "        print('P-значение:', round(p_value, 3))\n",
    "        if (p_value < alpha):\n",
    "            print('Отвергаем нулевую гипотезу.')\n",
    "        else:\n",
    "            print('Нулевую гипотезу отвергнуть не удалось.')\n",
    "        counter += 1\n",
    "        print('Всего тестов выполненно:', counter)\n",
    "        print('')"
   ]
  },
  {
   "cell_type": "markdown",
   "metadata": {},
   "source": [
    "Теперь, мы можем проверить разницу между выборками А1 и А2.\n",
    "\n",
    "Применим функцию. Нам также нужно знать общее число тестов, которое мы совершим, потому добавим счетчик:"
   ]
  },
  {
   "cell_type": "code",
   "execution_count": 43,
   "metadata": {
    "scrolled": true
   },
   "outputs": [
    {
     "name": "stdout",
     "output_type": "stream",
     "text": [
      "Событие: Main_Screen_Appear\n",
      "P-значение: 0.757\n",
      "Нулевую гипотезу отвергнуть не удалось.\n",
      "Всего тестов выполненно: 1\n",
      "\n",
      "Событие: Offers_Screen_Appear\n",
      "P-значение: 0.248\n",
      "Нулевую гипотезу отвергнуть не удалось.\n",
      "Всего тестов выполненно: 2\n",
      "\n",
      "Событие: Cart_Screen_Appear\n",
      "P-значение: 0.229\n",
      "Нулевую гипотезу отвергнуть не удалось.\n",
      "Всего тестов выполненно: 3\n",
      "\n",
      "Событие: Payment_Screen_Successful\n",
      "P-значение: 0.115\n",
      "Нулевую гипотезу отвергнуть не удалось.\n",
      "Всего тестов выполненно: 4\n",
      "\n"
     ]
    }
   ],
   "source": [
    "z_test('A1', 'A2', 0.01, 0)"
   ]
  },
  {
   "cell_type": "markdown",
   "metadata": {},
   "source": [
    "Ведем счет: 4 теста выполненно."
   ]
  },
  {
   "cell_type": "markdown",
   "metadata": {},
   "source": [
    "**Вывод:**\n",
    "- Нулевую гипотезу не удалось отвергнуть по всем событиям воронки.\n",
    "- Можно сделать вывод, что статистически значимых различий между группами А1 и А2 нет."
   ]
  },
  {
   "cell_type": "markdown",
   "metadata": {},
   "source": [
    "### Статистическая значимость различий между контрольными и экспериментальной группами\n",
    "\n",
    "От нас также требуется сравнить группу с измененными шрифтами (группу В) с каждой из контрольных групп по отдельности, а потом с объединенной контрольной группой. \n",
    "\n",
    "Для этих тестов уровень статистической значимости может быть не настолько строгим. Однако, при уровне значимости в 10% каждый десятый эксперимент может дать ложный результат. \n",
    "\n",
    "Мы же планируем сделать 12 различных тестов. Потому уровень значимости решено было поднять до 5%. \n",
    "\n",
    "Для этого пороговое значение alpha далее будет равно 0.05.\n",
    "\n",
    "Укажем в счетчике цифру 4.\n",
    "\n",
    "**Эксперимент А1/В**"
   ]
  },
  {
   "cell_type": "code",
   "execution_count": 44,
   "metadata": {},
   "outputs": [
    {
     "name": "stdout",
     "output_type": "stream",
     "text": [
      "Событие: Main_Screen_Appear\n",
      "P-значение: 0.295\n",
      "Нулевую гипотезу отвергнуть не удалось.\n",
      "Всего тестов выполненно: 5\n",
      "\n",
      "Событие: Offers_Screen_Appear\n",
      "P-значение: 0.208\n",
      "Нулевую гипотезу отвергнуть не удалось.\n",
      "Всего тестов выполненно: 6\n",
      "\n",
      "Событие: Cart_Screen_Appear\n",
      "P-значение: 0.078\n",
      "Нулевую гипотезу отвергнуть не удалось.\n",
      "Всего тестов выполненно: 7\n",
      "\n",
      "Событие: Payment_Screen_Successful\n",
      "P-значение: 0.212\n",
      "Нулевую гипотезу отвергнуть не удалось.\n",
      "Всего тестов выполненно: 8\n",
      "\n"
     ]
    }
   ],
   "source": [
    "z_test('A1', 'B', 0.05, 4)"
   ]
  },
  {
   "cell_type": "markdown",
   "metadata": {},
   "source": [
    "**Эксперимент A2/B**\n",
    "\n",
    "В счетчике укажем цифру 8."
   ]
  },
  {
   "cell_type": "code",
   "execution_count": 45,
   "metadata": {},
   "outputs": [
    {
     "name": "stdout",
     "output_type": "stream",
     "text": [
      "Событие: Main_Screen_Appear\n",
      "P-значение: 0.459\n",
      "Нулевую гипотезу отвергнуть не удалось.\n",
      "Всего тестов выполненно: 9\n",
      "\n",
      "Событие: Offers_Screen_Appear\n",
      "P-значение: 0.92\n",
      "Нулевую гипотезу отвергнуть не удалось.\n",
      "Всего тестов выполненно: 10\n",
      "\n",
      "Событие: Cart_Screen_Appear\n",
      "P-значение: 0.579\n",
      "Нулевую гипотезу отвергнуть не удалось.\n",
      "Всего тестов выполненно: 11\n",
      "\n",
      "Событие: Payment_Screen_Successful\n",
      "P-значение: 0.737\n",
      "Нулевую гипотезу отвергнуть не удалось.\n",
      "Всего тестов выполненно: 12\n",
      "\n"
     ]
    }
   ],
   "source": [
    "z_test('A2', 'B', 0.05, 8)"
   ]
  },
  {
   "cell_type": "markdown",
   "metadata": {},
   "source": [
    "**Эксперимент A1+A2/B**\n",
    "\n",
    "Прежде чем продолжить, сначала добавим в таблицы users_per_group и group_count столбцы и строки со значением объединенных таблиц A1 и A2:"
   ]
  },
  {
   "cell_type": "code",
   "execution_count": 46,
   "metadata": {},
   "outputs": [
    {
     "data": {
      "text/plain": [
       "group_name\n",
       "A1       2484\n",
       "A2       2513\n",
       "B        2537\n",
       "A1+A2    4997\n",
       "Name: user_id, dtype: int64"
      ]
     },
     "execution_count": 46,
     "metadata": {},
     "output_type": "execute_result"
    }
   ],
   "source": [
    "users_per_group['A1+A2'] = users_per_group['A1'] + users_per_group['A2']\n",
    "users_per_group"
   ]
  },
  {
   "cell_type": "code",
   "execution_count": 47,
   "metadata": {
    "scrolled": true
   },
   "outputs": [
    {
     "data": {
      "text/html": [
       "<div>\n",
       "<style scoped>\n",
       "    .dataframe tbody tr th:only-of-type {\n",
       "        vertical-align: middle;\n",
       "    }\n",
       "\n",
       "    .dataframe tbody tr th {\n",
       "        vertical-align: top;\n",
       "    }\n",
       "\n",
       "    .dataframe thead th {\n",
       "        text-align: right;\n",
       "    }\n",
       "</style>\n",
       "<table border=\"1\" class=\"dataframe\">\n",
       "  <thead>\n",
       "    <tr style=\"text-align: right;\">\n",
       "      <th>group_name</th>\n",
       "      <th>event_name</th>\n",
       "      <th>A1</th>\n",
       "      <th>A2</th>\n",
       "      <th>B</th>\n",
       "      <th>total</th>\n",
       "      <th>A1_%</th>\n",
       "      <th>A2_%</th>\n",
       "      <th>B_%</th>\n",
       "      <th>total_%</th>\n",
       "      <th>A1+A2</th>\n",
       "    </tr>\n",
       "  </thead>\n",
       "  <tbody>\n",
       "    <tr>\n",
       "      <th>0</th>\n",
       "      <td>Main_Screen_Appear</td>\n",
       "      <td>2450</td>\n",
       "      <td>2476</td>\n",
       "      <td>2493</td>\n",
       "      <td>7419</td>\n",
       "      <td>98.6</td>\n",
       "      <td>98.5</td>\n",
       "      <td>98.3</td>\n",
       "      <td>98.5</td>\n",
       "      <td>4926</td>\n",
       "    </tr>\n",
       "    <tr>\n",
       "      <th>1</th>\n",
       "      <td>Offers_Screen_Appear</td>\n",
       "      <td>1542</td>\n",
       "      <td>1520</td>\n",
       "      <td>1531</td>\n",
       "      <td>4593</td>\n",
       "      <td>62.1</td>\n",
       "      <td>60.5</td>\n",
       "      <td>60.3</td>\n",
       "      <td>61.0</td>\n",
       "      <td>3062</td>\n",
       "    </tr>\n",
       "    <tr>\n",
       "      <th>2</th>\n",
       "      <td>Cart_Screen_Appear</td>\n",
       "      <td>1266</td>\n",
       "      <td>1238</td>\n",
       "      <td>1230</td>\n",
       "      <td>3734</td>\n",
       "      <td>51.0</td>\n",
       "      <td>49.3</td>\n",
       "      <td>48.5</td>\n",
       "      <td>49.6</td>\n",
       "      <td>2504</td>\n",
       "    </tr>\n",
       "    <tr>\n",
       "      <th>3</th>\n",
       "      <td>Payment_Screen_Successful</td>\n",
       "      <td>1200</td>\n",
       "      <td>1158</td>\n",
       "      <td>1181</td>\n",
       "      <td>3539</td>\n",
       "      <td>48.3</td>\n",
       "      <td>46.1</td>\n",
       "      <td>46.6</td>\n",
       "      <td>47.0</td>\n",
       "      <td>2358</td>\n",
       "    </tr>\n",
       "  </tbody>\n",
       "</table>\n",
       "</div>"
      ],
      "text/plain": [
       "group_name                 event_name    A1    A2     B  total  A1_%  A2_%  \\\n",
       "0                  Main_Screen_Appear  2450  2476  2493   7419  98.6  98.5   \n",
       "1                Offers_Screen_Appear  1542  1520  1531   4593  62.1  60.5   \n",
       "2                  Cart_Screen_Appear  1266  1238  1230   3734  51.0  49.3   \n",
       "3           Payment_Screen_Successful  1200  1158  1181   3539  48.3  46.1   \n",
       "\n",
       "group_name   B_%  total_%  A1+A2  \n",
       "0           98.3     98.5   4926  \n",
       "1           60.3     61.0   3062  \n",
       "2           48.5     49.6   2504  \n",
       "3           46.6     47.0   2358  "
      ]
     },
     "execution_count": 47,
     "metadata": {},
     "output_type": "execute_result"
    }
   ],
   "source": [
    "group_count['A1+A2'] = group_count['A1'] + group_count['A2']\n",
    "group_count"
   ]
  },
  {
   "cell_type": "markdown",
   "metadata": {},
   "source": [
    "Теперь мы можем использовать функцию. В счетчике укажем число прошедших тестов - 12:"
   ]
  },
  {
   "cell_type": "code",
   "execution_count": 48,
   "metadata": {
    "scrolled": true
   },
   "outputs": [
    {
     "name": "stdout",
     "output_type": "stream",
     "text": [
      "Событие: Main_Screen_Appear\n",
      "P-значение: 0.294\n",
      "Нулевую гипотезу отвергнуть не удалось.\n",
      "Всего тестов выполненно: 13\n",
      "\n",
      "Событие: Offers_Screen_Appear\n",
      "P-значение: 0.434\n",
      "Нулевую гипотезу отвергнуть не удалось.\n",
      "Всего тестов выполненно: 14\n",
      "\n",
      "Событие: Cart_Screen_Appear\n",
      "P-значение: 0.182\n",
      "Нулевую гипотезу отвергнуть не удалось.\n",
      "Всего тестов выполненно: 15\n",
      "\n",
      "Событие: Payment_Screen_Successful\n",
      "P-значение: 0.6\n",
      "Нулевую гипотезу отвергнуть не удалось.\n",
      "Всего тестов выполненно: 16\n",
      "\n"
     ]
    }
   ],
   "source": [
    "z_test('A1+A2', 'B', 0.05, 12)"
   ]
  },
  {
   "cell_type": "markdown",
   "metadata": {},
   "source": [
    "**Выводы:**\n",
    "- В сумме мы совершили 16 проверок.\n",
    "- Во всех тестах нулевую гипотезу не удалось отвергнуть.\n",
    "- Это значит, что среди всех групп статистически значимой разницы обнаружить не удалось.\n",
    "- Можно утверждать, что изменение шрифта на поведение пользователей никакого влияния не оказало."
   ]
  },
  {
   "cell_type": "markdown",
   "metadata": {},
   "source": [
    "## Итоги"
   ]
  },
  {
   "cell_type": "markdown",
   "metadata": {},
   "source": [
    "В ходе исследования мы совершили следующие действия:\n",
    "1. Мы обработали предоставленный датафрейм и внесли необходимые исправления:\n",
    "    - Названия столбцов заменили на более удобные и заменили на нижний регистр.\n",
    "    - Добавили столбцы с датой и датой/временем.\n",
    "    - Привели типы данных в столбцах к соответствующим.\n",
    "    - Заменили строки в столбцах event_name на более наглядные.\n",
    "    - Замени названия экспериментальных групп с набора цифр на А1, А2 и В для простоты.\n",
    "    - Удалили 413 дубликатов.\n",
    "    - Мы проверили датафрейм на пересечения пользователей между группами, и определили, что пересечение отсутствует.\n",
    "2. Мы изучили и проверили данные, предоставленные в датафрейме. Мы постановили следующее:\n",
    "    - Всего событий в логе: 243713. Уникальных пользователей в логе: 7551. Уникальных пользователей в группе А1: 2489. Уникальных пользователей в группе А2: 2520. Уникальных пользователей в группе B: 2542\n",
    "    - По среднему значению на одного пользователя приходится по 32 события. Но из-за большого числа выбросов, рациональнее использовать медианное значение: 20 событий на пользователя.\n",
    "    - Мы создали график распределения данных по времени, и узнали, мы располагаем данными за период с 2019-07-25 по 2019-08-07 числа включительно. Однако, основная масса данных приходится на период с 2019-08-01 по 2019-08-07 числа включительно. Потому мы отсекли данные за июль, чтобы они не искажали результаты дальнейшего анализа.\n",
    "    - В результате очистки мы потеряли 17 пользователей (0.23% от всех) и 2826 событий (1.16% от всех). Потери находятся в пределах допустимых значений.\n",
    "3. Мы исследовали воронку событий, и постановили следующее:\n",
    "    - Порядок воронки выглядит так: \n",
    "        1. Main_Screen_Appear, \"открытие основного экрана\" (117328 событий, самое популярное событие); \n",
    "        2. Offers_Screen_Appear, \"открытие экрана предложений\" (46333 событий);\n",
    "        3. Cart_Screen_Appear, \"открытие экрана корзины\" (42303 событий);\n",
    "        4. Payment_Screen_Successful, \"открытие экрана подтверждения оплаты\" (33918 событий).\n",
    "    - Событие Tutorial, \"открытие обучения\", в воронку событий не входит.\n",
    "    - На второй этап воронки попадает 61.2% пользователей, где 38% \"теряются\" по пути. Скорее всего где-то на основном экране находится какая-то проблема, которую следует подробнее изучить тестировщикам.\n",
    "    - В итоге от первого до последнего шага воронки доходит 47.7% пользователей, что является относительно хорошим результатом, особенно если учитывать потери на втором шаге.\n",
    "4. Мы провели ряд тестов, в которых оценивали статистические различия между группами А1, А2 и В. Мы постановили, следующее:\n",
    "    - В группе A1: 2484 пользователей. В группе A2: 2513 пользователей. В группе B: 2537 пользователей. Пользователи распределены по группам примерно равномерно.\n",
    "    - Самым популярным событием во всех группах является событие Main_Screen_Appear, \"открытие основного экрана\", набравшее 7419 пользователей (98.5%). Если распределять по группам, то выходит:\n",
    "        - Группа А1: 2450 пользователей (98.6%)\n",
    "        - Группа А2: 2476 пользователей (98.5%)\n",
    "        - Группа В: 2493 пользователей (98.3%)\n",
    "    - Мы также провели 16 различных тестов, чтобы оценить статистическую значимость различий между группами А1, А2 и В, попарно сравнивая группы по четырем шагам воронки событий:\n",
    "        - Тест А1/А2, статистическая значимость: 1%.\n",
    "        - Тест А1/В, статистическая значимость: 5%.\n",
    "        - Тест А2/В, статистическая значимость: 5%.\n",
    "        - Тест А1+А2/В, статистическая значимость: 5%.\n",
    "    - Ни один из тестов не показал присутствие статистически значимых различий между группами.\n",
    "    \n",
    "Из всего вышеперечисленного можно сделать следующие финальные заключения:\n",
    "- Требуется тестирование события \"открытие основного экрана\", чтобы выявить возможную ошибку.\n",
    "- Существенной разницы между группами обнаружено не было.\n",
    "- **Можно принять решение остановить тестирование, и заключить, что изменения шрифта никак не повлияло на поведение пользователей.**"
   ]
  },
  {
   "cell_type": "code",
   "execution_count": null,
   "metadata": {},
   "outputs": [],
   "source": []
  }
 ],
 "metadata": {
  "ExecuteTimeLog": [
   {
    "duration": 1399,
    "start_time": "2022-10-11T13:24:08.612Z"
   },
   {
    "duration": 4,
    "start_time": "2022-10-11T13:24:11.763Z"
   },
   {
    "duration": 889,
    "start_time": "2022-10-11T13:28:11.035Z"
   },
   {
    "duration": 169,
    "start_time": "2022-10-11T13:28:26.346Z"
   },
   {
    "duration": 171,
    "start_time": "2022-10-11T13:28:59.033Z"
   },
   {
    "duration": 18,
    "start_time": "2022-10-11T13:29:13.635Z"
   },
   {
    "duration": 3,
    "start_time": "2022-10-11T13:36:05.575Z"
   },
   {
    "duration": 1094,
    "start_time": "2022-10-11T13:36:24.433Z"
   },
   {
    "duration": 168,
    "start_time": "2022-10-11T13:36:25.528Z"
   },
   {
    "duration": 18,
    "start_time": "2022-10-11T13:36:25.702Z"
   },
   {
    "duration": 88,
    "start_time": "2022-10-11T13:37:24.080Z"
   },
   {
    "duration": 103,
    "start_time": "2022-10-11T13:37:31.200Z"
   },
   {
    "duration": 54,
    "start_time": "2022-10-11T13:37:34.096Z"
   },
   {
    "duration": 19,
    "start_time": "2022-10-11T13:39:02.336Z"
   },
   {
    "duration": 10,
    "start_time": "2022-10-11T13:40:10.928Z"
   },
   {
    "duration": 11,
    "start_time": "2022-10-11T13:40:16.743Z"
   },
   {
    "duration": 5,
    "start_time": "2022-10-11T13:40:23.120Z"
   },
   {
    "duration": 8,
    "start_time": "2022-10-11T13:40:34.518Z"
   },
   {
    "duration": 5,
    "start_time": "2022-10-11T13:52:51.844Z"
   },
   {
    "duration": 1805,
    "start_time": "2022-10-11T13:53:13.595Z"
   },
   {
    "duration": 10,
    "start_time": "2022-10-11T13:55:01.613Z"
   },
   {
    "duration": 78,
    "start_time": "2022-10-11T13:55:40.183Z"
   },
   {
    "duration": 95,
    "start_time": "2022-10-11T13:55:59.694Z"
   },
   {
    "duration": 25,
    "start_time": "2022-10-11T14:01:19.241Z"
   },
   {
    "duration": 327,
    "start_time": "2022-10-11T14:01:58.867Z"
   },
   {
    "duration": 3,
    "start_time": "2022-10-11T14:02:08.532Z"
   },
   {
    "duration": 156,
    "start_time": "2022-10-11T14:02:08.537Z"
   },
   {
    "duration": 18,
    "start_time": "2022-10-11T14:02:08.695Z"
   },
   {
    "duration": 19,
    "start_time": "2022-10-11T14:02:08.714Z"
   },
   {
    "duration": 15,
    "start_time": "2022-10-11T14:02:08.735Z"
   },
   {
    "duration": 8,
    "start_time": "2022-10-11T14:02:08.752Z"
   },
   {
    "duration": 82,
    "start_time": "2022-10-11T14:02:08.762Z"
   },
   {
    "duration": 39,
    "start_time": "2022-10-11T14:02:08.846Z"
   },
   {
    "duration": 4,
    "start_time": "2022-10-11T14:02:40.407Z"
   },
   {
    "duration": 145,
    "start_time": "2022-10-11T14:02:40.413Z"
   },
   {
    "duration": 15,
    "start_time": "2022-10-11T14:02:40.559Z"
   },
   {
    "duration": 25,
    "start_time": "2022-10-11T14:02:40.575Z"
   },
   {
    "duration": 6,
    "start_time": "2022-10-11T14:02:40.601Z"
   },
   {
    "duration": 8,
    "start_time": "2022-10-11T14:02:40.608Z"
   },
   {
    "duration": 78,
    "start_time": "2022-10-11T14:02:40.617Z"
   },
   {
    "duration": 23,
    "start_time": "2022-10-11T14:02:40.696Z"
   },
   {
    "duration": 19,
    "start_time": "2022-10-11T14:05:29.645Z"
   },
   {
    "duration": 54,
    "start_time": "2022-10-11T14:11:15.316Z"
   },
   {
    "duration": 43,
    "start_time": "2022-10-11T14:11:28.261Z"
   },
   {
    "duration": 60,
    "start_time": "2022-10-11T14:11:41.334Z"
   },
   {
    "duration": 78,
    "start_time": "2022-10-11T14:12:11.758Z"
   },
   {
    "duration": 3,
    "start_time": "2022-10-11T14:12:38.830Z"
   },
   {
    "duration": 3,
    "start_time": "2022-10-11T14:12:41.870Z"
   },
   {
    "duration": 170,
    "start_time": "2022-10-11T14:12:41.875Z"
   },
   {
    "duration": 18,
    "start_time": "2022-10-11T14:12:42.046Z"
   },
   {
    "duration": 46,
    "start_time": "2022-10-11T14:12:42.067Z"
   },
   {
    "duration": 5,
    "start_time": "2022-10-11T14:12:42.115Z"
   },
   {
    "duration": 10,
    "start_time": "2022-10-11T14:12:42.122Z"
   },
   {
    "duration": 79,
    "start_time": "2022-10-11T14:12:42.133Z"
   },
   {
    "duration": 19,
    "start_time": "2022-10-11T14:12:42.214Z"
   },
   {
    "duration": 3,
    "start_time": "2022-10-11T14:12:42.235Z"
   },
   {
    "duration": 52,
    "start_time": "2022-10-11T14:13:04.167Z"
   },
   {
    "duration": 1285,
    "start_time": "2022-10-11T14:14:10.414Z"
   },
   {
    "duration": 2,
    "start_time": "2022-10-11T14:15:06.370Z"
   },
   {
    "duration": 153,
    "start_time": "2022-10-11T14:15:06.375Z"
   },
   {
    "duration": 16,
    "start_time": "2022-10-11T14:15:06.530Z"
   },
   {
    "duration": 18,
    "start_time": "2022-10-11T14:15:06.548Z"
   },
   {
    "duration": 21,
    "start_time": "2022-10-11T14:15:06.567Z"
   },
   {
    "duration": 12,
    "start_time": "2022-10-11T14:15:06.589Z"
   },
   {
    "duration": 68,
    "start_time": "2022-10-11T14:15:06.602Z"
   },
   {
    "duration": 23,
    "start_time": "2022-10-11T14:15:06.671Z"
   },
   {
    "duration": 3,
    "start_time": "2022-10-11T14:15:06.695Z"
   },
   {
    "duration": 54,
    "start_time": "2022-10-11T14:15:06.700Z"
   },
   {
    "duration": 5,
    "start_time": "2022-10-11T14:15:06.756Z"
   },
   {
    "duration": 3,
    "start_time": "2022-10-11T14:16:01.437Z"
   },
   {
    "duration": 1497,
    "start_time": "2022-10-11T14:16:26.333Z"
   },
   {
    "duration": 52,
    "start_time": "2022-10-11T14:16:44.190Z"
   },
   {
    "duration": 33,
    "start_time": "2022-10-11T14:17:22.934Z"
   },
   {
    "duration": 41,
    "start_time": "2022-10-11T14:17:57.382Z"
   },
   {
    "duration": 15,
    "start_time": "2022-10-11T14:18:10.615Z"
   },
   {
    "duration": 15,
    "start_time": "2022-10-11T14:18:14.061Z"
   },
   {
    "duration": 7,
    "start_time": "2022-10-11T14:18:17.341Z"
   },
   {
    "duration": 10,
    "start_time": "2022-10-11T14:18:31.660Z"
   },
   {
    "duration": 11,
    "start_time": "2022-10-11T14:18:43.101Z"
   },
   {
    "duration": 4,
    "start_time": "2022-10-11T14:18:46.718Z"
   },
   {
    "duration": 119,
    "start_time": "2022-10-11T14:19:18.626Z"
   },
   {
    "duration": 109,
    "start_time": "2022-10-11T14:20:04.549Z"
   },
   {
    "duration": 11,
    "start_time": "2022-10-11T14:20:48.733Z"
   },
   {
    "duration": 10,
    "start_time": "2022-10-11T14:20:52.190Z"
   },
   {
    "duration": 32,
    "start_time": "2022-10-11T14:20:57.829Z"
   },
   {
    "duration": 1197,
    "start_time": "2022-10-11T14:25:55.493Z"
   },
   {
    "duration": 20,
    "start_time": "2022-10-11T14:26:02.333Z"
   },
   {
    "duration": 11,
    "start_time": "2022-10-11T14:26:40.573Z"
   },
   {
    "duration": 10,
    "start_time": "2022-10-11T14:27:10.766Z"
   },
   {
    "duration": 10,
    "start_time": "2022-10-11T14:28:05.286Z"
   },
   {
    "duration": 1648,
    "start_time": "2022-10-11T14:31:14.670Z"
   },
   {
    "duration": 1441,
    "start_time": "2022-10-11T14:31:26.895Z"
   },
   {
    "duration": 23,
    "start_time": "2022-10-11T14:31:48.541Z"
   },
   {
    "duration": 23,
    "start_time": "2022-10-11T14:32:09.713Z"
   },
   {
    "duration": 48,
    "start_time": "2022-10-12T14:48:25.676Z"
   },
   {
    "duration": 7,
    "start_time": "2022-10-12T14:49:19.241Z"
   },
   {
    "duration": 1262,
    "start_time": "2022-10-12T14:49:25.434Z"
   },
   {
    "duration": 788,
    "start_time": "2022-10-12T14:49:26.699Z"
   },
   {
    "duration": 21,
    "start_time": "2022-10-12T14:49:27.488Z"
   },
   {
    "duration": 21,
    "start_time": "2022-10-12T14:49:27.512Z"
   },
   {
    "duration": 7,
    "start_time": "2022-10-12T14:49:27.535Z"
   },
   {
    "duration": 17,
    "start_time": "2022-10-12T14:49:27.544Z"
   },
   {
    "duration": 149,
    "start_time": "2022-10-12T14:49:27.563Z"
   },
   {
    "duration": 21,
    "start_time": "2022-10-12T14:49:27.714Z"
   },
   {
    "duration": 5,
    "start_time": "2022-10-12T14:49:27.737Z"
   },
   {
    "duration": 124,
    "start_time": "2022-10-12T14:49:27.746Z"
   },
   {
    "duration": 7,
    "start_time": "2022-10-12T14:49:27.872Z"
   },
   {
    "duration": 24,
    "start_time": "2022-10-12T14:49:27.880Z"
   },
   {
    "duration": 106,
    "start_time": "2022-10-12T14:49:27.906Z"
   },
   {
    "duration": 52,
    "start_time": "2022-10-12T14:49:28.015Z"
   },
   {
    "duration": 72,
    "start_time": "2022-10-12T14:49:28.069Z"
   },
   {
    "duration": 152,
    "start_time": "2022-10-12T14:49:28.143Z"
   },
   {
    "duration": 141,
    "start_time": "2022-10-12T14:49:28.297Z"
   },
   {
    "duration": 12,
    "start_time": "2022-10-12T14:49:28.440Z"
   },
   {
    "duration": 55,
    "start_time": "2022-10-12T14:49:28.454Z"
   },
   {
    "duration": 17,
    "start_time": "2022-10-12T14:49:28.512Z"
   },
   {
    "duration": 103,
    "start_time": "2022-10-12T14:49:28.531Z"
   },
   {
    "duration": 31,
    "start_time": "2022-10-12T14:49:37.335Z"
   },
   {
    "duration": 73,
    "start_time": "2022-10-12T14:51:33.998Z"
   },
   {
    "duration": 73,
    "start_time": "2022-10-12T14:51:53.016Z"
   },
   {
    "duration": 7,
    "start_time": "2022-10-12T14:52:59.944Z"
   },
   {
    "duration": 10,
    "start_time": "2022-10-12T14:54:30.265Z"
   },
   {
    "duration": 10,
    "start_time": "2022-10-12T14:56:58.543Z"
   },
   {
    "duration": 10,
    "start_time": "2022-10-12T14:57:49.135Z"
   },
   {
    "duration": 7,
    "start_time": "2022-10-12T14:57:50.015Z"
   },
   {
    "duration": 5,
    "start_time": "2022-10-12T14:58:11.496Z"
   },
   {
    "duration": 5,
    "start_time": "2022-10-12T14:58:14.295Z"
   },
   {
    "duration": 4,
    "start_time": "2022-10-12T14:58:49.631Z"
   },
   {
    "duration": 12,
    "start_time": "2022-10-12T15:02:28.336Z"
   },
   {
    "duration": 18,
    "start_time": "2022-10-12T15:02:45.336Z"
   },
   {
    "duration": 41,
    "start_time": "2022-10-12T15:05:50.559Z"
   },
   {
    "duration": 34,
    "start_time": "2022-10-12T15:05:55.110Z"
   },
   {
    "duration": 34,
    "start_time": "2022-10-12T15:06:21.734Z"
   },
   {
    "duration": 30,
    "start_time": "2022-10-12T15:07:55.910Z"
   },
   {
    "duration": 34,
    "start_time": "2022-10-12T15:08:09.191Z"
   },
   {
    "duration": 31,
    "start_time": "2022-10-12T15:08:29.103Z"
   },
   {
    "duration": 284,
    "start_time": "2022-10-12T15:10:14.152Z"
   },
   {
    "duration": 292,
    "start_time": "2022-10-12T15:10:33.478Z"
   },
   {
    "duration": 272,
    "start_time": "2022-10-12T15:10:38.150Z"
   },
   {
    "duration": 279,
    "start_time": "2022-10-12T15:10:45.096Z"
   },
   {
    "duration": 7,
    "start_time": "2022-10-12T15:19:26.263Z"
   },
   {
    "duration": 5,
    "start_time": "2022-10-12T15:20:03.039Z"
   },
   {
    "duration": 6,
    "start_time": "2022-10-12T15:20:13.960Z"
   },
   {
    "duration": 7,
    "start_time": "2022-10-12T15:21:09.615Z"
   },
   {
    "duration": 7,
    "start_time": "2022-10-12T15:21:19.895Z"
   },
   {
    "duration": 599,
    "start_time": "2022-10-12T15:23:00.032Z"
   },
   {
    "duration": 3,
    "start_time": "2022-10-12T15:24:18.241Z"
   },
   {
    "duration": 155,
    "start_time": "2022-10-12T15:24:18.245Z"
   },
   {
    "duration": 17,
    "start_time": "2022-10-12T15:24:18.402Z"
   },
   {
    "duration": 25,
    "start_time": "2022-10-12T15:24:18.421Z"
   },
   {
    "duration": 5,
    "start_time": "2022-10-12T15:24:18.448Z"
   },
   {
    "duration": 8,
    "start_time": "2022-10-12T15:24:18.454Z"
   },
   {
    "duration": 103,
    "start_time": "2022-10-12T15:24:18.464Z"
   },
   {
    "duration": 32,
    "start_time": "2022-10-12T15:24:18.569Z"
   },
   {
    "duration": 11,
    "start_time": "2022-10-12T15:24:18.603Z"
   },
   {
    "duration": 74,
    "start_time": "2022-10-12T15:24:18.618Z"
   },
   {
    "duration": 7,
    "start_time": "2022-10-12T15:24:18.695Z"
   },
   {
    "duration": 3,
    "start_time": "2022-10-12T15:24:18.704Z"
   },
   {
    "duration": 65,
    "start_time": "2022-10-12T15:24:18.709Z"
   },
   {
    "duration": 52,
    "start_time": "2022-10-12T15:24:18.775Z"
   },
   {
    "duration": 49,
    "start_time": "2022-10-12T15:24:18.829Z"
   },
   {
    "duration": 88,
    "start_time": "2022-10-12T15:24:18.895Z"
   },
   {
    "duration": 134,
    "start_time": "2022-10-12T15:24:18.985Z"
   },
   {
    "duration": 10,
    "start_time": "2022-10-12T15:24:19.120Z"
   },
   {
    "duration": 28,
    "start_time": "2022-10-12T15:24:19.132Z"
   },
   {
    "duration": 11,
    "start_time": "2022-10-12T15:24:19.161Z"
   },
   {
    "duration": 34,
    "start_time": "2022-10-12T15:24:19.173Z"
   },
   {
    "duration": 46,
    "start_time": "2022-10-12T15:24:19.208Z"
   },
   {
    "duration": 281,
    "start_time": "2022-10-12T15:24:19.256Z"
   },
   {
    "duration": 6,
    "start_time": "2022-10-12T15:24:19.538Z"
   },
   {
    "duration": 402,
    "start_time": "2022-10-12T15:24:19.546Z"
   },
   {
    "duration": 45,
    "start_time": "2022-10-12T15:27:47.734Z"
   },
   {
    "duration": 10,
    "start_time": "2022-10-12T15:34:39.310Z"
   },
   {
    "duration": 9,
    "start_time": "2022-10-12T15:34:44.126Z"
   },
   {
    "duration": 1971,
    "start_time": "2022-10-12T15:34:48.631Z"
   },
   {
    "duration": 14,
    "start_time": "2022-10-12T15:35:55.095Z"
   },
   {
    "duration": 29,
    "start_time": "2022-10-12T15:36:22.638Z"
   },
   {
    "duration": 27,
    "start_time": "2022-10-12T15:36:32.552Z"
   },
   {
    "duration": 27,
    "start_time": "2022-10-12T15:37:00.326Z"
   },
   {
    "duration": 21,
    "start_time": "2022-10-12T15:37:02.462Z"
   },
   {
    "duration": 33,
    "start_time": "2022-10-12T15:37:24.545Z"
   },
   {
    "duration": 34,
    "start_time": "2022-10-12T15:37:28.576Z"
   },
   {
    "duration": 1377,
    "start_time": "2022-10-12T15:43:11.639Z"
   },
   {
    "duration": 1299,
    "start_time": "2022-10-12T15:47:02.124Z"
   },
   {
    "duration": 1346,
    "start_time": "2022-10-12T15:47:25.848Z"
   },
   {
    "duration": 9,
    "start_time": "2022-10-12T15:47:34.231Z"
   },
   {
    "duration": 36,
    "start_time": "2022-10-12T15:49:47.863Z"
   },
   {
    "duration": 13,
    "start_time": "2022-10-12T15:50:26.624Z"
   },
   {
    "duration": 12,
    "start_time": "2022-10-12T15:50:42.646Z"
   },
   {
    "duration": 19,
    "start_time": "2022-10-12T15:51:51.998Z"
   },
   {
    "duration": 8,
    "start_time": "2022-10-12T15:51:55.231Z"
   },
   {
    "duration": 13,
    "start_time": "2022-10-12T15:54:21.551Z"
   },
   {
    "duration": 41,
    "start_time": "2022-10-12T15:54:29.696Z"
   },
   {
    "duration": 48,
    "start_time": "2022-10-13T09:42:45.226Z"
   },
   {
    "duration": 1217,
    "start_time": "2022-10-13T09:42:49.939Z"
   },
   {
    "duration": 1015,
    "start_time": "2022-10-13T09:42:51.158Z"
   },
   {
    "duration": 21,
    "start_time": "2022-10-13T09:42:52.175Z"
   },
   {
    "duration": 25,
    "start_time": "2022-10-13T09:42:52.198Z"
   },
   {
    "duration": 6,
    "start_time": "2022-10-13T09:42:52.226Z"
   },
   {
    "duration": 15,
    "start_time": "2022-10-13T09:42:52.234Z"
   },
   {
    "duration": 102,
    "start_time": "2022-10-13T09:42:52.250Z"
   },
   {
    "duration": 25,
    "start_time": "2022-10-13T09:42:52.353Z"
   },
   {
    "duration": 17,
    "start_time": "2022-10-13T09:42:52.379Z"
   },
   {
    "duration": 62,
    "start_time": "2022-10-13T09:42:52.398Z"
   },
   {
    "duration": 6,
    "start_time": "2022-10-13T09:42:52.461Z"
   },
   {
    "duration": 29,
    "start_time": "2022-10-13T09:42:52.468Z"
   },
   {
    "duration": 67,
    "start_time": "2022-10-13T09:42:52.499Z"
   },
   {
    "duration": 51,
    "start_time": "2022-10-13T09:42:52.568Z"
   },
   {
    "duration": 54,
    "start_time": "2022-10-13T09:42:52.621Z"
   },
   {
    "duration": 122,
    "start_time": "2022-10-13T09:42:52.677Z"
   },
   {
    "duration": 143,
    "start_time": "2022-10-13T09:42:52.801Z"
   },
   {
    "duration": 11,
    "start_time": "2022-10-13T09:42:52.947Z"
   },
   {
    "duration": 48,
    "start_time": "2022-10-13T09:42:52.960Z"
   },
   {
    "duration": 13,
    "start_time": "2022-10-13T09:42:53.010Z"
   },
   {
    "duration": 75,
    "start_time": "2022-10-13T09:42:53.025Z"
   },
   {
    "duration": 56,
    "start_time": "2022-10-13T09:42:53.102Z"
   },
   {
    "duration": 357,
    "start_time": "2022-10-13T09:42:53.160Z"
   },
   {
    "duration": 8,
    "start_time": "2022-10-13T09:42:53.519Z"
   },
   {
    "duration": 731,
    "start_time": "2022-10-13T09:42:53.529Z"
   },
   {
    "duration": 24,
    "start_time": "2022-10-13T09:42:54.262Z"
   },
   {
    "duration": 53,
    "start_time": "2022-10-13T09:42:54.296Z"
   },
   {
    "duration": 14,
    "start_time": "2022-10-13T09:42:54.351Z"
   },
   {
    "duration": 18,
    "start_time": "2022-10-13T09:42:54.366Z"
   },
   {
    "duration": 69,
    "start_time": "2022-10-13T09:42:54.386Z"
   },
   {
    "duration": 26,
    "start_time": "2022-10-13T09:42:54.457Z"
   },
   {
    "duration": 129,
    "start_time": "2022-10-13T09:57:07.167Z"
   },
   {
    "duration": 68,
    "start_time": "2022-10-13T09:57:26.277Z"
   },
   {
    "duration": 1145,
    "start_time": "2022-10-13T10:01:31.120Z"
   },
   {
    "duration": 1287,
    "start_time": "2022-10-13T10:02:01.690Z"
   },
   {
    "duration": 4,
    "start_time": "2022-10-13T10:02:15.129Z"
   },
   {
    "duration": 12,
    "start_time": "2022-10-13T10:02:30.544Z"
   },
   {
    "duration": 15,
    "start_time": "2022-10-13T10:04:06.707Z"
   },
   {
    "duration": 3,
    "start_time": "2022-10-13T10:04:16.794Z"
   },
   {
    "duration": 180,
    "start_time": "2022-10-13T10:04:16.800Z"
   },
   {
    "duration": 21,
    "start_time": "2022-10-13T10:04:16.982Z"
   },
   {
    "duration": 30,
    "start_time": "2022-10-13T10:04:17.005Z"
   },
   {
    "duration": 7,
    "start_time": "2022-10-13T10:04:17.037Z"
   },
   {
    "duration": 10,
    "start_time": "2022-10-13T10:04:17.046Z"
   },
   {
    "duration": 96,
    "start_time": "2022-10-13T10:04:17.058Z"
   },
   {
    "duration": 41,
    "start_time": "2022-10-13T10:04:17.157Z"
   },
   {
    "duration": 8,
    "start_time": "2022-10-13T10:04:17.200Z"
   },
   {
    "duration": 78,
    "start_time": "2022-10-13T10:04:17.211Z"
   },
   {
    "duration": 7,
    "start_time": "2022-10-13T10:04:17.291Z"
   },
   {
    "duration": 4,
    "start_time": "2022-10-13T10:04:17.301Z"
   },
   {
    "duration": 93,
    "start_time": "2022-10-13T10:04:17.307Z"
   },
   {
    "duration": 42,
    "start_time": "2022-10-13T10:04:17.403Z"
   },
   {
    "duration": 67,
    "start_time": "2022-10-13T10:04:17.447Z"
   },
   {
    "duration": 112,
    "start_time": "2022-10-13T10:04:17.516Z"
   },
   {
    "duration": 122,
    "start_time": "2022-10-13T10:04:17.630Z"
   },
   {
    "duration": 11,
    "start_time": "2022-10-13T10:04:17.754Z"
   },
   {
    "duration": 47,
    "start_time": "2022-10-13T10:04:17.767Z"
   },
   {
    "duration": 16,
    "start_time": "2022-10-13T10:04:17.815Z"
   },
   {
    "duration": 72,
    "start_time": "2022-10-13T10:04:17.835Z"
   },
   {
    "duration": 34,
    "start_time": "2022-10-13T10:04:17.909Z"
   },
   {
    "duration": 322,
    "start_time": "2022-10-13T10:04:17.944Z"
   },
   {
    "duration": 7,
    "start_time": "2022-10-13T10:04:18.270Z"
   },
   {
    "duration": 610,
    "start_time": "2022-10-13T10:04:18.279Z"
   },
   {
    "duration": 17,
    "start_time": "2022-10-13T10:04:18.891Z"
   },
   {
    "duration": 25,
    "start_time": "2022-10-13T10:04:18.910Z"
   },
   {
    "duration": 8,
    "start_time": "2022-10-13T10:04:18.937Z"
   },
   {
    "duration": 15,
    "start_time": "2022-10-13T10:04:18.947Z"
   },
   {
    "duration": 78,
    "start_time": "2022-10-13T10:04:18.963Z"
   },
   {
    "duration": 32,
    "start_time": "2022-10-13T10:04:19.044Z"
   },
   {
    "duration": 70,
    "start_time": "2022-10-13T10:04:19.097Z"
   },
   {
    "duration": 28,
    "start_time": "2022-10-13T10:04:19.169Z"
   },
   {
    "duration": 62,
    "start_time": "2022-10-13T10:05:24.920Z"
   },
   {
    "duration": 3,
    "start_time": "2022-10-13T10:05:45.095Z"
   },
   {
    "duration": 170,
    "start_time": "2022-10-13T10:05:45.101Z"
   },
   {
    "duration": 32,
    "start_time": "2022-10-13T10:05:45.272Z"
   },
   {
    "duration": 43,
    "start_time": "2022-10-13T10:05:45.306Z"
   },
   {
    "duration": 6,
    "start_time": "2022-10-13T10:05:45.352Z"
   },
   {
    "duration": 7,
    "start_time": "2022-10-13T10:05:45.360Z"
   },
   {
    "duration": 107,
    "start_time": "2022-10-13T10:05:45.397Z"
   },
   {
    "duration": 36,
    "start_time": "2022-10-13T10:05:45.506Z"
   },
   {
    "duration": 8,
    "start_time": "2022-10-13T10:05:45.544Z"
   },
   {
    "duration": 100,
    "start_time": "2022-10-13T10:05:45.553Z"
   },
   {
    "duration": 6,
    "start_time": "2022-10-13T10:05:45.655Z"
   },
   {
    "duration": 5,
    "start_time": "2022-10-13T10:05:45.662Z"
   },
   {
    "duration": 85,
    "start_time": "2022-10-13T10:05:45.669Z"
   },
   {
    "duration": 49,
    "start_time": "2022-10-13T10:05:45.757Z"
   },
   {
    "duration": 50,
    "start_time": "2022-10-13T10:05:45.808Z"
   },
   {
    "duration": 104,
    "start_time": "2022-10-13T10:05:45.860Z"
   },
   {
    "duration": 146,
    "start_time": "2022-10-13T10:05:45.967Z"
   },
   {
    "duration": 15,
    "start_time": "2022-10-13T10:05:46.117Z"
   },
   {
    "duration": 35,
    "start_time": "2022-10-13T10:05:46.134Z"
   },
   {
    "duration": 26,
    "start_time": "2022-10-13T10:05:46.171Z"
   },
   {
    "duration": 51,
    "start_time": "2022-10-13T10:05:46.200Z"
   },
   {
    "duration": 51,
    "start_time": "2022-10-13T10:05:46.253Z"
   },
   {
    "duration": 293,
    "start_time": "2022-10-13T10:05:46.305Z"
   },
   {
    "duration": 7,
    "start_time": "2022-10-13T10:05:46.600Z"
   },
   {
    "duration": 420,
    "start_time": "2022-10-13T10:05:46.609Z"
   },
   {
    "duration": 15,
    "start_time": "2022-10-13T10:05:47.031Z"
   },
   {
    "duration": 49,
    "start_time": "2022-10-13T10:05:47.049Z"
   },
   {
    "duration": 12,
    "start_time": "2022-10-13T10:05:47.100Z"
   },
   {
    "duration": 15,
    "start_time": "2022-10-13T10:05:47.113Z"
   },
   {
    "duration": 86,
    "start_time": "2022-10-13T10:05:47.130Z"
   },
   {
    "duration": 24,
    "start_time": "2022-10-13T10:05:47.218Z"
   },
   {
    "duration": 81,
    "start_time": "2022-10-13T10:05:47.244Z"
   },
   {
    "duration": 9,
    "start_time": "2022-10-13T10:05:47.328Z"
   },
   {
    "duration": 72,
    "start_time": "2022-10-13T10:07:24.488Z"
   },
   {
    "duration": 14,
    "start_time": "2022-10-13T10:07:26.551Z"
   },
   {
    "duration": 14,
    "start_time": "2022-10-13T11:32:04.349Z"
   },
   {
    "duration": 13,
    "start_time": "2022-10-13T11:32:19.548Z"
   },
   {
    "duration": 12,
    "start_time": "2022-10-13T11:32:27.503Z"
   },
   {
    "duration": 3,
    "start_time": "2022-10-13T11:33:48.479Z"
   },
   {
    "duration": 164,
    "start_time": "2022-10-13T11:33:48.484Z"
   },
   {
    "duration": 29,
    "start_time": "2022-10-13T11:33:48.649Z"
   },
   {
    "duration": 27,
    "start_time": "2022-10-13T11:33:48.680Z"
   },
   {
    "duration": 6,
    "start_time": "2022-10-13T11:33:48.710Z"
   },
   {
    "duration": 9,
    "start_time": "2022-10-13T11:33:48.717Z"
   },
   {
    "duration": 97,
    "start_time": "2022-10-13T11:33:48.728Z"
   },
   {
    "duration": 23,
    "start_time": "2022-10-13T11:33:48.826Z"
   },
   {
    "duration": 4,
    "start_time": "2022-10-13T11:33:48.851Z"
   },
   {
    "duration": 79,
    "start_time": "2022-10-13T11:33:48.857Z"
   },
   {
    "duration": 6,
    "start_time": "2022-10-13T11:33:48.938Z"
   },
   {
    "duration": 7,
    "start_time": "2022-10-13T11:33:48.946Z"
   },
   {
    "duration": 70,
    "start_time": "2022-10-13T11:33:48.955Z"
   },
   {
    "duration": 37,
    "start_time": "2022-10-13T11:33:49.027Z"
   },
   {
    "duration": 60,
    "start_time": "2022-10-13T11:33:49.066Z"
   },
   {
    "duration": 96,
    "start_time": "2022-10-13T11:33:49.127Z"
   },
   {
    "duration": 129,
    "start_time": "2022-10-13T11:33:49.225Z"
   },
   {
    "duration": 11,
    "start_time": "2022-10-13T11:33:49.356Z"
   },
   {
    "duration": 43,
    "start_time": "2022-10-13T11:33:49.369Z"
   },
   {
    "duration": 12,
    "start_time": "2022-10-13T11:33:49.414Z"
   },
   {
    "duration": 50,
    "start_time": "2022-10-13T11:33:49.427Z"
   },
   {
    "duration": 46,
    "start_time": "2022-10-13T11:33:49.479Z"
   },
   {
    "duration": 261,
    "start_time": "2022-10-13T11:33:49.527Z"
   },
   {
    "duration": 11,
    "start_time": "2022-10-13T11:33:49.789Z"
   },
   {
    "duration": 468,
    "start_time": "2022-10-13T11:33:49.801Z"
   },
   {
    "duration": 16,
    "start_time": "2022-10-13T11:33:50.271Z"
   },
   {
    "duration": 31,
    "start_time": "2022-10-13T11:33:50.289Z"
   },
   {
    "duration": 9,
    "start_time": "2022-10-13T11:33:50.322Z"
   },
   {
    "duration": 15,
    "start_time": "2022-10-13T11:33:50.333Z"
   },
   {
    "duration": 66,
    "start_time": "2022-10-13T11:33:50.349Z"
   },
   {
    "duration": 22,
    "start_time": "2022-10-13T11:33:50.417Z"
   },
   {
    "duration": 69,
    "start_time": "2022-10-13T11:33:50.440Z"
   },
   {
    "duration": 9,
    "start_time": "2022-10-13T11:33:50.511Z"
   },
   {
    "duration": 15,
    "start_time": "2022-10-13T11:33:50.521Z"
   },
   {
    "duration": 13,
    "start_time": "2022-10-13T11:34:41.982Z"
   },
   {
    "duration": 17,
    "start_time": "2022-10-13T11:35:06.518Z"
   },
   {
    "duration": 10,
    "start_time": "2022-10-13T11:38:24.507Z"
   },
   {
    "duration": 10,
    "start_time": "2022-10-13T11:39:05.436Z"
   },
   {
    "duration": 9,
    "start_time": "2022-10-13T11:39:17.902Z"
   },
   {
    "duration": 4,
    "start_time": "2022-10-13T11:40:09.412Z"
   },
   {
    "duration": 160,
    "start_time": "2022-10-13T11:40:09.418Z"
   },
   {
    "duration": 23,
    "start_time": "2022-10-13T11:40:09.581Z"
   },
   {
    "duration": 26,
    "start_time": "2022-10-13T11:40:09.606Z"
   },
   {
    "duration": 11,
    "start_time": "2022-10-13T11:40:09.634Z"
   },
   {
    "duration": 11,
    "start_time": "2022-10-13T11:40:09.648Z"
   },
   {
    "duration": 98,
    "start_time": "2022-10-13T11:40:09.662Z"
   },
   {
    "duration": 24,
    "start_time": "2022-10-13T11:40:09.762Z"
   },
   {
    "duration": 4,
    "start_time": "2022-10-13T11:40:09.797Z"
   },
   {
    "duration": 64,
    "start_time": "2022-10-13T11:40:09.802Z"
   },
   {
    "duration": 6,
    "start_time": "2022-10-13T11:40:09.868Z"
   },
   {
    "duration": 3,
    "start_time": "2022-10-13T11:40:09.897Z"
   },
   {
    "duration": 65,
    "start_time": "2022-10-13T11:40:09.902Z"
   },
   {
    "duration": 57,
    "start_time": "2022-10-13T11:40:09.970Z"
   },
   {
    "duration": 49,
    "start_time": "2022-10-13T11:40:10.028Z"
   },
   {
    "duration": 100,
    "start_time": "2022-10-13T11:40:10.097Z"
   },
   {
    "duration": 131,
    "start_time": "2022-10-13T11:40:10.199Z"
   },
   {
    "duration": 10,
    "start_time": "2022-10-13T11:40:10.332Z"
   },
   {
    "duration": 30,
    "start_time": "2022-10-13T11:40:10.344Z"
   },
   {
    "duration": 12,
    "start_time": "2022-10-13T11:40:10.396Z"
   },
   {
    "duration": 49,
    "start_time": "2022-10-13T11:40:10.410Z"
   },
   {
    "duration": 58,
    "start_time": "2022-10-13T11:40:10.460Z"
   },
   {
    "duration": 298,
    "start_time": "2022-10-13T11:40:10.520Z"
   },
   {
    "duration": 5,
    "start_time": "2022-10-13T11:40:10.820Z"
   },
   {
    "duration": 409,
    "start_time": "2022-10-13T11:40:10.827Z"
   },
   {
    "duration": 14,
    "start_time": "2022-10-13T11:40:11.237Z"
   },
   {
    "duration": 44,
    "start_time": "2022-10-13T11:40:11.253Z"
   },
   {
    "duration": 9,
    "start_time": "2022-10-13T11:40:11.299Z"
   },
   {
    "duration": 14,
    "start_time": "2022-10-13T11:40:11.310Z"
   },
   {
    "duration": 41,
    "start_time": "2022-10-13T11:40:11.326Z"
   },
   {
    "duration": 23,
    "start_time": "2022-10-13T11:40:11.397Z"
   },
   {
    "duration": 65,
    "start_time": "2022-10-13T11:40:11.421Z"
   },
   {
    "duration": 10,
    "start_time": "2022-10-13T11:40:11.497Z"
   },
   {
    "duration": 14,
    "start_time": "2022-10-13T11:40:11.509Z"
   },
   {
    "duration": 10,
    "start_time": "2022-10-13T11:41:15.660Z"
   },
   {
    "duration": 14,
    "start_time": "2022-10-13T11:41:22.412Z"
   },
   {
    "duration": 4,
    "start_time": "2022-10-13T11:41:33.784Z"
   },
   {
    "duration": 173,
    "start_time": "2022-10-13T11:41:33.791Z"
   },
   {
    "duration": 23,
    "start_time": "2022-10-13T11:41:33.965Z"
   },
   {
    "duration": 27,
    "start_time": "2022-10-13T11:41:33.997Z"
   },
   {
    "duration": 6,
    "start_time": "2022-10-13T11:41:34.026Z"
   },
   {
    "duration": 11,
    "start_time": "2022-10-13T11:41:34.034Z"
   },
   {
    "duration": 126,
    "start_time": "2022-10-13T11:41:34.047Z"
   },
   {
    "duration": 49,
    "start_time": "2022-10-13T11:41:34.175Z"
   },
   {
    "duration": 6,
    "start_time": "2022-10-13T11:41:34.226Z"
   },
   {
    "duration": 79,
    "start_time": "2022-10-13T11:41:34.235Z"
   },
   {
    "duration": 9,
    "start_time": "2022-10-13T11:41:34.315Z"
   },
   {
    "duration": 3,
    "start_time": "2022-10-13T11:41:34.326Z"
   },
   {
    "duration": 86,
    "start_time": "2022-10-13T11:41:34.331Z"
   },
   {
    "duration": 52,
    "start_time": "2022-10-13T11:41:34.423Z"
   },
   {
    "duration": 70,
    "start_time": "2022-10-13T11:41:34.477Z"
   },
   {
    "duration": 112,
    "start_time": "2022-10-13T11:41:34.549Z"
   },
   {
    "duration": 135,
    "start_time": "2022-10-13T11:41:34.662Z"
   },
   {
    "duration": 10,
    "start_time": "2022-10-13T11:41:34.799Z"
   },
   {
    "duration": 33,
    "start_time": "2022-10-13T11:41:34.810Z"
   },
   {
    "duration": 13,
    "start_time": "2022-10-13T11:41:34.845Z"
   },
   {
    "duration": 69,
    "start_time": "2022-10-13T11:41:34.860Z"
   },
   {
    "duration": 34,
    "start_time": "2022-10-13T11:41:34.930Z"
   },
   {
    "duration": 294,
    "start_time": "2022-10-13T11:41:34.966Z"
   },
   {
    "duration": 6,
    "start_time": "2022-10-13T11:41:35.261Z"
   },
   {
    "duration": 400,
    "start_time": "2022-10-13T11:41:35.268Z"
   },
   {
    "duration": 16,
    "start_time": "2022-10-13T11:41:35.669Z"
   },
   {
    "duration": 32,
    "start_time": "2022-10-13T11:41:35.686Z"
   },
   {
    "duration": 9,
    "start_time": "2022-10-13T11:41:35.722Z"
   },
   {
    "duration": 14,
    "start_time": "2022-10-13T11:41:35.733Z"
   },
   {
    "duration": 73,
    "start_time": "2022-10-13T11:41:35.749Z"
   },
   {
    "duration": 23,
    "start_time": "2022-10-13T11:41:35.824Z"
   },
   {
    "duration": 111,
    "start_time": "2022-10-13T11:41:35.849Z"
   },
   {
    "duration": 14,
    "start_time": "2022-10-13T11:41:35.963Z"
   },
   {
    "duration": 26,
    "start_time": "2022-10-13T11:41:35.978Z"
   },
   {
    "duration": 5,
    "start_time": "2022-10-13T11:46:59.291Z"
   },
   {
    "duration": 14,
    "start_time": "2022-10-13T11:51:22.882Z"
   },
   {
    "duration": 11,
    "start_time": "2022-10-13T11:59:30.665Z"
   },
   {
    "duration": 3,
    "start_time": "2022-10-13T11:59:33.735Z"
   },
   {
    "duration": 177,
    "start_time": "2022-10-13T11:59:33.741Z"
   },
   {
    "duration": 19,
    "start_time": "2022-10-13T11:59:33.920Z"
   },
   {
    "duration": 24,
    "start_time": "2022-10-13T11:59:33.941Z"
   },
   {
    "duration": 6,
    "start_time": "2022-10-13T11:59:33.967Z"
   },
   {
    "duration": 27,
    "start_time": "2022-10-13T11:59:33.975Z"
   },
   {
    "duration": 207,
    "start_time": "2022-10-13T11:59:34.004Z"
   },
   {
    "duration": 24,
    "start_time": "2022-10-13T11:59:34.213Z"
   },
   {
    "duration": 5,
    "start_time": "2022-10-13T11:59:34.239Z"
   },
   {
    "duration": 77,
    "start_time": "2022-10-13T11:59:34.246Z"
   },
   {
    "duration": 7,
    "start_time": "2022-10-13T11:59:34.325Z"
   },
   {
    "duration": 4,
    "start_time": "2022-10-13T11:59:34.334Z"
   },
   {
    "duration": 72,
    "start_time": "2022-10-13T11:59:34.340Z"
   },
   {
    "duration": 43,
    "start_time": "2022-10-13T11:59:34.417Z"
   },
   {
    "duration": 68,
    "start_time": "2022-10-13T11:59:34.462Z"
   },
   {
    "duration": 141,
    "start_time": "2022-10-13T11:59:34.532Z"
   },
   {
    "duration": 127,
    "start_time": "2022-10-13T11:59:34.675Z"
   },
   {
    "duration": 9,
    "start_time": "2022-10-13T11:59:34.804Z"
   },
   {
    "duration": 35,
    "start_time": "2022-10-13T11:59:34.814Z"
   },
   {
    "duration": 12,
    "start_time": "2022-10-13T11:59:34.850Z"
   },
   {
    "duration": 72,
    "start_time": "2022-10-13T11:59:34.864Z"
   },
   {
    "duration": 31,
    "start_time": "2022-10-13T11:59:34.937Z"
   },
   {
    "duration": 312,
    "start_time": "2022-10-13T11:59:34.970Z"
   },
   {
    "duration": 13,
    "start_time": "2022-10-13T11:59:35.284Z"
   },
   {
    "duration": 384,
    "start_time": "2022-10-13T11:59:35.298Z"
   },
   {
    "duration": 24,
    "start_time": "2022-10-13T11:59:35.684Z"
   },
   {
    "duration": 23,
    "start_time": "2022-10-13T11:59:35.710Z"
   },
   {
    "duration": 8,
    "start_time": "2022-10-13T11:59:35.735Z"
   },
   {
    "duration": 13,
    "start_time": "2022-10-13T11:59:35.745Z"
   },
   {
    "duration": 75,
    "start_time": "2022-10-13T11:59:35.760Z"
   },
   {
    "duration": 22,
    "start_time": "2022-10-13T11:59:35.837Z"
   },
   {
    "duration": 76,
    "start_time": "2022-10-13T11:59:35.860Z"
   },
   {
    "duration": 14,
    "start_time": "2022-10-13T11:59:35.938Z"
   },
   {
    "duration": 12,
    "start_time": "2022-10-13T11:59:35.954Z"
   },
   {
    "duration": 37,
    "start_time": "2022-10-13T11:59:35.969Z"
   },
   {
    "duration": 12,
    "start_time": "2022-10-13T11:59:49.763Z"
   },
   {
    "duration": 12,
    "start_time": "2022-10-13T12:01:06.714Z"
   },
   {
    "duration": 11,
    "start_time": "2022-10-13T12:02:21.306Z"
   },
   {
    "duration": 3,
    "start_time": "2022-10-13T12:02:28.854Z"
   },
   {
    "duration": 172,
    "start_time": "2022-10-13T12:02:28.859Z"
   },
   {
    "duration": 21,
    "start_time": "2022-10-13T12:02:29.032Z"
   },
   {
    "duration": 24,
    "start_time": "2022-10-13T12:02:29.054Z"
   },
   {
    "duration": 19,
    "start_time": "2022-10-13T12:02:29.080Z"
   },
   {
    "duration": 9,
    "start_time": "2022-10-13T12:02:29.101Z"
   },
   {
    "duration": 110,
    "start_time": "2022-10-13T12:02:29.112Z"
   },
   {
    "duration": 31,
    "start_time": "2022-10-13T12:02:29.224Z"
   },
   {
    "duration": 3,
    "start_time": "2022-10-13T12:02:29.257Z"
   },
   {
    "duration": 89,
    "start_time": "2022-10-13T12:02:29.262Z"
   },
   {
    "duration": 7,
    "start_time": "2022-10-13T12:02:29.353Z"
   },
   {
    "duration": 19,
    "start_time": "2022-10-13T12:02:29.361Z"
   },
   {
    "duration": 97,
    "start_time": "2022-10-13T12:02:29.382Z"
   },
   {
    "duration": 41,
    "start_time": "2022-10-13T12:02:29.482Z"
   },
   {
    "duration": 49,
    "start_time": "2022-10-13T12:02:29.524Z"
   },
   {
    "duration": 102,
    "start_time": "2022-10-13T12:02:29.575Z"
   },
   {
    "duration": 134,
    "start_time": "2022-10-13T12:02:29.678Z"
   },
   {
    "duration": 10,
    "start_time": "2022-10-13T12:02:29.814Z"
   },
   {
    "duration": 33,
    "start_time": "2022-10-13T12:02:29.826Z"
   },
   {
    "duration": 14,
    "start_time": "2022-10-13T12:02:29.861Z"
   },
   {
    "duration": 55,
    "start_time": "2022-10-13T12:02:29.898Z"
   },
   {
    "duration": 60,
    "start_time": "2022-10-13T12:02:29.954Z"
   },
   {
    "duration": 315,
    "start_time": "2022-10-13T12:02:30.016Z"
   },
   {
    "duration": 7,
    "start_time": "2022-10-13T12:02:30.333Z"
   },
   {
    "duration": 430,
    "start_time": "2022-10-13T12:02:30.342Z"
   },
   {
    "duration": 24,
    "start_time": "2022-10-13T12:02:30.773Z"
   },
   {
    "duration": 29,
    "start_time": "2022-10-13T12:02:30.798Z"
   },
   {
    "duration": 21,
    "start_time": "2022-10-13T12:02:30.829Z"
   },
   {
    "duration": 48,
    "start_time": "2022-10-13T12:02:30.852Z"
   },
   {
    "duration": 82,
    "start_time": "2022-10-13T12:02:30.902Z"
   },
   {
    "duration": 25,
    "start_time": "2022-10-13T12:02:30.986Z"
   },
   {
    "duration": 94,
    "start_time": "2022-10-13T12:02:31.014Z"
   },
   {
    "duration": 11,
    "start_time": "2022-10-13T12:02:31.110Z"
   },
   {
    "duration": 27,
    "start_time": "2022-10-13T12:02:31.123Z"
   },
   {
    "duration": 13,
    "start_time": "2022-10-13T12:02:33.083Z"
   },
   {
    "duration": 11,
    "start_time": "2022-10-13T12:02:49.330Z"
   },
   {
    "duration": 2,
    "start_time": "2022-10-13T12:04:15.397Z"
   },
   {
    "duration": 176,
    "start_time": "2022-10-13T12:04:15.401Z"
   },
   {
    "duration": 20,
    "start_time": "2022-10-13T12:04:15.579Z"
   },
   {
    "duration": 23,
    "start_time": "2022-10-13T12:04:15.601Z"
   },
   {
    "duration": 9,
    "start_time": "2022-10-13T12:04:15.625Z"
   },
   {
    "duration": 10,
    "start_time": "2022-10-13T12:04:15.636Z"
   },
   {
    "duration": 104,
    "start_time": "2022-10-13T12:04:15.648Z"
   },
   {
    "duration": 24,
    "start_time": "2022-10-13T12:04:15.754Z"
   },
   {
    "duration": 18,
    "start_time": "2022-10-13T12:04:15.779Z"
   },
   {
    "duration": 62,
    "start_time": "2022-10-13T12:04:15.800Z"
   },
   {
    "duration": 6,
    "start_time": "2022-10-13T12:04:15.864Z"
   },
   {
    "duration": 4,
    "start_time": "2022-10-13T12:04:15.872Z"
   },
   {
    "duration": 72,
    "start_time": "2022-10-13T12:04:15.878Z"
   },
   {
    "duration": 52,
    "start_time": "2022-10-13T12:04:15.952Z"
   },
   {
    "duration": 47,
    "start_time": "2022-10-13T12:04:16.006Z"
   },
   {
    "duration": 102,
    "start_time": "2022-10-13T12:04:16.054Z"
   },
   {
    "duration": 121,
    "start_time": "2022-10-13T12:04:16.158Z"
   },
   {
    "duration": 21,
    "start_time": "2022-10-13T12:04:16.281Z"
   },
   {
    "duration": 37,
    "start_time": "2022-10-13T12:04:16.304Z"
   },
   {
    "duration": 12,
    "start_time": "2022-10-13T12:04:16.343Z"
   },
   {
    "duration": 60,
    "start_time": "2022-10-13T12:04:16.358Z"
   },
   {
    "duration": 33,
    "start_time": "2022-10-13T12:04:16.420Z"
   },
   {
    "duration": 450,
    "start_time": "2022-10-13T12:04:16.455Z"
   },
   {
    "duration": 6,
    "start_time": "2022-10-13T12:04:16.906Z"
   },
   {
    "duration": 394,
    "start_time": "2022-10-13T12:04:16.914Z"
   },
   {
    "duration": 15,
    "start_time": "2022-10-13T12:04:17.310Z"
   },
   {
    "duration": 24,
    "start_time": "2022-10-13T12:04:17.326Z"
   },
   {
    "duration": 9,
    "start_time": "2022-10-13T12:04:17.353Z"
   },
   {
    "duration": 40,
    "start_time": "2022-10-13T12:04:17.363Z"
   },
   {
    "duration": 46,
    "start_time": "2022-10-13T12:04:17.405Z"
   },
   {
    "duration": 21,
    "start_time": "2022-10-13T12:04:17.453Z"
   },
   {
    "duration": 56,
    "start_time": "2022-10-13T12:04:17.496Z"
   },
   {
    "duration": 8,
    "start_time": "2022-10-13T12:04:17.553Z"
   },
   {
    "duration": 10,
    "start_time": "2022-10-13T12:04:17.563Z"
   },
   {
    "duration": 30,
    "start_time": "2022-10-13T12:04:17.574Z"
   },
   {
    "duration": 14,
    "start_time": "2022-10-13T12:20:16.817Z"
   },
   {
    "duration": 1289,
    "start_time": "2022-10-13T12:27:09.161Z"
   },
   {
    "duration": 11,
    "start_time": "2022-10-13T12:27:23.928Z"
   },
   {
    "duration": 9,
    "start_time": "2022-10-13T12:36:17.888Z"
   },
   {
    "duration": 14,
    "start_time": "2022-10-13T12:36:26.559Z"
   },
   {
    "duration": 2,
    "start_time": "2022-10-13T12:37:10.069Z"
   },
   {
    "duration": 168,
    "start_time": "2022-10-13T12:37:10.074Z"
   },
   {
    "duration": 20,
    "start_time": "2022-10-13T12:37:10.243Z"
   },
   {
    "duration": 22,
    "start_time": "2022-10-13T12:37:10.265Z"
   },
   {
    "duration": 6,
    "start_time": "2022-10-13T12:37:10.297Z"
   },
   {
    "duration": 9,
    "start_time": "2022-10-13T12:37:10.304Z"
   },
   {
    "duration": 105,
    "start_time": "2022-10-13T12:37:10.315Z"
   },
   {
    "duration": 23,
    "start_time": "2022-10-13T12:37:10.422Z"
   },
   {
    "duration": 4,
    "start_time": "2022-10-13T12:37:10.446Z"
   },
   {
    "duration": 78,
    "start_time": "2022-10-13T12:37:10.453Z"
   },
   {
    "duration": 6,
    "start_time": "2022-10-13T12:37:10.533Z"
   },
   {
    "duration": 15,
    "start_time": "2022-10-13T12:37:10.540Z"
   },
   {
    "duration": 86,
    "start_time": "2022-10-13T12:37:10.556Z"
   },
   {
    "duration": 45,
    "start_time": "2022-10-13T12:37:10.644Z"
   },
   {
    "duration": 57,
    "start_time": "2022-10-13T12:37:10.691Z"
   },
   {
    "duration": 110,
    "start_time": "2022-10-13T12:37:10.750Z"
   },
   {
    "duration": 117,
    "start_time": "2022-10-13T12:37:10.862Z"
   },
   {
    "duration": 18,
    "start_time": "2022-10-13T12:37:10.980Z"
   },
   {
    "duration": 54,
    "start_time": "2022-10-13T12:37:11.000Z"
   },
   {
    "duration": 12,
    "start_time": "2022-10-13T12:37:11.056Z"
   },
   {
    "duration": 77,
    "start_time": "2022-10-13T12:37:11.070Z"
   },
   {
    "duration": 33,
    "start_time": "2022-10-13T12:37:11.149Z"
   },
   {
    "duration": 303,
    "start_time": "2022-10-13T12:37:11.184Z"
   },
   {
    "duration": 11,
    "start_time": "2022-10-13T12:37:11.489Z"
   },
   {
    "duration": 417,
    "start_time": "2022-10-13T12:37:11.502Z"
   },
   {
    "duration": 17,
    "start_time": "2022-10-13T12:37:11.921Z"
   },
   {
    "duration": 50,
    "start_time": "2022-10-13T12:37:11.940Z"
   },
   {
    "duration": 26,
    "start_time": "2022-10-13T12:37:11.994Z"
   },
   {
    "duration": 22,
    "start_time": "2022-10-13T12:37:12.022Z"
   },
   {
    "duration": 53,
    "start_time": "2022-10-13T12:37:12.046Z"
   },
   {
    "duration": 22,
    "start_time": "2022-10-13T12:37:12.101Z"
   },
   {
    "duration": 67,
    "start_time": "2022-10-13T12:37:12.125Z"
   },
   {
    "duration": 10,
    "start_time": "2022-10-13T12:37:12.193Z"
   },
   {
    "duration": 29,
    "start_time": "2022-10-13T12:37:12.204Z"
   },
   {
    "duration": 38,
    "start_time": "2022-10-13T12:37:12.235Z"
   },
   {
    "duration": 14,
    "start_time": "2022-10-13T12:37:12.275Z"
   },
   {
    "duration": 16,
    "start_time": "2022-10-13T12:37:12.291Z"
   },
   {
    "duration": 15,
    "start_time": "2022-10-13T12:37:52.277Z"
   },
   {
    "duration": 21,
    "start_time": "2022-10-13T12:48:06.707Z"
   },
   {
    "duration": 3,
    "start_time": "2022-10-13T12:48:28.593Z"
   },
   {
    "duration": 197,
    "start_time": "2022-10-13T12:48:28.599Z"
   },
   {
    "duration": 21,
    "start_time": "2022-10-13T12:48:28.798Z"
   },
   {
    "duration": 23,
    "start_time": "2022-10-13T12:48:28.821Z"
   },
   {
    "duration": 10,
    "start_time": "2022-10-13T12:48:28.846Z"
   },
   {
    "duration": 10,
    "start_time": "2022-10-13T12:48:28.858Z"
   },
   {
    "duration": 95,
    "start_time": "2022-10-13T12:48:28.870Z"
   },
   {
    "duration": 31,
    "start_time": "2022-10-13T12:48:28.967Z"
   },
   {
    "duration": 4,
    "start_time": "2022-10-13T12:48:29.000Z"
   },
   {
    "duration": 64,
    "start_time": "2022-10-13T12:48:29.007Z"
   },
   {
    "duration": 6,
    "start_time": "2022-10-13T12:48:29.073Z"
   },
   {
    "duration": 3,
    "start_time": "2022-10-13T12:48:29.097Z"
   },
   {
    "duration": 66,
    "start_time": "2022-10-13T12:48:29.102Z"
   },
   {
    "duration": 50,
    "start_time": "2022-10-13T12:48:29.169Z"
   },
   {
    "duration": 48,
    "start_time": "2022-10-13T12:48:29.221Z"
   },
   {
    "duration": 96,
    "start_time": "2022-10-13T12:48:29.271Z"
   },
   {
    "duration": 116,
    "start_time": "2022-10-13T12:48:29.369Z"
   },
   {
    "duration": 16,
    "start_time": "2022-10-13T12:48:29.487Z"
   },
   {
    "duration": 34,
    "start_time": "2022-10-13T12:48:29.505Z"
   },
   {
    "duration": 12,
    "start_time": "2022-10-13T12:48:29.541Z"
   },
   {
    "duration": 67,
    "start_time": "2022-10-13T12:48:29.555Z"
   },
   {
    "duration": 32,
    "start_time": "2022-10-13T12:48:29.625Z"
   },
   {
    "duration": 298,
    "start_time": "2022-10-13T12:48:29.659Z"
   },
   {
    "duration": 6,
    "start_time": "2022-10-13T12:48:29.959Z"
   },
   {
    "duration": 575,
    "start_time": "2022-10-13T12:48:29.967Z"
   },
   {
    "duration": 15,
    "start_time": "2022-10-13T12:48:30.544Z"
   },
   {
    "duration": 46,
    "start_time": "2022-10-13T12:48:30.561Z"
   },
   {
    "duration": 10,
    "start_time": "2022-10-13T12:48:30.611Z"
   },
   {
    "duration": 37,
    "start_time": "2022-10-13T12:48:30.623Z"
   },
   {
    "duration": 84,
    "start_time": "2022-10-13T12:48:30.662Z"
   },
   {
    "duration": 22,
    "start_time": "2022-10-13T12:48:30.748Z"
   },
   {
    "duration": 87,
    "start_time": "2022-10-13T12:48:30.772Z"
   },
   {
    "duration": 10,
    "start_time": "2022-10-13T12:48:30.860Z"
   },
   {
    "duration": 28,
    "start_time": "2022-10-13T12:48:30.872Z"
   },
   {
    "duration": 19,
    "start_time": "2022-10-13T12:48:30.902Z"
   },
   {
    "duration": 30,
    "start_time": "2022-10-13T12:48:30.922Z"
   },
   {
    "duration": 28,
    "start_time": "2022-10-13T12:48:30.954Z"
   },
   {
    "duration": 23,
    "start_time": "2022-10-13T12:55:35.642Z"
   },
   {
    "duration": 274,
    "start_time": "2022-10-13T12:55:44.093Z"
   },
   {
    "duration": 3,
    "start_time": "2022-10-13T12:55:50.082Z"
   },
   {
    "duration": 169,
    "start_time": "2022-10-13T12:55:50.087Z"
   },
   {
    "duration": 21,
    "start_time": "2022-10-13T12:55:50.258Z"
   },
   {
    "duration": 47,
    "start_time": "2022-10-13T12:55:50.281Z"
   },
   {
    "duration": 6,
    "start_time": "2022-10-13T12:55:50.330Z"
   },
   {
    "duration": 8,
    "start_time": "2022-10-13T12:55:50.338Z"
   },
   {
    "duration": 91,
    "start_time": "2022-10-13T12:55:50.348Z"
   },
   {
    "duration": 28,
    "start_time": "2022-10-13T12:55:50.440Z"
   },
   {
    "duration": 6,
    "start_time": "2022-10-13T12:55:50.470Z"
   },
   {
    "duration": 74,
    "start_time": "2022-10-13T12:55:50.479Z"
   },
   {
    "duration": 7,
    "start_time": "2022-10-13T12:55:50.555Z"
   },
   {
    "duration": 4,
    "start_time": "2022-10-13T12:55:50.564Z"
   },
   {
    "duration": 86,
    "start_time": "2022-10-13T12:55:50.570Z"
   },
   {
    "duration": 49,
    "start_time": "2022-10-13T12:55:50.658Z"
   },
   {
    "duration": 51,
    "start_time": "2022-10-13T12:55:50.708Z"
   },
   {
    "duration": 117,
    "start_time": "2022-10-13T12:55:50.761Z"
   },
   {
    "duration": 130,
    "start_time": "2022-10-13T12:55:50.880Z"
   },
   {
    "duration": 10,
    "start_time": "2022-10-13T12:55:51.012Z"
   },
   {
    "duration": 31,
    "start_time": "2022-10-13T12:55:51.024Z"
   },
   {
    "duration": 13,
    "start_time": "2022-10-13T12:55:51.057Z"
   },
   {
    "duration": 71,
    "start_time": "2022-10-13T12:55:51.072Z"
   },
   {
    "duration": 21,
    "start_time": "2022-10-13T12:55:51.146Z"
   },
   {
    "duration": 337,
    "start_time": "2022-10-13T12:55:51.169Z"
   },
   {
    "duration": 7,
    "start_time": "2022-10-13T12:55:51.508Z"
   },
   {
    "duration": 411,
    "start_time": "2022-10-13T12:55:51.518Z"
   },
   {
    "duration": 21,
    "start_time": "2022-10-13T12:55:51.931Z"
   },
   {
    "duration": 44,
    "start_time": "2022-10-13T12:55:51.954Z"
   },
   {
    "duration": 10,
    "start_time": "2022-10-13T12:55:52.002Z"
   },
   {
    "duration": 18,
    "start_time": "2022-10-13T12:55:52.014Z"
   },
   {
    "duration": 64,
    "start_time": "2022-10-13T12:55:52.034Z"
   },
   {
    "duration": 23,
    "start_time": "2022-10-13T12:55:52.099Z"
   },
   {
    "duration": 77,
    "start_time": "2022-10-13T12:55:52.124Z"
   },
   {
    "duration": 9,
    "start_time": "2022-10-13T12:55:52.204Z"
   },
   {
    "duration": 13,
    "start_time": "2022-10-13T12:55:52.215Z"
   },
   {
    "duration": 18,
    "start_time": "2022-10-13T12:55:52.230Z"
   },
   {
    "duration": 20,
    "start_time": "2022-10-13T12:55:52.250Z"
   },
   {
    "duration": 47,
    "start_time": "2022-10-13T12:55:52.272Z"
   },
   {
    "duration": 50,
    "start_time": "2022-10-13T15:22:11.570Z"
   },
   {
    "duration": 46,
    "start_time": "2022-10-13T15:23:14.130Z"
   },
   {
    "duration": 381,
    "start_time": "2022-10-13T15:23:53.049Z"
   },
   {
    "duration": 3,
    "start_time": "2022-10-13T15:24:04.198Z"
   },
   {
    "duration": 198,
    "start_time": "2022-10-13T15:24:04.203Z"
   },
   {
    "duration": 25,
    "start_time": "2022-10-13T15:24:04.403Z"
   },
   {
    "duration": 36,
    "start_time": "2022-10-13T15:24:04.430Z"
   },
   {
    "duration": 8,
    "start_time": "2022-10-13T15:24:04.467Z"
   },
   {
    "duration": 21,
    "start_time": "2022-10-13T15:24:04.476Z"
   },
   {
    "duration": 100,
    "start_time": "2022-10-13T15:24:04.498Z"
   },
   {
    "duration": 23,
    "start_time": "2022-10-13T15:24:04.600Z"
   },
   {
    "duration": 15,
    "start_time": "2022-10-13T15:24:04.624Z"
   },
   {
    "duration": 89,
    "start_time": "2022-10-13T15:24:04.642Z"
   },
   {
    "duration": 7,
    "start_time": "2022-10-13T15:24:04.732Z"
   },
   {
    "duration": 4,
    "start_time": "2022-10-13T15:24:04.740Z"
   },
   {
    "duration": 75,
    "start_time": "2022-10-13T15:24:04.745Z"
   },
   {
    "duration": 36,
    "start_time": "2022-10-13T15:24:04.822Z"
   },
   {
    "duration": 59,
    "start_time": "2022-10-13T15:24:04.860Z"
   },
   {
    "duration": 96,
    "start_time": "2022-10-13T15:24:04.921Z"
   },
   {
    "duration": 138,
    "start_time": "2022-10-13T15:24:05.019Z"
   },
   {
    "duration": 11,
    "start_time": "2022-10-13T15:24:05.159Z"
   },
   {
    "duration": 46,
    "start_time": "2022-10-13T15:24:05.172Z"
   },
   {
    "duration": 13,
    "start_time": "2022-10-13T15:24:05.220Z"
   },
   {
    "duration": 63,
    "start_time": "2022-10-13T15:24:05.235Z"
   },
   {
    "duration": 21,
    "start_time": "2022-10-13T15:24:05.300Z"
   },
   {
    "duration": 290,
    "start_time": "2022-10-13T15:24:05.323Z"
   },
   {
    "duration": 5,
    "start_time": "2022-10-13T15:24:05.615Z"
   },
   {
    "duration": 426,
    "start_time": "2022-10-13T15:24:05.623Z"
   },
   {
    "duration": 20,
    "start_time": "2022-10-13T15:24:06.051Z"
   },
   {
    "duration": 37,
    "start_time": "2022-10-13T15:24:06.073Z"
   },
   {
    "duration": 8,
    "start_time": "2022-10-13T15:24:06.112Z"
   },
   {
    "duration": 14,
    "start_time": "2022-10-13T15:24:06.122Z"
   },
   {
    "duration": 64,
    "start_time": "2022-10-13T15:24:06.138Z"
   },
   {
    "duration": 23,
    "start_time": "2022-10-13T15:24:06.203Z"
   },
   {
    "duration": 71,
    "start_time": "2022-10-13T15:24:06.228Z"
   },
   {
    "duration": 9,
    "start_time": "2022-10-13T15:24:06.301Z"
   },
   {
    "duration": 15,
    "start_time": "2022-10-13T15:24:06.311Z"
   },
   {
    "duration": 21,
    "start_time": "2022-10-13T15:24:06.327Z"
   },
   {
    "duration": 12,
    "start_time": "2022-10-13T15:24:06.350Z"
   },
   {
    "duration": 14,
    "start_time": "2022-10-13T15:24:06.364Z"
   },
   {
    "duration": 390,
    "start_time": "2022-10-13T15:24:06.396Z"
   },
   {
    "duration": 45,
    "start_time": "2022-10-13T15:24:40.522Z"
   },
   {
    "duration": 44,
    "start_time": "2022-10-13T15:25:37.478Z"
   },
   {
    "duration": 44,
    "start_time": "2022-10-13T15:26:53.756Z"
   },
   {
    "duration": 43,
    "start_time": "2022-10-13T16:28:14.365Z"
   },
   {
    "duration": 45,
    "start_time": "2022-10-13T16:28:52.087Z"
   },
   {
    "duration": 40,
    "start_time": "2022-10-13T16:29:16.454Z"
   },
   {
    "duration": 41,
    "start_time": "2022-10-13T16:34:21.425Z"
   },
   {
    "duration": 43,
    "start_time": "2022-10-13T16:34:39.022Z"
   },
   {
    "duration": 90,
    "start_time": "2022-10-13T16:46:57.669Z"
   },
   {
    "duration": 80,
    "start_time": "2022-10-13T16:49:29.214Z"
   },
   {
    "duration": 89,
    "start_time": "2022-10-13T17:05:08.044Z"
   },
   {
    "duration": 6,
    "start_time": "2022-10-13T17:23:05.474Z"
   },
   {
    "duration": 3,
    "start_time": "2022-10-13T17:23:28.969Z"
   },
   {
    "duration": 2,
    "start_time": "2022-10-13T17:23:36.439Z"
   },
   {
    "duration": 173,
    "start_time": "2022-10-13T17:23:36.443Z"
   },
   {
    "duration": 18,
    "start_time": "2022-10-13T17:23:36.617Z"
   },
   {
    "duration": 34,
    "start_time": "2022-10-13T17:23:36.637Z"
   },
   {
    "duration": 20,
    "start_time": "2022-10-13T17:23:36.673Z"
   },
   {
    "duration": 28,
    "start_time": "2022-10-13T17:23:36.695Z"
   },
   {
    "duration": 86,
    "start_time": "2022-10-13T17:23:36.724Z"
   },
   {
    "duration": 35,
    "start_time": "2022-10-13T17:23:36.812Z"
   },
   {
    "duration": 27,
    "start_time": "2022-10-13T17:23:36.849Z"
   },
   {
    "duration": 75,
    "start_time": "2022-10-13T17:23:36.878Z"
   },
   {
    "duration": 6,
    "start_time": "2022-10-13T17:23:36.954Z"
   },
   {
    "duration": 40,
    "start_time": "2022-10-13T17:23:36.961Z"
   },
   {
    "duration": 89,
    "start_time": "2022-10-13T17:23:37.002Z"
   },
   {
    "duration": 38,
    "start_time": "2022-10-13T17:23:37.092Z"
   },
   {
    "duration": 54,
    "start_time": "2022-10-13T17:23:37.132Z"
   },
   {
    "duration": 101,
    "start_time": "2022-10-13T17:23:37.188Z"
   },
   {
    "duration": 130,
    "start_time": "2022-10-13T17:23:37.290Z"
   },
   {
    "duration": 9,
    "start_time": "2022-10-13T17:23:37.422Z"
   },
   {
    "duration": 73,
    "start_time": "2022-10-13T17:23:37.432Z"
   },
   {
    "duration": 13,
    "start_time": "2022-10-13T17:23:37.507Z"
   },
   {
    "duration": 79,
    "start_time": "2022-10-13T17:23:37.521Z"
   },
   {
    "duration": 20,
    "start_time": "2022-10-13T17:23:37.602Z"
   },
   {
    "duration": 291,
    "start_time": "2022-10-13T17:23:37.624Z"
   },
   {
    "duration": 6,
    "start_time": "2022-10-13T17:23:37.918Z"
   },
   {
    "duration": 680,
    "start_time": "2022-10-13T17:23:37.925Z"
   },
   {
    "duration": 15,
    "start_time": "2022-10-13T17:23:38.606Z"
   },
   {
    "duration": 44,
    "start_time": "2022-10-13T17:23:38.622Z"
   },
   {
    "duration": 13,
    "start_time": "2022-10-13T17:23:38.668Z"
   },
   {
    "duration": 52,
    "start_time": "2022-10-13T17:23:38.683Z"
   },
   {
    "duration": 54,
    "start_time": "2022-10-13T17:23:38.737Z"
   },
   {
    "duration": 22,
    "start_time": "2022-10-13T17:23:38.793Z"
   },
   {
    "duration": 72,
    "start_time": "2022-10-13T17:23:38.817Z"
   },
   {
    "duration": 8,
    "start_time": "2022-10-13T17:23:38.891Z"
   },
   {
    "duration": 19,
    "start_time": "2022-10-13T17:23:38.900Z"
   },
   {
    "duration": 28,
    "start_time": "2022-10-13T17:23:38.921Z"
   },
   {
    "duration": 13,
    "start_time": "2022-10-13T17:23:38.950Z"
   },
   {
    "duration": 26,
    "start_time": "2022-10-13T17:23:38.965Z"
   },
   {
    "duration": 60,
    "start_time": "2022-10-13T17:23:38.993Z"
   },
   {
    "duration": 84,
    "start_time": "2022-10-13T17:23:39.054Z"
   },
   {
    "duration": 5,
    "start_time": "2022-10-13T17:23:39.140Z"
   },
   {
    "duration": 90,
    "start_time": "2022-10-13T17:25:31.198Z"
   },
   {
    "duration": 1210,
    "start_time": "2022-10-13T17:27:41.524Z"
   },
   {
    "duration": 110,
    "start_time": "2022-10-13T17:27:50.228Z"
   },
   {
    "duration": 12,
    "start_time": "2022-10-13T17:28:29.909Z"
   },
   {
    "duration": 4,
    "start_time": "2022-10-13T17:29:11.194Z"
   },
   {
    "duration": 4,
    "start_time": "2022-10-13T17:29:17.102Z"
   },
   {
    "duration": 178,
    "start_time": "2022-10-13T17:29:17.108Z"
   },
   {
    "duration": 27,
    "start_time": "2022-10-13T17:29:17.288Z"
   },
   {
    "duration": 24,
    "start_time": "2022-10-13T17:29:17.317Z"
   },
   {
    "duration": 7,
    "start_time": "2022-10-13T17:29:17.343Z"
   },
   {
    "duration": 15,
    "start_time": "2022-10-13T17:29:17.351Z"
   },
   {
    "duration": 87,
    "start_time": "2022-10-13T17:29:17.368Z"
   },
   {
    "duration": 25,
    "start_time": "2022-10-13T17:29:17.457Z"
   },
   {
    "duration": 4,
    "start_time": "2022-10-13T17:29:17.498Z"
   },
   {
    "duration": 67,
    "start_time": "2022-10-13T17:29:17.505Z"
   },
   {
    "duration": 8,
    "start_time": "2022-10-13T17:29:17.573Z"
   },
   {
    "duration": 4,
    "start_time": "2022-10-13T17:29:17.598Z"
   },
   {
    "duration": 62,
    "start_time": "2022-10-13T17:29:17.604Z"
   },
   {
    "duration": 57,
    "start_time": "2022-10-13T17:29:17.668Z"
   },
   {
    "duration": 53,
    "start_time": "2022-10-13T17:29:17.727Z"
   },
   {
    "duration": 90,
    "start_time": "2022-10-13T17:29:17.798Z"
   },
   {
    "duration": 132,
    "start_time": "2022-10-13T17:29:17.889Z"
   },
   {
    "duration": 11,
    "start_time": "2022-10-13T17:29:18.023Z"
   },
   {
    "duration": 43,
    "start_time": "2022-10-13T17:29:18.037Z"
   },
   {
    "duration": 23,
    "start_time": "2022-10-13T17:29:18.082Z"
   },
   {
    "duration": 67,
    "start_time": "2022-10-13T17:29:18.108Z"
   },
   {
    "duration": 27,
    "start_time": "2022-10-13T17:29:18.177Z"
   },
   {
    "duration": 286,
    "start_time": "2022-10-13T17:29:18.206Z"
   },
   {
    "duration": 5,
    "start_time": "2022-10-13T17:29:18.496Z"
   },
   {
    "duration": 474,
    "start_time": "2022-10-13T17:29:18.503Z"
   },
   {
    "duration": 25,
    "start_time": "2022-10-13T17:29:18.978Z"
   },
   {
    "duration": 25,
    "start_time": "2022-10-13T17:29:19.005Z"
   },
   {
    "duration": 9,
    "start_time": "2022-10-13T17:29:19.034Z"
   },
   {
    "duration": 14,
    "start_time": "2022-10-13T17:29:19.045Z"
   },
   {
    "duration": 68,
    "start_time": "2022-10-13T17:29:19.061Z"
   },
   {
    "duration": 23,
    "start_time": "2022-10-13T17:29:19.131Z"
   },
   {
    "duration": 71,
    "start_time": "2022-10-13T17:29:19.156Z"
   },
   {
    "duration": 9,
    "start_time": "2022-10-13T17:29:19.228Z"
   },
   {
    "duration": 13,
    "start_time": "2022-10-13T17:29:19.239Z"
   },
   {
    "duration": 11,
    "start_time": "2022-10-13T17:29:19.254Z"
   },
   {
    "duration": 31,
    "start_time": "2022-10-13T17:29:19.267Z"
   },
   {
    "duration": 17,
    "start_time": "2022-10-13T17:29:19.299Z"
   },
   {
    "duration": 47,
    "start_time": "2022-10-13T17:29:19.317Z"
   },
   {
    "duration": 122,
    "start_time": "2022-10-13T17:29:19.366Z"
   },
   {
    "duration": 12,
    "start_time": "2022-10-13T17:29:19.489Z"
   },
   {
    "duration": 19,
    "start_time": "2022-10-13T17:29:19.502Z"
   },
   {
    "duration": 5,
    "start_time": "2022-10-13T17:29:35.004Z"
   },
   {
    "duration": 14,
    "start_time": "2022-10-13T17:29:38.365Z"
   },
   {
    "duration": 6,
    "start_time": "2022-10-13T17:29:48.143Z"
   },
   {
    "duration": 11,
    "start_time": "2022-10-13T17:29:50.521Z"
   },
   {
    "duration": 6,
    "start_time": "2022-10-13T17:32:30.265Z"
   },
   {
    "duration": 11,
    "start_time": "2022-10-13T17:32:31.969Z"
   },
   {
    "duration": 5,
    "start_time": "2022-10-13T17:50:04.733Z"
   },
   {
    "duration": 404,
    "start_time": "2022-10-13T17:58:15.002Z"
   },
   {
    "duration": 39,
    "start_time": "2022-10-13T17:59:06.292Z"
   },
   {
    "duration": 36,
    "start_time": "2022-10-13T17:59:16.693Z"
   },
   {
    "duration": 34,
    "start_time": "2022-10-13T17:59:26.830Z"
   },
   {
    "duration": 21,
    "start_time": "2022-10-13T18:00:44.929Z"
   },
   {
    "duration": 5,
    "start_time": "2022-10-13T18:09:18.627Z"
   },
   {
    "duration": 62,
    "start_time": "2022-10-13T18:10:03.899Z"
   },
   {
    "duration": 5,
    "start_time": "2022-10-13T18:10:43.837Z"
   },
   {
    "duration": 53,
    "start_time": "2022-10-13T18:10:45.325Z"
   },
   {
    "duration": 59,
    "start_time": "2022-10-13T18:10:51.307Z"
   },
   {
    "duration": 17,
    "start_time": "2022-10-13T18:32:23.555Z"
   },
   {
    "duration": 10,
    "start_time": "2022-10-13T18:33:11.886Z"
   },
   {
    "duration": 7,
    "start_time": "2022-10-13T18:38:07.965Z"
   },
   {
    "duration": 10,
    "start_time": "2022-10-13T18:42:34.867Z"
   },
   {
    "duration": 53,
    "start_time": "2022-10-13T18:43:06.292Z"
   },
   {
    "duration": 69,
    "start_time": "2022-10-13T18:43:26.139Z"
   },
   {
    "duration": 10,
    "start_time": "2022-10-13T18:43:32.109Z"
   },
   {
    "duration": 13,
    "start_time": "2022-10-13T18:43:36.332Z"
   },
   {
    "duration": 10,
    "start_time": "2022-10-13T19:09:29.195Z"
   },
   {
    "duration": 11,
    "start_time": "2022-10-13T19:10:39.930Z"
   },
   {
    "duration": 7,
    "start_time": "2022-10-13T19:14:00.793Z"
   },
   {
    "duration": 14,
    "start_time": "2022-10-13T19:15:08.065Z"
   },
   {
    "duration": 11,
    "start_time": "2022-10-13T19:15:38.829Z"
   },
   {
    "duration": 3,
    "start_time": "2022-10-13T19:20:34.690Z"
   },
   {
    "duration": 172,
    "start_time": "2022-10-13T19:20:34.695Z"
   },
   {
    "duration": 21,
    "start_time": "2022-10-13T19:20:34.869Z"
   },
   {
    "duration": 26,
    "start_time": "2022-10-13T19:20:34.891Z"
   },
   {
    "duration": 6,
    "start_time": "2022-10-13T19:20:34.919Z"
   },
   {
    "duration": 9,
    "start_time": "2022-10-13T19:20:34.926Z"
   },
   {
    "duration": 115,
    "start_time": "2022-10-13T19:20:34.937Z"
   },
   {
    "duration": 26,
    "start_time": "2022-10-13T19:20:35.054Z"
   },
   {
    "duration": 6,
    "start_time": "2022-10-13T19:20:35.082Z"
   },
   {
    "duration": 72,
    "start_time": "2022-10-13T19:20:35.097Z"
   },
   {
    "duration": 7,
    "start_time": "2022-10-13T19:20:35.171Z"
   },
   {
    "duration": 4,
    "start_time": "2022-10-13T19:20:35.197Z"
   },
   {
    "duration": 69,
    "start_time": "2022-10-13T19:20:35.203Z"
   },
   {
    "duration": 58,
    "start_time": "2022-10-13T19:20:35.273Z"
   },
   {
    "duration": 44,
    "start_time": "2022-10-13T19:20:35.333Z"
   },
   {
    "duration": 113,
    "start_time": "2022-10-13T19:20:35.379Z"
   },
   {
    "duration": 137,
    "start_time": "2022-10-13T19:20:35.494Z"
   },
   {
    "duration": 11,
    "start_time": "2022-10-13T19:20:35.632Z"
   },
   {
    "duration": 33,
    "start_time": "2022-10-13T19:20:35.645Z"
   },
   {
    "duration": 32,
    "start_time": "2022-10-13T19:20:35.680Z"
   },
   {
    "duration": 50,
    "start_time": "2022-10-13T19:20:35.714Z"
   },
   {
    "duration": 41,
    "start_time": "2022-10-13T19:20:35.765Z"
   },
   {
    "duration": 275,
    "start_time": "2022-10-13T19:20:35.808Z"
   },
   {
    "duration": 12,
    "start_time": "2022-10-13T19:20:36.085Z"
   },
   {
    "duration": 394,
    "start_time": "2022-10-13T19:22:17.649Z"
   },
   {
    "duration": 280,
    "start_time": "2022-10-13T19:22:38.769Z"
   },
   {
    "duration": 460,
    "start_time": "2022-10-13T19:22:45.463Z"
   },
   {
    "duration": 697,
    "start_time": "2022-10-13T19:25:00.081Z"
   },
   {
    "duration": 1069,
    "start_time": "2022-10-13T19:41:06.914Z"
   },
   {
    "duration": 190,
    "start_time": "2022-10-13T19:41:07.985Z"
   },
   {
    "duration": 28,
    "start_time": "2022-10-13T19:41:08.177Z"
   },
   {
    "duration": 45,
    "start_time": "2022-10-13T19:41:08.207Z"
   },
   {
    "duration": 16,
    "start_time": "2022-10-13T19:41:08.255Z"
   },
   {
    "duration": 32,
    "start_time": "2022-10-13T19:41:08.273Z"
   },
   {
    "duration": 98,
    "start_time": "2022-10-13T19:41:08.307Z"
   },
   {
    "duration": 36,
    "start_time": "2022-10-13T19:41:08.406Z"
   },
   {
    "duration": 26,
    "start_time": "2022-10-13T19:41:08.444Z"
   },
   {
    "duration": 76,
    "start_time": "2022-10-13T19:41:08.471Z"
   },
   {
    "duration": 6,
    "start_time": "2022-10-13T19:41:08.549Z"
   },
   {
    "duration": 16,
    "start_time": "2022-10-13T19:41:08.556Z"
   },
   {
    "duration": 69,
    "start_time": "2022-10-13T19:41:08.574Z"
   },
   {
    "duration": 40,
    "start_time": "2022-10-13T19:41:08.647Z"
   },
   {
    "duration": 53,
    "start_time": "2022-10-13T19:41:08.689Z"
   },
   {
    "duration": 119,
    "start_time": "2022-10-13T19:41:08.745Z"
   },
   {
    "duration": 124,
    "start_time": "2022-10-13T19:41:08.865Z"
   },
   {
    "duration": 13,
    "start_time": "2022-10-13T19:41:08.991Z"
   },
   {
    "duration": 36,
    "start_time": "2022-10-13T19:41:09.006Z"
   },
   {
    "duration": 13,
    "start_time": "2022-10-13T19:41:09.044Z"
   },
   {
    "duration": 75,
    "start_time": "2022-10-13T19:41:09.058Z"
   },
   {
    "duration": 23,
    "start_time": "2022-10-13T19:41:09.134Z"
   },
   {
    "duration": 274,
    "start_time": "2022-10-13T19:41:09.158Z"
   },
   {
    "duration": 5,
    "start_time": "2022-10-13T19:41:09.434Z"
   },
   {
    "duration": 461,
    "start_time": "2022-10-13T19:41:09.440Z"
   },
   {
    "duration": 20,
    "start_time": "2022-10-13T19:41:09.903Z"
   },
   {
    "duration": 25,
    "start_time": "2022-10-13T19:41:09.925Z"
   },
   {
    "duration": 9,
    "start_time": "2022-10-13T19:41:09.952Z"
   },
   {
    "duration": 36,
    "start_time": "2022-10-13T19:41:09.963Z"
   },
   {
    "duration": 54,
    "start_time": "2022-10-13T19:41:10.000Z"
   },
   {
    "duration": 21,
    "start_time": "2022-10-13T19:41:10.056Z"
   },
   {
    "duration": 80,
    "start_time": "2022-10-13T19:41:10.079Z"
   },
   {
    "duration": 9,
    "start_time": "2022-10-13T19:41:10.161Z"
   },
   {
    "duration": 10,
    "start_time": "2022-10-13T19:41:10.172Z"
   },
   {
    "duration": 29,
    "start_time": "2022-10-13T19:41:10.183Z"
   },
   {
    "duration": 13,
    "start_time": "2022-10-13T19:41:10.213Z"
   },
   {
    "duration": 14,
    "start_time": "2022-10-13T19:41:10.228Z"
   },
   {
    "duration": 43,
    "start_time": "2022-10-13T19:41:10.244Z"
   },
   {
    "duration": 115,
    "start_time": "2022-10-13T19:41:10.297Z"
   },
   {
    "duration": 11,
    "start_time": "2022-10-13T19:41:10.414Z"
   },
   {
    "duration": 5,
    "start_time": "2022-10-13T19:41:10.428Z"
   },
   {
    "duration": 16,
    "start_time": "2022-10-13T19:41:10.435Z"
   },
   {
    "duration": 9,
    "start_time": "2022-10-13T19:41:10.453Z"
   },
   {
    "duration": 33,
    "start_time": "2022-10-13T19:41:10.463Z"
   },
   {
    "duration": 6,
    "start_time": "2022-10-13T19:41:10.498Z"
   },
   {
    "duration": 13,
    "start_time": "2022-10-13T19:41:10.506Z"
   },
   {
    "duration": 13,
    "start_time": "2022-10-13T19:41:10.521Z"
   },
   {
    "duration": 26,
    "start_time": "2022-10-13T21:54:22.940Z"
   },
   {
    "duration": 3,
    "start_time": "2022-10-13T21:54:50.747Z"
   },
   {
    "duration": 180,
    "start_time": "2022-10-13T21:54:50.751Z"
   },
   {
    "duration": 19,
    "start_time": "2022-10-13T21:54:50.933Z"
   },
   {
    "duration": 23,
    "start_time": "2022-10-13T21:54:50.953Z"
   },
   {
    "duration": 5,
    "start_time": "2022-10-13T21:54:50.996Z"
   },
   {
    "duration": 12,
    "start_time": "2022-10-13T21:54:51.002Z"
   },
   {
    "duration": 91,
    "start_time": "2022-10-13T21:54:51.016Z"
   },
   {
    "duration": 23,
    "start_time": "2022-10-13T21:54:51.108Z"
   },
   {
    "duration": 4,
    "start_time": "2022-10-13T21:54:51.133Z"
   },
   {
    "duration": 74,
    "start_time": "2022-10-13T21:54:51.138Z"
   },
   {
    "duration": 6,
    "start_time": "2022-10-13T21:54:51.213Z"
   },
   {
    "duration": 3,
    "start_time": "2022-10-13T21:54:51.220Z"
   },
   {
    "duration": 77,
    "start_time": "2022-10-13T21:54:51.225Z"
   },
   {
    "duration": 37,
    "start_time": "2022-10-13T21:54:51.305Z"
   },
   {
    "duration": 60,
    "start_time": "2022-10-13T21:54:51.344Z"
   },
   {
    "duration": 93,
    "start_time": "2022-10-13T21:54:51.406Z"
   },
   {
    "duration": 131,
    "start_time": "2022-10-13T21:54:51.501Z"
   },
   {
    "duration": 10,
    "start_time": "2022-10-13T21:54:51.634Z"
   },
   {
    "duration": 34,
    "start_time": "2022-10-13T21:54:51.645Z"
   },
   {
    "duration": 17,
    "start_time": "2022-10-13T21:54:51.681Z"
   },
   {
    "duration": 48,
    "start_time": "2022-10-13T21:54:51.699Z"
   },
   {
    "duration": 48,
    "start_time": "2022-10-13T21:54:51.750Z"
   },
   {
    "duration": 263,
    "start_time": "2022-10-13T21:54:51.799Z"
   },
   {
    "duration": 6,
    "start_time": "2022-10-13T21:54:52.064Z"
   },
   {
    "duration": 474,
    "start_time": "2022-10-13T21:54:52.071Z"
   },
   {
    "duration": 16,
    "start_time": "2022-10-13T21:54:52.546Z"
   },
   {
    "duration": 36,
    "start_time": "2022-10-13T21:54:52.563Z"
   },
   {
    "duration": 8,
    "start_time": "2022-10-13T21:54:52.600Z"
   },
   {
    "duration": 39,
    "start_time": "2022-10-13T21:54:52.610Z"
   },
   {
    "duration": 52,
    "start_time": "2022-10-13T21:54:52.651Z"
   },
   {
    "duration": 22,
    "start_time": "2022-10-13T21:54:52.705Z"
   },
   {
    "duration": 74,
    "start_time": "2022-10-13T21:54:52.729Z"
   },
   {
    "duration": 9,
    "start_time": "2022-10-13T21:54:52.805Z"
   },
   {
    "duration": 27,
    "start_time": "2022-10-13T21:54:52.816Z"
   },
   {
    "duration": 19,
    "start_time": "2022-10-13T21:54:52.845Z"
   },
   {
    "duration": 32,
    "start_time": "2022-10-13T21:54:52.865Z"
   },
   {
    "duration": 15,
    "start_time": "2022-10-13T21:54:52.898Z"
   },
   {
    "duration": 43,
    "start_time": "2022-10-13T21:54:52.914Z"
   },
   {
    "duration": 124,
    "start_time": "2022-10-13T21:54:52.958Z"
   },
   {
    "duration": 1304,
    "start_time": "2022-10-13T21:54:53.084Z"
   },
   {
    "duration": 0,
    "start_time": "2022-10-13T21:54:54.391Z"
   },
   {
    "duration": 0,
    "start_time": "2022-10-13T21:54:54.392Z"
   },
   {
    "duration": 0,
    "start_time": "2022-10-13T21:54:54.394Z"
   },
   {
    "duration": 0,
    "start_time": "2022-10-13T21:54:54.395Z"
   },
   {
    "duration": 0,
    "start_time": "2022-10-13T21:54:54.396Z"
   },
   {
    "duration": 0,
    "start_time": "2022-10-13T21:54:54.397Z"
   },
   {
    "duration": 0,
    "start_time": "2022-10-13T21:54:54.398Z"
   },
   {
    "duration": 21,
    "start_time": "2022-10-13T21:55:04.429Z"
   },
   {
    "duration": 1076,
    "start_time": "2022-10-13T22:15:08.304Z"
   },
   {
    "duration": 182,
    "start_time": "2022-10-13T22:15:09.381Z"
   },
   {
    "duration": 24,
    "start_time": "2022-10-13T22:15:09.564Z"
   },
   {
    "duration": 32,
    "start_time": "2022-10-13T22:15:09.598Z"
   },
   {
    "duration": 13,
    "start_time": "2022-10-13T22:15:09.632Z"
   },
   {
    "duration": 27,
    "start_time": "2022-10-13T22:15:09.647Z"
   },
   {
    "duration": 87,
    "start_time": "2022-10-13T22:15:09.676Z"
   },
   {
    "duration": 22,
    "start_time": "2022-10-13T22:15:09.765Z"
   },
   {
    "duration": 20,
    "start_time": "2022-10-13T22:15:09.797Z"
   },
   {
    "duration": 76,
    "start_time": "2022-10-13T22:15:09.819Z"
   },
   {
    "duration": 8,
    "start_time": "2022-10-13T22:15:09.897Z"
   },
   {
    "duration": 16,
    "start_time": "2022-10-13T22:15:09.907Z"
   },
   {
    "duration": 74,
    "start_time": "2022-10-13T22:15:09.925Z"
   },
   {
    "duration": 37,
    "start_time": "2022-10-13T22:15:10.001Z"
   },
   {
    "duration": 61,
    "start_time": "2022-10-13T22:15:10.040Z"
   },
   {
    "duration": 103,
    "start_time": "2022-10-13T22:15:10.103Z"
   },
   {
    "duration": 119,
    "start_time": "2022-10-13T22:15:10.208Z"
   },
   {
    "duration": 9,
    "start_time": "2022-10-13T22:15:10.329Z"
   },
   {
    "duration": 31,
    "start_time": "2022-10-13T22:15:10.340Z"
   },
   {
    "duration": 26,
    "start_time": "2022-10-13T22:15:10.373Z"
   },
   {
    "duration": 52,
    "start_time": "2022-10-13T22:15:10.401Z"
   },
   {
    "duration": 22,
    "start_time": "2022-10-13T22:15:10.455Z"
   },
   {
    "duration": 273,
    "start_time": "2022-10-13T22:15:10.497Z"
   },
   {
    "duration": 6,
    "start_time": "2022-10-13T22:15:10.771Z"
   },
   {
    "duration": 450,
    "start_time": "2022-10-13T22:15:10.778Z"
   },
   {
    "duration": 20,
    "start_time": "2022-10-13T22:15:11.230Z"
   },
   {
    "duration": 26,
    "start_time": "2022-10-13T22:15:11.252Z"
   },
   {
    "duration": 11,
    "start_time": "2022-10-13T22:15:11.298Z"
   },
   {
    "duration": 16,
    "start_time": "2022-10-13T22:15:11.311Z"
   },
   {
    "duration": 48,
    "start_time": "2022-10-13T22:15:11.329Z"
   },
   {
    "duration": 34,
    "start_time": "2022-10-13T22:15:11.379Z"
   },
   {
    "duration": 61,
    "start_time": "2022-10-13T22:15:11.415Z"
   },
   {
    "duration": 29,
    "start_time": "2022-10-13T22:15:11.477Z"
   },
   {
    "duration": 17,
    "start_time": "2022-10-13T22:15:11.508Z"
   },
   {
    "duration": 17,
    "start_time": "2022-10-13T22:15:11.527Z"
   },
   {
    "duration": 17,
    "start_time": "2022-10-13T22:15:11.546Z"
   },
   {
    "duration": 21,
    "start_time": "2022-10-13T22:15:11.564Z"
   },
   {
    "duration": 45,
    "start_time": "2022-10-13T22:15:11.599Z"
   },
   {
    "duration": 131,
    "start_time": "2022-10-13T22:15:11.646Z"
   },
   {
    "duration": 24,
    "start_time": "2022-10-13T22:15:11.779Z"
   },
   {
    "duration": 6,
    "start_time": "2022-10-13T22:15:11.804Z"
   },
   {
    "duration": 18,
    "start_time": "2022-10-13T22:15:11.812Z"
   },
   {
    "duration": 10,
    "start_time": "2022-10-13T22:15:11.832Z"
   },
   {
    "duration": 13,
    "start_time": "2022-10-13T22:15:11.843Z"
   },
   {
    "duration": 8,
    "start_time": "2022-10-13T22:15:11.857Z"
   },
   {
    "duration": 42,
    "start_time": "2022-10-13T22:15:11.867Z"
   },
   {
    "duration": 20,
    "start_time": "2022-10-13T22:15:11.910Z"
   },
   {
    "duration": 372,
    "start_time": "2022-10-13T22:15:31.634Z"
   },
   {
    "duration": 1089,
    "start_time": "2022-10-13T22:15:42.565Z"
   },
   {
    "duration": 170,
    "start_time": "2022-10-13T22:15:43.656Z"
   },
   {
    "duration": 19,
    "start_time": "2022-10-13T22:15:43.828Z"
   },
   {
    "duration": 23,
    "start_time": "2022-10-13T22:15:43.849Z"
   },
   {
    "duration": 24,
    "start_time": "2022-10-13T22:15:43.873Z"
   },
   {
    "duration": 17,
    "start_time": "2022-10-13T22:15:43.899Z"
   },
   {
    "duration": 100,
    "start_time": "2022-10-13T22:15:43.917Z"
   },
   {
    "duration": 29,
    "start_time": "2022-10-13T22:15:44.019Z"
   },
   {
    "duration": 24,
    "start_time": "2022-10-13T22:15:44.049Z"
   },
   {
    "duration": 68,
    "start_time": "2022-10-13T22:15:44.076Z"
   },
   {
    "duration": 6,
    "start_time": "2022-10-13T22:15:44.146Z"
   },
   {
    "duration": 20,
    "start_time": "2022-10-13T22:15:44.153Z"
   },
   {
    "duration": 73,
    "start_time": "2022-10-13T22:15:44.174Z"
   },
   {
    "duration": 36,
    "start_time": "2022-10-13T22:15:44.248Z"
   },
   {
    "duration": 56,
    "start_time": "2022-10-13T22:15:44.286Z"
   },
   {
    "duration": 110,
    "start_time": "2022-10-13T22:15:44.344Z"
   },
   {
    "duration": 128,
    "start_time": "2022-10-13T22:15:44.456Z"
   },
   {
    "duration": 11,
    "start_time": "2022-10-13T22:15:44.586Z"
   },
   {
    "duration": 42,
    "start_time": "2022-10-13T22:15:44.599Z"
   },
   {
    "duration": 14,
    "start_time": "2022-10-13T22:15:44.643Z"
   },
   {
    "duration": 62,
    "start_time": "2022-10-13T22:15:44.658Z"
   },
   {
    "duration": 21,
    "start_time": "2022-10-13T22:15:44.722Z"
   },
   {
    "duration": 269,
    "start_time": "2022-10-13T22:15:44.745Z"
   },
   {
    "duration": 6,
    "start_time": "2022-10-13T22:15:45.015Z"
   },
   {
    "duration": 454,
    "start_time": "2022-10-13T22:15:45.022Z"
   },
   {
    "duration": 25,
    "start_time": "2022-10-13T22:15:45.478Z"
   },
   {
    "duration": 30,
    "start_time": "2022-10-13T22:15:45.504Z"
   },
   {
    "duration": 10,
    "start_time": "2022-10-13T22:15:45.537Z"
   },
   {
    "duration": 29,
    "start_time": "2022-10-13T22:15:45.548Z"
   },
   {
    "duration": 57,
    "start_time": "2022-10-13T22:15:45.579Z"
   },
   {
    "duration": 21,
    "start_time": "2022-10-13T22:15:45.638Z"
   },
   {
    "duration": 66,
    "start_time": "2022-10-13T22:15:45.660Z"
   },
   {
    "duration": 9,
    "start_time": "2022-10-13T22:15:45.727Z"
   },
   {
    "duration": 8,
    "start_time": "2022-10-13T22:15:45.738Z"
   },
   {
    "duration": 19,
    "start_time": "2022-10-13T22:15:45.747Z"
   },
   {
    "duration": 21,
    "start_time": "2022-10-13T22:15:45.767Z"
   },
   {
    "duration": 30,
    "start_time": "2022-10-13T22:15:45.797Z"
   },
   {
    "duration": 49,
    "start_time": "2022-10-13T22:15:45.828Z"
   },
   {
    "duration": 113,
    "start_time": "2022-10-13T22:15:45.879Z"
   },
   {
    "duration": 17,
    "start_time": "2022-10-13T22:15:45.993Z"
   },
   {
    "duration": 16,
    "start_time": "2022-10-13T22:15:46.011Z"
   },
   {
    "duration": 29,
    "start_time": "2022-10-13T22:15:46.029Z"
   },
   {
    "duration": 13,
    "start_time": "2022-10-13T22:15:46.059Z"
   },
   {
    "duration": 22,
    "start_time": "2022-10-13T22:15:46.074Z"
   },
   {
    "duration": 18,
    "start_time": "2022-10-13T22:15:46.097Z"
   },
   {
    "duration": 20,
    "start_time": "2022-10-13T22:15:46.116Z"
   },
   {
    "duration": 26,
    "start_time": "2022-10-13T22:15:46.138Z"
   },
   {
    "duration": 1065,
    "start_time": "2022-10-14T10:24:12.275Z"
   },
   {
    "duration": 161,
    "start_time": "2022-10-14T10:24:13.342Z"
   },
   {
    "duration": 19,
    "start_time": "2022-10-14T10:24:13.505Z"
   },
   {
    "duration": 27,
    "start_time": "2022-10-14T10:24:13.526Z"
   },
   {
    "duration": 15,
    "start_time": "2022-10-14T10:24:13.556Z"
   },
   {
    "duration": 37,
    "start_time": "2022-10-14T10:24:13.573Z"
   },
   {
    "duration": 80,
    "start_time": "2022-10-14T10:24:13.612Z"
   },
   {
    "duration": 29,
    "start_time": "2022-10-14T10:24:13.693Z"
   },
   {
    "duration": 16,
    "start_time": "2022-10-14T10:24:13.724Z"
   },
   {
    "duration": 78,
    "start_time": "2022-10-14T10:24:13.742Z"
   },
   {
    "duration": 6,
    "start_time": "2022-10-14T10:24:13.822Z"
   },
   {
    "duration": 23,
    "start_time": "2022-10-14T10:24:13.829Z"
   },
   {
    "duration": 73,
    "start_time": "2022-10-14T10:24:13.853Z"
   },
   {
    "duration": 31,
    "start_time": "2022-10-14T10:24:13.929Z"
   },
   {
    "duration": 54,
    "start_time": "2022-10-14T10:24:13.962Z"
   },
   {
    "duration": 103,
    "start_time": "2022-10-14T10:24:14.017Z"
   },
   {
    "duration": 122,
    "start_time": "2022-10-14T10:24:14.122Z"
   },
   {
    "duration": 10,
    "start_time": "2022-10-14T10:24:14.246Z"
   },
   {
    "duration": 43,
    "start_time": "2022-10-14T10:24:14.257Z"
   },
   {
    "duration": 10,
    "start_time": "2022-10-14T10:24:14.302Z"
   },
   {
    "duration": 46,
    "start_time": "2022-10-14T10:24:14.313Z"
   },
   {
    "duration": 20,
    "start_time": "2022-10-14T10:24:14.360Z"
   },
   {
    "duration": 267,
    "start_time": "2022-10-14T10:24:14.381Z"
   },
   {
    "duration": 5,
    "start_time": "2022-10-14T10:24:14.649Z"
   },
   {
    "duration": 508,
    "start_time": "2022-10-14T10:24:14.696Z"
   },
   {
    "duration": 20,
    "start_time": "2022-10-14T10:24:15.206Z"
   },
   {
    "duration": 24,
    "start_time": "2022-10-14T10:24:15.228Z"
   },
   {
    "duration": 9,
    "start_time": "2022-10-14T10:24:15.254Z"
   },
   {
    "duration": 35,
    "start_time": "2022-10-14T10:24:15.264Z"
   },
   {
    "duration": 47,
    "start_time": "2022-10-14T10:24:15.300Z"
   },
   {
    "duration": 19,
    "start_time": "2022-10-14T10:24:15.348Z"
   },
   {
    "duration": 70,
    "start_time": "2022-10-14T10:24:15.369Z"
   },
   {
    "duration": 11,
    "start_time": "2022-10-14T10:24:15.440Z"
   },
   {
    "duration": 9,
    "start_time": "2022-10-14T10:24:15.453Z"
   },
   {
    "duration": 33,
    "start_time": "2022-10-14T10:24:15.463Z"
   },
   {
    "duration": 13,
    "start_time": "2022-10-14T10:24:15.498Z"
   },
   {
    "duration": 15,
    "start_time": "2022-10-14T10:24:15.512Z"
   },
   {
    "duration": 45,
    "start_time": "2022-10-14T10:24:15.528Z"
   },
   {
    "duration": 132,
    "start_time": "2022-10-14T10:24:15.575Z"
   },
   {
    "duration": 16,
    "start_time": "2022-10-14T10:24:15.709Z"
   },
   {
    "duration": 9,
    "start_time": "2022-10-14T10:24:15.728Z"
   },
   {
    "duration": 16,
    "start_time": "2022-10-14T10:24:15.738Z"
   },
   {
    "duration": 9,
    "start_time": "2022-10-14T10:24:15.756Z"
   },
   {
    "duration": 32,
    "start_time": "2022-10-14T10:24:15.766Z"
   },
   {
    "duration": 6,
    "start_time": "2022-10-14T10:24:15.799Z"
   },
   {
    "duration": 13,
    "start_time": "2022-10-14T10:24:15.806Z"
   },
   {
    "duration": 12,
    "start_time": "2022-10-14T10:24:15.820Z"
   },
   {
    "duration": 10,
    "start_time": "2022-10-14T11:17:56.367Z"
   },
   {
    "duration": 1354,
    "start_time": "2022-10-14T11:24:56.537Z"
   },
   {
    "duration": 783,
    "start_time": "2022-10-14T11:24:57.894Z"
   },
   {
    "duration": 32,
    "start_time": "2022-10-14T11:24:58.678Z"
   },
   {
    "duration": 29,
    "start_time": "2022-10-14T11:24:58.713Z"
   },
   {
    "duration": 6,
    "start_time": "2022-10-14T11:24:58.744Z"
   },
   {
    "duration": 13,
    "start_time": "2022-10-14T11:24:58.751Z"
   },
   {
    "duration": 105,
    "start_time": "2022-10-14T11:24:58.766Z"
   },
   {
    "duration": 40,
    "start_time": "2022-10-14T11:24:58.873Z"
   },
   {
    "duration": 11,
    "start_time": "2022-10-14T11:24:58.916Z"
   },
   {
    "duration": 74,
    "start_time": "2022-10-14T11:24:58.929Z"
   },
   {
    "duration": 9,
    "start_time": "2022-10-14T11:24:59.005Z"
   },
   {
    "duration": 7,
    "start_time": "2022-10-14T11:24:59.017Z"
   },
   {
    "duration": 95,
    "start_time": "2022-10-14T11:24:59.026Z"
   },
   {
    "duration": 36,
    "start_time": "2022-10-14T11:24:59.124Z"
   },
   {
    "duration": 72,
    "start_time": "2022-10-14T11:24:59.162Z"
   },
   {
    "duration": 112,
    "start_time": "2022-10-14T11:24:59.236Z"
   },
   {
    "duration": 129,
    "start_time": "2022-10-14T11:24:59.350Z"
   },
   {
    "duration": 10,
    "start_time": "2022-10-14T11:24:59.480Z"
   },
   {
    "duration": 43,
    "start_time": "2022-10-14T11:24:59.496Z"
   },
   {
    "duration": 128,
    "start_time": "2022-10-14T11:27:25.523Z"
   },
   {
    "duration": 86,
    "start_time": "2022-10-14T11:27:34.216Z"
   },
   {
    "duration": 79,
    "start_time": "2022-10-14T11:27:50.651Z"
   },
   {
    "duration": 72,
    "start_time": "2022-10-14T11:30:53.124Z"
   },
   {
    "duration": 73,
    "start_time": "2022-10-14T11:30:59.723Z"
   },
   {
    "duration": 73,
    "start_time": "2022-10-14T11:31:21.019Z"
   },
   {
    "duration": 1107,
    "start_time": "2022-10-14T11:33:48.577Z"
   },
   {
    "duration": 179,
    "start_time": "2022-10-14T11:33:49.686Z"
   },
   {
    "duration": 32,
    "start_time": "2022-10-14T11:33:49.867Z"
   },
   {
    "duration": 26,
    "start_time": "2022-10-14T11:33:49.902Z"
   },
   {
    "duration": 12,
    "start_time": "2022-10-14T11:33:49.930Z"
   },
   {
    "duration": 14,
    "start_time": "2022-10-14T11:33:49.943Z"
   },
   {
    "duration": 90,
    "start_time": "2022-10-14T11:33:49.959Z"
   },
   {
    "duration": 26,
    "start_time": "2022-10-14T11:33:50.051Z"
   },
   {
    "duration": 4,
    "start_time": "2022-10-14T11:33:50.096Z"
   },
   {
    "duration": 64,
    "start_time": "2022-10-14T11:33:50.104Z"
   },
   {
    "duration": 7,
    "start_time": "2022-10-14T11:33:50.169Z"
   },
   {
    "duration": 21,
    "start_time": "2022-10-14T11:33:50.178Z"
   },
   {
    "duration": 69,
    "start_time": "2022-10-14T11:33:50.201Z"
   },
   {
    "duration": 47,
    "start_time": "2022-10-14T11:33:50.272Z"
   },
   {
    "duration": 48,
    "start_time": "2022-10-14T11:33:50.321Z"
   },
   {
    "duration": 109,
    "start_time": "2022-10-14T11:33:50.371Z"
   },
   {
    "duration": 124,
    "start_time": "2022-10-14T11:33:50.481Z"
   },
   {
    "duration": 9,
    "start_time": "2022-10-14T11:33:50.607Z"
   },
   {
    "duration": 49,
    "start_time": "2022-10-14T11:33:50.618Z"
   },
   {
    "duration": 93,
    "start_time": "2022-10-14T11:33:50.671Z"
   },
   {
    "duration": 13,
    "start_time": "2022-10-14T11:33:50.765Z"
   },
   {
    "duration": 60,
    "start_time": "2022-10-14T11:33:50.779Z"
   },
   {
    "duration": 26,
    "start_time": "2022-10-14T11:33:50.840Z"
   },
   {
    "duration": 330,
    "start_time": "2022-10-14T11:33:50.868Z"
   },
   {
    "duration": 6,
    "start_time": "2022-10-14T11:33:51.200Z"
   },
   {
    "duration": 494,
    "start_time": "2022-10-14T11:33:51.208Z"
   },
   {
    "duration": 22,
    "start_time": "2022-10-14T11:33:51.703Z"
   },
   {
    "duration": 27,
    "start_time": "2022-10-14T11:33:51.729Z"
   },
   {
    "duration": 9,
    "start_time": "2022-10-14T11:33:51.758Z"
   },
   {
    "duration": 37,
    "start_time": "2022-10-14T11:33:51.769Z"
   },
   {
    "duration": 45,
    "start_time": "2022-10-14T11:33:51.808Z"
   },
   {
    "duration": 23,
    "start_time": "2022-10-14T11:33:51.854Z"
   },
   {
    "duration": 87,
    "start_time": "2022-10-14T11:33:51.879Z"
   },
   {
    "duration": 29,
    "start_time": "2022-10-14T11:33:51.968Z"
   },
   {
    "duration": 10,
    "start_time": "2022-10-14T11:33:51.999Z"
   },
   {
    "duration": 20,
    "start_time": "2022-10-14T11:33:52.011Z"
   },
   {
    "duration": 12,
    "start_time": "2022-10-14T11:33:52.033Z"
   },
   {
    "duration": 17,
    "start_time": "2022-10-14T11:33:52.047Z"
   },
   {
    "duration": 62,
    "start_time": "2022-10-14T11:33:52.066Z"
   },
   {
    "duration": 119,
    "start_time": "2022-10-14T11:33:52.130Z"
   },
   {
    "duration": 17,
    "start_time": "2022-10-14T11:33:52.251Z"
   },
   {
    "duration": 8,
    "start_time": "2022-10-14T11:33:52.270Z"
   },
   {
    "duration": 116,
    "start_time": "2022-10-14T11:33:52.280Z"
   },
   {
    "duration": 0,
    "start_time": "2022-10-14T11:33:52.398Z"
   },
   {
    "duration": 0,
    "start_time": "2022-10-14T11:33:52.399Z"
   },
   {
    "duration": 0,
    "start_time": "2022-10-14T11:33:52.400Z"
   },
   {
    "duration": 0,
    "start_time": "2022-10-14T11:33:52.401Z"
   },
   {
    "duration": 0,
    "start_time": "2022-10-14T11:33:52.403Z"
   },
   {
    "duration": 5,
    "start_time": "2022-10-14T11:35:24.835Z"
   },
   {
    "duration": 5,
    "start_time": "2022-10-14T11:42:14.826Z"
   },
   {
    "duration": 6,
    "start_time": "2022-10-14T11:43:07.952Z"
   },
   {
    "duration": 13,
    "start_time": "2022-10-14T11:43:16.467Z"
   },
   {
    "duration": 5,
    "start_time": "2022-10-14T11:43:31.385Z"
   },
   {
    "duration": 11,
    "start_time": "2022-10-14T11:43:32.762Z"
   },
   {
    "duration": 10,
    "start_time": "2022-10-14T11:44:10.920Z"
   },
   {
    "duration": 11,
    "start_time": "2022-10-14T11:44:12.691Z"
   },
   {
    "duration": 6,
    "start_time": "2022-10-14T11:45:12.344Z"
   },
   {
    "duration": 11,
    "start_time": "2022-10-14T11:45:18.296Z"
   },
   {
    "duration": 12,
    "start_time": "2022-10-14T11:45:40.666Z"
   },
   {
    "duration": 12,
    "start_time": "2022-10-14T11:46:01.976Z"
   },
   {
    "duration": 6,
    "start_time": "2022-10-14T11:46:39.358Z"
   },
   {
    "duration": 13,
    "start_time": "2022-10-14T11:46:40.337Z"
   },
   {
    "duration": 13,
    "start_time": "2022-10-14T11:46:43.134Z"
   },
   {
    "duration": 1132,
    "start_time": "2022-10-14T11:50:59.541Z"
   },
   {
    "duration": 176,
    "start_time": "2022-10-14T11:51:00.676Z"
   },
   {
    "duration": 21,
    "start_time": "2022-10-14T11:51:00.853Z"
   },
   {
    "duration": 34,
    "start_time": "2022-10-14T11:51:00.876Z"
   },
   {
    "duration": 16,
    "start_time": "2022-10-14T11:51:00.911Z"
   },
   {
    "duration": 23,
    "start_time": "2022-10-14T11:51:00.929Z"
   },
   {
    "duration": 92,
    "start_time": "2022-10-14T11:51:00.953Z"
   },
   {
    "duration": 36,
    "start_time": "2022-10-14T11:51:01.047Z"
   },
   {
    "duration": 19,
    "start_time": "2022-10-14T11:51:01.085Z"
   },
   {
    "duration": 80,
    "start_time": "2022-10-14T11:51:01.107Z"
   },
   {
    "duration": 6,
    "start_time": "2022-10-14T11:51:01.189Z"
   },
   {
    "duration": 23,
    "start_time": "2022-10-14T11:51:01.197Z"
   },
   {
    "duration": 80,
    "start_time": "2022-10-14T11:51:01.222Z"
   },
   {
    "duration": 37,
    "start_time": "2022-10-14T11:51:01.304Z"
   },
   {
    "duration": 58,
    "start_time": "2022-10-14T11:51:01.343Z"
   },
   {
    "duration": 102,
    "start_time": "2022-10-14T11:51:01.403Z"
   },
   {
    "duration": 124,
    "start_time": "2022-10-14T11:51:01.507Z"
   },
   {
    "duration": 10,
    "start_time": "2022-10-14T11:51:01.633Z"
   },
   {
    "duration": 33,
    "start_time": "2022-10-14T11:51:01.645Z"
   },
   {
    "duration": 88,
    "start_time": "2022-10-14T11:51:01.680Z"
   },
   {
    "duration": 29,
    "start_time": "2022-10-14T11:51:01.770Z"
   },
   {
    "duration": 57,
    "start_time": "2022-10-14T11:51:01.801Z"
   },
   {
    "duration": 24,
    "start_time": "2022-10-14T11:51:01.860Z"
   },
   {
    "duration": 282,
    "start_time": "2022-10-14T11:51:01.897Z"
   },
   {
    "duration": 5,
    "start_time": "2022-10-14T11:51:02.181Z"
   },
   {
    "duration": 483,
    "start_time": "2022-10-14T11:51:02.187Z"
   },
   {
    "duration": 30,
    "start_time": "2022-10-14T11:51:02.672Z"
   },
   {
    "duration": 26,
    "start_time": "2022-10-14T11:51:02.706Z"
   },
   {
    "duration": 10,
    "start_time": "2022-10-14T11:51:02.735Z"
   },
   {
    "duration": 14,
    "start_time": "2022-10-14T11:51:02.747Z"
   },
   {
    "duration": 78,
    "start_time": "2022-10-14T11:51:02.763Z"
   },
   {
    "duration": 23,
    "start_time": "2022-10-14T11:51:02.843Z"
   },
   {
    "duration": 76,
    "start_time": "2022-10-14T11:51:02.869Z"
   },
   {
    "duration": 11,
    "start_time": "2022-10-14T11:51:02.947Z"
   },
   {
    "duration": 10,
    "start_time": "2022-10-14T11:51:02.959Z"
   },
   {
    "duration": 34,
    "start_time": "2022-10-14T11:51:02.970Z"
   },
   {
    "duration": 12,
    "start_time": "2022-10-14T11:51:03.006Z"
   },
   {
    "duration": 14,
    "start_time": "2022-10-14T11:51:03.020Z"
   },
   {
    "duration": 62,
    "start_time": "2022-10-14T11:51:03.036Z"
   },
   {
    "duration": 123,
    "start_time": "2022-10-14T11:51:03.100Z"
   },
   {
    "duration": 18,
    "start_time": "2022-10-14T11:51:03.224Z"
   },
   {
    "duration": 6,
    "start_time": "2022-10-14T11:51:03.244Z"
   },
   {
    "duration": 15,
    "start_time": "2022-10-14T11:51:03.252Z"
   },
   {
    "duration": 36,
    "start_time": "2022-10-14T11:51:03.269Z"
   },
   {
    "duration": 12,
    "start_time": "2022-10-14T11:51:03.307Z"
   },
   {
    "duration": 8,
    "start_time": "2022-10-14T11:51:03.321Z"
   },
   {
    "duration": 16,
    "start_time": "2022-10-14T11:51:03.331Z"
   },
   {
    "duration": 12,
    "start_time": "2022-10-14T11:51:03.348Z"
   },
   {
    "duration": 1286,
    "start_time": "2022-10-26T13:48:48.194Z"
   },
   {
    "duration": 578,
    "start_time": "2022-10-26T13:48:49.482Z"
   },
   {
    "duration": 32,
    "start_time": "2022-10-26T13:48:50.061Z"
   },
   {
    "duration": 46,
    "start_time": "2022-10-26T13:48:50.095Z"
   },
   {
    "duration": 19,
    "start_time": "2022-10-26T13:48:50.142Z"
   },
   {
    "duration": 43,
    "start_time": "2022-10-26T13:48:50.163Z"
   },
   {
    "duration": 83,
    "start_time": "2022-10-26T13:48:50.208Z"
   },
   {
    "duration": 32,
    "start_time": "2022-10-26T13:48:50.293Z"
   },
   {
    "duration": 26,
    "start_time": "2022-10-26T13:48:50.330Z"
   },
   {
    "duration": 81,
    "start_time": "2022-10-26T13:48:50.358Z"
   },
   {
    "duration": 5,
    "start_time": "2022-10-26T13:48:50.441Z"
   },
   {
    "duration": 22,
    "start_time": "2022-10-26T13:48:50.448Z"
   },
   {
    "duration": 87,
    "start_time": "2022-10-26T13:48:50.472Z"
   },
   {
    "duration": 34,
    "start_time": "2022-10-26T13:48:50.561Z"
   },
   {
    "duration": 63,
    "start_time": "2022-10-26T13:48:50.597Z"
   },
   {
    "duration": 101,
    "start_time": "2022-10-26T13:48:50.661Z"
   },
   {
    "duration": 132,
    "start_time": "2022-10-26T13:48:50.764Z"
   },
   {
    "duration": 10,
    "start_time": "2022-10-26T13:48:50.898Z"
   },
   {
    "duration": 49,
    "start_time": "2022-10-26T13:48:50.909Z"
   },
   {
    "duration": 72,
    "start_time": "2022-10-26T13:48:50.960Z"
   },
   {
    "duration": 15,
    "start_time": "2022-10-26T13:48:51.037Z"
   },
   {
    "duration": 92,
    "start_time": "2022-10-26T13:48:51.054Z"
   },
   {
    "duration": 27,
    "start_time": "2022-10-26T13:48:51.148Z"
   },
   {
    "duration": 281,
    "start_time": "2022-10-26T13:48:51.177Z"
   },
   {
    "duration": 5,
    "start_time": "2022-10-26T13:48:51.460Z"
   },
   {
    "duration": 467,
    "start_time": "2022-10-26T13:48:51.466Z"
   },
   {
    "duration": 20,
    "start_time": "2022-10-26T13:48:51.939Z"
   },
   {
    "duration": 23,
    "start_time": "2022-10-26T13:48:51.962Z"
   },
   {
    "duration": 9,
    "start_time": "2022-10-26T13:48:51.986Z"
   },
   {
    "duration": 43,
    "start_time": "2022-10-26T13:48:51.996Z"
   },
   {
    "duration": 55,
    "start_time": "2022-10-26T13:48:52.041Z"
   },
   {
    "duration": 21,
    "start_time": "2022-10-26T13:48:52.097Z"
   },
   {
    "duration": 66,
    "start_time": "2022-10-26T13:48:52.121Z"
   },
   {
    "duration": 9,
    "start_time": "2022-10-26T13:48:52.188Z"
   },
   {
    "duration": 20,
    "start_time": "2022-10-26T13:48:52.198Z"
   },
   {
    "duration": 27,
    "start_time": "2022-10-26T13:48:52.219Z"
   },
   {
    "duration": 19,
    "start_time": "2022-10-26T13:48:52.247Z"
   },
   {
    "duration": 27,
    "start_time": "2022-10-26T13:48:52.267Z"
   },
   {
    "duration": 53,
    "start_time": "2022-10-26T13:48:52.295Z"
   },
   {
    "duration": 115,
    "start_time": "2022-10-26T13:48:52.350Z"
   },
   {
    "duration": 15,
    "start_time": "2022-10-26T13:48:52.466Z"
   },
   {
    "duration": 19,
    "start_time": "2022-10-26T13:48:52.482Z"
   },
   {
    "duration": 29,
    "start_time": "2022-10-26T13:48:52.502Z"
   },
   {
    "duration": 12,
    "start_time": "2022-10-26T13:48:52.538Z"
   },
   {
    "duration": 23,
    "start_time": "2022-10-26T13:48:52.551Z"
   },
   {
    "duration": 5,
    "start_time": "2022-10-26T13:48:52.576Z"
   },
   {
    "duration": 16,
    "start_time": "2022-10-26T13:48:52.582Z"
   },
   {
    "duration": 19,
    "start_time": "2022-10-26T13:48:52.600Z"
   }
  ],
  "kernelspec": {
   "display_name": "Python 3 (ipykernel)",
   "language": "python",
   "name": "python3"
  },
  "language_info": {
   "codemirror_mode": {
    "name": "ipython",
    "version": 3
   },
   "file_extension": ".py",
   "mimetype": "text/x-python",
   "name": "python",
   "nbconvert_exporter": "python",
   "pygments_lexer": "ipython3",
   "version": "3.9.7"
  },
  "toc": {
   "base_numbering": 1,
   "nav_menu": {},
   "number_sections": true,
   "sideBar": true,
   "skip_h1_title": true,
   "title_cell": "Table of Contents",
   "title_sidebar": "Contents",
   "toc_cell": false,
   "toc_position": {
    "height": "calc(100% - 180px)",
    "left": "10px",
    "top": "150px",
    "width": "165px"
   },
   "toc_section_display": true,
   "toc_window_display": true
  }
 },
 "nbformat": 4,
 "nbformat_minor": 2
}
